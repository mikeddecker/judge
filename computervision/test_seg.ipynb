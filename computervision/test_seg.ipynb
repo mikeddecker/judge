{
 "cells": [
  {
   "cell_type": "code",
   "execution_count": 1,
   "metadata": {},
   "outputs": [
    {
     "data": {
      "text/plain": [
       "True"
      ]
     },
     "execution_count": 1,
     "metadata": {},
     "output_type": "execute_result"
    }
   ],
   "source": [
    "import os\n",
    "import torch\n",
    "import pandas as pd\n",
    "from managers.DataRepository import DataRepository\n",
    "from constants import PYTORCH_MODELS_SKILLS\n",
    "from dotenv import load_dotenv\n",
    "load_dotenv()\n"
   ]
  },
  {
   "cell_type": "code",
   "execution_count": 2,
   "metadata": {},
   "outputs": [
    {
     "name": "stdout",
     "output_type": "stream",
     "text": [
      "connection established, loading frame paths\n",
      "relative paths of framelabels loaded\n",
      "Using device: cuda\n"
     ]
    }
   ],
   "source": [
    "modelparams = {\n",
    "    # \"balancedType\" : \"jump_return_push_frog_other\",\n",
    "    \"balancedType\" : \"limit_10procent\",\n",
    "    \"dim\" : 224,\n",
    "    \"timesteps\" : 16,\n",
    "    \"batch_size\" : 1,\n",
    "}\n",
    "modelname = \"HAR_SA_Conv3D\"\n",
    "modelname = \"HAR_MViT\"\n",
    "\n",
    "repo = DataRepository()\n",
    "\n",
    "STORAGE_DIR = os.getenv(\"STORAGE_DIR\")\n",
    "LABELS_FOLDER = \"labels\"\n",
    "SUPPORTED_VIDEO_FORMATS = os.getenv(\"SUPPORTED_VIDEO_FORMATS\")\n",
    "CROPPED_VIDEOS_FOLDER = os.getenv(\"CROPPED_VIDEOS_FOLDER\")\n",
    "MODELWEIGHT_PATH = \"weights\"\n",
    "\n",
    "\n",
    "device = torch.device('cuda' if torch.cuda.is_available() else 'cpu')\n",
    "print(f\"Using device: {device}\")"
   ]
  },
  {
   "cell_type": "code",
   "execution_count": 4,
   "metadata": {},
   "outputs": [
    {
     "name": "stdout",
     "output_type": "stream",
     "text": [
      "connection established, loading frame paths\n",
      "relative paths of framelabels loaded\n"
     ]
    }
   ],
   "source": [
    "if modelname not in PYTORCH_MODELS_SKILLS.keys():\n",
    "    raise ValueError(modelname)\n",
    "\n",
    "\n",
    "# TODO : update to use best val checkpoint \n",
    "modelPath = os.path.join(MODELWEIGHT_PATH, f\"{modelname}_segmentation.state_dict.pt\")\n",
    "checkpointPath = os.path.join(MODELWEIGHT_PATH, f\"{modelname}_segmentation.checkpoint.pt\")\n",
    "\n",
    "\n",
    "DIM = 224\n",
    "repo = DataRepository()\n",
    "model = PYTORCH_MODELS_SKILLS[modelname](modelinfo=modelparams, df_table_counts=repo.get_skill_category_counts(), skill_or_segment='segment').to(device)\n",
    "\n",
    "if  os.path.exists(checkpointPath):\n",
    "    checkpoint = torch.load(checkpointPath, weights_only=False)\n",
    "    model.load_state_dict(checkpoint['model_state_dict'])\n",
    "    epoch_start = checkpoint['epoch'] + 1\n",
    "    losses = checkpoint['losses']\n",
    "    # accuracies = {} if 'accuracies' not in checkpoint.keys() else checkpoint['accuracies']\n",
    "    # class_reports = {} if 'class_reports' not in checkpoint.keys() else checkpoint['class_reports']\n",
    "else:\n",
    "    raise ValueError(checkpointPath)\n"
   ]
  },
  {
   "cell_type": "code",
   "execution_count": 7,
   "metadata": {},
   "outputs": [
    {
     "name": "stdout",
     "output_type": "stream",
     "text": [
      "MSE\n"
     ]
    },
    {
     "data": {
      "text/plain": [
       "[0.11013392290240089,\n",
       " 0.10956239373898713,\n",
       " 0.10830800209184284,\n",
       " 0.10814449955666808,\n",
       " 0.07170604578004458,\n",
       " 0.07812239349254158,\n",
       " 0.06506704930106398]"
      ]
     },
     "execution_count": 7,
     "metadata": {},
     "output_type": "execute_result"
    }
   ],
   "source": [
    "print(\"MSE\")\n",
    "losses"
   ]
  },
  {
   "cell_type": "code",
   "execution_count": 6,
   "metadata": {},
   "outputs": [
    {
     "data": {
      "text/plain": [
       "7"
      ]
     },
     "execution_count": 6,
     "metadata": {},
     "output_type": "execute_result"
    }
   ],
   "source": [
    "epoch_start"
   ]
  }
 ],
 "metadata": {
  "kernelspec": {
   "display_name": ".venv",
   "language": "python",
   "name": "python3"
  },
  "language_info": {
   "codemirror_mode": {
    "name": "ipython",
    "version": 3
   },
   "file_extension": ".py",
   "mimetype": "text/x-python",
   "name": "python",
   "nbconvert_exporter": "python",
   "pygments_lexer": "ipython3",
   "version": "3.12.3"
  }
 },
 "nbformat": 4,
 "nbformat_minor": 2
}
