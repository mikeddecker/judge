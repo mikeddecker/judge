{
 "cells": [
  {
   "cell_type": "code",
   "execution_count": 1,
   "metadata": {},
   "outputs": [
    {
     "name": "stderr",
     "output_type": "stream",
     "text": [
      "2025-01-17 13:07:48.172965: I tensorflow/core/util/port.cc:153] oneDNN custom operations are on. You may see slightly different numerical results due to floating-point round-off errors from different computation orders. To turn them off, set the environment variable `TF_ENABLE_ONEDNN_OPTS=0`.\n",
      "2025-01-17 13:07:48.183543: E external/local_xla/xla/stream_executor/cuda/cuda_fft.cc:477] Unable to register cuFFT factory: Attempting to register factory for plugin cuFFT when one has already been registered\n",
      "WARNING: All log messages before absl::InitializeLog() is called are written to STDERR\n",
      "E0000 00:00:1737115668.197061  106481 cuda_dnn.cc:8310] Unable to register cuDNN factory: Attempting to register factory for plugin cuDNN when one has already been registered\n",
      "E0000 00:00:1737115668.201246  106481 cuda_blas.cc:1418] Unable to register cuBLAS factory: Attempting to register factory for plugin cuBLAS when one has already been registered\n",
      "2025-01-17 13:07:48.214642: I tensorflow/core/platform/cpu_feature_guard.cc:210] This TensorFlow binary is optimized to use available CPU instructions in performance-critical operations.\n",
      "To enable the following instructions: AVX2 AVX_VNNI FMA, in other operations, rebuild TensorFlow with the appropriate compiler flags.\n",
      "2025-01-17 13:07:51.726617: E external/local_xla/xla/stream_executor/cuda/cuda_driver.cc:152] failed call to cuInit: INTERNAL: CUDA error: Failed call to cuInit: CUDA_ERROR_UNKNOWN: unknown error\n",
      "2025-01-17 13:07:51.726656: I external/local_xla/xla/stream_executor/cuda/cuda_diagnostics.cc:137] retrieving CUDA diagnostic information for host: miked-Nitro-V15\n",
      "2025-01-17 13:07:51.726666: I external/local_xla/xla/stream_executor/cuda/cuda_diagnostics.cc:144] hostname: miked-Nitro-V15\n",
      "2025-01-17 13:07:51.726835: I external/local_xla/xla/stream_executor/cuda/cuda_diagnostics.cc:168] libcuda reported version is: 550.142.0\n",
      "2025-01-17 13:07:51.726860: I external/local_xla/xla/stream_executor/cuda/cuda_diagnostics.cc:172] kernel reported version is: 550.142.0\n",
      "2025-01-17 13:07:51.726883: I external/local_xla/xla/stream_executor/cuda/cuda_diagnostics.cc:259] kernel version seems to match DSO: 550.142.0\n"
     ]
    },
    {
     "data": {
      "text/html": [
       "<pre style=\"white-space:pre;overflow-x:auto;line-height:normal;font-family:Menlo,'DejaVu Sans Mono',consolas,'Courier New',monospace\"><span style=\"font-weight: bold\">Model: \"sequential\"</span>\n",
       "</pre>\n"
      ],
      "text/plain": [
       "\u001b[1mModel: \"sequential\"\u001b[0m\n"
      ]
     },
     "metadata": {},
     "output_type": "display_data"
    },
    {
     "data": {
      "text/html": [
       "<pre style=\"white-space:pre;overflow-x:auto;line-height:normal;font-family:Menlo,'DejaVu Sans Mono',consolas,'Courier New',monospace\">┏━━━━━━━━━━━━━━━━━━━━━━━━━━━━━━━━━┳━━━━━━━━━━━━━━━━━━━━━━━━┳━━━━━━━━━━━━━━━┓\n",
       "┃<span style=\"font-weight: bold\"> Layer (type)                    </span>┃<span style=\"font-weight: bold\"> Output Shape           </span>┃<span style=\"font-weight: bold\">       Param # </span>┃\n",
       "┡━━━━━━━━━━━━━━━━━━━━━━━━━━━━━━━━━╇━━━━━━━━━━━━━━━━━━━━━━━━╇━━━━━━━━━━━━━━━┩\n",
       "│ MobileNetV3Small (<span style=\"color: #0087ff; text-decoration-color: #0087ff\">Functional</span>)   │ (<span style=\"color: #00d7ff; text-decoration-color: #00d7ff\">None</span>, <span style=\"color: #00af00; text-decoration-color: #00af00\">576</span>)            │       <span style=\"color: #00af00; text-decoration-color: #00af00\">939,120</span> │\n",
       "├─────────────────────────────────┼────────────────────────┼───────────────┤\n",
       "│ dense (<span style=\"color: #0087ff; text-decoration-color: #0087ff\">Dense</span>)                   │ (<span style=\"color: #00d7ff; text-decoration-color: #00d7ff\">None</span>, <span style=\"color: #00af00; text-decoration-color: #00af00\">512</span>)            │       <span style=\"color: #00af00; text-decoration-color: #00af00\">295,424</span> │\n",
       "├─────────────────────────────────┼────────────────────────┼───────────────┤\n",
       "│ dense_1 (<span style=\"color: #0087ff; text-decoration-color: #0087ff\">Dense</span>)                 │ (<span style=\"color: #00d7ff; text-decoration-color: #00d7ff\">None</span>, <span style=\"color: #00af00; text-decoration-color: #00af00\">128</span>)            │        <span style=\"color: #00af00; text-decoration-color: #00af00\">65,664</span> │\n",
       "├─────────────────────────────────┼────────────────────────┼───────────────┤\n",
       "│ dense_2 (<span style=\"color: #0087ff; text-decoration-color: #0087ff\">Dense</span>)                 │ (<span style=\"color: #00d7ff; text-decoration-color: #00d7ff\">None</span>, <span style=\"color: #00af00; text-decoration-color: #00af00\">4</span>)              │           <span style=\"color: #00af00; text-decoration-color: #00af00\">516</span> │\n",
       "└─────────────────────────────────┴────────────────────────┴───────────────┘\n",
       "</pre>\n"
      ],
      "text/plain": [
       "┏━━━━━━━━━━━━━━━━━━━━━━━━━━━━━━━━━┳━━━━━━━━━━━━━━━━━━━━━━━━┳━━━━━━━━━━━━━━━┓\n",
       "┃\u001b[1m \u001b[0m\u001b[1mLayer (type)                   \u001b[0m\u001b[1m \u001b[0m┃\u001b[1m \u001b[0m\u001b[1mOutput Shape          \u001b[0m\u001b[1m \u001b[0m┃\u001b[1m \u001b[0m\u001b[1m      Param #\u001b[0m\u001b[1m \u001b[0m┃\n",
       "┡━━━━━━━━━━━━━━━━━━━━━━━━━━━━━━━━━╇━━━━━━━━━━━━━━━━━━━━━━━━╇━━━━━━━━━━━━━━━┩\n",
       "│ MobileNetV3Small (\u001b[38;5;33mFunctional\u001b[0m)   │ (\u001b[38;5;45mNone\u001b[0m, \u001b[38;5;34m576\u001b[0m)            │       \u001b[38;5;34m939,120\u001b[0m │\n",
       "├─────────────────────────────────┼────────────────────────┼───────────────┤\n",
       "│ dense (\u001b[38;5;33mDense\u001b[0m)                   │ (\u001b[38;5;45mNone\u001b[0m, \u001b[38;5;34m512\u001b[0m)            │       \u001b[38;5;34m295,424\u001b[0m │\n",
       "├─────────────────────────────────┼────────────────────────┼───────────────┤\n",
       "│ dense_1 (\u001b[38;5;33mDense\u001b[0m)                 │ (\u001b[38;5;45mNone\u001b[0m, \u001b[38;5;34m128\u001b[0m)            │        \u001b[38;5;34m65,664\u001b[0m │\n",
       "├─────────────────────────────────┼────────────────────────┼───────────────┤\n",
       "│ dense_2 (\u001b[38;5;33mDense\u001b[0m)                 │ (\u001b[38;5;45mNone\u001b[0m, \u001b[38;5;34m4\u001b[0m)              │           \u001b[38;5;34m516\u001b[0m │\n",
       "└─────────────────────────────────┴────────────────────────┴───────────────┘\n"
      ]
     },
     "metadata": {},
     "output_type": "display_data"
    },
    {
     "data": {
      "text/html": [
       "<pre style=\"white-space:pre;overflow-x:auto;line-height:normal;font-family:Menlo,'DejaVu Sans Mono',consolas,'Courier New',monospace\"><span style=\"font-weight: bold\"> Total params: </span><span style=\"color: #00af00; text-decoration-color: #00af00\">1,300,724</span> (4.96 MB)\n",
       "</pre>\n"
      ],
      "text/plain": [
       "\u001b[1m Total params: \u001b[0m\u001b[38;5;34m1,300,724\u001b[0m (4.96 MB)\n"
      ]
     },
     "metadata": {},
     "output_type": "display_data"
    },
    {
     "data": {
      "text/html": [
       "<pre style=\"white-space:pre;overflow-x:auto;line-height:normal;font-family:Menlo,'DejaVu Sans Mono',consolas,'Courier New',monospace\"><span style=\"font-weight: bold\"> Trainable params: </span><span style=\"color: #00af00; text-decoration-color: #00af00\">361,604</span> (1.38 MB)\n",
       "</pre>\n"
      ],
      "text/plain": [
       "\u001b[1m Trainable params: \u001b[0m\u001b[38;5;34m361,604\u001b[0m (1.38 MB)\n"
      ]
     },
     "metadata": {},
     "output_type": "display_data"
    },
    {
     "data": {
      "text/html": [
       "<pre style=\"white-space:pre;overflow-x:auto;line-height:normal;font-family:Menlo,'DejaVu Sans Mono',consolas,'Courier New',monospace\"><span style=\"font-weight: bold\"> Non-trainable params: </span><span style=\"color: #00af00; text-decoration-color: #00af00\">939,120</span> (3.58 MB)\n",
       "</pre>\n"
      ],
      "text/plain": [
       "\u001b[1m Non-trainable params: \u001b[0m\u001b[38;5;34m939,120\u001b[0m (3.58 MB)\n"
      ]
     },
     "metadata": {},
     "output_type": "display_data"
    },
    {
     "name": "stdout",
     "output_type": "stream",
     "text": [
      "connection established, loading frame paths\n",
      "rel paths of framelabels loaded\n",
      "connection established, loading frame paths\n",
      "rel paths of framelabels loaded\n",
      "DataGeneratorSkillBorders init done\n",
      "connection established, loading frame paths\n",
      "rel paths of framelabels loaded\n",
      "DataGeneratorSkillBorders init done\n",
      "Epoch 1/2\n",
      "\u001b[1m1/1\u001b[0m \u001b[32m━━━━━━━━━━━━━━━━━━━━\u001b[0m\u001b[37m\u001b[0m \u001b[1m0s\u001b[0m 9s/step - iou: 0.2100 - loss: 0.0220\n",
      "Epoch 1: val_loss improved from inf to 0.00644, saving model to weights/last_trained_model_best.keras\n",
      "\u001b[1m1/1\u001b[0m \u001b[32m━━━━━━━━━━━━━━━━━━━━\u001b[0m\u001b[37m\u001b[0m \u001b[1m20s\u001b[0m 20s/step - iou: 0.2100 - loss: 0.0220 - val_iou: 0.3023 - val_loss: 0.0064 - learning_rate: 0.0010\n",
      "Epoch 2/2\n",
      "\u001b[1m1/1\u001b[0m \u001b[32m━━━━━━━━━━━━━━━━━━━━\u001b[0m\u001b[37m\u001b[0m \u001b[1m0s\u001b[0m 6s/step - iou: 0.2861 - loss: 0.0087\n",
      "Epoch 2: val_loss did not improve from 0.00644\n",
      "\u001b[1m1/1\u001b[0m \u001b[32m━━━━━━━━━━━━━━━━━━━━\u001b[0m\u001b[37m\u001b[0m \u001b[1m11s\u001b[0m 11s/step - iou: 0.2861 - loss: 0.0087 - val_iou: 0.2393 - val_loss: 0.0080 - learning_rate: 0.0010\n",
      "connection established, loading frame paths\n",
      "rel paths of framelabels loaded\n",
      "connection established, loading frame paths\n",
      "rel paths of framelabels loaded\n",
      "DataGeneratorSkillBorders init done\n",
      "connection established, loading frame paths\n",
      "rel paths of framelabels loaded\n",
      "DataGeneratorSkillBorders init done\n",
      "Epoch 1/2\n",
      "\u001b[1m1/1\u001b[0m \u001b[32m━━━━━━━━━━━━━━━━━━━━\u001b[0m\u001b[37m\u001b[0m \u001b[1m0s\u001b[0m 8s/step - iou: 0.1704 - loss: 0.0095\n",
      "Epoch 1: val_loss improved from inf to 0.00944, saving model to weights/last_trained_model_best.keras\n",
      "\u001b[1m1/1\u001b[0m \u001b[32m━━━━━━━━━━━━━━━━━━━━\u001b[0m\u001b[37m\u001b[0m \u001b[1m20s\u001b[0m 20s/step - iou: 0.1704 - loss: 0.0095 - val_iou: 0.2761 - val_loss: 0.0094 - learning_rate: 0.0010\n",
      "Epoch 2/2\n",
      "\u001b[1m1/1\u001b[0m \u001b[32m━━━━━━━━━━━━━━━━━━━━\u001b[0m\u001b[37m\u001b[0m \u001b[1m0s\u001b[0m 5s/step - iou: 0.2245 - loss: 0.0096\n",
      "Epoch 2: val_loss improved from 0.00944 to 0.00675, saving model to weights/last_trained_model_best.keras\n",
      "\u001b[1m1/1\u001b[0m \u001b[32m━━━━━━━━━━━━━━━━━━━━\u001b[0m\u001b[37m\u001b[0m \u001b[1m11s\u001b[0m 11s/step - iou: 0.2245 - loss: 0.0096 - val_iou: 0.3213 - val_loss: 0.0068 - learning_rate: 0.0010\n",
      "<keras.src.callbacks.history.History object at 0x744234207a70>\n"
     ]
    },
    {
     "data": {
      "image/png": "[encoded data removed]",
      "text/plain": [
       "<Figure size 640x480 with 1 Axes>"
      ]
     },
     "metadata": {},
     "output_type": "display_data"
    },
    {
     "data": {
      "text/html": [
       "<div>\n",
       "<style scoped>\n",
       "    .dataframe tbody tr th:only-of-type {\n",
       "        vertical-align: middle;\n",
       "    }\n",
       "\n",
       "    .dataframe tbody tr th {\n",
       "        vertical-align: top;\n",
       "    }\n",
       "\n",
       "    .dataframe thead th {\n",
       "        text-align: right;\n",
       "    }\n",
       "</style>\n",
       "<table border=\"1\" class=\"dataframe\">\n",
       "  <thead>\n",
       "    <tr style=\"text-align: right;\">\n",
       "      <th></th>\n",
       "      <th>iou</th>\n",
       "      <th>loss</th>\n",
       "      <th>val_iou</th>\n",
       "      <th>val_loss</th>\n",
       "      <th>learning_rate</th>\n",
       "      <th>epoch</th>\n",
       "    </tr>\n",
       "  </thead>\n",
       "  <tbody>\n",
       "    <tr>\n",
       "      <th>0</th>\n",
       "      <td>0.170429</td>\n",
       "      <td>0.009478</td>\n",
       "      <td>0.276100</td>\n",
       "      <td>0.009436</td>\n",
       "      <td>0.001</td>\n",
       "      <td>1</td>\n",
       "    </tr>\n",
       "    <tr>\n",
       "      <th>1</th>\n",
       "      <td>0.224544</td>\n",
       "      <td>0.009617</td>\n",
       "      <td>0.321303</td>\n",
       "      <td>0.006753</td>\n",
       "      <td>0.001</td>\n",
       "      <td>2</td>\n",
       "    </tr>\n",
       "  </tbody>\n",
       "</table>\n",
       "</div>"
      ],
      "text/plain": [
       "        iou      loss   val_iou  val_loss  learning_rate  epoch\n",
       "0  0.170429  0.009478  0.276100  0.009436          0.001      1\n",
       "1  0.224544  0.009617  0.321303  0.006753          0.001      2"
      ]
     },
     "execution_count": 1,
     "metadata": {},
     "output_type": "execute_result"
    }
   ],
   "source": [
    "import keras\n",
    "import numpy as np\n",
    "import sys\n",
    "import tensorflow as tf\n",
    "import pandas as pd\n",
    "\n",
    "sys.path.append('.')\n",
    "\n",
    "from helpers import iou\n",
    "from FrameLoader import FrameLoader\n",
    "from DataGeneratorFrames import DataGeneratorFrames\n",
    "from DataRepository import DataRepository\n",
    "\n",
    "from models.GoogleNet import get_model as get_model_googlenet\n",
    "from models.MobileNetV3Small import get_model as get_model_mobilenet\n",
    "from models.RandomCNN import get_model as get_model_randomcnn\n",
    "from models.vitransformer_enc import get_model as get_model_vit\n",
    "\n",
    "def train_model(model, info_train):\n",
    "    \"\"\"Returns history object\"\"\"\n",
    "    DIM = selected_info['dim']\n",
    "\n",
    "    repo = DataRepository()\n",
    "    train_generator = DataGeneratorFrames(\n",
    "        frameloader=FrameLoader(repo),\n",
    "        train_test_val=\"train\",\n",
    "        dim=(DIM,DIM),\n",
    "        batch_size=info_train['batch_size'],\n",
    "    )\n",
    "    val_generator = DataGeneratorFrames(\n",
    "        frameloader=FrameLoader(repo),\n",
    "        train_test_val=\"test\",\n",
    "        dim=(DIM,DIM),\n",
    "        batch_size=info_train['batch_size'],\n",
    "    )\n",
    "    \n",
    "    callbacks = [\n",
    "        keras.callbacks.ModelCheckpoint('weights/last_trained_model_best.keras', save_best_only=True, monitor='val_loss', mode='min', verbose=1),\n",
    "        keras.callbacks.ReduceLROnPlateau(monitor='val_loss', factor=0.5, patience=2, verbose=1)\n",
    "    ]\n",
    "    if info_train[\"early_stopping\"]:\n",
    "        callbacks.append(keras.callbacks.EarlyStopping(monitor='val_loss', patience=3, restore_best_weights=True, verbose=1))\n",
    "    \n",
    "    optimizer = keras.optimizers.Adam(learning_rate=info_train['learning_rate'])\n",
    "    model.compile(optimizer=optimizer, loss='mse', metrics=[iou])\n",
    "\n",
    "    history = model.fit(\n",
    "        train_generator,\n",
    "        epochs=info_train['epochs'],\n",
    "        callbacks=callbacks,\n",
    "        verbose=1,\n",
    "        validation_data=val_generator\n",
    "    )\n",
    "\n",
    "    return history\n",
    "\n",
    "###############################################################################\n",
    "\n",
    "info_googlenet = {\n",
    "    'name' : 'googlenet',\n",
    "    'dim' : 512,\n",
    "    'batch_size' : 8,\n",
    "    'learning_rate' : 1e-4,\n",
    "    'use_batch_norm' : True,\n",
    "    'get_model_function' : get_model_googlenet,\n",
    "}\n",
    "info_vit = {\n",
    "    'name' : 'vision_transformer',\n",
    "    'dim' : 224,\n",
    "    'patch_size' : 16, # (224 / 16) **2 = 196 patches\n",
    "    'dim_embedding' : 64,\n",
    "    'num_heads': 4,\n",
    "    'encoder_blocks': 4,\n",
    "    'mlp_head_units' : [1024, 256, 64],  # Size of the dense layers\n",
    "    'batch_size' : 8,\n",
    "    'min_epochs' : 15,\n",
    "    'learning_rate' : 1e-3,\n",
    "    'weight_decay' : 1e-4,\n",
    "    'get_model_function' : get_model_vit,\n",
    "}\n",
    "info_mobilenet = {\n",
    "    'name' : 'mobilenet',\n",
    "    'dim' : 224, # pre-trained default\n",
    "    'batch_size' : 32,\n",
    "    'min_epochs' : 15,\n",
    "    'has_frozen_layers' : True,\n",
    "    'learning_rate' : 1e-3,\n",
    "    'get_model_function' : get_model_mobilenet,\n",
    "}\n",
    "\n",
    "###############################################################################\n",
    "selected_info = info_mobilenet\n",
    "# TODO : continue training\n",
    "# TODO : save model\n",
    "# TODO : write results\n",
    "###############################################################################\n",
    "\n",
    "trainings_info = {\n",
    "    'epochs' : 2,\n",
    "    'early_stopping' : False,\n",
    "    'early_stopping_patience' : 3,\n",
    "    'batch_size' : selected_info['batch_size'],\n",
    "    'learning_rate' : 1e-4 if 'learning_rate' not in selected_info.keys() else selected_info['learning_rate'],\n",
    "}\n",
    "trainings_info['weight_decay'] = trainings_info['learning_rate'] / 10 if 'weight_decay' not in selected_info.keys() else selected_info['weight_decay']\n",
    "\n",
    "model = selected_info['get_model_function'](selected_info)\n",
    "model.summary()\n",
    "\n",
    "history = train_model(model, info_train=trainings_info)\n",
    "if 'has_frozen_layers' in selected_info.keys():\n",
    "    trainings_info['epochs'] = 2\n",
    "    model.trainable = True\n",
    "    history = train_model(model, info_train=trainings_info)\n",
    "\n",
    "print(history)\n",
    "\n",
    "import matplotlib.pyplot as plt\n",
    "def plot_history(item):\n",
    "    plt.plot(history.history[item], label=item)\n",
    "    plt.plot(history.history[\"val_\" + item], label=\"val_\" + item)\n",
    "    plt.xlabel(\"Epochs\")\n",
    "    plt.ylabel(item)\n",
    "    plt.title(\"Train and Validation {} Over Epochs\".format(item), fontsize=14)\n",
    "    plt.legend()\n",
    "    plt.grid()\n",
    "    plt.show()\n",
    "\n",
    "\n",
    "plot_history(\"loss\")\n",
    "\n",
    "df_history = pd.DataFrame(history.history)\n",
    "df_history[\"epoch\"] = df_history.index + 1\n",
    "df_history"
   ]
  },
  {
   "cell_type": "code",
   "execution_count": 2,
   "metadata": {},
   "outputs": [
    {
     "data": {
      "text/plain": [
       "{'iou': [0.1704290509223938, 0.2245437055826187],\n",
       " 'loss': [0.00947795994579792, 0.009617486037313938],\n",
       " 'val_iou': [0.27610015869140625, 0.3213031589984894],\n",
       " 'val_loss': [0.009436126798391342, 0.006752798333764076],\n",
       " 'learning_rate': [0.0010000000474974513, 0.0010000000474974513]}"
      ]
     },
     "execution_count": 2,
     "metadata": {},
     "output_type": "execute_result"
    }
   ],
   "source": [
    "history.history"
   ]
  },
  {
   "cell_type": "code",
   "execution_count": 3,
   "metadata": {},
   "outputs": [
    {
     "data": {
      "text/plain": [
       "{'verbose': 1, 'epochs': 2, 'steps': 1}"
      ]
     },
     "execution_count": 3,
     "metadata": {},
     "output_type": "execute_result"
    }
   ],
   "source": [
    "history.params\n"
   ]
  },
  {
   "cell_type": "code",
   "execution_count": 4,
   "metadata": {},
   "outputs": [
    {
     "data": {
      "text/plain": [
       "<keras.src.callbacks.history.History at 0x744234207a70>"
      ]
     },
     "execution_count": 4,
     "metadata": {},
     "output_type": "execute_result"
    }
   ],
   "source": [
    "history"
   ]
  },
  {
   "cell_type": "code",
   "execution_count": 7,
   "metadata": {},
   "outputs": [],
   "source": []
  },
  {
   "cell_type": "code",
   "execution_count": null,
   "metadata": {},
   "outputs": [],
   "source": []
  },
  {
   "cell_type": "code",
   "execution_count": null,
   "metadata": {},
   "outputs": [],
   "source": []
  }
 ],
 "metadata": {
  "kernelspec": {
   "display_name": ".venv",
   "language": "python",
   "name": "python3"
  },
  "language_info": {
   "codemirror_mode": {
    "name": "ipython",
    "version": 3
   },
   "file_extension": ".py",
   "mimetype": "text/x-python",
   "name": "python",
   "nbconvert_exporter": "python",
   "pygments_lexer": "ipython3",
   "version": "3.12.3"
  }
 },
 "nbformat": 4,
 "nbformat_minor": 2
}
