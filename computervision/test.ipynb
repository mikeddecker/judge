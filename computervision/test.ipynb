{
 "cells": [
  {
   "cell_type": "code",
   "execution_count": 1,
   "metadata": {},
   "outputs": [
    {
     "name": "stderr",
     "output_type": "stream",
     "text": [
      "2025-01-17 15:41:18.748354: I tensorflow/core/util/port.cc:153] oneDNN custom operations are on. You may see slightly different numerical results due to floating-point round-off errors from different computation orders. To turn them off, set the environment variable `TF_ENABLE_ONEDNN_OPTS=0`.\n",
      "2025-01-17 15:41:18.759214: E external/local_xla/xla/stream_executor/cuda/cuda_fft.cc:477] Unable to register cuFFT factory: Attempting to register factory for plugin cuFFT when one has already been registered\n",
      "WARNING: All log messages before absl::InitializeLog() is called are written to STDERR\n",
      "E0000 00:00:1737124878.772384  249411 cuda_dnn.cc:8310] Unable to register cuDNN factory: Attempting to register factory for plugin cuDNN when one has already been registered\n",
      "E0000 00:00:1737124878.776023  249411 cuda_blas.cc:1418] Unable to register cuBLAS factory: Attempting to register factory for plugin cuBLAS when one has already been registered\n",
      "2025-01-17 15:41:18.789584: I tensorflow/core/platform/cpu_feature_guard.cc:210] This TensorFlow binary is optimized to use available CPU instructions in performance-critical operations.\n",
      "To enable the following instructions: AVX2 AVX_VNNI FMA, in other operations, rebuild TensorFlow with the appropriate compiler flags.\n",
      "2025-01-17 15:41:22.235366: E external/local_xla/xla/stream_executor/cuda/cuda_driver.cc:152] failed call to cuInit: INTERNAL: CUDA error: Failed call to cuInit: CUDA_ERROR_UNKNOWN: unknown error\n",
      "2025-01-17 15:41:22.235386: I external/local_xla/xla/stream_executor/cuda/cuda_diagnostics.cc:137] retrieving CUDA diagnostic information for host: miked-Nitro-V15\n",
      "2025-01-17 15:41:22.235390: I external/local_xla/xla/stream_executor/cuda/cuda_diagnostics.cc:144] hostname: miked-Nitro-V15\n",
      "2025-01-17 15:41:22.235502: I external/local_xla/xla/stream_executor/cuda/cuda_diagnostics.cc:168] libcuda reported version is: 550.142.0\n",
      "2025-01-17 15:41:22.235515: I external/local_xla/xla/stream_executor/cuda/cuda_diagnostics.cc:172] kernel reported version is: 550.142.0\n",
      "2025-01-17 15:41:22.235517: I external/local_xla/xla/stream_executor/cuda/cuda_diagnostics.cc:259] kernel version seems to match DSO: 550.142.0\n"
     ]
    },
    {
     "data": {
      "text/html": [
       "<pre style=\"white-space:pre;overflow-x:auto;line-height:normal;font-family:Menlo,'DejaVu Sans Mono',consolas,'Courier New',monospace\"><span style=\"font-weight: bold\">Model: \"sequential\"</span>\n",
       "</pre>\n"
      ],
      "text/plain": [
       "\u001b[1mModel: \"sequential\"\u001b[0m\n"
      ]
     },
     "metadata": {},
     "output_type": "display_data"
    },
    {
     "data": {
      "text/html": [
       "<pre style=\"white-space:pre;overflow-x:auto;line-height:normal;font-family:Menlo,'DejaVu Sans Mono',consolas,'Courier New',monospace\">┏━━━━━━━━━━━━━━━━━━━━━━━━━━━━━━━━━┳━━━━━━━━━━━━━━━━━━━━━━━━┳━━━━━━━━━━━━━━━┓\n",
       "┃<span style=\"font-weight: bold\"> Layer (type)                    </span>┃<span style=\"font-weight: bold\"> Output Shape           </span>┃<span style=\"font-weight: bold\">       Param # </span>┃\n",
       "┡━━━━━━━━━━━━━━━━━━━━━━━━━━━━━━━━━╇━━━━━━━━━━━━━━━━━━━━━━━━╇━━━━━━━━━━━━━━━┩\n",
       "│ MobileNetV3Small (<span style=\"color: #0087ff; text-decoration-color: #0087ff\">Functional</span>)   │ (<span style=\"color: #00d7ff; text-decoration-color: #00d7ff\">None</span>, <span style=\"color: #00af00; text-decoration-color: #00af00\">576</span>)            │       <span style=\"color: #00af00; text-decoration-color: #00af00\">939,120</span> │\n",
       "├─────────────────────────────────┼────────────────────────┼───────────────┤\n",
       "│ dense (<span style=\"color: #0087ff; text-decoration-color: #0087ff\">Dense</span>)                   │ (<span style=\"color: #00d7ff; text-decoration-color: #00d7ff\">None</span>, <span style=\"color: #00af00; text-decoration-color: #00af00\">512</span>)            │       <span style=\"color: #00af00; text-decoration-color: #00af00\">295,424</span> │\n",
       "├─────────────────────────────────┼────────────────────────┼───────────────┤\n",
       "│ dense_1 (<span style=\"color: #0087ff; text-decoration-color: #0087ff\">Dense</span>)                 │ (<span style=\"color: #00d7ff; text-decoration-color: #00d7ff\">None</span>, <span style=\"color: #00af00; text-decoration-color: #00af00\">128</span>)            │        <span style=\"color: #00af00; text-decoration-color: #00af00\">65,664</span> │\n",
       "├─────────────────────────────────┼────────────────────────┼───────────────┤\n",
       "│ dense_2 (<span style=\"color: #0087ff; text-decoration-color: #0087ff\">Dense</span>)                 │ (<span style=\"color: #00d7ff; text-decoration-color: #00d7ff\">None</span>, <span style=\"color: #00af00; text-decoration-color: #00af00\">4</span>)              │           <span style=\"color: #00af00; text-decoration-color: #00af00\">516</span> │\n",
       "└─────────────────────────────────┴────────────────────────┴───────────────┘\n",
       "</pre>\n"
      ],
      "text/plain": [
       "┏━━━━━━━━━━━━━━━━━━━━━━━━━━━━━━━━━┳━━━━━━━━━━━━━━━━━━━━━━━━┳━━━━━━━━━━━━━━━┓\n",
       "┃\u001b[1m \u001b[0m\u001b[1mLayer (type)                   \u001b[0m\u001b[1m \u001b[0m┃\u001b[1m \u001b[0m\u001b[1mOutput Shape          \u001b[0m\u001b[1m \u001b[0m┃\u001b[1m \u001b[0m\u001b[1m      Param #\u001b[0m\u001b[1m \u001b[0m┃\n",
       "┡━━━━━━━━━━━━━━━━━━━━━━━━━━━━━━━━━╇━━━━━━━━━━━━━━━━━━━━━━━━╇━━━━━━━━━━━━━━━┩\n",
       "│ MobileNetV3Small (\u001b[38;5;33mFunctional\u001b[0m)   │ (\u001b[38;5;45mNone\u001b[0m, \u001b[38;5;34m576\u001b[0m)            │       \u001b[38;5;34m939,120\u001b[0m │\n",
       "├─────────────────────────────────┼────────────────────────┼───────────────┤\n",
       "│ dense (\u001b[38;5;33mDense\u001b[0m)                   │ (\u001b[38;5;45mNone\u001b[0m, \u001b[38;5;34m512\u001b[0m)            │       \u001b[38;5;34m295,424\u001b[0m │\n",
       "├─────────────────────────────────┼────────────────────────┼───────────────┤\n",
       "│ dense_1 (\u001b[38;5;33mDense\u001b[0m)                 │ (\u001b[38;5;45mNone\u001b[0m, \u001b[38;5;34m128\u001b[0m)            │        \u001b[38;5;34m65,664\u001b[0m │\n",
       "├─────────────────────────────────┼────────────────────────┼───────────────┤\n",
       "│ dense_2 (\u001b[38;5;33mDense\u001b[0m)                 │ (\u001b[38;5;45mNone\u001b[0m, \u001b[38;5;34m4\u001b[0m)              │           \u001b[38;5;34m516\u001b[0m │\n",
       "└─────────────────────────────────┴────────────────────────┴───────────────┘\n"
      ]
     },
     "metadata": {},
     "output_type": "display_data"
    },
    {
     "data": {
      "text/html": [
       "<pre style=\"white-space:pre;overflow-x:auto;line-height:normal;font-family:Menlo,'DejaVu Sans Mono',consolas,'Courier New',monospace\"><span style=\"font-weight: bold\"> Total params: </span><span style=\"color: #00af00; text-decoration-color: #00af00\">1,300,724</span> (4.96 MB)\n",
       "</pre>\n"
      ],
      "text/plain": [
       "\u001b[1m Total params: \u001b[0m\u001b[38;5;34m1,300,724\u001b[0m (4.96 MB)\n"
      ]
     },
     "metadata": {},
     "output_type": "display_data"
    },
    {
     "data": {
      "text/html": [
       "<pre style=\"white-space:pre;overflow-x:auto;line-height:normal;font-family:Menlo,'DejaVu Sans Mono',consolas,'Courier New',monospace\"><span style=\"font-weight: bold\"> Trainable params: </span><span style=\"color: #00af00; text-decoration-color: #00af00\">361,604</span> (1.38 MB)\n",
       "</pre>\n"
      ],
      "text/plain": [
       "\u001b[1m Trainable params: \u001b[0m\u001b[38;5;34m361,604\u001b[0m (1.38 MB)\n"
      ]
     },
     "metadata": {},
     "output_type": "display_data"
    },
    {
     "data": {
      "text/html": [
       "<pre style=\"white-space:pre;overflow-x:auto;line-height:normal;font-family:Menlo,'DejaVu Sans Mono',consolas,'Courier New',monospace\"><span style=\"font-weight: bold\"> Non-trainable params: </span><span style=\"color: #00af00; text-decoration-color: #00af00\">939,120</span> (3.58 MB)\n",
       "</pre>\n"
      ],
      "text/plain": [
       "\u001b[1m Non-trainable params: \u001b[0m\u001b[38;5;34m939,120\u001b[0m (3.58 MB)\n"
      ]
     },
     "metadata": {},
     "output_type": "display_data"
    },
    {
     "name": "stdout",
     "output_type": "stream",
     "text": [
      "connection established, loading frame paths\n",
      "rel paths of framelabels loaded\n",
      "connection established, loading frame paths\n",
      "rel paths of framelabels loaded\n",
      "DataGeneratorSkillBorders init done\n",
      "connection established, loading frame paths\n",
      "rel paths of framelabels loaded\n",
      "DataGeneratorSkillBorders init done\n",
      "Epoch 1/3\n",
      "\u001b[1m1/1\u001b[0m \u001b[32m━━━━━━━━━━━━━━━━━━━━\u001b[0m\u001b[37m\u001b[0m \u001b[1m0s\u001b[0m 9s/step - iou: 0.1419 - loss: 0.0554\n",
      "Epoch 1: val_loss improved from inf to 0.01345, saving model to weights/last_trained_model_best.keras\n",
      "\u001b[1m1/1\u001b[0m \u001b[32m━━━━━━━━━━━━━━━━━━━━\u001b[0m\u001b[37m\u001b[0m \u001b[1m20s\u001b[0m 20s/step - iou: 0.1419 - loss: 0.0554 - val_iou: 0.2854 - val_loss: 0.0135 - learning_rate: 0.0010\n",
      "Epoch 2/3\n",
      "\u001b[1m1/1\u001b[0m \u001b[32m━━━━━━━━━━━━━━━━━━━━\u001b[0m\u001b[37m\u001b[0m \u001b[1m0s\u001b[0m 6s/step - iou: 0.2597 - loss: 0.0148\n",
      "Epoch 2: val_loss improved from 0.01345 to 0.00788, saving model to weights/last_trained_model_best.keras\n",
      "\u001b[1m1/1\u001b[0m \u001b[32m━━━━━━━━━━━━━━━━━━━━\u001b[0m\u001b[37m\u001b[0m \u001b[1m11s\u001b[0m 11s/step - iou: 0.2597 - loss: 0.0148 - val_iou: 0.2201 - val_loss: 0.0079 - learning_rate: 0.0010\n",
      "Epoch 3/3\n",
      "\u001b[1m1/1\u001b[0m \u001b[32m━━━━━━━━━━━━━━━━━━━━\u001b[0m\u001b[37m\u001b[0m \u001b[1m0s\u001b[0m 6s/step - iou: 0.1509 - loss: 0.0091\n",
      "Epoch 3: val_loss improved from 0.00788 to 0.00753, saving model to weights/last_trained_model_best.keras\n",
      "\u001b[1m1/1\u001b[0m \u001b[32m━━━━━━━━━━━━━━━━━━━━\u001b[0m\u001b[37m\u001b[0m \u001b[1m11s\u001b[0m 11s/step - iou: 0.1509 - loss: 0.0091 - val_iou: 0.1964 - val_loss: 0.0075 - learning_rate: 0.0010\n",
      "last_epoch 2 False\n",
      "result now 0.1964142918586731\n",
      "last result was:  0.325087\n",
      "RESULTS WEREN'T BETTER\n",
      "        iou      loss   val_iou  val_loss  learning_rate  modelname train_date\n",
      "0  0.141935  0.055430  0.285442  0.013452          0.001  mobilenet   20250117\n",
      "1  0.259689  0.014790  0.220086  0.007877          0.001  mobilenet   20250117\n",
      "2  0.150853  0.009059  0.196414  0.007532          0.001  mobilenet   20250117\n"
     ]
    }
   ],
   "source": [
    "import keras\n",
    "import numpy as np\n",
    "import os\n",
    "import sys\n",
    "import tensorflow as tf\n",
    "import pandas as pd\n",
    "\n",
    "from datetime import datetime\n",
    "\n",
    "sys.path.append('.')\n",
    "\n",
    "from helpers import iou\n",
    "from FrameLoader import FrameLoader\n",
    "from DataGeneratorFrames import DataGeneratorFrames\n",
    "from DataRepository import DataRepository\n",
    "\n",
    "from models.GoogleNet import get_model as get_model_googlenet\n",
    "from models.MobileNetV3Small import get_model as get_model_mobilenet\n",
    "from models.RandomCNN import get_model as get_model_randomcnn\n",
    "from models.vitransformer_enc import get_model as get_model_vit\n",
    "\n",
    "def train_model(model: keras.Sequential, info_train, from_scratch=True):\n",
    "    \"\"\"Returns history object\"\"\"\n",
    "    DIM = selected_info['dim']\n",
    "    weight_path = f\"../weights/{selected_info['name']}.weights.h5\"\n",
    "    if not from_scratch and os.path.exists(weight_path):\n",
    "        model.load_weights(weight_path)\n",
    "\n",
    "    repo = DataRepository()\n",
    "    train_generator = DataGeneratorFrames(\n",
    "        frameloader=FrameLoader(repo),\n",
    "        train_test_val=\"train\",\n",
    "        dim=(DIM,DIM),\n",
    "        batch_size=info_train['batch_size'],\n",
    "    )\n",
    "    val_generator = DataGeneratorFrames(\n",
    "        frameloader=FrameLoader(repo),\n",
    "        train_test_val=\"test\",\n",
    "        dim=(DIM,DIM),\n",
    "        batch_size=info_train['batch_size'],\n",
    "    )\n",
    "    \n",
    "    callbacks = [\n",
    "        keras.callbacks.ModelCheckpoint('weights/last_trained_model_best.keras', save_best_only=True, monitor='val_loss', mode='min', verbose=1),\n",
    "        keras.callbacks.ReduceLROnPlateau(monitor='val_loss', factor=0.5, patience=2, verbose=1)\n",
    "    ]\n",
    "    if info_train[\"early_stopping\"]:\n",
    "        callbacks.append(keras.callbacks.EarlyStopping(monitor='val_loss', patience=3, restore_best_weights=True, verbose=1))\n",
    "    \n",
    "    optimizer = keras.optimizers.Adam(learning_rate=info_train['learning_rate'])\n",
    "    model.compile(optimizer=optimizer, loss='mse', metrics=[iou])\n",
    "\n",
    "    history = model.fit(\n",
    "        train_generator,\n",
    "        epochs=info_train['epochs'],\n",
    "        callbacks=callbacks,\n",
    "        verbose=1,\n",
    "        validation_data=val_generator\n",
    "    )\n",
    "\n",
    "    if 'unfreeze_pre_trained_layers_after_training' in info_train.keys():\n",
    "        pass\n",
    "        # TODO : save history, add them after next training round\n",
    "\n",
    "    df_history = pd.DataFrame(history.history)\n",
    "    df_history[\"modelname\"] = selected_info['name']\n",
    "    df_history[\"train_date\"] = info_train['train_date']\n",
    "    last_epoch_nr = int(repo.get_last_epoch_nr(selected_info['name']))\n",
    "    print(\"last_epoch\", last_epoch_nr, from_scratch)\n",
    "    if last_epoch_nr > 0:\n",
    "        # Return when training from scratch has worse results than last time\n",
    "        # TODO : make a function to update val_iou based on last validation set\n",
    "        last_result = repo.get_last_epoch_values(modelname=selected_info[\"name\"], epoch=last_epoch_nr)\n",
    "        print('result now', df_history.loc[df_history.index[-1], 'val_iou'])\n",
    "        print('last result was: ', last_result.loc[0, 'val_iou'])\n",
    "        if df_history.loc[df_history.index[-1], 'val_iou'] < last_result.loc[0, 'val_iou']:\n",
    "            print(\"RESULTS WEREN'T BETTER\")\n",
    "            return df_history\n",
    "\n",
    "        df_history[\"epoch\"] = df_history.index + 1 + (0 if from_scratch else last_epoch_nr)\n",
    "    else:\n",
    "        df_history[\"epoch\"] = df_history.index + 1\n",
    "    \n",
    "    model.save_weights(weight_path)\n",
    "    repo.save_train_results(df_history)\n",
    "\n",
    "    return df_history\n",
    "\n",
    "###############################################################################\n",
    "\n",
    "info_googlenet = {\n",
    "    'name' : 'googlenet',\n",
    "    'dim' : 512,\n",
    "    'batch_size' : 8,\n",
    "    'learning_rate' : 1e-4,\n",
    "    'use_batch_norm' : True,\n",
    "    'get_model_function' : get_model_googlenet,\n",
    "}\n",
    "info_vit = {\n",
    "    'name' : 'vision_transformer',\n",
    "    'dim' : 224,\n",
    "    'patch_size' : 16, # (224 / 16) **2 = 196 patches\n",
    "    'dim_embedding' : 64,\n",
    "    'num_heads': 4,\n",
    "    'encoder_blocks': 4,\n",
    "    'mlp_head_units' : [1024, 256, 64],  # Size of the dense layers\n",
    "    'batch_size' : 8,\n",
    "    'min_epochs' : 15,\n",
    "    'learning_rate' : 1e-3,\n",
    "    'weight_decay' : 1e-4,\n",
    "    'get_model_function' : get_model_vit,\n",
    "}\n",
    "info_mobilenet = {\n",
    "    'name' : 'mobilenet',\n",
    "    'dim' : 224, # pre-trained default\n",
    "    'batch_size' : 32,\n",
    "    'min_epochs' : 15,\n",
    "    'has_frozen_layers' : True,\n",
    "    'learning_rate' : 1e-3,\n",
    "    'get_model_function' : get_model_mobilenet,\n",
    "}\n",
    "\n",
    "###############################################################################\n",
    "selected_info = info_mobilenet\n",
    "# TODO : continue training\n",
    "# TODO : save model\n",
    "# TODO : write results\n",
    "###############################################################################\n",
    "\n",
    "trainings_info = {\n",
    "    'epochs' : 3,\n",
    "    'early_stopping' : False,\n",
    "    'early_stopping_patience' : 3,\n",
    "    'batch_size' : selected_info['batch_size'],\n",
    "    'learning_rate' : 1e-4 if 'learning_rate' not in selected_info.keys() else selected_info['learning_rate'],\n",
    "    'train_date' : datetime.now().strftime(\"%Y%m%d\"),\n",
    "}\n",
    "trainings_info['weight_decay'] = trainings_info['learning_rate'] / 10 if 'weight_decay' not in selected_info.keys() else selected_info['weight_decay']\n",
    "\n",
    "model = selected_info['get_model_function'](selected_info)\n",
    "model.summary()\n",
    "\n",
    "history = train_model(model, info_train=trainings_info, from_scratch=False)\n",
    "\n",
    "print(history)\n"
   ]
  },
  {
   "cell_type": "code",
   "execution_count": 2,
   "metadata": {},
   "outputs": [
    {
     "data": {
      "text/html": [
       "<div>\n",
       "<style scoped>\n",
       "    .dataframe tbody tr th:only-of-type {\n",
       "        vertical-align: middle;\n",
       "    }\n",
       "\n",
       "    .dataframe tbody tr th {\n",
       "        vertical-align: top;\n",
       "    }\n",
       "\n",
       "    .dataframe thead th {\n",
       "        text-align: right;\n",
       "    }\n",
       "</style>\n",
       "<table border=\"1\" class=\"dataframe\">\n",
       "  <thead>\n",
       "    <tr style=\"text-align: right;\">\n",
       "      <th></th>\n",
       "      <th>iou</th>\n",
       "      <th>loss</th>\n",
       "      <th>val_iou</th>\n",
       "      <th>val_loss</th>\n",
       "      <th>learning_rate</th>\n",
       "      <th>modelname</th>\n",
       "      <th>train_date</th>\n",
       "    </tr>\n",
       "  </thead>\n",
       "  <tbody>\n",
       "    <tr>\n",
       "      <th>0</th>\n",
       "      <td>0.141935</td>\n",
       "      <td>0.055430</td>\n",
       "      <td>0.285442</td>\n",
       "      <td>0.013452</td>\n",
       "      <td>0.001</td>\n",
       "      <td>mobilenet</td>\n",
       "      <td>20250117</td>\n",
       "    </tr>\n",
       "    <tr>\n",
       "      <th>1</th>\n",
       "      <td>0.259689</td>\n",
       "      <td>0.014790</td>\n",
       "      <td>0.220086</td>\n",
       "      <td>0.007877</td>\n",
       "      <td>0.001</td>\n",
       "      <td>mobilenet</td>\n",
       "      <td>20250117</td>\n",
       "    </tr>\n",
       "    <tr>\n",
       "      <th>2</th>\n",
       "      <td>0.150853</td>\n",
       "      <td>0.009059</td>\n",
       "      <td>0.196414</td>\n",
       "      <td>0.007532</td>\n",
       "      <td>0.001</td>\n",
       "      <td>mobilenet</td>\n",
       "      <td>20250117</td>\n",
       "    </tr>\n",
       "  </tbody>\n",
       "</table>\n",
       "</div>"
      ],
      "text/plain": [
       "        iou      loss   val_iou  val_loss  learning_rate  modelname train_date\n",
       "0  0.141935  0.055430  0.285442  0.013452          0.001  mobilenet   20250117\n",
       "1  0.259689  0.014790  0.220086  0.007877          0.001  mobilenet   20250117\n",
       "2  0.150853  0.009059  0.196414  0.007532          0.001  mobilenet   20250117"
      ]
     },
     "execution_count": 2,
     "metadata": {},
     "output_type": "execute_result"
    }
   ],
   "source": [
    "history"
   ]
  },
  {
   "cell_type": "code",
   "execution_count": null,
   "metadata": {},
   "outputs": [],
   "source": []
  },
  {
   "cell_type": "code",
   "execution_count": 3,
   "metadata": {},
   "outputs": [
    {
     "data": {
      "text/html": [
       "<div>\n",
       "<style scoped>\n",
       "    .dataframe tbody tr th:only-of-type {\n",
       "        vertical-align: middle;\n",
       "    }\n",
       "\n",
       "    .dataframe tbody tr th {\n",
       "        vertical-align: top;\n",
       "    }\n",
       "\n",
       "    .dataframe thead th {\n",
       "        text-align: right;\n",
       "    }\n",
       "</style>\n",
       "<table border=\"1\" class=\"dataframe\">\n",
       "  <thead>\n",
       "    <tr style=\"text-align: right;\">\n",
       "      <th></th>\n",
       "      <th>iou</th>\n",
       "      <th>loss</th>\n",
       "      <th>val_iou</th>\n",
       "      <th>val_loss</th>\n",
       "      <th>learning_rate</th>\n",
       "      <th>modelname</th>\n",
       "      <th>train_date</th>\n",
       "    </tr>\n",
       "  </thead>\n",
       "  <tbody>\n",
       "    <tr>\n",
       "      <th>0</th>\n",
       "      <td>0.141935</td>\n",
       "      <td>0.055430</td>\n",
       "      <td>0.285442</td>\n",
       "      <td>0.013452</td>\n",
       "      <td>0.001</td>\n",
       "      <td>mobilenet</td>\n",
       "      <td>20250117</td>\n",
       "    </tr>\n",
       "    <tr>\n",
       "      <th>1</th>\n",
       "      <td>0.259689</td>\n",
       "      <td>0.014790</td>\n",
       "      <td>0.220086</td>\n",
       "      <td>0.007877</td>\n",
       "      <td>0.001</td>\n",
       "      <td>mobilenet</td>\n",
       "      <td>20250117</td>\n",
       "    </tr>\n",
       "    <tr>\n",
       "      <th>2</th>\n",
       "      <td>0.150853</td>\n",
       "      <td>0.009059</td>\n",
       "      <td>0.196414</td>\n",
       "      <td>0.007532</td>\n",
       "      <td>0.001</td>\n",
       "      <td>mobilenet</td>\n",
       "      <td>20250117</td>\n",
       "    </tr>\n",
       "  </tbody>\n",
       "</table>\n",
       "</div>"
      ],
      "text/plain": [
       "        iou      loss   val_iou  val_loss  learning_rate  modelname train_date\n",
       "0  0.141935  0.055430  0.285442  0.013452          0.001  mobilenet   20250117\n",
       "1  0.259689  0.014790  0.220086  0.007877          0.001  mobilenet   20250117\n",
       "2  0.150853  0.009059  0.196414  0.007532          0.001  mobilenet   20250117"
      ]
     },
     "execution_count": 3,
     "metadata": {},
     "output_type": "execute_result"
    }
   ],
   "source": [
    "history"
   ]
  },
  {
   "cell_type": "code",
   "execution_count": 7,
   "metadata": {},
   "outputs": [],
   "source": []
  },
  {
   "cell_type": "code",
   "execution_count": null,
   "metadata": {},
   "outputs": [],
   "source": []
  },
  {
   "cell_type": "code",
   "execution_count": null,
   "metadata": {},
   "outputs": [],
   "source": []
  }
 ],
 "metadata": {
  "kernelspec": {
   "display_name": ".venv",
   "language": "python",
   "name": "python3"
  },
  "language_info": {
   "codemirror_mode": {
    "name": "ipython",
    "version": 3
   },
   "file_extension": ".py",
   "mimetype": "text/x-python",
   "name": "python",
   "nbconvert_exporter": "python",
   "pygments_lexer": "ipython3",
   "version": "3.12.3"
  }
 },
 "nbformat": 4,
 "nbformat_minor": 2
}
