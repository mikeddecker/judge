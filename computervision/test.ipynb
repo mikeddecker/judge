{
 "cells": [
  {
   "cell_type": "code",
   "execution_count": 12,
   "metadata": {},
   "outputs": [
    {
     "data": {
      "text/plain": [
       "True"
      ]
     },
     "execution_count": 12,
     "metadata": {},
     "output_type": "execute_result"
    }
   ],
   "source": [
    "import os\n",
    "import torch\n",
    "import pandas as pd\n",
    "from managers.DataRepository import DataRepository\n",
    "from constants import PYTORCH_MODELS_SKILLS\n",
    "from dotenv import load_dotenv\n",
    "load_dotenv()\n"
   ]
  },
  {
   "cell_type": "code",
   "execution_count": 13,
   "metadata": {},
   "outputs": [
    {
     "name": "stdout",
     "output_type": "stream",
     "text": [
      "connection established, loading frame paths\n",
      "relative paths of framelabels loaded\n",
      "Using device: cuda\n"
     ]
    }
   ],
   "source": [
    "modelparams = {\n",
    "    # \"balancedType\" : \"jump_return_push_frog_other\",\n",
    "    \"balancedType\" : \"limit_10procent\",\n",
    "    \"dim\" : 224,\n",
    "    \"timesteps\" : 16,\n",
    "    \"batch_size\" : 1,\n",
    "}\n",
    "modelname = \"HAR_SA_Conv3D\"\n",
    "modelname = \"HAR_MViT\"\n",
    "\n",
    "repo = DataRepository()\n",
    "\n",
    "STORAGE_DIR = os.getenv(\"STORAGE_DIR\")\n",
    "LABELS_FOLDER = \"labels\"\n",
    "SUPPORTED_VIDEO_FORMATS = os.getenv(\"SUPPORTED_VIDEO_FORMATS\")\n",
    "CROPPED_VIDEOS_FOLDER = os.getenv(\"CROPPED_VIDEOS_FOLDER\")\n",
    "MODELWEIGHT_PATH = \"weights\"\n",
    "\n",
    "\n",
    "device = torch.device('cuda' if torch.cuda.is_available() else 'cpu')\n",
    "print(f\"Using device: {device}\")"
   ]
  },
  {
   "cell_type": "code",
   "execution_count": 14,
   "metadata": {},
   "outputs": [
    {
     "name": "stdout",
     "output_type": "stream",
     "text": [
      "connection established, loading frame paths\n",
      "relative paths of framelabels loaded\n"
     ]
    }
   ],
   "source": [
    "if modelname not in PYTORCH_MODELS_SKILLS.keys():\n",
    "    raise ValueError(modelname)\n",
    "\n",
    "\n",
    "# TODO : update to use best val checkpoint \n",
    "modelPath = os.path.join(MODELWEIGHT_PATH, f\"{modelname}.state_dict.pt\")\n",
    "checkpointPath = os.path.join(MODELWEIGHT_PATH, f\"{modelname}.checkpoint.pt\")\n",
    "\n",
    "\n",
    "DIM = 224\n",
    "repo = DataRepository()\n",
    "model = PYTORCH_MODELS_SKILLS[modelname](modelinfo=modelparams, df_table_counts=repo.get_skill_category_counts(), skill_or_segment='skills').to(device)\n",
    "\n",
    "if  os.path.exists(checkpointPath):\n",
    "    checkpoint = torch.load(checkpointPath)\n",
    "    model.load_state_dict(checkpoint['model_state_dict'])\n",
    "    epoch_start = checkpoint['epoch'] + 1\n",
    "    losses = checkpoint['losses']\n",
    "    accuracies = {} if 'accuracies' not in checkpoint.keys() else checkpoint['accuracies']\n",
    "else:\n",
    "    raise ValueError(checkpointPath)\n"
   ]
  },
  {
   "cell_type": "code",
   "execution_count": 15,
   "metadata": {},
   "outputs": [
    {
     "data": {
      "text/plain": [
       "[4.806829726927662,\n",
       " 4.6666431696069255,\n",
       " 2.380355333778534,\n",
       " 2.2934871510406247,\n",
       " 1.7337838714867162,\n",
       " 1.8338485651458816,\n",
       " 1.5218640181092582,\n",
       " 1.475132988206207,\n",
       " 1.4949556822360943,\n",
       " 1.4107578000184622]"
      ]
     },
     "execution_count": 15,
     "metadata": {},
     "output_type": "execute_result"
    }
   ],
   "source": [
    "losses"
   ]
  },
  {
   "cell_type": "code",
   "execution_count": 17,
   "metadata": {},
   "outputs": [
    {
     "data": {
      "text/html": [
       "<div>\n",
       "<style scoped>\n",
       "    .dataframe tbody tr th:only-of-type {\n",
       "        vertical-align: middle;\n",
       "    }\n",
       "\n",
       "    .dataframe tbody tr th {\n",
       "        vertical-align: top;\n",
       "    }\n",
       "\n",
       "    .dataframe thead th {\n",
       "        text-align: right;\n",
       "    }\n",
       "</style>\n",
       "<table border=\"1\" class=\"dataframe\">\n",
       "  <thead>\n",
       "    <tr style=\"text-align: right;\">\n",
       "      <th></th>\n",
       "      <th>precision</th>\n",
       "      <th>recall</th>\n",
       "      <th>f1-score</th>\n",
       "      <th>support</th>\n",
       "    </tr>\n",
       "  </thead>\n",
       "  <tbody>\n",
       "    <tr>\n",
       "      <th>0</th>\n",
       "      <td>0.038390</td>\n",
       "      <td>0.052841</td>\n",
       "      <td>0.039444</td>\n",
       "      <td>669.0</td>\n",
       "    </tr>\n",
       "    <tr>\n",
       "      <th>1</th>\n",
       "      <td>0.052363</td>\n",
       "      <td>0.051863</td>\n",
       "      <td>0.045786</td>\n",
       "      <td>669.0</td>\n",
       "    </tr>\n",
       "    <tr>\n",
       "      <th>2</th>\n",
       "      <td>0.140253</td>\n",
       "      <td>0.193755</td>\n",
       "      <td>0.153074</td>\n",
       "      <td>669.0</td>\n",
       "    </tr>\n",
       "    <tr>\n",
       "      <th>3</th>\n",
       "      <td>0.178051</td>\n",
       "      <td>0.241354</td>\n",
       "      <td>0.193725</td>\n",
       "      <td>669.0</td>\n",
       "    </tr>\n",
       "    <tr>\n",
       "      <th>4</th>\n",
       "      <td>0.233400</td>\n",
       "      <td>0.263944</td>\n",
       "      <td>0.237451</td>\n",
       "      <td>669.0</td>\n",
       "    </tr>\n",
       "    <tr>\n",
       "      <th>5</th>\n",
       "      <td>0.288399</td>\n",
       "      <td>0.287700</td>\n",
       "      <td>0.280897</td>\n",
       "      <td>669.0</td>\n",
       "    </tr>\n",
       "    <tr>\n",
       "      <th>6</th>\n",
       "      <td>0.298621</td>\n",
       "      <td>0.327740</td>\n",
       "      <td>0.305930</td>\n",
       "      <td>669.0</td>\n",
       "    </tr>\n",
       "    <tr>\n",
       "      <th>7</th>\n",
       "      <td>0.296225</td>\n",
       "      <td>0.305545</td>\n",
       "      <td>0.294048</td>\n",
       "      <td>669.0</td>\n",
       "    </tr>\n",
       "    <tr>\n",
       "      <th>8</th>\n",
       "      <td>0.339577</td>\n",
       "      <td>0.347698</td>\n",
       "      <td>0.319191</td>\n",
       "      <td>669.0</td>\n",
       "    </tr>\n",
       "    <tr>\n",
       "      <th>9</th>\n",
       "      <td>0.341331</td>\n",
       "      <td>0.359228</td>\n",
       "      <td>0.342935</td>\n",
       "      <td>669.0</td>\n",
       "    </tr>\n",
       "  </tbody>\n",
       "</table>\n",
       "</div>"
      ],
      "text/plain": [
       "   precision    recall  f1-score  support\n",
       "0   0.038390  0.052841  0.039444    669.0\n",
       "1   0.052363  0.051863  0.045786    669.0\n",
       "2   0.140253  0.193755  0.153074    669.0\n",
       "3   0.178051  0.241354  0.193725    669.0\n",
       "4   0.233400  0.263944  0.237451    669.0\n",
       "5   0.288399  0.287700  0.280897    669.0\n",
       "6   0.298621  0.327740  0.305930    669.0\n",
       "7   0.296225  0.305545  0.294048    669.0\n",
       "8   0.339577  0.347698  0.319191    669.0\n",
       "9   0.341331  0.359228  0.342935    669.0"
      ]
     },
     "execution_count": 17,
     "metadata": {},
     "output_type": "execute_result"
    }
   ],
   "source": [
    "pd.DataFrame(accuracies).transpose()"
   ]
  },
  {
   "cell_type": "code",
   "execution_count": 18,
   "metadata": {},
   "outputs": [
    {
     "data": {
      "text/plain": [
       "{0: {'precision': 0.03838967910396482,\n",
       "  'recall': 0.05284072580645161,\n",
       "  'f1-score': 0.03944386537882473,\n",
       "  'support': 669.0},\n",
       " 1: {'precision': 0.05236320736320736,\n",
       "  'recall': 0.05186311698439219,\n",
       "  'f1-score': 0.04578611706820406,\n",
       "  'support': 669.0},\n",
       " 2: {'precision': 0.1402533593147404,\n",
       "  'recall': 0.19375459214522164,\n",
       "  'f1-score': 0.15307427686934325,\n",
       "  'support': 669.0},\n",
       " 3: {'precision': 0.17805056849242515,\n",
       "  'recall': 0.24135431879033747,\n",
       "  'f1-score': 0.19372549955273277,\n",
       "  'support': 669.0},\n",
       " 4: {'precision': 0.23339951438481055,\n",
       "  'recall': 0.26394374890433103,\n",
       "  'f1-score': 0.23745061002081816,\n",
       "  'support': 669.0},\n",
       " 5: {'precision': 0.2883990576747586,\n",
       "  'recall': 0.28769994525383286,\n",
       "  'f1-score': 0.2808970404680551,\n",
       "  'support': 669.0},\n",
       " 6: {'precision': 0.2986209822427545,\n",
       "  'recall': 0.32773958668035824,\n",
       "  'f1-score': 0.30592972382910244,\n",
       "  'support': 669.0},\n",
       " 7: {'precision': 0.2962246138909642,\n",
       "  'recall': 0.305545228192287,\n",
       "  'f1-score': 0.2940476896977966,\n",
       "  'support': 669.0},\n",
       " 8: {'precision': 0.33957678193228513,\n",
       "  'recall': 0.3476981547554509,\n",
       "  'f1-score': 0.3191911325135237,\n",
       "  'support': 669.0},\n",
       " 9: {'precision': 0.34133130905345804,\n",
       "  'recall': 0.35922779049369474,\n",
       "  'f1-score': 0.3429352273137134,\n",
       "  'support': 669.0}}"
      ]
     },
     "execution_count": 18,
     "metadata": {},
     "output_type": "execute_result"
    }
   ],
   "source": [
    "accuracies"
   ]
  },
  {
   "cell_type": "code",
   "execution_count": null,
   "metadata": {},
   "outputs": [],
   "source": []
  }
 ],
 "metadata": {
  "kernelspec": {
   "display_name": ".venv",
   "language": "python",
   "name": "python3"
  },
  "language_info": {
   "codemirror_mode": {
    "name": "ipython",
    "version": 3
   },
   "file_extension": ".py",
   "mimetype": "text/x-python",
   "name": "python",
   "nbconvert_exporter": "python",
   "pygments_lexer": "ipython3",
   "version": "3.12.3"
  }
 },
 "nbformat": 4,
 "nbformat_minor": 2
}
