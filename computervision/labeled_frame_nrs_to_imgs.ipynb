{
 "cells": [
  {
   "cell_type": "code",
   "execution_count": null,
   "metadata": {},
   "outputs": [],
   "source": [
    "import os\n",
    "import cv2\n",
    "import shutil\n",
    "import pandas as pd\n",
    "\n",
    "from colorama import Fore, Style\n",
    "from typing import List\n",
    "from dotenv import load_dotenv\n",
    "from DataRepository import DataRepository\n",
    "\n",
    "load_dotenv()\n",
    "STORAGE_DIR = os.getenv(\"STORAGE_DIR\")\n",
    "LABELED_FRAMES_FOLDER = \"ultralytics-yolo\"\n",
    "IMAGES_FOLDER = \"images\"\n",
    "LABELS_FOLDER = \"labels\"\n",
    "SUPPORTED_VIDEO_FORMATS = os.getenv(\"SUPPORTED_VIDEO_FORMATS\")\n",
    "SUPPORTED_IMAGE_FORMATS = os.getenv(\"SUPPORTED_IMAGE_FORMATS\")\n"
   ]
  },
  {
   "cell_type": "code",
   "execution_count": 2,
   "metadata": {},
   "outputs": [
    {
     "name": "stdout",
     "output_type": "stream",
     "text": [
      "/media/miked/Elements/Judge/FINISHED-DB-READY\n",
      "ultralytics-yolo\n"
     ]
    },
    {
     "data": {
      "text/plain": [
       "(None, None)"
      ]
     },
     "execution_count": 2,
     "metadata": {},
     "output_type": "execute_result"
    }
   ],
   "source": [
    "print(STORAGE_DIR), print(LABELED_FRAMES_FOLDER)"
   ]
  },
  {
   "cell_type": "code",
   "execution_count": 3,
   "metadata": {},
   "outputs": [],
   "source": [
    "os.makedirs(os.path.join(STORAGE_DIR, LABELED_FRAMES_FOLDER, IMAGES_FOLDER), exist_ok=True)\n",
    "os.makedirs(os.path.join(STORAGE_DIR, LABELED_FRAMES_FOLDER, IMAGES_FOLDER, \"train\"), exist_ok=True)\n",
    "os.makedirs(os.path.join(STORAGE_DIR, LABELED_FRAMES_FOLDER, IMAGES_FOLDER, \"test\"), exist_ok=True)\n",
    "os.makedirs(os.path.join(STORAGE_DIR, LABELED_FRAMES_FOLDER, IMAGES_FOLDER, \"val\"), exist_ok=True)\n",
    "if os.path.exists(os.path.join(STORAGE_DIR, LABELED_FRAMES_FOLDER, LABELS_FOLDER)):\n",
    "    shutil.rmtree(os.path.join(STORAGE_DIR, LABELED_FRAMES_FOLDER, LABELS_FOLDER)) # Always fresh start for labels\n",
    "os.makedirs(os.path.join(STORAGE_DIR, LABELED_FRAMES_FOLDER, LABELS_FOLDER), exist_ok=True)\n",
    "os.makedirs(os.path.join(STORAGE_DIR, LABELED_FRAMES_FOLDER, LABELS_FOLDER, \"train\"), exist_ok=True)\n",
    "os.makedirs(os.path.join(STORAGE_DIR, LABELED_FRAMES_FOLDER, LABELS_FOLDER, \"test\"), exist_ok=True)\n",
    "os.makedirs(os.path.join(STORAGE_DIR, LABELED_FRAMES_FOLDER, LABELS_FOLDER, \"val\"), exist_ok=True)\n",
    "\n",
    "\n",
    "\n",
    "def get_video_path(repo, videoId):\n",
    "    return os.path.join(STORAGE_DIR, repo.VideoNames.loc[videoId, \"name\"])"
   ]
  },
  {
   "cell_type": "code",
   "execution_count": 4,
   "metadata": {},
   "outputs": [
    {
     "name": "stdout",
     "output_type": "stream",
     "text": [
      "connection established, loading frame paths\n",
      "rel paths of framelabels loaded\n",
      "creating /media/miked/Elements/Judge/FINISHED-DB-READY/ultralytics-yolo/images/train/v000144fnr0000031.jpg\n",
      "creating /media/miked/Elements/Judge/FINISHED-DB-READY/ultralytics-yolo/images/train/v000144fnr0001334.jpg\n",
      "creating /media/miked/Elements/Judge/FINISHED-DB-READY/ultralytics-yolo/images/train/v000144fnr0001105.jpg\n",
      "creating /media/miked/Elements/Judge/FINISHED-DB-READY/ultralytics-yolo/images/train/v001214fnr0000030.jpg\n",
      "creating /media/miked/Elements/Judge/FINISHED-DB-READY/ultralytics-yolo/images/train/v001214fnr0001710.jpg\n",
      "creating /media/miked/Elements/Judge/FINISHED-DB-READY/ultralytics-yolo/images/train/v001214fnr0001280.jpg\n",
      "creating /media/miked/Elements/Judge/FINISHED-DB-READY/ultralytics-yolo/images/train/v001713fnr0000063.jpg\n",
      "creating /media/miked/Elements/Judge/FINISHED-DB-READY/ultralytics-yolo/images/train/v001713fnr0004140.jpg\n",
      "creating /media/miked/Elements/Judge/FINISHED-DB-READY/ultralytics-yolo/images/train/v001713fnr0004142.jpg\n",
      "creating /media/miked/Elements/Judge/FINISHED-DB-READY/ultralytics-yolo/images/train/v000670fnr0000692.jpg\n",
      "creating /media/miked/Elements/Judge/FINISHED-DB-READY/ultralytics-yolo/images/val/v001235fnr0000047.jpg\n",
      "creating /media/miked/Elements/Judge/FINISHED-DB-READY/ultralytics-yolo/images/val/v001235fnr0001698.jpg\n",
      "creating /media/miked/Elements/Judge/FINISHED-DB-READY/ultralytics-yolo/images/val/v001235fnr0001284.jpg\n",
      "creating /media/miked/Elements/Judge/FINISHED-DB-READY/ultralytics-yolo/images/val/v001235fnr0000973.jpg\n",
      "creating /media/miked/Elements/Judge/FINISHED-DB-READY/ultralytics-yolo/images/val/v001255fnr0000033.jpg\n",
      "creating /media/miked/Elements/Judge/FINISHED-DB-READY/ultralytics-yolo/images/val/v001255fnr0000978.jpg\n",
      "creating /media/miked/Elements/Judge/FINISHED-DB-READY/ultralytics-yolo/images/val/v001255fnr0001402.jpg\n"
     ]
    }
   ],
   "source": [
    "repo = DataRepository()\n",
    "\n",
    "previous_videoId = 0\n",
    "previous_frameNr = 0\n",
    "cap = None\n",
    "for train_test in [\"train\", \"val\"]:\n",
    "    frames = repo.get_framelabels(train_test, type=2)\n",
    "\n",
    "    for idx, row in frames.iterrows():\n",
    "        videoId = int(row[\"videoId\"])\n",
    "        frameNr = int(row[\"frameNr\"])\n",
    "        x = row[\"x\"]\n",
    "        y = row[\"y\"]\n",
    "        w = row[\"width\"]\n",
    "        h = row[\"height\"]\n",
    "\n",
    "        video_path = get_video_path(repo, videoId)\n",
    "        image_name = f\"v{videoId:06d}fnr{frameNr:07d}\"\n",
    "        label_name = os.path.join(STORAGE_DIR, LABELED_FRAMES_FOLDER, LABELS_FOLDER, train_test, f\"{image_name}.txt\")\n",
    "        image_name = os.path.join(STORAGE_DIR, LABELED_FRAMES_FOLDER, IMAGES_FOLDER, train_test, f\"{image_name}.jpg\")\n",
    "        if not os.path.exists(image_name):\n",
    "            print(f\"creating {image_name}\")\n",
    "        \n",
    "            if previous_frameNr != frameNr:\n",
    "                cap = cv2.VideoCapture(video_path)\n",
    "            \n",
    "            cap.set(cv2.CAP_PROP_POS_FRAMES, frameNr)\n",
    "            _, frame = cap.read()\n",
    "\n",
    "            cv2.imwrite(image_name, frame)\n",
    "\n",
    "        with open(label_name, 'a') as f:\n",
    "            f.write(f\"{0} {x} {y} {w} {h}\\n\")\n",
    "\n",
    "        previous_videoId = videoId\n",
    "        previous_frameNr = frameNr\n",
    "\n",
    "\n",
    "\n"
   ]
  },
  {
   "cell_type": "code",
   "execution_count": 27,
   "metadata": {},
   "outputs": [],
   "source": []
  },
  {
   "cell_type": "code",
   "execution_count": null,
   "metadata": {},
   "outputs": [],
   "source": [
    " "
   ]
  },
  {
   "cell_type": "code",
   "execution_count": null,
   "metadata": {},
   "outputs": [],
   "source": []
  },
  {
   "cell_type": "code",
   "execution_count": null,
   "metadata": {},
   "outputs": [],
   "source": []
  }
 ],
 "metadata": {
  "kernelspec": {
   "display_name": "venv",
   "language": "python",
   "name": "python3"
  },
  "language_info": {
   "codemirror_mode": {
    "name": "ipython",
    "version": 3
   },
   "file_extension": ".py",
   "mimetype": "text/x-python",
   "name": "python",
   "nbconvert_exporter": "python",
   "pygments_lexer": "ipython3",
   "version": "3.12.3"
  }
 },
 "nbformat": 4,
 "nbformat_minor": 2
}
