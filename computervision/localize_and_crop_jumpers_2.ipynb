{
 "cells": [
  {
   "cell_type": "code",
   "execution_count": 1,
   "metadata": {},
   "outputs": [],
   "source": [
    "import os\n",
    "import cv2\n",
    "import shutil\n",
    "import pandas as pd\n",
    "import numpy as np\n",
    "\n",
    "# from colorama import Fore, Style\n",
    "from typing import List\n",
    "from dotenv import load_dotenv\n",
    "from DataRepository import DataRepository\n",
    "from ultralytics import YOLO\n",
    "\n",
    "load_dotenv()\n",
    "STORAGE_DIR = os.getenv(\"STORAGE_DIR\")\n",
    "CROPPED_VIDEOS_FOLDER = \"cropped-videos\"\n",
    "# IMAGES_FOLDER = \"images\"\n",
    "# LABELS_FOLDER = \"labels\"\n",
    "SUPPORTED_VIDEO_FORMATS = os.getenv(\"SUPPORTED_VIDEO_FORMATS\")\n",
    "SUPPORTED_IMAGE_FORMATS = os.getenv(\"SUPPORTED_IMAGE_FORMATS\")\n",
    "VIDEO_IMAGE_PREVIEW_FOLDER = os.getenv(\"VIDEO_IMAGE_PREVIEW_FOLDER\")\n"
   ]
  },
  {
   "cell_type": "code",
   "execution_count": 2,
   "metadata": {},
   "outputs": [],
   "source": [
    "from moviepy import ImageSequenceClip"
   ]
  },
  {
   "cell_type": "code",
   "execution_count": 3,
   "metadata": {},
   "outputs": [
    {
     "name": "stdout",
     "output_type": "stream",
     "text": [
      "/media/miked/Elements/Judge/FINISHED-DB-READY\n",
      "cropped-videos\n"
     ]
    },
    {
     "data": {
      "text/plain": [
       "(None, None)"
      ]
     },
     "execution_count": 3,
     "metadata": {},
     "output_type": "execute_result"
    }
   ],
   "source": [
    "print(STORAGE_DIR), print(CROPPED_VIDEOS_FOLDER)\n",
    "# computervision/labeled_frame_nrs_to_imgs.ipynb"
   ]
  },
  {
   "cell_type": "code",
   "execution_count": 4,
   "metadata": {},
   "outputs": [],
   "source": [
    "os.makedirs(os.path.join(STORAGE_DIR, CROPPED_VIDEOS_FOLDER), exist_ok=True)\n",
    "\n",
    "def get_video_path(repo, videoId):\n",
    "    return os.path.join(STORAGE_DIR, repo.VideoNames.loc[videoId, \"name\"])"
   ]
  },
  {
   "cell_type": "code",
   "execution_count": 5,
   "metadata": {},
   "outputs": [
    {
     "name": "stdout",
     "output_type": "stream",
     "text": [
      "connection established, loading frame paths\n",
      "relative paths of framelabels loaded\n"
     ]
    }
   ],
   "source": [
    "repo = DataRepository()"
   ]
  },
  {
   "cell_type": "code",
   "execution_count": 6,
   "metadata": {},
   "outputs": [
    {
     "data": {
      "text/plain": [
       "'/home/miked/code/judge/runs/detect/train5'"
      ]
     },
     "execution_count": 6,
     "metadata": {},
     "output_type": "execute_result"
    }
   ],
   "source": [
    "modeltrainround = 5\n",
    "modelpath = f\"/home/miked/code/judge/runs/detect/train{modeltrainround}\" if modeltrainround > 0 else f\"/home/miked/code/judge/runs/detect/train\"\n",
    "modelpath"
   ]
  },
  {
   "cell_type": "code",
   "execution_count": 7,
   "metadata": {},
   "outputs": [],
   "source": [
    "# From https://docs.ultralytics.com/modes/predict/#key-features-of-predict-mode\n",
    "# Load a model\n",
    "model = YOLO(os.path.join(modelpath, \"weights\", \"best.pt\"))\n"
   ]
  },
  {
   "cell_type": "code",
   "execution_count": 8,
   "metadata": {},
   "outputs": [
    {
     "data": {
      "text/plain": [
       "[1187]"
      ]
     },
     "execution_count": 8,
     "metadata": {},
     "output_type": "execute_result"
    }
   ],
   "source": [
    "[1187]"
   ]
  },
  {
   "cell_type": "code",
   "execution_count": null,
   "metadata": {},
   "outputs": [
    {
     "name": "stdout",
     "output_type": "stream",
     "text": [
      "min width 431 max_w 1346\n",
      "min_height 354 max_h 357\n",
      "1718\n",
      "MoviePy - Building video /media/miked/Elements/Judge/FINISHED-DB-READY/cropped-videos/224_1326.mp4.\n",
      "MoviePy - Writing video /media/miked/Elements/Judge/FINISHED-DB-READY/cropped-videos/224_1326.mp4\n",
      "\n"
     ]
    },
    {
     "name": "stderr",
     "output_type": "stream",
     "text": [
      "                                                                            \r"
     ]
    },
    {
     "name": "stdout",
     "output_type": "stream",
     "text": [
      "MoviePy - Done !\n",
      "MoviePy - video ready /media/miked/Elements/Judge/FINISHED-DB-READY/cropped-videos/224_1326.mp4\n",
      "min width 291 max_w 515\n",
      "min_height 198 max_h 250\n",
      "2111\n",
      "MoviePy - Building video /media/miked/Elements/Judge/FINISHED-DB-READY/cropped-videos/224_1330.mp4.\n",
      "MoviePy - Writing video /media/miked/Elements/Judge/FINISHED-DB-READY/cropped-videos/224_1330.mp4\n",
      "\n"
     ]
    },
    {
     "name": "stderr",
     "output_type": "stream",
     "text": [
      "                                                                            \r"
     ]
    },
    {
     "name": "stdout",
     "output_type": "stream",
     "text": [
      "MoviePy - Done !\n",
      "MoviePy - video ready /media/miked/Elements/Judge/FINISHED-DB-READY/cropped-videos/224_1330.mp4\n",
      "min width 276 max_w 627\n",
      "min_height 252 max_h 266\n",
      "1985\n",
      "MoviePy - Building video /media/miked/Elements/Judge/FINISHED-DB-READY/cropped-videos/224_1331.mp4.\n",
      "MoviePy - Writing video /media/miked/Elements/Judge/FINISHED-DB-READY/cropped-videos/224_1331.mp4\n",
      "\n"
     ]
    },
    {
     "name": "stderr",
     "output_type": "stream",
     "text": [
      "                                                                            \r"
     ]
    },
    {
     "name": "stdout",
     "output_type": "stream",
     "text": [
      "MoviePy - Done !\n",
      "MoviePy - video ready /media/miked/Elements/Judge/FINISHED-DB-READY/cropped-videos/224_1331.mp4\n",
      "min width 289 max_w 579\n",
      "min_height 451 max_h 454\n",
      "1926\n",
      "MoviePy - Building video /media/miked/Elements/Judge/FINISHED-DB-READY/cropped-videos/224_1332.mp4.\n",
      "MoviePy - Writing video /media/miked/Elements/Judge/FINISHED-DB-READY/cropped-videos/224_1332.mp4\n",
      "\n"
     ]
    },
    {
     "name": "stderr",
     "output_type": "stream",
     "text": [
      "                                                                            \r"
     ]
    },
    {
     "name": "stdout",
     "output_type": "stream",
     "text": [
      "MoviePy - Done !\n",
      "MoviePy - video ready /media/miked/Elements/Judge/FINISHED-DB-READY/cropped-videos/224_1332.mp4\n",
      "min width 259 max_w 475\n",
      "min_height 228 max_h 238\n",
      "2145\n",
      "MoviePy - Building video /media/miked/Elements/Judge/FINISHED-DB-READY/cropped-videos/224_1333.mp4.\n",
      "MoviePy - Writing video /media/miked/Elements/Judge/FINISHED-DB-READY/cropped-videos/224_1333.mp4\n",
      "\n"
     ]
    },
    {
     "name": "stderr",
     "output_type": "stream",
     "text": [
      "                                                                            \r"
     ]
    },
    {
     "name": "stdout",
     "output_type": "stream",
     "text": [
      "MoviePy - Done !\n",
      "MoviePy - video ready /media/miked/Elements/Judge/FINISHED-DB-READY/cropped-videos/224_1333.mp4\n",
      "min width 920 max_w 1607\n",
      "min_height 415 max_h 526\n",
      "1619\n",
      "MoviePy - Building video /media/miked/Elements/Judge/FINISHED-DB-READY/cropped-videos/224_1334.mp4.\n",
      "MoviePy - Writing video /media/miked/Elements/Judge/FINISHED-DB-READY/cropped-videos/224_1334.mp4\n",
      "\n"
     ]
    },
    {
     "name": "stderr",
     "output_type": "stream",
     "text": [
      "                                                                            \r"
     ]
    },
    {
     "name": "stdout",
     "output_type": "stream",
     "text": [
      "MoviePy - Done !\n",
      "MoviePy - video ready /media/miked/Elements/Judge/FINISHED-DB-READY/cropped-videos/224_1334.mp4\n",
      "min width 230 max_w 818\n",
      "min_height 228 max_h 262\n",
      "1542\n",
      "MoviePy - Building video /media/miked/Elements/Judge/FINISHED-DB-READY/cropped-videos/224_1335.mp4.\n",
      "MoviePy - Writing video /media/miked/Elements/Judge/FINISHED-DB-READY/cropped-videos/224_1335.mp4\n",
      "\n"
     ]
    },
    {
     "name": "stderr",
     "output_type": "stream",
     "text": [
      "                                                                            \r"
     ]
    },
    {
     "name": "stdout",
     "output_type": "stream",
     "text": [
      "MoviePy - Done !\n",
      "MoviePy - video ready /media/miked/Elements/Judge/FINISHED-DB-READY/cropped-videos/224_1335.mp4\n",
      "min width 364 max_w 1095\n",
      "min_height 310 max_h 315\n",
      "1626\n",
      "MoviePy - Building video /media/miked/Elements/Judge/FINISHED-DB-READY/cropped-videos/224_1336.mp4.\n",
      "MoviePy - Writing video /media/miked/Elements/Judge/FINISHED-DB-READY/cropped-videos/224_1336.mp4\n",
      "\n"
     ]
    },
    {
     "name": "stderr",
     "output_type": "stream",
     "text": [
      "                                                                            \r"
     ]
    },
    {
     "name": "stdout",
     "output_type": "stream",
     "text": [
      "MoviePy - Done !\n",
      "MoviePy - video ready /media/miked/Elements/Judge/FINISHED-DB-READY/cropped-videos/224_1336.mp4\n",
      "min width 184 max_w 423\n",
      "min_height 189 max_h 296\n",
      "2516\n",
      "MoviePy - Building video /media/miked/Elements/Judge/FINISHED-DB-READY/cropped-videos/224_1337.mp4.\n",
      "MoviePy - Writing video /media/miked/Elements/Judge/FINISHED-DB-READY/cropped-videos/224_1337.mp4\n",
      "\n"
     ]
    },
    {
     "name": "stderr",
     "output_type": "stream",
     "text": [
      "                                                                            \r"
     ]
    },
    {
     "name": "stdout",
     "output_type": "stream",
     "text": [
      "MoviePy - Done !\n",
      "MoviePy - video ready /media/miked/Elements/Judge/FINISHED-DB-READY/cropped-videos/224_1337.mp4\n",
      "min width 167 max_w 518\n",
      "min_height 282 max_h 370\n",
      "2269\n",
      "MoviePy - Building video /media/miked/Elements/Judge/FINISHED-DB-READY/cropped-videos/224_1338.mp4.\n",
      "MoviePy - Writing video /media/miked/Elements/Judge/FINISHED-DB-READY/cropped-videos/224_1338.mp4\n",
      "\n"
     ]
    },
    {
     "name": "stderr",
     "output_type": "stream",
     "text": [
      "                                                                            \r"
     ]
    },
    {
     "name": "stdout",
     "output_type": "stream",
     "text": [
      "MoviePy - Done !\n",
      "MoviePy - video ready /media/miked/Elements/Judge/FINISHED-DB-READY/cropped-videos/224_1338.mp4\n",
      "min width 249 max_w 1328\n",
      "min_height 214 max_h 347\n",
      "2528\n",
      "MoviePy - Building video /media/miked/Elements/Judge/FINISHED-DB-READY/cropped-videos/224_1339.mp4.\n",
      "MoviePy - Writing video /media/miked/Elements/Judge/FINISHED-DB-READY/cropped-videos/224_1339.mp4\n",
      "\n"
     ]
    },
    {
     "name": "stderr",
     "output_type": "stream",
     "text": [
      "                                                                            \r"
     ]
    },
    {
     "name": "stdout",
     "output_type": "stream",
     "text": [
      "MoviePy - Done !\n",
      "MoviePy - video ready /media/miked/Elements/Judge/FINISHED-DB-READY/cropped-videos/224_1339.mp4\n",
      "min width 274 max_w 539\n",
      "min_height 203 max_h 267\n",
      "2403\n",
      "MoviePy - Building video /media/miked/Elements/Judge/FINISHED-DB-READY/cropped-videos/224_1340.mp4.\n",
      "MoviePy - Writing video /media/miked/Elements/Judge/FINISHED-DB-READY/cropped-videos/224_1340.mp4\n",
      "\n"
     ]
    },
    {
     "name": "stderr",
     "output_type": "stream",
     "text": [
      "                                                                            \r"
     ]
    },
    {
     "name": "stdout",
     "output_type": "stream",
     "text": [
      "MoviePy - Done !\n",
      "MoviePy - video ready /media/miked/Elements/Judge/FINISHED-DB-READY/cropped-videos/224_1340.mp4\n",
      "min width 291 max_w 496\n",
      "min_height 147 max_h 276\n",
      "2436\n",
      "MoviePy - Building video /media/miked/Elements/Judge/FINISHED-DB-READY/cropped-videos/224_1341.mp4.\n",
      "MoviePy - Writing video /media/miked/Elements/Judge/FINISHED-DB-READY/cropped-videos/224_1341.mp4\n",
      "\n"
     ]
    },
    {
     "name": "stderr",
     "output_type": "stream",
     "text": [
      "                                                                            \r"
     ]
    },
    {
     "name": "stdout",
     "output_type": "stream",
     "text": [
      "MoviePy - Done !\n",
      "MoviePy - video ready /media/miked/Elements/Judge/FINISHED-DB-READY/cropped-videos/224_1341.mp4\n",
      "min width 169 max_w 523\n",
      "min_height 198 max_h 217\n",
      "1304\n",
      "MoviePy - Building video /media/miked/Elements/Judge/FINISHED-DB-READY/cropped-videos/224_1342.mp4.\n",
      "MoviePy - Writing video /media/miked/Elements/Judge/FINISHED-DB-READY/cropped-videos/224_1342.mp4\n",
      "\n"
     ]
    },
    {
     "name": "stderr",
     "output_type": "stream",
     "text": [
      "                                                                            \r"
     ]
    },
    {
     "name": "stdout",
     "output_type": "stream",
     "text": [
      "MoviePy - Done !\n",
      "MoviePy - video ready /media/miked/Elements/Judge/FINISHED-DB-READY/cropped-videos/224_1342.mp4\n",
      "min width 310 max_w 483\n",
      "min_height 208 max_h 256\n",
      "2314\n",
      "MoviePy - Building video /media/miked/Elements/Judge/FINISHED-DB-READY/cropped-videos/224_1343.mp4.\n",
      "MoviePy - Writing video /media/miked/Elements/Judge/FINISHED-DB-READY/cropped-videos/224_1343.mp4\n",
      "\n"
     ]
    },
    {
     "name": "stderr",
     "output_type": "stream",
     "text": [
      "                                                                            \r"
     ]
    },
    {
     "name": "stdout",
     "output_type": "stream",
     "text": [
      "MoviePy - Done !\n",
      "MoviePy - video ready /media/miked/Elements/Judge/FINISHED-DB-READY/cropped-videos/224_1343.mp4\n",
      "min width 170 max_w 755\n",
      "min_height 207 max_h 278\n",
      "2443\n",
      "MoviePy - Building video /media/miked/Elements/Judge/FINISHED-DB-READY/cropped-videos/224_1344.mp4.\n",
      "MoviePy - Writing video /media/miked/Elements/Judge/FINISHED-DB-READY/cropped-videos/224_1344.mp4\n",
      "\n"
     ]
    },
    {
     "name": "stderr",
     "output_type": "stream",
     "text": [
      "                                                                            \r"
     ]
    },
    {
     "name": "stdout",
     "output_type": "stream",
     "text": [
      "MoviePy - Done !\n",
      "MoviePy - video ready /media/miked/Elements/Judge/FINISHED-DB-READY/cropped-videos/224_1344.mp4\n",
      "min width 235 max_w 832\n",
      "min_height 178 max_h 244\n",
      "2214\n",
      "MoviePy - Building video /media/miked/Elements/Judge/FINISHED-DB-READY/cropped-videos/224_1345.mp4.\n",
      "MoviePy - Writing video /media/miked/Elements/Judge/FINISHED-DB-READY/cropped-videos/224_1345.mp4\n",
      "\n"
     ]
    },
    {
     "name": "stderr",
     "output_type": "stream",
     "text": [
      "                                                                            \r"
     ]
    },
    {
     "name": "stdout",
     "output_type": "stream",
     "text": [
      "MoviePy - Done !\n",
      "MoviePy - video ready /media/miked/Elements/Judge/FINISHED-DB-READY/cropped-videos/224_1345.mp4\n",
      "min width 262 max_w 464\n",
      "min_height 129 max_h 274\n",
      "2318\n",
      "MoviePy - Building video /media/miked/Elements/Judge/FINISHED-DB-READY/cropped-videos/224_1346.mp4.\n",
      "MoviePy - Writing video /media/miked/Elements/Judge/FINISHED-DB-READY/cropped-videos/224_1346.mp4\n",
      "\n"
     ]
    },
    {
     "name": "stderr",
     "output_type": "stream",
     "text": [
      "                                                                            \r"
     ]
    },
    {
     "name": "stdout",
     "output_type": "stream",
     "text": [
      "MoviePy - Done !\n",
      "MoviePy - video ready /media/miked/Elements/Judge/FINISHED-DB-READY/cropped-videos/224_1346.mp4\n",
      "min width 238 max_w 547\n",
      "min_height 177 max_h 249\n",
      "2527\n",
      "MoviePy - Building video /media/miked/Elements/Judge/FINISHED-DB-READY/cropped-videos/224_1347.mp4.\n",
      "MoviePy - Writing video /media/miked/Elements/Judge/FINISHED-DB-READY/cropped-videos/224_1347.mp4\n",
      "\n"
     ]
    },
    {
     "name": "stderr",
     "output_type": "stream",
     "text": [
      "                                                                            \r"
     ]
    },
    {
     "name": "stdout",
     "output_type": "stream",
     "text": [
      "MoviePy - Done !\n",
      "MoviePy - video ready /media/miked/Elements/Judge/FINISHED-DB-READY/cropped-videos/224_1347.mp4\n",
      "min width 465 max_w 1495\n",
      "min_height 337 max_h 500\n",
      "2538\n",
      "MoviePy - Building video /media/miked/Elements/Judge/FINISHED-DB-READY/cropped-videos/224_1348.mp4.\n",
      "MoviePy - Writing video /media/miked/Elements/Judge/FINISHED-DB-READY/cropped-videos/224_1348.mp4\n",
      "\n"
     ]
    },
    {
     "name": "stderr",
     "output_type": "stream",
     "text": [
      "                                                                            \r"
     ]
    },
    {
     "name": "stdout",
     "output_type": "stream",
     "text": [
      "MoviePy - Done !\n",
      "MoviePy - video ready /media/miked/Elements/Judge/FINISHED-DB-READY/cropped-videos/224_1348.mp4\n",
      "min width 299 max_w 629\n",
      "min_height 360 max_h 461\n",
      "2516\n",
      "MoviePy - Building video /media/miked/Elements/Judge/FINISHED-DB-READY/cropped-videos/224_1349.mp4.\n",
      "MoviePy - Writing video /media/miked/Elements/Judge/FINISHED-DB-READY/cropped-videos/224_1349.mp4\n",
      "\n"
     ]
    },
    {
     "name": "stderr",
     "output_type": "stream",
     "text": [
      "                                                                            \r"
     ]
    },
    {
     "name": "stdout",
     "output_type": "stream",
     "text": [
      "MoviePy - Done !\n",
      "MoviePy - video ready /media/miked/Elements/Judge/FINISHED-DB-READY/cropped-videos/224_1349.mp4\n",
      "min width 304 max_w 1499\n",
      "min_height 487 max_h 519\n",
      "2429\n",
      "MoviePy - Building video /media/miked/Elements/Judge/FINISHED-DB-READY/cropped-videos/224_1350.mp4.\n",
      "MoviePy - Writing video /media/miked/Elements/Judge/FINISHED-DB-READY/cropped-videos/224_1350.mp4\n",
      "\n"
     ]
    },
    {
     "name": "stderr",
     "output_type": "stream",
     "text": [
      "                                                                            \r"
     ]
    },
    {
     "name": "stdout",
     "output_type": "stream",
     "text": [
      "MoviePy - Done !\n",
      "MoviePy - video ready /media/miked/Elements/Judge/FINISHED-DB-READY/cropped-videos/224_1350.mp4\n",
      "min width 235 max_w 791\n",
      "min_height 348 max_h 423\n",
      "2564\n",
      "MoviePy - Building video /media/miked/Elements/Judge/FINISHED-DB-READY/cropped-videos/224_1351.mp4.\n",
      "MoviePy - Writing video /media/miked/Elements/Judge/FINISHED-DB-READY/cropped-videos/224_1351.mp4\n",
      "\n"
     ]
    },
    {
     "name": "stderr",
     "output_type": "stream",
     "text": [
      "                                                                            \r"
     ]
    },
    {
     "name": "stdout",
     "output_type": "stream",
     "text": [
      "MoviePy - Done !\n",
      "MoviePy - video ready /media/miked/Elements/Judge/FINISHED-DB-READY/cropped-videos/224_1351.mp4\n",
      "min width 329 max_w 941\n",
      "min_height 338 max_h 418\n",
      "2470\n",
      "MoviePy - Building video /media/miked/Elements/Judge/FINISHED-DB-READY/cropped-videos/224_1352.mp4.\n",
      "MoviePy - Writing video /media/miked/Elements/Judge/FINISHED-DB-READY/cropped-videos/224_1352.mp4\n",
      "\n"
     ]
    },
    {
     "name": "stderr",
     "output_type": "stream",
     "text": [
      "                                                                            \r"
     ]
    },
    {
     "name": "stdout",
     "output_type": "stream",
     "text": [
      "MoviePy - Done !\n",
      "MoviePy - video ready /media/miked/Elements/Judge/FINISHED-DB-READY/cropped-videos/224_1352.mp4\n",
      "min width 461 max_w 881\n",
      "min_height 486 max_h 582\n",
      "2434\n",
      "MoviePy - Building video /media/miked/Elements/Judge/FINISHED-DB-READY/cropped-videos/224_1353.mp4.\n",
      "MoviePy - Writing video /media/miked/Elements/Judge/FINISHED-DB-READY/cropped-videos/224_1353.mp4\n",
      "\n"
     ]
    },
    {
     "name": "stderr",
     "output_type": "stream",
     "text": [
      "                                                                            \r"
     ]
    },
    {
     "name": "stdout",
     "output_type": "stream",
     "text": [
      "MoviePy - Done !\n",
      "MoviePy - video ready /media/miked/Elements/Judge/FINISHED-DB-READY/cropped-videos/224_1353.mp4\n",
      "min width 228 max_w 1368\n",
      "min_height 286 max_h 451\n",
      "2525\n",
      "MoviePy - Building video /media/miked/Elements/Judge/FINISHED-DB-READY/cropped-videos/224_1354.mp4.\n",
      "MoviePy - Writing video /media/miked/Elements/Judge/FINISHED-DB-READY/cropped-videos/224_1354.mp4\n",
      "\n"
     ]
    },
    {
     "name": "stderr",
     "output_type": "stream",
     "text": [
      "                                                                            \r"
     ]
    },
    {
     "name": "stdout",
     "output_type": "stream",
     "text": [
      "MoviePy - Done !\n",
      "MoviePy - video ready /media/miked/Elements/Judge/FINISHED-DB-READY/cropped-videos/224_1354.mp4\n",
      "min width 326 max_w 1252\n",
      "min_height 368 max_h 499\n",
      "2616\n",
      "MoviePy - Building video /media/miked/Elements/Judge/FINISHED-DB-READY/cropped-videos/224_1355.mp4.\n",
      "MoviePy - Writing video /media/miked/Elements/Judge/FINISHED-DB-READY/cropped-videos/224_1355.mp4\n",
      "\n"
     ]
    },
    {
     "name": "stderr",
     "output_type": "stream",
     "text": [
      "                                                                            \r"
     ]
    },
    {
     "name": "stdout",
     "output_type": "stream",
     "text": [
      "MoviePy - Done !\n",
      "MoviePy - video ready /media/miked/Elements/Judge/FINISHED-DB-READY/cropped-videos/224_1355.mp4\n",
      "min width 264 max_w 734\n",
      "min_height 330 max_h 352\n",
      "2408\n",
      "MoviePy - Building video /media/miked/Elements/Judge/FINISHED-DB-READY/cropped-videos/224_1356.mp4.\n",
      "MoviePy - Writing video /media/miked/Elements/Judge/FINISHED-DB-READY/cropped-videos/224_1356.mp4\n",
      "\n"
     ]
    },
    {
     "name": "stderr",
     "output_type": "stream",
     "text": [
      "                                                                            \r"
     ]
    },
    {
     "name": "stdout",
     "output_type": "stream",
     "text": [
      "MoviePy - Done !\n",
      "MoviePy - video ready /media/miked/Elements/Judge/FINISHED-DB-READY/cropped-videos/224_1356.mp4\n",
      "min width 394 max_w 785\n",
      "min_height 256 max_h 364\n",
      "2430\n",
      "MoviePy - Building video /media/miked/Elements/Judge/FINISHED-DB-READY/cropped-videos/224_1357.mp4.\n",
      "MoviePy - Writing video /media/miked/Elements/Judge/FINISHED-DB-READY/cropped-videos/224_1357.mp4\n",
      "\n"
     ]
    },
    {
     "name": "stderr",
     "output_type": "stream",
     "text": [
      "                                                                            \r"
     ]
    },
    {
     "name": "stdout",
     "output_type": "stream",
     "text": [
      "MoviePy - Done !\n",
      "MoviePy - video ready /media/miked/Elements/Judge/FINISHED-DB-READY/cropped-videos/224_1357.mp4\n",
      "min width 376 max_w 1665\n",
      "min_height 308 max_h 435\n",
      "2363\n",
      "MoviePy - Building video /media/miked/Elements/Judge/FINISHED-DB-READY/cropped-videos/224_1358.mp4.\n",
      "MoviePy - Writing video /media/miked/Elements/Judge/FINISHED-DB-READY/cropped-videos/224_1358.mp4\n",
      "\n"
     ]
    },
    {
     "name": "stderr",
     "output_type": "stream",
     "text": [
      "                                                                            \r"
     ]
    },
    {
     "name": "stdout",
     "output_type": "stream",
     "text": [
      "MoviePy - Done !\n",
      "MoviePy - video ready /media/miked/Elements/Judge/FINISHED-DB-READY/cropped-videos/224_1358.mp4\n",
      "min width 205 max_w 854\n",
      "min_height 307 max_h 407\n",
      "2419\n",
      "MoviePy - Building video /media/miked/Elements/Judge/FINISHED-DB-READY/cropped-videos/224_1359.mp4.\n",
      "MoviePy - Writing video /media/miked/Elements/Judge/FINISHED-DB-READY/cropped-videos/224_1359.mp4\n",
      "\n"
     ]
    },
    {
     "name": "stderr",
     "output_type": "stream",
     "text": [
      "                                                                            \r"
     ]
    },
    {
     "name": "stdout",
     "output_type": "stream",
     "text": [
      "MoviePy - Done !\n",
      "MoviePy - video ready /media/miked/Elements/Judge/FINISHED-DB-READY/cropped-videos/224_1359.mp4\n",
      "min width 351 max_w 770\n",
      "min_height 369 max_h 369\n",
      "2465\n",
      "MoviePy - Building video /media/miked/Elements/Judge/FINISHED-DB-READY/cropped-videos/224_1360.mp4.\n",
      "MoviePy - Writing video /media/miked/Elements/Judge/FINISHED-DB-READY/cropped-videos/224_1360.mp4\n",
      "\n"
     ]
    },
    {
     "name": "stderr",
     "output_type": "stream",
     "text": [
      "                                                                            \r"
     ]
    },
    {
     "name": "stdout",
     "output_type": "stream",
     "text": [
      "MoviePy - Done !\n",
      "MoviePy - video ready /media/miked/Elements/Judge/FINISHED-DB-READY/cropped-videos/224_1360.mp4\n",
      "min width 194 max_w 591\n",
      "min_height 212 max_h 372\n",
      "2378\n",
      "MoviePy - Building video /media/miked/Elements/Judge/FINISHED-DB-READY/cropped-videos/224_1361.mp4.\n",
      "MoviePy - Writing video /media/miked/Elements/Judge/FINISHED-DB-READY/cropped-videos/224_1361.mp4\n",
      "\n"
     ]
    },
    {
     "name": "stderr",
     "output_type": "stream",
     "text": [
      "                                                                            \r"
     ]
    },
    {
     "name": "stdout",
     "output_type": "stream",
     "text": [
      "MoviePy - Done !\n",
      "MoviePy - video ready /media/miked/Elements/Judge/FINISHED-DB-READY/cropped-videos/224_1361.mp4\n",
      "min width 380 max_w 720\n",
      "min_height 293 max_h 365\n",
      "2379\n",
      "MoviePy - Building video /media/miked/Elements/Judge/FINISHED-DB-READY/cropped-videos/224_1362.mp4.\n",
      "MoviePy - Writing video /media/miked/Elements/Judge/FINISHED-DB-READY/cropped-videos/224_1362.mp4\n",
      "\n"
     ]
    },
    {
     "name": "stderr",
     "output_type": "stream",
     "text": [
      "                                                                            \r"
     ]
    },
    {
     "name": "stdout",
     "output_type": "stream",
     "text": [
      "MoviePy - Done !\n",
      "MoviePy - video ready /media/miked/Elements/Judge/FINISHED-DB-READY/cropped-videos/224_1362.mp4\n",
      "min width 359 max_w 701\n",
      "min_height 294 max_h 350\n",
      "2384\n",
      "MoviePy - Building video /media/miked/Elements/Judge/FINISHED-DB-READY/cropped-videos/224_1363.mp4.\n",
      "MoviePy - Writing video /media/miked/Elements/Judge/FINISHED-DB-READY/cropped-videos/224_1363.mp4\n",
      "\n"
     ]
    },
    {
     "name": "stderr",
     "output_type": "stream",
     "text": [
      "                                                                            \r"
     ]
    },
    {
     "name": "stdout",
     "output_type": "stream",
     "text": [
      "MoviePy - Done !\n",
      "MoviePy - video ready /media/miked/Elements/Judge/FINISHED-DB-READY/cropped-videos/224_1363.mp4\n",
      "min width 370 max_w 689\n",
      "min_height 405 max_h 405\n",
      "2365\n",
      "MoviePy - Building video /media/miked/Elements/Judge/FINISHED-DB-READY/cropped-videos/224_1364.mp4.\n",
      "MoviePy - Writing video /media/miked/Elements/Judge/FINISHED-DB-READY/cropped-videos/224_1364.mp4\n",
      "\n"
     ]
    },
    {
     "name": "stderr",
     "output_type": "stream",
     "text": [
      "                                                                            \r"
     ]
    },
    {
     "name": "stdout",
     "output_type": "stream",
     "text": [
      "MoviePy - Done !\n",
      "MoviePy - video ready /media/miked/Elements/Judge/FINISHED-DB-READY/cropped-videos/224_1364.mp4\n",
      "min width 480 max_w 1512\n",
      "min_height 266 max_h 414\n",
      "2429\n",
      "MoviePy - Building video /media/miked/Elements/Judge/FINISHED-DB-READY/cropped-videos/224_1365.mp4.\n",
      "MoviePy - Writing video /media/miked/Elements/Judge/FINISHED-DB-READY/cropped-videos/224_1365.mp4\n",
      "\n"
     ]
    },
    {
     "name": "stderr",
     "output_type": "stream",
     "text": [
      "                                                                            \r"
     ]
    },
    {
     "name": "stdout",
     "output_type": "stream",
     "text": [
      "MoviePy - Done !\n",
      "MoviePy - video ready /media/miked/Elements/Judge/FINISHED-DB-READY/cropped-videos/224_1365.mp4\n",
      "min width 292 max_w 885\n",
      "min_height 306 max_h 447\n",
      "2349\n",
      "MoviePy - Building video /media/miked/Elements/Judge/FINISHED-DB-READY/cropped-videos/224_1366.mp4.\n",
      "MoviePy - Writing video /media/miked/Elements/Judge/FINISHED-DB-READY/cropped-videos/224_1366.mp4\n",
      "\n"
     ]
    },
    {
     "name": "stderr",
     "output_type": "stream",
     "text": [
      "                                                                            \r"
     ]
    },
    {
     "name": "stdout",
     "output_type": "stream",
     "text": [
      "MoviePy - Done !\n",
      "MoviePy - video ready /media/miked/Elements/Judge/FINISHED-DB-READY/cropped-videos/224_1366.mp4\n",
      "min width 341 max_w 1920\n",
      "min_height 1080 max_h 1080\n",
      "2742\n",
      "MoviePy - Building video /media/miked/Elements/Judge/FINISHED-DB-READY/cropped-videos/224_1367.mp4.\n",
      "MoviePy - Writing video /media/miked/Elements/Judge/FINISHED-DB-READY/cropped-videos/224_1367.mp4\n",
      "\n"
     ]
    },
    {
     "name": "stderr",
     "output_type": "stream",
     "text": [
      "                                                                            \r"
     ]
    },
    {
     "name": "stdout",
     "output_type": "stream",
     "text": [
      "MoviePy - Done !\n",
      "MoviePy - video ready /media/miked/Elements/Judge/FINISHED-DB-READY/cropped-videos/224_1367.mp4\n",
      "min width 214 max_w 553\n",
      "min_height 274 max_h 373\n",
      "2342\n",
      "MoviePy - Building video /media/miked/Elements/Judge/FINISHED-DB-READY/cropped-videos/224_1368.mp4.\n",
      "MoviePy - Writing video /media/miked/Elements/Judge/FINISHED-DB-READY/cropped-videos/224_1368.mp4\n",
      "\n"
     ]
    },
    {
     "name": "stderr",
     "output_type": "stream",
     "text": [
      "                                                                            \r"
     ]
    },
    {
     "name": "stdout",
     "output_type": "stream",
     "text": [
      "MoviePy - Done !\n",
      "MoviePy - video ready /media/miked/Elements/Judge/FINISHED-DB-READY/cropped-videos/224_1368.mp4\n",
      "min width 307 max_w 728\n",
      "min_height 454 max_h 461\n",
      "2314\n",
      "MoviePy - Building video /media/miked/Elements/Judge/FINISHED-DB-READY/cropped-videos/224_1369.mp4.\n",
      "MoviePy - Writing video /media/miked/Elements/Judge/FINISHED-DB-READY/cropped-videos/224_1369.mp4\n",
      "\n"
     ]
    },
    {
     "name": "stderr",
     "output_type": "stream",
     "text": [
      "                                                                            \r"
     ]
    },
    {
     "name": "stdout",
     "output_type": "stream",
     "text": [
      "MoviePy - Done !\n",
      "MoviePy - video ready /media/miked/Elements/Judge/FINISHED-DB-READY/cropped-videos/224_1369.mp4\n",
      "min width 231 max_w 873\n",
      "min_height 307 max_h 436\n",
      "2244\n",
      "MoviePy - Building video /media/miked/Elements/Judge/FINISHED-DB-READY/cropped-videos/224_1370.mp4.\n",
      "MoviePy - Writing video /media/miked/Elements/Judge/FINISHED-DB-READY/cropped-videos/224_1370.mp4\n",
      "\n"
     ]
    },
    {
     "name": "stderr",
     "output_type": "stream",
     "text": [
      "                                                                            \r"
     ]
    },
    {
     "name": "stdout",
     "output_type": "stream",
     "text": [
      "MoviePy - Done !\n",
      "MoviePy - video ready /media/miked/Elements/Judge/FINISHED-DB-READY/cropped-videos/224_1370.mp4\n",
      "min width 411 max_w 779\n",
      "min_height 313 max_h 419\n",
      "2311\n",
      "MoviePy - Building video /media/miked/Elements/Judge/FINISHED-DB-READY/cropped-videos/224_1371.mp4.\n",
      "MoviePy - Writing video /media/miked/Elements/Judge/FINISHED-DB-READY/cropped-videos/224_1371.mp4\n",
      "\n"
     ]
    },
    {
     "name": "stderr",
     "output_type": "stream",
     "text": [
      "                                                                            \r"
     ]
    },
    {
     "name": "stdout",
     "output_type": "stream",
     "text": [
      "MoviePy - Done !\n",
      "MoviePy - video ready /media/miked/Elements/Judge/FINISHED-DB-READY/cropped-videos/224_1371.mp4\n",
      "min width 313 max_w 648\n",
      "min_height 306 max_h 349\n",
      "2194\n",
      "MoviePy - Building video /media/miked/Elements/Judge/FINISHED-DB-READY/cropped-videos/224_1372.mp4.\n",
      "MoviePy - Writing video /media/miked/Elements/Judge/FINISHED-DB-READY/cropped-videos/224_1372.mp4\n",
      "\n"
     ]
    },
    {
     "name": "stderr",
     "output_type": "stream",
     "text": [
      "                                                                            \r"
     ]
    },
    {
     "name": "stdout",
     "output_type": "stream",
     "text": [
      "MoviePy - Done !\n",
      "MoviePy - video ready /media/miked/Elements/Judge/FINISHED-DB-READY/cropped-videos/224_1372.mp4\n",
      "min width 334 max_w 704\n",
      "min_height 357 max_h 414\n",
      "2337\n",
      "MoviePy - Building video /media/miked/Elements/Judge/FINISHED-DB-READY/cropped-videos/224_1373.mp4.\n",
      "MoviePy - Writing video /media/miked/Elements/Judge/FINISHED-DB-READY/cropped-videos/224_1373.mp4\n",
      "\n"
     ]
    },
    {
     "name": "stderr",
     "output_type": "stream",
     "text": [
      "                                                                            \r"
     ]
    },
    {
     "name": "stdout",
     "output_type": "stream",
     "text": [
      "MoviePy - Done !\n",
      "MoviePy - video ready /media/miked/Elements/Judge/FINISHED-DB-READY/cropped-videos/224_1373.mp4\n",
      "min width 197 max_w 615\n",
      "min_height 270 max_h 359\n",
      "2327\n",
      "MoviePy - Building video /media/miked/Elements/Judge/FINISHED-DB-READY/cropped-videos/224_1375.mp4.\n",
      "MoviePy - Writing video /media/miked/Elements/Judge/FINISHED-DB-READY/cropped-videos/224_1375.mp4\n",
      "\n"
     ]
    },
    {
     "name": "stderr",
     "output_type": "stream",
     "text": [
      "                                                                            \r"
     ]
    },
    {
     "name": "stdout",
     "output_type": "stream",
     "text": [
      "MoviePy - Done !\n",
      "MoviePy - video ready /media/miked/Elements/Judge/FINISHED-DB-READY/cropped-videos/224_1375.mp4\n",
      "min width 244 max_w 861\n",
      "min_height 337 max_h 562\n",
      "2312\n",
      "MoviePy - Building video /media/miked/Elements/Judge/FINISHED-DB-READY/cropped-videos/224_1376.mp4.\n",
      "MoviePy - Writing video /media/miked/Elements/Judge/FINISHED-DB-READY/cropped-videos/224_1376.mp4\n",
      "\n"
     ]
    },
    {
     "name": "stderr",
     "output_type": "stream",
     "text": [
      "                                                                            \r"
     ]
    },
    {
     "name": "stdout",
     "output_type": "stream",
     "text": [
      "MoviePy - Done !\n",
      "MoviePy - video ready /media/miked/Elements/Judge/FINISHED-DB-READY/cropped-videos/224_1376.mp4\n",
      "min width 484 max_w 661\n",
      "min_height 291 max_h 377\n",
      "2313\n",
      "MoviePy - Building video /media/miked/Elements/Judge/FINISHED-DB-READY/cropped-videos/224_1377.mp4.\n",
      "MoviePy - Writing video /media/miked/Elements/Judge/FINISHED-DB-READY/cropped-videos/224_1377.mp4\n",
      "\n"
     ]
    },
    {
     "name": "stderr",
     "output_type": "stream",
     "text": [
      "                                                                            \r"
     ]
    },
    {
     "name": "stdout",
     "output_type": "stream",
     "text": [
      "MoviePy - Done !\n",
      "MoviePy - video ready /media/miked/Elements/Judge/FINISHED-DB-READY/cropped-videos/224_1377.mp4\n",
      "min width 389 max_w 868\n",
      "min_height 415 max_h 480\n",
      "2328\n",
      "MoviePy - Building video /media/miked/Elements/Judge/FINISHED-DB-READY/cropped-videos/224_1378.mp4.\n",
      "MoviePy - Writing video /media/miked/Elements/Judge/FINISHED-DB-READY/cropped-videos/224_1378.mp4\n",
      "\n"
     ]
    },
    {
     "name": "stderr",
     "output_type": "stream",
     "text": [
      "                                                                            \r"
     ]
    },
    {
     "name": "stdout",
     "output_type": "stream",
     "text": [
      "MoviePy - Done !\n",
      "MoviePy - video ready /media/miked/Elements/Judge/FINISHED-DB-READY/cropped-videos/224_1378.mp4\n",
      "min width 264 max_w 573\n",
      "min_height 269 max_h 310\n",
      "2328\n",
      "MoviePy - Building video /media/miked/Elements/Judge/FINISHED-DB-READY/cropped-videos/224_1379.mp4.\n",
      "MoviePy - Writing video /media/miked/Elements/Judge/FINISHED-DB-READY/cropped-videos/224_1379.mp4\n",
      "\n"
     ]
    },
    {
     "name": "stderr",
     "output_type": "stream",
     "text": [
      "                                                                            \r"
     ]
    },
    {
     "name": "stdout",
     "output_type": "stream",
     "text": [
      "MoviePy - Done !\n",
      "MoviePy - video ready /media/miked/Elements/Judge/FINISHED-DB-READY/cropped-videos/224_1379.mp4\n",
      "min width 275 max_w 573\n",
      "min_height 359 max_h 382\n",
      "2266\n",
      "MoviePy - Building video /media/miked/Elements/Judge/FINISHED-DB-READY/cropped-videos/224_1380.mp4.\n",
      "MoviePy - Writing video /media/miked/Elements/Judge/FINISHED-DB-READY/cropped-videos/224_1380.mp4\n",
      "\n"
     ]
    },
    {
     "name": "stderr",
     "output_type": "stream",
     "text": [
      "                                                                            \r"
     ]
    },
    {
     "name": "stdout",
     "output_type": "stream",
     "text": [
      "MoviePy - Done !\n",
      "MoviePy - video ready /media/miked/Elements/Judge/FINISHED-DB-READY/cropped-videos/224_1380.mp4\n",
      "min width 457 max_w 795\n",
      "min_height 326 max_h 438\n",
      "2395\n",
      "MoviePy - Building video /media/miked/Elements/Judge/FINISHED-DB-READY/cropped-videos/224_1381.mp4.\n",
      "MoviePy - Writing video /media/miked/Elements/Judge/FINISHED-DB-READY/cropped-videos/224_1381.mp4\n",
      "\n"
     ]
    },
    {
     "name": "stderr",
     "output_type": "stream",
     "text": [
      "                                                                            \r"
     ]
    },
    {
     "name": "stdout",
     "output_type": "stream",
     "text": [
      "MoviePy - Done !\n",
      "MoviePy - video ready /media/miked/Elements/Judge/FINISHED-DB-READY/cropped-videos/224_1381.mp4\n",
      "min width 354 max_w 648\n",
      "min_height 300 max_h 351\n",
      "2447\n",
      "MoviePy - Building video /media/miked/Elements/Judge/FINISHED-DB-READY/cropped-videos/224_1382.mp4.\n",
      "MoviePy - Writing video /media/miked/Elements/Judge/FINISHED-DB-READY/cropped-videos/224_1382.mp4\n",
      "\n"
     ]
    },
    {
     "name": "stderr",
     "output_type": "stream",
     "text": [
      "                                                                            \r"
     ]
    },
    {
     "name": "stdout",
     "output_type": "stream",
     "text": [
      "MoviePy - Done !\n",
      "MoviePy - video ready /media/miked/Elements/Judge/FINISHED-DB-READY/cropped-videos/224_1382.mp4\n",
      "min width 247 max_w 668\n",
      "min_height 308 max_h 363\n",
      "2417\n",
      "MoviePy - Building video /media/miked/Elements/Judge/FINISHED-DB-READY/cropped-videos/224_1383.mp4.\n",
      "MoviePy - Writing video /media/miked/Elements/Judge/FINISHED-DB-READY/cropped-videos/224_1383.mp4\n",
      "\n"
     ]
    },
    {
     "name": "stderr",
     "output_type": "stream",
     "text": [
      "                                                                            \r"
     ]
    },
    {
     "name": "stdout",
     "output_type": "stream",
     "text": [
      "MoviePy - Done !\n",
      "MoviePy - video ready /media/miked/Elements/Judge/FINISHED-DB-READY/cropped-videos/224_1383.mp4\n",
      "min width 362 max_w 722\n",
      "min_height 261 max_h 474\n",
      "2359\n",
      "MoviePy - Building video /media/miked/Elements/Judge/FINISHED-DB-READY/cropped-videos/224_1384.mp4.\n",
      "MoviePy - Writing video /media/miked/Elements/Judge/FINISHED-DB-READY/cropped-videos/224_1384.mp4\n",
      "\n"
     ]
    },
    {
     "name": "stderr",
     "output_type": "stream",
     "text": [
      "                                                                            \r"
     ]
    },
    {
     "name": "stdout",
     "output_type": "stream",
     "text": [
      "MoviePy - Done !\n",
      "MoviePy - video ready /media/miked/Elements/Judge/FINISHED-DB-READY/cropped-videos/224_1384.mp4\n",
      "min width 460 max_w 904\n",
      "min_height 429 max_h 429\n",
      "2525\n",
      "MoviePy - Building video /media/miked/Elements/Judge/FINISHED-DB-READY/cropped-videos/224_1385.mp4.\n",
      "MoviePy - Writing video /media/miked/Elements/Judge/FINISHED-DB-READY/cropped-videos/224_1385.mp4\n",
      "\n"
     ]
    },
    {
     "name": "stderr",
     "output_type": "stream",
     "text": [
      "                                                                            \r"
     ]
    },
    {
     "name": "stdout",
     "output_type": "stream",
     "text": [
      "MoviePy - Done !\n",
      "MoviePy - video ready /media/miked/Elements/Judge/FINISHED-DB-READY/cropped-videos/224_1385.mp4\n",
      "min width 255 max_w 685\n",
      "min_height 306 max_h 479\n",
      "2331\n",
      "MoviePy - Building video /media/miked/Elements/Judge/FINISHED-DB-READY/cropped-videos/224_1386.mp4.\n",
      "MoviePy - Writing video /media/miked/Elements/Judge/FINISHED-DB-READY/cropped-videos/224_1386.mp4\n",
      "\n"
     ]
    },
    {
     "name": "stderr",
     "output_type": "stream",
     "text": [
      "                                                                            \r"
     ]
    },
    {
     "name": "stdout",
     "output_type": "stream",
     "text": [
      "MoviePy - Done !\n",
      "MoviePy - video ready /media/miked/Elements/Judge/FINISHED-DB-READY/cropped-videos/224_1386.mp4\n",
      "min width 154 max_w 794\n",
      "min_height 315 max_h 670\n",
      "2426\n",
      "MoviePy - Building video /media/miked/Elements/Judge/FINISHED-DB-READY/cropped-videos/224_1387.mp4.\n",
      "MoviePy - Writing video /media/miked/Elements/Judge/FINISHED-DB-READY/cropped-videos/224_1387.mp4\n",
      "\n"
     ]
    },
    {
     "name": "stderr",
     "output_type": "stream",
     "text": [
      "                                                                            \r"
     ]
    },
    {
     "name": "stdout",
     "output_type": "stream",
     "text": [
      "MoviePy - Done !\n",
      "MoviePy - video ready /media/miked/Elements/Judge/FINISHED-DB-READY/cropped-videos/224_1387.mp4\n",
      "min width 396 max_w 680\n",
      "min_height 403 max_h 438\n",
      "2401\n",
      "MoviePy - Building video /media/miked/Elements/Judge/FINISHED-DB-READY/cropped-videos/224_1388.mp4.\n",
      "MoviePy - Writing video /media/miked/Elements/Judge/FINISHED-DB-READY/cropped-videos/224_1388.mp4\n",
      "\n"
     ]
    },
    {
     "name": "stderr",
     "output_type": "stream",
     "text": [
      "                                                                            \r"
     ]
    },
    {
     "name": "stdout",
     "output_type": "stream",
     "text": [
      "MoviePy - Done !\n",
      "MoviePy - video ready /media/miked/Elements/Judge/FINISHED-DB-READY/cropped-videos/224_1388.mp4\n",
      "min width 458 max_w 621\n",
      "min_height 305 max_h 363\n",
      "2377\n",
      "MoviePy - Building video /media/miked/Elements/Judge/FINISHED-DB-READY/cropped-videos/224_1389.mp4.\n",
      "MoviePy - Writing video /media/miked/Elements/Judge/FINISHED-DB-READY/cropped-videos/224_1389.mp4\n",
      "\n"
     ]
    },
    {
     "name": "stderr",
     "output_type": "stream",
     "text": [
      "                                                                            \r"
     ]
    },
    {
     "name": "stdout",
     "output_type": "stream",
     "text": [
      "MoviePy - Done !\n",
      "MoviePy - video ready /media/miked/Elements/Judge/FINISHED-DB-READY/cropped-videos/224_1389.mp4\n",
      "min width 275 max_w 692\n",
      "min_height 461 max_h 486\n",
      "2402\n",
      "MoviePy - Building video /media/miked/Elements/Judge/FINISHED-DB-READY/cropped-videos/224_1390.mp4.\n",
      "MoviePy - Writing video /media/miked/Elements/Judge/FINISHED-DB-READY/cropped-videos/224_1390.mp4\n",
      "\n"
     ]
    },
    {
     "name": "stderr",
     "output_type": "stream",
     "text": [
      "                                                                            \r"
     ]
    },
    {
     "name": "stdout",
     "output_type": "stream",
     "text": [
      "MoviePy - Done !\n",
      "MoviePy - video ready /media/miked/Elements/Judge/FINISHED-DB-READY/cropped-videos/224_1390.mp4\n",
      "min width 216 max_w 701\n",
      "min_height 353 max_h 423\n",
      "2387\n",
      "MoviePy - Building video /media/miked/Elements/Judge/FINISHED-DB-READY/cropped-videos/224_1391.mp4.\n",
      "MoviePy - Writing video /media/miked/Elements/Judge/FINISHED-DB-READY/cropped-videos/224_1391.mp4\n",
      "\n"
     ]
    },
    {
     "name": "stderr",
     "output_type": "stream",
     "text": [
      "                                                                            \r"
     ]
    },
    {
     "name": "stdout",
     "output_type": "stream",
     "text": [
      "MoviePy - Done !\n",
      "MoviePy - video ready /media/miked/Elements/Judge/FINISHED-DB-READY/cropped-videos/224_1391.mp4\n",
      "min width 306 max_w 1211\n",
      "min_height 465 max_h 720\n",
      "3166\n",
      "MoviePy - Building video /media/miked/Elements/Judge/FINISHED-DB-READY/cropped-videos/224_1392.mp4.\n",
      "MoviePy - Writing video /media/miked/Elements/Judge/FINISHED-DB-READY/cropped-videos/224_1392.mp4\n",
      "\n"
     ]
    },
    {
     "name": "stderr",
     "output_type": "stream",
     "text": [
      "                                                                            \r"
     ]
    },
    {
     "name": "stdout",
     "output_type": "stream",
     "text": [
      "MoviePy - Done !\n",
      "MoviePy - video ready /media/miked/Elements/Judge/FINISHED-DB-READY/cropped-videos/224_1392.mp4\n",
      "min width 192 max_w 1656\n",
      "min_height 650 max_h 1006\n",
      "3188\n",
      "MoviePy - Building video /media/miked/Elements/Judge/FINISHED-DB-READY/cropped-videos/224_1393.mp4.\n",
      "MoviePy - Writing video /media/miked/Elements/Judge/FINISHED-DB-READY/cropped-videos/224_1393.mp4\n",
      "\n"
     ]
    },
    {
     "name": "stderr",
     "output_type": "stream",
     "text": [
      "                                                                            \r"
     ]
    },
    {
     "name": "stdout",
     "output_type": "stream",
     "text": [
      "MoviePy - Done !\n",
      "MoviePy - video ready /media/miked/Elements/Judge/FINISHED-DB-READY/cropped-videos/224_1393.mp4\n",
      "min width 505 max_w 1227\n",
      "min_height 292 max_h 808\n",
      "6714\n",
      "MoviePy - Building video /media/miked/Elements/Judge/FINISHED-DB-READY/cropped-videos/224_1394.mp4.\n",
      "MoviePy - Writing video /media/miked/Elements/Judge/FINISHED-DB-READY/cropped-videos/224_1394.mp4\n",
      "\n"
     ]
    },
    {
     "name": "stderr",
     "output_type": "stream",
     "text": [
      "                                                                           \r"
     ]
    },
    {
     "name": "stdout",
     "output_type": "stream",
     "text": [
      "MoviePy - Done !\n",
      "MoviePy - video ready /media/miked/Elements/Judge/FINISHED-DB-READY/cropped-videos/224_1394.mp4\n",
      "min width 215 max_w 1015\n",
      "min_height 639 max_h 699\n",
      "7404\n",
      "MoviePy - Building video /media/miked/Elements/Judge/FINISHED-DB-READY/cropped-videos/224_1395.mp4.\n",
      "MoviePy - Writing video /media/miked/Elements/Judge/FINISHED-DB-READY/cropped-videos/224_1395.mp4\n",
      "\n"
     ]
    },
    {
     "name": "stderr",
     "output_type": "stream",
     "text": [
      "                                                                           \r"
     ]
    },
    {
     "name": "stdout",
     "output_type": "stream",
     "text": [
      "MoviePy - Done !\n",
      "MoviePy - video ready /media/miked/Elements/Judge/FINISHED-DB-READY/cropped-videos/224_1395.mp4\n",
      "min width 466 max_w 1185\n",
      "min_height 459 max_h 819\n",
      "6640\n",
      "MoviePy - Building video /media/miked/Elements/Judge/FINISHED-DB-READY/cropped-videos/224_1396.mp4.\n",
      "MoviePy - Writing video /media/miked/Elements/Judge/FINISHED-DB-READY/cropped-videos/224_1396.mp4\n",
      "\n"
     ]
    },
    {
     "name": "stderr",
     "output_type": "stream",
     "text": [
      "                                                                           \r"
     ]
    },
    {
     "name": "stdout",
     "output_type": "stream",
     "text": [
      "MoviePy - Done !\n",
      "MoviePy - video ready /media/miked/Elements/Judge/FINISHED-DB-READY/cropped-videos/224_1396.mp4\n",
      "min width 316 max_w 1239\n",
      "min_height 557 max_h 978\n",
      "6440\n",
      "MoviePy - Building video /media/miked/Elements/Judge/FINISHED-DB-READY/cropped-videos/224_1397.mp4.\n",
      "MoviePy - Writing video /media/miked/Elements/Judge/FINISHED-DB-READY/cropped-videos/224_1397.mp4\n",
      "\n"
     ]
    },
    {
     "name": "stderr",
     "output_type": "stream",
     "text": [
      "                                                                           \r"
     ]
    },
    {
     "name": "stdout",
     "output_type": "stream",
     "text": [
      "MoviePy - Done !\n",
      "MoviePy - video ready /media/miked/Elements/Judge/FINISHED-DB-READY/cropped-videos/224_1397.mp4\n",
      "min width 135 max_w 1920\n",
      "min_height 306 max_h 1080\n",
      "2903\n",
      "MoviePy - Building video /media/miked/Elements/Judge/FINISHED-DB-READY/cropped-videos/224_1398.mp4.\n",
      "MoviePy - Writing video /media/miked/Elements/Judge/FINISHED-DB-READY/cropped-videos/224_1398.mp4\n",
      "\n"
     ]
    },
    {
     "name": "stderr",
     "output_type": "stream",
     "text": [
      "                                                                            \r"
     ]
    },
    {
     "name": "stdout",
     "output_type": "stream",
     "text": [
      "MoviePy - Done !\n",
      "MoviePy - video ready /media/miked/Elements/Judge/FINISHED-DB-READY/cropped-videos/224_1398.mp4\n",
      "min width 233 max_w 1920\n",
      "min_height 1080 max_h 1080\n",
      "7262\n",
      "MoviePy - Building video /media/miked/Elements/Judge/FINISHED-DB-READY/cropped-videos/224_1399.mp4.\n",
      "MoviePy - Writing video /media/miked/Elements/Judge/FINISHED-DB-READY/cropped-videos/224_1399.mp4\n",
      "\n"
     ]
    },
    {
     "name": "stderr",
     "output_type": "stream",
     "text": [
      "                                                                            \r"
     ]
    },
    {
     "name": "stdout",
     "output_type": "stream",
     "text": [
      "MoviePy - Done !\n",
      "MoviePy - video ready /media/miked/Elements/Judge/FINISHED-DB-READY/cropped-videos/224_1399.mp4\n",
      "min width 186 max_w 1920\n",
      "min_height 431 max_h 1080\n",
      "2382\n",
      "MoviePy - Building video /media/miked/Elements/Judge/FINISHED-DB-READY/cropped-videos/224_1400.mp4.\n",
      "MoviePy - Writing video /media/miked/Elements/Judge/FINISHED-DB-READY/cropped-videos/224_1400.mp4\n",
      "\n"
     ]
    },
    {
     "name": "stderr",
     "output_type": "stream",
     "text": [
      "                                                                            \r"
     ]
    },
    {
     "name": "stdout",
     "output_type": "stream",
     "text": [
      "MoviePy - Done !\n",
      "MoviePy - video ready /media/miked/Elements/Judge/FINISHED-DB-READY/cropped-videos/224_1400.mp4\n",
      "min width 400 max_w 1041\n",
      "min_height 342 max_h 373\n",
      "2573\n",
      "MoviePy - Building video /media/miked/Elements/Judge/FINISHED-DB-READY/cropped-videos/224_1401.mp4.\n",
      "MoviePy - Writing video /media/miked/Elements/Judge/FINISHED-DB-READY/cropped-videos/224_1401.mp4\n",
      "\n"
     ]
    },
    {
     "name": "stderr",
     "output_type": "stream",
     "text": [
      "                                                                            \r"
     ]
    },
    {
     "name": "stdout",
     "output_type": "stream",
     "text": [
      "MoviePy - Done !\n",
      "MoviePy - video ready /media/miked/Elements/Judge/FINISHED-DB-READY/cropped-videos/224_1401.mp4\n",
      "min width 448 max_w 730\n",
      "min_height 330 max_h 421\n",
      "2318\n",
      "MoviePy - Building video /media/miked/Elements/Judge/FINISHED-DB-READY/cropped-videos/224_1402.mp4.\n",
      "MoviePy - Writing video /media/miked/Elements/Judge/FINISHED-DB-READY/cropped-videos/224_1402.mp4\n",
      "\n"
     ]
    },
    {
     "name": "stderr",
     "output_type": "stream",
     "text": [
      "                                                                            \r"
     ]
    },
    {
     "name": "stdout",
     "output_type": "stream",
     "text": [
      "MoviePy - Done !\n",
      "MoviePy - video ready /media/miked/Elements/Judge/FINISHED-DB-READY/cropped-videos/224_1402.mp4\n",
      "min width 339 max_w 827\n",
      "min_height 373 max_h 444\n",
      "2383\n",
      "MoviePy - Building video /media/miked/Elements/Judge/FINISHED-DB-READY/cropped-videos/224_1403.mp4.\n",
      "MoviePy - Writing video /media/miked/Elements/Judge/FINISHED-DB-READY/cropped-videos/224_1403.mp4\n",
      "\n"
     ]
    },
    {
     "name": "stderr",
     "output_type": "stream",
     "text": [
      "                                                                            \r"
     ]
    },
    {
     "name": "stdout",
     "output_type": "stream",
     "text": [
      "MoviePy - Done !\n",
      "MoviePy - video ready /media/miked/Elements/Judge/FINISHED-DB-READY/cropped-videos/224_1403.mp4\n",
      "min width 293 max_w 659\n",
      "min_height 310 max_h 349\n",
      "2344\n",
      "MoviePy - Building video /media/miked/Elements/Judge/FINISHED-DB-READY/cropped-videos/224_1404.mp4.\n",
      "MoviePy - Writing video /media/miked/Elements/Judge/FINISHED-DB-READY/cropped-videos/224_1404.mp4\n",
      "\n"
     ]
    },
    {
     "name": "stderr",
     "output_type": "stream",
     "text": [
      "                                                                            \r"
     ]
    },
    {
     "name": "stdout",
     "output_type": "stream",
     "text": [
      "MoviePy - Done !\n",
      "MoviePy - video ready /media/miked/Elements/Judge/FINISHED-DB-READY/cropped-videos/224_1404.mp4\n",
      "min width 379 max_w 1499\n",
      "min_height 363 max_h 568\n",
      "2455\n",
      "MoviePy - Building video /media/miked/Elements/Judge/FINISHED-DB-READY/cropped-videos/224_1405.mp4.\n",
      "MoviePy - Writing video /media/miked/Elements/Judge/FINISHED-DB-READY/cropped-videos/224_1405.mp4\n",
      "\n"
     ]
    },
    {
     "name": "stderr",
     "output_type": "stream",
     "text": [
      "                                                                            \r"
     ]
    },
    {
     "name": "stdout",
     "output_type": "stream",
     "text": [
      "MoviePy - Done !\n",
      "MoviePy - video ready /media/miked/Elements/Judge/FINISHED-DB-READY/cropped-videos/224_1405.mp4\n",
      "min width 231 max_w 1447\n",
      "min_height 512 max_h 878\n",
      "2310\n",
      "MoviePy - Building video /media/miked/Elements/Judge/FINISHED-DB-READY/cropped-videos/224_1406.mp4.\n",
      "MoviePy - Writing video /media/miked/Elements/Judge/FINISHED-DB-READY/cropped-videos/224_1406.mp4\n",
      "\n"
     ]
    },
    {
     "name": "stderr",
     "output_type": "stream",
     "text": [
      "                                                                            \r"
     ]
    },
    {
     "name": "stdout",
     "output_type": "stream",
     "text": [
      "MoviePy - Done !\n",
      "MoviePy - video ready /media/miked/Elements/Judge/FINISHED-DB-READY/cropped-videos/224_1406.mp4\n",
      "min width 381 max_w 1259\n",
      "min_height 316 max_h 397\n",
      "2622\n",
      "MoviePy - Building video /media/miked/Elements/Judge/FINISHED-DB-READY/cropped-videos/224_1407.mp4.\n",
      "MoviePy - Writing video /media/miked/Elements/Judge/FINISHED-DB-READY/cropped-videos/224_1407.mp4\n",
      "\n"
     ]
    },
    {
     "name": "stderr",
     "output_type": "stream",
     "text": [
      "                                                                            \r"
     ]
    },
    {
     "name": "stdout",
     "output_type": "stream",
     "text": [
      "MoviePy - Done !\n",
      "MoviePy - video ready /media/miked/Elements/Judge/FINISHED-DB-READY/cropped-videos/224_1407.mp4\n",
      "min width 243 max_w 928\n",
      "min_height 339 max_h 546\n",
      "2365\n",
      "MoviePy - Building video /media/miked/Elements/Judge/FINISHED-DB-READY/cropped-videos/224_1408.mp4.\n",
      "MoviePy - Writing video /media/miked/Elements/Judge/FINISHED-DB-READY/cropped-videos/224_1408.mp4\n",
      "\n"
     ]
    },
    {
     "name": "stderr",
     "output_type": "stream",
     "text": [
      "                                                                            \r"
     ]
    },
    {
     "name": "stdout",
     "output_type": "stream",
     "text": [
      "MoviePy - Done !\n",
      "MoviePy - video ready /media/miked/Elements/Judge/FINISHED-DB-READY/cropped-videos/224_1408.mp4\n",
      "min width 293 max_w 677\n",
      "min_height 322 max_h 340\n",
      "2423\n",
      "MoviePy - Building video /media/miked/Elements/Judge/FINISHED-DB-READY/cropped-videos/224_1409.mp4.\n",
      "MoviePy - Writing video /media/miked/Elements/Judge/FINISHED-DB-READY/cropped-videos/224_1409.mp4\n",
      "\n"
     ]
    },
    {
     "name": "stderr",
     "output_type": "stream",
     "text": [
      "                                                                            \r"
     ]
    },
    {
     "name": "stdout",
     "output_type": "stream",
     "text": [
      "MoviePy - Done !\n",
      "MoviePy - video ready /media/miked/Elements/Judge/FINISHED-DB-READY/cropped-videos/224_1409.mp4\n",
      "min width 405 max_w 747\n",
      "min_height 231 max_h 359\n",
      "2426\n",
      "MoviePy - Building video /media/miked/Elements/Judge/FINISHED-DB-READY/cropped-videos/224_1410.mp4.\n",
      "MoviePy - Writing video /media/miked/Elements/Judge/FINISHED-DB-READY/cropped-videos/224_1410.mp4\n",
      "\n"
     ]
    },
    {
     "name": "stderr",
     "output_type": "stream",
     "text": [
      "                                                                            \r"
     ]
    },
    {
     "name": "stdout",
     "output_type": "stream",
     "text": [
      "MoviePy - Done !\n",
      "MoviePy - video ready /media/miked/Elements/Judge/FINISHED-DB-READY/cropped-videos/224_1410.mp4\n",
      "min width 196 max_w 851\n",
      "min_height 393 max_h 447\n",
      "2435\n",
      "MoviePy - Building video /media/miked/Elements/Judge/FINISHED-DB-READY/cropped-videos/224_1411.mp4.\n",
      "MoviePy - Writing video /media/miked/Elements/Judge/FINISHED-DB-READY/cropped-videos/224_1411.mp4\n",
      "\n"
     ]
    },
    {
     "name": "stderr",
     "output_type": "stream",
     "text": [
      "                                                                            \r"
     ]
    },
    {
     "name": "stdout",
     "output_type": "stream",
     "text": [
      "MoviePy - Done !\n",
      "MoviePy - video ready /media/miked/Elements/Judge/FINISHED-DB-READY/cropped-videos/224_1411.mp4\n",
      "min width 399 max_w 753\n",
      "min_height 307 max_h 429\n",
      "2339\n",
      "MoviePy - Building video /media/miked/Elements/Judge/FINISHED-DB-READY/cropped-videos/224_1412.mp4.\n",
      "MoviePy - Writing video /media/miked/Elements/Judge/FINISHED-DB-READY/cropped-videos/224_1412.mp4\n",
      "\n"
     ]
    },
    {
     "name": "stderr",
     "output_type": "stream",
     "text": [
      "                                                                            \r"
     ]
    },
    {
     "name": "stdout",
     "output_type": "stream",
     "text": [
      "MoviePy - Done !\n",
      "MoviePy - video ready /media/miked/Elements/Judge/FINISHED-DB-READY/cropped-videos/224_1412.mp4\n",
      "min width 440 max_w 1064\n",
      "min_height 276 max_h 439\n",
      "2350\n",
      "MoviePy - Building video /media/miked/Elements/Judge/FINISHED-DB-READY/cropped-videos/224_1413.mp4.\n",
      "MoviePy - Writing video /media/miked/Elements/Judge/FINISHED-DB-READY/cropped-videos/224_1413.mp4\n",
      "\n"
     ]
    },
    {
     "name": "stderr",
     "output_type": "stream",
     "text": [
      "                                                                            \r"
     ]
    },
    {
     "name": "stdout",
     "output_type": "stream",
     "text": [
      "MoviePy - Done !\n",
      "MoviePy - video ready /media/miked/Elements/Judge/FINISHED-DB-READY/cropped-videos/224_1413.mp4\n",
      "min width 291 max_w 613\n",
      "min_height 254 max_h 320\n",
      "2301\n",
      "MoviePy - Building video /media/miked/Elements/Judge/FINISHED-DB-READY/cropped-videos/224_1414.mp4.\n",
      "MoviePy - Writing video /media/miked/Elements/Judge/FINISHED-DB-READY/cropped-videos/224_1414.mp4\n",
      "\n"
     ]
    },
    {
     "name": "stderr",
     "output_type": "stream",
     "text": [
      "                                                                            \r"
     ]
    },
    {
     "name": "stdout",
     "output_type": "stream",
     "text": [
      "MoviePy - Done !\n",
      "MoviePy - video ready /media/miked/Elements/Judge/FINISHED-DB-READY/cropped-videos/224_1414.mp4\n",
      "min width 179 max_w 795\n",
      "min_height 279 max_h 534\n",
      "2330\n",
      "MoviePy - Building video /media/miked/Elements/Judge/FINISHED-DB-READY/cropped-videos/224_1415.mp4.\n",
      "MoviePy - Writing video /media/miked/Elements/Judge/FINISHED-DB-READY/cropped-videos/224_1415.mp4\n",
      "\n"
     ]
    },
    {
     "name": "stderr",
     "output_type": "stream",
     "text": [
      "                                                                            \r"
     ]
    },
    {
     "name": "stdout",
     "output_type": "stream",
     "text": [
      "MoviePy - Done !\n",
      "MoviePy - video ready /media/miked/Elements/Judge/FINISHED-DB-READY/cropped-videos/224_1415.mp4\n",
      "min width 318 max_w 759\n",
      "min_height 349 max_h 459\n",
      "2406\n",
      "MoviePy - Building video /media/miked/Elements/Judge/FINISHED-DB-READY/cropped-videos/224_1416.mp4.\n",
      "MoviePy - Writing video /media/miked/Elements/Judge/FINISHED-DB-READY/cropped-videos/224_1416.mp4\n",
      "\n"
     ]
    },
    {
     "name": "stderr",
     "output_type": "stream",
     "text": [
      "                                                                            \r"
     ]
    },
    {
     "name": "stdout",
     "output_type": "stream",
     "text": [
      "MoviePy - Done !\n",
      "MoviePy - video ready /media/miked/Elements/Judge/FINISHED-DB-READY/cropped-videos/224_1416.mp4\n",
      "min width 367 max_w 924\n",
      "min_height 304 max_h 522\n",
      "2324\n",
      "MoviePy - Building video /media/miked/Elements/Judge/FINISHED-DB-READY/cropped-videos/224_1417.mp4.\n",
      "MoviePy - Writing video /media/miked/Elements/Judge/FINISHED-DB-READY/cropped-videos/224_1417.mp4\n",
      "\n"
     ]
    },
    {
     "name": "stderr",
     "output_type": "stream",
     "text": [
      "                                                                            \r"
     ]
    },
    {
     "name": "stdout",
     "output_type": "stream",
     "text": [
      "MoviePy - Done !\n",
      "MoviePy - video ready /media/miked/Elements/Judge/FINISHED-DB-READY/cropped-videos/224_1417.mp4\n",
      "min width 441 max_w 1233\n",
      "min_height 365 max_h 476\n",
      "2445\n",
      "MoviePy - Building video /media/miked/Elements/Judge/FINISHED-DB-READY/cropped-videos/224_1418.mp4.\n",
      "MoviePy - Writing video /media/miked/Elements/Judge/FINISHED-DB-READY/cropped-videos/224_1418.mp4\n",
      "\n"
     ]
    },
    {
     "name": "stderr",
     "output_type": "stream",
     "text": [
      "                                                                            \r"
     ]
    },
    {
     "name": "stdout",
     "output_type": "stream",
     "text": [
      "MoviePy - Done !\n",
      "MoviePy - video ready /media/miked/Elements/Judge/FINISHED-DB-READY/cropped-videos/224_1418.mp4\n",
      "min width 363 max_w 1146\n",
      "min_height 351 max_h 456\n",
      "2422\n",
      "MoviePy - Building video /media/miked/Elements/Judge/FINISHED-DB-READY/cropped-videos/224_1420.mp4.\n",
      "MoviePy - Writing video /media/miked/Elements/Judge/FINISHED-DB-READY/cropped-videos/224_1420.mp4\n",
      "\n"
     ]
    },
    {
     "name": "stderr",
     "output_type": "stream",
     "text": [
      "                                                                            \r"
     ]
    },
    {
     "name": "stdout",
     "output_type": "stream",
     "text": [
      "MoviePy - Done !\n",
      "MoviePy - video ready /media/miked/Elements/Judge/FINISHED-DB-READY/cropped-videos/224_1420.mp4\n",
      "min width 177 max_w 755\n",
      "min_height 902 max_h 902\n",
      "7131\n",
      "MoviePy - Building video /media/miked/Elements/Judge/FINISHED-DB-READY/cropped-videos/224_1421.mp4.\n",
      "MoviePy - Writing video /media/miked/Elements/Judge/FINISHED-DB-READY/cropped-videos/224_1421.mp4\n",
      "\n"
     ]
    },
    {
     "name": "stderr",
     "output_type": "stream",
     "text": [
      "                                                                            \r"
     ]
    },
    {
     "name": "stdout",
     "output_type": "stream",
     "text": [
      "MoviePy - Done !\n",
      "MoviePy - video ready /media/miked/Elements/Judge/FINISHED-DB-READY/cropped-videos/224_1421.mp4\n",
      "min width 307 max_w 1367\n",
      "min_height 723 max_h 811\n",
      "8070\n",
      "MoviePy - Building video /media/miked/Elements/Judge/FINISHED-DB-READY/cropped-videos/224_1422.mp4.\n",
      "MoviePy - Writing video /media/miked/Elements/Judge/FINISHED-DB-READY/cropped-videos/224_1422.mp4\n",
      "\n"
     ]
    },
    {
     "name": "stderr",
     "output_type": "stream",
     "text": [
      "                                                                            \r"
     ]
    },
    {
     "name": "stdout",
     "output_type": "stream",
     "text": [
      "MoviePy - Done !\n",
      "MoviePy - video ready /media/miked/Elements/Judge/FINISHED-DB-READY/cropped-videos/224_1422.mp4\n",
      "min width 239 max_w 1262\n",
      "min_height 486 max_h 628\n",
      "6293\n",
      "MoviePy - Building video /media/miked/Elements/Judge/FINISHED-DB-READY/cropped-videos/224_1423.mp4.\n",
      "MoviePy - Writing video /media/miked/Elements/Judge/FINISHED-DB-READY/cropped-videos/224_1423.mp4\n",
      "\n"
     ]
    },
    {
     "name": "stderr",
     "output_type": "stream",
     "text": [
      "                                                                            \r"
     ]
    },
    {
     "name": "stdout",
     "output_type": "stream",
     "text": [
      "MoviePy - Done !\n",
      "MoviePy - video ready /media/miked/Elements/Judge/FINISHED-DB-READY/cropped-videos/224_1423.mp4\n",
      "min width 431 max_w 1758\n",
      "min_height 490 max_h 697\n",
      "5853\n",
      "MoviePy - Building video /media/miked/Elements/Judge/FINISHED-DB-READY/cropped-videos/224_1424.mp4.\n",
      "MoviePy - Writing video /media/miked/Elements/Judge/FINISHED-DB-READY/cropped-videos/224_1424.mp4\n",
      "\n"
     ]
    },
    {
     "name": "stderr",
     "output_type": "stream",
     "text": [
      "                                                                            \r"
     ]
    },
    {
     "name": "stdout",
     "output_type": "stream",
     "text": [
      "MoviePy - Done !\n",
      "MoviePy - video ready /media/miked/Elements/Judge/FINISHED-DB-READY/cropped-videos/224_1424.mp4\n",
      "min width 483 max_w 1012\n",
      "min_height 363 max_h 823\n",
      "3374\n",
      "MoviePy - Building video /media/miked/Elements/Judge/FINISHED-DB-READY/cropped-videos/224_1425.mp4.\n",
      "MoviePy - Writing video /media/miked/Elements/Judge/FINISHED-DB-READY/cropped-videos/224_1425.mp4\n",
      "\n"
     ]
    },
    {
     "name": "stderr",
     "output_type": "stream",
     "text": [
      "                                                                            \r"
     ]
    },
    {
     "name": "stdout",
     "output_type": "stream",
     "text": [
      "MoviePy - Done !\n",
      "MoviePy - video ready /media/miked/Elements/Judge/FINISHED-DB-READY/cropped-videos/224_1425.mp4\n",
      "min width 180 max_w 955\n",
      "min_height 288 max_h 680\n",
      "6435\n",
      "MoviePy - Building video /media/miked/Elements/Judge/FINISHED-DB-READY/cropped-videos/224_1426.mp4.\n",
      "MoviePy - Writing video /media/miked/Elements/Judge/FINISHED-DB-READY/cropped-videos/224_1426.mp4\n",
      "\n"
     ]
    },
    {
     "name": "stderr",
     "output_type": "stream",
     "text": [
      "                                                                            \r"
     ]
    },
    {
     "name": "stdout",
     "output_type": "stream",
     "text": [
      "MoviePy - Done !\n",
      "MoviePy - video ready /media/miked/Elements/Judge/FINISHED-DB-READY/cropped-videos/224_1426.mp4\n",
      "min width 211 max_w 1219\n",
      "min_height 365 max_h 561\n",
      "5728\n",
      "MoviePy - Building video /media/miked/Elements/Judge/FINISHED-DB-READY/cropped-videos/224_1427.mp4.\n",
      "MoviePy - Writing video /media/miked/Elements/Judge/FINISHED-DB-READY/cropped-videos/224_1427.mp4\n",
      "\n"
     ]
    },
    {
     "name": "stderr",
     "output_type": "stream",
     "text": [
      "                                                                            \r"
     ]
    },
    {
     "name": "stdout",
     "output_type": "stream",
     "text": [
      "MoviePy - Done !\n",
      "MoviePy - video ready /media/miked/Elements/Judge/FINISHED-DB-READY/cropped-videos/224_1427.mp4\n"
     ]
    }
   ],
   "source": [
    "DIM = 224\n",
    "videoIds = repo.get_dd3_videoIds()[\"id\"].to_list()\n",
    "\n",
    "for videoId in videoIds:\n",
    "\n",
    "    predictions_per_second = 2000\n",
    "    videoPath = get_video_path(repo, videoId=videoId)\n",
    "    videoOutputPath = os.path.join(STORAGE_DIR, CROPPED_VIDEOS_FOLDER, f\"{DIM}_{videoId}_opencv.mp4\")\n",
    "    videoOutputPathCorrect = os.path.join(STORAGE_DIR, CROPPED_VIDEOS_FOLDER, f\"{DIM}_{videoId}.mp4\")\n",
    "    \n",
    "    if os.path.exists(videoOutputPathCorrect):\n",
    "        continue\n",
    "\n",
    "    cap = cv2.VideoCapture(videoPath)\n",
    "    fps = cap.get(cv2.CAP_PROP_FPS)\n",
    "    width = int(cap.get(cv2.CAP_PROP_FRAME_WIDTH))\n",
    "    height = int(cap.get(cv2.CAP_PROP_FRAME_HEIGHT))\n",
    "    wait_time = int(333 / fps - 7)\n",
    "    frames_to_skip = fps // predictions_per_second\n",
    "    frames_to_skip\n",
    "    padding_x = width // 60\n",
    "    padding_y = height // 50\n",
    "    N = 3\n",
    "    avgIOUlastNseconds = 0.0\n",
    "\n",
    "    smootval = 0.85\n",
    "    smootval_shrink = 0.945\n",
    "    smooted_x1_min = None\n",
    "    smooted_y1_min = None\n",
    "    smooted_x2_max = None\n",
    "    smooted_y2_max = None\n",
    "\n",
    "    max_w = 0\n",
    "    max_h = 0\n",
    "    min_w = width\n",
    "    min_h = height\n",
    "    max_wh = max(width, height)\n",
    "\n",
    "    i = 0\n",
    "    times_with_no_jumper = 0\n",
    "    cropping_started = False\n",
    "    frames = []\n",
    "\n",
    "    # fourcc = cv2.VideoWriter_fourcc(*'mp4v')    # fourcc = 0x00000021\n",
    "    # out = cv2.VideoWriter(videoOutputPath, fourcc, fps, (DIM, DIM))\n",
    "    ret, frame = cap.read()\n",
    "    while ret:\n",
    "        i += 1\n",
    "        result = model(frame, verbose=False)\n",
    "        xyxy_boxes = result[0].boxes.xyxy\n",
    "        \n",
    "        if xyxy_boxes.shape[0] > 0:\n",
    "            cropping_started = True\n",
    "            x1_min = max(0, int(xyxy_boxes[:, 0].min().item()) - padding_x)\n",
    "            y1_min = max(0, int(xyxy_boxes[:, 1].min().item()) - padding_y)\n",
    "            x2_max = min(width, int(xyxy_boxes[:, 2].max().item()) + padding_x)\n",
    "            y2_max = min(height, int(xyxy_boxes[:, 3].max().item()) + padding_y)\n",
    "            times_with_no_jumper = 0\n",
    "        elif times_with_no_jumper < 8 and 'x1_min' in locals():\n",
    "            times_with_no_jumper += 1\n",
    "        else:\n",
    "            x1_min = 0\n",
    "            y1_min = 0\n",
    "            x2_max = width\n",
    "            y2_max = height\n",
    "            times_with_no_jumper += 1\n",
    "\n",
    "        if smooted_x1_min is None or smooted_x1_min == 1:\n",
    "            smooted_x1_min = x1_min\n",
    "            smooted_y1_min = y1_min\n",
    "            smooted_x2_max = x2_max\n",
    "            smooted_y2_max = y2_max\n",
    "\n",
    "        else:\n",
    "            intersection_width = max(0, min(x2_max, smooted_x2_max) - max(x1_min, smooted_x1_min))\n",
    "            intersection_height = max(0, min(y2_max, smooted_y2_max) - max(y1_min, smooted_y1_min))\n",
    "            intersection_area = intersection_width * intersection_height\n",
    "            area_new_box = (x2_max - x1_min) * (y2_max - y1_min)\n",
    "            area_smooted_box = (smooted_x2_max - smooted_x1_min) * (smooted_y2_max - smooted_y1_min)\n",
    "            union = area_smooted_box + area_new_box - intersection_area\n",
    "            iou = intersection_area / union\n",
    "            avgIOUlastNseconds = ((N * fps - 1) * avgIOUlastNseconds + iou) / N / fps \n",
    "            avgSqrd = avgIOUlastNseconds*avgIOUlastNseconds\n",
    "            iou_threshold = avgSqrd * avgSqrd\n",
    "            # print(i, iou, iou_threshold)\n",
    "            if iou > iou_threshold:\n",
    "                smooted_x1_min = int(smootval * smooted_x1_min + (1-smootval) * x1_min) if x1_min < smooted_x1_min else int(smootval_shrink * smooted_x1_min + (1-smootval_shrink) * x1_min)\n",
    "                smooted_y1_min = int(smootval * smooted_y1_min + (1-smootval) * y1_min) if y1_min < smooted_x1_min else int(smootval_shrink * smooted_y1_min + (1-smootval_shrink) * y1_min)\n",
    "                smooted_x2_max = int(smootval * smooted_x2_max + (1-smootval) * x2_max) if x2_max > smooted_x2_max else int(smootval_shrink * smooted_x2_max + (1-smootval_shrink) * x2_max)\n",
    "                smooted_y2_max = int(smootval * smooted_y2_max + (1-smootval) * y2_max) if y2_max > smooted_y2_max else int(smootval_shrink * smooted_y2_max + (1-smootval_shrink) * y2_max)\n",
    "\n",
    "        w_jumpers = smooted_x2_max - smooted_x1_min\n",
    "        h_jumpers = smooted_y2_max - smooted_y1_min\n",
    "        max_w = max(max_w, w_jumpers)\n",
    "        max_h = max(max_h, h_jumpers)\n",
    "        min_w = min(min_w, w_jumpers)\n",
    "        min_h = min(max_h, h_jumpers)\n",
    "\n",
    "\n",
    "        max_wh_jumpers = max(w_jumpers, h_jumpers)\n",
    "        offset_x = (max_wh_jumpers - w_jumpers) // 2\n",
    "        offset_y = (max_wh_jumpers - h_jumpers) // 2\n",
    "\n",
    "        leftover_pixels_x = smooted_x1_min - offset_x\n",
    "        if leftover_pixels_x < 0:\n",
    "            crop_x1 = 0\n",
    "            offset_x = abs(leftover_pixels_x)\n",
    "        else:\n",
    "            crop_x1 = leftover_pixels_x\n",
    "            offset_x = 0\n",
    "        \n",
    "        leftover_pixels_x_right = width - (smooted_x2_max + offset_x)\n",
    "        crop_x2 = width if leftover_pixels_x_right < 0 else min(smooted_x2_max + offset_x, width)\n",
    "\n",
    "        leftover_pixels_y = smooted_y1_min - offset_y\n",
    "        if leftover_pixels_y < 0:\n",
    "            crop_y1 = 0\n",
    "            offset_y = abs(leftover_pixels_y)\n",
    "        else:\n",
    "            crop_y1 = leftover_pixels_y\n",
    "            offset_y = 0\n",
    "        \n",
    "        leftover_pixels_y_right = width - (smooted_y2_max + offset_y)\n",
    "        crop_y2 = width if leftover_pixels_y_right < 0 else min(smooted_y2_max + offset_y, height)\n",
    "\n",
    "        cropped_frame = frame[crop_y1:crop_y2, crop_x1:crop_x2]\n",
    "        zeros = np.zeros((max_wh_jumpers, max_wh_jumpers, 3), dtype=np.uint8)\n",
    "        zeros[offset_y:offset_y+(crop_y2-crop_y1), offset_x:offset_x+(crop_x2 - crop_x1)] = cropped_frame\n",
    "        zeros = cv2.resize(zeros, (DIM, DIM))\n",
    "        zeros = cv2.cvtColor(zeros, cv2.COLOR_BGR2RGB)\n",
    "\n",
    "        frames.append(zeros)\n",
    "        \n",
    "        ret, frame = cap.read()\n",
    "\n",
    "    print(\"min width\", min_w, \"max_w\", max_w)   \n",
    "    print(\"min_height\", min_h, \"max_h\", max_h)\n",
    "    print(i)\n",
    "\n",
    "    # Release everything if job is finished\n",
    "    cap.release()\n",
    "    cv2.destroyAllWindows()\n",
    "\n",
    "    clip = ImageSequenceClip(frames, fps=fps)\n",
    "    clip.write_videofile(videoOutputPathCorrect)\n",
    "\n",
    "    # To browser runnable codec\n",
    "    # os.system(f\"ffmpeg -i {videoOutputPath} -vcodec libx264 {videoOutputPathCorrect}\")"
   ]
  },
  {
   "cell_type": "code",
   "execution_count": null,
   "metadata": {},
   "outputs": [],
   "source": [
    " "
   ]
  },
  {
   "cell_type": "code",
   "execution_count": null,
   "metadata": {},
   "outputs": [],
   "source": []
  },
  {
   "cell_type": "code",
   "execution_count": null,
   "metadata": {},
   "outputs": [],
   "source": []
  }
 ],
 "metadata": {
  "kernelspec": {
   "display_name": ".venv",
   "language": "python",
   "name": "python3"
  },
  "language_info": {
   "codemirror_mode": {
    "name": "ipython",
    "version": 3
   },
   "file_extension": ".py",
   "mimetype": "text/x-python",
   "name": "python",
   "nbconvert_exporter": "python",
   "pygments_lexer": "ipython3",
   "version": "3.12.3"
  }
 },
 "nbformat": 4,
 "nbformat_minor": 2
}
