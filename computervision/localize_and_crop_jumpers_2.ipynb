{
 "cells": [
  {
   "cell_type": "code",
   "execution_count": 1,
   "metadata": {},
   "outputs": [],
   "source": [
    "import os\n",
    "import cv2\n",
    "import shutil\n",
    "import pandas as pd\n",
    "import numpy as np\n",
    "\n",
    "# from colorama import Fore, Style\n",
    "from typing import List\n",
    "from dotenv import load_dotenv\n",
    "from DataRepository import DataRepository\n",
    "from ultralytics import YOLO\n",
    "\n",
    "load_dotenv()\n",
    "STORAGE_DIR = os.getenv(\"STORAGE_DIR\")\n",
    "CROPPED_VIDEOS_FOLDER = \"cropped-videos\"\n",
    "# IMAGES_FOLDER = \"images\"\n",
    "# LABELS_FOLDER = \"labels\"\n",
    "SUPPORTED_VIDEO_FORMATS = os.getenv(\"SUPPORTED_VIDEO_FORMATS\")\n",
    "SUPPORTED_IMAGE_FORMATS = os.getenv(\"SUPPORTED_IMAGE_FORMATS\")\n",
    "VIDEO_IMAGE_PREVIEW_FOLDER = os.getenv(\"VIDEO_IMAGE_PREVIEW_FOLDER\")\n"
   ]
  },
  {
   "cell_type": "code",
   "execution_count": 2,
   "metadata": {},
   "outputs": [],
   "source": [
    "from moviepy import ImageSequenceClip"
   ]
  },
  {
   "cell_type": "code",
   "execution_count": 3,
   "metadata": {},
   "outputs": [
    {
     "name": "stdout",
     "output_type": "stream",
     "text": [
      "/media/miked/Elements/Judge/FINISHED-DB-READY\n",
      "cropped-videos\n"
     ]
    },
    {
     "data": {
      "text/plain": [
       "(None, None)"
      ]
     },
     "execution_count": 3,
     "metadata": {},
     "output_type": "execute_result"
    }
   ],
   "source": [
    "print(STORAGE_DIR), print(CROPPED_VIDEOS_FOLDER)\n",
    "# computervision/labeled_frame_nrs_to_imgs.ipynb"
   ]
  },
  {
   "cell_type": "code",
   "execution_count": 4,
   "metadata": {},
   "outputs": [],
   "source": [
    "os.makedirs(os.path.join(STORAGE_DIR, CROPPED_VIDEOS_FOLDER), exist_ok=True)\n",
    "\n",
    "def get_video_path(repo, videoId):\n",
    "    return os.path.join(STORAGE_DIR, repo.VideoNames.loc[videoId, \"name\"])"
   ]
  },
  {
   "cell_type": "code",
   "execution_count": 5,
   "metadata": {},
   "outputs": [
    {
     "name": "stdout",
     "output_type": "stream",
     "text": [
      "connection established, loading frame paths\n",
      "relative paths of framelabels loaded\n"
     ]
    }
   ],
   "source": [
    "repo = DataRepository()"
   ]
  },
  {
   "cell_type": "code",
   "execution_count": 6,
   "metadata": {},
   "outputs": [
    {
     "data": {
      "text/plain": [
       "'/home/miked/code/judge/runs/detect/train5'"
      ]
     },
     "execution_count": 6,
     "metadata": {},
     "output_type": "execute_result"
    }
   ],
   "source": [
    "modeltrainround = 5\n",
    "modelpath = f\"/home/miked/code/judge/runs/detect/train{modeltrainround}\" if modeltrainround > 0 else f\"/home/miked/code/judge/runs/detect/train\"\n",
    "modelpath"
   ]
  },
  {
   "cell_type": "code",
   "execution_count": 7,
   "metadata": {},
   "outputs": [],
   "source": [
    "# From https://docs.ultralytics.com/modes/predict/#key-features-of-predict-mode\n",
    "# Load a model\n",
    "model = YOLO(os.path.join(modelpath, \"weights\", \"best.pt\"))\n"
   ]
  },
  {
   "cell_type": "code",
   "execution_count": 8,
   "metadata": {},
   "outputs": [
    {
     "data": {
      "text/plain": [
       "[1187]"
      ]
     },
     "execution_count": 8,
     "metadata": {},
     "output_type": "execute_result"
    }
   ],
   "source": [
    "[1187]"
   ]
  },
  {
   "cell_type": "code",
   "execution_count": null,
   "metadata": {},
   "outputs": [
    {
     "name": "stdout",
     "output_type": "stream",
     "text": [
      "min width 214 max_w 584\n",
      "min_height 246 max_h 297\n",
      "2474\n",
      "MoviePy - Building video /media/miked/Elements/Judge/FINISHED-DB-READY/cropped-videos/224_642.mp4.\n",
      "MoviePy - Writing video /media/miked/Elements/Judge/FINISHED-DB-READY/cropped-videos/224_642.mp4\n",
      "\n"
     ]
    },
    {
     "name": "stderr",
     "output_type": "stream",
     "text": [
      "                                                                            \r"
     ]
    },
    {
     "name": "stdout",
     "output_type": "stream",
     "text": [
      "MoviePy - Done !\n",
      "MoviePy - video ready /media/miked/Elements/Judge/FINISHED-DB-READY/cropped-videos/224_642.mp4\n",
      "min width 291 max_w 516\n",
      "min_height 187 max_h 344\n",
      "2476\n",
      "MoviePy - Building video /media/miked/Elements/Judge/FINISHED-DB-READY/cropped-videos/224_643.mp4.\n",
      "MoviePy - Writing video /media/miked/Elements/Judge/FINISHED-DB-READY/cropped-videos/224_643.mp4\n",
      "\n"
     ]
    },
    {
     "name": "stderr",
     "output_type": "stream",
     "text": [
      "                                                                            \r"
     ]
    },
    {
     "name": "stdout",
     "output_type": "stream",
     "text": [
      "MoviePy - Done !\n",
      "MoviePy - video ready /media/miked/Elements/Judge/FINISHED-DB-READY/cropped-videos/224_643.mp4\n",
      "min width 384 max_w 724\n",
      "min_height 314 max_h 368\n",
      "2423\n",
      "MoviePy - Building video /media/miked/Elements/Judge/FINISHED-DB-READY/cropped-videos/224_644.mp4.\n",
      "MoviePy - Writing video /media/miked/Elements/Judge/FINISHED-DB-READY/cropped-videos/224_644.mp4\n",
      "\n"
     ]
    },
    {
     "name": "stderr",
     "output_type": "stream",
     "text": [
      "                                                                            \r"
     ]
    },
    {
     "name": "stdout",
     "output_type": "stream",
     "text": [
      "MoviePy - Done !\n",
      "MoviePy - video ready /media/miked/Elements/Judge/FINISHED-DB-READY/cropped-videos/224_644.mp4\n",
      "min width 312 max_w 672\n",
      "min_height 215 max_h 299\n",
      "2329\n",
      "MoviePy - Building video /media/miked/Elements/Judge/FINISHED-DB-READY/cropped-videos/224_645.mp4.\n",
      "MoviePy - Writing video /media/miked/Elements/Judge/FINISHED-DB-READY/cropped-videos/224_645.mp4\n",
      "\n"
     ]
    },
    {
     "name": "stderr",
     "output_type": "stream",
     "text": [
      "                                                                            \r"
     ]
    },
    {
     "name": "stdout",
     "output_type": "stream",
     "text": [
      "MoviePy - Done !\n",
      "MoviePy - video ready /media/miked/Elements/Judge/FINISHED-DB-READY/cropped-videos/224_645.mp4\n",
      "min width 335 max_w 572\n",
      "min_height 210 max_h 308\n",
      "2468\n",
      "MoviePy - Building video /media/miked/Elements/Judge/FINISHED-DB-READY/cropped-videos/224_646.mp4.\n",
      "MoviePy - Writing video /media/miked/Elements/Judge/FINISHED-DB-READY/cropped-videos/224_646.mp4\n",
      "\n"
     ]
    },
    {
     "name": "stderr",
     "output_type": "stream",
     "text": [
      "                                                                            \r"
     ]
    },
    {
     "name": "stdout",
     "output_type": "stream",
     "text": [
      "MoviePy - Done !\n",
      "MoviePy - video ready /media/miked/Elements/Judge/FINISHED-DB-READY/cropped-videos/224_646.mp4\n",
      "min width 297 max_w 884\n",
      "min_height 231 max_h 309\n",
      "2320\n",
      "MoviePy - Building video /media/miked/Elements/Judge/FINISHED-DB-READY/cropped-videos/224_648.mp4.\n",
      "MoviePy - Writing video /media/miked/Elements/Judge/FINISHED-DB-READY/cropped-videos/224_648.mp4\n",
      "\n"
     ]
    },
    {
     "name": "stderr",
     "output_type": "stream",
     "text": [
      "                                                                            \r"
     ]
    },
    {
     "name": "stdout",
     "output_type": "stream",
     "text": [
      "MoviePy - Done !\n",
      "MoviePy - video ready /media/miked/Elements/Judge/FINISHED-DB-READY/cropped-videos/224_648.mp4\n",
      "min width 247 max_w 692\n",
      "min_height 266 max_h 311\n",
      "2473\n",
      "MoviePy - Building video /media/miked/Elements/Judge/FINISHED-DB-READY/cropped-videos/224_649.mp4.\n",
      "MoviePy - Writing video /media/miked/Elements/Judge/FINISHED-DB-READY/cropped-videos/224_649.mp4\n",
      "\n"
     ]
    },
    {
     "name": "stderr",
     "output_type": "stream",
     "text": [
      "                                                                            \r"
     ]
    },
    {
     "name": "stdout",
     "output_type": "stream",
     "text": [
      "MoviePy - Done !\n",
      "MoviePy - video ready /media/miked/Elements/Judge/FINISHED-DB-READY/cropped-videos/224_649.mp4\n",
      "min width 420 max_w 738\n",
      "min_height 258 max_h 370\n",
      "2321\n",
      "MoviePy - Building video /media/miked/Elements/Judge/FINISHED-DB-READY/cropped-videos/224_650.mp4.\n",
      "MoviePy - Writing video /media/miked/Elements/Judge/FINISHED-DB-READY/cropped-videos/224_650.mp4\n",
      "\n"
     ]
    },
    {
     "name": "stderr",
     "output_type": "stream",
     "text": [
      "                                                                            \r"
     ]
    },
    {
     "name": "stdout",
     "output_type": "stream",
     "text": [
      "MoviePy - Done !\n",
      "MoviePy - video ready /media/miked/Elements/Judge/FINISHED-DB-READY/cropped-videos/224_650.mp4\n",
      "min width 291 max_w 632\n",
      "min_height 279 max_h 421\n",
      "2408\n",
      "MoviePy - Building video /media/miked/Elements/Judge/FINISHED-DB-READY/cropped-videos/224_651.mp4.\n",
      "MoviePy - Writing video /media/miked/Elements/Judge/FINISHED-DB-READY/cropped-videos/224_651.mp4\n",
      "\n"
     ]
    },
    {
     "name": "stderr",
     "output_type": "stream",
     "text": [
      "                                                                            \r"
     ]
    },
    {
     "name": "stdout",
     "output_type": "stream",
     "text": [
      "MoviePy - Done !\n",
      "MoviePy - video ready /media/miked/Elements/Judge/FINISHED-DB-READY/cropped-videos/224_651.mp4\n",
      "min width 387 max_w 690\n",
      "min_height 226 max_h 287\n",
      "2373\n",
      "MoviePy - Building video /media/miked/Elements/Judge/FINISHED-DB-READY/cropped-videos/224_652.mp4.\n",
      "MoviePy - Writing video /media/miked/Elements/Judge/FINISHED-DB-READY/cropped-videos/224_652.mp4\n",
      "\n"
     ]
    },
    {
     "name": "stderr",
     "output_type": "stream",
     "text": [
      "                                                                            \r"
     ]
    },
    {
     "name": "stdout",
     "output_type": "stream",
     "text": [
      "MoviePy - Done !\n",
      "MoviePy - video ready /media/miked/Elements/Judge/FINISHED-DB-READY/cropped-videos/224_652.mp4\n",
      "min width 270 max_w 695\n",
      "min_height 261 max_h 307\n",
      "2363\n",
      "MoviePy - Building video /media/miked/Elements/Judge/FINISHED-DB-READY/cropped-videos/224_653.mp4.\n",
      "MoviePy - Writing video /media/miked/Elements/Judge/FINISHED-DB-READY/cropped-videos/224_653.mp4\n",
      "\n"
     ]
    },
    {
     "name": "stderr",
     "output_type": "stream",
     "text": [
      "                                                                            \r"
     ]
    },
    {
     "name": "stdout",
     "output_type": "stream",
     "text": [
      "MoviePy - Done !\n",
      "MoviePy - video ready /media/miked/Elements/Judge/FINISHED-DB-READY/cropped-videos/224_653.mp4\n",
      "min width 400 max_w 701\n",
      "min_height 269 max_h 409\n",
      "2374\n",
      "MoviePy - Building video /media/miked/Elements/Judge/FINISHED-DB-READY/cropped-videos/224_654.mp4.\n",
      "MoviePy - Writing video /media/miked/Elements/Judge/FINISHED-DB-READY/cropped-videos/224_654.mp4\n",
      "\n"
     ]
    },
    {
     "name": "stderr",
     "output_type": "stream",
     "text": [
      "                                                                            \r"
     ]
    },
    {
     "name": "stdout",
     "output_type": "stream",
     "text": [
      "MoviePy - Done !\n",
      "MoviePy - video ready /media/miked/Elements/Judge/FINISHED-DB-READY/cropped-videos/224_654.mp4\n",
      "min width 258 max_w 594\n",
      "min_height 349 max_h 421\n",
      "2356\n",
      "MoviePy - Building video /media/miked/Elements/Judge/FINISHED-DB-READY/cropped-videos/224_655.mp4.\n",
      "MoviePy - Writing video /media/miked/Elements/Judge/FINISHED-DB-READY/cropped-videos/224_655.mp4\n",
      "\n"
     ]
    },
    {
     "name": "stderr",
     "output_type": "stream",
     "text": [
      "                                                                            \r"
     ]
    },
    {
     "name": "stdout",
     "output_type": "stream",
     "text": [
      "MoviePy - Done !\n",
      "MoviePy - video ready /media/miked/Elements/Judge/FINISHED-DB-READY/cropped-videos/224_655.mp4\n",
      "min width 248 max_w 626\n",
      "min_height 288 max_h 289\n",
      "2272\n",
      "MoviePy - Building video /media/miked/Elements/Judge/FINISHED-DB-READY/cropped-videos/224_656.mp4.\n",
      "MoviePy - Writing video /media/miked/Elements/Judge/FINISHED-DB-READY/cropped-videos/224_656.mp4\n",
      "\n"
     ]
    },
    {
     "name": "stderr",
     "output_type": "stream",
     "text": [
      "                                                                            \r"
     ]
    },
    {
     "name": "stdout",
     "output_type": "stream",
     "text": [
      "MoviePy - Done !\n",
      "MoviePy - video ready /media/miked/Elements/Judge/FINISHED-DB-READY/cropped-videos/224_656.mp4\n",
      "min width 362 max_w 757\n",
      "min_height 573 max_h 594\n",
      "2480\n",
      "MoviePy - Building video /media/miked/Elements/Judge/FINISHED-DB-READY/cropped-videos/224_657.mp4.\n",
      "MoviePy - Writing video /media/miked/Elements/Judge/FINISHED-DB-READY/cropped-videos/224_657.mp4\n",
      "\n"
     ]
    },
    {
     "name": "stderr",
     "output_type": "stream",
     "text": [
      "                                                                            \r"
     ]
    },
    {
     "name": "stdout",
     "output_type": "stream",
     "text": [
      "MoviePy - Done !\n",
      "MoviePy - video ready /media/miked/Elements/Judge/FINISHED-DB-READY/cropped-videos/224_657.mp4\n",
      "min width 306 max_w 665\n",
      "min_height 295 max_h 323\n",
      "2361\n",
      "MoviePy - Building video /media/miked/Elements/Judge/FINISHED-DB-READY/cropped-videos/224_658.mp4.\n",
      "MoviePy - Writing video /media/miked/Elements/Judge/FINISHED-DB-READY/cropped-videos/224_658.mp4\n",
      "\n"
     ]
    },
    {
     "name": "stderr",
     "output_type": "stream",
     "text": [
      "                                                                            \r"
     ]
    },
    {
     "name": "stdout",
     "output_type": "stream",
     "text": [
      "MoviePy - Done !\n",
      "MoviePy - video ready /media/miked/Elements/Judge/FINISHED-DB-READY/cropped-videos/224_658.mp4\n",
      "min width 372 max_w 671\n",
      "min_height 173 max_h 320\n",
      "2040\n",
      "MoviePy - Building video /media/miked/Elements/Judge/FINISHED-DB-READY/cropped-videos/224_659.mp4.\n",
      "MoviePy - Writing video /media/miked/Elements/Judge/FINISHED-DB-READY/cropped-videos/224_659.mp4\n",
      "\n"
     ]
    },
    {
     "name": "stderr",
     "output_type": "stream",
     "text": [
      "                                                                            \r"
     ]
    },
    {
     "name": "stdout",
     "output_type": "stream",
     "text": [
      "MoviePy - Done !\n",
      "MoviePy - video ready /media/miked/Elements/Judge/FINISHED-DB-READY/cropped-videos/224_659.mp4\n",
      "min width 197 max_w 736\n",
      "min_height 267 max_h 429\n",
      "2290\n",
      "MoviePy - Building video /media/miked/Elements/Judge/FINISHED-DB-READY/cropped-videos/224_660.mp4.\n",
      "MoviePy - Writing video /media/miked/Elements/Judge/FINISHED-DB-READY/cropped-videos/224_660.mp4\n",
      "\n"
     ]
    },
    {
     "name": "stderr",
     "output_type": "stream",
     "text": [
      "                                                                            \r"
     ]
    },
    {
     "name": "stdout",
     "output_type": "stream",
     "text": [
      "MoviePy - Done !\n",
      "MoviePy - video ready /media/miked/Elements/Judge/FINISHED-DB-READY/cropped-videos/224_660.mp4\n",
      "min width 311 max_w 492\n",
      "min_height 225 max_h 261\n",
      "2375\n",
      "MoviePy - Building video /media/miked/Elements/Judge/FINISHED-DB-READY/cropped-videos/224_661.mp4.\n",
      "MoviePy - Writing video /media/miked/Elements/Judge/FINISHED-DB-READY/cropped-videos/224_661.mp4\n",
      "\n"
     ]
    },
    {
     "name": "stderr",
     "output_type": "stream",
     "text": [
      "                                                                            \r"
     ]
    },
    {
     "name": "stdout",
     "output_type": "stream",
     "text": [
      "MoviePy - Done !\n",
      "MoviePy - video ready /media/miked/Elements/Judge/FINISHED-DB-READY/cropped-videos/224_661.mp4\n",
      "min width 392 max_w 545\n",
      "min_height 284 max_h 314\n",
      "2363\n",
      "MoviePy - Building video /media/miked/Elements/Judge/FINISHED-DB-READY/cropped-videos/224_662.mp4.\n",
      "MoviePy - Writing video /media/miked/Elements/Judge/FINISHED-DB-READY/cropped-videos/224_662.mp4\n",
      "\n"
     ]
    },
    {
     "name": "stderr",
     "output_type": "stream",
     "text": [
      "                                                                            \r"
     ]
    },
    {
     "name": "stdout",
     "output_type": "stream",
     "text": [
      "MoviePy - Done !\n",
      "MoviePy - video ready /media/miked/Elements/Judge/FINISHED-DB-READY/cropped-videos/224_662.mp4\n",
      "min width 231 max_w 751\n",
      "min_height 301 max_h 321\n",
      "2375\n",
      "MoviePy - Building video /media/miked/Elements/Judge/FINISHED-DB-READY/cropped-videos/224_663.mp4.\n",
      "MoviePy - Writing video /media/miked/Elements/Judge/FINISHED-DB-READY/cropped-videos/224_663.mp4\n",
      "\n"
     ]
    },
    {
     "name": "stderr",
     "output_type": "stream",
     "text": [
      "                                                                            \r"
     ]
    },
    {
     "name": "stdout",
     "output_type": "stream",
     "text": [
      "MoviePy - Done !\n",
      "MoviePy - video ready /media/miked/Elements/Judge/FINISHED-DB-READY/cropped-videos/224_663.mp4\n",
      "min width 318 max_w 668\n",
      "min_height 290 max_h 339\n",
      "2338\n",
      "MoviePy - Building video /media/miked/Elements/Judge/FINISHED-DB-READY/cropped-videos/224_664.mp4.\n",
      "MoviePy - Writing video /media/miked/Elements/Judge/FINISHED-DB-READY/cropped-videos/224_664.mp4\n",
      "\n"
     ]
    },
    {
     "name": "stderr",
     "output_type": "stream",
     "text": [
      "                                                                            \r"
     ]
    },
    {
     "name": "stdout",
     "output_type": "stream",
     "text": [
      "MoviePy - Done !\n",
      "MoviePy - video ready /media/miked/Elements/Judge/FINISHED-DB-READY/cropped-videos/224_664.mp4\n",
      "min width 295 max_w 633\n",
      "min_height 281 max_h 319\n",
      "2361\n",
      "MoviePy - Building video /media/miked/Elements/Judge/FINISHED-DB-READY/cropped-videos/224_665.mp4.\n",
      "MoviePy - Writing video /media/miked/Elements/Judge/FINISHED-DB-READY/cropped-videos/224_665.mp4\n",
      "\n"
     ]
    },
    {
     "name": "stderr",
     "output_type": "stream",
     "text": [
      "                                                                            \r"
     ]
    },
    {
     "name": "stdout",
     "output_type": "stream",
     "text": [
      "MoviePy - Done !\n",
      "MoviePy - video ready /media/miked/Elements/Judge/FINISHED-DB-READY/cropped-videos/224_665.mp4\n",
      "min width 373 max_w 725\n",
      "min_height 315 max_h 397\n",
      "2385\n",
      "MoviePy - Building video /media/miked/Elements/Judge/FINISHED-DB-READY/cropped-videos/224_666.mp4.\n",
      "MoviePy - Writing video /media/miked/Elements/Judge/FINISHED-DB-READY/cropped-videos/224_666.mp4\n",
      "\n"
     ]
    },
    {
     "name": "stderr",
     "output_type": "stream",
     "text": [
      "                                                                            \r"
     ]
    },
    {
     "name": "stdout",
     "output_type": "stream",
     "text": [
      "MoviePy - Done !\n",
      "MoviePy - video ready /media/miked/Elements/Judge/FINISHED-DB-READY/cropped-videos/224_666.mp4\n",
      "min width 316 max_w 703\n",
      "min_height 216 max_h 454\n",
      "2332\n",
      "MoviePy - Building video /media/miked/Elements/Judge/FINISHED-DB-READY/cropped-videos/224_667.mp4.\n",
      "MoviePy - Writing video /media/miked/Elements/Judge/FINISHED-DB-READY/cropped-videos/224_667.mp4\n",
      "\n"
     ]
    },
    {
     "name": "stderr",
     "output_type": "stream",
     "text": [
      "                                                                            \r"
     ]
    },
    {
     "name": "stdout",
     "output_type": "stream",
     "text": [
      "MoviePy - Done !\n",
      "MoviePy - video ready /media/miked/Elements/Judge/FINISHED-DB-READY/cropped-videos/224_667.mp4\n",
      "min width 299 max_w 776\n",
      "min_height 370 max_h 396\n",
      "2388\n",
      "MoviePy - Building video /media/miked/Elements/Judge/FINISHED-DB-READY/cropped-videos/224_668.mp4.\n",
      "MoviePy - Writing video /media/miked/Elements/Judge/FINISHED-DB-READY/cropped-videos/224_668.mp4\n",
      "\n"
     ]
    },
    {
     "name": "stderr",
     "output_type": "stream",
     "text": [
      "                                                                            \r"
     ]
    },
    {
     "name": "stdout",
     "output_type": "stream",
     "text": [
      "MoviePy - Done !\n",
      "MoviePy - video ready /media/miked/Elements/Judge/FINISHED-DB-READY/cropped-videos/224_668.mp4\n",
      "min width 353 max_w 641\n",
      "min_height 258 max_h 378\n",
      "2343\n",
      "MoviePy - Building video /media/miked/Elements/Judge/FINISHED-DB-READY/cropped-videos/224_669.mp4.\n",
      "MoviePy - Writing video /media/miked/Elements/Judge/FINISHED-DB-READY/cropped-videos/224_669.mp4\n",
      "\n"
     ]
    },
    {
     "name": "stderr",
     "output_type": "stream",
     "text": [
      "                                                                            \r"
     ]
    },
    {
     "name": "stdout",
     "output_type": "stream",
     "text": [
      "MoviePy - Done !\n",
      "MoviePy - video ready /media/miked/Elements/Judge/FINISHED-DB-READY/cropped-videos/224_669.mp4\n",
      "min width 336 max_w 820\n",
      "min_height 246 max_h 394\n",
      "2368\n",
      "MoviePy - Building video /media/miked/Elements/Judge/FINISHED-DB-READY/cropped-videos/224_670.mp4.\n",
      "MoviePy - Writing video /media/miked/Elements/Judge/FINISHED-DB-READY/cropped-videos/224_670.mp4\n",
      "\n"
     ]
    },
    {
     "name": "stderr",
     "output_type": "stream",
     "text": [
      "                                                                            \r"
     ]
    },
    {
     "name": "stdout",
     "output_type": "stream",
     "text": [
      "MoviePy - Done !\n",
      "MoviePy - video ready /media/miked/Elements/Judge/FINISHED-DB-READY/cropped-videos/224_670.mp4\n",
      "min width 265 max_w 682\n",
      "min_height 287 max_h 375\n",
      "2438\n",
      "MoviePy - Building video /media/miked/Elements/Judge/FINISHED-DB-READY/cropped-videos/224_671.mp4.\n",
      "MoviePy - Writing video /media/miked/Elements/Judge/FINISHED-DB-READY/cropped-videos/224_671.mp4\n",
      "\n"
     ]
    },
    {
     "name": "stderr",
     "output_type": "stream",
     "text": [
      "                                                                            \r"
     ]
    },
    {
     "name": "stdout",
     "output_type": "stream",
     "text": [
      "MoviePy - Done !\n",
      "MoviePy - video ready /media/miked/Elements/Judge/FINISHED-DB-READY/cropped-videos/224_671.mp4\n",
      "min width 266 max_w 655\n",
      "min_height 256 max_h 376\n",
      "2346\n",
      "MoviePy - Building video /media/miked/Elements/Judge/FINISHED-DB-READY/cropped-videos/224_672.mp4.\n",
      "MoviePy - Writing video /media/miked/Elements/Judge/FINISHED-DB-READY/cropped-videos/224_672.mp4\n",
      "\n"
     ]
    },
    {
     "name": "stderr",
     "output_type": "stream",
     "text": [
      "                                                                            \r"
     ]
    },
    {
     "name": "stdout",
     "output_type": "stream",
     "text": [
      "MoviePy - Done !\n",
      "MoviePy - video ready /media/miked/Elements/Judge/FINISHED-DB-READY/cropped-videos/224_672.mp4\n",
      "min width 336 max_w 812\n",
      "min_height 384 max_h 481\n",
      "2402\n",
      "MoviePy - Building video /media/miked/Elements/Judge/FINISHED-DB-READY/cropped-videos/224_673.mp4.\n",
      "MoviePy - Writing video /media/miked/Elements/Judge/FINISHED-DB-READY/cropped-videos/224_673.mp4\n",
      "\n"
     ]
    },
    {
     "name": "stderr",
     "output_type": "stream",
     "text": [
      "                                                                            \r"
     ]
    },
    {
     "name": "stdout",
     "output_type": "stream",
     "text": [
      "MoviePy - Done !\n",
      "MoviePy - video ready /media/miked/Elements/Judge/FINISHED-DB-READY/cropped-videos/224_673.mp4\n",
      "min width 247 max_w 587\n",
      "min_height 258 max_h 323\n",
      "2454\n",
      "MoviePy - Building video /media/miked/Elements/Judge/FINISHED-DB-READY/cropped-videos/224_674.mp4.\n",
      "MoviePy - Writing video /media/miked/Elements/Judge/FINISHED-DB-READY/cropped-videos/224_674.mp4\n",
      "\n"
     ]
    },
    {
     "name": "stderr",
     "output_type": "stream",
     "text": [
      "                                                                            \r"
     ]
    },
    {
     "name": "stdout",
     "output_type": "stream",
     "text": [
      "MoviePy - Done !\n",
      "MoviePy - video ready /media/miked/Elements/Judge/FINISHED-DB-READY/cropped-videos/224_674.mp4\n",
      "min width 316 max_w 681\n",
      "min_height 313 max_h 355\n",
      "2394\n",
      "MoviePy - Building video /media/miked/Elements/Judge/FINISHED-DB-READY/cropped-videos/224_675.mp4.\n",
      "MoviePy - Writing video /media/miked/Elements/Judge/FINISHED-DB-READY/cropped-videos/224_675.mp4\n",
      "\n"
     ]
    },
    {
     "name": "stderr",
     "output_type": "stream",
     "text": [
      "                                                                            \r"
     ]
    },
    {
     "name": "stdout",
     "output_type": "stream",
     "text": [
      "MoviePy - Done !\n",
      "MoviePy - video ready /media/miked/Elements/Judge/FINISHED-DB-READY/cropped-videos/224_675.mp4\n",
      "min width 249 max_w 673\n",
      "min_height 286 max_h 361\n",
      "2386\n",
      "MoviePy - Building video /media/miked/Elements/Judge/FINISHED-DB-READY/cropped-videos/224_676.mp4.\n",
      "MoviePy - Writing video /media/miked/Elements/Judge/FINISHED-DB-READY/cropped-videos/224_676.mp4\n",
      "\n"
     ]
    },
    {
     "name": "stderr",
     "output_type": "stream",
     "text": [
      "                                                                            \r"
     ]
    },
    {
     "name": "stdout",
     "output_type": "stream",
     "text": [
      "MoviePy - Done !\n",
      "MoviePy - video ready /media/miked/Elements/Judge/FINISHED-DB-READY/cropped-videos/224_676.mp4\n",
      "min width 174 max_w 622\n",
      "min_height 242 max_h 327\n",
      "2486\n",
      "MoviePy - Building video /media/miked/Elements/Judge/FINISHED-DB-READY/cropped-videos/224_677.mp4.\n",
      "MoviePy - Writing video /media/miked/Elements/Judge/FINISHED-DB-READY/cropped-videos/224_677.mp4\n",
      "\n"
     ]
    },
    {
     "name": "stderr",
     "output_type": "stream",
     "text": [
      "                                                                            \r"
     ]
    },
    {
     "name": "stdout",
     "output_type": "stream",
     "text": [
      "MoviePy - Done !\n",
      "MoviePy - video ready /media/miked/Elements/Judge/FINISHED-DB-READY/cropped-videos/224_677.mp4\n",
      "min width 155 max_w 875\n",
      "min_height 278 max_h 308\n",
      "2588\n",
      "MoviePy - Building video /media/miked/Elements/Judge/FINISHED-DB-READY/cropped-videos/224_678.mp4.\n",
      "MoviePy - Writing video /media/miked/Elements/Judge/FINISHED-DB-READY/cropped-videos/224_678.mp4\n",
      "\n"
     ]
    },
    {
     "name": "stderr",
     "output_type": "stream",
     "text": [
      "                                                                            \r"
     ]
    },
    {
     "name": "stdout",
     "output_type": "stream",
     "text": [
      "MoviePy - Done !\n",
      "MoviePy - video ready /media/miked/Elements/Judge/FINISHED-DB-READY/cropped-videos/224_678.mp4\n",
      "min width 351 max_w 620\n",
      "min_height 221 max_h 335\n",
      "2422\n",
      "MoviePy - Building video /media/miked/Elements/Judge/FINISHED-DB-READY/cropped-videos/224_679.mp4.\n",
      "MoviePy - Writing video /media/miked/Elements/Judge/FINISHED-DB-READY/cropped-videos/224_679.mp4\n",
      "\n"
     ]
    },
    {
     "name": "stderr",
     "output_type": "stream",
     "text": [
      "                                                                            \r"
     ]
    },
    {
     "name": "stdout",
     "output_type": "stream",
     "text": [
      "MoviePy - Done !\n",
      "MoviePy - video ready /media/miked/Elements/Judge/FINISHED-DB-READY/cropped-videos/224_679.mp4\n",
      "min width 297 max_w 577\n",
      "min_height 309 max_h 344\n",
      "2436\n",
      "MoviePy - Building video /media/miked/Elements/Judge/FINISHED-DB-READY/cropped-videos/224_680.mp4.\n",
      "MoviePy - Writing video /media/miked/Elements/Judge/FINISHED-DB-READY/cropped-videos/224_680.mp4\n",
      "\n"
     ]
    },
    {
     "name": "stderr",
     "output_type": "stream",
     "text": [
      "                                                                            \r"
     ]
    },
    {
     "name": "stdout",
     "output_type": "stream",
     "text": [
      "MoviePy - Done !\n",
      "MoviePy - video ready /media/miked/Elements/Judge/FINISHED-DB-READY/cropped-videos/224_680.mp4\n",
      "min width 250 max_w 542\n",
      "min_height 444 max_h 444\n",
      "2619\n",
      "MoviePy - Building video /media/miked/Elements/Judge/FINISHED-DB-READY/cropped-videos/224_681.mp4.\n",
      "MoviePy - Writing video /media/miked/Elements/Judge/FINISHED-DB-READY/cropped-videos/224_681.mp4\n",
      "\n"
     ]
    },
    {
     "name": "stderr",
     "output_type": "stream",
     "text": [
      "                                                                            \r"
     ]
    },
    {
     "name": "stdout",
     "output_type": "stream",
     "text": [
      "MoviePy - Done !\n",
      "MoviePy - video ready /media/miked/Elements/Judge/FINISHED-DB-READY/cropped-videos/224_681.mp4\n",
      "min width 305 max_w 898\n",
      "min_height 397 max_h 397\n",
      "2513\n",
      "MoviePy - Building video /media/miked/Elements/Judge/FINISHED-DB-READY/cropped-videos/224_682.mp4.\n",
      "MoviePy - Writing video /media/miked/Elements/Judge/FINISHED-DB-READY/cropped-videos/224_682.mp4\n",
      "\n"
     ]
    },
    {
     "name": "stderr",
     "output_type": "stream",
     "text": [
      "                                                                            \r"
     ]
    },
    {
     "name": "stdout",
     "output_type": "stream",
     "text": [
      "MoviePy - Done !\n",
      "MoviePy - video ready /media/miked/Elements/Judge/FINISHED-DB-READY/cropped-videos/224_682.mp4\n",
      "min width 343 max_w 708\n",
      "min_height 310 max_h 355\n",
      "2410\n",
      "MoviePy - Building video /media/miked/Elements/Judge/FINISHED-DB-READY/cropped-videos/224_683.mp4.\n",
      "MoviePy - Writing video /media/miked/Elements/Judge/FINISHED-DB-READY/cropped-videos/224_683.mp4\n",
      "\n"
     ]
    },
    {
     "name": "stderr",
     "output_type": "stream",
     "text": [
      "                                                                            \r"
     ]
    },
    {
     "name": "stdout",
     "output_type": "stream",
     "text": [
      "MoviePy - Done !\n",
      "MoviePy - video ready /media/miked/Elements/Judge/FINISHED-DB-READY/cropped-videos/224_683.mp4\n",
      "min width 189 max_w 613\n",
      "min_height 448 max_h 448\n",
      "2545\n",
      "MoviePy - Building video /media/miked/Elements/Judge/FINISHED-DB-READY/cropped-videos/224_684.mp4.\n",
      "MoviePy - Writing video /media/miked/Elements/Judge/FINISHED-DB-READY/cropped-videos/224_684.mp4\n",
      "\n"
     ]
    },
    {
     "name": "stderr",
     "output_type": "stream",
     "text": [
      "                                                                            \r"
     ]
    },
    {
     "name": "stdout",
     "output_type": "stream",
     "text": [
      "MoviePy - Done !\n",
      "MoviePy - video ready /media/miked/Elements/Judge/FINISHED-DB-READY/cropped-videos/224_684.mp4\n",
      "min width 347 max_w 600\n",
      "min_height 232 max_h 337\n",
      "2453\n",
      "MoviePy - Building video /media/miked/Elements/Judge/FINISHED-DB-READY/cropped-videos/224_685.mp4.\n",
      "MoviePy - Writing video /media/miked/Elements/Judge/FINISHED-DB-READY/cropped-videos/224_685.mp4\n",
      "\n"
     ]
    },
    {
     "name": "stderr",
     "output_type": "stream",
     "text": [
      "                                                                            \r"
     ]
    },
    {
     "name": "stdout",
     "output_type": "stream",
     "text": [
      "MoviePy - Done !\n",
      "MoviePy - video ready /media/miked/Elements/Judge/FINISHED-DB-READY/cropped-videos/224_685.mp4\n",
      "min width 400 max_w 651\n",
      "min_height 235 max_h 330\n",
      "2454\n",
      "MoviePy - Building video /media/miked/Elements/Judge/FINISHED-DB-READY/cropped-videos/224_686.mp4.\n",
      "MoviePy - Writing video /media/miked/Elements/Judge/FINISHED-DB-READY/cropped-videos/224_686.mp4\n",
      "\n"
     ]
    },
    {
     "name": "stderr",
     "output_type": "stream",
     "text": [
      "                                                                            \r"
     ]
    },
    {
     "name": "stdout",
     "output_type": "stream",
     "text": [
      "MoviePy - Done !\n",
      "MoviePy - video ready /media/miked/Elements/Judge/FINISHED-DB-READY/cropped-videos/224_686.mp4\n",
      "min width 273 max_w 624\n",
      "min_height 274 max_h 467\n",
      "2446\n",
      "MoviePy - Building video /media/miked/Elements/Judge/FINISHED-DB-READY/cropped-videos/224_687.mp4.\n",
      "MoviePy - Writing video /media/miked/Elements/Judge/FINISHED-DB-READY/cropped-videos/224_687.mp4\n",
      "\n"
     ]
    },
    {
     "name": "stderr",
     "output_type": "stream",
     "text": [
      "                                                                            \r"
     ]
    },
    {
     "name": "stdout",
     "output_type": "stream",
     "text": [
      "MoviePy - Done !\n",
      "MoviePy - video ready /media/miked/Elements/Judge/FINISHED-DB-READY/cropped-videos/224_687.mp4\n",
      "min width 212 max_w 659\n",
      "min_height 226 max_h 321\n",
      "2411\n",
      "MoviePy - Building video /media/miked/Elements/Judge/FINISHED-DB-READY/cropped-videos/224_688.mp4.\n",
      "MoviePy - Writing video /media/miked/Elements/Judge/FINISHED-DB-READY/cropped-videos/224_688.mp4\n",
      "\n"
     ]
    },
    {
     "name": "stderr",
     "output_type": "stream",
     "text": [
      "                                                                            \r"
     ]
    },
    {
     "name": "stdout",
     "output_type": "stream",
     "text": [
      "MoviePy - Done !\n",
      "MoviePy - video ready /media/miked/Elements/Judge/FINISHED-DB-READY/cropped-videos/224_688.mp4\n",
      "min width 316 max_w 642\n",
      "min_height 264 max_h 282\n",
      "2442\n",
      "MoviePy - Building video /media/miked/Elements/Judge/FINISHED-DB-READY/cropped-videos/224_689.mp4.\n",
      "MoviePy - Writing video /media/miked/Elements/Judge/FINISHED-DB-READY/cropped-videos/224_689.mp4\n",
      "\n"
     ]
    },
    {
     "name": "stderr",
     "output_type": "stream",
     "text": [
      "                                                                            \r"
     ]
    },
    {
     "name": "stdout",
     "output_type": "stream",
     "text": [
      "MoviePy - Done !\n",
      "MoviePy - video ready /media/miked/Elements/Judge/FINISHED-DB-READY/cropped-videos/224_689.mp4\n",
      "min width 187 max_w 677\n",
      "min_height 332 max_h 350\n",
      "2339\n",
      "MoviePy - Building video /media/miked/Elements/Judge/FINISHED-DB-READY/cropped-videos/224_690.mp4.\n",
      "MoviePy - Writing video /media/miked/Elements/Judge/FINISHED-DB-READY/cropped-videos/224_690.mp4\n",
      "\n"
     ]
    },
    {
     "name": "stderr",
     "output_type": "stream",
     "text": [
      "                                                                            \r"
     ]
    },
    {
     "name": "stdout",
     "output_type": "stream",
     "text": [
      "MoviePy - Done !\n",
      "MoviePy - video ready /media/miked/Elements/Judge/FINISHED-DB-READY/cropped-videos/224_690.mp4\n",
      "min width 276 max_w 783\n",
      "min_height 250 max_h 314\n",
      "2491\n",
      "MoviePy - Building video /media/miked/Elements/Judge/FINISHED-DB-READY/cropped-videos/224_691.mp4.\n",
      "MoviePy - Writing video /media/miked/Elements/Judge/FINISHED-DB-READY/cropped-videos/224_691.mp4\n",
      "\n"
     ]
    },
    {
     "name": "stderr",
     "output_type": "stream",
     "text": [
      "                                                                            \r"
     ]
    },
    {
     "name": "stdout",
     "output_type": "stream",
     "text": [
      "MoviePy - Done !\n",
      "MoviePy - video ready /media/miked/Elements/Judge/FINISHED-DB-READY/cropped-videos/224_691.mp4\n",
      "min width 216 max_w 666\n",
      "min_height 262 max_h 331\n",
      "2440\n",
      "MoviePy - Building video /media/miked/Elements/Judge/FINISHED-DB-READY/cropped-videos/224_692.mp4.\n",
      "MoviePy - Writing video /media/miked/Elements/Judge/FINISHED-DB-READY/cropped-videos/224_692.mp4\n",
      "\n"
     ]
    },
    {
     "name": "stderr",
     "output_type": "stream",
     "text": [
      "                                                                            \r"
     ]
    },
    {
     "name": "stdout",
     "output_type": "stream",
     "text": [
      "MoviePy - Done !\n",
      "MoviePy - video ready /media/miked/Elements/Judge/FINISHED-DB-READY/cropped-videos/224_692.mp4\n",
      "min width 314 max_w 650\n",
      "min_height 280 max_h 358\n",
      "2344\n",
      "MoviePy - Building video /media/miked/Elements/Judge/FINISHED-DB-READY/cropped-videos/224_693.mp4.\n",
      "MoviePy - Writing video /media/miked/Elements/Judge/FINISHED-DB-READY/cropped-videos/224_693.mp4\n",
      "\n"
     ]
    },
    {
     "name": "stderr",
     "output_type": "stream",
     "text": [
      "                                                                            \r"
     ]
    },
    {
     "name": "stdout",
     "output_type": "stream",
     "text": [
      "MoviePy - Done !\n",
      "MoviePy - video ready /media/miked/Elements/Judge/FINISHED-DB-READY/cropped-videos/224_693.mp4\n",
      "min width 177 max_w 711\n",
      "min_height 213 max_h 276\n",
      "2493\n",
      "MoviePy - Building video /media/miked/Elements/Judge/FINISHED-DB-READY/cropped-videos/224_694.mp4.\n",
      "MoviePy - Writing video /media/miked/Elements/Judge/FINISHED-DB-READY/cropped-videos/224_694.mp4\n",
      "\n"
     ]
    },
    {
     "name": "stderr",
     "output_type": "stream",
     "text": [
      "                                                                            \r"
     ]
    },
    {
     "name": "stdout",
     "output_type": "stream",
     "text": [
      "MoviePy - Done !\n",
      "MoviePy - video ready /media/miked/Elements/Judge/FINISHED-DB-READY/cropped-videos/224_694.mp4\n",
      "min width 469 max_w 1920\n",
      "min_height 562 max_h 1080\n",
      "5192\n",
      "MoviePy - Building video /media/miked/Elements/Judge/FINISHED-DB-READY/cropped-videos/224_981.mp4.\n",
      "MoviePy - Writing video /media/miked/Elements/Judge/FINISHED-DB-READY/cropped-videos/224_981.mp4\n",
      "\n"
     ]
    },
    {
     "name": "stderr",
     "output_type": "stream",
     "text": [
      "                                                                            \r"
     ]
    },
    {
     "name": "stdout",
     "output_type": "stream",
     "text": [
      "MoviePy - Done !\n",
      "MoviePy - video ready /media/miked/Elements/Judge/FINISHED-DB-READY/cropped-videos/224_981.mp4\n",
      "min width 502 max_w 1511\n",
      "min_height 416 max_h 639\n",
      "5162\n",
      "MoviePy - Building video /media/miked/Elements/Judge/FINISHED-DB-READY/cropped-videos/224_982.mp4.\n",
      "MoviePy - Writing video /media/miked/Elements/Judge/FINISHED-DB-READY/cropped-videos/224_982.mp4\n",
      "\n"
     ]
    },
    {
     "name": "stderr",
     "output_type": "stream",
     "text": [
      "                                                                            \r"
     ]
    },
    {
     "name": "stdout",
     "output_type": "stream",
     "text": [
      "MoviePy - Done !\n",
      "MoviePy - video ready /media/miked/Elements/Judge/FINISHED-DB-READY/cropped-videos/224_982.mp4\n",
      "min width 353 max_w 1550\n",
      "min_height 904 max_h 904\n",
      "5972\n",
      "MoviePy - Building video /media/miked/Elements/Judge/FINISHED-DB-READY/cropped-videos/224_985.mp4.\n",
      "MoviePy - Writing video /media/miked/Elements/Judge/FINISHED-DB-READY/cropped-videos/224_985.mp4\n",
      "\n"
     ]
    },
    {
     "name": "stderr",
     "output_type": "stream",
     "text": [
      "                                                                            \r"
     ]
    },
    {
     "name": "stdout",
     "output_type": "stream",
     "text": [
      "MoviePy - Done !\n",
      "MoviePy - video ready /media/miked/Elements/Judge/FINISHED-DB-READY/cropped-videos/224_985.mp4\n",
      "min width 501 max_w 1898\n",
      "min_height 565 max_h 969\n",
      "5071\n",
      "MoviePy - Building video /media/miked/Elements/Judge/FINISHED-DB-READY/cropped-videos/224_988.mp4.\n",
      "MoviePy - Writing video /media/miked/Elements/Judge/FINISHED-DB-READY/cropped-videos/224_988.mp4\n",
      "\n"
     ]
    },
    {
     "name": "stderr",
     "output_type": "stream",
     "text": [
      "                                                                            \r"
     ]
    },
    {
     "name": "stdout",
     "output_type": "stream",
     "text": [
      "MoviePy - Done !\n",
      "MoviePy - video ready /media/miked/Elements/Judge/FINISHED-DB-READY/cropped-videos/224_988.mp4\n",
      "min width 493 max_w 1338\n",
      "min_height 1038 max_h 1038\n",
      "2700\n",
      "MoviePy - Building video /media/miked/Elements/Judge/FINISHED-DB-READY/cropped-videos/224_989.mp4.\n",
      "MoviePy - Writing video /media/miked/Elements/Judge/FINISHED-DB-READY/cropped-videos/224_989.mp4\n",
      "\n"
     ]
    },
    {
     "name": "stderr",
     "output_type": "stream",
     "text": [
      "                                                                            \r"
     ]
    },
    {
     "name": "stdout",
     "output_type": "stream",
     "text": [
      "MoviePy - Done !\n",
      "MoviePy - video ready /media/miked/Elements/Judge/FINISHED-DB-READY/cropped-videos/224_989.mp4\n",
      "min width 261 max_w 1209\n",
      "min_height 547 max_h 672\n",
      "2535\n",
      "MoviePy - Building video /media/miked/Elements/Judge/FINISHED-DB-READY/cropped-videos/224_990.mp4.\n",
      "MoviePy - Writing video /media/miked/Elements/Judge/FINISHED-DB-READY/cropped-videos/224_990.mp4\n",
      "\n"
     ]
    },
    {
     "name": "stderr",
     "output_type": "stream",
     "text": [
      "                                                                            \r"
     ]
    },
    {
     "name": "stdout",
     "output_type": "stream",
     "text": [
      "MoviePy - Done !\n",
      "MoviePy - video ready /media/miked/Elements/Judge/FINISHED-DB-READY/cropped-videos/224_990.mp4\n",
      "min width 381 max_w 1854\n",
      "min_height 1023 max_h 1080\n",
      "2715\n",
      "MoviePy - Building video /media/miked/Elements/Judge/FINISHED-DB-READY/cropped-videos/224_991.mp4.\n",
      "MoviePy - Writing video /media/miked/Elements/Judge/FINISHED-DB-READY/cropped-videos/224_991.mp4\n",
      "\n"
     ]
    },
    {
     "name": "stderr",
     "output_type": "stream",
     "text": [
      "                                                                            \r"
     ]
    },
    {
     "name": "stdout",
     "output_type": "stream",
     "text": [
      "MoviePy - Done !\n",
      "MoviePy - video ready /media/miked/Elements/Judge/FINISHED-DB-READY/cropped-videos/224_991.mp4\n",
      "min width 578 max_w 1891\n",
      "min_height 991 max_h 1080\n",
      "2850\n",
      "MoviePy - Building video /media/miked/Elements/Judge/FINISHED-DB-READY/cropped-videos/224_992.mp4.\n",
      "MoviePy - Writing video /media/miked/Elements/Judge/FINISHED-DB-READY/cropped-videos/224_992.mp4\n",
      "\n"
     ]
    },
    {
     "name": "stderr",
     "output_type": "stream",
     "text": [
      "                                                                            \r"
     ]
    },
    {
     "name": "stdout",
     "output_type": "stream",
     "text": [
      "MoviePy - Done !\n",
      "MoviePy - video ready /media/miked/Elements/Judge/FINISHED-DB-READY/cropped-videos/224_992.mp4\n",
      "min width 128 max_w 1856\n",
      "min_height 482 max_h 1004\n",
      "2520\n",
      "MoviePy - Building video /media/miked/Elements/Judge/FINISHED-DB-READY/cropped-videos/224_993.mp4.\n",
      "MoviePy - Writing video /media/miked/Elements/Judge/FINISHED-DB-READY/cropped-videos/224_993.mp4\n",
      "\n"
     ]
    },
    {
     "name": "stderr",
     "output_type": "stream",
     "text": [
      "                                                                            \r"
     ]
    },
    {
     "name": "stdout",
     "output_type": "stream",
     "text": [
      "MoviePy - Done !\n",
      "MoviePy - video ready /media/miked/Elements/Judge/FINISHED-DB-READY/cropped-videos/224_993.mp4\n",
      "min width 475 max_w 1671\n",
      "min_height 553 max_h 885\n",
      "2956\n",
      "MoviePy - Building video /media/miked/Elements/Judge/FINISHED-DB-READY/cropped-videos/224_994.mp4.\n",
      "MoviePy - Writing video /media/miked/Elements/Judge/FINISHED-DB-READY/cropped-videos/224_994.mp4\n",
      "\n"
     ]
    },
    {
     "name": "stderr",
     "output_type": "stream",
     "text": [
      "                                                                            \r"
     ]
    },
    {
     "name": "stdout",
     "output_type": "stream",
     "text": [
      "MoviePy - Done !\n",
      "MoviePy - video ready /media/miked/Elements/Judge/FINISHED-DB-READY/cropped-videos/224_994.mp4\n",
      "min width 413 max_w 1160\n",
      "min_height 514 max_h 661\n",
      "4740\n",
      "MoviePy - Building video /media/miked/Elements/Judge/FINISHED-DB-READY/cropped-videos/224_995.mp4.\n",
      "MoviePy - Writing video /media/miked/Elements/Judge/FINISHED-DB-READY/cropped-videos/224_995.mp4\n",
      "\n"
     ]
    },
    {
     "name": "stderr",
     "output_type": "stream",
     "text": [
      "                                                                            \r"
     ]
    },
    {
     "name": "stdout",
     "output_type": "stream",
     "text": [
      "MoviePy - Done !\n",
      "MoviePy - video ready /media/miked/Elements/Judge/FINISHED-DB-READY/cropped-videos/224_995.mp4\n",
      "min width 191 max_w 1529\n",
      "min_height 704 max_h 861\n",
      "4890\n",
      "MoviePy - Building video /media/miked/Elements/Judge/FINISHED-DB-READY/cropped-videos/224_996.mp4.\n",
      "MoviePy - Writing video /media/miked/Elements/Judge/FINISHED-DB-READY/cropped-videos/224_996.mp4\n",
      "\n"
     ]
    },
    {
     "name": "stderr",
     "output_type": "stream",
     "text": [
      "                                                                            \r"
     ]
    },
    {
     "name": "stdout",
     "output_type": "stream",
     "text": [
      "MoviePy - Done !\n",
      "MoviePy - video ready /media/miked/Elements/Judge/FINISHED-DB-READY/cropped-videos/224_996.mp4\n",
      "min width 178 max_w 1520\n",
      "min_height 638 max_h 756\n",
      "5042\n",
      "MoviePy - Building video /media/miked/Elements/Judge/FINISHED-DB-READY/cropped-videos/224_998.mp4.\n",
      "MoviePy - Writing video /media/miked/Elements/Judge/FINISHED-DB-READY/cropped-videos/224_998.mp4\n",
      "\n"
     ]
    },
    {
     "name": "stderr",
     "output_type": "stream",
     "text": [
      "                                                                            \r"
     ]
    },
    {
     "name": "stdout",
     "output_type": "stream",
     "text": [
      "MoviePy - Done !\n",
      "MoviePy - video ready /media/miked/Elements/Judge/FINISHED-DB-READY/cropped-videos/224_998.mp4\n",
      "min width 510 max_w 1920\n",
      "min_height 670 max_h 1080\n",
      "5642\n",
      "MoviePy - Building video /media/miked/Elements/Judge/FINISHED-DB-READY/cropped-videos/224_999.mp4.\n",
      "MoviePy - Writing video /media/miked/Elements/Judge/FINISHED-DB-READY/cropped-videos/224_999.mp4\n",
      "\n"
     ]
    },
    {
     "name": "stderr",
     "output_type": "stream",
     "text": [
      "                                                                            \r"
     ]
    },
    {
     "name": "stdout",
     "output_type": "stream",
     "text": [
      "MoviePy - Done !\n",
      "MoviePy - video ready /media/miked/Elements/Judge/FINISHED-DB-READY/cropped-videos/224_999.mp4\n",
      "min width 354 max_w 1887\n",
      "min_height 955 max_h 965\n",
      "5582\n",
      "MoviePy - Building video /media/miked/Elements/Judge/FINISHED-DB-READY/cropped-videos/224_1000.mp4.\n",
      "MoviePy - Writing video /media/miked/Elements/Judge/FINISHED-DB-READY/cropped-videos/224_1000.mp4\n",
      "\n"
     ]
    },
    {
     "name": "stderr",
     "output_type": "stream",
     "text": [
      "                                                                            \r"
     ]
    },
    {
     "name": "stdout",
     "output_type": "stream",
     "text": [
      "MoviePy - Done !\n",
      "MoviePy - video ready /media/miked/Elements/Judge/FINISHED-DB-READY/cropped-videos/224_1000.mp4\n",
      "min width 442 max_w 1430\n",
      "min_height 865 max_h 865\n",
      "4412\n",
      "MoviePy - Building video /media/miked/Elements/Judge/FINISHED-DB-READY/cropped-videos/224_1001.mp4.\n",
      "MoviePy - Writing video /media/miked/Elements/Judge/FINISHED-DB-READY/cropped-videos/224_1001.mp4\n",
      "\n"
     ]
    },
    {
     "name": "stderr",
     "output_type": "stream",
     "text": [
      "                                                                            \r"
     ]
    },
    {
     "name": "stdout",
     "output_type": "stream",
     "text": [
      "MoviePy - Done !\n",
      "MoviePy - video ready /media/miked/Elements/Judge/FINISHED-DB-READY/cropped-videos/224_1001.mp4\n",
      "min width 315 max_w 850\n",
      "min_height 298 max_h 312\n",
      "1924\n",
      "MoviePy - Building video /media/miked/Elements/Judge/FINISHED-DB-READY/cropped-videos/224_1145.mp4.\n",
      "MoviePy - Writing video /media/miked/Elements/Judge/FINISHED-DB-READY/cropped-videos/224_1145.mp4\n",
      "\n"
     ]
    },
    {
     "name": "stderr",
     "output_type": "stream",
     "text": [
      "                                                                            \r"
     ]
    },
    {
     "name": "stdout",
     "output_type": "stream",
     "text": [
      "MoviePy - Done !\n",
      "MoviePy - video ready /media/miked/Elements/Judge/FINISHED-DB-READY/cropped-videos/224_1145.mp4\n",
      "min width 152 max_w 880\n",
      "min_height 188 max_h 280\n",
      "2483\n",
      "MoviePy - Building video /media/miked/Elements/Judge/FINISHED-DB-READY/cropped-videos/224_1146.mp4.\n",
      "MoviePy - Writing video /media/miked/Elements/Judge/FINISHED-DB-READY/cropped-videos/224_1146.mp4\n",
      "\n"
     ]
    },
    {
     "name": "stderr",
     "output_type": "stream",
     "text": [
      "                                                                            \r"
     ]
    },
    {
     "name": "stdout",
     "output_type": "stream",
     "text": [
      "MoviePy - Done !\n",
      "MoviePy - video ready /media/miked/Elements/Judge/FINISHED-DB-READY/cropped-videos/224_1146.mp4\n"
     ]
    }
   ],
   "source": [
    "DIM = 224\n",
    "videoIds = repo.get_dd3_videoIds()[\"id\"].to_list()\n",
    "\n",
    "for videoId in videoIds:\n",
    "\n",
    "    predictions_per_second = 2000\n",
    "    videoPath = get_video_path(repo, videoId=videoId)\n",
    "    videoOutputPath = os.path.join(STORAGE_DIR, CROPPED_VIDEOS_FOLDER, f\"{DIM}_{videoId}_opencv.mp4\")\n",
    "    videoOutputPathCorrect = os.path.join(STORAGE_DIR, CROPPED_VIDEOS_FOLDER, f\"{DIM}_{videoId}.mp4\")\n",
    "    videoPath, videoOutputPath\n",
    "\n",
    "    cap = cv2.VideoCapture(videoPath)\n",
    "    fps = cap.get(cv2.CAP_PROP_FPS)\n",
    "    width = int(cap.get(cv2.CAP_PROP_FRAME_WIDTH))\n",
    "    height = int(cap.get(cv2.CAP_PROP_FRAME_HEIGHT))\n",
    "    wait_time = int(333 / fps - 7)\n",
    "    frames_to_skip = fps // predictions_per_second\n",
    "    frames_to_skip\n",
    "    padding_x = width // 60\n",
    "    padding_y = height // 50\n",
    "    N = 3\n",
    "    avgIOUlastNseconds = 0.0\n",
    "\n",
    "    smootval = 0.85\n",
    "    smootval_shrink = 0.945\n",
    "    smooted_x1_min = None\n",
    "    smooted_y1_min = None\n",
    "    smooted_x2_max = None\n",
    "    smooted_y2_max = None\n",
    "\n",
    "    max_w = 0\n",
    "    max_h = 0\n",
    "    min_w = width\n",
    "    min_h = height\n",
    "    max_wh = max(width, height)\n",
    "\n",
    "    i = 0\n",
    "    times_with_no_jumper = 0\n",
    "    cropping_started = False\n",
    "    frames = []\n",
    "\n",
    "    # fourcc = cv2.VideoWriter_fourcc(*'mp4v')    # fourcc = 0x00000021\n",
    "    # out = cv2.VideoWriter(videoOutputPath, fourcc, fps, (DIM, DIM))\n",
    "    ret, frame = cap.read()\n",
    "    while ret:\n",
    "        i += 1\n",
    "        result = model(frame, verbose=False)\n",
    "        xyxy_boxes = result[0].boxes.xyxy\n",
    "        \n",
    "        if xyxy_boxes.shape[0] > 0:\n",
    "            cropping_started = True\n",
    "            x1_min = max(0, int(xyxy_boxes[:, 0].min().item()) - padding_x)\n",
    "            y1_min = max(0, int(xyxy_boxes[:, 1].min().item()) - padding_y)\n",
    "            x2_max = min(width, int(xyxy_boxes[:, 2].max().item()) + padding_x)\n",
    "            y2_max = min(height, int(xyxy_boxes[:, 3].max().item()) + padding_y)\n",
    "            times_with_no_jumper = 0\n",
    "        elif times_with_no_jumper < 8 and 'x1_min' in locals():\n",
    "            times_with_no_jumper += 1\n",
    "        else:\n",
    "            x1_min = 0\n",
    "            y1_min = 0\n",
    "            x2_max = width\n",
    "            y2_max = height\n",
    "            times_with_no_jumper += 1\n",
    "\n",
    "        if smooted_x1_min is None or smooted_x1_min == 1:\n",
    "            smooted_x1_min = x1_min\n",
    "            smooted_y1_min = y1_min\n",
    "            smooted_x2_max = x2_max\n",
    "            smooted_y2_max = y2_max\n",
    "\n",
    "        else:\n",
    "            intersection_width = max(0, min(x2_max, smooted_x2_max) - max(x1_min, smooted_x1_min))\n",
    "            intersection_height = max(0, min(y2_max, smooted_y2_max) - max(y1_min, smooted_y1_min))\n",
    "            intersection_area = intersection_width * intersection_height\n",
    "            area_new_box = (x2_max - x1_min) * (y2_max - y1_min)\n",
    "            area_smooted_box = (smooted_x2_max - smooted_x1_min) * (smooted_y2_max - smooted_y1_min)\n",
    "            union = area_smooted_box + area_new_box - intersection_area\n",
    "            iou = intersection_area / union\n",
    "            avgIOUlastNseconds = ((N * fps - 1) * avgIOUlastNseconds + iou) / N / fps \n",
    "            avgSqrd = avgIOUlastNseconds*avgIOUlastNseconds\n",
    "            iou_threshold = avgSqrd * avgSqrd\n",
    "            # print(i, iou, iou_threshold)\n",
    "            if iou > iou_threshold:\n",
    "                smooted_x1_min = int(smootval * smooted_x1_min + (1-smootval) * x1_min) if x1_min < smooted_x1_min else int(smootval_shrink * smooted_x1_min + (1-smootval_shrink) * x1_min)\n",
    "                smooted_y1_min = int(smootval * smooted_y1_min + (1-smootval) * y1_min) if y1_min < smooted_x1_min else int(smootval_shrink * smooted_y1_min + (1-smootval_shrink) * y1_min)\n",
    "                smooted_x2_max = int(smootval * smooted_x2_max + (1-smootval) * x2_max) if x2_max > smooted_x2_max else int(smootval_shrink * smooted_x2_max + (1-smootval_shrink) * x2_max)\n",
    "                smooted_y2_max = int(smootval * smooted_y2_max + (1-smootval) * y2_max) if y2_max > smooted_y2_max else int(smootval_shrink * smooted_y2_max + (1-smootval_shrink) * y2_max)\n",
    "\n",
    "        w_jumpers = smooted_x2_max - smooted_x1_min\n",
    "        h_jumpers = smooted_y2_max - smooted_y1_min\n",
    "        max_w = max(max_w, w_jumpers)\n",
    "        max_h = max(max_h, h_jumpers)\n",
    "        min_w = min(min_w, w_jumpers)\n",
    "        min_h = min(max_h, h_jumpers)\n",
    "\n",
    "\n",
    "        max_wh_jumpers = max(w_jumpers, h_jumpers)\n",
    "        offset_x = (max_wh_jumpers - w_jumpers) // 2\n",
    "        offset_y = (max_wh_jumpers - h_jumpers) // 2\n",
    "\n",
    "        leftover_pixels_x = smooted_x1_min - offset_x\n",
    "        if leftover_pixels_x < 0:\n",
    "            crop_x1 = 0\n",
    "            offset_x = abs(leftover_pixels_x)\n",
    "        else:\n",
    "            crop_x1 = leftover_pixels_x\n",
    "            offset_x = 0\n",
    "        \n",
    "        leftover_pixels_x_right = width - (smooted_x2_max + offset_x)\n",
    "        crop_x2 = width if leftover_pixels_x_right < 0 else min(smooted_x2_max + offset_x, width)\n",
    "\n",
    "        leftover_pixels_y = smooted_y1_min - offset_y\n",
    "        if leftover_pixels_y < 0:\n",
    "            crop_y1 = 0\n",
    "            offset_y = abs(leftover_pixels_y)\n",
    "        else:\n",
    "            crop_y1 = leftover_pixels_y\n",
    "            offset_y = 0\n",
    "        \n",
    "        leftover_pixels_y_right = width - (smooted_y2_max + offset_y)\n",
    "        crop_y2 = width if leftover_pixels_y_right < 0 else min(smooted_y2_max + offset_y, height)\n",
    "\n",
    "        cropped_frame = frame[crop_y1:crop_y2, crop_x1:crop_x2]\n",
    "        zeros = np.zeros((max_wh_jumpers, max_wh_jumpers, 3), dtype=np.uint8)\n",
    "        zeros[offset_y:offset_y+(crop_y2-crop_y1), offset_x:offset_x+(crop_x2 - crop_x1)] = cropped_frame\n",
    "        zeros = cv2.resize(zeros, (DIM, DIM))\n",
    "        zeros = cv2.cvtColor(zeros, cv2.COLOR_BGR2RGB)\n",
    "\n",
    "        frames.append(zeros)\n",
    "        \n",
    "        ret, frame = cap.read()\n",
    "\n",
    "    print(\"min width\", min_w, \"max_w\", max_w)   \n",
    "    print(\"min_height\", min_h, \"max_h\", max_h)\n",
    "    print(i)\n",
    "\n",
    "    # Release everything if job is finished\n",
    "    cap.release()\n",
    "    cv2.destroyAllWindows()\n",
    "\n",
    "    clip = ImageSequenceClip(frames, fps=fps)\n",
    "    clip.write_videofile(videoOutputPathCorrect)\n",
    "\n",
    "    # To browser runnable codec\n",
    "    # os.system(f\"ffmpeg -i {videoOutputPath} -vcodec libx264 {videoOutputPathCorrect}\")"
   ]
  },
  {
   "cell_type": "code",
   "execution_count": null,
   "metadata": {},
   "outputs": [],
   "source": [
    " "
   ]
  },
  {
   "cell_type": "code",
   "execution_count": null,
   "metadata": {},
   "outputs": [],
   "source": []
  },
  {
   "cell_type": "code",
   "execution_count": null,
   "metadata": {},
   "outputs": [],
   "source": []
  }
 ],
 "metadata": {
  "kernelspec": {
   "display_name": ".venv",
   "language": "python",
   "name": "python3"
  },
  "language_info": {
   "codemirror_mode": {
    "name": "ipython",
    "version": 3
   },
   "file_extension": ".py",
   "mimetype": "text/x-python",
   "name": "python",
   "nbconvert_exporter": "python",
   "pygments_lexer": "ipython3",
   "version": "3.12.3"
  }
 },
 "nbformat": 4,
 "nbformat_minor": 2
}
