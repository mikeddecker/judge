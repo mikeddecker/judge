{
 "cells": [
  {
   "cell_type": "markdown",
   "id": "2843dbd3",
   "metadata": {},
   "source": [
    "# Plots for the paper"
   ]
  },
  {
   "cell_type": "code",
   "execution_count": 1,
   "id": "30caa741",
   "metadata": {},
   "outputs": [],
   "source": [
    "import pandas as pd"
   ]
  },
  {
   "cell_type": "code",
   "execution_count": 8,
   "id": "c09a0f17",
   "metadata": {},
   "outputs": [],
   "source": [
    "skilllengths = {\n",
    "'5': '2',\n",
    "'6': '11',\n",
    "'9': '9',\n",
    "'10': '82',\n",
    "'11': '57',\n",
    "'12': '338',\n",
    "'13': '347',\n",
    "'14': '586',\n",
    "'15': '787',\n",
    "'16': '300',\n",
    "'17': '330',\n",
    "'18': '327',\n",
    "'19': '165',\n",
    "'20': '193',\n",
    "'21': '84',\n",
    "'22': '102',\n",
    "'23': '112',\n",
    "'24': '154',\n",
    "'25': '250',\n",
    "'26': '267',\n",
    "'27': '206',\n",
    "'28': '169',\n",
    "'29': '110',\n",
    "'30': '154',\n",
    "'31': '106',\n",
    "'32': '53',\n",
    "'33': '55',\n",
    "'34': '26',\n",
    "'35': '33',\n",
    "'36': '18',\n",
    "'37': '19',\n",
    "'38': '26',\n",
    "'39': '19',\n",
    "'40': '22',\n",
    "'41': '13',\n",
    "'42': '12',\n",
    "'43': '9',\n",
    "'44': '6',\n",
    "'45': '12',\n",
    "'46': '12',\n",
    "'47': '15',\n",
    "'48': '18',\n",
    "'49': '7',\n",
    "'50': '10',\n",
    "'51': '10',\n",
    "'52': '8',\n",
    "'53': '7',\n",
    "'54': '5',\n",
    "'55': '6',\n",
    "'56': '6',\n",
    "'57': '5',\n",
    "'58': '1',\n",
    "'59': '3',\n",
    "'60': '5',\n",
    "'61': '2',\n",
    "'62': '2',\n",
    "'63': '5',\n",
    "'64': '3',\n",
    "'65': '3',\n",
    "'66': '2',\n",
    "'68': '2',\n",
    "'69': '1',\n",
    "'70': '1',\n",
    "'71': '1',\n",
    "'75': '4',\n",
    "'76': '2',\n",
    "'77': '1',\n",
    "'78': '2',\n",
    "'79': '1',\n",
    "'80': '3',\n",
    "'81': '3',\n",
    "'82': '2',\n",
    "'83': '1',\n",
    "'85': '1',\n",
    "'86': '2',\n",
    "'87': '2',\n",
    "'88': '1',\n",
    "'92': '1',\n",
    "'93': '2',\n",
    "'94': '3',\n",
    "'98': '1',\n",
    "'100': '1',\n",
    "'101': '1',\n",
    "'102': '4',\n",
    "'105': '1',\n",
    "'107': '1',\n",
    "'112': '1',\n",
    "'114': '4',\n",
    "'116': '1',\n",
    "'117': '1',\n",
    "'125': '1',\n",
    "'129': '1',\n",
    "'133': '1',\n",
    "'137': '1',\n",
    "'148': '1',\n",
    "'150': '2',\n",
    "'157': '2',\n",
    "'165': '1',\n",
    "'175': '1',\n",
    "'191': '1',\n",
    "'211': '1',\n",
    "'226': '1',\n",
    "'248': '1',\n",
    "'407': '1',\n",
    "}\n",
    "skilllengths = {\n",
    "    'length': [int(k) for k in skilllengths.keys()][:45],\n",
    "    'count' : [int(v) for v in skilllengths.values()][:45],\n",
    "}\n"
   ]
  },
  {
   "cell_type": "code",
   "execution_count": 9,
   "id": "2a8f11d4",
   "metadata": {},
   "outputs": [
    {
     "data": {
      "image/png": "[encoded data removed]",
      "text/plain": [
       "<Figure size 640x480 with 1 Axes>"
      ]
     },
     "metadata": {},
     "output_type": "display_data"
    }
   ],
   "source": [
    "fig = pd.DataFrame(skilllengths, columns=['length', 'count']).plot(kind='bar', x='length', y='count', legend=True).get_figure()\n"
   ]
  },
  {
   "cell_type": "code",
   "execution_count": 10,
   "id": "ebba3804",
   "metadata": {},
   "outputs": [],
   "source": [
    "fig.savefig('/home/miked/code/judge/paper/bachproef/img/skilllengths.png')\n",
    "fig.savefig('plots/skilllengths.png')"
   ]
  },
  {
   "cell_type": "code",
   "execution_count": null,
   "id": "fca92b4f",
   "metadata": {},
   "outputs": [],
   "source": []
  }
 ],
 "metadata": {
  "kernelspec": {
   "display_name": ".venv",
   "language": "python",
   "name": "python3"
  },
  "language_info": {
   "codemirror_mode": {
    "name": "ipython",
    "version": 3
   },
   "file_extension": ".py",
   "mimetype": "text/x-python",
   "name": "python",
   "nbconvert_exporter": "python",
   "pygments_lexer": "ipython3",
   "version": "3.12.3"
  }
 },
 "nbformat": 4,
 "nbformat_minor": 5
}
