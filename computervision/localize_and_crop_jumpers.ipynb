{
 "cells": [
  {
   "cell_type": "code",
   "execution_count": 1,
   "metadata": {},
   "outputs": [],
   "source": [
    "import os\n",
    "import cv2\n",
    "import shutil\n",
    "import pandas as pd\n",
    "import numpy as np\n",
    "\n",
    "from colorama import Fore, Style\n",
    "from typing import List\n",
    "from dotenv import load_dotenv\n",
    "from DataRepository import DataRepository\n",
    "from ultralytics import YOLO\n",
    "\n",
    "load_dotenv()\n",
    "STORAGE_DIR = os.getenv(\"STORAGE_DIR\")\n",
    "CROPPED_VIDEOS_FOLDER = \"cropped-videos\"\n",
    "# IMAGES_FOLDER = \"images\"\n",
    "# LABELS_FOLDER = \"labels\"\n",
    "SUPPORTED_VIDEO_FORMATS = os.getenv(\"SUPPORTED_VIDEO_FORMATS\")\n",
    "SUPPORTED_IMAGE_FORMATS = os.getenv(\"SUPPORTED_IMAGE_FORMATS\")\n",
    "VIDEO_IMAGE_PREVIEW_FOLDER = os.getenv(\"VIDEO_IMAGE_PREVIEW_FOLDER\")\n"
   ]
  },
  {
   "cell_type": "code",
   "execution_count": null,
   "metadata": {},
   "outputs": [],
   "source": []
  },
  {
   "cell_type": "code",
   "execution_count": 2,
   "metadata": {},
   "outputs": [
    {
     "name": "stdout",
     "output_type": "stream",
     "text": [
      "/media/miked/Elements/Judge/FINISHED-DB-READY\n",
      "cropped-videos\n"
     ]
    },
    {
     "data": {
      "text/plain": [
       "(None, None)"
      ]
     },
     "execution_count": 2,
     "metadata": {},
     "output_type": "execute_result"
    }
   ],
   "source": [
    "print(STORAGE_DIR), print(CROPPED_VIDEOS_FOLDER)\n",
    "# computervision/labeled_frame_nrs_to_imgs.ipynb"
   ]
  },
  {
   "cell_type": "code",
   "execution_count": 3,
   "metadata": {},
   "outputs": [],
   "source": [
    "os.makedirs(os.path.join(STORAGE_DIR, CROPPED_VIDEOS_FOLDER), exist_ok=True)\n",
    "\n",
    "def get_video_path(repo, videoId):\n",
    "    return os.path.join(STORAGE_DIR, repo.VideoNames.loc[videoId, \"name\"])"
   ]
  },
  {
   "cell_type": "code",
   "execution_count": 4,
   "metadata": {},
   "outputs": [
    {
     "name": "stdout",
     "output_type": "stream",
     "text": [
      "connection established, loading frame paths\n",
      "rel paths of framelabels loaded\n"
     ]
    }
   ],
   "source": [
    "repo = DataRepository()"
   ]
  },
  {
   "cell_type": "code",
   "execution_count": 42,
   "metadata": {},
   "outputs": [
    {
     "data": {
      "text/plain": [
       "'/home/miked/code/judge/runs/detect/train4'"
      ]
     },
     "execution_count": 42,
     "metadata": {},
     "output_type": "execute_result"
    }
   ],
   "source": [
    "modeltrainround = 4\n",
    "modelpath = f\"/home/miked/code/judge/runs/detect/train{modeltrainround}\"\n",
    "modelpath"
   ]
  },
  {
   "cell_type": "code",
   "execution_count": 43,
   "metadata": {},
   "outputs": [],
   "source": [
    "# From https://docs.ultralytics.com/modes/predict/#key-features-of-predict-mode\n",
    "# Load a model\n",
    "model = YOLO(os.path.join(modelpath, \"weights\", \"best.pt\"))\n"
   ]
  },
  {
   "cell_type": "code",
   "execution_count": 41,
   "metadata": {},
   "outputs": [
    {
     "data": {
      "text/plain": [
       "('/media/miked/Elements/Judge/FINISHED-DB-READY/competition/belgium/SR1/2024-sr1-xlrope-belen-pka-cam2.mp4',\n",
       " '/media/miked/Elements/Judge/FINISHED-DB-READY/cropped-videos/720_2270.mp4')"
      ]
     },
     "execution_count": 41,
     "metadata": {},
     "output_type": "execute_result"
    }
   ],
   "source": []
  },
  {
   "cell_type": "code",
   "execution_count": 51,
   "metadata": {},
   "outputs": [
    {
     "name": "stdout",
     "output_type": "stream",
     "text": [
      "min width 167 max_w 620\n",
      "min_height 248 max_h 323\n",
      "2486\n",
      "min width 172 max_w 1840\n",
      "min_height 972 max_h 1074\n",
      "4742\n",
      "min width 398 max_w 674\n",
      "min_height 363 max_h 410\n",
      "2072\n",
      "min width 163 max_w 506\n",
      "min_height 191 max_h 227\n",
      "2325\n",
      "min width 237 max_w 714\n",
      "min_height 180 max_h 376\n",
      "1925\n",
      "min width 236 max_w 576\n",
      "min_height 429 max_h 435\n",
      "2336\n",
      "min width 209 max_w 654\n",
      "min_height 240 max_h 290\n",
      "1670\n",
      "min width 103 max_w 1907\n",
      "min_height 120 max_h 1072\n",
      "7765\n",
      "min width 117 max_w 303\n",
      "min_height 209 max_h 324\n",
      "3176\n",
      "min width 180 max_w 578\n",
      "min_height 262 max_h 668\n",
      "4027\n",
      "min width 208 max_w 869\n",
      "min_height 277 max_h 857\n",
      "3772\n",
      "min width 122 max_w 293\n",
      "min_height 119 max_h 432\n",
      "4156\n",
      "min width 181 max_w 589\n",
      "min_height 374 max_h 811\n",
      "3730\n",
      "min width 112 max_w 1914\n",
      "min_height 893 max_h 1074\n",
      "6396\n",
      "min width 120 max_w 254\n",
      "min_height 213 max_h 341\n",
      "3817\n",
      "min width 378 max_w 1053\n",
      "min_height 304 max_h 482\n",
      "2374\n",
      "min width 299 max_w 1095\n",
      "min_height 494 max_h 590\n",
      "4848\n",
      "min width 118 max_w 254\n",
      "min_height 149 max_h 270\n",
      "3913\n",
      "min width 118 max_w 463\n",
      "min_height 146 max_h 313\n",
      "3841\n",
      "min width 132 max_w 289\n",
      "min_height 171 max_h 262\n",
      "2025\n"
     ]
    }
   ],
   "source": [
    "videoIds = [677, 1030, 1172, 1206, 1235, 1270, 1319, 1419, 1692, 1764, 1769, 1772, 1775, 1776, 1777,\n",
    "            1796, 2152, 2216, 2223, 2241, 2270]\n",
    "\n",
    "for videoId in videoIds:\n",
    "    predictions_per_second = 2000\n",
    "    DIM = 720\n",
    "    videoPath = get_video_path(repo, videoId=videoId)\n",
    "    videoOutputPath = os.path.join(STORAGE_DIR, CROPPED_VIDEOS_FOLDER, f\"{DIM}_{videoId}.mp4\")\n",
    "    videoPath, videoOutputPath\n",
    "\n",
    "    cap = cv2.VideoCapture(videoPath)\n",
    "    fps = cap.get(cv2.CAP_PROP_FPS)\n",
    "    width = int(cap.get(cv2.CAP_PROP_FRAME_WIDTH))\n",
    "    height = int(cap.get(cv2.CAP_PROP_FRAME_HEIGHT))\n",
    "    wait_time = int(333 / fps - 7)\n",
    "    frames_to_skip = fps // predictions_per_second\n",
    "    frames_to_skip\n",
    "    padding_x = width // 60\n",
    "    padding_y = height // 50\n",
    "    N = 4\n",
    "    avgIOUlastNseconds = 0.0\n",
    "\n",
    "    smootval = 0.85\n",
    "    smootval_shrink = 0.945\n",
    "    smooted_x1_min = None\n",
    "    smooted_y1_min = None\n",
    "    smooted_x2_max = None\n",
    "    smooted_y2_max = None\n",
    "\n",
    "    max_w = 0\n",
    "    max_h = 0\n",
    "    min_w = width\n",
    "    min_h = height\n",
    "    max_wh = max(width, height)\n",
    "\n",
    "    i = 0\n",
    "    times_with_no_jumper = 0\n",
    "\n",
    "    fourcc = cv2.VideoWriter_fourcc(*'mp4v')  # Codec for MP4\n",
    "    out = cv2.VideoWriter(videoOutputPath, fourcc, fps, (DIM, DIM))\n",
    "    ret, frame = cap.read()\n",
    "    while ret:\n",
    "        i += 1\n",
    "        result = model(frame, verbose=False)\n",
    "        xyxy_boxes = result[0].boxes.xyxy\n",
    "        if xyxy_boxes.shape[0] > 0:\n",
    "            x1_min = max(0, int(xyxy_boxes[:, 0].min().item()) - padding_x)\n",
    "            y1_min = max(0, int(xyxy_boxes[:, 1].min().item()) - padding_y)\n",
    "            x2_max = min(width, int(xyxy_boxes[:, 2].max().item()) + padding_x)\n",
    "            y2_max = min(height, int(xyxy_boxes[:, 3].max().item()) + padding_y)\n",
    "            times_with_no_jumper = 0\n",
    "        elif times_with_no_jumper < 8:\n",
    "            times_with_no_jumper += 1\n",
    "        else:\n",
    "            x1_min = 0\n",
    "            y1_min = 0\n",
    "            x2_max = width\n",
    "            y2_max = height\n",
    "            times_with_no_jumper += 1\n",
    "\n",
    "        if smooted_x1_min is None:\n",
    "            smooted_x1_min = x1_min\n",
    "            smooted_y1_min = y1_min\n",
    "            smooted_x2_max = x2_max\n",
    "            smooted_y2_max = y2_max\n",
    "        else:\n",
    "            intersection_width = max(0, min(x2_max, smooted_x2_max) - max(x1_min, smooted_x1_min))\n",
    "            intersection_height = max(0, min(y2_max, smooted_y2_max) - max(y1_min, smooted_y1_min))\n",
    "            intersection_area = intersection_width * intersection_height\n",
    "            area_new_box = (x2_max - x1_min) * (y2_max - y1_min)\n",
    "            area_smooted_box = (smooted_x2_max - smooted_x1_min) * (smooted_y2_max - smooted_y1_min)\n",
    "            union = area_smooted_box + area_new_box - intersection_area\n",
    "            iou = intersection_area / union\n",
    "            avgIOUlastNseconds = ((7 * fps - 1) * avgIOUlastNseconds + iou) / 7 / fps \n",
    "            avgSqrd = avgIOUlastNseconds*avgIOUlastNseconds\n",
    "            iou_threshold = avgSqrd * avgSqrd\n",
    "            # print(i, iou, iou_threshold)\n",
    "            if iou > iou_threshold:\n",
    "                smooted_x1_min = int(smootval * smooted_x1_min + (1-smootval) * x1_min) if x1_min < smooted_x1_min else int(smootval_shrink * smooted_x1_min + (1-smootval_shrink) * x1_min)\n",
    "                smooted_y1_min = int(smootval * smooted_y1_min + (1-smootval) * y1_min) if y1_min < smooted_x1_min else int(smootval_shrink * smooted_y1_min + (1-smootval_shrink) * y1_min)\n",
    "                smooted_x2_max = int(smootval * smooted_x2_max + (1-smootval) * x2_max) if x2_max > smooted_x2_max else int(smootval_shrink * smooted_x2_max + (1-smootval_shrink) * x2_max)\n",
    "                smooted_y2_max = int(smootval * smooted_y2_max + (1-smootval) * y2_max) if y2_max > smooted_y2_max else int(smootval_shrink * smooted_y2_max + (1-smootval_shrink) * y2_max)\n",
    "\n",
    "        w_jumpers = smooted_x2_max - smooted_x1_min\n",
    "        h_jumpers = smooted_y2_max - smooted_y1_min\n",
    "        max_w = max(max_w, w_jumpers)\n",
    "        max_h = max(max_h, h_jumpers)\n",
    "        min_w = min(min_w, w_jumpers)\n",
    "        min_h = min(max_h, h_jumpers)\n",
    "\n",
    "        cropped_frame = frame[smooted_y1_min:smooted_y2_max, smooted_x1_min:smooted_x2_max]\n",
    "        max_wh_jumpers = max(w_jumpers, h_jumpers)\n",
    "        zeros = np.zeros((max_wh_jumpers, max_wh_jumpers, 3), dtype=np.uint8)\n",
    "        offset_x = (max_wh_jumpers - w_jumpers) // 2\n",
    "        offset_y = (max_wh_jumpers - h_jumpers) // 2\n",
    "        zeros[offset_y:offset_y+h_jumpers, offset_x:offset_x+w_jumpers] = cropped_frame\n",
    "        zeros = cv2.resize(zeros, (DIM, DIM))\n",
    "\n",
    "        out.write(zeros)\n",
    "        \n",
    "        # cv2.imshow('Video', zeros)\n",
    "\n",
    "        # # Skip frames\n",
    "        # s = frames_to_skip\n",
    "        # while ret and s > 0:\n",
    "        #     ret, _ = cap.read()\n",
    "        #     s -= 1\n",
    "        \n",
    "        # if cv2.waitKey(wait_time) & 0xFF == ord('q'):\n",
    "        #     break\n",
    "        ret, frame = cap.read()\n",
    "\n",
    "    print(\"min width\", min_w, \"max_w\", max_w)\n",
    "    print(\"min_height\", min_h, \"max_h\", max_h)\n",
    "    print(i)\n",
    "\n",
    "    # Release everything if job is finished\n",
    "    out.release()\n",
    "    cap.release()\n",
    "    cv2.destroyAllWindows()"
   ]
  },
  {
   "cell_type": "code",
   "execution_count": null,
   "metadata": {},
   "outputs": [],
   "source": [
    " "
   ]
  },
  {
   "cell_type": "code",
   "execution_count": null,
   "metadata": {},
   "outputs": [],
   "source": []
  },
  {
   "cell_type": "code",
   "execution_count": null,
   "metadata": {},
   "outputs": [],
   "source": []
  }
 ],
 "metadata": {
  "kernelspec": {
   "display_name": "venv",
   "language": "python",
   "name": "python3"
  },
  "language_info": {
   "codemirror_mode": {
    "name": "ipython",
    "version": 3
   },
   "file_extension": ".py",
   "mimetype": "text/x-python",
   "name": "python",
   "nbconvert_exporter": "python",
   "pygments_lexer": "ipython3",
   "version": "3.12.3"
  }
 },
 "nbformat": 4,
 "nbformat_minor": 2
}
