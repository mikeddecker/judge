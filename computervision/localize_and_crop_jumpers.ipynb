{
 "cells": [
  {
   "cell_type": "code",
   "execution_count": 1,
   "metadata": {},
   "outputs": [],
   "source": [
    "import os\n",
    "import cv2\n",
    "import shutil\n",
    "import pandas as pd\n",
    "import numpy as np\n",
    "\n",
    "from colorama import Fore, Style\n",
    "from typing import List\n",
    "from dotenv import load_dotenv\n",
    "from DataRepository import DataRepository\n",
    "from ultralytics import YOLO\n",
    "\n",
    "load_dotenv()\n",
    "STORAGE_DIR = os.getenv(\"STORAGE_DIR\")\n",
    "CROPPED_VIDEOS_FOLDER = \"cropped-videos\"\n",
    "# IMAGES_FOLDER = \"images\"\n",
    "# LABELS_FOLDER = \"labels\"\n",
    "SUPPORTED_VIDEO_FORMATS = os.getenv(\"SUPPORTED_VIDEO_FORMATS\")\n",
    "SUPPORTED_IMAGE_FORMATS = os.getenv(\"SUPPORTED_IMAGE_FORMATS\")\n",
    "VIDEO_IMAGE_PREVIEW_FOLDER = os.getenv(\"VIDEO_IMAGE_PREVIEW_FOLDER\")\n"
   ]
  },
  {
   "cell_type": "code",
   "execution_count": null,
   "metadata": {},
   "outputs": [],
   "source": []
  },
  {
   "cell_type": "code",
   "execution_count": 2,
   "metadata": {},
   "outputs": [
    {
     "name": "stdout",
     "output_type": "stream",
     "text": [
      "/media/miked/Elements/Judge/FINISHED-DB-READY\n",
      "cropped-videos\n"
     ]
    },
    {
     "data": {
      "text/plain": [
       "(None, None)"
      ]
     },
     "execution_count": 2,
     "metadata": {},
     "output_type": "execute_result"
    }
   ],
   "source": [
    "print(STORAGE_DIR), print(CROPPED_VIDEOS_FOLDER)\n",
    "# computervision/labeled_frame_nrs_to_imgs.ipynb"
   ]
  },
  {
   "cell_type": "code",
   "execution_count": 3,
   "metadata": {},
   "outputs": [],
   "source": [
    "os.makedirs(os.path.join(STORAGE_DIR, CROPPED_VIDEOS_FOLDER), exist_ok=True)\n",
    "\n",
    "def get_video_path(repo, videoId):\n",
    "    return os.path.join(STORAGE_DIR, repo.VideoNames.loc[videoId, \"name\"])"
   ]
  },
  {
   "cell_type": "code",
   "execution_count": 38,
   "metadata": {},
   "outputs": [],
   "source": []
  },
  {
   "cell_type": "code",
   "execution_count": 37,
   "metadata": {},
   "outputs": [
    {
     "name": "stdout",
     "output_type": "stream",
     "text": [
      "connection established, loading frame paths\n",
      "rel paths of framelabels loaded\n"
     ]
    },
    {
     "data": {
      "text/plain": [
       "('/media/miked/Elements/Judge/FINISHED-DB-READY/competition/belgium/DD3/2022-dd3-belgium-grand-nationals-20.mp4',\n",
       " '/media/miked/Elements/Judge/FINISHED-DB-READY/cropped-videos/720_1419.mp4')"
      ]
     },
     "execution_count": 37,
     "metadata": {},
     "output_type": "execute_result"
    }
   ],
   "source": [
    "repo = DataRepository()\n",
    "predictions_per_second = 2000\n",
    "videoId = 1419\n",
    "DIM = 720\n",
    "videoPath = get_video_path(repo, videoId=videoId)\n",
    "videoOutputPath = os.path.join(STORAGE_DIR, CROPPED_VIDEOS_FOLDER, f\"{DIM}_{videoId}.mp4\")\n",
    "videoPath, videoOutputPath"
   ]
  },
  {
   "cell_type": "code",
   "execution_count": 38,
   "metadata": {},
   "outputs": [
    {
     "data": {
      "text/plain": [
       "'/home/miked/code/judge/runs/detect/train2'"
      ]
     },
     "execution_count": 38,
     "metadata": {},
     "output_type": "execute_result"
    }
   ],
   "source": [
    "modeltrainround = 2\n",
    "modelpath = f\"/home/miked/code/judge/runs/detect/train{modeltrainround}\"\n",
    "modelpath"
   ]
  },
  {
   "cell_type": "code",
   "execution_count": 39,
   "metadata": {},
   "outputs": [],
   "source": [
    "# From https://docs.ultralytics.com/modes/predict/#key-features-of-predict-mode\n",
    "# Load a model\n",
    "model = YOLO(os.path.join(modelpath, \"weights\", \"best.pt\"))\n"
   ]
  },
  {
   "cell_type": "code",
   "execution_count": null,
   "metadata": {},
   "outputs": [],
   "source": [
    "cap = cv2.VideoCapture(videoPath)\n",
    "fps = cap.get(cv2.CAP_PROP_FPS)\n",
    "width = int(cap.get(cv2.CAP_PROP_FRAME_WIDTH))\n",
    "height = int(cap.get(cv2.CAP_PROP_FRAME_HEIGHT))\n",
    "wait_time = int(333 / fps - 7)\n",
    "frames_to_skip = fps // predictions_per_second\n",
    "frames_to_skip\n",
    "padding_x = width // 80\n",
    "padding_y = height // 65\n",
    "\n",
    "smootval = 0.85\n",
    "smooted_x1_min = None\n",
    "smooted_y1_min = None\n",
    "smooted_x2_max = None\n",
    "smooted_y2_max = None\n",
    "\n",
    "max_w = 0\n",
    "max_h = 0\n",
    "min_w = width\n",
    "min_h = height\n",
    "max_wh = max(width, height)\n",
    "\n",
    "i = 0\n",
    "times_with_no_jumper = 0\n",
    "\n",
    "fourcc = cv2.VideoWriter_fourcc(*'mp4v')  # Codec for MP4\n",
    "out = cv2.VideoWriter(videoOutputPath, fourcc, fps, (DIM, DIM))\n",
    "ret, frame = cap.read()\n",
    "while ret:\n",
    "    i += 1\n",
    "    result = model(frame, verbose=False)\n",
    "    xyxy_boxes = result[0].boxes.xyxy\n",
    "    if xyxy_boxes.shape[0] > 0:\n",
    "        x1_min = max(0, int(xyxy_boxes[:, 0].min().item()) - padding_x)\n",
    "        y1_min = max(0, int(xyxy_boxes[:, 1].min().item()) - padding_y)\n",
    "        x2_max = min(width, int(xyxy_boxes[:, 2].max().item()) + padding_x)\n",
    "        y2_max = min(height, int(xyxy_boxes[:, 3].max().item()) + padding_y)\n",
    "        times_with_no_jumper = 0\n",
    "    elif times_with_no_jumper < 8:\n",
    "        times_with_no_jumper += 1\n",
    "    else:\n",
    "        x1_min = 0\n",
    "        y1_min = 0\n",
    "        x2_max = width\n",
    "        y2_max = height\n",
    "        times_with_no_jumper += 1\n",
    "\n",
    "    if smooted_x1_min is None:\n",
    "        smooted_x1_min = x1_min\n",
    "        smooted_y1_min = y1_min\n",
    "        smooted_x2_max = x2_max\n",
    "        smooted_y2_max = y2_max\n",
    "    else:\n",
    "        smooted_x1_min = int(smootval * smooted_x1_min + (1-smootval) * x1_min)\n",
    "        smooted_y1_min = int(smootval * smooted_y1_min + (1-smootval) * y1_min)\n",
    "        smooted_x2_max = int(smootval * smooted_x2_max + (1-smootval) * x2_max)\n",
    "        smooted_y2_max = int(smootval * smooted_y2_max + (1-smootval) * y2_max)\n",
    "\n",
    "    w_jumpers = smooted_x2_max - smooted_x1_min\n",
    "    h_jumpers = smooted_y2_max - smooted_y1_min\n",
    "    max_w = max(max_w, w_jumpers)\n",
    "    max_h = max(max_h, h_jumpers)\n",
    "    min_w = min(min_w, w_jumpers)\n",
    "    min_h = min(max_h, h_jumpers)\n",
    "\n",
    "    cropped_frame = frame[smooted_y1_min:smooted_y2_max, smooted_x1_min:smooted_x2_max]\n",
    "    max_wh_jumpers = max(w_jumpers, h_jumpers)\n",
    "    zeros = np.zeros((max_wh_jumpers, max_wh_jumpers, 3), dtype=np.uint8)\n",
    "    offset_x = (max_wh_jumpers - w_jumpers) // 2\n",
    "    offset_y = (max_wh_jumpers - h_jumpers) // 2\n",
    "    zeros[offset_y:offset_y+h_jumpers, offset_x:offset_x+w_jumpers] = cropped_frame\n",
    "    zeros = cv2.resize(zeros, (DIM, DIM))\n",
    "\n",
    "    out.write(zeros)\n",
    "    \n",
    "    # cv2.imshow('Video', zeros)\n",
    "\n",
    "    # # Skip frames\n",
    "    # s = frames_to_skip\n",
    "    # while ret and s > 0:\n",
    "    #     ret, _ = cap.read()\n",
    "    #     s -= 1\n",
    "    \n",
    "    # if cv2.waitKey(wait_time) & 0xFF == ord('q'):\n",
    "    #     break\n",
    "    ret, frame = cap.read()\n",
    "\n",
    "print(\"min width\", min_w, \"max_w\", max_w)\n",
    "print(\"min_height\", min_h, \"max_h\", max_h)\n",
    "print(i)\n",
    "\n",
    "# Release everything if job is finished\n",
    "out.release()\n",
    "cap.release()\n",
    "cv2.destroyAllWindows()"
   ]
  },
  {
   "cell_type": "code",
   "execution_count": null,
   "metadata": {},
   "outputs": [],
   "source": [
    " "
   ]
  },
  {
   "cell_type": "code",
   "execution_count": null,
   "metadata": {},
   "outputs": [],
   "source": []
  },
  {
   "cell_type": "code",
   "execution_count": null,
   "metadata": {},
   "outputs": [],
   "source": []
  }
 ],
 "metadata": {
  "kernelspec": {
   "display_name": "venv",
   "language": "python",
   "name": "python3"
  },
  "language_info": {
   "codemirror_mode": {
    "name": "ipython",
    "version": 3
   },
   "file_extension": ".py",
   "mimetype": "text/x-python",
   "name": "python",
   "nbconvert_exporter": "python",
   "pygments_lexer": "ipython3",
   "version": "3.12.3"
  }
 },
 "nbformat": 4,
 "nbformat_minor": 2
}
