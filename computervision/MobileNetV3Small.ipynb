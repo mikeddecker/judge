{
 "cells": [
  {
   "cell_type": "markdown",
   "metadata": {},
   "source": [
    "# Fine-tuning mobilenetv3 small version"
   ]
  },
  {
   "cell_type": "code",
   "execution_count": 1,
   "metadata": {},
   "outputs": [],
   "source": [
    "DIM = 512"
   ]
  },
  {
   "cell_type": "code",
   "execution_count": null,
   "metadata": {},
   "outputs": [],
   "source": [
    "import functools\n",
    "import keras\n",
    "from helpers import iou\n",
    "from keras.callbacks import ModelCheckpoint, EarlyStopping, ReduceLROnPlateau\n",
    "from FrameLoader import FrameLoader\n",
    "from DataGeneratorFrames import DataGeneratorFrames\n",
    "from DataRepository import DataRepository"
   ]
  },
  {
   "cell_type": "code",
   "execution_count": 3,
   "metadata": {},
   "outputs": [],
   "source": [
    "DefaultConv = functools.partial(\n",
    "    keras.layers.Conv2D, kernel_size=(3, 3), strides=(2, 2),\n",
    "    padding=\"same\", activation=\"relu\", kernel_initializer=\"he_normal\")\n",
    "\n",
    "DefaultMaxPool = functools.partial(\n",
    "    keras.layers.MaxPool2D,\n",
    "    pool_size=(3,3), strides=(2,2), padding=\"same\")\n"
   ]
  },
  {
   "cell_type": "code",
   "execution_count": null,
   "metadata": {},
   "outputs": [],
   "source": [
    "mobilenetv3small = keras.applications.MobileNetV3Small(\n",
    "input_shape=(DIM,DIM,3),\n",
    "include_top=False,\n",
    "weights=\"imagenet\",\n",
    "dropout_rate=0.2,\n",
    "pooling='avg',\n",
    "name=\"MobileNetV3Small\",\n",
    ")\n",
    "mobilenetv3small.summary()"
   ]
  },
  {
   "cell_type": "code",
   "execution_count": 5,
   "metadata": {},
   "outputs": [],
   "source": [
    "def get_model(input_shape, num_classes, use_batch_norm=True, **kwargs):\n",
    "  model = keras.Sequential(**kwargs)\n",
    "  mobilenetv3small = keras.applications.MobileNetV3Small(\n",
    "    input_shape=(DIM,DIM,3),\n",
    "    include_top=False,\n",
    "    weights=\"imagenet\",\n",
    "    dropout_rate=0.2,\n",
    "    pooling='avg',\n",
    "    name=\"MobileNetV3Small\",\n",
    "  )\n",
    "  mobilenetv3small.trainable = False\n",
    "  model.add(mobilenetv3small)\n",
    "  model.add(keras.layers.Dense(units=512, activation=\"relu\"))\n",
    "  model.add(keras.layers.Dense(units=num_classes, activation='sigmoid'))\n",
    "\n",
    "  return model\n"
   ]
  },
  {
   "cell_type": "code",
   "execution_count": null,
   "metadata": {},
   "outputs": [],
   "source": [
    "\n",
    "model = get_model(input_shape=(DIM,DIM,3), num_classes=4, use_batch_norm=True)\n",
    "model.summary()"
   ]
  },
  {
   "cell_type": "code",
   "execution_count": 7,
   "metadata": {},
   "outputs": [],
   "source": [
    "model.compile(optimizer='adam', loss='mse', metrics=[iou])"
   ]
  },
  {
   "cell_type": "code",
   "execution_count": null,
   "metadata": {},
   "outputs": [],
   "source": [
    "repo = DataRepository()\n",
    "\n",
    "train_generator = DataGeneratorFrames(\n",
    "    frameloader=FrameLoader(repo),\n",
    "    train_test_val=\"train\",\n",
    "    dim=(DIM,DIM),\n",
    "    batch_size=32,\n",
    ")\n",
    "\n",
    "val_generator = DataGeneratorFrames(\n",
    "    frameloader=FrameLoader(repo),\n",
    "    train_test_val=\"test\",\n",
    "    dim=(DIM,DIM),\n",
    "    batch_size=32,\n",
    ")"
   ]
  },
  {
   "cell_type": "code",
   "execution_count": null,
   "metadata": {},
   "outputs": [],
   "source": [
    "callbacks = [\n",
    "    ModelCheckpoint('model_best.keras', save_best_only=True, monitor='val_loss', mode='min', verbose=1),\n",
    "    EarlyStopping(monitor='loss', patience=2, restore_best_weights=True, verbose=1),\n",
    "    ReduceLROnPlateau(monitor='loss', factor=0.5, patience=1, verbose=1)\n",
    "]\n",
    "\n",
    "history = model.fit(\n",
    "    train_generator,\n",
    "    epochs=10,\n",
    "    callbacks=callbacks,\n",
    "    verbose=1,\n",
    "    validation_data=val_generator\n",
    ")"
   ]
  },
  {
   "cell_type": "code",
   "execution_count": null,
   "metadata": {},
   "outputs": [],
   "source": [
    "keras.models.save_model(\n",
    "    model,\n",
    "    filepath=\"mobilenetv3small.keras\",\n",
    "    overwrite=True\n",
    ")\n",
    "\n",
    "model.save_weights(\"mobilenetv3small.weights.h5\")"
   ]
  }
 ],
 "metadata": {
  "kernelspec": {
   "display_name": ".venv",
   "language": "python",
   "name": "python3"
  },
  "language_info": {
   "codemirror_mode": {
    "name": "ipython",
    "version": 3
   },
   "file_extension": ".py",
   "mimetype": "text/x-python",
   "name": "python",
   "nbconvert_exporter": "python",
   "pygments_lexer": "ipython3",
   "version": "3.12.3"
  }
 },
 "nbformat": 4,
 "nbformat_minor": 2
}
