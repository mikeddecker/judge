{
 "cells": [
  {
   "cell_type": "code",
   "execution_count": 1,
   "id": "d46cd2f2-ccd7-4a7e-8725-cab1b9b4c4d2",
   "metadata": {},
   "outputs": [],
   "source": [
    "# keras CNN predict air, between, ground or not jumping"
   ]
  },
  {
   "cell_type": "code",
   "execution_count": 2,
   "id": "866d8eb0-81e5-493a-aac8-c56f0b4aeea5",
   "metadata": {},
   "outputs": [],
   "source": [
    "# !pip3 install tensorflow"
   ]
  },
  {
   "cell_type": "code",
   "execution_count": 3,
   "id": "ec73ef6e-5e7e-4e46-be92-312f781394ec",
   "metadata": {},
   "outputs": [
    {
     "name": "stderr",
     "output_type": "stream",
     "text": [
      "2024-07-26 12:02:41.057002: I tensorflow/core/util/port.cc:113] oneDNN custom operations are on. You may see slightly different numerical results due to floating-point round-off errors from different computation orders. To turn them off, set the environment variable `TF_ENABLE_ONEDNN_OPTS=0`.\n",
      "2024-07-26 12:02:41.102626: I tensorflow/core/platform/cpu_feature_guard.cc:210] This TensorFlow binary is optimized to use available CPU instructions in performance-critical operations.\n",
      "To enable the following instructions: AVX2 AVX512F AVX512_VNNI FMA, in other operations, rebuild TensorFlow with the appropriate compiler flags.\n",
      "2024-07-26 12:02:41.893229: W tensorflow/compiler/tf2tensorrt/utils/py_utils.cc:38] TF-TRT Warning: Could not find TensorRT\n"
     ]
    }
   ],
   "source": [
    "import tensorflow as tf\n",
    "\n",
    "from tensorflow.keras import datasets, layers, models\n",
    "from keras.optimizers import Adam\n",
    "import numpy as np\n",
    "import pandas as pd\n",
    "import matplotlib.pyplot as plt\n",
    "import cv2\n",
    "import os\n",
    "import pickle\n",
    "from utils_misc import pickle_load_or_create"
   ]
  },
  {
   "cell_type": "code",
   "execution_count": 4,
   "id": "d583182b-037f-43d8-9352-7b2981366acb",
   "metadata": {},
   "outputs": [
    {
     "name": "stdout",
     "output_type": "stream",
     "text": [
      "None\n"
     ]
    }
   ],
   "source": [
    "model = pickle_load_or_create('../models/convLSTM_128_max_pool', lambda: None, True)\n",
    "print(model)"
   ]
  },
  {
   "cell_type": "code",
   "execution_count": 5,
   "id": "62270fb6-0959-4b25-b796-16742c062b21",
   "metadata": {},
   "outputs": [
    {
     "name": "stdout",
     "output_type": "stream",
     "text": [
      "Defaulting to user installation because normal site-packages is not writeable\n",
      "Requirement already satisfied: opencv-python in /home/miked/.local/lib/python3.10/site-packages (4.9.0.80)\n",
      "Requirement already satisfied: pandas in /home/miked/.local/lib/python3.10/site-packages (2.2.0)\n",
      "Requirement already satisfied: numpy>=1.21.2 in /home/miked/.local/lib/python3.10/site-packages (from opencv-python) (1.26.4)\n",
      "Requirement already satisfied: pytz>=2020.1 in /usr/lib/python3/dist-packages (from pandas) (2022.1)\n",
      "Requirement already satisfied: python-dateutil>=2.8.2 in /home/miked/.local/lib/python3.10/site-packages (from pandas) (2.8.2)\n",
      "Requirement already satisfied: tzdata>=2022.7 in /home/miked/.local/lib/python3.10/site-packages (from pandas) (2024.1)\n",
      "Requirement already satisfied: six>=1.5 in /usr/lib/python3/dist-packages (from python-dateutil>=2.8.2->pandas) (1.16.0)\n",
      "Defaulting to user installation because normal site-packages is not writeable\n",
      "Requirement already satisfied: sqlalchemy in /home/miked/.local/lib/python3.10/site-packages (2.0.29)\n",
      "Requirement already satisfied: PyMySQL in /home/miked/.local/lib/python3.10/site-packages (1.1.1)\n",
      "Requirement already satisfied: greenlet!=0.4.17 in /home/miked/.local/lib/python3.10/site-packages (from sqlalchemy) (3.0.3)\n",
      "Requirement already satisfied: typing-extensions>=4.6.0 in /home/miked/.local/lib/python3.10/site-packages (from sqlalchemy) (4.9.0)\n"
     ]
    }
   ],
   "source": [
    "from DataGeneratorBordersDB import DataGeneratorSkillBorders\n"
   ]
  },
  {
   "cell_type": "code",
   "execution_count": 6,
   "id": "81b6daf1-ef2e-43c1-95d8-2a960b07955a",
   "metadata": {},
   "outputs": [
    {
     "data": {
      "text/plain": [
       "{'convolution': (3, 3),\n",
       " 'time_length': 8,\n",
       " 'dim': 128,\n",
       " 'rgb': True,\n",
       " 'unique_labels': 4}"
      ]
     },
     "execution_count": 6,
     "metadata": {},
     "output_type": "execute_result"
    }
   ],
   "source": [
    "config = pickle_load_or_create('convLSTM_128_max_pool', lambda:{\n",
    "    'convolution': (3,3),\n",
    "    'time_length':8,\n",
    "    'dim':128,\n",
    "    'rgb':True,\n",
    "    'unique_labels': 4,\n",
    "}, config=True)\n",
    "config"
   ]
  },
  {
   "cell_type": "code",
   "execution_count": 7,
   "id": "8ca79375-37fd-4973-ae24-e4ac073a35b7",
   "metadata": {},
   "outputs": [
    {
     "name": "stderr",
     "output_type": "stream",
     "text": [
      "/home/miked/.local/lib/python3.10/site-packages/keras/src/layers/rnn/rnn.py:204: UserWarning: Do not pass an `input_shape`/`input_dim` argument to a layer. When using Sequential models, prefer using an `Input(shape)` object as the first layer in the model instead.\n",
      "  super().__init__(**kwargs)\n"
     ]
    }
   ],
   "source": [
    "from tensorflow.keras.models import Sequential\n",
    "from tensorflow.keras.layers import ConvLSTM2D, BatchNormalization, TimeDistributed, Dense, Flatten, Input, MaxPooling2D\n",
    "from tensorflow.keras.optimizers import Adam\n",
    "\n",
    "if model is None:\n",
    "    model = Sequential()    \n",
    "    model.add(ConvLSTM2D(filters=64, kernel_size=config['convolution'],\n",
    "                         input_shape=(config['time_length'], config['dim'],  config['dim'], 3 if config['rgb'] else 1),\n",
    "                         padding='same', return_sequences=True))\n",
    "    model.add(TimeDistributed(MaxPooling2D()))\n",
    "    model.add(BatchNormalization())\n",
    "    \n",
    "    model.add(ConvLSTM2D(filters=64, kernel_size=(3, 3),\n",
    "                         padding='same', return_sequences=True))\n",
    "    model.add(TimeDistributed(MaxPooling2D()))\n",
    "    model.add(BatchNormalization())\n",
    "\n",
    "    model.add(ConvLSTM2D(filters=128, kernel_size=(3, 3),\n",
    "                         padding='same', return_sequences=True))\n",
    "    model.add(TimeDistributed(MaxPooling2D()))\n",
    "    model.add(BatchNormalization())\n",
    "    \n",
    "    # Apply TimeDistributed Dense layer to each time step\n",
    "    model.add(TimeDistributed(Flatten()))  # Flatten each frame\n",
    "    model.add(TimeDistributed(Dense(128, activation='relu')))\n",
    "    model.add(TimeDistributed(Dense(config['unique_labels'], activation='softmax')))\n",
    "    \n",
    "    model.compile(optimizer=Adam(), loss='sparse_categorical_crossentropy', metrics=['accuracy'])\n",
    "else:\n",
    "    model = model.model"
   ]
  },
  {
   "cell_type": "code",
   "execution_count": 8,
   "id": "7ced48a4-4077-4fc0-bf25-ebc558c8fc12",
   "metadata": {},
   "outputs": [
    {
     "data": {
      "text/html": [
       "<pre style=\"white-space:pre;overflow-x:auto;line-height:normal;font-family:Menlo,'DejaVu Sans Mono',consolas,'Courier New',monospace\"><span style=\"font-weight: bold\">Model: \"sequential\"</span>\n",
       "</pre>\n"
      ],
      "text/plain": [
       "\u001b[1mModel: \"sequential\"\u001b[0m\n"
      ]
     },
     "metadata": {},
     "output_type": "display_data"
    },
    {
     "data": {
      "text/html": [
       "<pre style=\"white-space:pre;overflow-x:auto;line-height:normal;font-family:Menlo,'DejaVu Sans Mono',consolas,'Courier New',monospace\">┏━━━━━━━━━━━━━━━━━━━━━━━━━━━━━━━━━┳━━━━━━━━━━━━━━━━━━━━━━━━┳━━━━━━━━━━━━━━━┓\n",
       "┃<span style=\"font-weight: bold\"> Layer (type)                    </span>┃<span style=\"font-weight: bold\"> Output Shape           </span>┃<span style=\"font-weight: bold\">       Param # </span>┃\n",
       "┡━━━━━━━━━━━━━━━━━━━━━━━━━━━━━━━━━╇━━━━━━━━━━━━━━━━━━━━━━━━╇━━━━━━━━━━━━━━━┩\n",
       "│ conv_lstm2d (<span style=\"color: #0087ff; text-decoration-color: #0087ff\">ConvLSTM2D</span>)        │ (<span style=\"color: #00d7ff; text-decoration-color: #00d7ff\">None</span>, <span style=\"color: #00af00; text-decoration-color: #00af00\">8</span>, <span style=\"color: #00af00; text-decoration-color: #00af00\">128</span>, <span style=\"color: #00af00; text-decoration-color: #00af00\">128</span>,    │       <span style=\"color: #00af00; text-decoration-color: #00af00\">154,624</span> │\n",
       "│                                 │ <span style=\"color: #00af00; text-decoration-color: #00af00\">64</span>)                    │               │\n",
       "├─────────────────────────────────┼────────────────────────┼───────────────┤\n",
       "│ time_distributed                │ (<span style=\"color: #00d7ff; text-decoration-color: #00d7ff\">None</span>, <span style=\"color: #00af00; text-decoration-color: #00af00\">8</span>, <span style=\"color: #00af00; text-decoration-color: #00af00\">64</span>, <span style=\"color: #00af00; text-decoration-color: #00af00\">64</span>, <span style=\"color: #00af00; text-decoration-color: #00af00\">64</span>)  │             <span style=\"color: #00af00; text-decoration-color: #00af00\">0</span> │\n",
       "│ (<span style=\"color: #0087ff; text-decoration-color: #0087ff\">TimeDistributed</span>)               │                        │               │\n",
       "├─────────────────────────────────┼────────────────────────┼───────────────┤\n",
       "│ batch_normalization             │ (<span style=\"color: #00d7ff; text-decoration-color: #00d7ff\">None</span>, <span style=\"color: #00af00; text-decoration-color: #00af00\">8</span>, <span style=\"color: #00af00; text-decoration-color: #00af00\">64</span>, <span style=\"color: #00af00; text-decoration-color: #00af00\">64</span>, <span style=\"color: #00af00; text-decoration-color: #00af00\">64</span>)  │           <span style=\"color: #00af00; text-decoration-color: #00af00\">256</span> │\n",
       "│ (<span style=\"color: #0087ff; text-decoration-color: #0087ff\">BatchNormalization</span>)            │                        │               │\n",
       "├─────────────────────────────────┼────────────────────────┼───────────────┤\n",
       "│ conv_lstm2d_1 (<span style=\"color: #0087ff; text-decoration-color: #0087ff\">ConvLSTM2D</span>)      │ (<span style=\"color: #00d7ff; text-decoration-color: #00d7ff\">None</span>, <span style=\"color: #00af00; text-decoration-color: #00af00\">8</span>, <span style=\"color: #00af00; text-decoration-color: #00af00\">64</span>, <span style=\"color: #00af00; text-decoration-color: #00af00\">64</span>, <span style=\"color: #00af00; text-decoration-color: #00af00\">64</span>)  │       <span style=\"color: #00af00; text-decoration-color: #00af00\">295,168</span> │\n",
       "├─────────────────────────────────┼────────────────────────┼───────────────┤\n",
       "│ time_distributed_1              │ (<span style=\"color: #00d7ff; text-decoration-color: #00d7ff\">None</span>, <span style=\"color: #00af00; text-decoration-color: #00af00\">8</span>, <span style=\"color: #00af00; text-decoration-color: #00af00\">32</span>, <span style=\"color: #00af00; text-decoration-color: #00af00\">32</span>, <span style=\"color: #00af00; text-decoration-color: #00af00\">64</span>)  │             <span style=\"color: #00af00; text-decoration-color: #00af00\">0</span> │\n",
       "│ (<span style=\"color: #0087ff; text-decoration-color: #0087ff\">TimeDistributed</span>)               │                        │               │\n",
       "├─────────────────────────────────┼────────────────────────┼───────────────┤\n",
       "│ batch_normalization_1           │ (<span style=\"color: #00d7ff; text-decoration-color: #00d7ff\">None</span>, <span style=\"color: #00af00; text-decoration-color: #00af00\">8</span>, <span style=\"color: #00af00; text-decoration-color: #00af00\">32</span>, <span style=\"color: #00af00; text-decoration-color: #00af00\">32</span>, <span style=\"color: #00af00; text-decoration-color: #00af00\">64</span>)  │           <span style=\"color: #00af00; text-decoration-color: #00af00\">256</span> │\n",
       "│ (<span style=\"color: #0087ff; text-decoration-color: #0087ff\">BatchNormalization</span>)            │                        │               │\n",
       "├─────────────────────────────────┼────────────────────────┼───────────────┤\n",
       "│ conv_lstm2d_2 (<span style=\"color: #0087ff; text-decoration-color: #0087ff\">ConvLSTM2D</span>)      │ (<span style=\"color: #00d7ff; text-decoration-color: #00d7ff\">None</span>, <span style=\"color: #00af00; text-decoration-color: #00af00\">8</span>, <span style=\"color: #00af00; text-decoration-color: #00af00\">32</span>, <span style=\"color: #00af00; text-decoration-color: #00af00\">32</span>, <span style=\"color: #00af00; text-decoration-color: #00af00\">128</span>) │       <span style=\"color: #00af00; text-decoration-color: #00af00\">885,248</span> │\n",
       "├─────────────────────────────────┼────────────────────────┼───────────────┤\n",
       "│ time_distributed_2              │ (<span style=\"color: #00d7ff; text-decoration-color: #00d7ff\">None</span>, <span style=\"color: #00af00; text-decoration-color: #00af00\">8</span>, <span style=\"color: #00af00; text-decoration-color: #00af00\">16</span>, <span style=\"color: #00af00; text-decoration-color: #00af00\">16</span>, <span style=\"color: #00af00; text-decoration-color: #00af00\">128</span>) │             <span style=\"color: #00af00; text-decoration-color: #00af00\">0</span> │\n",
       "│ (<span style=\"color: #0087ff; text-decoration-color: #0087ff\">TimeDistributed</span>)               │                        │               │\n",
       "├─────────────────────────────────┼────────────────────────┼───────────────┤\n",
       "│ batch_normalization_2           │ (<span style=\"color: #00d7ff; text-decoration-color: #00d7ff\">None</span>, <span style=\"color: #00af00; text-decoration-color: #00af00\">8</span>, <span style=\"color: #00af00; text-decoration-color: #00af00\">16</span>, <span style=\"color: #00af00; text-decoration-color: #00af00\">16</span>, <span style=\"color: #00af00; text-decoration-color: #00af00\">128</span>) │           <span style=\"color: #00af00; text-decoration-color: #00af00\">512</span> │\n",
       "│ (<span style=\"color: #0087ff; text-decoration-color: #0087ff\">BatchNormalization</span>)            │                        │               │\n",
       "├─────────────────────────────────┼────────────────────────┼───────────────┤\n",
       "│ time_distributed_3              │ (<span style=\"color: #00d7ff; text-decoration-color: #00d7ff\">None</span>, <span style=\"color: #00af00; text-decoration-color: #00af00\">8</span>, <span style=\"color: #00af00; text-decoration-color: #00af00\">32768</span>)       │             <span style=\"color: #00af00; text-decoration-color: #00af00\">0</span> │\n",
       "│ (<span style=\"color: #0087ff; text-decoration-color: #0087ff\">TimeDistributed</span>)               │                        │               │\n",
       "├─────────────────────────────────┼────────────────────────┼───────────────┤\n",
       "│ time_distributed_4              │ (<span style=\"color: #00d7ff; text-decoration-color: #00d7ff\">None</span>, <span style=\"color: #00af00; text-decoration-color: #00af00\">8</span>, <span style=\"color: #00af00; text-decoration-color: #00af00\">128</span>)         │     <span style=\"color: #00af00; text-decoration-color: #00af00\">4,194,432</span> │\n",
       "│ (<span style=\"color: #0087ff; text-decoration-color: #0087ff\">TimeDistributed</span>)               │                        │               │\n",
       "├─────────────────────────────────┼────────────────────────┼───────────────┤\n",
       "│ time_distributed_5              │ (<span style=\"color: #00d7ff; text-decoration-color: #00d7ff\">None</span>, <span style=\"color: #00af00; text-decoration-color: #00af00\">8</span>, <span style=\"color: #00af00; text-decoration-color: #00af00\">4</span>)           │           <span style=\"color: #00af00; text-decoration-color: #00af00\">516</span> │\n",
       "│ (<span style=\"color: #0087ff; text-decoration-color: #0087ff\">TimeDistributed</span>)               │                        │               │\n",
       "└─────────────────────────────────┴────────────────────────┴───────────────┘\n",
       "</pre>\n"
      ],
      "text/plain": [
       "┏━━━━━━━━━━━━━━━━━━━━━━━━━━━━━━━━━┳━━━━━━━━━━━━━━━━━━━━━━━━┳━━━━━━━━━━━━━━━┓\n",
       "┃\u001b[1m \u001b[0m\u001b[1mLayer (type)                   \u001b[0m\u001b[1m \u001b[0m┃\u001b[1m \u001b[0m\u001b[1mOutput Shape          \u001b[0m\u001b[1m \u001b[0m┃\u001b[1m \u001b[0m\u001b[1m      Param #\u001b[0m\u001b[1m \u001b[0m┃\n",
       "┡━━━━━━━━━━━━━━━━━━━━━━━━━━━━━━━━━╇━━━━━━━━━━━━━━━━━━━━━━━━╇━━━━━━━━━━━━━━━┩\n",
       "│ conv_lstm2d (\u001b[38;5;33mConvLSTM2D\u001b[0m)        │ (\u001b[38;5;45mNone\u001b[0m, \u001b[38;5;34m8\u001b[0m, \u001b[38;5;34m128\u001b[0m, \u001b[38;5;34m128\u001b[0m,    │       \u001b[38;5;34m154,624\u001b[0m │\n",
       "│                                 │ \u001b[38;5;34m64\u001b[0m)                    │               │\n",
       "├─────────────────────────────────┼────────────────────────┼───────────────┤\n",
       "│ time_distributed                │ (\u001b[38;5;45mNone\u001b[0m, \u001b[38;5;34m8\u001b[0m, \u001b[38;5;34m64\u001b[0m, \u001b[38;5;34m64\u001b[0m, \u001b[38;5;34m64\u001b[0m)  │             \u001b[38;5;34m0\u001b[0m │\n",
       "│ (\u001b[38;5;33mTimeDistributed\u001b[0m)               │                        │               │\n",
       "├─────────────────────────────────┼────────────────────────┼───────────────┤\n",
       "│ batch_normalization             │ (\u001b[38;5;45mNone\u001b[0m, \u001b[38;5;34m8\u001b[0m, \u001b[38;5;34m64\u001b[0m, \u001b[38;5;34m64\u001b[0m, \u001b[38;5;34m64\u001b[0m)  │           \u001b[38;5;34m256\u001b[0m │\n",
       "│ (\u001b[38;5;33mBatchNormalization\u001b[0m)            │                        │               │\n",
       "├─────────────────────────────────┼────────────────────────┼───────────────┤\n",
       "│ conv_lstm2d_1 (\u001b[38;5;33mConvLSTM2D\u001b[0m)      │ (\u001b[38;5;45mNone\u001b[0m, \u001b[38;5;34m8\u001b[0m, \u001b[38;5;34m64\u001b[0m, \u001b[38;5;34m64\u001b[0m, \u001b[38;5;34m64\u001b[0m)  │       \u001b[38;5;34m295,168\u001b[0m │\n",
       "├─────────────────────────────────┼────────────────────────┼───────────────┤\n",
       "│ time_distributed_1              │ (\u001b[38;5;45mNone\u001b[0m, \u001b[38;5;34m8\u001b[0m, \u001b[38;5;34m32\u001b[0m, \u001b[38;5;34m32\u001b[0m, \u001b[38;5;34m64\u001b[0m)  │             \u001b[38;5;34m0\u001b[0m │\n",
       "│ (\u001b[38;5;33mTimeDistributed\u001b[0m)               │                        │               │\n",
       "├─────────────────────────────────┼────────────────────────┼───────────────┤\n",
       "│ batch_normalization_1           │ (\u001b[38;5;45mNone\u001b[0m, \u001b[38;5;34m8\u001b[0m, \u001b[38;5;34m32\u001b[0m, \u001b[38;5;34m32\u001b[0m, \u001b[38;5;34m64\u001b[0m)  │           \u001b[38;5;34m256\u001b[0m │\n",
       "│ (\u001b[38;5;33mBatchNormalization\u001b[0m)            │                        │               │\n",
       "├─────────────────────────────────┼────────────────────────┼───────────────┤\n",
       "│ conv_lstm2d_2 (\u001b[38;5;33mConvLSTM2D\u001b[0m)      │ (\u001b[38;5;45mNone\u001b[0m, \u001b[38;5;34m8\u001b[0m, \u001b[38;5;34m32\u001b[0m, \u001b[38;5;34m32\u001b[0m, \u001b[38;5;34m128\u001b[0m) │       \u001b[38;5;34m885,248\u001b[0m │\n",
       "├─────────────────────────────────┼────────────────────────┼───────────────┤\n",
       "│ time_distributed_2              │ (\u001b[38;5;45mNone\u001b[0m, \u001b[38;5;34m8\u001b[0m, \u001b[38;5;34m16\u001b[0m, \u001b[38;5;34m16\u001b[0m, \u001b[38;5;34m128\u001b[0m) │             \u001b[38;5;34m0\u001b[0m │\n",
       "│ (\u001b[38;5;33mTimeDistributed\u001b[0m)               │                        │               │\n",
       "├─────────────────────────────────┼────────────────────────┼───────────────┤\n",
       "│ batch_normalization_2           │ (\u001b[38;5;45mNone\u001b[0m, \u001b[38;5;34m8\u001b[0m, \u001b[38;5;34m16\u001b[0m, \u001b[38;5;34m16\u001b[0m, \u001b[38;5;34m128\u001b[0m) │           \u001b[38;5;34m512\u001b[0m │\n",
       "│ (\u001b[38;5;33mBatchNormalization\u001b[0m)            │                        │               │\n",
       "├─────────────────────────────────┼────────────────────────┼───────────────┤\n",
       "│ time_distributed_3              │ (\u001b[38;5;45mNone\u001b[0m, \u001b[38;5;34m8\u001b[0m, \u001b[38;5;34m32768\u001b[0m)       │             \u001b[38;5;34m0\u001b[0m │\n",
       "│ (\u001b[38;5;33mTimeDistributed\u001b[0m)               │                        │               │\n",
       "├─────────────────────────────────┼────────────────────────┼───────────────┤\n",
       "│ time_distributed_4              │ (\u001b[38;5;45mNone\u001b[0m, \u001b[38;5;34m8\u001b[0m, \u001b[38;5;34m128\u001b[0m)         │     \u001b[38;5;34m4,194,432\u001b[0m │\n",
       "│ (\u001b[38;5;33mTimeDistributed\u001b[0m)               │                        │               │\n",
       "├─────────────────────────────────┼────────────────────────┼───────────────┤\n",
       "│ time_distributed_5              │ (\u001b[38;5;45mNone\u001b[0m, \u001b[38;5;34m8\u001b[0m, \u001b[38;5;34m4\u001b[0m)           │           \u001b[38;5;34m516\u001b[0m │\n",
       "│ (\u001b[38;5;33mTimeDistributed\u001b[0m)               │                        │               │\n",
       "└─────────────────────────────────┴────────────────────────┴───────────────┘\n"
      ]
     },
     "metadata": {},
     "output_type": "display_data"
    },
    {
     "data": {
      "text/html": [
       "<pre style=\"white-space:pre;overflow-x:auto;line-height:normal;font-family:Menlo,'DejaVu Sans Mono',consolas,'Courier New',monospace\"><span style=\"font-weight: bold\"> Total params: </span><span style=\"color: #00af00; text-decoration-color: #00af00\">5,531,012</span> (21.10 MB)\n",
       "</pre>\n"
      ],
      "text/plain": [
       "\u001b[1m Total params: \u001b[0m\u001b[38;5;34m5,531,012\u001b[0m (21.10 MB)\n"
      ]
     },
     "metadata": {},
     "output_type": "display_data"
    },
    {
     "data": {
      "text/html": [
       "<pre style=\"white-space:pre;overflow-x:auto;line-height:normal;font-family:Menlo,'DejaVu Sans Mono',consolas,'Courier New',monospace\"><span style=\"font-weight: bold\"> Trainable params: </span><span style=\"color: #00af00; text-decoration-color: #00af00\">5,530,500</span> (21.10 MB)\n",
       "</pre>\n"
      ],
      "text/plain": [
       "\u001b[1m Trainable params: \u001b[0m\u001b[38;5;34m5,530,500\u001b[0m (21.10 MB)\n"
      ]
     },
     "metadata": {},
     "output_type": "display_data"
    },
    {
     "data": {
      "text/html": [
       "<pre style=\"white-space:pre;overflow-x:auto;line-height:normal;font-family:Menlo,'DejaVu Sans Mono',consolas,'Courier New',monospace\"><span style=\"font-weight: bold\"> Non-trainable params: </span><span style=\"color: #00af00; text-decoration-color: #00af00\">512</span> (2.00 KB)\n",
       "</pre>\n"
      ],
      "text/plain": [
       "\u001b[1m Non-trainable params: \u001b[0m\u001b[38;5;34m512\u001b[0m (2.00 KB)\n"
      ]
     },
     "metadata": {},
     "output_type": "display_data"
    }
   ],
   "source": [
    "model.summary()"
   ]
  },
  {
   "cell_type": "code",
   "execution_count": null,
   "id": "17ace776-ef47-4177-ba8a-74ebbd7ae68b",
   "metadata": {},
   "outputs": [],
   "source": []
  },
  {
   "cell_type": "code",
   "execution_count": null,
   "id": "8247597a-b479-4865-8ec8-46fed87d2859",
   "metadata": {},
   "outputs": [],
   "source": []
  },
  {
   "cell_type": "code",
   "execution_count": 9,
   "id": "082d01b7-eeb3-4858-9418-8ac0ece0c7f5",
   "metadata": {},
   "outputs": [
    {
     "name": "stdout",
     "output_type": "stream",
     "text": [
      "connection established\n",
      "DataGeneratorSkillBorders init done\n",
      "on_epoch_end_called\n",
      "   videoID  batches_in_video  random_order  total_batches\n",
      "0        3               187             1            187\n",
      "1        7               168             2            355\n",
      "2        1                93             3            448\n",
      "3        5               318             4            766\n",
      "4        4               261             5           1027\n",
      "5        2               180             6           1207\n",
      "6        6               112             7           1319\n",
      "connection established\n",
      "DataGeneratorSkillBorders init done\n",
      "on_epoch_end_called\n",
      "   videoID  batches_in_video  random_order  total_batches\n",
      "0        9                87             1             87\n",
      "1        8               127             2            214\n"
     ]
    }
   ],
   "source": [
    "# Parameters\n",
    "params = {'dim': (config['dim'],config['dim']),\n",
    "          'time_length': config['time_length'],\n",
    "          'n_classes': config['unique_labels'],\n",
    "          'n_channels': 3 if config['rgb'] else 1,\n",
    "          'shuffle': True,\n",
    "}\n",
    "\n",
    "training_generator = DataGeneratorSkillBorders(train=True, **params)\n",
    "test_generator = DataGeneratorSkillBorders(train=False, **params)"
   ]
  },
  {
   "cell_type": "code",
   "execution_count": 10,
   "id": "95c4a3d8-147f-4586-9e46-d4afcf9888ec",
   "metadata": {},
   "outputs": [
    {
     "data": {
      "text/html": [
       "<div>\n",
       "<style scoped>\n",
       "    .dataframe tbody tr th:only-of-type {\n",
       "        vertical-align: middle;\n",
       "    }\n",
       "\n",
       "    .dataframe tbody tr th {\n",
       "        vertical-align: top;\n",
       "    }\n",
       "\n",
       "    .dataframe thead th {\n",
       "        text-align: right;\n",
       "    }\n",
       "</style>\n",
       "<table border=\"1\" class=\"dataframe\">\n",
       "  <thead>\n",
       "    <tr style=\"text-align: right;\">\n",
       "      <th></th>\n",
       "      <th>videoID</th>\n",
       "      <th>batches_in_video</th>\n",
       "      <th>random_order</th>\n",
       "      <th>total_batches</th>\n",
       "    </tr>\n",
       "  </thead>\n",
       "  <tbody>\n",
       "    <tr>\n",
       "      <th>0</th>\n",
       "      <td>3</td>\n",
       "      <td>187</td>\n",
       "      <td>1</td>\n",
       "      <td>187</td>\n",
       "    </tr>\n",
       "    <tr>\n",
       "      <th>1</th>\n",
       "      <td>7</td>\n",
       "      <td>168</td>\n",
       "      <td>2</td>\n",
       "      <td>355</td>\n",
       "    </tr>\n",
       "    <tr>\n",
       "      <th>2</th>\n",
       "      <td>1</td>\n",
       "      <td>93</td>\n",
       "      <td>3</td>\n",
       "      <td>448</td>\n",
       "    </tr>\n",
       "    <tr>\n",
       "      <th>3</th>\n",
       "      <td>5</td>\n",
       "      <td>318</td>\n",
       "      <td>4</td>\n",
       "      <td>766</td>\n",
       "    </tr>\n",
       "    <tr>\n",
       "      <th>4</th>\n",
       "      <td>4</td>\n",
       "      <td>261</td>\n",
       "      <td>5</td>\n",
       "      <td>1027</td>\n",
       "    </tr>\n",
       "    <tr>\n",
       "      <th>5</th>\n",
       "      <td>2</td>\n",
       "      <td>180</td>\n",
       "      <td>6</td>\n",
       "      <td>1207</td>\n",
       "    </tr>\n",
       "    <tr>\n",
       "      <th>6</th>\n",
       "      <td>6</td>\n",
       "      <td>112</td>\n",
       "      <td>7</td>\n",
       "      <td>1319</td>\n",
       "    </tr>\n",
       "  </tbody>\n",
       "</table>\n",
       "</div>"
      ],
      "text/plain": [
       "   videoID  batches_in_video  random_order  total_batches\n",
       "0        3               187             1            187\n",
       "1        7               168             2            355\n",
       "2        1                93             3            448\n",
       "3        5               318             4            766\n",
       "4        4               261             5           1027\n",
       "5        2               180             6           1207\n",
       "6        6               112             7           1319"
      ]
     },
     "execution_count": 10,
     "metadata": {},
     "output_type": "execute_result"
    }
   ],
   "source": [
    "training_generator.batch_order"
   ]
  },
  {
   "cell_type": "code",
   "execution_count": null,
   "id": "22c27684-dffe-4e1e-b13b-e65c6e4dcfdf",
   "metadata": {},
   "outputs": [],
   "source": []
  },
  {
   "cell_type": "code",
   "execution_count": 11,
   "id": "b5a794b1-90ff-4c09-828c-58d3c8492e04",
   "metadata": {},
   "outputs": [
    {
     "name": "stdout",
     "output_type": "stream",
     "text": [
      " getitem, batch_nr 25 train is: True\n",
      "CPU times: user 1.19 s, sys: 69.3 ms, total: 1.26 s\n",
      "Wall time: 372 ms\n"
     ]
    }
   ],
   "source": [
    "%%time\n",
    "X, y = training_generator.__getitem__(25)"
   ]
  },
  {
   "cell_type": "code",
   "execution_count": 12,
   "id": "8b63e884-ec87-47c9-ab73-b2d8513ee890",
   "metadata": {},
   "outputs": [
    {
     "data": {
      "text/plain": [
       "(1, 8, 128, 128, 3)"
      ]
     },
     "execution_count": 12,
     "metadata": {},
     "output_type": "execute_result"
    }
   ],
   "source": [
    "X.shape"
   ]
  },
  {
   "cell_type": "code",
   "execution_count": 13,
   "id": "76ab4052-80db-4918-8c15-b10bb3199a22",
   "metadata": {},
   "outputs": [
    {
     "data": {
      "text/plain": [
       "array([[[[[0.3254902 , 0.3372549 , 0.3372549 ],\n",
       "          [0.32156863, 0.33333333, 0.33333333],\n",
       "          [0.3254902 , 0.3372549 , 0.3372549 ],\n",
       "          ...,\n",
       "          [0.28235294, 0.29411765, 0.29411765],\n",
       "          [0.28627451, 0.29803922, 0.29803922],\n",
       "          [0.29411765, 0.30588235, 0.30588235]],\n",
       "\n",
       "         [[0.32941176, 0.34117647, 0.34117647],\n",
       "          [0.31372549, 0.3254902 , 0.3254902 ],\n",
       "          [0.31372549, 0.3254902 , 0.3254902 ],\n",
       "          ...,\n",
       "          [0.29411765, 0.30588235, 0.30588235],\n",
       "          [0.29411765, 0.30588235, 0.30588235],\n",
       "          [0.29411765, 0.30588235, 0.30588235]],\n",
       "\n",
       "         [[0.33333333, 0.34509804, 0.34509804],\n",
       "          [0.32941176, 0.34117647, 0.34117647],\n",
       "          [0.31764706, 0.32941176, 0.32941176],\n",
       "          ...,\n",
       "          [0.29411765, 0.30588235, 0.30588235],\n",
       "          [0.30980392, 0.30980392, 0.30980392],\n",
       "          [0.29803922, 0.30980392, 0.30980392]],\n",
       "\n",
       "         ...,\n",
       "\n",
       "         [[0.74901961, 0.71764706, 0.67058824],\n",
       "          [0.71372549, 0.69019608, 0.65098039],\n",
       "          [0.68627451, 0.65490196, 0.61568627],\n",
       "          ...,\n",
       "          [0.04313725, 0.08235294, 0.14901961],\n",
       "          [0.04313725, 0.08627451, 0.14509804],\n",
       "          [0.03137255, 0.0745098 , 0.13333333]],\n",
       "\n",
       "         [[0.71764706, 0.69019608, 0.63137255],\n",
       "          [0.70980392, 0.67843137, 0.63137255],\n",
       "          [0.68235294, 0.65098039, 0.60392157],\n",
       "          ...,\n",
       "          [0.03529412, 0.07843137, 0.1372549 ],\n",
       "          [0.03137255, 0.0745098 , 0.13333333],\n",
       "          [0.03529412, 0.07843137, 0.1372549 ]],\n",
       "\n",
       "         [[0.68235294, 0.65490196, 0.60392157],\n",
       "          [0.66666667, 0.63529412, 0.58823529],\n",
       "          [0.65882353, 0.61568627, 0.57254902],\n",
       "          ...,\n",
       "          [0.03137255, 0.0745098 , 0.13333333],\n",
       "          [0.02745098, 0.07058824, 0.12941176],\n",
       "          [0.02745098, 0.07058824, 0.12941176]]],\n",
       "\n",
       "\n",
       "        [[[0.3254902 , 0.3372549 , 0.3372549 ],\n",
       "          [0.32156863, 0.33333333, 0.33333333],\n",
       "          [0.3254902 , 0.3372549 , 0.3372549 ],\n",
       "          ...,\n",
       "          [0.28235294, 0.29411765, 0.29411765],\n",
       "          [0.28627451, 0.29803922, 0.29803922],\n",
       "          [0.29411765, 0.30588235, 0.30588235]],\n",
       "\n",
       "         [[0.32941176, 0.34117647, 0.34117647],\n",
       "          [0.31372549, 0.3254902 , 0.3254902 ],\n",
       "          [0.31372549, 0.3254902 , 0.3254902 ],\n",
       "          ...,\n",
       "          [0.29803922, 0.30980392, 0.30980392],\n",
       "          [0.28627451, 0.29803922, 0.29803922],\n",
       "          [0.29411765, 0.30588235, 0.30588235]],\n",
       "\n",
       "         [[0.33333333, 0.34509804, 0.34509804],\n",
       "          [0.32941176, 0.34117647, 0.34117647],\n",
       "          [0.31764706, 0.32941176, 0.32941176],\n",
       "          ...,\n",
       "          [0.29411765, 0.30588235, 0.30588235],\n",
       "          [0.30588235, 0.30588235, 0.30588235],\n",
       "          [0.30196078, 0.31372549, 0.31372549]],\n",
       "\n",
       "         ...,\n",
       "\n",
       "         [[0.74901961, 0.71764706, 0.67843137],\n",
       "          [0.71372549, 0.69019608, 0.65098039],\n",
       "          [0.68627451, 0.65490196, 0.61568627],\n",
       "          ...,\n",
       "          [0.04313725, 0.08235294, 0.14901961],\n",
       "          [0.04313725, 0.08627451, 0.14509804],\n",
       "          [0.03529412, 0.07843137, 0.1372549 ]],\n",
       "\n",
       "         [[0.71764706, 0.69019608, 0.63137255],\n",
       "          [0.70980392, 0.67843137, 0.63137255],\n",
       "          [0.68235294, 0.65098039, 0.60392157],\n",
       "          ...,\n",
       "          [0.03137255, 0.0745098 , 0.13333333],\n",
       "          [0.03529412, 0.07843137, 0.1372549 ],\n",
       "          [0.03137255, 0.0745098 , 0.13333333]],\n",
       "\n",
       "         [[0.68627451, 0.65490196, 0.60784314],\n",
       "          [0.66666667, 0.63529412, 0.58823529],\n",
       "          [0.65882353, 0.61568627, 0.57254902],\n",
       "          ...,\n",
       "          [0.03921569, 0.08235294, 0.14117647],\n",
       "          [0.03137255, 0.0745098 , 0.13333333],\n",
       "          [0.03529412, 0.07843137, 0.1372549 ]]],\n",
       "\n",
       "\n",
       "        [[[0.3254902 , 0.3372549 , 0.3372549 ],\n",
       "          [0.32156863, 0.33333333, 0.33333333],\n",
       "          [0.3254902 , 0.3372549 , 0.3372549 ],\n",
       "          ...,\n",
       "          [0.27843137, 0.29019608, 0.29019608],\n",
       "          [0.28627451, 0.29803922, 0.29803922],\n",
       "          [0.29411765, 0.30588235, 0.30588235]],\n",
       "\n",
       "         [[0.3254902 , 0.3372549 , 0.3372549 ],\n",
       "          [0.31372549, 0.3254902 , 0.3254902 ],\n",
       "          [0.31372549, 0.3254902 , 0.3254902 ],\n",
       "          ...,\n",
       "          [0.29411765, 0.30588235, 0.30588235],\n",
       "          [0.28627451, 0.29803922, 0.29803922],\n",
       "          [0.29019608, 0.30196078, 0.30196078]],\n",
       "\n",
       "         [[0.33333333, 0.34509804, 0.34509804],\n",
       "          [0.32941176, 0.34117647, 0.34117647],\n",
       "          [0.31764706, 0.32941176, 0.32941176],\n",
       "          ...,\n",
       "          [0.29803922, 0.30980392, 0.30980392],\n",
       "          [0.30588235, 0.30588235, 0.30588235],\n",
       "          [0.29803922, 0.30980392, 0.30980392]],\n",
       "\n",
       "         ...,\n",
       "\n",
       "         [[0.74901961, 0.71764706, 0.67843137],\n",
       "          [0.70980392, 0.68627451, 0.64705882],\n",
       "          [0.68627451, 0.65490196, 0.61568627],\n",
       "          ...,\n",
       "          [0.04313725, 0.08235294, 0.14901961],\n",
       "          [0.03137255, 0.0745098 , 0.13333333],\n",
       "          [0.03529412, 0.07843137, 0.1372549 ]],\n",
       "\n",
       "         [[0.71764706, 0.69019608, 0.63137255],\n",
       "          [0.70588235, 0.6745098 , 0.62745098],\n",
       "          [0.68235294, 0.65098039, 0.60392157],\n",
       "          ...,\n",
       "          [0.03529412, 0.07843137, 0.1372549 ],\n",
       "          [0.03137255, 0.0745098 , 0.13333333],\n",
       "          [0.02745098, 0.07058824, 0.12941176]],\n",
       "\n",
       "         [[0.68627451, 0.65490196, 0.60784314],\n",
       "          [0.66666667, 0.63529412, 0.58823529],\n",
       "          [0.65882353, 0.61568627, 0.57254902],\n",
       "          ...,\n",
       "          [0.03529412, 0.07843137, 0.1372549 ],\n",
       "          [0.03529412, 0.07843137, 0.1372549 ],\n",
       "          [0.03529412, 0.0745098 , 0.14117647]]],\n",
       "\n",
       "\n",
       "        ...,\n",
       "\n",
       "\n",
       "        [[[0.31764706, 0.32941176, 0.32941176],\n",
       "          [0.31372549, 0.3254902 , 0.3254902 ],\n",
       "          [0.31372549, 0.3254902 , 0.3254902 ],\n",
       "          ...,\n",
       "          [0.29019608, 0.29019608, 0.29019608],\n",
       "          [0.27843137, 0.29019608, 0.29019608],\n",
       "          [0.28235294, 0.29411765, 0.29411765]],\n",
       "\n",
       "         [[0.31372549, 0.3254902 , 0.3254902 ],\n",
       "          [0.31372549, 0.3254902 , 0.3254902 ],\n",
       "          [0.30980392, 0.32156863, 0.32156863],\n",
       "          ...,\n",
       "          [0.28235294, 0.29411765, 0.29411765],\n",
       "          [0.28235294, 0.29411765, 0.29411765],\n",
       "          [0.28235294, 0.29411765, 0.29411765]],\n",
       "\n",
       "         [[0.32941176, 0.34117647, 0.34117647],\n",
       "          [0.32156863, 0.33333333, 0.33333333],\n",
       "          [0.3254902 , 0.3372549 , 0.3372549 ],\n",
       "          ...,\n",
       "          [0.30588235, 0.30588235, 0.30588235],\n",
       "          [0.29803922, 0.29803922, 0.29803922],\n",
       "          [0.29411765, 0.30588235, 0.30588235]],\n",
       "\n",
       "         ...,\n",
       "\n",
       "         [[0.7372549 , 0.70588235, 0.66666667],\n",
       "          [0.71372549, 0.69019608, 0.65098039],\n",
       "          [0.68627451, 0.65490196, 0.61568627],\n",
       "          ...,\n",
       "          [0.03921569, 0.08235294, 0.14117647],\n",
       "          [0.03921569, 0.08235294, 0.14117647],\n",
       "          [0.03137255, 0.0745098 , 0.13333333]],\n",
       "\n",
       "         [[0.71372549, 0.68235294, 0.63529412],\n",
       "          [0.69803922, 0.65490196, 0.61176471],\n",
       "          [0.6745098 , 0.64313725, 0.59607843],\n",
       "          ...,\n",
       "          [0.03137255, 0.0745098 , 0.13333333],\n",
       "          [0.03921569, 0.0745098 , 0.13333333],\n",
       "          [0.03529412, 0.07058824, 0.12941176]],\n",
       "\n",
       "         [[0.67843137, 0.64705882, 0.6       ],\n",
       "          [0.66666667, 0.62352941, 0.58039216],\n",
       "          [0.65098039, 0.60784314, 0.56470588],\n",
       "          ...,\n",
       "          [0.03137255, 0.0745098 , 0.13333333],\n",
       "          [0.03137255, 0.0745098 , 0.13333333],\n",
       "          [0.03137255, 0.0745098 , 0.13333333]]],\n",
       "\n",
       "\n",
       "        [[[0.31764706, 0.32941176, 0.32941176],\n",
       "          [0.31372549, 0.3254902 , 0.3254902 ],\n",
       "          [0.31372549, 0.3254902 , 0.3254902 ],\n",
       "          ...,\n",
       "          [0.29411765, 0.29411765, 0.29411765],\n",
       "          [0.2745098 , 0.28627451, 0.28627451],\n",
       "          [0.28235294, 0.29411765, 0.29411765]],\n",
       "\n",
       "         [[0.31372549, 0.3254902 , 0.3254902 ],\n",
       "          [0.31372549, 0.3254902 , 0.3254902 ],\n",
       "          [0.30980392, 0.32156863, 0.32156863],\n",
       "          ...,\n",
       "          [0.28235294, 0.29411765, 0.29411765],\n",
       "          [0.28627451, 0.29803922, 0.29803922],\n",
       "          [0.28627451, 0.29803922, 0.29803922]],\n",
       "\n",
       "         [[0.3254902 , 0.3372549 , 0.3372549 ],\n",
       "          [0.32156863, 0.33333333, 0.33333333],\n",
       "          [0.3254902 , 0.3372549 , 0.3372549 ],\n",
       "          ...,\n",
       "          [0.30588235, 0.30588235, 0.30588235],\n",
       "          [0.29803922, 0.29803922, 0.29803922],\n",
       "          [0.29411765, 0.30588235, 0.30588235]],\n",
       "\n",
       "         ...,\n",
       "\n",
       "         [[0.74117647, 0.70980392, 0.67058824],\n",
       "          [0.71764706, 0.68627451, 0.64705882],\n",
       "          [0.68627451, 0.65490196, 0.61568627],\n",
       "          ...,\n",
       "          [0.03921569, 0.08235294, 0.14117647],\n",
       "          [0.03921569, 0.08235294, 0.14117647],\n",
       "          [0.03137255, 0.0745098 , 0.13333333]],\n",
       "\n",
       "         [[0.71372549, 0.68235294, 0.63529412],\n",
       "          [0.69803922, 0.65490196, 0.61176471],\n",
       "          [0.67843137, 0.64705882, 0.6       ],\n",
       "          ...,\n",
       "          [0.03137255, 0.0745098 , 0.13333333],\n",
       "          [0.03921569, 0.0745098 , 0.13333333],\n",
       "          [0.03529412, 0.07058824, 0.12941176]],\n",
       "\n",
       "         [[0.68235294, 0.64313725, 0.6       ],\n",
       "          [0.66666667, 0.62352941, 0.58039216],\n",
       "          [0.64705882, 0.60392157, 0.56078431],\n",
       "          ...,\n",
       "          [0.03529412, 0.07843137, 0.1372549 ],\n",
       "          [0.03137255, 0.0745098 , 0.13333333],\n",
       "          [0.03137255, 0.0745098 , 0.13333333]]],\n",
       "\n",
       "\n",
       "        [[[0.32156863, 0.33333333, 0.33333333],\n",
       "          [0.32156863, 0.33333333, 0.33333333],\n",
       "          [0.32156863, 0.33333333, 0.33333333],\n",
       "          ...,\n",
       "          [0.29411765, 0.29411765, 0.29411765],\n",
       "          [0.2745098 , 0.28627451, 0.28627451],\n",
       "          [0.28235294, 0.29411765, 0.29411765]],\n",
       "\n",
       "         [[0.31372549, 0.3254902 , 0.3254902 ],\n",
       "          [0.31372549, 0.3254902 , 0.3254902 ],\n",
       "          [0.30588235, 0.31764706, 0.31764706],\n",
       "          ...,\n",
       "          [0.28235294, 0.29411765, 0.29411765],\n",
       "          [0.28627451, 0.29803922, 0.29803922],\n",
       "          [0.28627451, 0.29803922, 0.29803922]],\n",
       "\n",
       "         [[0.32941176, 0.34117647, 0.34117647],\n",
       "          [0.3254902 , 0.3372549 , 0.3372549 ],\n",
       "          [0.32941176, 0.34117647, 0.34117647],\n",
       "          ...,\n",
       "          [0.30588235, 0.30588235, 0.30588235],\n",
       "          [0.29803922, 0.29803922, 0.29803922],\n",
       "          [0.29411765, 0.30588235, 0.30588235]],\n",
       "\n",
       "         ...,\n",
       "\n",
       "         [[0.74117647, 0.70980392, 0.67058824],\n",
       "          [0.71764706, 0.68627451, 0.64705882],\n",
       "          [0.68627451, 0.65490196, 0.61568627],\n",
       "          ...,\n",
       "          [0.03921569, 0.08235294, 0.14117647],\n",
       "          [0.03921569, 0.08235294, 0.14117647],\n",
       "          [0.03137255, 0.0745098 , 0.13333333]],\n",
       "\n",
       "         [[0.71372549, 0.68235294, 0.63529412],\n",
       "          [0.69411765, 0.65098039, 0.60784314],\n",
       "          [0.67843137, 0.64705882, 0.6       ],\n",
       "          ...,\n",
       "          [0.03137255, 0.0745098 , 0.13333333],\n",
       "          [0.03921569, 0.0745098 , 0.13333333],\n",
       "          [0.03529412, 0.07058824, 0.12941176]],\n",
       "\n",
       "         [[0.68235294, 0.65098039, 0.60392157],\n",
       "          [0.6627451 , 0.63137255, 0.58431373],\n",
       "          [0.65098039, 0.60784314, 0.56470588],\n",
       "          ...,\n",
       "          [0.03529412, 0.07843137, 0.1372549 ],\n",
       "          [0.03137255, 0.0745098 , 0.13333333],\n",
       "          [0.03137255, 0.0745098 , 0.13333333]]]]])"
      ]
     },
     "execution_count": 13,
     "metadata": {},
     "output_type": "execute_result"
    }
   ],
   "source": [
    "X"
   ]
  },
  {
   "cell_type": "code",
   "execution_count": 14,
   "id": "0f683c31-77e9-471f-b857-4bb15857b735",
   "metadata": {},
   "outputs": [
    {
     "data": {
      "text/plain": [
       "(1, 8, 1)"
      ]
     },
     "execution_count": 14,
     "metadata": {},
     "output_type": "execute_result"
    }
   ],
   "source": [
    "y.shape"
   ]
  },
  {
   "cell_type": "code",
   "execution_count": 15,
   "id": "09ceb346-6346-4258-9035-c209a0f9b898",
   "metadata": {},
   "outputs": [
    {
     "data": {
      "text/plain": [
       "array([[[2],\n",
       "        [2],\n",
       "        [2],\n",
       "        [2],\n",
       "        [2],\n",
       "        [2],\n",
       "        [3],\n",
       "        [3]]])"
      ]
     },
     "execution_count": 15,
     "metadata": {},
     "output_type": "execute_result"
    }
   ],
   "source": [
    "y"
   ]
  },
  {
   "cell_type": "code",
   "execution_count": 16,
   "id": "1ba2c862-5576-4999-a5a3-f20623910ef7",
   "metadata": {},
   "outputs": [
    {
     "data": {
      "text/plain": [
       "(1, 8, 1)"
      ]
     },
     "execution_count": 16,
     "metadata": {},
     "output_type": "execute_result"
    }
   ],
   "source": [
    "y.shape\n"
   ]
  },
  {
   "cell_type": "code",
   "execution_count": null,
   "id": "e8e48c69-83b9-460f-9cba-b809b33d3d3c",
   "metadata": {},
   "outputs": [
    {
     "name": "stdout",
     "output_type": "stream",
     "text": [
      "len called len is: 1319\n",
      "len called len is: 1319\n",
      " getitem, batch_nr 0 train is: True\n",
      "fill_time_length_dimension_called\n",
      " getitem, batch_nr 1 train is: True\n",
      "Epoch 1/2\n",
      "len called len is: 1319\n",
      "len called len is: 1319\n",
      " getitem, batch_nr 0 train is: True\n",
      "fill_time_length_dimension_called\n",
      " getitem, batch_nr 1 train is: True\n",
      "\u001b[1m   1/1319\u001b[0m \u001b[37m━━━━━━━━━━━━━━━━━━━━\u001b[0m \u001b[1m2:50:40\u001b[0m 8s/step - accuracy: 1.0000 - loss: 3.5763e-07 getitem, batch_nr 2 train is: True\n",
      "\u001b[1m   2/1319\u001b[0m \u001b[37m━━━━━━━━━━━━━━━━━━━━\u001b[0m \u001b[1m32:07\u001b[0m 1s/step - accuracy: 1.0000 - loss: 3.5763e-07   getitem, batch_nr 3 train is: True\n",
      "\u001b[1m   3/1319\u001b[0m \u001b[37m━━━━━━━━━━━━━━━━━━━━\u001b[0m \u001b[1m32:14\u001b[0m 1s/step - accuracy: 1.0000 - loss: 3.5763e-07 getitem, batch_nr 4 train is: True\n",
      "\u001b[1m   4/1319\u001b[0m \u001b[37m━━━━━━━━━━━━━━━━━━━━\u001b[0m \u001b[1m32:25\u001b[0m 1s/step - accuracy: 1.0000 - loss: 3.5763e-07 getitem, batch_nr 5 train is: True\n"
     ]
    }
   ],
   "source": [
    "model.compile(optimizer='adam',\n",
    "              loss=tf.keras.losses.SparseCategoricalCrossentropy(),\n",
    "              metrics=['accuracy'])\n",
    "\n",
    "history = model.fit(training_generator, epochs=2, \n",
    "                    validation_data=test_generator, shuffle=False)"
   ]
  },
  {
   "cell_type": "code",
   "execution_count": null,
   "id": "5b03e31c-ac8b-40fd-8699-b89181898d8a",
   "metadata": {},
   "outputs": [],
   "source": []
  },
  {
   "cell_type": "code",
   "execution_count": null,
   "id": "5ed6bf2c-67fc-4771-adac-b7417ef9a408",
   "metadata": {},
   "outputs": [],
   "source": [
    "pd.DataFrame(history.history)"
   ]
  },
  {
   "cell_type": "code",
   "execution_count": null,
   "id": "4d245812-bff8-4a35-a716-34652fa466c0",
   "metadata": {},
   "outputs": [],
   "source": [
    "model.fit?"
   ]
  },
  {
   "cell_type": "code",
   "execution_count": null,
   "id": "d0ddc2ea-006d-4501-a865-8cb56fc42deb",
   "metadata": {},
   "outputs": [],
   "source": [
    "with open('../models/frames_skillborder_convLSTM_model_history.pkl', 'wb') as handle:\n",
    "    pickle.dump(history, handle)"
   ]
  },
  {
   "cell_type": "code",
   "execution_count": null,
   "id": "974c2c39-50de-43df-a00f-5a445c0b5dfd",
   "metadata": {},
   "outputs": [],
   "source": []
  },
  {
   "cell_type": "code",
   "execution_count": null,
   "id": "eb492dab-1b49-42e4-a133-83e2842292b9",
   "metadata": {},
   "outputs": [],
   "source": []
  },
  {
   "cell_type": "code",
   "execution_count": null,
   "id": "f9b31e26-f5fb-4ad4-aabd-fdbf27d415ef",
   "metadata": {},
   "outputs": [],
   "source": []
  },
  {
   "cell_type": "code",
   "execution_count": null,
   "id": "f5c77033-2026-4cdf-8ffd-d92bf3561a4d",
   "metadata": {},
   "outputs": [],
   "source": []
  }
 ],
 "metadata": {
  "kernelspec": {
   "display_name": "Python 3 (ipykernel)",
   "language": "python",
   "name": "python3"
  },
  "language_info": {
   "codemirror_mode": {
    "name": "ipython",
    "version": 3
   },
   "file_extension": ".py",
   "mimetype": "text/x-python",
   "name": "python",
   "nbconvert_exporter": "python",
   "pygments_lexer": "ipython3",
   "version": "3.10.12"
  }
 },
 "nbformat": 4,
 "nbformat_minor": 5
}
