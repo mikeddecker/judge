{
 "cells": [
  {
   "cell_type": "code",
   "execution_count": 1,
   "id": "d46cd2f2-ccd7-4a7e-8725-cab1b9b4c4d2",
   "metadata": {},
   "outputs": [],
   "source": [
    "# keras CNN predict air, between, ground or not jumping"
   ]
  },
  {
   "cell_type": "code",
   "execution_count": 2,
   "id": "866d8eb0-81e5-493a-aac8-c56f0b4aeea5",
   "metadata": {},
   "outputs": [
    {
     "name": "stdout",
     "output_type": "stream",
     "text": [
      "Defaulting to user installation because normal site-packages is not writeable\n",
      "Requirement already satisfied: tensorflow in /home/miked/.local/lib/python3.10/site-packages (2.16.1)\n",
      "Requirement already satisfied: opt-einsum>=2.3.2 in /home/miked/.local/lib/python3.10/site-packages (from tensorflow) (3.3.0)\n",
      "Requirement already satisfied: numpy<2.0.0,>=1.23.5 in /home/miked/.local/lib/python3.10/site-packages (from tensorflow) (1.26.4)\n",
      "Requirement already satisfied: six>=1.12.0 in /usr/lib/python3/dist-packages (from tensorflow) (1.16.0)\n",
      "Requirement already satisfied: absl-py>=1.0.0 in /home/miked/.local/lib/python3.10/site-packages (from tensorflow) (2.1.0)\n",
      "Requirement already satisfied: typing-extensions>=3.6.6 in /home/miked/.local/lib/python3.10/site-packages (from tensorflow) (4.9.0)\n",
      "Requirement already satisfied: tensorflow-io-gcs-filesystem>=0.23.1 in /home/miked/.local/lib/python3.10/site-packages (from tensorflow) (0.37.0)\n",
      "Requirement already satisfied: ml-dtypes~=0.3.1 in /home/miked/.local/lib/python3.10/site-packages (from tensorflow) (0.3.2)\n",
      "Requirement already satisfied: packaging in /home/miked/.local/lib/python3.10/site-packages (from tensorflow) (23.2)\n",
      "Requirement already satisfied: wrapt>=1.11.0 in /home/miked/.local/lib/python3.10/site-packages (from tensorflow) (1.16.0)\n",
      "Requirement already satisfied: gast!=0.5.0,!=0.5.1,!=0.5.2,>=0.2.1 in /home/miked/.local/lib/python3.10/site-packages (from tensorflow) (0.5.4)\n",
      "Requirement already satisfied: tensorboard<2.17,>=2.16 in /home/miked/.local/lib/python3.10/site-packages (from tensorflow) (2.16.2)\n",
      "Requirement already satisfied: protobuf!=4.21.0,!=4.21.1,!=4.21.2,!=4.21.3,!=4.21.4,!=4.21.5,<5.0.0dev,>=3.20.3 in /home/miked/.local/lib/python3.10/site-packages (from tensorflow) (4.25.3)\n",
      "Requirement already satisfied: grpcio<2.0,>=1.24.3 in /home/miked/.local/lib/python3.10/site-packages (from tensorflow) (1.64.1)\n",
      "Requirement already satisfied: h5py>=3.10.0 in /home/miked/.local/lib/python3.10/site-packages (from tensorflow) (3.11.0)\n",
      "Requirement already satisfied: libclang>=13.0.0 in /home/miked/.local/lib/python3.10/site-packages (from tensorflow) (18.1.1)\n",
      "Requirement already satisfied: requests<3,>=2.21.0 in /home/miked/.local/lib/python3.10/site-packages (from tensorflow) (2.31.0)\n",
      "Requirement already satisfied: flatbuffers>=23.5.26 in /home/miked/.local/lib/python3.10/site-packages (from tensorflow) (24.3.25)\n",
      "Requirement already satisfied: keras>=3.0.0 in /home/miked/.local/lib/python3.10/site-packages (from tensorflow) (3.3.3)\n",
      "Requirement already satisfied: setuptools in /home/miked/.local/lib/python3.10/site-packages (from tensorflow) (70.0.0)\n",
      "Requirement already satisfied: termcolor>=1.1.0 in /home/miked/.local/lib/python3.10/site-packages (from tensorflow) (2.4.0)\n",
      "Requirement already satisfied: astunparse>=1.6.0 in /home/miked/.local/lib/python3.10/site-packages (from tensorflow) (1.6.3)\n",
      "Requirement already satisfied: google-pasta>=0.1.1 in /home/miked/.local/lib/python3.10/site-packages (from tensorflow) (0.2.0)\n",
      "Requirement already satisfied: wheel<1.0,>=0.23.0 in /usr/lib/python3/dist-packages (from astunparse>=1.6.0->tensorflow) (0.37.1)\n",
      "Requirement already satisfied: rich in /home/miked/.local/lib/python3.10/site-packages (from keras>=3.0.0->tensorflow) (13.7.1)\n",
      "Requirement already satisfied: namex in /home/miked/.local/lib/python3.10/site-packages (from keras>=3.0.0->tensorflow) (0.0.8)\n",
      "Requirement already satisfied: optree in /home/miked/.local/lib/python3.10/site-packages (from keras>=3.0.0->tensorflow) (0.11.0)\n",
      "Requirement already satisfied: charset-normalizer<4,>=2 in /home/miked/.local/lib/python3.10/site-packages (from requests<3,>=2.21.0->tensorflow) (3.3.2)\n",
      "Requirement already satisfied: urllib3<3,>=1.21.1 in /usr/lib/python3/dist-packages (from requests<3,>=2.21.0->tensorflow) (1.26.5)\n",
      "Requirement already satisfied: certifi>=2017.4.17 in /usr/lib/python3/dist-packages (from requests<3,>=2.21.0->tensorflow) (2020.6.20)\n",
      "Requirement already satisfied: idna<4,>=2.5 in /usr/lib/python3/dist-packages (from requests<3,>=2.21.0->tensorflow) (3.3)\n",
      "Requirement already satisfied: markdown>=2.6.8 in /home/miked/.local/lib/python3.10/site-packages (from tensorboard<2.17,>=2.16->tensorflow) (3.6)\n",
      "Requirement already satisfied: werkzeug>=1.0.1 in /home/miked/.local/lib/python3.10/site-packages (from tensorboard<2.17,>=2.16->tensorflow) (3.0.3)\n",
      "Requirement already satisfied: tensorboard-data-server<0.8.0,>=0.7.0 in /home/miked/.local/lib/python3.10/site-packages (from tensorboard<2.17,>=2.16->tensorflow) (0.7.2)\n",
      "Requirement already satisfied: MarkupSafe>=2.1.1 in /home/miked/.local/lib/python3.10/site-packages (from werkzeug>=1.0.1->tensorboard<2.17,>=2.16->tensorflow) (2.1.5)\n",
      "Requirement already satisfied: markdown-it-py>=2.2.0 in /home/miked/.local/lib/python3.10/site-packages (from rich->keras>=3.0.0->tensorflow) (3.0.0)\n",
      "Requirement already satisfied: pygments<3.0.0,>=2.13.0 in /home/miked/.local/lib/python3.10/site-packages (from rich->keras>=3.0.0->tensorflow) (2.17.2)\n",
      "Requirement already satisfied: mdurl~=0.1 in /home/miked/.local/lib/python3.10/site-packages (from markdown-it-py>=2.2.0->rich->keras>=3.0.0->tensorflow) (0.1.2)\n"
     ]
    }
   ],
   "source": [
    "!pip3 install tensorflow"
   ]
  },
  {
   "cell_type": "code",
   "execution_count": 3,
   "id": "ec73ef6e-5e7e-4e46-be92-312f781394ec",
   "metadata": {},
   "outputs": [
    {
     "name": "stderr",
     "output_type": "stream",
     "text": [
      "2024-06-23 18:35:36.744291: I tensorflow/core/util/port.cc:113] oneDNN custom operations are on. You may see slightly different numerical results due to floating-point round-off errors from different computation orders. To turn them off, set the environment variable `TF_ENABLE_ONEDNN_OPTS=0`.\n",
      "2024-06-23 18:35:36.788579: I tensorflow/core/platform/cpu_feature_guard.cc:210] This TensorFlow binary is optimized to use available CPU instructions in performance-critical operations.\n",
      "To enable the following instructions: AVX2 AVX512F AVX512_VNNI FMA, in other operations, rebuild TensorFlow with the appropriate compiler flags.\n",
      "2024-06-23 18:35:37.514744: W tensorflow/compiler/tf2tensorrt/utils/py_utils.cc:38] TF-TRT Warning: Could not find TensorRT\n"
     ]
    }
   ],
   "source": [
    "import tensorflow as tf\n",
    "\n",
    "from tensorflow.keras import datasets, layers, models\n",
    "from keras.optimizers import Adam\n",
    "import numpy as np\n",
    "import pandas as pd\n",
    "import matplotlib.pyplot as plt\n",
    "import cv2\n",
    "import os\n",
    "import pickle\n",
    "from utils_misc import pickle_load_or_create"
   ]
  },
  {
   "cell_type": "code",
   "execution_count": 4,
   "id": "62270fb6-0959-4b25-b796-16742c062b21",
   "metadata": {},
   "outputs": [
    {
     "name": "stdout",
     "output_type": "stream",
     "text": [
      "Defaulting to user installation because normal site-packages is not writeable\n",
      "Requirement already satisfied: opencv-python in /home/miked/.local/lib/python3.10/site-packages (4.9.0.80)\n",
      "Requirement already satisfied: pandas in /home/miked/.local/lib/python3.10/site-packages (2.2.0)\n",
      "Requirement already satisfied: numpy>=1.17.3 in /home/miked/.local/lib/python3.10/site-packages (from opencv-python) (1.26.4)\n",
      "Requirement already satisfied: python-dateutil>=2.8.2 in /home/miked/.local/lib/python3.10/site-packages (from pandas) (2.8.2)\n",
      "Requirement already satisfied: pytz>=2020.1 in /usr/lib/python3/dist-packages (from pandas) (2022.1)\n",
      "Requirement already satisfied: tzdata>=2022.7 in /home/miked/.local/lib/python3.10/site-packages (from pandas) (2024.1)\n",
      "Requirement already satisfied: six>=1.5 in /usr/lib/python3/dist-packages (from python-dateutil>=2.8.2->pandas) (1.16.0)\n",
      "Defaulting to user installation because normal site-packages is not writeable\n",
      "Requirement already satisfied: sqlalchemy in /home/miked/.local/lib/python3.10/site-packages (2.0.29)\n",
      "Requirement already satisfied: PyMySQL in /home/miked/.local/lib/python3.10/site-packages (1.1.1)\n",
      "Requirement already satisfied: greenlet!=0.4.17 in /home/miked/.local/lib/python3.10/site-packages (from sqlalchemy) (3.0.3)\n",
      "Requirement already satisfied: typing-extensions>=4.6.0 in /home/miked/.local/lib/python3.10/site-packages (from sqlalchemy) (4.9.0)\n"
     ]
    }
   ],
   "source": [
    "from DataGeneratorBordersDB import DataGeneratorSkillBorders"
   ]
  },
  {
   "cell_type": "code",
   "execution_count": 5,
   "id": "1a6d6673-97aa-4ce5-96e8-99ac3c381e5d",
   "metadata": {},
   "outputs": [],
   "source": [
    "video_border_labels_path = 'df_video_border_labels_seq'\n",
    "video_folder = '../videos/'\n",
    "\n",
    "video_names = [\n",
    "    '20240201_atelier_001.mp4',\n",
    "    '20240201_atelier_002.mp4',\n",
    "    '20240201_atelier_003.mp4',\n",
    "    '20240201_atelier_004.mp4',\n",
    "    '20240201_atelier_005.mp4',\n",
    "    '20240209_atelier_006.mp4',\n",
    "    '20240209_atelier_007.mp4',\n",
    "    '20240209_atelier_008.mp4',\n",
    "]\n",
    "\n",
    "train_videos = [ video_folder + trainvid for trainvid in video_names]"
   ]
  },
  {
   "cell_type": "code",
   "execution_count": 6,
   "id": "81b6daf1-ef2e-43c1-95d8-2a960b07955a",
   "metadata": {},
   "outputs": [
    {
     "data": {
      "text/html": [
       "<div>\n",
       "<style scoped>\n",
       "    .dataframe tbody tr th:only-of-type {\n",
       "        vertical-align: middle;\n",
       "    }\n",
       "\n",
       "    .dataframe tbody tr th {\n",
       "        vertical-align: top;\n",
       "    }\n",
       "\n",
       "    .dataframe thead th {\n",
       "        text-align: right;\n",
       "    }\n",
       "</style>\n",
       "<table border=\"1\" class=\"dataframe\">\n",
       "  <thead>\n",
       "    <tr style=\"text-align: right;\">\n",
       "      <th></th>\n",
       "      <th>path</th>\n",
       "      <th>frame</th>\n",
       "      <th>border</th>\n",
       "    </tr>\n",
       "  </thead>\n",
       "  <tbody>\n",
       "    <tr>\n",
       "      <th>0</th>\n",
       "      <td>20240201_atelier_001.mp4</td>\n",
       "      <td>0</td>\n",
       "      <td>9</td>\n",
       "    </tr>\n",
       "    <tr>\n",
       "      <th>1</th>\n",
       "      <td>20240201_atelier_001.mp4</td>\n",
       "      <td>1</td>\n",
       "      <td>9</td>\n",
       "    </tr>\n",
       "    <tr>\n",
       "      <th>2</th>\n",
       "      <td>20240201_atelier_001.mp4</td>\n",
       "      <td>2</td>\n",
       "      <td>9</td>\n",
       "    </tr>\n",
       "    <tr>\n",
       "      <th>3</th>\n",
       "      <td>20240201_atelier_001.mp4</td>\n",
       "      <td>3</td>\n",
       "      <td>9</td>\n",
       "    </tr>\n",
       "    <tr>\n",
       "      <th>4</th>\n",
       "      <td>20240201_atelier_001.mp4</td>\n",
       "      <td>4</td>\n",
       "      <td>9</td>\n",
       "    </tr>\n",
       "    <tr>\n",
       "      <th>...</th>\n",
       "      <td>...</td>\n",
       "      <td>...</td>\n",
       "      <td>...</td>\n",
       "    </tr>\n",
       "    <tr>\n",
       "      <th>2755</th>\n",
       "      <td>20240201_atelier_003.mp4</td>\n",
       "      <td>439</td>\n",
       "      <td>0</td>\n",
       "    </tr>\n",
       "    <tr>\n",
       "      <th>2756</th>\n",
       "      <td>20240201_atelier_003.mp4</td>\n",
       "      <td>440</td>\n",
       "      <td>1</td>\n",
       "    </tr>\n",
       "    <tr>\n",
       "      <th>2757</th>\n",
       "      <td>20240201_atelier_003.mp4</td>\n",
       "      <td>441</td>\n",
       "      <td>2</td>\n",
       "    </tr>\n",
       "    <tr>\n",
       "      <th>2758</th>\n",
       "      <td>20240201_atelier_003.mp4</td>\n",
       "      <td>442</td>\n",
       "      <td>2</td>\n",
       "    </tr>\n",
       "    <tr>\n",
       "      <th>2759</th>\n",
       "      <td>20240201_atelier_003.mp4</td>\n",
       "      <td>443</td>\n",
       "      <td>2</td>\n",
       "    </tr>\n",
       "  </tbody>\n",
       "</table>\n",
       "<p>2744 rows × 3 columns</p>\n",
       "</div>"
      ],
      "text/plain": [
       "                          path  frame  border\n",
       "0     20240201_atelier_001.mp4      0       9\n",
       "1     20240201_atelier_001.mp4      1       9\n",
       "2     20240201_atelier_001.mp4      2       9\n",
       "3     20240201_atelier_001.mp4      3       9\n",
       "4     20240201_atelier_001.mp4      4       9\n",
       "...                        ...    ...     ...\n",
       "2755  20240201_atelier_003.mp4    439       0\n",
       "2756  20240201_atelier_003.mp4    440       1\n",
       "2757  20240201_atelier_003.mp4    441       2\n",
       "2758  20240201_atelier_003.mp4    442       2\n",
       "2759  20240201_atelier_003.mp4    443       2\n",
       "\n",
       "[2744 rows x 3 columns]"
      ]
     },
     "execution_count": 6,
     "metadata": {},
     "output_type": "execute_result"
    }
   ],
   "source": [
    "config = pickle_load_or_create('convLSTM_20_3x3_rgb', lambda:{\n",
    "    'convolution': (3,3),\n",
    "    'time_length':16,\n",
    "    'dim':64,\n",
    "    'rgb':True\n",
    "}, config=True)\n",
    "df_labels = pickle_load_or_create(video_border_labels_path, lambda: [], config=False)\n",
    "df_labels"
   ]
  },
  {
   "cell_type": "code",
   "execution_count": 7,
   "id": "0b8a2b2e-107a-4a68-b41c-6487480f38a9",
   "metadata": {},
   "outputs": [],
   "source": [
    "df_labels.loc[df_labels.border == 5, 'border'] = 3\n",
    "df_labels.loc[df_labels.border == 9, 'border'] = 4"
   ]
  },
  {
   "cell_type": "code",
   "execution_count": 8,
   "id": "518bced6-0e6d-4e21-85ac-7cb83f28532a",
   "metadata": {},
   "outputs": [],
   "source": [
    "def get_random_frame(videos, grey=True, scale=1):\n",
    "    \"\"\"\n",
    "    videos: array of video_paths\n",
    "    df_video_border_labels: panda dataframe ['path', 'frame', 'borderlabel']\n",
    "          0 : ground\n",
    "          1 : heels of ground\n",
    "          2 : air\n",
    "          3 : Fault\n",
    "          4 : no skipper or not jumping\n",
    "    \"\"\"\n",
    "    path = videos[np.random.randint(0, len(videos)-1)]\n",
    "    \n",
    "    cap = cv2.VideoCapture(path)\n",
    "    video_length = int(cap.get(cv2.CAP_PROP_FRAME_COUNT))\n",
    "    \n",
    "    frame_nr = np.random.randint(0, video_length-1)\n",
    "    \n",
    "    cap.set(cv2.CAP_PROP_POS_FRAMES, frame_nr)\n",
    "    res, frame = cap.read()\n",
    "    frame = cv2.resize(frame, dsize=(0,0), fx=scale, fy=scale)\n",
    "    # frame = cv2.cvtColor(frame, 7)\n",
    "    cap.release()\n",
    "    # cv2.destroyAllWindows()\n",
    "\n",
    "    return path, frame_nr, frame"
   ]
  },
  {
   "cell_type": "code",
   "execution_count": 9,
   "id": "12b5e3ae-e648-4c43-8a64-39616515f17d",
   "metadata": {},
   "outputs": [
    {
     "data": {
      "text/plain": [
       "array([4, 0, 1, 2, 8])"
      ]
     },
     "execution_count": 9,
     "metadata": {},
     "output_type": "execute_result"
    }
   ],
   "source": [
    "unique_labels = df_labels['border'].unique()\n",
    "unique_labels"
   ]
  },
  {
   "cell_type": "code",
   "execution_count": 10,
   "id": "ab5f5ad6-b1e3-47f7-96c1-805a5fc28362",
   "metadata": {},
   "outputs": [
    {
     "data": {
      "text/plain": [
       "(768, 432, 3)"
      ]
     },
     "execution_count": 10,
     "metadata": {},
     "output_type": "execute_result"
    }
   ],
   "source": [
    "input_shape = get_random_frame(train_videos, grey=True, scale=0.4)[2].shape\n",
    "input_shape"
   ]
  },
  {
   "cell_type": "code",
   "execution_count": 11,
   "id": "70d0045e-f34f-4979-bb47-9427ef1d659a",
   "metadata": {},
   "outputs": [
    {
     "data": {
      "text/plain": [
       "{'convolution': (3, 3), 'time_length': 16, 'dim': 64, 'rgb': True}"
      ]
     },
     "execution_count": 11,
     "metadata": {},
     "output_type": "execute_result"
    }
   ],
   "source": [
    "config"
   ]
  },
  {
   "cell_type": "code",
   "execution_count": 12,
   "id": "6c626c08-f3eb-48d4-8667-a1217efb979f",
   "metadata": {},
   "outputs": [],
   "source": [
    "convolution = config['convolution']"
   ]
  },
  {
   "cell_type": "code",
   "execution_count": 13,
   "id": "a97d1c02-022f-4d9e-bc65-1841b9bd61ca",
   "metadata": {},
   "outputs": [
    {
     "data": {
      "text/plain": [
       "(3, 3)"
      ]
     },
     "execution_count": 13,
     "metadata": {},
     "output_type": "execute_result"
    }
   ],
   "source": [
    "convolution"
   ]
  },
  {
   "cell_type": "code",
   "execution_count": null,
   "id": "521de22b-8e71-4483-8e58-fe880a45771d",
   "metadata": {},
   "outputs": [],
   "source": []
  },
  {
   "cell_type": "code",
   "execution_count": 14,
   "id": "8ca79375-37fd-4973-ae24-e4ac073a35b7",
   "metadata": {},
   "outputs": [
    {
     "name": "stderr",
     "output_type": "stream",
     "text": [
      "/home/miked/.local/lib/python3.10/site-packages/keras/src/layers/rnn/rnn.py:204: UserWarning: Do not pass an `input_shape`/`input_dim` argument to a layer. When using Sequential models, prefer using an `Input(shape)` object as the first layer in the model instead.\n",
      "  super().__init__(**kwargs)\n"
     ]
    }
   ],
   "source": [
    "from tensorflow.keras.models import Sequential\n",
    "from tensorflow.keras.layers import ConvLSTM2D, BatchNormalization, TimeDistributed, Dense, Flatten\n",
    "from tensorflow.keras.optimizers import Adam\n",
    "\n",
    "model = Sequential()\n",
    "\n",
    "model.add(ConvLSTM2D(filters=64, kernel_size=(3, 3),\n",
    "                     input_shape=(20, 64, 64, 3),\n",
    "                     padding='same', return_sequences=True))\n",
    "model.add(BatchNormalization())\n",
    "\n",
    "model.add(ConvLSTM2D(filters=64, kernel_size=(3, 3),\n",
    "                     padding='same', return_sequences=True))\n",
    "model.add(BatchNormalization())\n",
    "\n",
    "# Uncomment if you want to add more ConvLSTM2D layers\n",
    "# model.add(ConvLSTM2D(filters=64, kernel_size=(3, 3),\n",
    "#                      padding='same', return_sequences=True))\n",
    "# model.add(BatchNormalization())\n",
    "\n",
    "# Apply TimeDistributed Dense layer to each time step\n",
    "model.add(TimeDistributed(Flatten()))  # Flatten each frame\n",
    "model.add(TimeDistributed(Dense(128, activation='relu')))\n",
    "model.add(TimeDistributed(Dense(len(unique_labels), activation='softmax')))\n",
    "\n",
    "model.compile(optimizer=Adam(), loss='sparse_categorical_crossentropy', metrics=['accuracy'])\n"
   ]
  },
  {
   "cell_type": "code",
   "execution_count": 15,
   "id": "7ced48a4-4077-4fc0-bf25-ebc558c8fc12",
   "metadata": {},
   "outputs": [
    {
     "data": {
      "text/html": [
       "<pre style=\"white-space:pre;overflow-x:auto;line-height:normal;font-family:Menlo,'DejaVu Sans Mono',consolas,'Courier New',monospace\"><span style=\"font-weight: bold\">Model: \"sequential\"</span>\n",
       "</pre>\n"
      ],
      "text/plain": [
       "\u001b[1mModel: \"sequential\"\u001b[0m\n"
      ]
     },
     "metadata": {},
     "output_type": "display_data"
    },
    {
     "data": {
      "text/html": [
       "<pre style=\"white-space:pre;overflow-x:auto;line-height:normal;font-family:Menlo,'DejaVu Sans Mono',consolas,'Courier New',monospace\">┏━━━━━━━━━━━━━━━━━━━━━━━━━━━━━━━━━┳━━━━━━━━━━━━━━━━━━━━━━━━┳━━━━━━━━━━━━━━━┓\n",
       "┃<span style=\"font-weight: bold\"> Layer (type)                    </span>┃<span style=\"font-weight: bold\"> Output Shape           </span>┃<span style=\"font-weight: bold\">       Param # </span>┃\n",
       "┡━━━━━━━━━━━━━━━━━━━━━━━━━━━━━━━━━╇━━━━━━━━━━━━━━━━━━━━━━━━╇━━━━━━━━━━━━━━━┩\n",
       "│ conv_lstm2d (<span style=\"color: #0087ff; text-decoration-color: #0087ff\">ConvLSTM2D</span>)        │ (<span style=\"color: #00d7ff; text-decoration-color: #00d7ff\">None</span>, <span style=\"color: #00af00; text-decoration-color: #00af00\">20</span>, <span style=\"color: #00af00; text-decoration-color: #00af00\">64</span>, <span style=\"color: #00af00; text-decoration-color: #00af00\">64</span>, <span style=\"color: #00af00; text-decoration-color: #00af00\">64</span>) │       <span style=\"color: #00af00; text-decoration-color: #00af00\">154,624</span> │\n",
       "├─────────────────────────────────┼────────────────────────┼───────────────┤\n",
       "│ batch_normalization             │ (<span style=\"color: #00d7ff; text-decoration-color: #00d7ff\">None</span>, <span style=\"color: #00af00; text-decoration-color: #00af00\">20</span>, <span style=\"color: #00af00; text-decoration-color: #00af00\">64</span>, <span style=\"color: #00af00; text-decoration-color: #00af00\">64</span>, <span style=\"color: #00af00; text-decoration-color: #00af00\">64</span>) │           <span style=\"color: #00af00; text-decoration-color: #00af00\">256</span> │\n",
       "│ (<span style=\"color: #0087ff; text-decoration-color: #0087ff\">BatchNormalization</span>)            │                        │               │\n",
       "├─────────────────────────────────┼────────────────────────┼───────────────┤\n",
       "│ conv_lstm2d_1 (<span style=\"color: #0087ff; text-decoration-color: #0087ff\">ConvLSTM2D</span>)      │ (<span style=\"color: #00d7ff; text-decoration-color: #00d7ff\">None</span>, <span style=\"color: #00af00; text-decoration-color: #00af00\">20</span>, <span style=\"color: #00af00; text-decoration-color: #00af00\">64</span>, <span style=\"color: #00af00; text-decoration-color: #00af00\">64</span>, <span style=\"color: #00af00; text-decoration-color: #00af00\">64</span>) │       <span style=\"color: #00af00; text-decoration-color: #00af00\">295,168</span> │\n",
       "├─────────────────────────────────┼────────────────────────┼───────────────┤\n",
       "│ batch_normalization_1           │ (<span style=\"color: #00d7ff; text-decoration-color: #00d7ff\">None</span>, <span style=\"color: #00af00; text-decoration-color: #00af00\">20</span>, <span style=\"color: #00af00; text-decoration-color: #00af00\">64</span>, <span style=\"color: #00af00; text-decoration-color: #00af00\">64</span>, <span style=\"color: #00af00; text-decoration-color: #00af00\">64</span>) │           <span style=\"color: #00af00; text-decoration-color: #00af00\">256</span> │\n",
       "│ (<span style=\"color: #0087ff; text-decoration-color: #0087ff\">BatchNormalization</span>)            │                        │               │\n",
       "├─────────────────────────────────┼────────────────────────┼───────────────┤\n",
       "│ time_distributed                │ (<span style=\"color: #00d7ff; text-decoration-color: #00d7ff\">None</span>, <span style=\"color: #00af00; text-decoration-color: #00af00\">20</span>, <span style=\"color: #00af00; text-decoration-color: #00af00\">262144</span>)     │             <span style=\"color: #00af00; text-decoration-color: #00af00\">0</span> │\n",
       "│ (<span style=\"color: #0087ff; text-decoration-color: #0087ff\">TimeDistributed</span>)               │                        │               │\n",
       "├─────────────────────────────────┼────────────────────────┼───────────────┤\n",
       "│ time_distributed_1              │ (<span style=\"color: #00d7ff; text-decoration-color: #00d7ff\">None</span>, <span style=\"color: #00af00; text-decoration-color: #00af00\">20</span>, <span style=\"color: #00af00; text-decoration-color: #00af00\">128</span>)        │    <span style=\"color: #00af00; text-decoration-color: #00af00\">33,554,560</span> │\n",
       "│ (<span style=\"color: #0087ff; text-decoration-color: #0087ff\">TimeDistributed</span>)               │                        │               │\n",
       "├─────────────────────────────────┼────────────────────────┼───────────────┤\n",
       "│ time_distributed_2              │ (<span style=\"color: #00d7ff; text-decoration-color: #00d7ff\">None</span>, <span style=\"color: #00af00; text-decoration-color: #00af00\">20</span>, <span style=\"color: #00af00; text-decoration-color: #00af00\">5</span>)          │           <span style=\"color: #00af00; text-decoration-color: #00af00\">645</span> │\n",
       "│ (<span style=\"color: #0087ff; text-decoration-color: #0087ff\">TimeDistributed</span>)               │                        │               │\n",
       "└─────────────────────────────────┴────────────────────────┴───────────────┘\n",
       "</pre>\n"
      ],
      "text/plain": [
       "┏━━━━━━━━━━━━━━━━━━━━━━━━━━━━━━━━━┳━━━━━━━━━━━━━━━━━━━━━━━━┳━━━━━━━━━━━━━━━┓\n",
       "┃\u001b[1m \u001b[0m\u001b[1mLayer (type)                   \u001b[0m\u001b[1m \u001b[0m┃\u001b[1m \u001b[0m\u001b[1mOutput Shape          \u001b[0m\u001b[1m \u001b[0m┃\u001b[1m \u001b[0m\u001b[1m      Param #\u001b[0m\u001b[1m \u001b[0m┃\n",
       "┡━━━━━━━━━━━━━━━━━━━━━━━━━━━━━━━━━╇━━━━━━━━━━━━━━━━━━━━━━━━╇━━━━━━━━━━━━━━━┩\n",
       "│ conv_lstm2d (\u001b[38;5;33mConvLSTM2D\u001b[0m)        │ (\u001b[38;5;45mNone\u001b[0m, \u001b[38;5;34m20\u001b[0m, \u001b[38;5;34m64\u001b[0m, \u001b[38;5;34m64\u001b[0m, \u001b[38;5;34m64\u001b[0m) │       \u001b[38;5;34m154,624\u001b[0m │\n",
       "├─────────────────────────────────┼────────────────────────┼───────────────┤\n",
       "│ batch_normalization             │ (\u001b[38;5;45mNone\u001b[0m, \u001b[38;5;34m20\u001b[0m, \u001b[38;5;34m64\u001b[0m, \u001b[38;5;34m64\u001b[0m, \u001b[38;5;34m64\u001b[0m) │           \u001b[38;5;34m256\u001b[0m │\n",
       "│ (\u001b[38;5;33mBatchNormalization\u001b[0m)            │                        │               │\n",
       "├─────────────────────────────────┼────────────────────────┼───────────────┤\n",
       "│ conv_lstm2d_1 (\u001b[38;5;33mConvLSTM2D\u001b[0m)      │ (\u001b[38;5;45mNone\u001b[0m, \u001b[38;5;34m20\u001b[0m, \u001b[38;5;34m64\u001b[0m, \u001b[38;5;34m64\u001b[0m, \u001b[38;5;34m64\u001b[0m) │       \u001b[38;5;34m295,168\u001b[0m │\n",
       "├─────────────────────────────────┼────────────────────────┼───────────────┤\n",
       "│ batch_normalization_1           │ (\u001b[38;5;45mNone\u001b[0m, \u001b[38;5;34m20\u001b[0m, \u001b[38;5;34m64\u001b[0m, \u001b[38;5;34m64\u001b[0m, \u001b[38;5;34m64\u001b[0m) │           \u001b[38;5;34m256\u001b[0m │\n",
       "│ (\u001b[38;5;33mBatchNormalization\u001b[0m)            │                        │               │\n",
       "├─────────────────────────────────┼────────────────────────┼───────────────┤\n",
       "│ time_distributed                │ (\u001b[38;5;45mNone\u001b[0m, \u001b[38;5;34m20\u001b[0m, \u001b[38;5;34m262144\u001b[0m)     │             \u001b[38;5;34m0\u001b[0m │\n",
       "│ (\u001b[38;5;33mTimeDistributed\u001b[0m)               │                        │               │\n",
       "├─────────────────────────────────┼────────────────────────┼───────────────┤\n",
       "│ time_distributed_1              │ (\u001b[38;5;45mNone\u001b[0m, \u001b[38;5;34m20\u001b[0m, \u001b[38;5;34m128\u001b[0m)        │    \u001b[38;5;34m33,554,560\u001b[0m │\n",
       "│ (\u001b[38;5;33mTimeDistributed\u001b[0m)               │                        │               │\n",
       "├─────────────────────────────────┼────────────────────────┼───────────────┤\n",
       "│ time_distributed_2              │ (\u001b[38;5;45mNone\u001b[0m, \u001b[38;5;34m20\u001b[0m, \u001b[38;5;34m5\u001b[0m)          │           \u001b[38;5;34m645\u001b[0m │\n",
       "│ (\u001b[38;5;33mTimeDistributed\u001b[0m)               │                        │               │\n",
       "└─────────────────────────────────┴────────────────────────┴───────────────┘\n"
      ]
     },
     "metadata": {},
     "output_type": "display_data"
    },
    {
     "data": {
      "text/html": [
       "<pre style=\"white-space:pre;overflow-x:auto;line-height:normal;font-family:Menlo,'DejaVu Sans Mono',consolas,'Courier New',monospace\"><span style=\"font-weight: bold\"> Total params: </span><span style=\"color: #00af00; text-decoration-color: #00af00\">34,005,509</span> (129.72 MB)\n",
       "</pre>\n"
      ],
      "text/plain": [
       "\u001b[1m Total params: \u001b[0m\u001b[38;5;34m34,005,509\u001b[0m (129.72 MB)\n"
      ]
     },
     "metadata": {},
     "output_type": "display_data"
    },
    {
     "data": {
      "text/html": [
       "<pre style=\"white-space:pre;overflow-x:auto;line-height:normal;font-family:Menlo,'DejaVu Sans Mono',consolas,'Courier New',monospace\"><span style=\"font-weight: bold\"> Trainable params: </span><span style=\"color: #00af00; text-decoration-color: #00af00\">34,005,253</span> (129.72 MB)\n",
       "</pre>\n"
      ],
      "text/plain": [
       "\u001b[1m Trainable params: \u001b[0m\u001b[38;5;34m34,005,253\u001b[0m (129.72 MB)\n"
      ]
     },
     "metadata": {},
     "output_type": "display_data"
    },
    {
     "data": {
      "text/html": [
       "<pre style=\"white-space:pre;overflow-x:auto;line-height:normal;font-family:Menlo,'DejaVu Sans Mono',consolas,'Courier New',monospace\"><span style=\"font-weight: bold\"> Non-trainable params: </span><span style=\"color: #00af00; text-decoration-color: #00af00\">256</span> (1.00 KB)\n",
       "</pre>\n"
      ],
      "text/plain": [
       "\u001b[1m Non-trainable params: \u001b[0m\u001b[38;5;34m256\u001b[0m (1.00 KB)\n"
      ]
     },
     "metadata": {},
     "output_type": "display_data"
    }
   ],
   "source": [
    "model.summary()"
   ]
  },
  {
   "cell_type": "code",
   "execution_count": null,
   "id": "17ace776-ef47-4177-ba8a-74ebbd7ae68b",
   "metadata": {},
   "outputs": [],
   "source": []
  },
  {
   "cell_type": "code",
   "execution_count": null,
   "id": "8247597a-b479-4865-8ec8-46fed87d2859",
   "metadata": {},
   "outputs": [],
   "source": []
  },
  {
   "cell_type": "code",
   "execution_count": 16,
   "id": "082d01b7-eeb3-4858-9418-8ac0ece0c7f5",
   "metadata": {},
   "outputs": [
    {
     "name": "stdout",
     "output_type": "stream",
     "text": [
      "connection established\n",
      "DataGeneratorSkillBorders init done\n",
      "connection established\n",
      "DataGeneratorSkillBorders init done\n"
     ]
    }
   ],
   "source": [
    "# Parameters\n",
    "params = {'dim': (64,64),\n",
    "          'time_length':16,\n",
    "          'batch_size': 20,\n",
    "          'n_classes': len(unique_labels),\n",
    "          'n_channels': 3,\n",
    "          'shuffle': True,\n",
    "}\n",
    "\n",
    "training_generator = DataGeneratorSkillBorders(train=True, **params)\n",
    "test_generator = DataGeneratorSkillBorders(train=False, **params)"
   ]
  },
  {
   "cell_type": "code",
   "execution_count": 17,
   "id": "95c4a3d8-147f-4586-9e46-d4afcf9888ec",
   "metadata": {},
   "outputs": [
    {
     "data": {
      "text/html": [
       "<div>\n",
       "<style scoped>\n",
       "    .dataframe tbody tr th:only-of-type {\n",
       "        vertical-align: middle;\n",
       "    }\n",
       "\n",
       "    .dataframe tbody tr th {\n",
       "        vertical-align: top;\n",
       "    }\n",
       "\n",
       "    .dataframe thead th {\n",
       "        text-align: right;\n",
       "    }\n",
       "</style>\n",
       "<table border=\"1\" class=\"dataframe\">\n",
       "  <thead>\n",
       "    <tr style=\"text-align: right;\">\n",
       "      <th></th>\n",
       "      <th>videoID</th>\n",
       "      <th>batches_in_video</th>\n",
       "      <th>random_order</th>\n",
       "      <th>total_batches</th>\n",
       "    </tr>\n",
       "  </thead>\n",
       "  <tbody>\n",
       "    <tr>\n",
       "      <th>0</th>\n",
       "      <td>5</td>\n",
       "      <td>20</td>\n",
       "      <td>1</td>\n",
       "      <td>20</td>\n",
       "    </tr>\n",
       "    <tr>\n",
       "      <th>1</th>\n",
       "      <td>1</td>\n",
       "      <td>24</td>\n",
       "      <td>2</td>\n",
       "      <td>44</td>\n",
       "    </tr>\n",
       "    <tr>\n",
       "      <th>2</th>\n",
       "      <td>2</td>\n",
       "      <td>38</td>\n",
       "      <td>3</td>\n",
       "      <td>82</td>\n",
       "    </tr>\n",
       "    <tr>\n",
       "      <th>3</th>\n",
       "      <td>3</td>\n",
       "      <td>23</td>\n",
       "      <td>4</td>\n",
       "      <td>105</td>\n",
       "    </tr>\n",
       "    <tr>\n",
       "      <th>4</th>\n",
       "      <td>4</td>\n",
       "      <td>19</td>\n",
       "      <td>5</td>\n",
       "      <td>124</td>\n",
       "    </tr>\n",
       "    <tr>\n",
       "      <th>5</th>\n",
       "      <td>6</td>\n",
       "      <td>16</td>\n",
       "      <td>6</td>\n",
       "      <td>140</td>\n",
       "    </tr>\n",
       "  </tbody>\n",
       "</table>\n",
       "</div>"
      ],
      "text/plain": [
       "   videoID  batches_in_video  random_order  total_batches\n",
       "0        5                20             1             20\n",
       "1        1                24             2             44\n",
       "2        2                38             3             82\n",
       "3        3                23             4            105\n",
       "4        4                19             5            124\n",
       "5        6                16             6            140"
      ]
     },
     "execution_count": 17,
     "metadata": {},
     "output_type": "execute_result"
    }
   ],
   "source": [
    "training_generator.batch_order"
   ]
  },
  {
   "cell_type": "code",
   "execution_count": null,
   "id": "22c27684-dffe-4e1e-b13b-e65c6e4dcfdf",
   "metadata": {},
   "outputs": [],
   "source": []
  },
  {
   "cell_type": "code",
   "execution_count": 18,
   "id": "b5a794b1-90ff-4c09-828c-58d3c8492e04",
   "metadata": {},
   "outputs": [
    {
     "name": "stdout",
     "output_type": "stream",
     "text": [
      "vid_id_idx 1 vid_batch_nr 5\n",
      "CPU times: user 1.93 s, sys: 75.1 ms, total: 2.01 s\n",
      "Wall time: 439 ms\n"
     ]
    }
   ],
   "source": [
    "%%time\n",
    "X, y = training_generator.__getitem__(25)"
   ]
  },
  {
   "cell_type": "code",
   "execution_count": 19,
   "id": "8b63e884-ec87-47c9-ab73-b2d8513ee890",
   "metadata": {},
   "outputs": [
    {
     "data": {
      "text/plain": [
       "(1, 20, 64, 64, 3)"
      ]
     },
     "execution_count": 19,
     "metadata": {},
     "output_type": "execute_result"
    }
   ],
   "source": [
    "X.shape"
   ]
  },
  {
   "cell_type": "code",
   "execution_count": 20,
   "id": "76ab4052-80db-4918-8c15-b10bb3199a22",
   "metadata": {},
   "outputs": [
    {
     "data": {
      "text/plain": [
       "array([[[[[0.2627451 , 0.28235294, 0.28627451],\n",
       "          [0.26666667, 0.28627451, 0.28627451],\n",
       "          [0.29019608, 0.32156863, 0.31764706],\n",
       "          ...,\n",
       "          [0.65098039, 0.6627451 , 0.6627451 ],\n",
       "          [0.60784314, 0.61960784, 0.61960784],\n",
       "          [0.3372549 , 0.34901961, 0.34901961]],\n",
       "\n",
       "         [[0.24313725, 0.25882353, 0.25882353],\n",
       "          [0.26666667, 0.28235294, 0.29019608],\n",
       "          [0.24705882, 0.25882353, 0.25882353],\n",
       "          ...,\n",
       "          [0.61960784, 0.61960784, 0.61960784],\n",
       "          [0.58039216, 0.58039216, 0.58039216],\n",
       "          [0.57254902, 0.57254902, 0.56470588]],\n",
       "\n",
       "         [[0.44705882, 0.48235294, 0.48627451],\n",
       "          [0.44313725, 0.47843137, 0.48235294],\n",
       "          [0.23529412, 0.25490196, 0.25490196],\n",
       "          ...,\n",
       "          [0.52156863, 0.52156863, 0.51372549],\n",
       "          [0.52941176, 0.53333333, 0.51372549],\n",
       "          [0.52156863, 0.5254902 , 0.50588235]],\n",
       "\n",
       "         ...,\n",
       "\n",
       "         [[0.33333333, 0.32156863, 0.29803922],\n",
       "          [0.31764706, 0.31372549, 0.29019608],\n",
       "          [0.31764706, 0.31372549, 0.29019608],\n",
       "          ...,\n",
       "          [0.28235294, 0.27058824, 0.26666667],\n",
       "          [0.2627451 , 0.2627451 , 0.2627451 ],\n",
       "          [0.25490196, 0.25490196, 0.24705882]],\n",
       "\n",
       "         [[0.3254902 , 0.31764706, 0.29411765],\n",
       "          [0.32156863, 0.30980392, 0.28627451],\n",
       "          [0.32156863, 0.31372549, 0.29019608],\n",
       "          ...,\n",
       "          [0.25098039, 0.23921569, 0.23529412],\n",
       "          [0.25098039, 0.25490196, 0.23529412],\n",
       "          [0.23921569, 0.22745098, 0.22352941]],\n",
       "\n",
       "         [[0.30588235, 0.29411765, 0.27058824],\n",
       "          [0.29803922, 0.29019608, 0.2745098 ],\n",
       "          [0.29803922, 0.29411765, 0.27058824],\n",
       "          ...,\n",
       "          [0.24705882, 0.24705882, 0.23921569],\n",
       "          [0.23529412, 0.22352941, 0.22745098],\n",
       "          [0.2627451 , 0.2627451 , 0.25490196]]],\n",
       "\n",
       "\n",
       "        [[[0.2627451 , 0.28235294, 0.28627451],\n",
       "          [0.26666667, 0.28627451, 0.28627451],\n",
       "          [0.29019608, 0.32156863, 0.31764706],\n",
       "          ...,\n",
       "          [0.65098039, 0.6627451 , 0.6627451 ],\n",
       "          [0.60392157, 0.61568627, 0.61568627],\n",
       "          [0.32941176, 0.34117647, 0.34117647]],\n",
       "\n",
       "         [[0.24313725, 0.2627451 , 0.2627451 ],\n",
       "          [0.27058824, 0.28627451, 0.29411765],\n",
       "          [0.24705882, 0.25882353, 0.25882353],\n",
       "          ...,\n",
       "          [0.61568627, 0.61568627, 0.61568627],\n",
       "          [0.55686275, 0.55686275, 0.55686275],\n",
       "          [0.56862745, 0.56862745, 0.56078431]],\n",
       "\n",
       "         [[0.43529412, 0.47058824, 0.4745098 ],\n",
       "          [0.45882353, 0.49411765, 0.49803922],\n",
       "          [0.23137255, 0.25098039, 0.25098039],\n",
       "          ...,\n",
       "          [0.51372549, 0.51372549, 0.50588235],\n",
       "          [0.50980392, 0.50980392, 0.50196078],\n",
       "          [0.50588235, 0.50980392, 0.49019608]],\n",
       "\n",
       "         ...,\n",
       "\n",
       "         [[0.3254902 , 0.31372549, 0.29019608],\n",
       "          [0.31764706, 0.30980392, 0.29411765],\n",
       "          [0.31764706, 0.31372549, 0.29019608],\n",
       "          ...,\n",
       "          [0.27843137, 0.26666667, 0.27058824],\n",
       "          [0.25490196, 0.25490196, 0.25490196],\n",
       "          [0.25098039, 0.25098039, 0.24313725]],\n",
       "\n",
       "         [[0.31372549, 0.30980392, 0.28627451],\n",
       "          [0.32156863, 0.30980392, 0.28627451],\n",
       "          [0.31372549, 0.30980392, 0.28627451],\n",
       "          ...,\n",
       "          [0.24313725, 0.23137255, 0.22745098],\n",
       "          [0.25098039, 0.25490196, 0.23529412],\n",
       "          [0.24313725, 0.23137255, 0.22745098]],\n",
       "\n",
       "         [[0.29019608, 0.28627451, 0.2627451 ],\n",
       "          [0.29803922, 0.29019608, 0.2745098 ],\n",
       "          [0.29411765, 0.29019608, 0.26666667],\n",
       "          ...,\n",
       "          [0.24705882, 0.24705882, 0.23921569],\n",
       "          [0.23529412, 0.22352941, 0.22745098],\n",
       "          [0.25882353, 0.25882353, 0.25098039]]],\n",
       "\n",
       "\n",
       "        [[[0.26666667, 0.28235294, 0.28627451],\n",
       "          [0.27058824, 0.29019608, 0.29019608],\n",
       "          [0.29019608, 0.32156863, 0.31764706],\n",
       "          ...,\n",
       "          [0.66666667, 0.67843137, 0.67843137],\n",
       "          [0.63529412, 0.64705882, 0.64705882],\n",
       "          [0.3372549 , 0.34901961, 0.34901961]],\n",
       "\n",
       "         [[0.24313725, 0.2627451 , 0.2627451 ],\n",
       "          [0.29019608, 0.30588235, 0.31372549],\n",
       "          [0.25098039, 0.2627451 , 0.2627451 ],\n",
       "          ...,\n",
       "          [0.61568627, 0.61568627, 0.61568627],\n",
       "          [0.56078431, 0.56078431, 0.56078431],\n",
       "          [0.57254902, 0.57254902, 0.56470588]],\n",
       "\n",
       "         [[0.43529412, 0.47058824, 0.4745098 ],\n",
       "          [0.46666667, 0.50196078, 0.50588235],\n",
       "          [0.23921569, 0.25882353, 0.25882353],\n",
       "          ...,\n",
       "          [0.51372549, 0.51372549, 0.50588235],\n",
       "          [0.51764706, 0.51764706, 0.50980392],\n",
       "          [0.51372549, 0.51372549, 0.50588235]],\n",
       "\n",
       "         ...,\n",
       "\n",
       "         [[0.3254902 , 0.31372549, 0.29019608],\n",
       "          [0.32156863, 0.30588235, 0.29019608],\n",
       "          [0.31764706, 0.31372549, 0.29019608],\n",
       "          ...,\n",
       "          [0.27843137, 0.26666667, 0.27058824],\n",
       "          [0.25490196, 0.25490196, 0.25490196],\n",
       "          [0.25098039, 0.25098039, 0.24313725]],\n",
       "\n",
       "         [[0.31764706, 0.31372549, 0.28627451],\n",
       "          [0.32156863, 0.30980392, 0.28627451],\n",
       "          [0.31372549, 0.30980392, 0.28627451],\n",
       "          ...,\n",
       "          [0.24313725, 0.23137255, 0.22745098],\n",
       "          [0.25098039, 0.25490196, 0.23529412],\n",
       "          [0.24313725, 0.23137255, 0.22745098]],\n",
       "\n",
       "         [[0.29019608, 0.28627451, 0.2627451 ],\n",
       "          [0.29803922, 0.29019608, 0.2745098 ],\n",
       "          [0.29803922, 0.29411765, 0.27058824],\n",
       "          ...,\n",
       "          [0.24705882, 0.24705882, 0.23921569],\n",
       "          [0.23529412, 0.22352941, 0.22745098],\n",
       "          [0.25882353, 0.25882353, 0.25098039]]],\n",
       "\n",
       "\n",
       "        ...,\n",
       "\n",
       "\n",
       "        [[[0.27843137, 0.29411765, 0.30196078],\n",
       "          [0.28235294, 0.30196078, 0.30196078],\n",
       "          [0.31372549, 0.32941176, 0.3372549 ],\n",
       "          ...,\n",
       "          [0.68235294, 0.69411765, 0.69411765],\n",
       "          [0.64705882, 0.65882353, 0.65882353],\n",
       "          [0.34901961, 0.36078431, 0.36078431]],\n",
       "\n",
       "         [[0.24705882, 0.26666667, 0.26666667],\n",
       "          [0.31764706, 0.33333333, 0.34117647],\n",
       "          [0.2627451 , 0.2745098 , 0.2745098 ],\n",
       "          ...,\n",
       "          [0.63529412, 0.63529412, 0.63529412],\n",
       "          [0.56862745, 0.56862745, 0.56862745],\n",
       "          [0.6       , 0.6       , 0.59215686]],\n",
       "\n",
       "         [[0.44313725, 0.47843137, 0.48235294],\n",
       "          [0.48627451, 0.52156863, 0.5254902 ],\n",
       "          [0.25882353, 0.27843137, 0.27843137],\n",
       "          ...,\n",
       "          [0.53333333, 0.53333333, 0.5254902 ],\n",
       "          [0.53333333, 0.53333333, 0.5254902 ],\n",
       "          [0.53333333, 0.53333333, 0.5254902 ]],\n",
       "\n",
       "         ...,\n",
       "\n",
       "         [[0.33333333, 0.31764706, 0.30196078],\n",
       "          [0.3254902 , 0.31764706, 0.30196078],\n",
       "          [0.31764706, 0.31372549, 0.29019608],\n",
       "          ...,\n",
       "          [0.27843137, 0.27843137, 0.27058824],\n",
       "          [0.2627451 , 0.2627451 , 0.2627451 ],\n",
       "          [0.24705882, 0.24705882, 0.24705882]],\n",
       "\n",
       "         [[0.33333333, 0.32156863, 0.29803922],\n",
       "          [0.32941176, 0.31764706, 0.29411765],\n",
       "          [0.3254902 , 0.30980392, 0.29411765],\n",
       "          ...,\n",
       "          [0.24313725, 0.23529412, 0.23137255],\n",
       "          [0.25098039, 0.25098039, 0.24313725],\n",
       "          [0.24313725, 0.23137255, 0.22745098]],\n",
       "\n",
       "         [[0.30588235, 0.30196078, 0.27843137],\n",
       "          [0.30196078, 0.29411765, 0.27843137],\n",
       "          [0.31764706, 0.30588235, 0.28235294],\n",
       "          ...,\n",
       "          [0.25098039, 0.25098039, 0.24313725],\n",
       "          [0.23137255, 0.23137255, 0.23137255],\n",
       "          [0.2627451 , 0.2627451 , 0.25490196]]],\n",
       "\n",
       "\n",
       "        [[[0.27843137, 0.29411765, 0.30196078],\n",
       "          [0.2745098 , 0.29411765, 0.29411765],\n",
       "          [0.31372549, 0.32941176, 0.3372549 ],\n",
       "          ...,\n",
       "          [0.6745098 , 0.68627451, 0.68627451],\n",
       "          [0.66666667, 0.67843137, 0.67843137],\n",
       "          [0.34901961, 0.36078431, 0.36078431]],\n",
       "\n",
       "         [[0.24705882, 0.26666667, 0.26666667],\n",
       "          [0.31764706, 0.33333333, 0.34117647],\n",
       "          [0.25882353, 0.27058824, 0.27058824],\n",
       "          ...,\n",
       "          [0.63137255, 0.63137255, 0.63137255],\n",
       "          [0.57647059, 0.57647059, 0.57647059],\n",
       "          [0.59607843, 0.59607843, 0.58823529]],\n",
       "\n",
       "         [[0.44313725, 0.47843137, 0.48235294],\n",
       "          [0.48235294, 0.51764706, 0.52156863],\n",
       "          [0.25882353, 0.27843137, 0.27843137],\n",
       "          ...,\n",
       "          [0.53333333, 0.53333333, 0.5254902 ],\n",
       "          [0.5372549 , 0.5372549 , 0.52941176],\n",
       "          [0.52941176, 0.52941176, 0.52156863]],\n",
       "\n",
       "         ...,\n",
       "\n",
       "         [[0.33333333, 0.31764706, 0.30196078],\n",
       "          [0.3254902 , 0.31764706, 0.30196078],\n",
       "          [0.31764706, 0.31372549, 0.29019608],\n",
       "          ...,\n",
       "          [0.27843137, 0.27843137, 0.27058824],\n",
       "          [0.2627451 , 0.2627451 , 0.2627451 ],\n",
       "          [0.25098039, 0.25098039, 0.25098039]],\n",
       "\n",
       "         [[0.33333333, 0.32156863, 0.29803922],\n",
       "          [0.32941176, 0.31764706, 0.29411765],\n",
       "          [0.3254902 , 0.30980392, 0.29411765],\n",
       "          ...,\n",
       "          [0.25098039, 0.24313725, 0.23529412],\n",
       "          [0.25098039, 0.25098039, 0.24313725],\n",
       "          [0.23921569, 0.22745098, 0.22352941]],\n",
       "\n",
       "         [[0.30588235, 0.30196078, 0.27843137],\n",
       "          [0.30196078, 0.29411765, 0.27843137],\n",
       "          [0.31764706, 0.30588235, 0.28235294],\n",
       "          ...,\n",
       "          [0.25098039, 0.25098039, 0.24313725],\n",
       "          [0.23529412, 0.23529412, 0.23529412],\n",
       "          [0.25882353, 0.25882353, 0.25098039]]],\n",
       "\n",
       "\n",
       "        [[[0.27843137, 0.29411765, 0.30196078],\n",
       "          [0.2745098 , 0.29411765, 0.29411765],\n",
       "          [0.31372549, 0.32941176, 0.3372549 ],\n",
       "          ...,\n",
       "          [0.6745098 , 0.68627451, 0.68627451],\n",
       "          [0.65490196, 0.66666667, 0.66666667],\n",
       "          [0.34117647, 0.35294118, 0.35294118]],\n",
       "\n",
       "         [[0.24705882, 0.26666667, 0.26666667],\n",
       "          [0.31372549, 0.32941176, 0.3372549 ],\n",
       "          [0.25882353, 0.27058824, 0.27058824],\n",
       "          ...,\n",
       "          [0.63137255, 0.63137255, 0.63137255],\n",
       "          [0.57647059, 0.57647059, 0.57647059],\n",
       "          [0.59215686, 0.59215686, 0.58431373]],\n",
       "\n",
       "         [[0.44313725, 0.47843137, 0.48235294],\n",
       "          [0.48235294, 0.51764706, 0.52156863],\n",
       "          [0.25882353, 0.27843137, 0.27843137],\n",
       "          ...,\n",
       "          [0.53333333, 0.53333333, 0.5254902 ],\n",
       "          [0.5372549 , 0.5372549 , 0.52941176],\n",
       "          [0.52941176, 0.52941176, 0.52156863]],\n",
       "\n",
       "         ...,\n",
       "\n",
       "         [[0.33333333, 0.31764706, 0.30196078],\n",
       "          [0.3254902 , 0.31764706, 0.30196078],\n",
       "          [0.31764706, 0.31372549, 0.29019608],\n",
       "          ...,\n",
       "          [0.27843137, 0.27843137, 0.27058824],\n",
       "          [0.26666667, 0.26666667, 0.26666667],\n",
       "          [0.25098039, 0.25098039, 0.25098039]],\n",
       "\n",
       "         [[0.33333333, 0.32156863, 0.29803922],\n",
       "          [0.32941176, 0.31764706, 0.29411765],\n",
       "          [0.3254902 , 0.30980392, 0.29411765],\n",
       "          ...,\n",
       "          [0.24705882, 0.23529412, 0.23137255],\n",
       "          [0.2627451 , 0.25098039, 0.24705882],\n",
       "          [0.24313725, 0.23137255, 0.22745098]],\n",
       "\n",
       "         [[0.30588235, 0.30196078, 0.27843137],\n",
       "          [0.30196078, 0.29411765, 0.27843137],\n",
       "          [0.31764706, 0.30588235, 0.28235294],\n",
       "          ...,\n",
       "          [0.25098039, 0.25098039, 0.24313725],\n",
       "          [0.22745098, 0.22745098, 0.22745098],\n",
       "          [0.25882353, 0.25882353, 0.25098039]]]]])"
      ]
     },
     "execution_count": 20,
     "metadata": {},
     "output_type": "execute_result"
    }
   ],
   "source": [
    "X"
   ]
  },
  {
   "cell_type": "code",
   "execution_count": 21,
   "id": "0f683c31-77e9-471f-b857-4bb15857b735",
   "metadata": {},
   "outputs": [
    {
     "data": {
      "text/plain": [
       "(1, 20, 1)"
      ]
     },
     "execution_count": 21,
     "metadata": {},
     "output_type": "execute_result"
    }
   ],
   "source": [
    "y.shape"
   ]
  },
  {
   "cell_type": "code",
   "execution_count": 22,
   "id": "09ceb346-6346-4258-9035-c209a0f9b898",
   "metadata": {},
   "outputs": [
    {
     "data": {
      "text/plain": [
       "array([[[0],\n",
       "        [0],\n",
       "        [0],\n",
       "        [0],\n",
       "        [0],\n",
       "        [0],\n",
       "        [0],\n",
       "        [0],\n",
       "        [1],\n",
       "        [2],\n",
       "        [2],\n",
       "        [2],\n",
       "        [2],\n",
       "        [2],\n",
       "        [2],\n",
       "        [2],\n",
       "        [0],\n",
       "        [0],\n",
       "        [0],\n",
       "        [0]]])"
      ]
     },
     "execution_count": 22,
     "metadata": {},
     "output_type": "execute_result"
    }
   ],
   "source": [
    "y"
   ]
  },
  {
   "cell_type": "code",
   "execution_count": 23,
   "id": "1ba2c862-5576-4999-a5a3-f20623910ef7",
   "metadata": {},
   "outputs": [
    {
     "data": {
      "text/plain": [
       "(1, 20, 1)"
      ]
     },
     "execution_count": 23,
     "metadata": {},
     "output_type": "execute_result"
    }
   ],
   "source": [
    "y.shape\n"
   ]
  },
  {
   "cell_type": "code",
   "execution_count": 24,
   "id": "e8e48c69-83b9-460f-9cba-b809b33d3d3c",
   "metadata": {},
   "outputs": [
    {
     "name": "stdout",
     "output_type": "stream",
     "text": [
      "len called len is: 140\n",
      "vid_id_idx 0 vid_batch_nr 0\n",
      "vid_id_idx 0 vid_batch_nr 1\n",
      "Epoch 1/2\n",
      "vid_id_idx 0 vid_batch_nr 0\n",
      "vid_id_idx 0 vid_batch_nr 1\n",
      "\u001b[1m  1/140\u001b[0m \u001b[37m━━━━━━━━━━━━━━━━━━━━\u001b[0m \u001b[1m21:13\u001b[0m 9s/step - accuracy: 0.0000e+00 - loss: 2.0798vid_id_idx 0 vid_batch_nr 2\n",
      "\u001b[1m  2/140\u001b[0m \u001b[37m━━━━━━━━━━━━━━━━━━━━\u001b[0m \u001b[1m6:53\u001b[0m 3s/step - accuracy: 0.2500 - loss: 1.5598     vid_id_idx 0 vid_batch_nr 3\n",
      "\u001b[1m  3/140\u001b[0m \u001b[37m━━━━━━━━━━━━━━━━━━━━\u001b[0m \u001b[1m6:48\u001b[0m 3s/step - accuracy: 0.3889 - loss: 1.2710vid_id_idx 0 vid_batch_nr 4\n",
      "\u001b[1m  4/140\u001b[0m \u001b[37m━━━━━━━━━━━━━━━━━━━━\u001b[0m \u001b[1m6:42\u001b[0m 3s/step - accuracy: 0.4792 - loss: 1.0832vid_id_idx 0 vid_batch_nr 5\n",
      "\u001b[1m  5/140\u001b[0m \u001b[37m━━━━━━━━━━━━━━━━━━━━\u001b[0m \u001b[1m6:45\u001b[0m 3s/step - accuracy: 0.5433 - loss: 0.9498vid_id_idx 0 vid_batch_nr 6\n",
      "\u001b[1m  6/140\u001b[0m \u001b[37m━━━━━━━━━━━━━━━━━━━━\u001b[0m \u001b[1m6:40\u001b[0m 3s/step - accuracy: 0.5708 - loss: 1.1850vid_id_idx 0 vid_batch_nr 7\n",
      "\u001b[1m  7/140\u001b[0m \u001b[32m━\u001b[0m\u001b[37m━━━━━━━━━━━━━━━━━━━\u001b[0m \u001b[1m6:39\u001b[0m 3s/step - accuracy: 0.5760 - loss: 1.6338vid_id_idx 0 vid_batch_nr 8\n",
      "\u001b[1m  8/140\u001b[0m \u001b[32m━\u001b[0m\u001b[37m━━━━━━━━━━━━━━━━━━━\u001b[0m \u001b[1m6:39\u001b[0m 3s/step - accuracy: 0.5704 - loss: 2.1547vid_id_idx 0 vid_batch_nr 9\n",
      "\u001b[1m  9/140\u001b[0m \u001b[32m━\u001b[0m\u001b[37m━━━━━━━━━━━━━━━━━━━\u001b[0m \u001b[1m6:38\u001b[0m 3s/step - accuracy: 0.5595 - loss: 2.6872vid_id_idx 0 vid_batch_nr 10\n",
      "\u001b[1m 10/140\u001b[0m \u001b[32m━\u001b[0m\u001b[37m━━━━━━━━━━━━━━━━━━━\u001b[0m \u001b[1m6:36\u001b[0m 3s/step - accuracy: 0.5461 - loss: 3.2048vid_id_idx 0 vid_batch_nr 11\n",
      "\u001b[1m 11/140\u001b[0m \u001b[32m━\u001b[0m\u001b[37m━━━━━━━━━━━━━━━━━━━\u001b[0m \u001b[1m6:34\u001b[0m 3s/step - accuracy: 0.5315 - loss: 3.6966vid_id_idx 0 vid_batch_nr 12\n",
      "\u001b[1m 12/140\u001b[0m \u001b[32m━\u001b[0m\u001b[37m━━━━━━━━━━━━━━━━━━━\u001b[0m \u001b[1m6:34\u001b[0m 3s/step - accuracy: 0.5168 - loss: 4.1586vid_id_idx 0 vid_batch_nr 13\n",
      "\u001b[1m 13/140\u001b[0m \u001b[32m━\u001b[0m\u001b[37m━━━━━━━━━━━━━━━━━━━\u001b[0m \u001b[1m6:32\u001b[0m 3s/step - accuracy: 0.5022 - loss: 4.5901vid_id_idx 0 vid_batch_nr 14\n",
      "\u001b[1m 14/140\u001b[0m \u001b[32m━━\u001b[0m\u001b[37m━━━━━━━━━━━━━━━━━━\u001b[0m \u001b[1m6:29\u001b[0m 3s/step - accuracy: 0.4880 - loss: 4.9924vid_id_idx 0 vid_batch_nr 15\n",
      "\u001b[1m 15/140\u001b[0m \u001b[32m━━\u001b[0m\u001b[37m━━━━━━━━━━━━━━━━━━\u001b[0m \u001b[1m6:26\u001b[0m 3s/step - accuracy: 0.4743 - loss: 5.3673vid_id_idx 0 vid_batch_nr 16\n",
      "\u001b[1m 16/140\u001b[0m \u001b[32m━━\u001b[0m\u001b[37m━━━━━━━━━━━━━━━━━━\u001b[0m \u001b[1m6:23\u001b[0m 3s/step - accuracy: 0.4613 - loss: 5.7168vid_id_idx 0 vid_batch_nr 17\n",
      "\u001b[1m 17/140\u001b[0m \u001b[32m━━\u001b[0m\u001b[37m━━━━━━━━━━━━━━━━━━\u001b[0m \u001b[1m6:20\u001b[0m 3s/step - accuracy: 0.4489 - loss: 6.0430vid_id_idx 0 vid_batch_nr 18\n",
      "\u001b[1m 18/140\u001b[0m \u001b[32m━━\u001b[0m\u001b[37m━━━━━━━━━━━━━━━━━━\u001b[0m \u001b[1m6:17\u001b[0m 3s/step - accuracy: 0.4370 - loss: 6.3480vid_id_idx 0 vid_batch_nr 19\n"
     ]
    },
    {
     "name": "stderr",
     "output_type": "stream",
     "text": [
      "2024-06-23 18:36:47.834228: W tensorflow/core/framework/op_kernel.cc:1827] INVALID_ARGUMENT: TypeError: `generator` yielded an element of shape (1, 9, 64, 64, 3) where an element of shape (None, 20, 64, 64, 3) was expected.\n",
      "Traceback (most recent call last):\n",
      "\n",
      "  File \"/home/miked/.local/lib/python3.10/site-packages/tensorflow/python/ops/script_ops.py\", line 270, in __call__\n",
      "    ret = func(*args)\n",
      "\n",
      "  File \"/home/miked/.local/lib/python3.10/site-packages/tensorflow/python/autograph/impl/api.py\", line 643, in wrapper\n",
      "    return func(*args, **kwargs)\n",
      "\n",
      "  File \"/home/miked/.local/lib/python3.10/site-packages/tensorflow/python/data/ops/from_generator_op.py\", line 235, in generator_py_func\n",
      "    raise TypeError(\n",
      "\n",
      "TypeError: `generator` yielded an element of shape (1, 9, 64, 64, 3) where an element of shape (None, 20, 64, 64, 3) was expected.\n",
      "\n",
      "\n"
     ]
    },
    {
     "name": "stdout",
     "output_type": "stream",
     "text": [
      "\u001b[1m 19/140\u001b[0m \u001b[32m━━\u001b[0m\u001b[37m━━━━━━━━━━━━━━━━━━\u001b[0m \u001b[1m6:13\u001b[0m 3s/step - accuracy: 0.4258 - loss: 6.6336vid_id_idx 1 vid_batch_nr 0\n"
     ]
    },
    {
     "name": "stderr",
     "output_type": "stream",
     "text": [
      "2024-06-23 18:36:50.180531: W tensorflow/core/framework/local_rendezvous.cc:404] Local rendezvous is aborting with status: INVALID_ARGUMENT: TypeError: `generator` yielded an element of shape (1, 9, 64, 64, 3) where an element of shape (None, 20, 64, 64, 3) was expected.\n",
      "Traceback (most recent call last):\n",
      "\n",
      "  File \"/home/miked/.local/lib/python3.10/site-packages/tensorflow/python/ops/script_ops.py\", line 270, in __call__\n",
      "    ret = func(*args)\n",
      "\n",
      "  File \"/home/miked/.local/lib/python3.10/site-packages/tensorflow/python/autograph/impl/api.py\", line 643, in wrapper\n",
      "    return func(*args, **kwargs)\n",
      "\n",
      "  File \"/home/miked/.local/lib/python3.10/site-packages/tensorflow/python/data/ops/from_generator_op.py\", line 235, in generator_py_func\n",
      "    raise TypeError(\n",
      "\n",
      "TypeError: `generator` yielded an element of shape (1, 9, 64, 64, 3) where an element of shape (None, 20, 64, 64, 3) was expected.\n",
      "\n",
      "\n",
      "\t [[{{node PyFunc}}]]\n",
      "\t [[IteratorGetNext]]\n"
     ]
    },
    {
     "ename": "InvalidArgumentError",
     "evalue": "Graph execution error:\n\nDetected at node PyFunc defined at (most recent call last):\n<stack traces unavailable>\nTypeError: `generator` yielded an element of shape (1, 9, 64, 64, 3) where an element of shape (None, 20, 64, 64, 3) was expected.\nTraceback (most recent call last):\n\n  File \"/home/miked/.local/lib/python3.10/site-packages/tensorflow/python/ops/script_ops.py\", line 270, in __call__\n    ret = func(*args)\n\n  File \"/home/miked/.local/lib/python3.10/site-packages/tensorflow/python/autograph/impl/api.py\", line 643, in wrapper\n    return func(*args, **kwargs)\n\n  File \"/home/miked/.local/lib/python3.10/site-packages/tensorflow/python/data/ops/from_generator_op.py\", line 235, in generator_py_func\n    raise TypeError(\n\nTypeError: `generator` yielded an element of shape (1, 9, 64, 64, 3) where an element of shape (None, 20, 64, 64, 3) was expected.\n\n\n\t [[{{node PyFunc}}]]\n\t [[IteratorGetNext]] [Op:__inference_one_step_on_iterator_8762]",
     "output_type": "error",
     "traceback": [
      "\u001b[0;31m---------------------------------------------------------------------------\u001b[0m",
      "\u001b[0;31mInvalidArgumentError\u001b[0m                      Traceback (most recent call last)",
      "Cell \u001b[0;32mIn[24], line 5\u001b[0m\n\u001b[1;32m      1\u001b[0m model\u001b[38;5;241m.\u001b[39mcompile(optimizer\u001b[38;5;241m=\u001b[39m\u001b[38;5;124m'\u001b[39m\u001b[38;5;124madam\u001b[39m\u001b[38;5;124m'\u001b[39m,\n\u001b[1;32m      2\u001b[0m               loss\u001b[38;5;241m=\u001b[39mtf\u001b[38;5;241m.\u001b[39mkeras\u001b[38;5;241m.\u001b[39mlosses\u001b[38;5;241m.\u001b[39mSparseCategoricalCrossentropy(),\n\u001b[1;32m      3\u001b[0m               metrics\u001b[38;5;241m=\u001b[39m[\u001b[38;5;124m'\u001b[39m\u001b[38;5;124maccuracy\u001b[39m\u001b[38;5;124m'\u001b[39m])\n\u001b[0;32m----> 5\u001b[0m history \u001b[38;5;241m=\u001b[39m \u001b[43mmodel\u001b[49m\u001b[38;5;241;43m.\u001b[39;49m\u001b[43mfit\u001b[49m\u001b[43m(\u001b[49m\u001b[43mtraining_generator\u001b[49m\u001b[43m,\u001b[49m\u001b[43m \u001b[49m\u001b[43mepochs\u001b[49m\u001b[38;5;241;43m=\u001b[39;49m\u001b[38;5;241;43m2\u001b[39;49m\u001b[43m,\u001b[49m\u001b[43m \u001b[49m\n\u001b[1;32m      6\u001b[0m \u001b[43m                    \u001b[49m\u001b[43mvalidation_data\u001b[49m\u001b[38;5;241;43m=\u001b[39;49m\u001b[43mtest_generator\u001b[49m\u001b[43m,\u001b[49m\u001b[43m \u001b[49m\u001b[43mshuffle\u001b[49m\u001b[38;5;241;43m=\u001b[39;49m\u001b[38;5;28;43;01mFalse\u001b[39;49;00m\u001b[43m)\u001b[49m\n",
      "File \u001b[0;32m~/.local/lib/python3.10/site-packages/keras/src/utils/traceback_utils.py:122\u001b[0m, in \u001b[0;36mfilter_traceback.<locals>.error_handler\u001b[0;34m(*args, **kwargs)\u001b[0m\n\u001b[1;32m    119\u001b[0m     filtered_tb \u001b[38;5;241m=\u001b[39m _process_traceback_frames(e\u001b[38;5;241m.\u001b[39m__traceback__)\n\u001b[1;32m    120\u001b[0m     \u001b[38;5;66;03m# To get the full stack trace, call:\u001b[39;00m\n\u001b[1;32m    121\u001b[0m     \u001b[38;5;66;03m# `keras.config.disable_traceback_filtering()`\u001b[39;00m\n\u001b[0;32m--> 122\u001b[0m     \u001b[38;5;28;01mraise\u001b[39;00m e\u001b[38;5;241m.\u001b[39mwith_traceback(filtered_tb) \u001b[38;5;28;01mfrom\u001b[39;00m \u001b[38;5;28;01mNone\u001b[39;00m\n\u001b[1;32m    123\u001b[0m \u001b[38;5;28;01mfinally\u001b[39;00m:\n\u001b[1;32m    124\u001b[0m     \u001b[38;5;28;01mdel\u001b[39;00m filtered_tb\n",
      "File \u001b[0;32m~/.local/lib/python3.10/site-packages/tensorflow/python/eager/execute.py:53\u001b[0m, in \u001b[0;36mquick_execute\u001b[0;34m(op_name, num_outputs, inputs, attrs, ctx, name)\u001b[0m\n\u001b[1;32m     51\u001b[0m \u001b[38;5;28;01mtry\u001b[39;00m:\n\u001b[1;32m     52\u001b[0m   ctx\u001b[38;5;241m.\u001b[39mensure_initialized()\n\u001b[0;32m---> 53\u001b[0m   tensors \u001b[38;5;241m=\u001b[39m pywrap_tfe\u001b[38;5;241m.\u001b[39mTFE_Py_Execute(ctx\u001b[38;5;241m.\u001b[39m_handle, device_name, op_name,\n\u001b[1;32m     54\u001b[0m                                       inputs, attrs, num_outputs)\n\u001b[1;32m     55\u001b[0m \u001b[38;5;28;01mexcept\u001b[39;00m core\u001b[38;5;241m.\u001b[39m_NotOkStatusException \u001b[38;5;28;01mas\u001b[39;00m e:\n\u001b[1;32m     56\u001b[0m   \u001b[38;5;28;01mif\u001b[39;00m name \u001b[38;5;129;01mis\u001b[39;00m \u001b[38;5;129;01mnot\u001b[39;00m \u001b[38;5;28;01mNone\u001b[39;00m:\n",
      "\u001b[0;31mInvalidArgumentError\u001b[0m: Graph execution error:\n\nDetected at node PyFunc defined at (most recent call last):\n<stack traces unavailable>\nTypeError: `generator` yielded an element of shape (1, 9, 64, 64, 3) where an element of shape (None, 20, 64, 64, 3) was expected.\nTraceback (most recent call last):\n\n  File \"/home/miked/.local/lib/python3.10/site-packages/tensorflow/python/ops/script_ops.py\", line 270, in __call__\n    ret = func(*args)\n\n  File \"/home/miked/.local/lib/python3.10/site-packages/tensorflow/python/autograph/impl/api.py\", line 643, in wrapper\n    return func(*args, **kwargs)\n\n  File \"/home/miked/.local/lib/python3.10/site-packages/tensorflow/python/data/ops/from_generator_op.py\", line 235, in generator_py_func\n    raise TypeError(\n\nTypeError: `generator` yielded an element of shape (1, 9, 64, 64, 3) where an element of shape (None, 20, 64, 64, 3) was expected.\n\n\n\t [[{{node PyFunc}}]]\n\t [[IteratorGetNext]] [Op:__inference_one_step_on_iterator_8762]"
     ]
    }
   ],
   "source": [
    "model.compile(optimizer='adam',\n",
    "              loss=tf.keras.losses.SparseCategoricalCrossentropy(),\n",
    "              metrics=['accuracy'])\n",
    "\n",
    "history = model.fit(training_generator, epochs=2, \n",
    "                    validation_data=test_generator, shuffle=False)"
   ]
  },
  {
   "cell_type": "code",
   "execution_count": null,
   "id": "5b03e31c-ac8b-40fd-8699-b89181898d8a",
   "metadata": {},
   "outputs": [],
   "source": []
  },
  {
   "cell_type": "code",
   "execution_count": null,
   "id": "5ed6bf2c-67fc-4771-adac-b7417ef9a408",
   "metadata": {},
   "outputs": [],
   "source": [
    "pd.DataFrame(history.history)"
   ]
  },
  {
   "cell_type": "code",
   "execution_count": null,
   "id": "4d245812-bff8-4a35-a716-34652fa466c0",
   "metadata": {},
   "outputs": [],
   "source": [
    "model.fit?"
   ]
  },
  {
   "cell_type": "code",
   "execution_count": null,
   "id": "d0ddc2ea-006d-4501-a865-8cb56fc42deb",
   "metadata": {},
   "outputs": [],
   "source": [
    "with open('../models/last_cnn_model_history.pkl', 'wb') as handle:\n",
    "    pickle.dump(history, handle)"
   ]
  },
  {
   "cell_type": "code",
   "execution_count": null,
   "id": "974c2c39-50de-43df-a00f-5a445c0b5dfd",
   "metadata": {},
   "outputs": [],
   "source": []
  },
  {
   "cell_type": "code",
   "execution_count": null,
   "id": "eb492dab-1b49-42e4-a133-83e2842292b9",
   "metadata": {},
   "outputs": [],
   "source": []
  },
  {
   "cell_type": "code",
   "execution_count": null,
   "id": "f9b31e26-f5fb-4ad4-aabd-fdbf27d415ef",
   "metadata": {},
   "outputs": [],
   "source": []
  },
  {
   "cell_type": "code",
   "execution_count": null,
   "id": "f5c77033-2026-4cdf-8ffd-d92bf3561a4d",
   "metadata": {},
   "outputs": [],
   "source": []
  },
  {
   "cell_type": "code",
   "execution_count": null,
   "id": "f1287828-b8f0-4db0-93b0-20dc90f54c37",
   "metadata": {},
   "outputs": [],
   "source": []
  },
  {
   "cell_type": "code",
   "execution_count": null,
   "id": "25bf7c50-21cd-4dbb-b57d-7c63b672ee8b",
   "metadata": {},
   "outputs": [],
   "source": []
  },
  {
   "cell_type": "code",
   "execution_count": null,
   "id": "9d191124-c3b8-43e8-971c-41c88246230b",
   "metadata": {},
   "outputs": [],
   "source": []
  },
  {
   "cell_type": "code",
   "execution_count": null,
   "id": "b1225c7d-6a49-49e8-9e76-c4e7d4eb6623",
   "metadata": {},
   "outputs": [],
   "source": []
  }
 ],
 "metadata": {
  "kernelspec": {
   "display_name": "Python 3 (ipykernel)",
   "language": "python",
   "name": "python3"
  },
  "language_info": {
   "codemirror_mode": {
    "name": "ipython",
    "version": 3
   },
   "file_extension": ".py",
   "mimetype": "text/x-python",
   "name": "python",
   "nbconvert_exporter": "python",
   "pygments_lexer": "ipython3",
   "version": "3.10.12"
  }
 },
 "nbformat": 4,
 "nbformat_minor": 5
}
