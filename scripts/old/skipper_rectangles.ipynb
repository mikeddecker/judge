{
 "cells": [
  {
   "cell_type": "markdown",
   "id": "708cafc6-3bfd-4e4c-a49b-bb2838f5f408",
   "metadata": {},
   "source": [
    "# AI Judge pre-processing - person borders"
   ]
  },
  {
   "cell_type": "code",
   "execution_count": 1,
   "id": "d99ce9b4-3f56-4692-8fc7-7324e8cb6ce3",
   "metadata": {},
   "outputs": [],
   "source": [
    "import numpy as np\n",
    "import cv2 # pip install opencv-python"
   ]
  },
  {
   "cell_type": "code",
   "execution_count": 2,
   "id": "387472f3-818f-4731-8bf6-4c6b7e110d74",
   "metadata": {},
   "outputs": [
    {
     "name": "stderr",
     "output_type": "stream",
     "text": [
      "Warning: Ignoring XDG_SESSION_TYPE=wayland on Gnome. Use QT_QPA_PLATFORM=wayland to run on Wayland anyway.\n"
     ]
    }
   ],
   "source": [
    "# Global variables\n",
    "rectangles = []\n",
    "current_rectangle = None\n",
    "drawing = False\n",
    "frame = None\n",
    "\n",
    "def draw_rectangle(event, x, y, flags, params):\n",
    "    global frame, rectangles, current_rectangle, drawing\n",
    "\n",
    "    if event == cv2.EVENT_LBUTTONDOWN:\n",
    "        drawing = True\n",
    "        current_rectangle = [(x, y)]\n",
    "\n",
    "    elif event == cv2.EVENT_MOUSEMOVE:\n",
    "        if drawing:\n",
    "            current_rectangle.append((x, y))\n",
    "\n",
    "    elif event == cv2.EVENT_LBUTTONUP:\n",
    "        drawing = False\n",
    "        current_rectangle.append((x, y))\n",
    "        rectangles.append(current_rectangle)\n",
    "        current_rectangle = None\n",
    "\n",
    "def main(video_path):\n",
    "    global frame, rectangles\n",
    "\n",
    "    cap = cv2.VideoCapture(video_path)\n",
    "\n",
    "    cv2.namedWindow('Frame')\n",
    "    cv2.setMouseCallback('Frame', draw_rectangle)\n",
    "\n",
    "    while cap.isOpened():\n",
    "        ret, frame = cap.read()\n",
    "        if not ret:\n",
    "            break\n",
    "\n",
    "        for rect in rectangles:\n",
    "            cv2.rectangle(frame, rect[0], rect[1], (0, 255, 0), 2)\n",
    "\n",
    "        cv2.imshow('Frame', frame)\n",
    "\n",
    "        key = cv2.waitKey(1)\n",
    "        if key == ord('q'):  # Press 'q' to exit\n",
    "            break\n",
    "\n",
    "    cap.release()\n",
    "    cv2.destroyAllWindows()\n",
    "\n",
    "if __name__ == \"__main__\":\n",
    "    video_path = 'videos/20240209_atelier_006.mp4'  # Change to your video file path\n",
    "    main(video_path)"
   ]
  },
  {
   "cell_type": "code",
   "execution_count": 3,
   "id": "932745b9-3b13-4cac-a899-ac11bb0ea4ce",
   "metadata": {},
   "outputs": [
    {
     "data": {
      "text/plain": [
       "113"
      ]
     },
     "execution_count": 3,
     "metadata": {},
     "output_type": "execute_result"
    }
   ],
   "source": [
    "ord('q')"
   ]
  },
  {
   "cell_type": "code",
   "execution_count": 4,
   "id": "512bf4a2-05aa-4511-b83a-e8411b07abc9",
   "metadata": {},
   "outputs": [],
   "source": [
    "def framecount(video_path):\n",
    "    \"\"\"Shows the total framecount of a video\"\"\"\n",
    "    cap = cv2.VideoCapture(video_path)\n",
    "    total_frames = int(cap.get(cv2.CAP_PROP_FRAME_COUNT))\n",
    "    return total_frames\n",
    "\n",
    "    # Rest of your code goes here\n",
    "\n",
    "    cap.release()\n",
    "    cv2.destroyAllWindows()"
   ]
  },
  {
   "cell_type": "code",
   "execution_count": 5,
   "id": "3c150ff7-8bec-4680-94bb-6bf4d1aa39c1",
   "metadata": {},
   "outputs": [],
   "source": [
    "import math\n",
    "def closest_point(original0, original1, new):\n",
    "    \"\"\"Returns the index (0 or 1) of the point\"\"\"\n",
    "    # Calculate distances between the new tuple and the original tuples\n",
    "    distance0 = math.sqrt((new[0] - original0[0])**2 + (new[1] - original0[1])**2)\n",
    "    distance1 = math.sqrt((new[0] - original1[0])**2 + (new[1] - original1[1])**2)\n",
    "    \n",
    "    # Check which original tuple is closer and replace it with the new tuple\n",
    "    return 0 if distance0 < distance1 else 1"
   ]
  },
  {
   "cell_type": "code",
   "execution_count": 20,
   "id": "6a11de31-502a-4740-88aa-bbf04ec1800e",
   "metadata": {},
   "outputs": [],
   "source": [
    "def get_specific_frame(video_path, frame_number, size=1):\n",
    "    \"\"\"Shows a specific frame number\"\"\"\n",
    "    cv2.namedWindow('Frame')\n",
    "\n",
    "    cap = cv2.VideoCapture(video_path)\n",
    "    cap.set(cv2.CAP_PROP_POS_FRAMES, frame_number)\n",
    "    \n",
    "    rect_corners = []\n",
    "    def redraw_frame_with_rectangle(frame, mousetype, x, y, rect_corners):\n",
    "        if len(rect_corners) < 2:\n",
    "            rect_corners.append((x,y))\n",
    "        else:\n",
    "            idx = closest_point(rect_corners[0], rect_corners[1], (x,y))\n",
    "            rect_corners[idx] = (x,y)\n",
    "\n",
    "        if len(rect_corners) == 1:\n",
    "            x1 = (x,y)\n",
    "            x22, x21 = frame.shape[0:2]\n",
    "            x2 = (x21, x22)\n",
    "        else:\n",
    "            x1 = rect_corners[0]\n",
    "            x2 = rect_corners[1]\n",
    "\n",
    "        frame_w_rect = cv2.rectangle(frame.copy(), x1, x2, [0,255,0])\n",
    "        cv2.imshow('Frame', frame_w_rect)\n",
    "      \n",
    "\n",
    "    ret, frame = cap.read()\n",
    "    idx = 0\n",
    "    cv2.setMouseCallback('Frame', lambda a, b, c, d, e: redraw_frame_with_rectangle(frame, a, b, c, rect_corners) if a == 1 else None)\n",
    "\n",
    "    if ret:\n",
    "        if size != 1:\n",
    "            frame = cv2.resize(frame, None, fx=size, fy=size)\n",
    "        cv2.imshow('Frame', frame)\n",
    "        \n",
    "        \n",
    "        while cv2.waitKey(0) != ord('q'):\n",
    "            pass\n",
    "    else:\n",
    "        print(\"Frame not found.\")\n",
    "\n",
    "    cap.release()\n",
    "    cv2.destroyAllWindows()\n",
    "\n",
    "    def switch_rect_corners_if_needed(rect_corners):\n",
    "        if len(rect_corners) < 2:\n",
    "            return [(0,0),(0,0)]\n",
    "        idx = closest_point(rect_corners[0], rect_corners[1], (0,0))\n",
    "        return [rect_corners[idx], rect_corners[1-idx]]\n",
    "    \n",
    "    return switch_rect_corners_if_needed(rect_corners)"
   ]
  },
  {
   "cell_type": "code",
   "execution_count": 21,
   "id": "2db8fe12-97ca-4b29-8901-26b7a8d5b484",
   "metadata": {},
   "outputs": [
    {
     "data": {
      "text/plain": [
       "896"
      ]
     },
     "execution_count": 21,
     "metadata": {},
     "output_type": "execute_result"
    }
   ],
   "source": [
    "video = \"20240209_atelier_006.mp4\"\n",
    "video_path = 'videos/' + video  # Change to your video file path\n",
    "image_path = 'images/' + video\n",
    "framecount(video_path)"
   ]
  },
  {
   "cell_type": "code",
   "execution_count": 22,
   "id": "dcb010b9-22f2-4c96-bcc3-172278a00a66",
   "metadata": {},
   "outputs": [
    {
     "data": {
      "text/plain": [
       "[(0, 0), (0, 0)]"
      ]
     },
     "execution_count": 22,
     "metadata": {},
     "output_type": "execute_result"
    }
   ],
   "source": [
    "get_specific_frame(video_path, 10, 0.5)"
   ]
  },
  {
   "cell_type": "code",
   "execution_count": null,
   "id": "7f75766f-b471-402e-8a76-336724edb686",
   "metadata": {},
   "outputs": [],
   "source": []
  },
  {
   "cell_type": "code",
   "execution_count": null,
   "id": "3228759c-507f-4b37-837f-4d3261f2f8e0",
   "metadata": {},
   "outputs": [],
   "source": [
    "# Label videos"
   ]
  },
  {
   "cell_type": "code",
   "execution_count": 23,
   "id": "f662013b-536f-435b-adf0-c635339f8efe",
   "metadata": {},
   "outputs": [],
   "source": [
    "import random\n",
    "frame_rectangles = {}\n",
    "def label_videos():\n",
    "    for i in range(20):\n",
    "        fid = random.randint(0, framecount(video_path))\n",
    "        rectangle_coords = get_specific_frame(video_path, fid, 0.5)\n",
    "        frame_rectangles[fid] = rectangle_coords"
   ]
  },
  {
   "cell_type": "code",
   "execution_count": 33,
   "id": "60d04cc5-cad7-4181-8871-bb20f4361404",
   "metadata": {},
   "outputs": [],
   "source": [
    "label_videos()"
   ]
  },
  {
   "cell_type": "code",
   "execution_count": 32,
   "id": "d92274a6-85c9-47b0-9337-3a4450efdceb",
   "metadata": {},
   "outputs": [
    {
     "data": {
      "text/plain": [
       "{810: [(0, 0), (0, 0)],\n",
       " 754: [(23, 366), (220, 766)],\n",
       " 22: [(0, 0), (0, 0)],\n",
       " 185: [(309, 395), (120, 759)],\n",
       " 571: [(238, 414), (102, 751)],\n",
       " 893: [(0, 0), (0, 0)],\n",
       " 229: [(84, 409), (261, 725)],\n",
       " 805: [(0, 0), (0, 0)],\n",
       " 259: [(316, 418), (122, 747)],\n",
       " 464: [(241, 409), (89, 757)],\n",
       " 799: [(0, 0), (0, 0)],\n",
       " 852: [(0, 0), (0, 0)],\n",
       " 456: [(54, 437), (222, 748)],\n",
       " 326: [(281, 393), (99, 735)],\n",
       " 675: [(30, 414), (232, 773)],\n",
       " 816: [(0, 0), (0, 0)],\n",
       " 395: [(80, 437), (278, 738)],\n",
       " 183: [(307, 408), (110, 748)],\n",
       " 288: [(252, 434), (56, 731)],\n",
       " 752: [(36, 306), (223, 768)]}"
      ]
     },
     "execution_count": 32,
     "metadata": {},
     "output_type": "execute_result"
    }
   ],
   "source": [
    "frame_rectangles"
   ]
  },
  {
   "cell_type": "code",
   "execution_count": 36,
   "id": "34721602-8f19-4f77-9d40-c5de8065e9a5",
   "metadata": {},
   "outputs": [
    {
     "data": {
      "text/plain": [
       "{22: [(0, 0), (0, 0)],\n",
       " 44: [(0, 0), (0, 0)],\n",
       " 47: [(0, 0), (0, 0)],\n",
       " 68: [(273, 424), (2, 956)],\n",
       " 109: [(262, 413), (95, 794)],\n",
       " 156: [(314, 360), (107, 773)],\n",
       " 165: [(288, 411), (111, 751)],\n",
       " 183: [(108, 407), (313, 744)],\n",
       " 185: [(309, 395), (120, 759)],\n",
       " 202: [(259, 430), (145, 755)],\n",
       " 229: [(84, 409), (261, 725)],\n",
       " 259: [(316, 418), (122, 747)],\n",
       " 267: [(291, 412), (136, 742)],\n",
       " 273: [(253, 426), (150, 747)],\n",
       " 288: [(258, 429), (55, 731)],\n",
       " 315: [(280, 425), (90, 735)],\n",
       " 326: [(281, 393), (99, 735)],\n",
       " 395: [(85, 428), (281, 741)],\n",
       " 456: [(54, 437), (222, 748)],\n",
       " 464: [(241, 409), (89, 757)],\n",
       " 504: [(266, 431), (73, 762)],\n",
       " 571: [(238, 414), (102, 751)],\n",
       " 607: [(46, 364), (240, 767)],\n",
       " 634: [(255, 402), (41, 767)],\n",
       " 675: [(30, 414), (232, 773)],\n",
       " 729: [(262, 384), (21, 784)],\n",
       " 752: [(36, 306), (223, 768)],\n",
       " 754: [(23, 366), (220, 766)],\n",
       " 799: [(0, 0), (0, 0)],\n",
       " 805: [(0, 0), (0, 0)],\n",
       " 810: [(0, 0), (0, 0)],\n",
       " 816: [(0, 0), (0, 0)],\n",
       " 845: [(0, 0), (0, 0)],\n",
       " 852: [(0, 0), (0, 0)],\n",
       " 876: [(0, 0), (0, 0)],\n",
       " 893: [(0, 0), (0, 0)]}"
      ]
     },
     "execution_count": 36,
     "metadata": {},
     "output_type": "execute_result"
    }
   ],
   "source": [
    "ordered_dict = dict(sorted(frame_rectangles.items()))\n",
    "ordered_dict"
   ]
  },
  {
   "cell_type": "code",
   "execution_count": 38,
   "id": "1e9abc2c-4e61-4963-ae2a-ee11b6dcd33c",
   "metadata": {},
   "outputs": [],
   "source": [
    "import pickle\n",
    "\n",
    "with open('rectangles_atelier_006.pkl', 'wb') as f:\n",
    "    pickle.dump(ordered_dict, f)\n",
    "    f.close()"
   ]
  },
  {
   "cell_type": "code",
   "execution_count": null,
   "id": "f0c79866-1c29-4953-8c94-d27b0458e6a1",
   "metadata": {},
   "outputs": [],
   "source": []
  }
 ],
 "metadata": {
  "kernelspec": {
   "display_name": "Python 3 (ipykernel)",
   "language": "python",
   "name": "python3"
  },
  "language_info": {
   "codemirror_mode": {
    "name": "ipython",
    "version": 3
   },
   "file_extension": ".py",
   "mimetype": "text/x-python",
   "name": "python",
   "nbconvert_exporter": "python",
   "pygments_lexer": "ipython3",
   "version": "3.10.12"
  }
 },
 "nbformat": 4,
 "nbformat_minor": 5
}
