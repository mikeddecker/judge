{
 "cells": [
  {
   "cell_type": "code",
   "execution_count": 1,
   "id": "3558cde1-6093-40b8-b821-c4b617f5d901",
   "metadata": {},
   "outputs": [],
   "source": [
    "from utils_misc import pickle_load_or_create, pickle_save\n",
    "import json"
   ]
  },
  {
   "cell_type": "code",
   "execution_count": 2,
   "id": "80d0a5ff-9a58-47fa-809e-4798dea687db",
   "metadata": {},
   "outputs": [],
   "source": [
    "# Define your config\n",
    "config_to_load = 'config/cnn_default'"
   ]
  },
  {
   "cell_type": "code",
   "execution_count": 3,
   "id": "66d189ff-1ce5-4f1d-8244-747bc7c73a46",
   "metadata": {},
   "outputs": [],
   "source": [
    "def my_configuration():\n",
    "    return {\n",
    "        'dim' : 128,\n",
    "        'rgb' : True,\n",
    "        'convolution' : [(3,3),(3,3),(3,3)]\n",
    "    }"
   ]
  },
  {
   "cell_type": "code",
   "execution_count": 4,
   "id": "1cede0f6-150a-4375-8ffd-c46a10e289d9",
   "metadata": {},
   "outputs": [
    {
     "data": {
      "text/plain": [
       "{'dim': 64, 'rgb': True, 'convolution': [(3, 3), (3, 3), (3, 3)]}"
      ]
     },
     "execution_count": 4,
     "metadata": {},
     "output_type": "execute_result"
    }
   ],
   "source": [
    "config = pickle_load_or_create(config_to_load, lambda: {}, config=True)\n",
    "config"
   ]
  },
  {
   "cell_type": "code",
   "execution_count": 5,
   "id": "1c15812a-ef21-48f8-a80a-cb5adb5e01f7",
   "metadata": {},
   "outputs": [
    {
     "data": {
      "text/plain": [
       "{'dim': 128, 'rgb': True, 'convolution': [(3, 3), (3, 3), (3, 3)]}"
      ]
     },
     "execution_count": 5,
     "metadata": {},
     "output_type": "execute_result"
    }
   ],
   "source": [
    "config = my_configuration()\n",
    "config"
   ]
  },
  {
   "cell_type": "code",
   "execution_count": 6,
   "id": "10f6d4f8-e05c-4db8-b8cf-115ba3d428bc",
   "metadata": {},
   "outputs": [],
   "source": [
    "pickle_save(config_to_load, config, config=True)"
   ]
  },
  {
   "cell_type": "code",
   "execution_count": null,
   "id": "4a553fe1-985f-46cd-8ad3-6153d62d272c",
   "metadata": {},
   "outputs": [],
   "source": []
  },
  {
   "cell_type": "code",
   "execution_count": null,
   "id": "4a61bc2f-c9f2-41ea-ac4b-680d5268a246",
   "metadata": {},
   "outputs": [],
   "source": []
  },
  {
   "cell_type": "code",
   "execution_count": 3,
   "id": "1989b43e-4b9c-4590-94ad-71769a1f8213",
   "metadata": {},
   "outputs": [],
   "source": [
    "video_border_labels_path = 'df_video_border_labels_seq'\n",
    "\n",
    "video_folder = '../videos/'\n",
    "\n",
    "video_names = [\n",
    "    '20240201_atelier_001.mp4',\n",
    "    '20240201_atelier_002.mp4',\n",
    "    '20240201_atelier_003.mp4',\n",
    "    '20240201_atelier_004.mp4',\n",
    "    '20240201_atelier_005.mp4',\n",
    "    '20240209_atelier_006.mp4',\n",
    "    '20240209_atelier_007.mp4',\n",
    "    '20240209_atelier_008.mp4',\n",
    "]\n",
    "\n"
   ]
  },
  {
   "cell_type": "code",
   "execution_count": 13,
   "id": "ff3bcf7f-548b-4852-b51b-721d9dd96314",
   "metadata": {},
   "outputs": [
    {
     "data": {
      "text/plain": [
       "{'video': {'df_frame_labels_path': 'df_video_border_labels_seq',\n",
       "  'folder': '../videos/',\n",
       "  'train_names': ['20240201_atelier_001.mp4',\n",
       "   '20240201_atelier_002.mp4',\n",
       "   '20240201_atelier_003.mp4',\n",
       "   '20240201_atelier_004.mp4',\n",
       "   '20240201_atelier_005.mp4',\n",
       "   '20240209_atelier_006.mp4',\n",
       "   '20240209_atelier_007.mp4',\n",
       "   '20240209_atelier_008.mp4'],\n",
       "  'test_names': ['20240209_atelier_009.mp4']}}"
      ]
     },
     "execution_count": 13,
     "metadata": {},
     "output_type": "execute_result"
    }
   ],
   "source": [
    "r = {\n",
    "    'video': {\n",
    "        'df_frame_labels_path': 'df_video_border_labels_seq', \n",
    "        'folder': '../videos/',\n",
    "        'train_names': video_names,\n",
    "        'test_names': ['20240209_atelier_009.mp4']\n",
    "    }\n",
    "}\n",
    "r = json.dumps(r)\n",
    "loaded_r = json.loads(r)\n",
    "loaded_r #Output 3.5\n"
   ]
  },
  {
   "cell_type": "code",
   "execution_count": 14,
   "id": "686b2bae-cc94-4f98-8549-fd2af317347e",
   "metadata": {},
   "outputs": [
    {
     "data": {
      "text/plain": [
       "str"
      ]
     },
     "execution_count": 14,
     "metadata": {},
     "output_type": "execute_result"
    }
   ],
   "source": [
    "type(r) #Output str"
   ]
  },
  {
   "cell_type": "code",
   "execution_count": 15,
   "id": "bc510592-28f7-4797-ae6c-35a26ee7359f",
   "metadata": {},
   "outputs": [
    {
     "data": {
      "text/plain": [
       "dict"
      ]
     },
     "execution_count": 15,
     "metadata": {},
     "output_type": "execute_result"
    }
   ],
   "source": [
    "type(loaded_r) #Output dict"
   ]
  },
  {
   "cell_type": "code",
   "execution_count": 16,
   "id": "932f1f67-9f84-4506-b8f0-ecc364dc110f",
   "metadata": {},
   "outputs": [],
   "source": [
    "with open(\"config/video_config.json\", \"w\") as outfile:\n",
    "    outfile.write(r)"
   ]
  },
  {
   "cell_type": "code",
   "execution_count": null,
   "id": "55059b6b-d344-4853-8c7e-456a5a666574",
   "metadata": {},
   "outputs": [],
   "source": []
  }
 ],
 "metadata": {
  "kernelspec": {
   "display_name": "Python 3 (ipykernel)",
   "language": "python",
   "name": "python3"
  },
  "language_info": {
   "codemirror_mode": {
    "name": "ipython",
    "version": 3
   },
   "file_extension": ".py",
   "mimetype": "text/x-python",
   "name": "python",
   "nbconvert_exporter": "python",
   "pygments_lexer": "ipython3",
   "version": "3.10.12"
  }
 },
 "nbformat": 4,
 "nbformat_minor": 5
}
