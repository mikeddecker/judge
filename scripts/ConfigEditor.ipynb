{
 "cells": [
  {
   "cell_type": "code",
   "execution_count": 1,
   "id": "3558cde1-6093-40b8-b821-c4b617f5d901",
   "metadata": {},
   "outputs": [],
   "source": [
    "from utils_misc import pickle_load_or_create, pickle_save"
   ]
  },
  {
   "cell_type": "code",
   "execution_count": 16,
   "id": "80d0a5ff-9a58-47fa-809e-4798dea687db",
   "metadata": {},
   "outputs": [],
   "source": [
    "# Define your config\n",
    "config_to_load = 'cnn_default'"
   ]
  },
  {
   "cell_type": "code",
   "execution_count": 17,
   "id": "66d189ff-1ce5-4f1d-8244-747bc7c73a46",
   "metadata": {},
   "outputs": [],
   "source": [
    "def my_configuration():\n",
    "    return {\n",
    "        'dim' : 64,\n",
    "        'rgb' : True,\n",
    "        'convolution' : [(3,3),(3,3),(3,3)]\n",
    "    }"
   ]
  },
  {
   "cell_type": "code",
   "execution_count": 18,
   "id": "1cede0f6-150a-4375-8ffd-c46a10e289d9",
   "metadata": {},
   "outputs": [
    {
     "data": {
      "text/plain": [
       "{}"
      ]
     },
     "execution_count": 18,
     "metadata": {},
     "output_type": "execute_result"
    }
   ],
   "source": [
    "config = pickle_load_or_create(config_to_load, lambda: {}, config=True)\n",
    "config"
   ]
  },
  {
   "cell_type": "code",
   "execution_count": 19,
   "id": "1c15812a-ef21-48f8-a80a-cb5adb5e01f7",
   "metadata": {},
   "outputs": [
    {
     "data": {
      "text/plain": [
       "{'dim': 64, 'rgb': True, 'convolution': [(3, 3), (3, 3), (3, 3)]}"
      ]
     },
     "execution_count": 19,
     "metadata": {},
     "output_type": "execute_result"
    }
   ],
   "source": [
    "config = my_configuration()\n",
    "config"
   ]
  },
  {
   "cell_type": "code",
   "execution_count": 20,
   "id": "10f6d4f8-e05c-4db8-b8cf-115ba3d428bc",
   "metadata": {},
   "outputs": [],
   "source": [
    "pickle_save(config_to_load, config, config=True)"
   ]
  },
  {
   "cell_type": "code",
   "execution_count": null,
   "id": "4a553fe1-985f-46cd-8ad3-6153d62d272c",
   "metadata": {},
   "outputs": [],
   "source": []
  }
 ],
 "metadata": {
  "kernelspec": {
   "display_name": "Python 3 (ipykernel)",
   "language": "python",
   "name": "python3"
  },
  "language_info": {
   "codemirror_mode": {
    "name": "ipython",
    "version": 3
   },
   "file_extension": ".py",
   "mimetype": "text/x-python",
   "name": "python",
   "nbconvert_exporter": "python",
   "pygments_lexer": "ipython3",
   "version": "3.10.12"
  }
 },
 "nbformat": 4,
 "nbformat_minor": 5
}
