{
 "cells": [
  {
   "cell_type": "code",
   "execution_count": 1,
   "id": "d46cd2f2-ccd7-4a7e-8725-cab1b9b4c4d2",
   "metadata": {},
   "outputs": [],
   "source": [
    "# keras CNN predict air, between, ground or not jumping"
   ]
  },
  {
   "cell_type": "code",
   "execution_count": 2,
   "id": "866d8eb0-81e5-493a-aac8-c56f0b4aeea5",
   "metadata": {},
   "outputs": [
    {
     "name": "stdout",
     "output_type": "stream",
     "text": [
      "Defaulting to user installation because normal site-packages is not writeable\n",
      "Requirement already satisfied: tensorflow in /home/miked/.local/lib/python3.10/site-packages (2.16.1)\n",
      "Requirement already satisfied: wrapt>=1.11.0 in /home/miked/.local/lib/python3.10/site-packages (from tensorflow) (1.16.0)\n",
      "Requirement already satisfied: google-pasta>=0.1.1 in /home/miked/.local/lib/python3.10/site-packages (from tensorflow) (0.2.0)\n",
      "Requirement already satisfied: opt-einsum>=2.3.2 in /home/miked/.local/lib/python3.10/site-packages (from tensorflow) (3.3.0)\n",
      "Requirement already satisfied: tensorboard<2.17,>=2.16 in /home/miked/.local/lib/python3.10/site-packages (from tensorflow) (2.16.2)\n",
      "Requirement already satisfied: ml-dtypes~=0.3.1 in /home/miked/.local/lib/python3.10/site-packages (from tensorflow) (0.3.2)\n",
      "Requirement already satisfied: six>=1.12.0 in /usr/lib/python3/dist-packages (from tensorflow) (1.16.0)\n",
      "Requirement already satisfied: h5py>=3.10.0 in /home/miked/.local/lib/python3.10/site-packages (from tensorflow) (3.11.0)\n",
      "Requirement already satisfied: keras>=3.0.0 in /home/miked/.local/lib/python3.10/site-packages (from tensorflow) (3.3.3)\n",
      "Requirement already satisfied: libclang>=13.0.0 in /home/miked/.local/lib/python3.10/site-packages (from tensorflow) (18.1.1)\n",
      "Requirement already satisfied: requests<3,>=2.21.0 in /home/miked/.local/lib/python3.10/site-packages (from tensorflow) (2.31.0)\n",
      "Requirement already satisfied: setuptools in /home/miked/.local/lib/python3.10/site-packages (from tensorflow) (70.0.0)\n",
      "Requirement already satisfied: protobuf!=4.21.0,!=4.21.1,!=4.21.2,!=4.21.3,!=4.21.4,!=4.21.5,<5.0.0dev,>=3.20.3 in /home/miked/.local/lib/python3.10/site-packages (from tensorflow) (4.25.3)\n",
      "Requirement already satisfied: tensorflow-io-gcs-filesystem>=0.23.1 in /home/miked/.local/lib/python3.10/site-packages (from tensorflow) (0.37.0)\n",
      "Requirement already satisfied: typing-extensions>=3.6.6 in /home/miked/.local/lib/python3.10/site-packages (from tensorflow) (4.9.0)\n",
      "Requirement already satisfied: astunparse>=1.6.0 in /home/miked/.local/lib/python3.10/site-packages (from tensorflow) (1.6.3)\n",
      "Requirement already satisfied: numpy<2.0.0,>=1.23.5 in /home/miked/.local/lib/python3.10/site-packages (from tensorflow) (1.26.4)\n",
      "Requirement already satisfied: flatbuffers>=23.5.26 in /home/miked/.local/lib/python3.10/site-packages (from tensorflow) (24.3.25)\n",
      "Requirement already satisfied: grpcio<2.0,>=1.24.3 in /home/miked/.local/lib/python3.10/site-packages (from tensorflow) (1.64.1)\n",
      "Requirement already satisfied: packaging in /home/miked/.local/lib/python3.10/site-packages (from tensorflow) (23.2)\n",
      "Requirement already satisfied: absl-py>=1.0.0 in /home/miked/.local/lib/python3.10/site-packages (from tensorflow) (2.1.0)\n",
      "Requirement already satisfied: termcolor>=1.1.0 in /home/miked/.local/lib/python3.10/site-packages (from tensorflow) (2.4.0)\n",
      "Requirement already satisfied: gast!=0.5.0,!=0.5.1,!=0.5.2,>=0.2.1 in /home/miked/.local/lib/python3.10/site-packages (from tensorflow) (0.5.4)\n",
      "Requirement already satisfied: wheel<1.0,>=0.23.0 in /usr/lib/python3/dist-packages (from astunparse>=1.6.0->tensorflow) (0.37.1)\n",
      "Requirement already satisfied: namex in /home/miked/.local/lib/python3.10/site-packages (from keras>=3.0.0->tensorflow) (0.0.8)\n",
      "Requirement already satisfied: optree in /home/miked/.local/lib/python3.10/site-packages (from keras>=3.0.0->tensorflow) (0.11.0)\n",
      "Requirement already satisfied: rich in /home/miked/.local/lib/python3.10/site-packages (from keras>=3.0.0->tensorflow) (13.7.1)\n",
      "Requirement already satisfied: certifi>=2017.4.17 in /usr/lib/python3/dist-packages (from requests<3,>=2.21.0->tensorflow) (2020.6.20)\n",
      "Requirement already satisfied: idna<4,>=2.5 in /usr/lib/python3/dist-packages (from requests<3,>=2.21.0->tensorflow) (3.3)\n",
      "Requirement already satisfied: charset-normalizer<4,>=2 in /home/miked/.local/lib/python3.10/site-packages (from requests<3,>=2.21.0->tensorflow) (3.3.2)\n",
      "Requirement already satisfied: urllib3<3,>=1.21.1 in /usr/lib/python3/dist-packages (from requests<3,>=2.21.0->tensorflow) (1.26.5)\n",
      "Requirement already satisfied: markdown>=2.6.8 in /home/miked/.local/lib/python3.10/site-packages (from tensorboard<2.17,>=2.16->tensorflow) (3.6)\n",
      "Requirement already satisfied: werkzeug>=1.0.1 in /home/miked/.local/lib/python3.10/site-packages (from tensorboard<2.17,>=2.16->tensorflow) (3.0.3)\n",
      "Requirement already satisfied: tensorboard-data-server<0.8.0,>=0.7.0 in /home/miked/.local/lib/python3.10/site-packages (from tensorboard<2.17,>=2.16->tensorflow) (0.7.2)\n",
      "Requirement already satisfied: MarkupSafe>=2.1.1 in /home/miked/.local/lib/python3.10/site-packages (from werkzeug>=1.0.1->tensorboard<2.17,>=2.16->tensorflow) (2.1.5)\n",
      "Requirement already satisfied: markdown-it-py>=2.2.0 in /home/miked/.local/lib/python3.10/site-packages (from rich->keras>=3.0.0->tensorflow) (3.0.0)\n",
      "Requirement already satisfied: pygments<3.0.0,>=2.13.0 in /home/miked/.local/lib/python3.10/site-packages (from rich->keras>=3.0.0->tensorflow) (2.17.2)\n",
      "Requirement already satisfied: mdurl~=0.1 in /home/miked/.local/lib/python3.10/site-packages (from markdown-it-py>=2.2.0->rich->keras>=3.0.0->tensorflow) (0.1.2)\n"
     ]
    }
   ],
   "source": [
    "!pip3 install tensorflow"
   ]
  },
  {
   "cell_type": "code",
   "execution_count": 3,
   "id": "ec73ef6e-5e7e-4e46-be92-312f781394ec",
   "metadata": {},
   "outputs": [
    {
     "name": "stderr",
     "output_type": "stream",
     "text": [
      "2024-06-11 09:50:15.144230: I tensorflow/core/util/port.cc:113] oneDNN custom operations are on. You may see slightly different numerical results due to floating-point round-off errors from different computation orders. To turn them off, set the environment variable `TF_ENABLE_ONEDNN_OPTS=0`.\n",
      "2024-06-11 09:50:15.183498: I tensorflow/core/platform/cpu_feature_guard.cc:210] This TensorFlow binary is optimized to use available CPU instructions in performance-critical operations.\n",
      "To enable the following instructions: AVX2 AVX512F AVX512_VNNI FMA, in other operations, rebuild TensorFlow with the appropriate compiler flags.\n",
      "2024-06-11 09:50:15.831956: W tensorflow/compiler/tf2tensorrt/utils/py_utils.cc:38] TF-TRT Warning: Could not find TensorRT\n"
     ]
    }
   ],
   "source": [
    "import tensorflow as tf\n",
    "\n",
    "from tensorflow.keras import datasets, layers, models\n",
    "import numpy as np\n",
    "import pandas as pd\n",
    "import matplotlib.pyplot as plt\n",
    "import cv2\n",
    "import os\n",
    "import pickle\n",
    "\n",
    "from my_classes import DataGeneratorSkillBorders"
   ]
  },
  {
   "cell_type": "code",
   "execution_count": 5,
   "id": "1a6d6673-97aa-4ce5-96e8-99ac3c381e5d",
   "metadata": {},
   "outputs": [],
   "source": [
    "video_border_labels_path = '../data/df_video_border_labels.pkl'\n",
    "video_folder = '../videos/'\n",
    "\n",
    "video_names = [\n",
    "    '20240201_atelier_001.mp4',\n",
    "    '20240201_atelier_002.mp4',\n",
    "    '20240201_atelier_003.mp4',\n",
    "    '20240201_atelier_004.mp4',\n",
    "    '20240201_atelier_005.mp4',\n",
    "    '20240209_atelier_006.mp4',\n",
    "    '20240209_atelier_007.mp4',\n",
    "    '20240209_atelier_008.mp4',\n",
    "]\n",
    "\n",
    "train_videos = [ video_folder + trainvid for trainvid in video_names]"
   ]
  },
  {
   "cell_type": "code",
   "execution_count": 6,
   "id": "81b6daf1-ef2e-43c1-95d8-2a960b07955a",
   "metadata": {},
   "outputs": [],
   "source": [
    "def pickle_load_or_create(path, cols):\n",
    "    if os.path.exists(path):\n",
    "        with open(path, 'rb') as file:\n",
    "            return pickle.load(file)\n",
    "    else:\n",
    "        return pd.DataFrame(columns=cols)"
   ]
  },
  {
   "cell_type": "code",
   "execution_count": 7,
   "id": "dc0f1b86-5e84-450c-9a2d-6c1d757739fc",
   "metadata": {},
   "outputs": [
    {
     "data": {
      "text/html": [
       "<div>\n",
       "<style scoped>\n",
       "    .dataframe tbody tr th:only-of-type {\n",
       "        vertical-align: middle;\n",
       "    }\n",
       "\n",
       "    .dataframe tbody tr th {\n",
       "        vertical-align: top;\n",
       "    }\n",
       "\n",
       "    .dataframe thead th {\n",
       "        text-align: right;\n",
       "    }\n",
       "</style>\n",
       "<table border=\"1\" class=\"dataframe\">\n",
       "  <thead>\n",
       "    <tr style=\"text-align: right;\">\n",
       "      <th></th>\n",
       "      <th>path</th>\n",
       "      <th>frame</th>\n",
       "      <th>border</th>\n",
       "    </tr>\n",
       "  </thead>\n",
       "  <tbody>\n",
       "    <tr>\n",
       "      <th>0</th>\n",
       "      <td>20240209_atelier_006.mp4</td>\n",
       "      <td>745</td>\n",
       "      <td>0</td>\n",
       "    </tr>\n",
       "    <tr>\n",
       "      <th>1</th>\n",
       "      <td>20240209_atelier_007.mp4</td>\n",
       "      <td>103</td>\n",
       "      <td>0</td>\n",
       "    </tr>\n",
       "    <tr>\n",
       "      <th>2</th>\n",
       "      <td>20240201_atelier_002.mp4</td>\n",
       "      <td>91</td>\n",
       "      <td>0</td>\n",
       "    </tr>\n",
       "    <tr>\n",
       "      <th>3</th>\n",
       "      <td>20240201_atelier_004.mp4</td>\n",
       "      <td>806</td>\n",
       "      <td>2</td>\n",
       "    </tr>\n",
       "    <tr>\n",
       "      <th>4</th>\n",
       "      <td>20240201_atelier_003.mp4</td>\n",
       "      <td>622</td>\n",
       "      <td>2</td>\n",
       "    </tr>\n",
       "    <tr>\n",
       "      <th>...</th>\n",
       "      <td>...</td>\n",
       "      <td>...</td>\n",
       "      <td>...</td>\n",
       "    </tr>\n",
       "    <tr>\n",
       "      <th>727</th>\n",
       "      <td>20240201_atelier_004.mp4</td>\n",
       "      <td>2057</td>\n",
       "      <td>9</td>\n",
       "    </tr>\n",
       "    <tr>\n",
       "      <th>728</th>\n",
       "      <td>20240201_atelier_001.mp4</td>\n",
       "      <td>517</td>\n",
       "      <td>2</td>\n",
       "    </tr>\n",
       "    <tr>\n",
       "      <th>729</th>\n",
       "      <td>20240201_atelier_001.mp4</td>\n",
       "      <td>215</td>\n",
       "      <td>0</td>\n",
       "    </tr>\n",
       "    <tr>\n",
       "      <th>730</th>\n",
       "      <td>20240201_atelier_001.mp4</td>\n",
       "      <td>633</td>\n",
       "      <td>9</td>\n",
       "    </tr>\n",
       "    <tr>\n",
       "      <th>731</th>\n",
       "      <td>20240201_atelier_004.mp4</td>\n",
       "      <td>976</td>\n",
       "      <td>0</td>\n",
       "    </tr>\n",
       "  </tbody>\n",
       "</table>\n",
       "<p>732 rows × 3 columns</p>\n",
       "</div>"
      ],
      "text/plain": [
       "                         path  frame  border\n",
       "0    20240209_atelier_006.mp4    745       0\n",
       "1    20240209_atelier_007.mp4    103       0\n",
       "2    20240201_atelier_002.mp4     91       0\n",
       "3    20240201_atelier_004.mp4    806       2\n",
       "4    20240201_atelier_003.mp4    622       2\n",
       "..                        ...    ...     ...\n",
       "727  20240201_atelier_004.mp4   2057       9\n",
       "728  20240201_atelier_001.mp4    517       2\n",
       "729  20240201_atelier_001.mp4    215       0\n",
       "730  20240201_atelier_001.mp4    633       9\n",
       "731  20240201_atelier_004.mp4    976       0\n",
       "\n",
       "[732 rows x 3 columns]"
      ]
     },
     "execution_count": 7,
     "metadata": {},
     "output_type": "execute_result"
    }
   ],
   "source": [
    "df_labels = pickle_load_or_create(video_border_labels_path, [])\n",
    "df_labels"
   ]
  },
  {
   "cell_type": "code",
   "execution_count": 8,
   "id": "0b8a2b2e-107a-4a68-b41c-6487480f38a9",
   "metadata": {},
   "outputs": [],
   "source": [
    "df_labels.loc[df_labels.border == 5, 'border'] = 3\n",
    "df_labels.loc[df_labels.border == 9, 'border'] = 4"
   ]
  },
  {
   "cell_type": "code",
   "execution_count": 9,
   "id": "518bced6-0e6d-4e21-85ac-7cb83f28532a",
   "metadata": {},
   "outputs": [],
   "source": [
    "def get_random_frame(videos, grey=True, scale=1):\n",
    "    \"\"\"\n",
    "    videos: array of video_paths\n",
    "    df_video_border_labels: panda dataframe ['path', 'frame', 'borderlabel']\n",
    "          0 : ground\n",
    "          1 : heels of ground\n",
    "          2 : air\n",
    "          3 : Fault\n",
    "          4 : no skipper or not jumping\n",
    "    \"\"\"\n",
    "    path = videos[np.random.randint(0, len(videos)-1)]\n",
    "    \n",
    "    cap = cv2.VideoCapture(path)\n",
    "    video_length = int(cap.get(cv2.CAP_PROP_FRAME_COUNT))\n",
    "    \n",
    "    frame_nr = np.random.randint(0, video_length-1)\n",
    "    \n",
    "    cap.set(cv2.CAP_PROP_POS_FRAMES, frame_nr)\n",
    "    res, frame = cap.read()\n",
    "    frame = cv2.resize(frame, dsize=(0,0), fx=scale, fy=scale)\n",
    "    # frame = cv2.cvtColor(frame, 7)\n",
    "    cap.release()\n",
    "    # cv2.destroyAllWindows()\n",
    "\n",
    "    return path, frame_nr, frame"
   ]
  },
  {
   "cell_type": "code",
   "execution_count": 10,
   "id": "ab5f5ad6-b1e3-47f7-96c1-805a5fc28362",
   "metadata": {},
   "outputs": [
    {
     "data": {
      "text/plain": [
       "(768, 432, 3)"
      ]
     },
     "execution_count": 10,
     "metadata": {},
     "output_type": "execute_result"
    }
   ],
   "source": [
    "input_shape = get_random_frame(train_videos, grey=True, scale=0.4)[2].shape\n",
    "input_shape"
   ]
  },
  {
   "cell_type": "code",
   "execution_count": 11,
   "id": "f00a61df-44c3-4d38-8e1b-7e6c83efe953",
   "metadata": {},
   "outputs": [
    {
     "name": "stderr",
     "output_type": "stream",
     "text": [
      "/home/miked/.local/lib/python3.10/site-packages/keras/src/layers/convolutional/base_conv.py:107: UserWarning: Do not pass an `input_shape`/`input_dim` argument to a layer. When using Sequential models, prefer using an `Input(shape)` object as the first layer in the model instead.\n",
      "  super().__init__(activity_regularizer=activity_regularizer, **kwargs)\n"
     ]
    }
   ],
   "source": [
    "model = models.Sequential()\n",
    "model.add(layers.Conv2D(32, (3, 3), activation='relu', input_shape=(64,64,3)))\n",
    "model.add(layers.MaxPooling2D((2, 2)))\n",
    "model.add(layers.Conv2D(64, (3, 3), activation='relu'))\n",
    "model.add(layers.MaxPooling2D((2, 2)))\n",
    "model.add(layers.Conv2D(64, (3, 3), activation='relu'))\n"
   ]
  },
  {
   "cell_type": "code",
   "execution_count": 12,
   "id": "7ced48a4-4077-4fc0-bf25-ebc558c8fc12",
   "metadata": {},
   "outputs": [
    {
     "data": {
      "text/html": [
       "<pre style=\"white-space:pre;overflow-x:auto;line-height:normal;font-family:Menlo,'DejaVu Sans Mono',consolas,'Courier New',monospace\"><span style=\"font-weight: bold\">Model: \"sequential\"</span>\n",
       "</pre>\n"
      ],
      "text/plain": [
       "\u001b[1mModel: \"sequential\"\u001b[0m\n"
      ]
     },
     "metadata": {},
     "output_type": "display_data"
    },
    {
     "data": {
      "text/html": [
       "<pre style=\"white-space:pre;overflow-x:auto;line-height:normal;font-family:Menlo,'DejaVu Sans Mono',consolas,'Courier New',monospace\">┏━━━━━━━━━━━━━━━━━━━━━━━━━━━━━━━━━┳━━━━━━━━━━━━━━━━━━━━━━━━┳━━━━━━━━━━━━━━━┓\n",
       "┃<span style=\"font-weight: bold\"> Layer (type)                    </span>┃<span style=\"font-weight: bold\"> Output Shape           </span>┃<span style=\"font-weight: bold\">       Param # </span>┃\n",
       "┡━━━━━━━━━━━━━━━━━━━━━━━━━━━━━━━━━╇━━━━━━━━━━━━━━━━━━━━━━━━╇━━━━━━━━━━━━━━━┩\n",
       "│ conv2d (<span style=\"color: #0087ff; text-decoration-color: #0087ff\">Conv2D</span>)                 │ (<span style=\"color: #00d7ff; text-decoration-color: #00d7ff\">None</span>, <span style=\"color: #00af00; text-decoration-color: #00af00\">62</span>, <span style=\"color: #00af00; text-decoration-color: #00af00\">62</span>, <span style=\"color: #00af00; text-decoration-color: #00af00\">32</span>)     │           <span style=\"color: #00af00; text-decoration-color: #00af00\">896</span> │\n",
       "├─────────────────────────────────┼────────────────────────┼───────────────┤\n",
       "│ max_pooling2d (<span style=\"color: #0087ff; text-decoration-color: #0087ff\">MaxPooling2D</span>)    │ (<span style=\"color: #00d7ff; text-decoration-color: #00d7ff\">None</span>, <span style=\"color: #00af00; text-decoration-color: #00af00\">31</span>, <span style=\"color: #00af00; text-decoration-color: #00af00\">31</span>, <span style=\"color: #00af00; text-decoration-color: #00af00\">32</span>)     │             <span style=\"color: #00af00; text-decoration-color: #00af00\">0</span> │\n",
       "├─────────────────────────────────┼────────────────────────┼───────────────┤\n",
       "│ conv2d_1 (<span style=\"color: #0087ff; text-decoration-color: #0087ff\">Conv2D</span>)               │ (<span style=\"color: #00d7ff; text-decoration-color: #00d7ff\">None</span>, <span style=\"color: #00af00; text-decoration-color: #00af00\">29</span>, <span style=\"color: #00af00; text-decoration-color: #00af00\">29</span>, <span style=\"color: #00af00; text-decoration-color: #00af00\">64</span>)     │        <span style=\"color: #00af00; text-decoration-color: #00af00\">18,496</span> │\n",
       "├─────────────────────────────────┼────────────────────────┼───────────────┤\n",
       "│ max_pooling2d_1 (<span style=\"color: #0087ff; text-decoration-color: #0087ff\">MaxPooling2D</span>)  │ (<span style=\"color: #00d7ff; text-decoration-color: #00d7ff\">None</span>, <span style=\"color: #00af00; text-decoration-color: #00af00\">14</span>, <span style=\"color: #00af00; text-decoration-color: #00af00\">14</span>, <span style=\"color: #00af00; text-decoration-color: #00af00\">64</span>)     │             <span style=\"color: #00af00; text-decoration-color: #00af00\">0</span> │\n",
       "├─────────────────────────────────┼────────────────────────┼───────────────┤\n",
       "│ conv2d_2 (<span style=\"color: #0087ff; text-decoration-color: #0087ff\">Conv2D</span>)               │ (<span style=\"color: #00d7ff; text-decoration-color: #00d7ff\">None</span>, <span style=\"color: #00af00; text-decoration-color: #00af00\">12</span>, <span style=\"color: #00af00; text-decoration-color: #00af00\">12</span>, <span style=\"color: #00af00; text-decoration-color: #00af00\">64</span>)     │        <span style=\"color: #00af00; text-decoration-color: #00af00\">36,928</span> │\n",
       "└─────────────────────────────────┴────────────────────────┴───────────────┘\n",
       "</pre>\n"
      ],
      "text/plain": [
       "┏━━━━━━━━━━━━━━━━━━━━━━━━━━━━━━━━━┳━━━━━━━━━━━━━━━━━━━━━━━━┳━━━━━━━━━━━━━━━┓\n",
       "┃\u001b[1m \u001b[0m\u001b[1mLayer (type)                   \u001b[0m\u001b[1m \u001b[0m┃\u001b[1m \u001b[0m\u001b[1mOutput Shape          \u001b[0m\u001b[1m \u001b[0m┃\u001b[1m \u001b[0m\u001b[1m      Param #\u001b[0m\u001b[1m \u001b[0m┃\n",
       "┡━━━━━━━━━━━━━━━━━━━━━━━━━━━━━━━━━╇━━━━━━━━━━━━━━━━━━━━━━━━╇━━━━━━━━━━━━━━━┩\n",
       "│ conv2d (\u001b[38;5;33mConv2D\u001b[0m)                 │ (\u001b[38;5;45mNone\u001b[0m, \u001b[38;5;34m62\u001b[0m, \u001b[38;5;34m62\u001b[0m, \u001b[38;5;34m32\u001b[0m)     │           \u001b[38;5;34m896\u001b[0m │\n",
       "├─────────────────────────────────┼────────────────────────┼───────────────┤\n",
       "│ max_pooling2d (\u001b[38;5;33mMaxPooling2D\u001b[0m)    │ (\u001b[38;5;45mNone\u001b[0m, \u001b[38;5;34m31\u001b[0m, \u001b[38;5;34m31\u001b[0m, \u001b[38;5;34m32\u001b[0m)     │             \u001b[38;5;34m0\u001b[0m │\n",
       "├─────────────────────────────────┼────────────────────────┼───────────────┤\n",
       "│ conv2d_1 (\u001b[38;5;33mConv2D\u001b[0m)               │ (\u001b[38;5;45mNone\u001b[0m, \u001b[38;5;34m29\u001b[0m, \u001b[38;5;34m29\u001b[0m, \u001b[38;5;34m64\u001b[0m)     │        \u001b[38;5;34m18,496\u001b[0m │\n",
       "├─────────────────────────────────┼────────────────────────┼───────────────┤\n",
       "│ max_pooling2d_1 (\u001b[38;5;33mMaxPooling2D\u001b[0m)  │ (\u001b[38;5;45mNone\u001b[0m, \u001b[38;5;34m14\u001b[0m, \u001b[38;5;34m14\u001b[0m, \u001b[38;5;34m64\u001b[0m)     │             \u001b[38;5;34m0\u001b[0m │\n",
       "├─────────────────────────────────┼────────────────────────┼───────────────┤\n",
       "│ conv2d_2 (\u001b[38;5;33mConv2D\u001b[0m)               │ (\u001b[38;5;45mNone\u001b[0m, \u001b[38;5;34m12\u001b[0m, \u001b[38;5;34m12\u001b[0m, \u001b[38;5;34m64\u001b[0m)     │        \u001b[38;5;34m36,928\u001b[0m │\n",
       "└─────────────────────────────────┴────────────────────────┴───────────────┘\n"
      ]
     },
     "metadata": {},
     "output_type": "display_data"
    },
    {
     "data": {
      "text/html": [
       "<pre style=\"white-space:pre;overflow-x:auto;line-height:normal;font-family:Menlo,'DejaVu Sans Mono',consolas,'Courier New',monospace\"><span style=\"font-weight: bold\"> Total params: </span><span style=\"color: #00af00; text-decoration-color: #00af00\">56,320</span> (220.00 KB)\n",
       "</pre>\n"
      ],
      "text/plain": [
       "\u001b[1m Total params: \u001b[0m\u001b[38;5;34m56,320\u001b[0m (220.00 KB)\n"
      ]
     },
     "metadata": {},
     "output_type": "display_data"
    },
    {
     "data": {
      "text/html": [
       "<pre style=\"white-space:pre;overflow-x:auto;line-height:normal;font-family:Menlo,'DejaVu Sans Mono',consolas,'Courier New',monospace\"><span style=\"font-weight: bold\"> Trainable params: </span><span style=\"color: #00af00; text-decoration-color: #00af00\">56,320</span> (220.00 KB)\n",
       "</pre>\n"
      ],
      "text/plain": [
       "\u001b[1m Trainable params: \u001b[0m\u001b[38;5;34m56,320\u001b[0m (220.00 KB)\n"
      ]
     },
     "metadata": {},
     "output_type": "display_data"
    },
    {
     "data": {
      "text/html": [
       "<pre style=\"white-space:pre;overflow-x:auto;line-height:normal;font-family:Menlo,'DejaVu Sans Mono',consolas,'Courier New',monospace\"><span style=\"font-weight: bold\"> Non-trainable params: </span><span style=\"color: #00af00; text-decoration-color: #00af00\">0</span> (0.00 B)\n",
       "</pre>\n"
      ],
      "text/plain": [
       "\u001b[1m Non-trainable params: \u001b[0m\u001b[38;5;34m0\u001b[0m (0.00 B)\n"
      ]
     },
     "metadata": {},
     "output_type": "display_data"
    }
   ],
   "source": [
    "model.summary()"
   ]
  },
  {
   "cell_type": "code",
   "execution_count": 13,
   "id": "17ace776-ef47-4177-ba8a-74ebbd7ae68b",
   "metadata": {},
   "outputs": [
    {
     "data": {
      "text/plain": [
       "array([0, 2, 1, 4, 3])"
      ]
     },
     "execution_count": 13,
     "metadata": {},
     "output_type": "execute_result"
    }
   ],
   "source": [
    "unique_labels = df_labels['border'].unique()\n",
    "unique_labels"
   ]
  },
  {
   "cell_type": "code",
   "execution_count": 14,
   "id": "fc15c154-93dc-467d-a960-088535f7310d",
   "metadata": {},
   "outputs": [],
   "source": [
    "model.add(layers.Flatten())\n",
    "model.add(layers.Dense(16, activation='relu'))\n",
    "model.add(layers.Dense(5))"
   ]
  },
  {
   "cell_type": "code",
   "execution_count": 15,
   "id": "04cb8221-dd3e-4c2f-9136-b1f657c0ffb5",
   "metadata": {},
   "outputs": [
    {
     "data": {
      "text/html": [
       "<pre style=\"white-space:pre;overflow-x:auto;line-height:normal;font-family:Menlo,'DejaVu Sans Mono',consolas,'Courier New',monospace\"><span style=\"font-weight: bold\">Model: \"sequential\"</span>\n",
       "</pre>\n"
      ],
      "text/plain": [
       "\u001b[1mModel: \"sequential\"\u001b[0m\n"
      ]
     },
     "metadata": {},
     "output_type": "display_data"
    },
    {
     "data": {
      "text/html": [
       "<pre style=\"white-space:pre;overflow-x:auto;line-height:normal;font-family:Menlo,'DejaVu Sans Mono',consolas,'Courier New',monospace\">┏━━━━━━━━━━━━━━━━━━━━━━━━━━━━━━━━━┳━━━━━━━━━━━━━━━━━━━━━━━━┳━━━━━━━━━━━━━━━┓\n",
       "┃<span style=\"font-weight: bold\"> Layer (type)                    </span>┃<span style=\"font-weight: bold\"> Output Shape           </span>┃<span style=\"font-weight: bold\">       Param # </span>┃\n",
       "┡━━━━━━━━━━━━━━━━━━━━━━━━━━━━━━━━━╇━━━━━━━━━━━━━━━━━━━━━━━━╇━━━━━━━━━━━━━━━┩\n",
       "│ conv2d (<span style=\"color: #0087ff; text-decoration-color: #0087ff\">Conv2D</span>)                 │ (<span style=\"color: #00d7ff; text-decoration-color: #00d7ff\">None</span>, <span style=\"color: #00af00; text-decoration-color: #00af00\">62</span>, <span style=\"color: #00af00; text-decoration-color: #00af00\">62</span>, <span style=\"color: #00af00; text-decoration-color: #00af00\">32</span>)     │           <span style=\"color: #00af00; text-decoration-color: #00af00\">896</span> │\n",
       "├─────────────────────────────────┼────────────────────────┼───────────────┤\n",
       "│ max_pooling2d (<span style=\"color: #0087ff; text-decoration-color: #0087ff\">MaxPooling2D</span>)    │ (<span style=\"color: #00d7ff; text-decoration-color: #00d7ff\">None</span>, <span style=\"color: #00af00; text-decoration-color: #00af00\">31</span>, <span style=\"color: #00af00; text-decoration-color: #00af00\">31</span>, <span style=\"color: #00af00; text-decoration-color: #00af00\">32</span>)     │             <span style=\"color: #00af00; text-decoration-color: #00af00\">0</span> │\n",
       "├─────────────────────────────────┼────────────────────────┼───────────────┤\n",
       "│ conv2d_1 (<span style=\"color: #0087ff; text-decoration-color: #0087ff\">Conv2D</span>)               │ (<span style=\"color: #00d7ff; text-decoration-color: #00d7ff\">None</span>, <span style=\"color: #00af00; text-decoration-color: #00af00\">29</span>, <span style=\"color: #00af00; text-decoration-color: #00af00\">29</span>, <span style=\"color: #00af00; text-decoration-color: #00af00\">64</span>)     │        <span style=\"color: #00af00; text-decoration-color: #00af00\">18,496</span> │\n",
       "├─────────────────────────────────┼────────────────────────┼───────────────┤\n",
       "│ max_pooling2d_1 (<span style=\"color: #0087ff; text-decoration-color: #0087ff\">MaxPooling2D</span>)  │ (<span style=\"color: #00d7ff; text-decoration-color: #00d7ff\">None</span>, <span style=\"color: #00af00; text-decoration-color: #00af00\">14</span>, <span style=\"color: #00af00; text-decoration-color: #00af00\">14</span>, <span style=\"color: #00af00; text-decoration-color: #00af00\">64</span>)     │             <span style=\"color: #00af00; text-decoration-color: #00af00\">0</span> │\n",
       "├─────────────────────────────────┼────────────────────────┼───────────────┤\n",
       "│ conv2d_2 (<span style=\"color: #0087ff; text-decoration-color: #0087ff\">Conv2D</span>)               │ (<span style=\"color: #00d7ff; text-decoration-color: #00d7ff\">None</span>, <span style=\"color: #00af00; text-decoration-color: #00af00\">12</span>, <span style=\"color: #00af00; text-decoration-color: #00af00\">12</span>, <span style=\"color: #00af00; text-decoration-color: #00af00\">64</span>)     │        <span style=\"color: #00af00; text-decoration-color: #00af00\">36,928</span> │\n",
       "├─────────────────────────────────┼────────────────────────┼───────────────┤\n",
       "│ flatten (<span style=\"color: #0087ff; text-decoration-color: #0087ff\">Flatten</span>)               │ (<span style=\"color: #00d7ff; text-decoration-color: #00d7ff\">None</span>, <span style=\"color: #00af00; text-decoration-color: #00af00\">9216</span>)           │             <span style=\"color: #00af00; text-decoration-color: #00af00\">0</span> │\n",
       "├─────────────────────────────────┼────────────────────────┼───────────────┤\n",
       "│ dense (<span style=\"color: #0087ff; text-decoration-color: #0087ff\">Dense</span>)                   │ (<span style=\"color: #00d7ff; text-decoration-color: #00d7ff\">None</span>, <span style=\"color: #00af00; text-decoration-color: #00af00\">16</span>)             │       <span style=\"color: #00af00; text-decoration-color: #00af00\">147,472</span> │\n",
       "├─────────────────────────────────┼────────────────────────┼───────────────┤\n",
       "│ dense_1 (<span style=\"color: #0087ff; text-decoration-color: #0087ff\">Dense</span>)                 │ (<span style=\"color: #00d7ff; text-decoration-color: #00d7ff\">None</span>, <span style=\"color: #00af00; text-decoration-color: #00af00\">5</span>)              │            <span style=\"color: #00af00; text-decoration-color: #00af00\">85</span> │\n",
       "└─────────────────────────────────┴────────────────────────┴───────────────┘\n",
       "</pre>\n"
      ],
      "text/plain": [
       "┏━━━━━━━━━━━━━━━━━━━━━━━━━━━━━━━━━┳━━━━━━━━━━━━━━━━━━━━━━━━┳━━━━━━━━━━━━━━━┓\n",
       "┃\u001b[1m \u001b[0m\u001b[1mLayer (type)                   \u001b[0m\u001b[1m \u001b[0m┃\u001b[1m \u001b[0m\u001b[1mOutput Shape          \u001b[0m\u001b[1m \u001b[0m┃\u001b[1m \u001b[0m\u001b[1m      Param #\u001b[0m\u001b[1m \u001b[0m┃\n",
       "┡━━━━━━━━━━━━━━━━━━━━━━━━━━━━━━━━━╇━━━━━━━━━━━━━━━━━━━━━━━━╇━━━━━━━━━━━━━━━┩\n",
       "│ conv2d (\u001b[38;5;33mConv2D\u001b[0m)                 │ (\u001b[38;5;45mNone\u001b[0m, \u001b[38;5;34m62\u001b[0m, \u001b[38;5;34m62\u001b[0m, \u001b[38;5;34m32\u001b[0m)     │           \u001b[38;5;34m896\u001b[0m │\n",
       "├─────────────────────────────────┼────────────────────────┼───────────────┤\n",
       "│ max_pooling2d (\u001b[38;5;33mMaxPooling2D\u001b[0m)    │ (\u001b[38;5;45mNone\u001b[0m, \u001b[38;5;34m31\u001b[0m, \u001b[38;5;34m31\u001b[0m, \u001b[38;5;34m32\u001b[0m)     │             \u001b[38;5;34m0\u001b[0m │\n",
       "├─────────────────────────────────┼────────────────────────┼───────────────┤\n",
       "│ conv2d_1 (\u001b[38;5;33mConv2D\u001b[0m)               │ (\u001b[38;5;45mNone\u001b[0m, \u001b[38;5;34m29\u001b[0m, \u001b[38;5;34m29\u001b[0m, \u001b[38;5;34m64\u001b[0m)     │        \u001b[38;5;34m18,496\u001b[0m │\n",
       "├─────────────────────────────────┼────────────────────────┼───────────────┤\n",
       "│ max_pooling2d_1 (\u001b[38;5;33mMaxPooling2D\u001b[0m)  │ (\u001b[38;5;45mNone\u001b[0m, \u001b[38;5;34m14\u001b[0m, \u001b[38;5;34m14\u001b[0m, \u001b[38;5;34m64\u001b[0m)     │             \u001b[38;5;34m0\u001b[0m │\n",
       "├─────────────────────────────────┼────────────────────────┼───────────────┤\n",
       "│ conv2d_2 (\u001b[38;5;33mConv2D\u001b[0m)               │ (\u001b[38;5;45mNone\u001b[0m, \u001b[38;5;34m12\u001b[0m, \u001b[38;5;34m12\u001b[0m, \u001b[38;5;34m64\u001b[0m)     │        \u001b[38;5;34m36,928\u001b[0m │\n",
       "├─────────────────────────────────┼────────────────────────┼───────────────┤\n",
       "│ flatten (\u001b[38;5;33mFlatten\u001b[0m)               │ (\u001b[38;5;45mNone\u001b[0m, \u001b[38;5;34m9216\u001b[0m)           │             \u001b[38;5;34m0\u001b[0m │\n",
       "├─────────────────────────────────┼────────────────────────┼───────────────┤\n",
       "│ dense (\u001b[38;5;33mDense\u001b[0m)                   │ (\u001b[38;5;45mNone\u001b[0m, \u001b[38;5;34m16\u001b[0m)             │       \u001b[38;5;34m147,472\u001b[0m │\n",
       "├─────────────────────────────────┼────────────────────────┼───────────────┤\n",
       "│ dense_1 (\u001b[38;5;33mDense\u001b[0m)                 │ (\u001b[38;5;45mNone\u001b[0m, \u001b[38;5;34m5\u001b[0m)              │            \u001b[38;5;34m85\u001b[0m │\n",
       "└─────────────────────────────────┴────────────────────────┴───────────────┘\n"
      ]
     },
     "metadata": {},
     "output_type": "display_data"
    },
    {
     "data": {
      "text/html": [
       "<pre style=\"white-space:pre;overflow-x:auto;line-height:normal;font-family:Menlo,'DejaVu Sans Mono',consolas,'Courier New',monospace\"><span style=\"font-weight: bold\"> Total params: </span><span style=\"color: #00af00; text-decoration-color: #00af00\">203,877</span> (796.39 KB)\n",
       "</pre>\n"
      ],
      "text/plain": [
       "\u001b[1m Total params: \u001b[0m\u001b[38;5;34m203,877\u001b[0m (796.39 KB)\n"
      ]
     },
     "metadata": {},
     "output_type": "display_data"
    },
    {
     "data": {
      "text/html": [
       "<pre style=\"white-space:pre;overflow-x:auto;line-height:normal;font-family:Menlo,'DejaVu Sans Mono',consolas,'Courier New',monospace\"><span style=\"font-weight: bold\"> Trainable params: </span><span style=\"color: #00af00; text-decoration-color: #00af00\">203,877</span> (796.39 KB)\n",
       "</pre>\n"
      ],
      "text/plain": [
       "\u001b[1m Trainable params: \u001b[0m\u001b[38;5;34m203,877\u001b[0m (796.39 KB)\n"
      ]
     },
     "metadata": {},
     "output_type": "display_data"
    },
    {
     "data": {
      "text/html": [
       "<pre style=\"white-space:pre;overflow-x:auto;line-height:normal;font-family:Menlo,'DejaVu Sans Mono',consolas,'Courier New',monospace\"><span style=\"font-weight: bold\"> Non-trainable params: </span><span style=\"color: #00af00; text-decoration-color: #00af00\">0</span> (0.00 B)\n",
       "</pre>\n"
      ],
      "text/plain": [
       "\u001b[1m Non-trainable params: \u001b[0m\u001b[38;5;34m0\u001b[0m (0.00 B)\n"
      ]
     },
     "metadata": {},
     "output_type": "display_data"
    }
   ],
   "source": [
    "model.summary()"
   ]
  },
  {
   "cell_type": "code",
   "execution_count": null,
   "id": "8247597a-b479-4865-8ec8-46fed87d2859",
   "metadata": {},
   "outputs": [],
   "source": []
  },
  {
   "cell_type": "code",
   "execution_count": 16,
   "id": "082d01b7-eeb3-4858-9418-8ac0ece0c7f5",
   "metadata": {},
   "outputs": [
    {
     "name": "stdout",
     "output_type": "stream",
     "text": [
      "                         path  frame  border\n",
      "180  20240209_atelier_006.mp4    308       1\n",
      "638  20240201_atelier_004.mp4    715       0\n",
      "482  20240201_atelier_003.mp4   1189       0\n",
      "598  20240209_atelier_006.mp4    619       1\n",
      "223  20240201_atelier_001.mp4    436       2\n",
      "..                        ...    ...     ...\n",
      "602  20240201_atelier_001.mp4     50       4\n",
      "565  20240209_atelier_007.mp4   1062       0\n",
      "73   20240201_atelier_004.mp4    568       0\n",
      "445  20240201_atelier_001.mp4    492       0\n",
      "666  20240201_atelier_002.mp4    506       2\n",
      "\n",
      "[586 rows x 3 columns]\n",
      "                         path  frame  border\n",
      "512  20240201_atelier_005.mp4    753       0\n",
      "228  20240209_atelier_007.mp4    692       0\n",
      "129  20240201_atelier_004.mp4    982       0\n",
      "710  20240209_atelier_006.mp4    384       2\n",
      "300  20240201_atelier_004.mp4   1165       2\n",
      "..                        ...    ...     ...\n",
      "122  20240201_atelier_005.mp4    527       1\n",
      "522  20240201_atelier_002.mp4    101       0\n",
      "545  20240201_atelier_002.mp4   1373       4\n",
      "158  20240209_atelier_006.mp4     94       4\n",
      "239  20240201_atelier_005.mp4   2276       2\n",
      "\n",
      "[146 rows x 3 columns]\n"
     ]
    }
   ],
   "source": [
    "from my_classes import DataGeneratorSkillBorders\n",
    "# Parameters\n",
    "params = {'dim': (64,64),\n",
    "          'batch_size': 16,\n",
    "          'n_classes': len(unique_labels),\n",
    "          'n_channels': 3,\n",
    "          'shuffle': True,\n",
    "          'train': True}\n",
    "\n",
    "training_generator = DataGeneratorSkillBorders(df_labels, video_folder=video_folder, **params)\n",
    "test_generator = DataGeneratorSkillBorders(df_labels, video_folder=video_folder, train=False)"
   ]
  },
  {
   "cell_type": "code",
   "execution_count": 17,
   "id": "b5a794b1-90ff-4c09-828c-58d3c8492e04",
   "metadata": {},
   "outputs": [
    {
     "name": "stdout",
     "output_type": "stream",
     "text": [
      "CPU times: user 12.7 s, sys: 259 ms, total: 13 s\n",
      "Wall time: 2.9 s\n"
     ]
    }
   ],
   "source": [
    "%%time\n",
    "X, y = training_generator.__getitem__(3)"
   ]
  },
  {
   "cell_type": "code",
   "execution_count": 18,
   "id": "76ab4052-80db-4918-8c15-b10bb3199a22",
   "metadata": {},
   "outputs": [
    {
     "data": {
      "text/plain": [
       "array([[[[0.35294118, 0.37647059, 0.41176471],\n",
       "         [0.34901961, 0.38431373, 0.40784314],\n",
       "         [0.34901961, 0.38431373, 0.40784314],\n",
       "         ...,\n",
       "         [0.30980392, 0.34509804, 0.36470588],\n",
       "         [0.32941176, 0.35686275, 0.38039216],\n",
       "         [0.34117647, 0.36470588, 0.4       ]],\n",
       "\n",
       "        [[0.36078431, 0.38823529, 0.41176471],\n",
       "         [0.36078431, 0.39607843, 0.41960784],\n",
       "         [0.36862745, 0.39607843, 0.41960784],\n",
       "         ...,\n",
       "         [0.32156863, 0.34117647, 0.36470588],\n",
       "         [0.34509804, 0.35686275, 0.37647059],\n",
       "         [0.34901961, 0.36862745, 0.39215686]],\n",
       "\n",
       "        [[0.34117647, 0.37254902, 0.39607843],\n",
       "         [0.36470588, 0.4       , 0.42352941],\n",
       "         [0.37254902, 0.4       , 0.42352941],\n",
       "         ...,\n",
       "         [0.29803922, 0.31764706, 0.34117647],\n",
       "         [0.31372549, 0.34117647, 0.34509804],\n",
       "         [0.32941176, 0.35294118, 0.36862745]],\n",
       "\n",
       "        ...,\n",
       "\n",
       "        [[0.61960784, 0.61960784, 0.61960784],\n",
       "         [0.63529412, 0.62352941, 0.62745098],\n",
       "         [0.63529412, 0.62352941, 0.61960784],\n",
       "         ...,\n",
       "         [0.07843137, 0.12941176, 0.19215686],\n",
       "         [0.07843137, 0.13333333, 0.18823529],\n",
       "         [0.08627451, 0.13333333, 0.21176471]],\n",
       "\n",
       "        [[0.6       , 0.6       , 0.59215686],\n",
       "         [0.58431373, 0.58431373, 0.57647059],\n",
       "         [0.60784314, 0.60784314, 0.6       ],\n",
       "         ...,\n",
       "         [0.06666667, 0.10980392, 0.2       ],\n",
       "         [0.07058824, 0.10588235, 0.18431373],\n",
       "         [0.0627451 , 0.11372549, 0.17647059]],\n",
       "\n",
       "        [[0.56078431, 0.56078431, 0.56078431],\n",
       "         [0.58431373, 0.58431373, 0.57647059],\n",
       "         [0.58431373, 0.58431373, 0.57647059],\n",
       "         ...,\n",
       "         [0.07058824, 0.10588235, 0.18431373],\n",
       "         [0.05882353, 0.10980392, 0.17254902],\n",
       "         [0.06666667, 0.11372549, 0.18431373]]],\n",
       "\n",
       "\n",
       "       [[[0.37254902, 0.39215686, 0.43529412],\n",
       "         [0.36862745, 0.39607843, 0.44705882],\n",
       "         [0.37647059, 0.40784314, 0.44313725],\n",
       "         ...,\n",
       "         [0.33333333, 0.35686275, 0.39215686],\n",
       "         [0.36078431, 0.38431373, 0.41960784],\n",
       "         [0.38431373, 0.40392157, 0.42352941]],\n",
       "\n",
       "        [[0.38431373, 0.41176471, 0.4627451 ],\n",
       "         [0.39607843, 0.41960784, 0.45490196],\n",
       "         [0.38823529, 0.41176471, 0.44705882],\n",
       "         ...,\n",
       "         [0.3254902 , 0.35294118, 0.37647059],\n",
       "         [0.34901961, 0.38431373, 0.40784314],\n",
       "         [0.36078431, 0.39607843, 0.41960784]],\n",
       "\n",
       "        [[0.36470588, 0.39215686, 0.43137255],\n",
       "         [0.38823529, 0.41568627, 0.46666667],\n",
       "         [0.38431373, 0.42352941, 0.47058824],\n",
       "         ...,\n",
       "         [0.31372549, 0.3372549 , 0.37254902],\n",
       "         [0.33333333, 0.35294118, 0.37647059],\n",
       "         [0.35294118, 0.37254902, 0.39607843]],\n",
       "\n",
       "        ...,\n",
       "\n",
       "        [[0.60392157, 0.60392157, 0.60392157],\n",
       "         [0.61960784, 0.61960784, 0.61960784],\n",
       "         [0.61176471, 0.61176471, 0.61176471],\n",
       "         ...,\n",
       "         [0.08235294, 0.13333333, 0.21568627],\n",
       "         [0.0745098 , 0.13333333, 0.21568627],\n",
       "         [0.08627451, 0.14901961, 0.22352941]],\n",
       "\n",
       "        [[0.59607843, 0.59607843, 0.59607843],\n",
       "         [0.58431373, 0.58431373, 0.58431373],\n",
       "         [0.59215686, 0.59215686, 0.59215686],\n",
       "         ...,\n",
       "         [0.07843137, 0.14117647, 0.21568627],\n",
       "         [0.05882353, 0.12941176, 0.20784314],\n",
       "         [0.08235294, 0.13333333, 0.21568627]],\n",
       "\n",
       "        [[0.55686275, 0.55686275, 0.55686275],\n",
       "         [0.57254902, 0.57254902, 0.57254902],\n",
       "         [0.58823529, 0.58823529, 0.58823529],\n",
       "         ...,\n",
       "         [0.0627451 , 0.1254902 , 0.2       ],\n",
       "         [0.07843137, 0.12941176, 0.21176471],\n",
       "         [0.07843137, 0.13333333, 0.23529412]]],\n",
       "\n",
       "\n",
       "       [[[0.34509804, 0.37647059, 0.41176471],\n",
       "         [0.34901961, 0.37254902, 0.40784314],\n",
       "         [0.35686275, 0.38823529, 0.42352941],\n",
       "         ...,\n",
       "         [0.32156863, 0.34117647, 0.36470588],\n",
       "         [0.32941176, 0.36078431, 0.37647059],\n",
       "         [0.34117647, 0.37254902, 0.38823529]],\n",
       "\n",
       "        [[0.36078431, 0.39215686, 0.42745098],\n",
       "         [0.38039216, 0.4       , 0.42352941],\n",
       "         [0.36470588, 0.38823529, 0.42352941],\n",
       "         ...,\n",
       "         [0.30588235, 0.3372549 , 0.35294118],\n",
       "         [0.32941176, 0.34901961, 0.37254902],\n",
       "         [0.35294118, 0.37647059, 0.39215686]],\n",
       "\n",
       "        [[0.34901961, 0.37254902, 0.40392157],\n",
       "         [0.36078431, 0.39215686, 0.42745098],\n",
       "         [0.36862745, 0.4       , 0.43529412],\n",
       "         ...,\n",
       "         [0.30588235, 0.32156863, 0.35686275],\n",
       "         [0.30980392, 0.33333333, 0.34901961],\n",
       "         [0.33333333, 0.36078431, 0.38431373]],\n",
       "\n",
       "        ...,\n",
       "\n",
       "        [[0.6       , 0.59215686, 0.59607843],\n",
       "         [0.60392157, 0.60392157, 0.59607843],\n",
       "         [0.60392157, 0.60392157, 0.60392157],\n",
       "         ...,\n",
       "         [0.0745098 , 0.1254902 , 0.18823529],\n",
       "         [0.0627451 , 0.11764706, 0.19215686],\n",
       "         [0.0745098 , 0.13333333, 0.19607843]],\n",
       "\n",
       "        [[0.58431373, 0.58431373, 0.58431373],\n",
       "         [0.58039216, 0.58039216, 0.58039216],\n",
       "         [0.57647059, 0.57647059, 0.56862745],\n",
       "         ...,\n",
       "         [0.07843137, 0.12941176, 0.19215686],\n",
       "         [0.06666667, 0.11764706, 0.18039216],\n",
       "         [0.06666667, 0.11372549, 0.18823529]],\n",
       "\n",
       "        [[0.54509804, 0.54509804, 0.5372549 ],\n",
       "         [0.56078431, 0.56078431, 0.56078431],\n",
       "         [0.57647059, 0.57647059, 0.57647059],\n",
       "         ...,\n",
       "         [0.08235294, 0.11372549, 0.18039216],\n",
       "         [0.05882353, 0.12156863, 0.19607843],\n",
       "         [0.0745098 , 0.12941176, 0.20392157]]],\n",
       "\n",
       "\n",
       "       ...,\n",
       "\n",
       "\n",
       "       [[[0.27058824, 0.28235294, 0.28235294],\n",
       "         [0.27843137, 0.29019608, 0.29019608],\n",
       "         [0.29019608, 0.30980392, 0.30980392],\n",
       "         ...,\n",
       "         [0.2627451 , 0.2745098 , 0.2745098 ],\n",
       "         [0.25490196, 0.26666667, 0.26666667],\n",
       "         [0.26666667, 0.27843137, 0.27843137]],\n",
       "\n",
       "        [[0.29803922, 0.30980392, 0.30980392],\n",
       "         [0.2745098 , 0.29411765, 0.29411765],\n",
       "         [0.27058824, 0.29019608, 0.29019608],\n",
       "         ...,\n",
       "         [0.2745098 , 0.28627451, 0.28627451],\n",
       "         [0.27058824, 0.28235294, 0.28235294],\n",
       "         [0.27843137, 0.29019608, 0.29019608]],\n",
       "\n",
       "        [[0.32941176, 0.34117647, 0.34117647],\n",
       "         [0.31372549, 0.33333333, 0.33333333],\n",
       "         [0.27843137, 0.29019608, 0.29019608],\n",
       "         ...,\n",
       "         [0.27843137, 0.29019608, 0.29019608],\n",
       "         [0.28235294, 0.29411765, 0.29411765],\n",
       "         [0.2627451 , 0.28235294, 0.28235294]],\n",
       "\n",
       "        ...,\n",
       "\n",
       "        [[0.74509804, 0.72156863, 0.68235294],\n",
       "         [0.72156863, 0.69019608, 0.64313725],\n",
       "         [0.69019608, 0.6627451 , 0.60392157],\n",
       "         ...,\n",
       "         [0.23529412, 0.23529412, 0.23529412],\n",
       "         [0.23529412, 0.23529412, 0.23529412],\n",
       "         [0.23921569, 0.23921569, 0.23137255]],\n",
       "\n",
       "        [[0.70196078, 0.67058824, 0.62352941],\n",
       "         [0.66666667, 0.64705882, 0.58823529],\n",
       "         [0.63137255, 0.6       , 0.55294118],\n",
       "         ...,\n",
       "         [0.23137255, 0.23137255, 0.23137255],\n",
       "         [0.22352941, 0.22352941, 0.22352941],\n",
       "         [0.22352941, 0.22352941, 0.21568627]],\n",
       "\n",
       "        [[0.63137255, 0.6       , 0.55294118],\n",
       "         [0.59215686, 0.56862745, 0.52156863],\n",
       "         [0.58823529, 0.55686275, 0.50980392],\n",
       "         ...,\n",
       "         [0.23529412, 0.23529412, 0.23529412],\n",
       "         [0.23529412, 0.23529412, 0.23529412],\n",
       "         [0.22745098, 0.22745098, 0.22745098]]],\n",
       "\n",
       "\n",
       "       [[[0.36078431, 0.38823529, 0.41960784],\n",
       "         [0.34901961, 0.37254902, 0.40784314],\n",
       "         [0.35686275, 0.38431373, 0.40784314],\n",
       "         ...,\n",
       "         [0.31372549, 0.3372549 , 0.37254902],\n",
       "         [0.31764706, 0.35294118, 0.37647059],\n",
       "         [0.34509804, 0.36078431, 0.39607843]],\n",
       "\n",
       "        [[0.36078431, 0.39215686, 0.42745098],\n",
       "         [0.36078431, 0.39607843, 0.41960784],\n",
       "         [0.36078431, 0.39215686, 0.42745098],\n",
       "         ...,\n",
       "         [0.32156863, 0.34509804, 0.36078431],\n",
       "         [0.3372549 , 0.35294118, 0.38823529],\n",
       "         [0.34509804, 0.36862745, 0.38431373]],\n",
       "\n",
       "        [[0.34117647, 0.37254902, 0.40784314],\n",
       "         [0.36862745, 0.39215686, 0.42745098],\n",
       "         [0.37647059, 0.40392157, 0.42745098],\n",
       "         ...,\n",
       "         [0.29019608, 0.31764706, 0.34117647],\n",
       "         [0.30196078, 0.3372549 , 0.36078431],\n",
       "         [0.32941176, 0.35294118, 0.36862745]],\n",
       "\n",
       "        ...,\n",
       "\n",
       "        [[0.65490196, 0.64313725, 0.63921569],\n",
       "         [0.65490196, 0.65490196, 0.65490196],\n",
       "         [0.65882353, 0.65882353, 0.65098039],\n",
       "         ...,\n",
       "         [0.07843137, 0.12941176, 0.18431373],\n",
       "         [0.08627451, 0.12941176, 0.18823529],\n",
       "         [0.09019608, 0.13333333, 0.19215686]],\n",
       "\n",
       "        [[0.63137255, 0.63137255, 0.63137255],\n",
       "         [0.62352941, 0.62352941, 0.62352941],\n",
       "         [0.63529412, 0.63529412, 0.63529412],\n",
       "         ...,\n",
       "         [0.0627451 , 0.10980392, 0.18431373],\n",
       "         [0.0745098 , 0.11372549, 0.18039216],\n",
       "         [0.05490196, 0.10588235, 0.18823529]],\n",
       "\n",
       "        [[0.59215686, 0.59215686, 0.58823529],\n",
       "         [0.59215686, 0.60392157, 0.59607843],\n",
       "         [0.6       , 0.60392157, 0.60392157],\n",
       "         ...,\n",
       "         [0.07058824, 0.11764706, 0.19215686],\n",
       "         [0.0745098 , 0.11372549, 0.18039216],\n",
       "         [0.0745098 , 0.12156863, 0.19607843]]],\n",
       "\n",
       "\n",
       "       [[[0.36078431, 0.39215686, 0.42745098],\n",
       "         [0.34509804, 0.38431373, 0.42352941],\n",
       "         [0.36470588, 0.39607843, 0.43137255],\n",
       "         ...,\n",
       "         [0.32156863, 0.34509804, 0.38039216],\n",
       "         [0.35686275, 0.37254902, 0.40784314],\n",
       "         [0.34901961, 0.38431373, 0.40784314]],\n",
       "\n",
       "        [[0.37647059, 0.4       , 0.43529412],\n",
       "         [0.37647059, 0.4       , 0.43529412],\n",
       "         [0.38039216, 0.40392157, 0.43921569],\n",
       "         ...,\n",
       "         [0.31372549, 0.34117647, 0.36470588],\n",
       "         [0.35294118, 0.37254902, 0.39607843],\n",
       "         [0.34901961, 0.37254902, 0.40784314]],\n",
       "\n",
       "        [[0.34901961, 0.38039216, 0.41176471],\n",
       "         [0.37254902, 0.40392157, 0.43921569],\n",
       "         [0.38039216, 0.41176471, 0.44705882],\n",
       "         ...,\n",
       "         [0.30588235, 0.3372549 , 0.35294118],\n",
       "         [0.32156863, 0.34509804, 0.36078431],\n",
       "         [0.32941176, 0.36078431, 0.37647059]],\n",
       "\n",
       "        ...,\n",
       "\n",
       "        [[0.54117647, 0.52941176, 0.53333333],\n",
       "         [0.5254902 , 0.51372549, 0.51764706],\n",
       "         [0.48235294, 0.47058824, 0.4745098 ],\n",
       "         ...,\n",
       "         [0.07843137, 0.13333333, 0.18823529],\n",
       "         [0.07843137, 0.1372549 , 0.2       ],\n",
       "         [0.07843137, 0.1372549 , 0.22745098]],\n",
       "\n",
       "        [[0.41568627, 0.41568627, 0.41568627],\n",
       "         [0.43529412, 0.43529412, 0.42745098],\n",
       "         [0.47058824, 0.45882353, 0.4627451 ],\n",
       "         ...,\n",
       "         [0.08235294, 0.1254902 , 0.20784314],\n",
       "         [0.05882353, 0.11372549, 0.16862745],\n",
       "         [0.06666667, 0.12156863, 0.19607843]],\n",
       "\n",
       "        [[0.52941176, 0.51764706, 0.52156863],\n",
       "         [0.54509804, 0.53333333, 0.5372549 ],\n",
       "         [0.54117647, 0.54117647, 0.53333333],\n",
       "         ...,\n",
       "         [0.0627451 , 0.12156863, 0.18431373],\n",
       "         [0.07843137, 0.13333333, 0.18823529],\n",
       "         [0.07058824, 0.14117647, 0.19607843]]]])"
      ]
     },
     "execution_count": 18,
     "metadata": {},
     "output_type": "execute_result"
    }
   ],
   "source": [
    "X"
   ]
  },
  {
   "cell_type": "code",
   "execution_count": 19,
   "id": "0f683c31-77e9-471f-b857-4bb15857b735",
   "metadata": {},
   "outputs": [
    {
     "data": {
      "text/plain": [
       "array([0, 0, 0, 0, 0, 0, 4, 2, 2, 0, 2, 0, 4, 1, 0, 4])"
      ]
     },
     "execution_count": 19,
     "metadata": {},
     "output_type": "execute_result"
    }
   ],
   "source": [
    "y"
   ]
  },
  {
   "cell_type": "code",
   "execution_count": null,
   "id": "1ba2c862-5576-4999-a5a3-f20623910ef7",
   "metadata": {},
   "outputs": [],
   "source": []
  },
  {
   "cell_type": "code",
   "execution_count": 20,
   "id": "e8e48c69-83b9-460f-9cba-b809b33d3d3c",
   "metadata": {},
   "outputs": [
    {
     "name": "stdout",
     "output_type": "stream",
     "text": [
      "Epoch 1/10\n"
     ]
    },
    {
     "name": "stderr",
     "output_type": "stream",
     "text": [
      "2024-06-11 09:51:32.414633: I tensorflow/core/kernels/data/shuffle_dataset_op.cc:450] ShuffleDatasetV3:2: Filling up shuffle buffer (this may take a while): 4 of 8\n"
     ]
    },
    {
     "name": "stdout",
     "output_type": "stream",
     "text": [
      "\u001b[1m 1/36\u001b[0m \u001b[37m━━━━━━━━━━━━━━━━━━━━\u001b[0m \u001b[1m17:40\u001b[0m 30s/step - accuracy: 0.6875 - loss: 1.5233"
     ]
    },
    {
     "name": "stderr",
     "output_type": "stream",
     "text": [
      "2024-06-11 09:51:48.808622: I tensorflow/core/kernels/data/shuffle_dataset_op.cc:480] Shuffle buffer filled.\n"
     ]
    },
    {
     "name": "stdout",
     "output_type": "stream",
     "text": [
      "\u001b[1m36/36\u001b[0m \u001b[32m━━━━━━━━━━━━━━━━━━━━\u001b[0m\u001b[37m\u001b[0m \u001b[1m307s\u001b[0m 8s/step - accuracy: 0.5133 - loss: 1.3275 - val_accuracy: 0.4896 - val_loss: 1.2166\n",
      "Epoch 2/10\n"
     ]
    },
    {
     "name": "stderr",
     "output_type": "stream",
     "text": [
      "2024-06-11 09:56:38.667132: I tensorflow/core/kernels/data/shuffle_dataset_op.cc:450] ShuffleDatasetV3:2: Filling up shuffle buffer (this may take a while): 3 of 8\n"
     ]
    },
    {
     "name": "stdout",
     "output_type": "stream",
     "text": [
      "\u001b[1m 1/36\u001b[0m \u001b[37m━━━━━━━━━━━━━━━━━━━━\u001b[0m \u001b[1m19:34\u001b[0m 34s/step - accuracy: 0.3750 - loss: 1.3175"
     ]
    },
    {
     "name": "stderr",
     "output_type": "stream",
     "text": [
      "2024-06-11 09:56:59.347010: I tensorflow/core/kernels/data/shuffle_dataset_op.cc:480] Shuffle buffer filled.\n"
     ]
    },
    {
     "name": "stdout",
     "output_type": "stream",
     "text": [
      "\u001b[1m36/36\u001b[0m \u001b[32m━━━━━━━━━━━━━━━━━━━━\u001b[0m\u001b[37m\u001b[0m \u001b[1m314s\u001b[0m 8s/step - accuracy: 0.4806 - loss: 1.2371 - val_accuracy: 0.5208 - val_loss: 1.1563\n",
      "Epoch 3/10\n"
     ]
    },
    {
     "name": "stderr",
     "output_type": "stream",
     "text": [
      "2024-06-11 10:01:52.132055: I tensorflow/core/kernels/data/shuffle_dataset_op.cc:450] ShuffleDatasetV3:2: Filling up shuffle buffer (this may take a while): 3 of 8\n",
      "2024-06-11 10:02:09.755838: I tensorflow/core/kernels/data/shuffle_dataset_op.cc:450] ShuffleDatasetV3:2: Filling up shuffle buffer (this may take a while): 7 of 8\n"
     ]
    },
    {
     "name": "stdout",
     "output_type": "stream",
     "text": [
      "\u001b[1m 1/36\u001b[0m \u001b[37m━━━━━━━━━━━━━━━━━━━━\u001b[0m \u001b[1m20:08\u001b[0m 35s/step - accuracy: 0.3750 - loss: 1.3586"
     ]
    },
    {
     "name": "stderr",
     "output_type": "stream",
     "text": [
      "2024-06-11 10:02:14.203067: I tensorflow/core/kernels/data/shuffle_dataset_op.cc:480] Shuffle buffer filled.\n"
     ]
    },
    {
     "name": "stdout",
     "output_type": "stream",
     "text": [
      "\u001b[1m36/36\u001b[0m \u001b[32m━━━━━━━━━━━━━━━━━━━━\u001b[0m\u001b[37m\u001b[0m \u001b[1m321s\u001b[0m 8s/step - accuracy: 0.5025 - loss: 1.2091 - val_accuracy: 0.5920 - val_loss: 1.0144\n",
      "Epoch 4/10\n"
     ]
    },
    {
     "name": "stderr",
     "output_type": "stream",
     "text": [
      "2024-06-11 10:07:13.039352: I tensorflow/core/kernels/data/shuffle_dataset_op.cc:450] ShuffleDatasetV3:2: Filling up shuffle buffer (this may take a while): 3 of 8\n"
     ]
    },
    {
     "name": "stdout",
     "output_type": "stream",
     "text": [
      "\u001b[1m 1/36\u001b[0m \u001b[37m━━━━━━━━━━━━━━━━━━━━\u001b[0m \u001b[1m20:07\u001b[0m 35s/step - accuracy: 0.6250 - loss: 0.9816"
     ]
    },
    {
     "name": "stderr",
     "output_type": "stream",
     "text": [
      "2024-06-11 10:07:34.705943: I tensorflow/core/kernels/data/shuffle_dataset_op.cc:480] Shuffle buffer filled.\n"
     ]
    },
    {
     "name": "stdout",
     "output_type": "stream",
     "text": [
      "\u001b[1m36/36\u001b[0m \u001b[32m━━━━━━━━━━━━━━━━━━━━\u001b[0m\u001b[37m\u001b[0m \u001b[1m322s\u001b[0m 8s/step - accuracy: 0.6370 - loss: 0.9919 - val_accuracy: 0.7448 - val_loss: 0.7799\n",
      "Epoch 5/10\n"
     ]
    },
    {
     "name": "stderr",
     "output_type": "stream",
     "text": [
      "2024-06-11 10:12:35.673610: I tensorflow/core/kernels/data/shuffle_dataset_op.cc:450] ShuffleDatasetV3:2: Filling up shuffle buffer (this may take a while): 3 of 8\n",
      "2024-06-11 10:12:53.503417: I tensorflow/core/kernels/data/shuffle_dataset_op.cc:450] ShuffleDatasetV3:2: Filling up shuffle buffer (this may take a while): 7 of 8\n"
     ]
    },
    {
     "name": "stdout",
     "output_type": "stream",
     "text": [
      "\u001b[1m 1/36\u001b[0m \u001b[37m━━━━━━━━━━━━━━━━━━━━\u001b[0m \u001b[1m21:00\u001b[0m 36s/step - accuracy: 0.6875 - loss: 0.9029"
     ]
    },
    {
     "name": "stderr",
     "output_type": "stream",
     "text": [
      "2024-06-11 10:12:58.152328: I tensorflow/core/kernels/data/shuffle_dataset_op.cc:480] Shuffle buffer filled.\n"
     ]
    },
    {
     "name": "stdout",
     "output_type": "stream",
     "text": [
      "\u001b[1m36/36\u001b[0m \u001b[32m━━━━━━━━━━━━━━━━━━━━\u001b[0m\u001b[37m\u001b[0m \u001b[1m324s\u001b[0m 8s/step - accuracy: 0.7310 - loss: 0.7603 - val_accuracy: 0.7934 - val_loss: 0.6854\n",
      "Epoch 6/10\n"
     ]
    },
    {
     "name": "stderr",
     "output_type": "stream",
     "text": [
      "2024-06-11 10:18:00.431517: I tensorflow/core/kernels/data/shuffle_dataset_op.cc:450] ShuffleDatasetV3:2: Filling up shuffle buffer (this may take a while): 3 of 8\n",
      "2024-06-11 10:18:19.606444: I tensorflow/core/kernels/data/shuffle_dataset_op.cc:450] ShuffleDatasetV3:2: Filling up shuffle buffer (this may take a while): 7 of 8\n"
     ]
    },
    {
     "name": "stdout",
     "output_type": "stream",
     "text": [
      "\u001b[1m 1/36\u001b[0m \u001b[37m━━━━━━━━━━━━━━━━━━━━\u001b[0m \u001b[1m22:00\u001b[0m 38s/step - accuracy: 0.8125 - loss: 0.6293"
     ]
    },
    {
     "name": "stderr",
     "output_type": "stream",
     "text": [
      "2024-06-11 10:18:24.026267: I tensorflow/core/kernels/data/shuffle_dataset_op.cc:480] Shuffle buffer filled.\n"
     ]
    },
    {
     "name": "stdout",
     "output_type": "stream",
     "text": [
      "\u001b[1m36/36\u001b[0m \u001b[32m━━━━━━━━━━━━━━━━━━━━\u001b[0m\u001b[37m\u001b[0m \u001b[1m329s\u001b[0m 8s/step - accuracy: 0.8077 - loss: 0.6527 - val_accuracy: 0.8212 - val_loss: 0.5492\n",
      "Epoch 7/10\n"
     ]
    },
    {
     "name": "stderr",
     "output_type": "stream",
     "text": [
      "2024-06-11 10:23:28.802323: I tensorflow/core/kernels/data/shuffle_dataset_op.cc:450] ShuffleDatasetV3:2: Filling up shuffle buffer (this may take a while): 3 of 8\n",
      "2024-06-11 10:23:46.828022: I tensorflow/core/kernels/data/shuffle_dataset_op.cc:450] ShuffleDatasetV3:2: Filling up shuffle buffer (this may take a while): 7 of 8\n"
     ]
    },
    {
     "name": "stdout",
     "output_type": "stream",
     "text": [
      "\u001b[1m 1/36\u001b[0m \u001b[37m━━━━━━━━━━━━━━━━━━━━\u001b[0m \u001b[1m21:00\u001b[0m 36s/step - accuracy: 0.8125 - loss: 0.4053"
     ]
    },
    {
     "name": "stderr",
     "output_type": "stream",
     "text": [
      "2024-06-11 10:23:51.244131: I tensorflow/core/kernels/data/shuffle_dataset_op.cc:480] Shuffle buffer filled.\n"
     ]
    },
    {
     "name": "stdout",
     "output_type": "stream",
     "text": [
      "\u001b[1m36/36\u001b[0m \u001b[32m━━━━━━━━━━━━━━━━━━━━\u001b[0m\u001b[37m\u001b[0m \u001b[1m331s\u001b[0m 8s/step - accuracy: 0.8393 - loss: 0.4910 - val_accuracy: 0.8455 - val_loss: 0.4592\n",
      "Epoch 8/10\n"
     ]
    },
    {
     "name": "stderr",
     "output_type": "stream",
     "text": [
      "2024-06-11 10:29:00.714643: I tensorflow/core/kernels/data/shuffle_dataset_op.cc:450] ShuffleDatasetV3:2: Filling up shuffle buffer (this may take a while): 3 of 8\n",
      "2024-06-11 10:29:18.882735: I tensorflow/core/kernels/data/shuffle_dataset_op.cc:450] ShuffleDatasetV3:2: Filling up shuffle buffer (this may take a while): 7 of 8\n"
     ]
    },
    {
     "name": "stdout",
     "output_type": "stream",
     "text": [
      "\u001b[1m 1/36\u001b[0m \u001b[37m━━━━━━━━━━━━━━━━━━━━\u001b[0m \u001b[1m21:42\u001b[0m 37s/step - accuracy: 0.8750 - loss: 0.2720"
     ]
    },
    {
     "name": "stderr",
     "output_type": "stream",
     "text": [
      "2024-06-11 10:29:23.579361: I tensorflow/core/kernels/data/shuffle_dataset_op.cc:480] Shuffle buffer filled.\n"
     ]
    },
    {
     "name": "stdout",
     "output_type": "stream",
     "text": [
      "\u001b[1m36/36\u001b[0m \u001b[32m━━━━━━━━━━━━━━━━━━━━\u001b[0m\u001b[37m\u001b[0m \u001b[1m328s\u001b[0m 8s/step - accuracy: 0.8114 - loss: 0.4949 - val_accuracy: 0.8750 - val_loss: 0.4150\n",
      "Epoch 9/10\n"
     ]
    },
    {
     "name": "stderr",
     "output_type": "stream",
     "text": [
      "2024-06-11 10:34:27.995550: I tensorflow/core/kernels/data/shuffle_dataset_op.cc:450] ShuffleDatasetV3:2: Filling up shuffle buffer (this may take a while): 3 of 8\n",
      "2024-06-11 10:34:46.982224: I tensorflow/core/kernels/data/shuffle_dataset_op.cc:450] ShuffleDatasetV3:2: Filling up shuffle buffer (this may take a while): 7 of 8\n"
     ]
    },
    {
     "name": "stdout",
     "output_type": "stream",
     "text": [
      "\u001b[1m 1/36\u001b[0m \u001b[37m━━━━━━━━━━━━━━━━━━━━\u001b[0m \u001b[1m21:16\u001b[0m 36s/step - accuracy: 0.9375 - loss: 0.1233"
     ]
    },
    {
     "name": "stderr",
     "output_type": "stream",
     "text": [
      "2024-06-11 10:34:51.325774: I tensorflow/core/kernels/data/shuffle_dataset_op.cc:480] Shuffle buffer filled.\n"
     ]
    },
    {
     "name": "stdout",
     "output_type": "stream",
     "text": [
      "\u001b[1m36/36\u001b[0m \u001b[32m━━━━━━━━━━━━━━━━━━━━\u001b[0m\u001b[37m\u001b[0m \u001b[1m325s\u001b[0m 8s/step - accuracy: 0.8477 - loss: 0.4731 - val_accuracy: 0.8594 - val_loss: 0.3925\n",
      "Epoch 10/10\n"
     ]
    },
    {
     "name": "stderr",
     "output_type": "stream",
     "text": [
      "2024-06-11 10:39:52.238012: I tensorflow/core/kernels/data/shuffle_dataset_op.cc:450] ShuffleDatasetV3:2: Filling up shuffle buffer (this may take a while): 3 of 8\n",
      "2024-06-11 10:40:10.735174: I tensorflow/core/kernels/data/shuffle_dataset_op.cc:450] ShuffleDatasetV3:2: Filling up shuffle buffer (this may take a while): 7 of 8\n"
     ]
    },
    {
     "name": "stdout",
     "output_type": "stream",
     "text": [
      "\u001b[1m 1/36\u001b[0m \u001b[37m━━━━━━━━━━━━━━━━━━━━\u001b[0m \u001b[1m20:52\u001b[0m 36s/step - accuracy: 0.9375 - loss: 0.2191"
     ]
    },
    {
     "name": "stderr",
     "output_type": "stream",
     "text": [
      "2024-06-11 10:40:15.313175: I tensorflow/core/kernels/data/shuffle_dataset_op.cc:480] Shuffle buffer filled.\n"
     ]
    },
    {
     "name": "stdout",
     "output_type": "stream",
     "text": [
      "\u001b[1m36/36\u001b[0m \u001b[32m━━━━━━━━━━━━━━━━━━━━\u001b[0m\u001b[37m\u001b[0m \u001b[1m323s\u001b[0m 8s/step - accuracy: 0.8716 - loss: 0.3534 - val_accuracy: 0.8733 - val_loss: 0.3318\n"
     ]
    }
   ],
   "source": [
    "model.compile(optimizer='adam',\n",
    "              loss=tf.keras.losses.SparseCategoricalCrossentropy(from_logits=True),\n",
    "              metrics=['accuracy'])\n",
    "\n",
    "history = model.fit(training_generator, epochs=10, \n",
    "                    validation_data=test_generator)"
   ]
  },
  {
   "cell_type": "code",
   "execution_count": null,
   "id": "5b03e31c-ac8b-40fd-8699-b89181898d8a",
   "metadata": {},
   "outputs": [],
   "source": []
  },
  {
   "cell_type": "code",
   "execution_count": 26,
   "id": "5ed6bf2c-67fc-4771-adac-b7417ef9a408",
   "metadata": {},
   "outputs": [
    {
     "data": {
      "text/html": [
       "<div>\n",
       "<style scoped>\n",
       "    .dataframe tbody tr th:only-of-type {\n",
       "        vertical-align: middle;\n",
       "    }\n",
       "\n",
       "    .dataframe tbody tr th {\n",
       "        vertical-align: top;\n",
       "    }\n",
       "\n",
       "    .dataframe thead th {\n",
       "        text-align: right;\n",
       "    }\n",
       "</style>\n",
       "<table border=\"1\" class=\"dataframe\">\n",
       "  <thead>\n",
       "    <tr style=\"text-align: right;\">\n",
       "      <th></th>\n",
       "      <th>accuracy</th>\n",
       "      <th>loss</th>\n",
       "      <th>val_accuracy</th>\n",
       "      <th>val_loss</th>\n",
       "    </tr>\n",
       "  </thead>\n",
       "  <tbody>\n",
       "    <tr>\n",
       "      <th>0</th>\n",
       "      <td>0.489583</td>\n",
       "      <td>1.291249</td>\n",
       "      <td>0.489583</td>\n",
       "      <td>1.216628</td>\n",
       "    </tr>\n",
       "    <tr>\n",
       "      <th>1</th>\n",
       "      <td>0.467014</td>\n",
       "      <td>1.236270</td>\n",
       "      <td>0.520833</td>\n",
       "      <td>1.156343</td>\n",
       "    </tr>\n",
       "    <tr>\n",
       "      <th>2</th>\n",
       "      <td>0.546875</td>\n",
       "      <td>1.150366</td>\n",
       "      <td>0.592014</td>\n",
       "      <td>1.014438</td>\n",
       "    </tr>\n",
       "    <tr>\n",
       "      <th>3</th>\n",
       "      <td>0.664931</td>\n",
       "      <td>0.964694</td>\n",
       "      <td>0.744792</td>\n",
       "      <td>0.779860</td>\n",
       "    </tr>\n",
       "    <tr>\n",
       "      <th>4</th>\n",
       "      <td>0.717014</td>\n",
       "      <td>0.756260</td>\n",
       "      <td>0.793403</td>\n",
       "      <td>0.685382</td>\n",
       "    </tr>\n",
       "    <tr>\n",
       "      <th>5</th>\n",
       "      <td>0.796875</td>\n",
       "      <td>0.629358</td>\n",
       "      <td>0.821181</td>\n",
       "      <td>0.549196</td>\n",
       "    </tr>\n",
       "    <tr>\n",
       "      <th>6</th>\n",
       "      <td>0.812500</td>\n",
       "      <td>0.530113</td>\n",
       "      <td>0.845486</td>\n",
       "      <td>0.459185</td>\n",
       "    </tr>\n",
       "    <tr>\n",
       "      <th>7</th>\n",
       "      <td>0.826389</td>\n",
       "      <td>0.491764</td>\n",
       "      <td>0.875000</td>\n",
       "      <td>0.415029</td>\n",
       "    </tr>\n",
       "    <tr>\n",
       "      <th>8</th>\n",
       "      <td>0.850694</td>\n",
       "      <td>0.451510</td>\n",
       "      <td>0.859375</td>\n",
       "      <td>0.392537</td>\n",
       "    </tr>\n",
       "    <tr>\n",
       "      <th>9</th>\n",
       "      <td>0.878472</td>\n",
       "      <td>0.352735</td>\n",
       "      <td>0.873264</td>\n",
       "      <td>0.331836</td>\n",
       "    </tr>\n",
       "  </tbody>\n",
       "</table>\n",
       "</div>"
      ],
      "text/plain": [
       "   accuracy      loss  val_accuracy  val_loss\n",
       "0  0.489583  1.291249      0.489583  1.216628\n",
       "1  0.467014  1.236270      0.520833  1.156343\n",
       "2  0.546875  1.150366      0.592014  1.014438\n",
       "3  0.664931  0.964694      0.744792  0.779860\n",
       "4  0.717014  0.756260      0.793403  0.685382\n",
       "5  0.796875  0.629358      0.821181  0.549196\n",
       "6  0.812500  0.530113      0.845486  0.459185\n",
       "7  0.826389  0.491764      0.875000  0.415029\n",
       "8  0.850694  0.451510      0.859375  0.392537\n",
       "9  0.878472  0.352735      0.873264  0.331836"
      ]
     },
     "execution_count": 26,
     "metadata": {},
     "output_type": "execute_result"
    }
   ],
   "source": [
    "pd.DataFrame(history.history)"
   ]
  },
  {
   "cell_type": "code",
   "execution_count": null,
   "id": "4d245812-bff8-4a35-a716-34652fa466c0",
   "metadata": {},
   "outputs": [],
   "source": []
  },
  {
   "cell_type": "code",
   "execution_count": 30,
   "id": "d0ddc2ea-006d-4501-a865-8cb56fc42deb",
   "metadata": {},
   "outputs": [
    {
     "ename": "FileNotFoundError",
     "evalue": "[Errno 2] No such file or directory: '../data/models/last_cnn_model_history.pkl'",
     "output_type": "error",
     "traceback": [
      "\u001b[0;31m---------------------------------------------------------------------------\u001b[0m",
      "\u001b[0;31mFileNotFoundError\u001b[0m                         Traceback (most recent call last)",
      "Cell \u001b[0;32mIn[30], line 1\u001b[0m\n\u001b[0;32m----> 1\u001b[0m \u001b[38;5;28;01mwith\u001b[39;00m \u001b[38;5;28;43mopen\u001b[39;49m\u001b[43m(\u001b[49m\u001b[38;5;124;43m'\u001b[39;49m\u001b[38;5;124;43m../data/models/last_cnn_model_history.pkl\u001b[39;49m\u001b[38;5;124;43m'\u001b[39;49m\u001b[43m,\u001b[49m\u001b[43m \u001b[49m\u001b[38;5;124;43m'\u001b[39;49m\u001b[38;5;124;43mwb\u001b[39;49m\u001b[38;5;124;43m'\u001b[39;49m\u001b[43m)\u001b[49m \u001b[38;5;28;01mas\u001b[39;00m handle:\n\u001b[1;32m      2\u001b[0m     pickle\u001b[38;5;241m.\u001b[39mdump(history, handle)\n",
      "File \u001b[0;32m~/.local/lib/python3.10/site-packages/IPython/core/interactiveshell.py:310\u001b[0m, in \u001b[0;36m_modified_open\u001b[0;34m(file, *args, **kwargs)\u001b[0m\n\u001b[1;32m    303\u001b[0m \u001b[38;5;28;01mif\u001b[39;00m file \u001b[38;5;129;01min\u001b[39;00m {\u001b[38;5;241m0\u001b[39m, \u001b[38;5;241m1\u001b[39m, \u001b[38;5;241m2\u001b[39m}:\n\u001b[1;32m    304\u001b[0m     \u001b[38;5;28;01mraise\u001b[39;00m \u001b[38;5;167;01mValueError\u001b[39;00m(\n\u001b[1;32m    305\u001b[0m         \u001b[38;5;124mf\u001b[39m\u001b[38;5;124m\"\u001b[39m\u001b[38;5;124mIPython won\u001b[39m\u001b[38;5;124m'\u001b[39m\u001b[38;5;124mt let you open fd=\u001b[39m\u001b[38;5;132;01m{\u001b[39;00mfile\u001b[38;5;132;01m}\u001b[39;00m\u001b[38;5;124m by default \u001b[39m\u001b[38;5;124m\"\u001b[39m\n\u001b[1;32m    306\u001b[0m         \u001b[38;5;124m\"\u001b[39m\u001b[38;5;124mas it is likely to crash IPython. If you know what you are doing, \u001b[39m\u001b[38;5;124m\"\u001b[39m\n\u001b[1;32m    307\u001b[0m         \u001b[38;5;124m\"\u001b[39m\u001b[38;5;124myou can use builtins\u001b[39m\u001b[38;5;124m'\u001b[39m\u001b[38;5;124m open.\u001b[39m\u001b[38;5;124m\"\u001b[39m\n\u001b[1;32m    308\u001b[0m     )\n\u001b[0;32m--> 310\u001b[0m \u001b[38;5;28;01mreturn\u001b[39;00m \u001b[43mio_open\u001b[49m\u001b[43m(\u001b[49m\u001b[43mfile\u001b[49m\u001b[43m,\u001b[49m\u001b[43m \u001b[49m\u001b[38;5;241;43m*\u001b[39;49m\u001b[43margs\u001b[49m\u001b[43m,\u001b[49m\u001b[43m \u001b[49m\u001b[38;5;241;43m*\u001b[39;49m\u001b[38;5;241;43m*\u001b[39;49m\u001b[43mkwargs\u001b[49m\u001b[43m)\u001b[49m\n",
      "\u001b[0;31mFileNotFoundError\u001b[0m: [Errno 2] No such file or directory: '../data/models/last_cnn_model_history.pkl'"
     ]
    }
   ],
   "source": [
    "with open('../data/models/last_cnn_model_history.pkl', 'wb') as handle:\n",
    "    pickle.dump(history, handle)"
   ]
  },
  {
   "cell_type": "code",
   "execution_count": null,
   "id": "974c2c39-50de-43df-a00f-5a445c0b5dfd",
   "metadata": {},
   "outputs": [],
   "source": []
  },
  {
   "cell_type": "code",
   "execution_count": 22,
   "id": "eb492dab-1b49-42e4-a133-83e2842292b9",
   "metadata": {},
   "outputs": [
    {
     "data": {
      "text/html": [
       "<div>\n",
       "<style scoped>\n",
       "    .dataframe tbody tr th:only-of-type {\n",
       "        vertical-align: middle;\n",
       "    }\n",
       "\n",
       "    .dataframe tbody tr th {\n",
       "        vertical-align: top;\n",
       "    }\n",
       "\n",
       "    .dataframe thead th {\n",
       "        text-align: right;\n",
       "    }\n",
       "</style>\n",
       "<table border=\"1\" class=\"dataframe\">\n",
       "  <thead>\n",
       "    <tr style=\"text-align: right;\">\n",
       "      <th></th>\n",
       "      <th>path</th>\n",
       "      <th>frame</th>\n",
       "      <th>border</th>\n",
       "    </tr>\n",
       "  </thead>\n",
       "  <tbody>\n",
       "    <tr>\n",
       "      <th>0</th>\n",
       "      <td>20240209_atelier_006.mp4</td>\n",
       "      <td>745</td>\n",
       "      <td>0</td>\n",
       "    </tr>\n",
       "    <tr>\n",
       "      <th>1</th>\n",
       "      <td>20240209_atelier_007.mp4</td>\n",
       "      <td>103</td>\n",
       "      <td>0</td>\n",
       "    </tr>\n",
       "    <tr>\n",
       "      <th>2</th>\n",
       "      <td>20240201_atelier_002.mp4</td>\n",
       "      <td>91</td>\n",
       "      <td>0</td>\n",
       "    </tr>\n",
       "    <tr>\n",
       "      <th>3</th>\n",
       "      <td>20240201_atelier_004.mp4</td>\n",
       "      <td>806</td>\n",
       "      <td>2</td>\n",
       "    </tr>\n",
       "    <tr>\n",
       "      <th>4</th>\n",
       "      <td>20240201_atelier_003.mp4</td>\n",
       "      <td>622</td>\n",
       "      <td>2</td>\n",
       "    </tr>\n",
       "    <tr>\n",
       "      <th>...</th>\n",
       "      <td>...</td>\n",
       "      <td>...</td>\n",
       "      <td>...</td>\n",
       "    </tr>\n",
       "    <tr>\n",
       "      <th>727</th>\n",
       "      <td>20240201_atelier_004.mp4</td>\n",
       "      <td>2057</td>\n",
       "      <td>9</td>\n",
       "    </tr>\n",
       "    <tr>\n",
       "      <th>728</th>\n",
       "      <td>20240201_atelier_001.mp4</td>\n",
       "      <td>517</td>\n",
       "      <td>2</td>\n",
       "    </tr>\n",
       "    <tr>\n",
       "      <th>729</th>\n",
       "      <td>20240201_atelier_001.mp4</td>\n",
       "      <td>215</td>\n",
       "      <td>0</td>\n",
       "    </tr>\n",
       "    <tr>\n",
       "      <th>730</th>\n",
       "      <td>20240201_atelier_001.mp4</td>\n",
       "      <td>633</td>\n",
       "      <td>9</td>\n",
       "    </tr>\n",
       "    <tr>\n",
       "      <th>731</th>\n",
       "      <td>20240201_atelier_004.mp4</td>\n",
       "      <td>976</td>\n",
       "      <td>0</td>\n",
       "    </tr>\n",
       "  </tbody>\n",
       "</table>\n",
       "<p>732 rows × 3 columns</p>\n",
       "</div>"
      ],
      "text/plain": [
       "                         path  frame  border\n",
       "0    20240209_atelier_006.mp4    745       0\n",
       "1    20240209_atelier_007.mp4    103       0\n",
       "2    20240201_atelier_002.mp4     91       0\n",
       "3    20240201_atelier_004.mp4    806       2\n",
       "4    20240201_atelier_003.mp4    622       2\n",
       "..                        ...    ...     ...\n",
       "727  20240201_atelier_004.mp4   2057       9\n",
       "728  20240201_atelier_001.mp4    517       2\n",
       "729  20240201_atelier_001.mp4    215       0\n",
       "730  20240201_atelier_001.mp4    633       9\n",
       "731  20240201_atelier_004.mp4    976       0\n",
       "\n",
       "[732 rows x 3 columns]"
      ]
     },
     "execution_count": 22,
     "metadata": {},
     "output_type": "execute_result"
    }
   ],
   "source": [
    "df_labels = pickle_load_or_create(video_border_labels_path, [])\n",
    "df_labels"
   ]
  },
  {
   "cell_type": "code",
   "execution_count": null,
   "id": "f9b31e26-f5fb-4ad4-aabd-fdbf27d415ef",
   "metadata": {},
   "outputs": [],
   "source": []
  },
  {
   "cell_type": "code",
   "execution_count": null,
   "id": "b70d0575-d2d2-4b49-974f-68fc3b878a74",
   "metadata": {},
   "outputs": [],
   "source": []
  },
  {
   "cell_type": "code",
   "execution_count": null,
   "id": "f5c77033-2026-4cdf-8ffd-d92bf3561a4d",
   "metadata": {},
   "outputs": [],
   "source": []
  },
  {
   "cell_type": "code",
   "execution_count": null,
   "id": "8b0d55fd-04dc-42fa-a069-bbcff3985d29",
   "metadata": {},
   "outputs": [],
   "source": []
  },
  {
   "cell_type": "code",
   "execution_count": null,
   "id": "c67488ac-d8db-4f76-aaa9-974b9d48c82b",
   "metadata": {},
   "outputs": [],
   "source": []
  },
  {
   "cell_type": "code",
   "execution_count": null,
   "id": "d36284c8-a8da-43a6-90e6-4be72f35c39c",
   "metadata": {},
   "outputs": [],
   "source": []
  },
  {
   "cell_type": "code",
   "execution_count": null,
   "id": "da57d4ba-89d7-4c38-9c51-151a2dcdb525",
   "metadata": {},
   "outputs": [],
   "source": []
  },
  {
   "cell_type": "code",
   "execution_count": null,
   "id": "90fdc98d-433f-4877-9f58-96966648ba1d",
   "metadata": {},
   "outputs": [],
   "source": []
  },
  {
   "cell_type": "code",
   "execution_count": null,
   "id": "f1287828-b8f0-4db0-93b0-20dc90f54c37",
   "metadata": {},
   "outputs": [],
   "source": []
  }
 ],
 "metadata": {
  "kernelspec": {
   "display_name": "Python 3 (ipykernel)",
   "language": "python",
   "name": "python3"
  },
  "language_info": {
   "codemirror_mode": {
    "name": "ipython",
    "version": 3
   },
   "file_extension": ".py",
   "mimetype": "text/x-python",
   "name": "python",
   "nbconvert_exporter": "python",
   "pygments_lexer": "ipython3",
   "version": "3.10.12"
  }
 },
 "nbformat": 4,
 "nbformat_minor": 5
}
