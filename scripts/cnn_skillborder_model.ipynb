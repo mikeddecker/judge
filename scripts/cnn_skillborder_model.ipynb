{
 "cells": [
  {
   "cell_type": "code",
   "execution_count": 1,
   "id": "d46cd2f2-ccd7-4a7e-8725-cab1b9b4c4d2",
   "metadata": {},
   "outputs": [],
   "source": [
    "# keras CNN predict air, between, ground or not jumping"
   ]
  },
  {
   "cell_type": "code",
   "execution_count": 2,
   "id": "866d8eb0-81e5-493a-aac8-c56f0b4aeea5",
   "metadata": {},
   "outputs": [
    {
     "name": "stdout",
     "output_type": "stream",
     "text": [
      "Defaulting to user installation because normal site-packages is not writeable\n",
      "Requirement already satisfied: tensorflow in /home/miked/.local/lib/python3.10/site-packages (2.16.1)\n",
      "Requirement already satisfied: packaging in /home/miked/.local/lib/python3.10/site-packages (from tensorflow) (23.2)\n",
      "Requirement already satisfied: requests<3,>=2.21.0 in /home/miked/.local/lib/python3.10/site-packages (from tensorflow) (2.31.0)\n",
      "Requirement already satisfied: flatbuffers>=23.5.26 in /home/miked/.local/lib/python3.10/site-packages (from tensorflow) (24.3.25)\n",
      "Requirement already satisfied: google-pasta>=0.1.1 in /home/miked/.local/lib/python3.10/site-packages (from tensorflow) (0.2.0)\n",
      "Requirement already satisfied: opt-einsum>=2.3.2 in /home/miked/.local/lib/python3.10/site-packages (from tensorflow) (3.3.0)\n",
      "Requirement already satisfied: termcolor>=1.1.0 in /home/miked/.local/lib/python3.10/site-packages (from tensorflow) (2.4.0)\n",
      "Requirement already satisfied: keras>=3.0.0 in /home/miked/.local/lib/python3.10/site-packages (from tensorflow) (3.3.3)\n",
      "Requirement already satisfied: tensorflow-io-gcs-filesystem>=0.23.1 in /home/miked/.local/lib/python3.10/site-packages (from tensorflow) (0.37.0)\n",
      "Requirement already satisfied: wrapt>=1.11.0 in /home/miked/.local/lib/python3.10/site-packages (from tensorflow) (1.16.0)\n",
      "Requirement already satisfied: absl-py>=1.0.0 in /home/miked/.local/lib/python3.10/site-packages (from tensorflow) (2.1.0)\n",
      "Requirement already satisfied: libclang>=13.0.0 in /home/miked/.local/lib/python3.10/site-packages (from tensorflow) (18.1.1)\n",
      "Requirement already satisfied: astunparse>=1.6.0 in /home/miked/.local/lib/python3.10/site-packages (from tensorflow) (1.6.3)\n",
      "Requirement already satisfied: numpy<2.0.0,>=1.23.5 in /home/miked/.local/lib/python3.10/site-packages (from tensorflow) (1.26.4)\n",
      "Requirement already satisfied: grpcio<2.0,>=1.24.3 in /home/miked/.local/lib/python3.10/site-packages (from tensorflow) (1.64.1)\n",
      "Requirement already satisfied: typing-extensions>=3.6.6 in /home/miked/.local/lib/python3.10/site-packages (from tensorflow) (4.9.0)\n",
      "Requirement already satisfied: protobuf!=4.21.0,!=4.21.1,!=4.21.2,!=4.21.3,!=4.21.4,!=4.21.5,<5.0.0dev,>=3.20.3 in /home/miked/.local/lib/python3.10/site-packages (from tensorflow) (4.25.3)\n",
      "Requirement already satisfied: ml-dtypes~=0.3.1 in /home/miked/.local/lib/python3.10/site-packages (from tensorflow) (0.3.2)\n",
      "Requirement already satisfied: gast!=0.5.0,!=0.5.1,!=0.5.2,>=0.2.1 in /home/miked/.local/lib/python3.10/site-packages (from tensorflow) (0.5.4)\n",
      "Requirement already satisfied: h5py>=3.10.0 in /home/miked/.local/lib/python3.10/site-packages (from tensorflow) (3.11.0)\n",
      "Requirement already satisfied: six>=1.12.0 in /usr/lib/python3/dist-packages (from tensorflow) (1.16.0)\n",
      "Requirement already satisfied: tensorboard<2.17,>=2.16 in /home/miked/.local/lib/python3.10/site-packages (from tensorflow) (2.16.2)\n",
      "Requirement already satisfied: setuptools in /home/miked/.local/lib/python3.10/site-packages (from tensorflow) (70.0.0)\n",
      "Requirement already satisfied: wheel<1.0,>=0.23.0 in /usr/lib/python3/dist-packages (from astunparse>=1.6.0->tensorflow) (0.37.1)\n",
      "Requirement already satisfied: namex in /home/miked/.local/lib/python3.10/site-packages (from keras>=3.0.0->tensorflow) (0.0.8)\n",
      "Requirement already satisfied: rich in /home/miked/.local/lib/python3.10/site-packages (from keras>=3.0.0->tensorflow) (13.7.1)\n",
      "Requirement already satisfied: optree in /home/miked/.local/lib/python3.10/site-packages (from keras>=3.0.0->tensorflow) (0.11.0)\n",
      "Requirement already satisfied: charset-normalizer<4,>=2 in /home/miked/.local/lib/python3.10/site-packages (from requests<3,>=2.21.0->tensorflow) (3.3.2)\n",
      "Requirement already satisfied: certifi>=2017.4.17 in /usr/lib/python3/dist-packages (from requests<3,>=2.21.0->tensorflow) (2020.6.20)\n",
      "Requirement already satisfied: urllib3<3,>=1.21.1 in /usr/lib/python3/dist-packages (from requests<3,>=2.21.0->tensorflow) (1.26.5)\n",
      "Requirement already satisfied: idna<4,>=2.5 in /usr/lib/python3/dist-packages (from requests<3,>=2.21.0->tensorflow) (3.3)\n",
      "Requirement already satisfied: markdown>=2.6.8 in /home/miked/.local/lib/python3.10/site-packages (from tensorboard<2.17,>=2.16->tensorflow) (3.6)\n",
      "Requirement already satisfied: tensorboard-data-server<0.8.0,>=0.7.0 in /home/miked/.local/lib/python3.10/site-packages (from tensorboard<2.17,>=2.16->tensorflow) (0.7.2)\n",
      "Requirement already satisfied: werkzeug>=1.0.1 in /home/miked/.local/lib/python3.10/site-packages (from tensorboard<2.17,>=2.16->tensorflow) (3.0.3)\n",
      "Requirement already satisfied: MarkupSafe>=2.1.1 in /home/miked/.local/lib/python3.10/site-packages (from werkzeug>=1.0.1->tensorboard<2.17,>=2.16->tensorflow) (2.1.5)\n",
      "Requirement already satisfied: markdown-it-py>=2.2.0 in /home/miked/.local/lib/python3.10/site-packages (from rich->keras>=3.0.0->tensorflow) (3.0.0)\n",
      "Requirement already satisfied: pygments<3.0.0,>=2.13.0 in /home/miked/.local/lib/python3.10/site-packages (from rich->keras>=3.0.0->tensorflow) (2.17.2)\n",
      "Requirement already satisfied: mdurl~=0.1 in /home/miked/.local/lib/python3.10/site-packages (from markdown-it-py>=2.2.0->rich->keras>=3.0.0->tensorflow) (0.1.2)\n"
     ]
    }
   ],
   "source": [
    "!pip3 install tensorflow"
   ]
  },
  {
   "cell_type": "code",
   "execution_count": 3,
   "id": "ec73ef6e-5e7e-4e46-be92-312f781394ec",
   "metadata": {},
   "outputs": [
    {
     "name": "stderr",
     "output_type": "stream",
     "text": [
      "2024-06-11 11:34:11.631096: I tensorflow/core/util/port.cc:113] oneDNN custom operations are on. You may see slightly different numerical results due to floating-point round-off errors from different computation orders. To turn them off, set the environment variable `TF_ENABLE_ONEDNN_OPTS=0`.\n",
      "2024-06-11 11:34:11.673434: I tensorflow/core/platform/cpu_feature_guard.cc:210] This TensorFlow binary is optimized to use available CPU instructions in performance-critical operations.\n",
      "To enable the following instructions: AVX2 AVX512F AVX512_VNNI FMA, in other operations, rebuild TensorFlow with the appropriate compiler flags.\n",
      "2024-06-11 11:34:12.402992: W tensorflow/compiler/tf2tensorrt/utils/py_utils.cc:38] TF-TRT Warning: Could not find TensorRT\n"
     ]
    }
   ],
   "source": [
    "import tensorflow as tf\n",
    "\n",
    "from tensorflow.keras import datasets, layers, models\n",
    "import numpy as np\n",
    "import pandas as pd\n",
    "import matplotlib.pyplot as plt\n",
    "import cv2\n",
    "import os\n",
    "import pickle\n",
    "\n",
    "from my_classes import DataGeneratorSkillBorders"
   ]
  },
  {
   "cell_type": "code",
   "execution_count": 4,
   "id": "1a6d6673-97aa-4ce5-96e8-99ac3c381e5d",
   "metadata": {},
   "outputs": [],
   "source": [
    "video_border_labels_path = '../data/df_video_border_labels.pkl'\n",
    "video_folder = '../videos/'\n",
    "\n",
    "video_names = [\n",
    "    '20240201_atelier_001.mp4',\n",
    "    '20240201_atelier_002.mp4',\n",
    "    '20240201_atelier_003.mp4',\n",
    "    '20240201_atelier_004.mp4',\n",
    "    '20240201_atelier_005.mp4',\n",
    "    '20240209_atelier_006.mp4',\n",
    "    '20240209_atelier_007.mp4',\n",
    "    '20240209_atelier_008.mp4',\n",
    "]\n",
    "\n",
    "train_videos = [ video_folder + trainvid for trainvid in video_names]"
   ]
  },
  {
   "cell_type": "code",
   "execution_count": 5,
   "id": "81b6daf1-ef2e-43c1-95d8-2a960b07955a",
   "metadata": {},
   "outputs": [],
   "source": [
    "def pickle_load_or_create(path, cols):\n",
    "    if os.path.exists(path):\n",
    "        with open(path, 'rb') as file:\n",
    "            return pickle.load(file)\n",
    "    else:\n",
    "        return pd.DataFrame(columns=cols)"
   ]
  },
  {
   "cell_type": "code",
   "execution_count": 6,
   "id": "dc0f1b86-5e84-450c-9a2d-6c1d757739fc",
   "metadata": {},
   "outputs": [
    {
     "data": {
      "text/html": [
       "<div>\n",
       "<style scoped>\n",
       "    .dataframe tbody tr th:only-of-type {\n",
       "        vertical-align: middle;\n",
       "    }\n",
       "\n",
       "    .dataframe tbody tr th {\n",
       "        vertical-align: top;\n",
       "    }\n",
       "\n",
       "    .dataframe thead th {\n",
       "        text-align: right;\n",
       "    }\n",
       "</style>\n",
       "<table border=\"1\" class=\"dataframe\">\n",
       "  <thead>\n",
       "    <tr style=\"text-align: right;\">\n",
       "      <th></th>\n",
       "      <th>path</th>\n",
       "      <th>frame</th>\n",
       "      <th>border</th>\n",
       "    </tr>\n",
       "  </thead>\n",
       "  <tbody>\n",
       "    <tr>\n",
       "      <th>0</th>\n",
       "      <td>20240209_atelier_006.mp4</td>\n",
       "      <td>745</td>\n",
       "      <td>0</td>\n",
       "    </tr>\n",
       "    <tr>\n",
       "      <th>1</th>\n",
       "      <td>20240209_atelier_007.mp4</td>\n",
       "      <td>103</td>\n",
       "      <td>0</td>\n",
       "    </tr>\n",
       "    <tr>\n",
       "      <th>2</th>\n",
       "      <td>20240201_atelier_002.mp4</td>\n",
       "      <td>91</td>\n",
       "      <td>0</td>\n",
       "    </tr>\n",
       "    <tr>\n",
       "      <th>3</th>\n",
       "      <td>20240201_atelier_004.mp4</td>\n",
       "      <td>806</td>\n",
       "      <td>2</td>\n",
       "    </tr>\n",
       "    <tr>\n",
       "      <th>4</th>\n",
       "      <td>20240201_atelier_003.mp4</td>\n",
       "      <td>622</td>\n",
       "      <td>2</td>\n",
       "    </tr>\n",
       "    <tr>\n",
       "      <th>...</th>\n",
       "      <td>...</td>\n",
       "      <td>...</td>\n",
       "      <td>...</td>\n",
       "    </tr>\n",
       "    <tr>\n",
       "      <th>733</th>\n",
       "      <td>20240201_atelier_002.mp4</td>\n",
       "      <td>549</td>\n",
       "      <td>0</td>\n",
       "    </tr>\n",
       "    <tr>\n",
       "      <th>734</th>\n",
       "      <td>20240201_atelier_003.mp4</td>\n",
       "      <td>491</td>\n",
       "      <td>0</td>\n",
       "    </tr>\n",
       "    <tr>\n",
       "      <th>735</th>\n",
       "      <td>20240201_atelier_003.mp4</td>\n",
       "      <td>290</td>\n",
       "      <td>2</td>\n",
       "    </tr>\n",
       "    <tr>\n",
       "      <th>736</th>\n",
       "      <td>20240201_atelier_001.mp4</td>\n",
       "      <td>346</td>\n",
       "      <td>0</td>\n",
       "    </tr>\n",
       "    <tr>\n",
       "      <th>737</th>\n",
       "      <td>20240209_atelier_006.mp4</td>\n",
       "      <td>549</td>\n",
       "      <td>0</td>\n",
       "    </tr>\n",
       "  </tbody>\n",
       "</table>\n",
       "<p>738 rows × 3 columns</p>\n",
       "</div>"
      ],
      "text/plain": [
       "                         path  frame  border\n",
       "0    20240209_atelier_006.mp4    745       0\n",
       "1    20240209_atelier_007.mp4    103       0\n",
       "2    20240201_atelier_002.mp4     91       0\n",
       "3    20240201_atelier_004.mp4    806       2\n",
       "4    20240201_atelier_003.mp4    622       2\n",
       "..                        ...    ...     ...\n",
       "733  20240201_atelier_002.mp4    549       0\n",
       "734  20240201_atelier_003.mp4    491       0\n",
       "735  20240201_atelier_003.mp4    290       2\n",
       "736  20240201_atelier_001.mp4    346       0\n",
       "737  20240209_atelier_006.mp4    549       0\n",
       "\n",
       "[738 rows x 3 columns]"
      ]
     },
     "execution_count": 6,
     "metadata": {},
     "output_type": "execute_result"
    }
   ],
   "source": [
    "df_labels = pickle_load_or_create(video_border_labels_path, [])\n",
    "df_labels"
   ]
  },
  {
   "cell_type": "code",
   "execution_count": 7,
   "id": "0b8a2b2e-107a-4a68-b41c-6487480f38a9",
   "metadata": {},
   "outputs": [],
   "source": [
    "df_labels.loc[df_labels.border == 5, 'border'] = 3\n",
    "df_labels.loc[df_labels.border == 9, 'border'] = 4"
   ]
  },
  {
   "cell_type": "code",
   "execution_count": 8,
   "id": "518bced6-0e6d-4e21-85ac-7cb83f28532a",
   "metadata": {},
   "outputs": [],
   "source": [
    "def get_random_frame(videos, grey=True, scale=1):\n",
    "    \"\"\"\n",
    "    videos: array of video_paths\n",
    "    df_video_border_labels: panda dataframe ['path', 'frame', 'borderlabel']\n",
    "          0 : ground\n",
    "          1 : heels of ground\n",
    "          2 : air\n",
    "          3 : Fault\n",
    "          4 : no skipper or not jumping\n",
    "    \"\"\"\n",
    "    path = videos[np.random.randint(0, len(videos)-1)]\n",
    "    \n",
    "    cap = cv2.VideoCapture(path)\n",
    "    video_length = int(cap.get(cv2.CAP_PROP_FRAME_COUNT))\n",
    "    \n",
    "    frame_nr = np.random.randint(0, video_length-1)\n",
    "    \n",
    "    cap.set(cv2.CAP_PROP_POS_FRAMES, frame_nr)\n",
    "    res, frame = cap.read()\n",
    "    frame = cv2.resize(frame, dsize=(0,0), fx=scale, fy=scale)\n",
    "    # frame = cv2.cvtColor(frame, 7)\n",
    "    cap.release()\n",
    "    # cv2.destroyAllWindows()\n",
    "\n",
    "    return path, frame_nr, frame"
   ]
  },
  {
   "cell_type": "code",
   "execution_count": 9,
   "id": "ab5f5ad6-b1e3-47f7-96c1-805a5fc28362",
   "metadata": {},
   "outputs": [
    {
     "data": {
      "text/plain": [
       "(768, 432, 3)"
      ]
     },
     "execution_count": 9,
     "metadata": {},
     "output_type": "execute_result"
    }
   ],
   "source": [
    "input_shape = get_random_frame(train_videos, grey=True, scale=0.4)[2].shape\n",
    "input_shape"
   ]
  },
  {
   "cell_type": "code",
   "execution_count": 10,
   "id": "f00a61df-44c3-4d38-8e1b-7e6c83efe953",
   "metadata": {},
   "outputs": [
    {
     "name": "stderr",
     "output_type": "stream",
     "text": [
      "/home/miked/.local/lib/python3.10/site-packages/keras/src/layers/convolutional/base_conv.py:107: UserWarning: Do not pass an `input_shape`/`input_dim` argument to a layer. When using Sequential models, prefer using an `Input(shape)` object as the first layer in the model instead.\n",
      "  super().__init__(activity_regularizer=activity_regularizer, **kwargs)\n"
     ]
    }
   ],
   "source": [
    "model = models.Sequential()\n",
    "model.add(layers.Conv2D(32, (3, 3), activation='relu', input_shape=(64,64,3)))\n",
    "model.add(layers.MaxPooling2D((2, 2)))\n",
    "model.add(layers.Conv2D(64, (3, 3), activation='relu'))\n",
    "model.add(layers.MaxPooling2D((2, 2)))\n",
    "model.add(layers.Conv2D(64, (3, 3), activation='relu'))\n"
   ]
  },
  {
   "cell_type": "code",
   "execution_count": 11,
   "id": "7ced48a4-4077-4fc0-bf25-ebc558c8fc12",
   "metadata": {},
   "outputs": [
    {
     "data": {
      "text/html": [
       "<pre style=\"white-space:pre;overflow-x:auto;line-height:normal;font-family:Menlo,'DejaVu Sans Mono',consolas,'Courier New',monospace\"><span style=\"font-weight: bold\">Model: \"sequential\"</span>\n",
       "</pre>\n"
      ],
      "text/plain": [
       "\u001b[1mModel: \"sequential\"\u001b[0m\n"
      ]
     },
     "metadata": {},
     "output_type": "display_data"
    },
    {
     "data": {
      "text/html": [
       "<pre style=\"white-space:pre;overflow-x:auto;line-height:normal;font-family:Menlo,'DejaVu Sans Mono',consolas,'Courier New',monospace\">┏━━━━━━━━━━━━━━━━━━━━━━━━━━━━━━━━━┳━━━━━━━━━━━━━━━━━━━━━━━━┳━━━━━━━━━━━━━━━┓\n",
       "┃<span style=\"font-weight: bold\"> Layer (type)                    </span>┃<span style=\"font-weight: bold\"> Output Shape           </span>┃<span style=\"font-weight: bold\">       Param # </span>┃\n",
       "┡━━━━━━━━━━━━━━━━━━━━━━━━━━━━━━━━━╇━━━━━━━━━━━━━━━━━━━━━━━━╇━━━━━━━━━━━━━━━┩\n",
       "│ conv2d (<span style=\"color: #0087ff; text-decoration-color: #0087ff\">Conv2D</span>)                 │ (<span style=\"color: #00d7ff; text-decoration-color: #00d7ff\">None</span>, <span style=\"color: #00af00; text-decoration-color: #00af00\">62</span>, <span style=\"color: #00af00; text-decoration-color: #00af00\">62</span>, <span style=\"color: #00af00; text-decoration-color: #00af00\">32</span>)     │           <span style=\"color: #00af00; text-decoration-color: #00af00\">896</span> │\n",
       "├─────────────────────────────────┼────────────────────────┼───────────────┤\n",
       "│ max_pooling2d (<span style=\"color: #0087ff; text-decoration-color: #0087ff\">MaxPooling2D</span>)    │ (<span style=\"color: #00d7ff; text-decoration-color: #00d7ff\">None</span>, <span style=\"color: #00af00; text-decoration-color: #00af00\">31</span>, <span style=\"color: #00af00; text-decoration-color: #00af00\">31</span>, <span style=\"color: #00af00; text-decoration-color: #00af00\">32</span>)     │             <span style=\"color: #00af00; text-decoration-color: #00af00\">0</span> │\n",
       "├─────────────────────────────────┼────────────────────────┼───────────────┤\n",
       "│ conv2d_1 (<span style=\"color: #0087ff; text-decoration-color: #0087ff\">Conv2D</span>)               │ (<span style=\"color: #00d7ff; text-decoration-color: #00d7ff\">None</span>, <span style=\"color: #00af00; text-decoration-color: #00af00\">29</span>, <span style=\"color: #00af00; text-decoration-color: #00af00\">29</span>, <span style=\"color: #00af00; text-decoration-color: #00af00\">64</span>)     │        <span style=\"color: #00af00; text-decoration-color: #00af00\">18,496</span> │\n",
       "├─────────────────────────────────┼────────────────────────┼───────────────┤\n",
       "│ max_pooling2d_1 (<span style=\"color: #0087ff; text-decoration-color: #0087ff\">MaxPooling2D</span>)  │ (<span style=\"color: #00d7ff; text-decoration-color: #00d7ff\">None</span>, <span style=\"color: #00af00; text-decoration-color: #00af00\">14</span>, <span style=\"color: #00af00; text-decoration-color: #00af00\">14</span>, <span style=\"color: #00af00; text-decoration-color: #00af00\">64</span>)     │             <span style=\"color: #00af00; text-decoration-color: #00af00\">0</span> │\n",
       "├─────────────────────────────────┼────────────────────────┼───────────────┤\n",
       "│ conv2d_2 (<span style=\"color: #0087ff; text-decoration-color: #0087ff\">Conv2D</span>)               │ (<span style=\"color: #00d7ff; text-decoration-color: #00d7ff\">None</span>, <span style=\"color: #00af00; text-decoration-color: #00af00\">12</span>, <span style=\"color: #00af00; text-decoration-color: #00af00\">12</span>, <span style=\"color: #00af00; text-decoration-color: #00af00\">64</span>)     │        <span style=\"color: #00af00; text-decoration-color: #00af00\">36,928</span> │\n",
       "└─────────────────────────────────┴────────────────────────┴───────────────┘\n",
       "</pre>\n"
      ],
      "text/plain": [
       "┏━━━━━━━━━━━━━━━━━━━━━━━━━━━━━━━━━┳━━━━━━━━━━━━━━━━━━━━━━━━┳━━━━━━━━━━━━━━━┓\n",
       "┃\u001b[1m \u001b[0m\u001b[1mLayer (type)                   \u001b[0m\u001b[1m \u001b[0m┃\u001b[1m \u001b[0m\u001b[1mOutput Shape          \u001b[0m\u001b[1m \u001b[0m┃\u001b[1m \u001b[0m\u001b[1m      Param #\u001b[0m\u001b[1m \u001b[0m┃\n",
       "┡━━━━━━━━━━━━━━━━━━━━━━━━━━━━━━━━━╇━━━━━━━━━━━━━━━━━━━━━━━━╇━━━━━━━━━━━━━━━┩\n",
       "│ conv2d (\u001b[38;5;33mConv2D\u001b[0m)                 │ (\u001b[38;5;45mNone\u001b[0m, \u001b[38;5;34m62\u001b[0m, \u001b[38;5;34m62\u001b[0m, \u001b[38;5;34m32\u001b[0m)     │           \u001b[38;5;34m896\u001b[0m │\n",
       "├─────────────────────────────────┼────────────────────────┼───────────────┤\n",
       "│ max_pooling2d (\u001b[38;5;33mMaxPooling2D\u001b[0m)    │ (\u001b[38;5;45mNone\u001b[0m, \u001b[38;5;34m31\u001b[0m, \u001b[38;5;34m31\u001b[0m, \u001b[38;5;34m32\u001b[0m)     │             \u001b[38;5;34m0\u001b[0m │\n",
       "├─────────────────────────────────┼────────────────────────┼───────────────┤\n",
       "│ conv2d_1 (\u001b[38;5;33mConv2D\u001b[0m)               │ (\u001b[38;5;45mNone\u001b[0m, \u001b[38;5;34m29\u001b[0m, \u001b[38;5;34m29\u001b[0m, \u001b[38;5;34m64\u001b[0m)     │        \u001b[38;5;34m18,496\u001b[0m │\n",
       "├─────────────────────────────────┼────────────────────────┼───────────────┤\n",
       "│ max_pooling2d_1 (\u001b[38;5;33mMaxPooling2D\u001b[0m)  │ (\u001b[38;5;45mNone\u001b[0m, \u001b[38;5;34m14\u001b[0m, \u001b[38;5;34m14\u001b[0m, \u001b[38;5;34m64\u001b[0m)     │             \u001b[38;5;34m0\u001b[0m │\n",
       "├─────────────────────────────────┼────────────────────────┼───────────────┤\n",
       "│ conv2d_2 (\u001b[38;5;33mConv2D\u001b[0m)               │ (\u001b[38;5;45mNone\u001b[0m, \u001b[38;5;34m12\u001b[0m, \u001b[38;5;34m12\u001b[0m, \u001b[38;5;34m64\u001b[0m)     │        \u001b[38;5;34m36,928\u001b[0m │\n",
       "└─────────────────────────────────┴────────────────────────┴───────────────┘\n"
      ]
     },
     "metadata": {},
     "output_type": "display_data"
    },
    {
     "data": {
      "text/html": [
       "<pre style=\"white-space:pre;overflow-x:auto;line-height:normal;font-family:Menlo,'DejaVu Sans Mono',consolas,'Courier New',monospace\"><span style=\"font-weight: bold\"> Total params: </span><span style=\"color: #00af00; text-decoration-color: #00af00\">56,320</span> (220.00 KB)\n",
       "</pre>\n"
      ],
      "text/plain": [
       "\u001b[1m Total params: \u001b[0m\u001b[38;5;34m56,320\u001b[0m (220.00 KB)\n"
      ]
     },
     "metadata": {},
     "output_type": "display_data"
    },
    {
     "data": {
      "text/html": [
       "<pre style=\"white-space:pre;overflow-x:auto;line-height:normal;font-family:Menlo,'DejaVu Sans Mono',consolas,'Courier New',monospace\"><span style=\"font-weight: bold\"> Trainable params: </span><span style=\"color: #00af00; text-decoration-color: #00af00\">56,320</span> (220.00 KB)\n",
       "</pre>\n"
      ],
      "text/plain": [
       "\u001b[1m Trainable params: \u001b[0m\u001b[38;5;34m56,320\u001b[0m (220.00 KB)\n"
      ]
     },
     "metadata": {},
     "output_type": "display_data"
    },
    {
     "data": {
      "text/html": [
       "<pre style=\"white-space:pre;overflow-x:auto;line-height:normal;font-family:Menlo,'DejaVu Sans Mono',consolas,'Courier New',monospace\"><span style=\"font-weight: bold\"> Non-trainable params: </span><span style=\"color: #00af00; text-decoration-color: #00af00\">0</span> (0.00 B)\n",
       "</pre>\n"
      ],
      "text/plain": [
       "\u001b[1m Non-trainable params: \u001b[0m\u001b[38;5;34m0\u001b[0m (0.00 B)\n"
      ]
     },
     "metadata": {},
     "output_type": "display_data"
    }
   ],
   "source": [
    "model.summary()"
   ]
  },
  {
   "cell_type": "code",
   "execution_count": 12,
   "id": "17ace776-ef47-4177-ba8a-74ebbd7ae68b",
   "metadata": {},
   "outputs": [
    {
     "data": {
      "text/plain": [
       "array([0, 2, 1, 4, 3])"
      ]
     },
     "execution_count": 12,
     "metadata": {},
     "output_type": "execute_result"
    }
   ],
   "source": [
    "unique_labels = df_labels['border'].unique()\n",
    "unique_labels"
   ]
  },
  {
   "cell_type": "code",
   "execution_count": 13,
   "id": "fc15c154-93dc-467d-a960-088535f7310d",
   "metadata": {},
   "outputs": [],
   "source": [
    "model.add(layers.Flatten())\n",
    "model.add(layers.Dense(16, activation='relu'))\n",
    "model.add(layers.Dense(5))"
   ]
  },
  {
   "cell_type": "code",
   "execution_count": 14,
   "id": "04cb8221-dd3e-4c2f-9136-b1f657c0ffb5",
   "metadata": {},
   "outputs": [
    {
     "data": {
      "text/html": [
       "<pre style=\"white-space:pre;overflow-x:auto;line-height:normal;font-family:Menlo,'DejaVu Sans Mono',consolas,'Courier New',monospace\"><span style=\"font-weight: bold\">Model: \"sequential\"</span>\n",
       "</pre>\n"
      ],
      "text/plain": [
       "\u001b[1mModel: \"sequential\"\u001b[0m\n"
      ]
     },
     "metadata": {},
     "output_type": "display_data"
    },
    {
     "data": {
      "text/html": [
       "<pre style=\"white-space:pre;overflow-x:auto;line-height:normal;font-family:Menlo,'DejaVu Sans Mono',consolas,'Courier New',monospace\">┏━━━━━━━━━━━━━━━━━━━━━━━━━━━━━━━━━┳━━━━━━━━━━━━━━━━━━━━━━━━┳━━━━━━━━━━━━━━━┓\n",
       "┃<span style=\"font-weight: bold\"> Layer (type)                    </span>┃<span style=\"font-weight: bold\"> Output Shape           </span>┃<span style=\"font-weight: bold\">       Param # </span>┃\n",
       "┡━━━━━━━━━━━━━━━━━━━━━━━━━━━━━━━━━╇━━━━━━━━━━━━━━━━━━━━━━━━╇━━━━━━━━━━━━━━━┩\n",
       "│ conv2d (<span style=\"color: #0087ff; text-decoration-color: #0087ff\">Conv2D</span>)                 │ (<span style=\"color: #00d7ff; text-decoration-color: #00d7ff\">None</span>, <span style=\"color: #00af00; text-decoration-color: #00af00\">62</span>, <span style=\"color: #00af00; text-decoration-color: #00af00\">62</span>, <span style=\"color: #00af00; text-decoration-color: #00af00\">32</span>)     │           <span style=\"color: #00af00; text-decoration-color: #00af00\">896</span> │\n",
       "├─────────────────────────────────┼────────────────────────┼───────────────┤\n",
       "│ max_pooling2d (<span style=\"color: #0087ff; text-decoration-color: #0087ff\">MaxPooling2D</span>)    │ (<span style=\"color: #00d7ff; text-decoration-color: #00d7ff\">None</span>, <span style=\"color: #00af00; text-decoration-color: #00af00\">31</span>, <span style=\"color: #00af00; text-decoration-color: #00af00\">31</span>, <span style=\"color: #00af00; text-decoration-color: #00af00\">32</span>)     │             <span style=\"color: #00af00; text-decoration-color: #00af00\">0</span> │\n",
       "├─────────────────────────────────┼────────────────────────┼───────────────┤\n",
       "│ conv2d_1 (<span style=\"color: #0087ff; text-decoration-color: #0087ff\">Conv2D</span>)               │ (<span style=\"color: #00d7ff; text-decoration-color: #00d7ff\">None</span>, <span style=\"color: #00af00; text-decoration-color: #00af00\">29</span>, <span style=\"color: #00af00; text-decoration-color: #00af00\">29</span>, <span style=\"color: #00af00; text-decoration-color: #00af00\">64</span>)     │        <span style=\"color: #00af00; text-decoration-color: #00af00\">18,496</span> │\n",
       "├─────────────────────────────────┼────────────────────────┼───────────────┤\n",
       "│ max_pooling2d_1 (<span style=\"color: #0087ff; text-decoration-color: #0087ff\">MaxPooling2D</span>)  │ (<span style=\"color: #00d7ff; text-decoration-color: #00d7ff\">None</span>, <span style=\"color: #00af00; text-decoration-color: #00af00\">14</span>, <span style=\"color: #00af00; text-decoration-color: #00af00\">14</span>, <span style=\"color: #00af00; text-decoration-color: #00af00\">64</span>)     │             <span style=\"color: #00af00; text-decoration-color: #00af00\">0</span> │\n",
       "├─────────────────────────────────┼────────────────────────┼───────────────┤\n",
       "│ conv2d_2 (<span style=\"color: #0087ff; text-decoration-color: #0087ff\">Conv2D</span>)               │ (<span style=\"color: #00d7ff; text-decoration-color: #00d7ff\">None</span>, <span style=\"color: #00af00; text-decoration-color: #00af00\">12</span>, <span style=\"color: #00af00; text-decoration-color: #00af00\">12</span>, <span style=\"color: #00af00; text-decoration-color: #00af00\">64</span>)     │        <span style=\"color: #00af00; text-decoration-color: #00af00\">36,928</span> │\n",
       "├─────────────────────────────────┼────────────────────────┼───────────────┤\n",
       "│ flatten (<span style=\"color: #0087ff; text-decoration-color: #0087ff\">Flatten</span>)               │ (<span style=\"color: #00d7ff; text-decoration-color: #00d7ff\">None</span>, <span style=\"color: #00af00; text-decoration-color: #00af00\">9216</span>)           │             <span style=\"color: #00af00; text-decoration-color: #00af00\">0</span> │\n",
       "├─────────────────────────────────┼────────────────────────┼───────────────┤\n",
       "│ dense (<span style=\"color: #0087ff; text-decoration-color: #0087ff\">Dense</span>)                   │ (<span style=\"color: #00d7ff; text-decoration-color: #00d7ff\">None</span>, <span style=\"color: #00af00; text-decoration-color: #00af00\">16</span>)             │       <span style=\"color: #00af00; text-decoration-color: #00af00\">147,472</span> │\n",
       "├─────────────────────────────────┼────────────────────────┼───────────────┤\n",
       "│ dense_1 (<span style=\"color: #0087ff; text-decoration-color: #0087ff\">Dense</span>)                 │ (<span style=\"color: #00d7ff; text-decoration-color: #00d7ff\">None</span>, <span style=\"color: #00af00; text-decoration-color: #00af00\">5</span>)              │            <span style=\"color: #00af00; text-decoration-color: #00af00\">85</span> │\n",
       "└─────────────────────────────────┴────────────────────────┴───────────────┘\n",
       "</pre>\n"
      ],
      "text/plain": [
       "┏━━━━━━━━━━━━━━━━━━━━━━━━━━━━━━━━━┳━━━━━━━━━━━━━━━━━━━━━━━━┳━━━━━━━━━━━━━━━┓\n",
       "┃\u001b[1m \u001b[0m\u001b[1mLayer (type)                   \u001b[0m\u001b[1m \u001b[0m┃\u001b[1m \u001b[0m\u001b[1mOutput Shape          \u001b[0m\u001b[1m \u001b[0m┃\u001b[1m \u001b[0m\u001b[1m      Param #\u001b[0m\u001b[1m \u001b[0m┃\n",
       "┡━━━━━━━━━━━━━━━━━━━━━━━━━━━━━━━━━╇━━━━━━━━━━━━━━━━━━━━━━━━╇━━━━━━━━━━━━━━━┩\n",
       "│ conv2d (\u001b[38;5;33mConv2D\u001b[0m)                 │ (\u001b[38;5;45mNone\u001b[0m, \u001b[38;5;34m62\u001b[0m, \u001b[38;5;34m62\u001b[0m, \u001b[38;5;34m32\u001b[0m)     │           \u001b[38;5;34m896\u001b[0m │\n",
       "├─────────────────────────────────┼────────────────────────┼───────────────┤\n",
       "│ max_pooling2d (\u001b[38;5;33mMaxPooling2D\u001b[0m)    │ (\u001b[38;5;45mNone\u001b[0m, \u001b[38;5;34m31\u001b[0m, \u001b[38;5;34m31\u001b[0m, \u001b[38;5;34m32\u001b[0m)     │             \u001b[38;5;34m0\u001b[0m │\n",
       "├─────────────────────────────────┼────────────────────────┼───────────────┤\n",
       "│ conv2d_1 (\u001b[38;5;33mConv2D\u001b[0m)               │ (\u001b[38;5;45mNone\u001b[0m, \u001b[38;5;34m29\u001b[0m, \u001b[38;5;34m29\u001b[0m, \u001b[38;5;34m64\u001b[0m)     │        \u001b[38;5;34m18,496\u001b[0m │\n",
       "├─────────────────────────────────┼────────────────────────┼───────────────┤\n",
       "│ max_pooling2d_1 (\u001b[38;5;33mMaxPooling2D\u001b[0m)  │ (\u001b[38;5;45mNone\u001b[0m, \u001b[38;5;34m14\u001b[0m, \u001b[38;5;34m14\u001b[0m, \u001b[38;5;34m64\u001b[0m)     │             \u001b[38;5;34m0\u001b[0m │\n",
       "├─────────────────────────────────┼────────────────────────┼───────────────┤\n",
       "│ conv2d_2 (\u001b[38;5;33mConv2D\u001b[0m)               │ (\u001b[38;5;45mNone\u001b[0m, \u001b[38;5;34m12\u001b[0m, \u001b[38;5;34m12\u001b[0m, \u001b[38;5;34m64\u001b[0m)     │        \u001b[38;5;34m36,928\u001b[0m │\n",
       "├─────────────────────────────────┼────────────────────────┼───────────────┤\n",
       "│ flatten (\u001b[38;5;33mFlatten\u001b[0m)               │ (\u001b[38;5;45mNone\u001b[0m, \u001b[38;5;34m9216\u001b[0m)           │             \u001b[38;5;34m0\u001b[0m │\n",
       "├─────────────────────────────────┼────────────────────────┼───────────────┤\n",
       "│ dense (\u001b[38;5;33mDense\u001b[0m)                   │ (\u001b[38;5;45mNone\u001b[0m, \u001b[38;5;34m16\u001b[0m)             │       \u001b[38;5;34m147,472\u001b[0m │\n",
       "├─────────────────────────────────┼────────────────────────┼───────────────┤\n",
       "│ dense_1 (\u001b[38;5;33mDense\u001b[0m)                 │ (\u001b[38;5;45mNone\u001b[0m, \u001b[38;5;34m5\u001b[0m)              │            \u001b[38;5;34m85\u001b[0m │\n",
       "└─────────────────────────────────┴────────────────────────┴───────────────┘\n"
      ]
     },
     "metadata": {},
     "output_type": "display_data"
    },
    {
     "data": {
      "text/html": [
       "<pre style=\"white-space:pre;overflow-x:auto;line-height:normal;font-family:Menlo,'DejaVu Sans Mono',consolas,'Courier New',monospace\"><span style=\"font-weight: bold\"> Total params: </span><span style=\"color: #00af00; text-decoration-color: #00af00\">203,877</span> (796.39 KB)\n",
       "</pre>\n"
      ],
      "text/plain": [
       "\u001b[1m Total params: \u001b[0m\u001b[38;5;34m203,877\u001b[0m (796.39 KB)\n"
      ]
     },
     "metadata": {},
     "output_type": "display_data"
    },
    {
     "data": {
      "text/html": [
       "<pre style=\"white-space:pre;overflow-x:auto;line-height:normal;font-family:Menlo,'DejaVu Sans Mono',consolas,'Courier New',monospace\"><span style=\"font-weight: bold\"> Trainable params: </span><span style=\"color: #00af00; text-decoration-color: #00af00\">203,877</span> (796.39 KB)\n",
       "</pre>\n"
      ],
      "text/plain": [
       "\u001b[1m Trainable params: \u001b[0m\u001b[38;5;34m203,877\u001b[0m (796.39 KB)\n"
      ]
     },
     "metadata": {},
     "output_type": "display_data"
    },
    {
     "data": {
      "text/html": [
       "<pre style=\"white-space:pre;overflow-x:auto;line-height:normal;font-family:Menlo,'DejaVu Sans Mono',consolas,'Courier New',monospace\"><span style=\"font-weight: bold\"> Non-trainable params: </span><span style=\"color: #00af00; text-decoration-color: #00af00\">0</span> (0.00 B)\n",
       "</pre>\n"
      ],
      "text/plain": [
       "\u001b[1m Non-trainable params: \u001b[0m\u001b[38;5;34m0\u001b[0m (0.00 B)\n"
      ]
     },
     "metadata": {},
     "output_type": "display_data"
    }
   ],
   "source": [
    "model.summary()"
   ]
  },
  {
   "cell_type": "code",
   "execution_count": null,
   "id": "8247597a-b479-4865-8ec8-46fed87d2859",
   "metadata": {},
   "outputs": [],
   "source": []
  },
  {
   "cell_type": "code",
   "execution_count": 15,
   "id": "082d01b7-eeb3-4858-9418-8ac0ece0c7f5",
   "metadata": {},
   "outputs": [
    {
     "name": "stdout",
     "output_type": "stream",
     "text": [
      "                         path  frame  border\n",
      "267  20240201_atelier_003.mp4   1105       2\n",
      "447  20240201_atelier_005.mp4   1449       0\n",
      "615  20240201_atelier_003.mp4    312       0\n",
      "185  20240201_atelier_005.mp4   1945       0\n",
      "526  20240209_atelier_007.mp4   1109       0\n",
      "..                        ...    ...     ...\n",
      "636  20240209_atelier_006.mp4    831       4\n",
      "19   20240201_atelier_003.mp4   1335       4\n",
      "730  20240201_atelier_001.mp4    633       4\n",
      "500  20240201_atelier_001.mp4    303       2\n",
      "306  20240201_atelier_004.mp4   1748       1\n",
      "\n",
      "[590 rows x 3 columns]\n",
      "                         path  frame  border\n",
      "628  20240209_atelier_007.mp4   1138       0\n",
      "337  20240201_atelier_005.mp4   2318       0\n",
      "564  20240209_atelier_007.mp4    194       0\n",
      "149  20240201_atelier_005.mp4   1640       3\n",
      "346  20240201_atelier_005.mp4    109       4\n",
      "..                        ...    ...     ...\n",
      "30   20240201_atelier_005.mp4   1405       0\n",
      "461  20240209_atelier_007.mp4    135       1\n",
      "615  20240201_atelier_003.mp4    312       0\n",
      "467  20240201_atelier_002.mp4   1017       2\n",
      "316  20240201_atelier_002.mp4   1181       0\n",
      "\n",
      "[148 rows x 3 columns]\n"
     ]
    }
   ],
   "source": [
    "from my_classes import DataGeneratorSkillBorders\n",
    "# Parameters\n",
    "params = {'dim': (64,64),\n",
    "          'batch_size': 16,\n",
    "          'n_classes': len(unique_labels),\n",
    "          'n_channels': 3,\n",
    "          'shuffle': True,\n",
    "          'train': True}\n",
    "\n",
    "training_generator = DataGeneratorSkillBorders(df_labels, video_folder=video_folder, **params)\n",
    "test_generator = DataGeneratorSkillBorders(df_labels, video_folder=video_folder, train=False)"
   ]
  },
  {
   "cell_type": "code",
   "execution_count": 16,
   "id": "b5a794b1-90ff-4c09-828c-58d3c8492e04",
   "metadata": {},
   "outputs": [
    {
     "name": "stdout",
     "output_type": "stream",
     "text": [
      "CPU times: user 12.3 s, sys: 246 ms, total: 12.6 s\n",
      "Wall time: 3.12 s\n"
     ]
    }
   ],
   "source": [
    "%%time\n",
    "X, y = training_generator.__getitem__(3)"
   ]
  },
  {
   "cell_type": "code",
   "execution_count": 17,
   "id": "76ab4052-80db-4918-8c15-b10bb3199a22",
   "metadata": {},
   "outputs": [
    {
     "data": {
      "text/plain": [
       "array([[[[0.27058824, 0.28235294, 0.28235294],\n",
       "         [0.27843137, 0.29019608, 0.29019608],\n",
       "         [0.29803922, 0.30980392, 0.30980392],\n",
       "         ...,\n",
       "         [0.25882353, 0.27058824, 0.27058824],\n",
       "         [0.25882353, 0.27058824, 0.27058824],\n",
       "         [0.26666667, 0.27843137, 0.27843137]],\n",
       "\n",
       "        [[0.29411765, 0.30588235, 0.30588235],\n",
       "         [0.29411765, 0.30588235, 0.30588235],\n",
       "         [0.28235294, 0.29411765, 0.29411765],\n",
       "         ...,\n",
       "         [0.2745098 , 0.28627451, 0.28627451],\n",
       "         [0.27843137, 0.29019608, 0.29019608],\n",
       "         [0.28627451, 0.29803922, 0.29803922]],\n",
       "\n",
       "        [[0.32941176, 0.34117647, 0.34117647],\n",
       "         [0.32156863, 0.33333333, 0.33333333],\n",
       "         [0.29019608, 0.30196078, 0.30196078],\n",
       "         ...,\n",
       "         [0.28627451, 0.29803922, 0.29803922],\n",
       "         [0.28235294, 0.29411765, 0.29411765],\n",
       "         [0.27058824, 0.28235294, 0.28235294]],\n",
       "\n",
       "        ...,\n",
       "\n",
       "        [[0.74117647, 0.70980392, 0.6627451 ],\n",
       "         [0.71372549, 0.68627451, 0.62745098],\n",
       "         [0.67843137, 0.65490196, 0.59607843],\n",
       "         ...,\n",
       "         [0.23921569, 0.23921569, 0.23137255],\n",
       "         [0.23921569, 0.23921569, 0.23921569],\n",
       "         [0.24313725, 0.24313725, 0.23529412]],\n",
       "\n",
       "        [[0.68627451, 0.65490196, 0.60784314],\n",
       "         [0.67058824, 0.64705882, 0.58039216],\n",
       "         [0.61960784, 0.58823529, 0.54117647],\n",
       "         ...,\n",
       "         [0.23921569, 0.23921569, 0.23921569],\n",
       "         [0.22745098, 0.22745098, 0.22745098],\n",
       "         [0.22352941, 0.22352941, 0.22352941]],\n",
       "\n",
       "        [[0.60392157, 0.58039216, 0.53333333],\n",
       "         [0.58431373, 0.56078431, 0.51372549],\n",
       "         [0.57647059, 0.54901961, 0.50196078],\n",
       "         ...,\n",
       "         [0.23921569, 0.23921569, 0.23921569],\n",
       "         [0.24313725, 0.24313725, 0.23529412],\n",
       "         [0.23529412, 0.23529412, 0.23529412]]],\n",
       "\n",
       "\n",
       "       [[[0.2745098 , 0.28627451, 0.28627451],\n",
       "         [0.26666667, 0.28627451, 0.28627451],\n",
       "         [0.29411765, 0.31372549, 0.31372549],\n",
       "         ...,\n",
       "         [0.67058824, 0.67058824, 0.6627451 ],\n",
       "         [0.63137255, 0.64313725, 0.64313725],\n",
       "         [0.3372549 , 0.34901961, 0.34901961]],\n",
       "\n",
       "        [[0.24313725, 0.25490196, 0.25490196],\n",
       "         [0.29803922, 0.30980392, 0.30980392],\n",
       "         [0.24705882, 0.25882353, 0.25882353],\n",
       "         ...,\n",
       "         [0.61176471, 0.61176471, 0.60392157],\n",
       "         [0.56470588, 0.56470588, 0.56470588],\n",
       "         [0.57254902, 0.57254902, 0.56470588]],\n",
       "\n",
       "        [[0.42745098, 0.46666667, 0.4627451 ],\n",
       "         [0.45098039, 0.49411765, 0.49803922],\n",
       "         [0.25098039, 0.2627451 , 0.2627451 ],\n",
       "         ...,\n",
       "         [0.52156863, 0.5254902 , 0.50588235],\n",
       "         [0.51764706, 0.51764706, 0.50980392],\n",
       "         [0.51372549, 0.51764706, 0.49803922]],\n",
       "\n",
       "        ...,\n",
       "\n",
       "        [[0.3254902 , 0.31372549, 0.29019608],\n",
       "         [0.31764706, 0.30980392, 0.29411765],\n",
       "         [0.32156863, 0.31372549, 0.29803922],\n",
       "         ...,\n",
       "         [0.27843137, 0.26666667, 0.2627451 ],\n",
       "         [0.25882353, 0.25882353, 0.25098039],\n",
       "         [0.2627451 , 0.25098039, 0.24705882]],\n",
       "\n",
       "        [[0.3254902 , 0.31372549, 0.29019608],\n",
       "         [0.31372549, 0.30980392, 0.28627451],\n",
       "         [0.31372549, 0.30588235, 0.29019608],\n",
       "         ...,\n",
       "         [0.23921569, 0.23921569, 0.23921569],\n",
       "         [0.24313725, 0.24313725, 0.23529412],\n",
       "         [0.23921569, 0.22745098, 0.22352941]],\n",
       "\n",
       "        [[0.29019608, 0.28235294, 0.26666667],\n",
       "         [0.29411765, 0.29019608, 0.26666667],\n",
       "         [0.29803922, 0.29411765, 0.27058824],\n",
       "         ...,\n",
       "         [0.24313725, 0.24313725, 0.23529412],\n",
       "         [0.22352941, 0.22352941, 0.22352941],\n",
       "         [0.2627451 , 0.25098039, 0.24705882]]],\n",
       "\n",
       "\n",
       "       [[[0.28235294, 0.28627451, 0.30196078],\n",
       "         [0.27843137, 0.28235294, 0.30196078],\n",
       "         [0.26666667, 0.27058824, 0.29019608],\n",
       "         ...,\n",
       "         [0.08235294, 0.09411765, 0.09411765],\n",
       "         [0.08627451, 0.09803922, 0.09803922],\n",
       "         [0.07843137, 0.09019608, 0.09019608]],\n",
       "\n",
       "        [[0.25882353, 0.27058824, 0.29019608],\n",
       "         [0.25490196, 0.25882353, 0.27843137],\n",
       "         [0.24705882, 0.25098039, 0.27058824],\n",
       "         ...,\n",
       "         [0.05098039, 0.07058824, 0.07058824],\n",
       "         [0.05882353, 0.05882353, 0.05882353],\n",
       "         [0.04705882, 0.04705882, 0.04705882]],\n",
       "\n",
       "        [[0.21568627, 0.21960784, 0.23921569],\n",
       "         [0.25882353, 0.25098039, 0.27058824],\n",
       "         [0.24313725, 0.23921569, 0.24705882],\n",
       "         ...,\n",
       "         [0.00392157, 0.01176471, 0.03921569],\n",
       "         [0.00392157, 0.00392157, 0.00392157],\n",
       "         [0.00784314, 0.00784314, 0.00784314]],\n",
       "\n",
       "        ...,\n",
       "\n",
       "        [[0.34117647, 0.34117647, 0.34117647],\n",
       "         [0.3372549 , 0.3372549 , 0.3372549 ],\n",
       "         [0.33333333, 0.33333333, 0.33333333],\n",
       "         ...,\n",
       "         [0.42352941, 0.42745098, 0.41176471],\n",
       "         [0.41960784, 0.41960784, 0.41176471],\n",
       "         [0.41960784, 0.40784314, 0.40392157]],\n",
       "\n",
       "        [[1.        , 0.99607843, 1.        ],\n",
       "         [0.98823529, 1.        , 1.        ],\n",
       "         [0.61960784, 0.63137255, 0.65098039],\n",
       "         ...,\n",
       "         [0.41960784, 0.41960784, 0.41176471],\n",
       "         [0.41176471, 0.41176471, 0.40392157],\n",
       "         [0.41176471, 0.41176471, 0.41176471]],\n",
       "\n",
       "        [[0.4       , 0.4       , 0.4       ],\n",
       "         [0.40784314, 0.40784314, 0.40784314],\n",
       "         [0.40392157, 0.40392157, 0.40392157],\n",
       "         ...,\n",
       "         [0.40392157, 0.40392157, 0.39607843],\n",
       "         [0.39215686, 0.39215686, 0.38431373],\n",
       "         [0.39215686, 0.39215686, 0.39215686]]],\n",
       "\n",
       "\n",
       "       ...,\n",
       "\n",
       "\n",
       "       [[[0.42745098, 0.44705882, 0.44705882],\n",
       "         [0.42745098, 0.44705882, 0.44705882],\n",
       "         [0.43137255, 0.45098039, 0.45098039],\n",
       "         ...,\n",
       "         [0.35294118, 0.36470588, 0.36470588],\n",
       "         [0.34509804, 0.35686275, 0.35686275],\n",
       "         [0.35294118, 0.36470588, 0.36470588]],\n",
       "\n",
       "        [[0.43529412, 0.45098039, 0.45882353],\n",
       "         [0.46666667, 0.47843137, 0.47843137],\n",
       "         [0.43529412, 0.45490196, 0.45490196],\n",
       "         ...,\n",
       "         [0.38039216, 0.39215686, 0.39215686],\n",
       "         [0.38039216, 0.39215686, 0.39215686],\n",
       "         [0.36078431, 0.37254902, 0.37254902]],\n",
       "\n",
       "        [[0.43137255, 0.44313725, 0.44313725],\n",
       "         [0.43137255, 0.45098039, 0.45098039],\n",
       "         [0.42745098, 0.44313725, 0.45098039],\n",
       "         ...,\n",
       "         [0.4       , 0.4       , 0.4       ],\n",
       "         [0.39607843, 0.39607843, 0.39607843],\n",
       "         [0.39607843, 0.39607843, 0.39607843]],\n",
       "\n",
       "        ...,\n",
       "\n",
       "        [[0.90196078, 0.88627451, 0.84705882],\n",
       "         [0.85490196, 0.82745098, 0.79607843],\n",
       "         [0.82352941, 0.80392157, 0.76862745],\n",
       "         ...,\n",
       "         [0.09019608, 0.1372549 , 0.21176471],\n",
       "         [0.07843137, 0.12941176, 0.21176471],\n",
       "         [0.08627451, 0.14117647, 0.21568627]],\n",
       "\n",
       "        [[0.85882353, 0.83137255, 0.8       ],\n",
       "         [0.82352941, 0.8       , 0.76078431],\n",
       "         [0.78823529, 0.76862745, 0.73333333],\n",
       "         ...,\n",
       "         [0.07843137, 0.1254902 , 0.2       ],\n",
       "         [0.07843137, 0.13333333, 0.20784314],\n",
       "         [0.07843137, 0.13333333, 0.20784314]],\n",
       "\n",
       "        [[0.82745098, 0.79215686, 0.76078431],\n",
       "         [0.78431373, 0.75294118, 0.71372549],\n",
       "         [0.74117647, 0.71764706, 0.6745098 ],\n",
       "         ...,\n",
       "         [0.0745098 , 0.12941176, 0.20392157],\n",
       "         [0.0745098 , 0.12941176, 0.20392157],\n",
       "         [0.0745098 , 0.12941176, 0.20392157]]],\n",
       "\n",
       "\n",
       "       [[[0.36078431, 0.38823529, 0.41176471],\n",
       "         [0.34901961, 0.37647059, 0.41960784],\n",
       "         [0.36470588, 0.38823529, 0.42352941],\n",
       "         ...,\n",
       "         [0.32156863, 0.34901961, 0.37254902],\n",
       "         [0.34509804, 0.36470588, 0.38823529],\n",
       "         [0.34901961, 0.36470588, 0.39215686]],\n",
       "\n",
       "        [[0.36470588, 0.39607843, 0.43137255],\n",
       "         [0.37254902, 0.39607843, 0.43137255],\n",
       "         [0.36862745, 0.39607843, 0.41960784],\n",
       "         ...,\n",
       "         [0.30980392, 0.3372549 , 0.36078431],\n",
       "         [0.34117647, 0.36470588, 0.38039216],\n",
       "         [0.34509804, 0.36862745, 0.38431373]],\n",
       "\n",
       "        [[0.34509804, 0.36862745, 0.40392157],\n",
       "         [0.37254902, 0.39607843, 0.43137255],\n",
       "         [0.38431373, 0.41568627, 0.45098039],\n",
       "         ...,\n",
       "         [0.30196078, 0.32941176, 0.35294118],\n",
       "         [0.31372549, 0.3372549 , 0.35294118],\n",
       "         [0.34117647, 0.36470588, 0.38039216]],\n",
       "\n",
       "        ...,\n",
       "\n",
       "        [[0.62745098, 0.61960784, 0.61960784],\n",
       "         [0.63529412, 0.62352941, 0.61960784],\n",
       "         [0.63529412, 0.63529412, 0.62745098],\n",
       "         ...,\n",
       "         [0.08627451, 0.12156863, 0.2       ],\n",
       "         [0.08235294, 0.1254902 , 0.20784314],\n",
       "         [0.07843137, 0.12941176, 0.21176471]],\n",
       "\n",
       "        [[0.6       , 0.6       , 0.6       ],\n",
       "         [0.59215686, 0.59215686, 0.59215686],\n",
       "         [0.61176471, 0.61176471, 0.61176471],\n",
       "         ...,\n",
       "         [0.0745098 , 0.1254902 , 0.18823529],\n",
       "         [0.0745098 , 0.10980392, 0.18823529],\n",
       "         [0.06666667, 0.11372549, 0.18431373]],\n",
       "\n",
       "        [[0.56862745, 0.56470588, 0.56862745],\n",
       "         [0.59607843, 0.58431373, 0.58039216],\n",
       "         [0.58823529, 0.58823529, 0.58823529],\n",
       "         ...,\n",
       "         [0.07058824, 0.10980392, 0.18431373],\n",
       "         [0.06666667, 0.11372549, 0.18823529],\n",
       "         [0.0745098 , 0.11764706, 0.2       ]]],\n",
       "\n",
       "\n",
       "       [[[0.30588235, 0.31764706, 0.31764706],\n",
       "         [0.30588235, 0.31764706, 0.31764706],\n",
       "         [0.30588235, 0.31764706, 0.31764706],\n",
       "         ...,\n",
       "         [0.27058824, 0.28235294, 0.28235294],\n",
       "         [0.2745098 , 0.28627451, 0.28627451],\n",
       "         [0.26666667, 0.27843137, 0.27843137]],\n",
       "\n",
       "        [[0.30196078, 0.31372549, 0.31372549],\n",
       "         [0.32156863, 0.33333333, 0.33333333],\n",
       "         [0.32156863, 0.33333333, 0.33333333],\n",
       "         ...,\n",
       "         [0.29019608, 0.30196078, 0.30196078],\n",
       "         [0.29411765, 0.30588235, 0.30588235],\n",
       "         [0.2745098 , 0.28627451, 0.28627451]],\n",
       "\n",
       "        [[0.28627451, 0.29803922, 0.29803922],\n",
       "         [0.31372549, 0.3254902 , 0.3254902 ],\n",
       "         [0.30196078, 0.32156863, 0.32156863],\n",
       "         ...,\n",
       "         [0.30196078, 0.30196078, 0.30196078],\n",
       "         [0.28235294, 0.29411765, 0.29411765],\n",
       "         [0.28235294, 0.29411765, 0.29411765]],\n",
       "\n",
       "        ...,\n",
       "\n",
       "        [[0.77254902, 0.74901961, 0.70980392],\n",
       "         [0.69411765, 0.67843137, 0.63921569],\n",
       "         [0.67843137, 0.65882353, 0.62745098],\n",
       "         ...,\n",
       "         [0.03529412, 0.07843137, 0.1372549 ],\n",
       "         [0.03137255, 0.0745098 , 0.13333333],\n",
       "         [0.03529412, 0.07843137, 0.1372549 ]],\n",
       "\n",
       "        [[0.72156863, 0.69019608, 0.64313725],\n",
       "         [0.68627451, 0.65490196, 0.60784314],\n",
       "         [0.64313725, 0.61568627, 0.56862745],\n",
       "         ...,\n",
       "         [0.01960784, 0.0627451 , 0.12156863],\n",
       "         [0.03137255, 0.0745098 , 0.13333333],\n",
       "         [0.03137255, 0.0745098 , 0.13333333]],\n",
       "\n",
       "        [[0.6745098 , 0.64705882, 0.58823529],\n",
       "         [0.62745098, 0.6       , 0.54117647],\n",
       "         [0.58431373, 0.55294118, 0.50588235],\n",
       "         ...,\n",
       "         [0.03529412, 0.07843137, 0.1372549 ],\n",
       "         [0.02352941, 0.06666667, 0.1254902 ],\n",
       "         [0.01960784, 0.0627451 , 0.12156863]]]])"
      ]
     },
     "execution_count": 17,
     "metadata": {},
     "output_type": "execute_result"
    }
   ],
   "source": [
    "X"
   ]
  },
  {
   "cell_type": "code",
   "execution_count": 18,
   "id": "0f683c31-77e9-471f-b857-4bb15857b735",
   "metadata": {},
   "outputs": [
    {
     "data": {
      "text/plain": [
       "array([2, 0, 3, 1, 0, 2, 4, 4, 0, 0, 0, 2, 2, 4, 2, 1])"
      ]
     },
     "execution_count": 18,
     "metadata": {},
     "output_type": "execute_result"
    }
   ],
   "source": [
    "y"
   ]
  },
  {
   "cell_type": "code",
   "execution_count": null,
   "id": "1ba2c862-5576-4999-a5a3-f20623910ef7",
   "metadata": {},
   "outputs": [],
   "source": []
  },
  {
   "cell_type": "code",
   "execution_count": 19,
   "id": "e8e48c69-83b9-460f-9cba-b809b33d3d3c",
   "metadata": {},
   "outputs": [
    {
     "name": "stdout",
     "output_type": "stream",
     "text": [
      "Epoch 1/10\n"
     ]
    },
    {
     "name": "stderr",
     "output_type": "stream",
     "text": [
      "2024-06-11 11:34:36.909134: I tensorflow/core/kernels/data/shuffle_dataset_op.cc:450] ShuffleDatasetV3:2: Filling up shuffle buffer (this may take a while): 3 of 8\n",
      "2024-06-11 11:34:54.850821: I tensorflow/core/kernels/data/shuffle_dataset_op.cc:450] ShuffleDatasetV3:2: Filling up shuffle buffer (this may take a while): 7 of 8\n"
     ]
    },
    {
     "name": "stdout",
     "output_type": "stream",
     "text": [
      "\u001b[1m 1/36\u001b[0m \u001b[37m━━━━━━━━━━━━━━━━━━━━\u001b[0m \u001b[1m20:58\u001b[0m 36s/step - accuracy: 0.3750 - loss: 1.5454"
     ]
    },
    {
     "name": "stderr",
     "output_type": "stream",
     "text": [
      "2024-06-11 11:34:59.320669: I tensorflow/core/kernels/data/shuffle_dataset_op.cc:480] Shuffle buffer filled.\n"
     ]
    },
    {
     "name": "stdout",
     "output_type": "stream",
     "text": [
      "\u001b[1m35/36\u001b[0m \u001b[32m━━━━━━━━━━━━━━━━━━━\u001b[0m\u001b[37m━\u001b[0m \u001b[1m3s\u001b[0m 4s/step - accuracy: 0.4653 - loss: 1.4140 "
     ]
    },
    {
     "ename": "ValueError",
     "evalue": "Exception encountered when calling Sequential.call().\n\n\u001b[1mInput 0 of layer \"dense\" is incompatible with the layer: expected axis -1 of input shape to have value 9216, but received input with shape (None, 50176)\u001b[0m\n\nArguments received by Sequential.call():\n  • inputs=tf.Tensor(shape=(None, 128, 128, 3), dtype=float32)\n  • training=False\n  • mask=None",
     "output_type": "error",
     "traceback": [
      "\u001b[0;31m---------------------------------------------------------------------------\u001b[0m",
      "\u001b[0;31mValueError\u001b[0m                                Traceback (most recent call last)",
      "Cell \u001b[0;32mIn[19], line 5\u001b[0m\n\u001b[1;32m      1\u001b[0m model\u001b[38;5;241m.\u001b[39mcompile(optimizer\u001b[38;5;241m=\u001b[39m\u001b[38;5;124m'\u001b[39m\u001b[38;5;124madam\u001b[39m\u001b[38;5;124m'\u001b[39m,\n\u001b[1;32m      2\u001b[0m               loss\u001b[38;5;241m=\u001b[39mtf\u001b[38;5;241m.\u001b[39mkeras\u001b[38;5;241m.\u001b[39mlosses\u001b[38;5;241m.\u001b[39mSparseCategoricalCrossentropy(from_logits\u001b[38;5;241m=\u001b[39m\u001b[38;5;28;01mTrue\u001b[39;00m),\n\u001b[1;32m      3\u001b[0m               metrics\u001b[38;5;241m=\u001b[39m[\u001b[38;5;124m'\u001b[39m\u001b[38;5;124maccuracy\u001b[39m\u001b[38;5;124m'\u001b[39m])\n\u001b[0;32m----> 5\u001b[0m history \u001b[38;5;241m=\u001b[39m \u001b[43mmodel\u001b[49m\u001b[38;5;241;43m.\u001b[39;49m\u001b[43mfit\u001b[49m\u001b[43m(\u001b[49m\u001b[43mtraining_generator\u001b[49m\u001b[43m,\u001b[49m\u001b[43m \u001b[49m\u001b[43mepochs\u001b[49m\u001b[38;5;241;43m=\u001b[39;49m\u001b[38;5;241;43m10\u001b[39;49m\u001b[43m,\u001b[49m\u001b[43m \u001b[49m\n\u001b[1;32m      6\u001b[0m \u001b[43m                    \u001b[49m\u001b[43mvalidation_data\u001b[49m\u001b[38;5;241;43m=\u001b[39;49m\u001b[43mtest_generator\u001b[49m\u001b[43m)\u001b[49m\n",
      "File \u001b[0;32m~/.local/lib/python3.10/site-packages/keras/src/utils/traceback_utils.py:122\u001b[0m, in \u001b[0;36mfilter_traceback.<locals>.error_handler\u001b[0;34m(*args, **kwargs)\u001b[0m\n\u001b[1;32m    119\u001b[0m     filtered_tb \u001b[38;5;241m=\u001b[39m _process_traceback_frames(e\u001b[38;5;241m.\u001b[39m__traceback__)\n\u001b[1;32m    120\u001b[0m     \u001b[38;5;66;03m# To get the full stack trace, call:\u001b[39;00m\n\u001b[1;32m    121\u001b[0m     \u001b[38;5;66;03m# `keras.config.disable_traceback_filtering()`\u001b[39;00m\n\u001b[0;32m--> 122\u001b[0m     \u001b[38;5;28;01mraise\u001b[39;00m e\u001b[38;5;241m.\u001b[39mwith_traceback(filtered_tb) \u001b[38;5;28;01mfrom\u001b[39;00m \u001b[38;5;28;01mNone\u001b[39;00m\n\u001b[1;32m    123\u001b[0m \u001b[38;5;28;01mfinally\u001b[39;00m:\n\u001b[1;32m    124\u001b[0m     \u001b[38;5;28;01mdel\u001b[39;00m filtered_tb\n",
      "File \u001b[0;32m~/.local/lib/python3.10/site-packages/keras/src/layers/input_spec.py:227\u001b[0m, in \u001b[0;36massert_input_compatibility\u001b[0;34m(input_spec, inputs, layer_name)\u001b[0m\n\u001b[1;32m    222\u001b[0m     \u001b[38;5;28;01mfor\u001b[39;00m axis, value \u001b[38;5;129;01min\u001b[39;00m spec\u001b[38;5;241m.\u001b[39maxes\u001b[38;5;241m.\u001b[39mitems():\n\u001b[1;32m    223\u001b[0m         \u001b[38;5;28;01mif\u001b[39;00m value \u001b[38;5;129;01mis\u001b[39;00m \u001b[38;5;129;01mnot\u001b[39;00m \u001b[38;5;28;01mNone\u001b[39;00m \u001b[38;5;129;01mand\u001b[39;00m shape[axis] \u001b[38;5;129;01mnot\u001b[39;00m \u001b[38;5;129;01min\u001b[39;00m {\n\u001b[1;32m    224\u001b[0m             value,\n\u001b[1;32m    225\u001b[0m             \u001b[38;5;28;01mNone\u001b[39;00m,\n\u001b[1;32m    226\u001b[0m         }:\n\u001b[0;32m--> 227\u001b[0m             \u001b[38;5;28;01mraise\u001b[39;00m \u001b[38;5;167;01mValueError\u001b[39;00m(\n\u001b[1;32m    228\u001b[0m                 \u001b[38;5;124mf\u001b[39m\u001b[38;5;124m'\u001b[39m\u001b[38;5;124mInput \u001b[39m\u001b[38;5;132;01m{\u001b[39;00minput_index\u001b[38;5;132;01m}\u001b[39;00m\u001b[38;5;124m of layer \u001b[39m\u001b[38;5;124m\"\u001b[39m\u001b[38;5;132;01m{\u001b[39;00mlayer_name\u001b[38;5;132;01m}\u001b[39;00m\u001b[38;5;124m\"\u001b[39m\u001b[38;5;124m is \u001b[39m\u001b[38;5;124m'\u001b[39m\n\u001b[1;32m    229\u001b[0m                 \u001b[38;5;124mf\u001b[39m\u001b[38;5;124m\"\u001b[39m\u001b[38;5;124mincompatible with the layer: expected axis \u001b[39m\u001b[38;5;132;01m{\u001b[39;00maxis\u001b[38;5;132;01m}\u001b[39;00m\u001b[38;5;124m \u001b[39m\u001b[38;5;124m\"\u001b[39m\n\u001b[1;32m    230\u001b[0m                 \u001b[38;5;124mf\u001b[39m\u001b[38;5;124m\"\u001b[39m\u001b[38;5;124mof input shape to have value \u001b[39m\u001b[38;5;132;01m{\u001b[39;00mvalue\u001b[38;5;132;01m}\u001b[39;00m\u001b[38;5;124m, \u001b[39m\u001b[38;5;124m\"\u001b[39m\n\u001b[1;32m    231\u001b[0m                 \u001b[38;5;124m\"\u001b[39m\u001b[38;5;124mbut received input with \u001b[39m\u001b[38;5;124m\"\u001b[39m\n\u001b[1;32m    232\u001b[0m                 \u001b[38;5;124mf\u001b[39m\u001b[38;5;124m\"\u001b[39m\u001b[38;5;124mshape \u001b[39m\u001b[38;5;132;01m{\u001b[39;00mshape\u001b[38;5;132;01m}\u001b[39;00m\u001b[38;5;124m\"\u001b[39m\n\u001b[1;32m    233\u001b[0m             )\n\u001b[1;32m    234\u001b[0m \u001b[38;5;66;03m# Check shape.\u001b[39;00m\n\u001b[1;32m    235\u001b[0m \u001b[38;5;28;01mif\u001b[39;00m spec\u001b[38;5;241m.\u001b[39mshape \u001b[38;5;129;01mis\u001b[39;00m \u001b[38;5;129;01mnot\u001b[39;00m \u001b[38;5;28;01mNone\u001b[39;00m:\n",
      "\u001b[0;31mValueError\u001b[0m: Exception encountered when calling Sequential.call().\n\n\u001b[1mInput 0 of layer \"dense\" is incompatible with the layer: expected axis -1 of input shape to have value 9216, but received input with shape (None, 50176)\u001b[0m\n\nArguments received by Sequential.call():\n  • inputs=tf.Tensor(shape=(None, 128, 128, 3), dtype=float32)\n  • training=False\n  • mask=None"
     ]
    }
   ],
   "source": [
    "model.compile(optimizer='adam',\n",
    "              loss=tf.keras.losses.SparseCategoricalCrossentropy(from_logits=True),\n",
    "              metrics=['accuracy'])\n",
    "\n",
    "history = model.fit(training_generator, epochs=10, \n",
    "                    validation_data=test_generator)"
   ]
  },
  {
   "cell_type": "code",
   "execution_count": null,
   "id": "5b03e31c-ac8b-40fd-8699-b89181898d8a",
   "metadata": {},
   "outputs": [],
   "source": []
  },
  {
   "cell_type": "code",
   "execution_count": null,
   "id": "5ed6bf2c-67fc-4771-adac-b7417ef9a408",
   "metadata": {},
   "outputs": [],
   "source": [
    "pd.DataFrame(history.history)"
   ]
  },
  {
   "cell_type": "code",
   "execution_count": null,
   "id": "4d245812-bff8-4a35-a716-34652fa466c0",
   "metadata": {},
   "outputs": [],
   "source": []
  },
  {
   "cell_type": "code",
   "execution_count": null,
   "id": "d0ddc2ea-006d-4501-a865-8cb56fc42deb",
   "metadata": {},
   "outputs": [],
   "source": [
    "with open('../models/last_cnn_model_history.pkl', 'wb') as handle:\n",
    "    pickle.dump(history, handle)"
   ]
  },
  {
   "cell_type": "code",
   "execution_count": null,
   "id": "974c2c39-50de-43df-a00f-5a445c0b5dfd",
   "metadata": {},
   "outputs": [],
   "source": []
  },
  {
   "cell_type": "code",
   "execution_count": null,
   "id": "eb492dab-1b49-42e4-a133-83e2842292b9",
   "metadata": {},
   "outputs": [],
   "source": []
  },
  {
   "cell_type": "code",
   "execution_count": null,
   "id": "f9b31e26-f5fb-4ad4-aabd-fdbf27d415ef",
   "metadata": {},
   "outputs": [],
   "source": []
  },
  {
   "cell_type": "code",
   "execution_count": null,
   "id": "b70d0575-d2d2-4b49-974f-68fc3b878a74",
   "metadata": {},
   "outputs": [],
   "source": []
  },
  {
   "cell_type": "code",
   "execution_count": null,
   "id": "f5c77033-2026-4cdf-8ffd-d92bf3561a4d",
   "metadata": {},
   "outputs": [],
   "source": []
  },
  {
   "cell_type": "code",
   "execution_count": null,
   "id": "f1287828-b8f0-4db0-93b0-20dc90f54c37",
   "metadata": {},
   "outputs": [],
   "source": []
  },
  {
   "cell_type": "code",
   "execution_count": null,
   "id": "25bf7c50-21cd-4dbb-b57d-7c63b672ee8b",
   "metadata": {},
   "outputs": [],
   "source": []
  },
  {
   "cell_type": "code",
   "execution_count": null,
   "id": "9d191124-c3b8-43e8-971c-41c88246230b",
   "metadata": {},
   "outputs": [],
   "source": []
  },
  {
   "cell_type": "code",
   "execution_count": null,
   "id": "b1225c7d-6a49-49e8-9e76-c4e7d4eb6623",
   "metadata": {},
   "outputs": [],
   "source": []
  }
 ],
 "metadata": {
  "kernelspec": {
   "display_name": "Python 3 (ipykernel)",
   "language": "python",
   "name": "python3"
  },
  "language_info": {
   "codemirror_mode": {
    "name": "ipython",
    "version": 3
   },
   "file_extension": ".py",
   "mimetype": "text/x-python",
   "name": "python",
   "nbconvert_exporter": "python",
   "pygments_lexer": "ipython3",
   "version": "3.10.12"
  }
 },
 "nbformat": 4,
 "nbformat_minor": 5
}
