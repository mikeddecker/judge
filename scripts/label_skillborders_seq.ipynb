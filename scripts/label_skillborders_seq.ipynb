{
 "cells": [
  {
   "cell_type": "markdown",
   "id": "b9cfba67-95be-4644-8850-e1d2ca94fa0c",
   "metadata": {},
   "source": [
    "# OpenCV help methods"
   ]
  },
  {
   "cell_type": "code",
   "execution_count": 1,
   "id": "59f2ee2d-2f0a-43aa-8124-400b903238e6",
   "metadata": {},
   "outputs": [
    {
     "name": "stdout",
     "output_type": "stream",
     "text": [
      "Defaulting to user installation because normal site-packages is not writeable\n",
      "Requirement already satisfied: opencv-python in /home/miked/.local/lib/python3.10/site-packages (4.9.0.80)\n",
      "Requirement already satisfied: pandas in /home/miked/.local/lib/python3.10/site-packages (2.2.0)\n",
      "Requirement already satisfied: numpy>=1.17.3 in /home/miked/.local/lib/python3.10/site-packages (from opencv-python) (1.26.4)\n",
      "Requirement already satisfied: python-dateutil>=2.8.2 in /home/miked/.local/lib/python3.10/site-packages (from pandas) (2.8.2)\n",
      "Requirement already satisfied: tzdata>=2022.7 in /home/miked/.local/lib/python3.10/site-packages (from pandas) (2024.1)\n",
      "Requirement already satisfied: pytz>=2020.1 in /usr/lib/python3/dist-packages (from pandas) (2022.1)\n",
      "Requirement already satisfied: six>=1.5 in /usr/lib/python3/dist-packages (from python-dateutil>=2.8.2->pandas) (1.16.0)\n"
     ]
    }
   ],
   "source": [
    "from utils_cv2 import label_frames_seq\n",
    "from utils_misc import pickle_save"
   ]
  },
  {
   "cell_type": "code",
   "execution_count": 2,
   "id": "3696e8be-3505-4dd0-a551-aaef15a01326",
   "metadata": {},
   "outputs": [],
   "source": [
    "video_border_labels_path = 'df_video_border_labels_seq'\n",
    "\n",
    "video_folder = '../videos/'\n",
    "\n",
    "video_names = [\n",
    "    '20240201_atelier_001.mp4',\n",
    "    '20240201_atelier_002.mp4',\n",
    "    '20240201_atelier_003.mp4',\n",
    "    '20240201_atelier_004.mp4',\n",
    "    '20240201_atelier_005.mp4',\n",
    "    '20240209_atelier_006.mp4',\n",
    "    '20240209_atelier_007.mp4',\n",
    "    '20240209_atelier_008.mp4',\n",
    "]\n",
    "\n"
   ]
  },
  {
   "cell_type": "markdown",
   "id": "7a8a491a-323b-4852-9c12-c76f2cbb0786",
   "metadata": {},
   "source": [
    "# functies"
   ]
  },
  {
   "cell_type": "code",
   "execution_count": 3,
   "id": "51bff9f5-fbe1-45fa-8201-40a0dbfffe53",
   "metadata": {},
   "outputs": [
    {
     "name": "stdout",
     "output_type": "stream",
     "text": [
      "../data/df_video_border_labels_seq.pkl\n",
      "216\n"
     ]
    },
    {
     "name": "stderr",
     "output_type": "stream",
     "text": [
      "Warning: Ignoring XDG_SESSION_TYPE=wayland on Gnome. Use QT_QPA_PLATFORM=wayland to run on Wayland anyway.\n"
     ]
    },
    {
     "name": "stdout",
     "output_type": "stream",
     "text": [
      "                         path  frame  border\n",
      "736  20240201_atelier_001.mp4    196       0\n",
      "737  20240201_atelier_001.mp4    197       0\n",
      "738  20240201_atelier_001.mp4    198       0\n",
      "739  20240201_atelier_001.mp4    199       0\n",
      "740  20240201_atelier_001.mp4    200       0\n",
      "741  20240201_atelier_001.mp4    201       0\n",
      "742  20240201_atelier_001.mp4    202       0\n",
      "743  20240201_atelier_001.mp4    203       1\n",
      "744  20240201_atelier_001.mp4    204       2\n",
      "745  20240201_atelier_001.mp4    205       2\n",
      "746  20240201_atelier_001.mp4    206       2\n",
      "747  20240201_atelier_001.mp4    207       2\n",
      "748  20240201_atelier_001.mp4    208       2\n",
      "749  20240201_atelier_001.mp4    209       2\n",
      "750  20240201_atelier_001.mp4    210       2\n",
      "751  20240201_atelier_001.mp4    211       2\n",
      "752  20240201_atelier_001.mp4    212       1\n",
      "753  20240201_atelier_001.mp4    213       0\n",
      "754  20240201_atelier_001.mp4    214       0\n",
      "755  20240201_atelier_001.mp4    215       0\n",
      "756  20240201_atelier_001.mp4    216       0\n",
      "757  20240201_atelier_001.mp4    216       0\n",
      "758  20240201_atelier_001.mp4    217       0\n",
      "759  20240201_atelier_001.mp4    218       0\n",
      "760  20240201_atelier_001.mp4    219       1\n",
      "761  20240201_atelier_001.mp4    220       1\n",
      "762  20240201_atelier_001.mp4    221       2\n",
      "763  20240201_atelier_001.mp4    222       2\n",
      "764  20240201_atelier_001.mp4    223       2\n",
      "765  20240201_atelier_001.mp4    224       2\n",
      "766  20240201_atelier_001.mp4    225       2\n",
      "767  20240201_atelier_001.mp4    226       2\n",
      "768  20240201_atelier_001.mp4    227       2\n",
      "769  20240201_atelier_001.mp4    228       0\n",
      "770  20240201_atelier_001.mp4    229       0\n",
      "771  20240201_atelier_001.mp4    230       0\n",
      "772  20240201_atelier_001.mp4    231       0\n",
      "773  20240201_atelier_001.mp4    232       0\n",
      "774  20240201_atelier_001.mp4    233       0\n",
      "775  20240201_atelier_001.mp4    234       0\n",
      "776  20240201_atelier_001.mp4    235       0\n",
      "777  20240201_atelier_001.mp4    236       1\n",
      "778  20240201_atelier_001.mp4    237       2\n",
      "779  20240201_atelier_001.mp4    238       2\n",
      "780  20240201_atelier_001.mp4    239       2\n",
      "781  20240201_atelier_001.mp4    240       2\n",
      "782  20240201_atelier_001.mp4    241       2\n",
      "783  20240201_atelier_001.mp4    242       2\n",
      "784  20240201_atelier_001.mp4    243       2\n",
      "785  20240201_atelier_001.mp4    244       0\n"
     ]
    }
   ],
   "source": [
    "df_labels = label_frames_seq()\n",
    "print(df_labels.loc[len(df_labels)-50:len(df_labels)])"
   ]
  },
  {
   "cell_type": "code",
   "execution_count": 4,
   "id": "e3773006-62d2-4e6b-a115-a99b18f9a4e1",
   "metadata": {},
   "outputs": [],
   "source": [
    "pickle_save(video_border_labels_path, df_labels)"
   ]
  },
  {
   "cell_type": "code",
   "execution_count": 5,
   "id": "3b6f7311-5b21-4460-bf6b-224bd5487cfd",
   "metadata": {},
   "outputs": [
    {
     "name": "stdout",
     "output_type": "stream",
     "text": [
      "border\n",
      "9    0.478372\n",
      "0    0.310433\n",
      "2    0.175573\n",
      "1    0.035623\n",
      "Name: count, dtype: float64\n"
     ]
    }
   ],
   "source": [
    "val_counts = df_labels.border.value_counts() / len(df_labels)\n",
    "print(val_counts)"
   ]
  },
  {
   "cell_type": "code",
   "execution_count": null,
   "id": "df8c0f67-e0b2-40d4-ba53-0fe032255717",
   "metadata": {},
   "outputs": [],
   "source": []
  }
 ],
 "metadata": {
  "kernelspec": {
   "display_name": "Python 3 (ipykernel)",
   "language": "python",
   "name": "python3"
  },
  "language_info": {
   "codemirror_mode": {
    "name": "ipython",
    "version": 3
   },
   "file_extension": ".py",
   "mimetype": "text/x-python",
   "name": "python",
   "nbconvert_exporter": "python",
   "pygments_lexer": "ipython3",
   "version": "3.10.12"
  }
 },
 "nbformat": 4,
 "nbformat_minor": 5
}
