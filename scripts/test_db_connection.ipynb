{
 "cells": [
  {
   "cell_type": "code",
   "execution_count": 1,
   "id": "7566ca65-7f95-4de0-a20d-0a1eb17aef5a",
   "metadata": {},
   "outputs": [
    {
     "name": "stdout",
     "output_type": "stream",
     "text": [
      "Defaulting to user installation because normal site-packages is not writeable\n",
      "Requirement already satisfied: sqlalchemy in /home/miked/.local/lib/python3.10/site-packages (2.0.29)\n",
      "Requirement already satisfied: PyMySQL in /home/miked/.local/lib/python3.10/site-packages (1.1.1)\n",
      "Requirement already satisfied: greenlet!=0.4.17 in /home/miked/.local/lib/python3.10/site-packages (from sqlalchemy) (3.0.3)\n",
      "Requirement already satisfied: typing-extensions>=4.6.0 in /home/miked/.local/lib/python3.10/site-packages (from sqlalchemy) (4.9.0)\n"
     ]
    }
   ],
   "source": [
    "!pip3 install sqlalchemy PyMySQL"
   ]
  },
  {
   "cell_type": "code",
   "execution_count": 3,
   "id": "c3dd3b52-c9d8-4d04-a022-e42fa66448eb",
   "metadata": {},
   "outputs": [],
   "source": [
    "import pandas as pd\n",
    "import numpy as np\n",
    "import sqlalchemy as sqlal"
   ]
  },
  {
   "cell_type": "code",
   "execution_count": 4,
   "id": "79960dba-1bd3-4493-8641-8efa8d805961",
   "metadata": {},
   "outputs": [],
   "source": [
    "HOST = '127.0.0.1'\n",
    "PORT = '3377'\n",
    "DATABASE = 'judge'\n",
    "# DRIVER ='/opt/microsoft/msodbcsql18/lib64/libmsodbcsql-18.3.so.3.1'\n",
    "USERNAME = 'root'\n",
    "PASSWORD = 'root'\n",
    "DATABASE_CONNECTION=f\"mysql+pymysql://{USERNAME}:{PASSWORD}@{HOST}:{PORT}/{DATABASE}\" # &driver={DRIVER}"
   ]
  },
  {
   "cell_type": "code",
   "execution_count": 5,
   "id": "1d462b56-fb43-4a49-8cfc-969bd1422efc",
   "metadata": {},
   "outputs": [],
   "source": [
    "engine = sqlal.create_engine(DATABASE_CONNECTION)#\n",
    "con = engine.connect()"
   ]
  },
  {
   "cell_type": "code",
   "execution_count": 6,
   "id": "a41a6d12-41dc-434a-bea0-c640df807387",
   "metadata": {},
   "outputs": [],
   "source": [
    "def query_framelabels():\n",
    "    qry=sqlal.text(f\"\"\"\n",
    "    SELECT DISTINCT * FROM FrameLabels;\n",
    "    \"\"\")\n",
    "    return pd.read_sql_query(qry, con)"
   ]
  },
  {
   "cell_type": "code",
   "execution_count": 7,
   "id": "ecc65ff7-3d95-4fdf-ac66-c868556f7f33",
   "metadata": {},
   "outputs": [
    {
     "data": {
      "text/html": [
       "<div>\n",
       "<style scoped>\n",
       "    .dataframe tbody tr th:only-of-type {\n",
       "        vertical-align: middle;\n",
       "    }\n",
       "\n",
       "    .dataframe tbody tr th {\n",
       "        vertical-align: top;\n",
       "    }\n",
       "\n",
       "    .dataframe thead th {\n",
       "        text-align: right;\n",
       "    }\n",
       "</style>\n",
       "<table border=\"1\" class=\"dataframe\">\n",
       "  <thead>\n",
       "    <tr style=\"text-align: right;\">\n",
       "      <th></th>\n",
       "      <th>VideoID</th>\n",
       "      <th>FrameNr</th>\n",
       "      <th>Label</th>\n",
       "      <th>Verrified</th>\n",
       "    </tr>\n",
       "  </thead>\n",
       "  <tbody>\n",
       "    <tr>\n",
       "      <th>0</th>\n",
       "      <td>1</td>\n",
       "      <td>123</td>\n",
       "      <td>2</td>\n",
       "      <td>1</td>\n",
       "    </tr>\n",
       "  </tbody>\n",
       "</table>\n",
       "</div>"
      ],
      "text/plain": [
       "   VideoID  FrameNr  Label  Verrified\n",
       "0        1      123      2          1"
      ]
     },
     "execution_count": 7,
     "metadata": {},
     "output_type": "execute_result"
    }
   ],
   "source": [
    "query_framelabels()"
   ]
  },
  {
   "cell_type": "code",
   "execution_count": null,
   "id": "8de160eb-3d0e-447c-8e11-59ebf9d5d882",
   "metadata": {},
   "outputs": [],
   "source": []
  }
 ],
 "metadata": {
  "kernelspec": {
   "display_name": "Python 3 (ipykernel)",
   "language": "python",
   "name": "python3"
  },
  "language_info": {
   "codemirror_mode": {
    "name": "ipython",
    "version": 3
   },
   "file_extension": ".py",
   "mimetype": "text/x-python",
   "name": "python",
   "nbconvert_exporter": "python",
   "pygments_lexer": "ipython3",
   "version": "3.10.12"
  }
 },
 "nbformat": 4,
 "nbformat_minor": 5
}
