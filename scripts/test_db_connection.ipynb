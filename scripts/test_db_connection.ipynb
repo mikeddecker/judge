{
 "cells": [
  {
   "cell_type": "code",
   "execution_count": 1,
   "id": "7566ca65-7f95-4de0-a20d-0a1eb17aef5a",
   "metadata": {},
   "outputs": [
    {
     "name": "stdout",
     "output_type": "stream",
     "text": [
      "Defaulting to user installation because normal site-packages is not writeable\n",
      "Requirement already satisfied: sqlalchemy in /home/miked/.local/lib/python3.10/site-packages (2.0.29)\n",
      "Requirement already satisfied: PyMySQL in /home/miked/.local/lib/python3.10/site-packages (1.1.1)\n",
      "Requirement already satisfied: typing-extensions>=4.6.0 in /home/miked/.local/lib/python3.10/site-packages (from sqlalchemy) (4.9.0)\n",
      "Requirement already satisfied: greenlet!=0.4.17 in /home/miked/.local/lib/python3.10/site-packages (from sqlalchemy) (3.0.3)\n"
     ]
    }
   ],
   "source": [
    "!pip3 install sqlalchemy PyMySQL"
   ]
  },
  {
   "cell_type": "code",
   "execution_count": 2,
   "id": "c3dd3b52-c9d8-4d04-a022-e42fa66448eb",
   "metadata": {},
   "outputs": [
    {
     "name": "stdout",
     "output_type": "stream",
     "text": [
      "Defaulting to user installation because normal site-packages is not writeable\n",
      "Requirement already satisfied: opencv-python in /home/miked/.local/lib/python3.10/site-packages (4.9.0.80)\n",
      "Requirement already satisfied: pandas in /home/miked/.local/lib/python3.10/site-packages (2.2.0)\n",
      "Requirement already satisfied: numpy>=1.19.3 in /home/miked/.local/lib/python3.10/site-packages (from opencv-python) (1.26.4)\n",
      "Requirement already satisfied: python-dateutil>=2.8.2 in /home/miked/.local/lib/python3.10/site-packages (from pandas) (2.8.2)\n",
      "Requirement already satisfied: tzdata>=2022.7 in /home/miked/.local/lib/python3.10/site-packages (from pandas) (2024.1)\n",
      "Requirement already satisfied: pytz>=2020.1 in /usr/lib/python3/dist-packages (from pandas) (2022.1)\n",
      "Requirement already satisfied: six>=1.5 in /usr/lib/python3/dist-packages (from python-dateutil>=2.8.2->pandas) (1.16.0)\n"
     ]
    }
   ],
   "source": [
    "import pandas as pd\n",
    "import numpy as np\n",
    "import sqlalchemy as sqlal\n",
    "from pymysql import OperationalError\n",
    "\n",
    "from utils_misc import pickle_load_or_create, pickle_save\n",
    "from utils_cv2 import get_frame, show_frame_and_await_key, label_frames_from_df"
   ]
  },
  {
   "cell_type": "code",
   "execution_count": 3,
   "id": "79960dba-1bd3-4493-8641-8efa8d805961",
   "metadata": {},
   "outputs": [],
   "source": [
    "HOST = '127.0.0.1'\n",
    "PORT = '3377'\n",
    "DATABASE = 'judge'\n",
    "USERNAME = 'root'\n",
    "PASSWORD = 'root'\n",
    "DATABASE_CONNECTION=f\"mysql+pymysql://{USERNAME}:{PASSWORD}@{HOST}:{PORT}/{DATABASE}\""
   ]
  },
  {
   "cell_type": "code",
   "execution_count": 4,
   "id": "1d462b56-fb43-4a49-8cfc-969bd1422efc",
   "metadata": {},
   "outputs": [],
   "source": [
    "def get_connection():\n",
    "    engine = sqlal.create_engine(DATABASE_CONNECTION)#\n",
    "    return engine.connect()\n",
    "con = get_connection()"
   ]
  },
  {
   "cell_type": "code",
   "execution_count": 5,
   "id": "8de160eb-3d0e-447c-8e11-59ebf9d5d882",
   "metadata": {},
   "outputs": [],
   "source": [
    "def executeSqlScriptsFromFile(filename):\n",
    "    # Open and read the file as a single buffer\n",
    "    fd = open(filename, 'r')\n",
    "    sqlFile = fd.read()\n",
    "    fd.close()\n",
    "\n",
    "    # all SQL commands (split on ';')\n",
    "    sqlCommands = sqlFile.split(';')\n",
    "\n",
    "    # Execute every command from the input file\n",
    "    for command in sqlCommands:\n",
    "        # This will skip and report errors\n",
    "        # For example, if the tables do not yet exist, this will skip over\n",
    "        # the DROP TABLE commands\n",
    "        try:\n",
    "            con.execute(sqlal.text(command))\n",
    "        except OperationalError as msg:\n",
    "            print(\"Command skipped: \", msg)"
   ]
  },
  {
   "cell_type": "code",
   "execution_count": 6,
   "id": "20b2485a-f9ef-4a86-92e6-77448ebcc984",
   "metadata": {},
   "outputs": [],
   "source": [
    "def initDatabase():\n",
    "    try:\n",
    "        executeSqlScriptsFromFile('../db/init.sql')\n",
    "    except Exception as e:\n",
    "        print(e)"
   ]
  },
  {
   "cell_type": "code",
   "execution_count": 7,
   "id": "ecc65ff7-3d95-4fdf-ac66-c868556f7f33",
   "metadata": {},
   "outputs": [],
   "source": [
    "def insert_folders():\n",
    "    qry = \"INSERT INTO Folders (path) VALUES ('videos'), ('belgium/bk'), ('belgium/pk')\"\n",
    "    con.execute(sqlal.text(qry))\n",
    "    con.commit()"
   ]
  },
  {
   "cell_type": "code",
   "execution_count": 8,
   "id": "beb6d4be-68e7-4b0e-9cb7-3be723c4254c",
   "metadata": {},
   "outputs": [],
   "source": [
    "def add_video(folder_id, name, training, obstruction, quality, type, dimensionX, dimensionY):\n",
    "    command = sqlal.text(f\"\"\"\n",
    "    INSERT INTO Videos (folderID, name, training, obstruction, quality, type, dimensionX, dimensionY) \n",
    "    VALUES ({folder_id}, \\'{name}\\', {training}, {obstruction}, {quality}, {type}, {dimensionX}, {dimensionY})\n",
    "    \"\"\")\n",
    "    con.execute(command)\n",
    "    con.commit()"
   ]
  },
  {
   "cell_type": "code",
   "execution_count": 9,
   "id": "3ffcf484-ff8f-4648-83b4-516158d25f18",
   "metadata": {},
   "outputs": [],
   "source": [
    "video_names_train = [\n",
    "    '20240201_atelier_001.mp4',\n",
    "    '20240201_atelier_002.mp4',\n",
    "    '20240201_atelier_003.mp4',\n",
    "    '20240201_atelier_004.mp4',\n",
    "    '20240201_atelier_005.mp4',\n",
    "    '20240209_atelier_006.mp4',\n",
    "    '20240209_atelier_007.mp4',\n",
    "    '20240209_atelier_008.mp4',\n",
    "]\n",
    "\n",
    "video_names_test = [\n",
    "    '20240209_atelier_009.mp4',\n",
    "]\n",
    "\n",
    "def insert_videos():\n",
    "    for vid in video_names_train:\n",
    "        add_video(1, vid, 1, 0, 70, 2, 1920, 1080)\n",
    "    for vid in video_names_test:\n",
    "        add_video(1, vid, 0, 0, 70, 2, 1920, 1080)"
   ]
  },
  {
   "cell_type": "code",
   "execution_count": 10,
   "id": "95b29900-e7ef-4c8f-833e-bf09b5034a78",
   "metadata": {},
   "outputs": [],
   "source": [
    "def get_video_name_id_dict():\n",
    "    qry = sqlal.text(\"SELECT name, videoID FROM Videos\")\n",
    "    dict_videos = {}\n",
    "    for idx, row in pd.read_sql_query(qry, con).iterrows():\n",
    "        dict_videos[row['name']] = row['videoID']\n",
    "    return dict_videos"
   ]
  },
  {
   "cell_type": "code",
   "execution_count": 11,
   "id": "c12d04a6-760f-4cba-b3f9-1436f40f7883",
   "metadata": {},
   "outputs": [],
   "source": [
    "def add_borderlabel(videoID, frameNR, label, manual=1):\n",
    "    command = sqlal.text(f\"\"\"\n",
    "    INSERT INTO FrameLabels values ({videoID}, {frameNR}, {label}, {manual})\n",
    "    \"\"\")\n",
    "    con.execute(command)\n",
    "    con.commit()"
   ]
  },
  {
   "cell_type": "code",
   "execution_count": 12,
   "id": "49acbd46-7150-4cc2-aecb-dab4f9a02684",
   "metadata": {},
   "outputs": [],
   "source": [
    "def insert_framelabels():\n",
    "    df_labels = pickle_load_or_create('df_video_border_labels_seq', lambda: pd.DataFrame())\n",
    "    video_dict = get_video_name_id_dict()\n",
    "    for _, row in df_labels.iterrows():\n",
    "        vid_id = video_dict[row['path']]\n",
    "        add_borderlabel(vid_id, row['frame'], row['border'])"
   ]
  },
  {
   "cell_type": "code",
   "execution_count": 13,
   "id": "0a686fe1-d7d0-4cad-9e8a-9961c85f22ba",
   "metadata": {},
   "outputs": [],
   "source": [
    "def refreshDatabase():\n",
    "    initDatabase()\n",
    "    insert_folders()\n",
    "    insert_videos()\n",
    "    insert_framelabels()"
   ]
  },
  {
   "cell_type": "code",
   "execution_count": 14,
   "id": "5ab0f141-2f23-4812-873d-2eb3306efe23",
   "metadata": {},
   "outputs": [],
   "source": [
    "def label_exists(vid_id, frame_nr, label):\n",
    "    qry = f\"SELECT COUNT(*) as count FROM FrameLabels WHERE videoID = {vid_id} AND frameNr = {frame_nr} AND label = {label};\"\n",
    "    return (pd.read_sql_query(qry, con) > 0)['count'][0]"
   ]
  },
  {
   "cell_type": "code",
   "execution_count": 15,
   "id": "a41a6d12-41dc-434a-bea0-c640df807387",
   "metadata": {},
   "outputs": [],
   "source": [
    "def query_framelabels():\n",
    "    qry=sqlal.text(f\"\"\"\n",
    "    SELECT DISTINCT * FROM FrameLabels;\n",
    "    \"\"\")\n",
    "    return pd.read_sql_query(qry, con)"
   ]
  },
  {
   "cell_type": "code",
   "execution_count": 16,
   "id": "6bdbd492-c4ea-4636-8ca3-7b85eac085dc",
   "metadata": {},
   "outputs": [],
   "source": [
    "refreshDatabase()"
   ]
  },
  {
   "cell_type": "code",
   "execution_count": null,
   "id": "c876c254-c21a-4255-af4b-2e381d6b7bcf",
   "metadata": {},
   "outputs": [],
   "source": []
  },
  {
   "cell_type": "code",
   "execution_count": null,
   "id": "76e396bf-1c69-446f-aba8-14f813599ef4",
   "metadata": {},
   "outputs": [],
   "source": []
  },
  {
   "cell_type": "code",
   "execution_count": null,
   "id": "9cddeb62-1803-4232-b363-e15390ed4f94",
   "metadata": {},
   "outputs": [],
   "source": []
  },
  {
   "cell_type": "code",
   "execution_count": 17,
   "id": "c40ca5f0-a92c-41b5-a866-c856337a2d20",
   "metadata": {},
   "outputs": [
    {
     "data": {
      "text/html": [
       "<div>\n",
       "<style scoped>\n",
       "    .dataframe tbody tr th:only-of-type {\n",
       "        vertical-align: middle;\n",
       "    }\n",
       "\n",
       "    .dataframe tbody tr th {\n",
       "        vertical-align: top;\n",
       "    }\n",
       "\n",
       "    .dataframe thead th {\n",
       "        text-align: right;\n",
       "    }\n",
       "</style>\n",
       "<table border=\"1\" class=\"dataframe\">\n",
       "  <thead>\n",
       "    <tr style=\"text-align: right;\">\n",
       "      <th></th>\n",
       "      <th>videoID</th>\n",
       "      <th>frameNr</th>\n",
       "      <th>label</th>\n",
       "      <th>manual_insert</th>\n",
       "    </tr>\n",
       "  </thead>\n",
       "  <tbody>\n",
       "    <tr>\n",
       "      <th>0</th>\n",
       "      <td>1</td>\n",
       "      <td>0</td>\n",
       "      <td>9</td>\n",
       "      <td>1</td>\n",
       "    </tr>\n",
       "    <tr>\n",
       "      <th>1</th>\n",
       "      <td>1</td>\n",
       "      <td>1</td>\n",
       "      <td>9</td>\n",
       "      <td>1</td>\n",
       "    </tr>\n",
       "    <tr>\n",
       "      <th>2</th>\n",
       "      <td>1</td>\n",
       "      <td>2</td>\n",
       "      <td>9</td>\n",
       "      <td>1</td>\n",
       "    </tr>\n",
       "    <tr>\n",
       "      <th>3</th>\n",
       "      <td>1</td>\n",
       "      <td>3</td>\n",
       "      <td>9</td>\n",
       "      <td>1</td>\n",
       "    </tr>\n",
       "    <tr>\n",
       "      <th>4</th>\n",
       "      <td>1</td>\n",
       "      <td>4</td>\n",
       "      <td>9</td>\n",
       "      <td>1</td>\n",
       "    </tr>\n",
       "    <tr>\n",
       "      <th>...</th>\n",
       "      <td>...</td>\n",
       "      <td>...</td>\n",
       "      <td>...</td>\n",
       "      <td>...</td>\n",
       "    </tr>\n",
       "    <tr>\n",
       "      <th>2859</th>\n",
       "      <td>2</td>\n",
       "      <td>763</td>\n",
       "      <td>2</td>\n",
       "      <td>1</td>\n",
       "    </tr>\n",
       "    <tr>\n",
       "      <th>2860</th>\n",
       "      <td>2</td>\n",
       "      <td>764</td>\n",
       "      <td>2</td>\n",
       "      <td>1</td>\n",
       "    </tr>\n",
       "    <tr>\n",
       "      <th>2861</th>\n",
       "      <td>2</td>\n",
       "      <td>765</td>\n",
       "      <td>2</td>\n",
       "      <td>1</td>\n",
       "    </tr>\n",
       "    <tr>\n",
       "      <th>2862</th>\n",
       "      <td>2</td>\n",
       "      <td>766</td>\n",
       "      <td>2</td>\n",
       "      <td>1</td>\n",
       "    </tr>\n",
       "    <tr>\n",
       "      <th>2863</th>\n",
       "      <td>2</td>\n",
       "      <td>767</td>\n",
       "      <td>2</td>\n",
       "      <td>1</td>\n",
       "    </tr>\n",
       "  </tbody>\n",
       "</table>\n",
       "<p>2864 rows × 4 columns</p>\n",
       "</div>"
      ],
      "text/plain": [
       "      videoID  frameNr  label  manual_insert\n",
       "0           1        0      9              1\n",
       "1           1        1      9              1\n",
       "2           1        2      9              1\n",
       "3           1        3      9              1\n",
       "4           1        4      9              1\n",
       "...       ...      ...    ...            ...\n",
       "2859        2      763      2              1\n",
       "2860        2      764      2              1\n",
       "2861        2      765      2              1\n",
       "2862        2      766      2              1\n",
       "2863        2      767      2              1\n",
       "\n",
       "[2864 rows x 4 columns]"
      ]
     },
     "execution_count": 17,
     "metadata": {},
     "output_type": "execute_result"
    }
   ],
   "source": [
    "query_framelabels()"
   ]
  },
  {
   "cell_type": "code",
   "execution_count": null,
   "id": "842dca24-c2a0-4303-88dd-98f5a9ccafc8",
   "metadata": {},
   "outputs": [],
   "source": []
  },
  {
   "cell_type": "code",
   "execution_count": null,
   "id": "9bde6b61-1274-4ada-81d3-8af3f9bfab31",
   "metadata": {},
   "outputs": [],
   "source": []
  },
  {
   "cell_type": "code",
   "execution_count": null,
   "id": "5711aa0e-7ec0-40e6-b306-cbcbd8e7a512",
   "metadata": {},
   "outputs": [],
   "source": []
  },
  {
   "cell_type": "code",
   "execution_count": null,
   "id": "a6ff2023-5a90-44f5-96cb-8e4926d2e0e3",
   "metadata": {},
   "outputs": [],
   "source": []
  },
  {
   "cell_type": "code",
   "execution_count": null,
   "id": "aa52f89d-1ae7-487a-8406-095f91115290",
   "metadata": {},
   "outputs": [],
   "source": []
  },
  {
   "cell_type": "code",
   "execution_count": null,
   "id": "ea31fe38-ffdb-41b9-a4d6-4e7c65385696",
   "metadata": {},
   "outputs": [],
   "source": []
  }
 ],
 "metadata": {
  "kernelspec": {
   "display_name": "Python 3 (ipykernel)",
   "language": "python",
   "name": "python3"
  },
  "language_info": {
   "codemirror_mode": {
    "name": "ipython",
    "version": 3
   },
   "file_extension": ".py",
   "mimetype": "text/x-python",
   "name": "python",
   "nbconvert_exporter": "python",
   "pygments_lexer": "ipython3",
   "version": "3.10.12"
  }
 },
 "nbformat": 4,
 "nbformat_minor": 5
}
