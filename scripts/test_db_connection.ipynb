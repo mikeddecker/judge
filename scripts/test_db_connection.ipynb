{
 "cells": [
  {
   "cell_type": "code",
   "execution_count": 1,
   "id": "7566ca65-7f95-4de0-a20d-0a1eb17aef5a",
   "metadata": {},
   "outputs": [
    {
     "name": "stderr",
     "output_type": "stream",
     "text": [
      "2024-08-05 13:30:25.724021: I tensorflow/core/util/port.cc:113] oneDNN custom operations are on. You may see slightly different numerical results due to floating-point round-off errors from different computation orders. To turn them off, set the environment variable `TF_ENABLE_ONEDNN_OPTS=0`.\n",
      "2024-08-05 13:30:25.769545: I tensorflow/core/platform/cpu_feature_guard.cc:210] This TensorFlow binary is optimized to use available CPU instructions in performance-critical operations.\n",
      "To enable the following instructions: AVX2 AVX512F AVX512_VNNI FMA, in other operations, rebuild TensorFlow with the appropriate compiler flags.\n",
      "2024-08-05 13:30:26.483342: W tensorflow/compiler/tf2tensorrt/utils/py_utils.cc:38] TF-TRT Warning: Could not find TensorRT\n"
     ]
    }
   ],
   "source": [
    "from utils_misc import pickle_load_or_create, pickle_save\n",
    "from utils_cv2 import get_video_length, get_random_frame, get_squared_frames\n",
    "from DataRepository import DataRepository\n",
    "from DataGeneratorFrames import DataGeneratorRectangles\n",
    "import numpy as np\n",
    "import pandas as pd\n",
    "import sys\n",
    "import os\n",
    "import cv2\n",
    "\n",
    "root = '/media/miked/Elements/Judge/FINISHED-DB-READY/'"
   ]
  },
  {
   "cell_type": "code",
   "execution_count": 2,
   "id": "bef1da58-1a48-4377-a843-fb7464326940",
   "metadata": {},
   "outputs": [],
   "source": [
    "batch_size = 8\n",
    "dim = (256,256)"
   ]
  },
  {
   "cell_type": "code",
   "execution_count": 3,
   "id": "adafb9d9-220e-4e3e-b107-d747225fc49a",
   "metadata": {},
   "outputs": [
    {
     "name": "stdout",
     "output_type": "stream",
     "text": [
      "connection established\n"
     ]
    }
   ],
   "source": [
    "repo = DataRepository()"
   ]
  },
  {
   "cell_type": "code",
   "execution_count": 4,
   "id": "3cbccb83-7a83-4f30-aaed-5b848f031e9e",
   "metadata": {},
   "outputs": [
    {
     "name": "stdout",
     "output_type": "stream",
     "text": [
      "connection established\n",
      "DataGeneratorSkillBorders init done\n",
      "on_epoch_end_called\n"
     ]
    }
   ],
   "source": [
    "gen = DataGeneratorRectangles(rootfolder=root, batch_size=batch_size, dim=dim)"
   ]
  },
  {
   "cell_type": "code",
   "execution_count": 5,
   "id": "cfd81fc1-c00e-4727-9c93-86836de3b202",
   "metadata": {},
   "outputs": [
    {
     "data": {
      "text/html": [
       "<div>\n",
       "<style scoped>\n",
       "    .dataframe tbody tr th:only-of-type {\n",
       "        vertical-align: middle;\n",
       "    }\n",
       "\n",
       "    .dataframe tbody tr th {\n",
       "        vertical-align: top;\n",
       "    }\n",
       "\n",
       "    .dataframe thead th {\n",
       "        text-align: right;\n",
       "    }\n",
       "</style>\n",
       "<table border=\"1\" class=\"dataframe\">\n",
       "  <thead>\n",
       "    <tr style=\"text-align: right;\">\n",
       "      <th></th>\n",
       "      <th>videoID</th>\n",
       "      <th>batch_nr_video</th>\n",
       "      <th>frame_start</th>\n",
       "      <th>frame_end</th>\n",
       "      <th>frames</th>\n",
       "      <th>batch_id</th>\n",
       "    </tr>\n",
       "  </thead>\n",
       "  <tbody>\n",
       "    <tr>\n",
       "      <th>0</th>\n",
       "      <td>30</td>\n",
       "      <td>95</td>\n",
       "      <td>760</td>\n",
       "      <td>767</td>\n",
       "      <td>8</td>\n",
       "      <td>0</td>\n",
       "    </tr>\n",
       "    <tr>\n",
       "      <th>1</th>\n",
       "      <td>4</td>\n",
       "      <td>10</td>\n",
       "      <td>80</td>\n",
       "      <td>87</td>\n",
       "      <td>8</td>\n",
       "      <td>1</td>\n",
       "    </tr>\n",
       "    <tr>\n",
       "      <th>2</th>\n",
       "      <td>240</td>\n",
       "      <td>93</td>\n",
       "      <td>744</td>\n",
       "      <td>751</td>\n",
       "      <td>8</td>\n",
       "      <td>2</td>\n",
       "    </tr>\n",
       "    <tr>\n",
       "      <th>3</th>\n",
       "      <td>100</td>\n",
       "      <td>233</td>\n",
       "      <td>1864</td>\n",
       "      <td>1871</td>\n",
       "      <td>8</td>\n",
       "      <td>3</td>\n",
       "    </tr>\n",
       "    <tr>\n",
       "      <th>4</th>\n",
       "      <td>4</td>\n",
       "      <td>209</td>\n",
       "      <td>1672</td>\n",
       "      <td>1679</td>\n",
       "      <td>8</td>\n",
       "      <td>4</td>\n",
       "    </tr>\n",
       "    <tr>\n",
       "      <th>...</th>\n",
       "      <td>...</td>\n",
       "      <td>...</td>\n",
       "      <td>...</td>\n",
       "      <td>...</td>\n",
       "      <td>...</td>\n",
       "      <td>...</td>\n",
       "    </tr>\n",
       "    <tr>\n",
       "      <th>4014</th>\n",
       "      <td>100</td>\n",
       "      <td>74</td>\n",
       "      <td>592</td>\n",
       "      <td>599</td>\n",
       "      <td>8</td>\n",
       "      <td>4014</td>\n",
       "    </tr>\n",
       "    <tr>\n",
       "      <th>4015</th>\n",
       "      <td>52</td>\n",
       "      <td>173</td>\n",
       "      <td>1384</td>\n",
       "      <td>1391</td>\n",
       "      <td>8</td>\n",
       "      <td>4015</td>\n",
       "    </tr>\n",
       "    <tr>\n",
       "      <th>4016</th>\n",
       "      <td>6</td>\n",
       "      <td>70</td>\n",
       "      <td>560</td>\n",
       "      <td>567</td>\n",
       "      <td>8</td>\n",
       "      <td>4016</td>\n",
       "    </tr>\n",
       "    <tr>\n",
       "      <th>4017</th>\n",
       "      <td>4</td>\n",
       "      <td>208</td>\n",
       "      <td>1664</td>\n",
       "      <td>1671</td>\n",
       "      <td>8</td>\n",
       "      <td>4017</td>\n",
       "    </tr>\n",
       "    <tr>\n",
       "      <th>4018</th>\n",
       "      <td>110</td>\n",
       "      <td>20</td>\n",
       "      <td>160</td>\n",
       "      <td>167</td>\n",
       "      <td>8</td>\n",
       "      <td>4018</td>\n",
       "    </tr>\n",
       "  </tbody>\n",
       "</table>\n",
       "<p>4019 rows × 6 columns</p>\n",
       "</div>"
      ],
      "text/plain": [
       "      videoID  batch_nr_video  frame_start  frame_end  frames  batch_id\n",
       "0          30              95          760        767       8         0\n",
       "1           4              10           80         87       8         1\n",
       "2         240              93          744        751       8         2\n",
       "3         100             233         1864       1871       8         3\n",
       "4           4             209         1672       1679       8         4\n",
       "...       ...             ...          ...        ...     ...       ...\n",
       "4014      100              74          592        599       8      4014\n",
       "4015       52             173         1384       1391       8      4015\n",
       "4016        6              70          560        567       8      4016\n",
       "4017        4             208         1664       1671       8      4017\n",
       "4018      110              20          160        167       8      4018\n",
       "\n",
       "[4019 rows x 6 columns]"
      ]
     },
     "execution_count": 5,
     "metadata": {},
     "output_type": "execute_result"
    }
   ],
   "source": [
    "df = gen.batch_order\n",
    "df"
   ]
  },
  {
   "cell_type": "code",
   "execution_count": null,
   "id": "510a73d9-7a21-4df1-af41-21825d48e9fd",
   "metadata": {},
   "outputs": [],
   "source": []
  },
  {
   "cell_type": "code",
   "execution_count": 6,
   "id": "48048e6b-5ee9-4ac8-89b6-54cc13ceec6e",
   "metadata": {},
   "outputs": [
    {
     "data": {
      "text/html": [
       "<div>\n",
       "<style scoped>\n",
       "    .dataframe tbody tr th:only-of-type {\n",
       "        vertical-align: middle;\n",
       "    }\n",
       "\n",
       "    .dataframe tbody tr th {\n",
       "        vertical-align: top;\n",
       "    }\n",
       "\n",
       "    .dataframe thead th {\n",
       "        text-align: right;\n",
       "    }\n",
       "</style>\n",
       "<table border=\"1\" class=\"dataframe\">\n",
       "  <thead>\n",
       "    <tr style=\"text-align: right;\">\n",
       "      <th></th>\n",
       "      <th>videoID</th>\n",
       "      <th>batch_nr_video</th>\n",
       "      <th>frame_start</th>\n",
       "      <th>frame_end</th>\n",
       "      <th>frames</th>\n",
       "      <th>batch_id</th>\n",
       "    </tr>\n",
       "  </thead>\n",
       "  <tbody>\n",
       "    <tr>\n",
       "      <th>2034</th>\n",
       "      <td>2</td>\n",
       "      <td>104</td>\n",
       "      <td>832</td>\n",
       "      <td>832</td>\n",
       "      <td>1</td>\n",
       "      <td>2034</td>\n",
       "    </tr>\n",
       "    <tr>\n",
       "      <th>1729</th>\n",
       "      <td>2</td>\n",
       "      <td>178</td>\n",
       "      <td>1429</td>\n",
       "      <td>1431</td>\n",
       "      <td>3</td>\n",
       "      <td>1729</td>\n",
       "    </tr>\n",
       "    <tr>\n",
       "      <th>2374</th>\n",
       "      <td>2</td>\n",
       "      <td>179</td>\n",
       "      <td>1432</td>\n",
       "      <td>1433</td>\n",
       "      <td>2</td>\n",
       "      <td>2374</td>\n",
       "    </tr>\n",
       "    <tr>\n",
       "      <th>32</th>\n",
       "      <td>5</td>\n",
       "      <td>317</td>\n",
       "      <td>2536</td>\n",
       "      <td>2536</td>\n",
       "      <td>1</td>\n",
       "      <td>32</td>\n",
       "    </tr>\n",
       "    <tr>\n",
       "      <th>1042</th>\n",
       "      <td>6</td>\n",
       "      <td>111</td>\n",
       "      <td>888</td>\n",
       "      <td>894</td>\n",
       "      <td>7</td>\n",
       "      <td>1042</td>\n",
       "    </tr>\n",
       "    <tr>\n",
       "      <th>2771</th>\n",
       "      <td>7</td>\n",
       "      <td>167</td>\n",
       "      <td>1336</td>\n",
       "      <td>1338</td>\n",
       "      <td>3</td>\n",
       "      <td>2771</td>\n",
       "    </tr>\n",
       "    <tr>\n",
       "      <th>131</th>\n",
       "      <td>11</td>\n",
       "      <td>233</td>\n",
       "      <td>1864</td>\n",
       "      <td>1867</td>\n",
       "      <td>4</td>\n",
       "      <td>131</td>\n",
       "    </tr>\n",
       "    <tr>\n",
       "      <th>3234</th>\n",
       "      <td>16</td>\n",
       "      <td>248</td>\n",
       "      <td>1984</td>\n",
       "      <td>1988</td>\n",
       "      <td>5</td>\n",
       "      <td>3234</td>\n",
       "    </tr>\n",
       "    <tr>\n",
       "      <th>3277</th>\n",
       "      <td>30</td>\n",
       "      <td>101</td>\n",
       "      <td>808</td>\n",
       "      <td>813</td>\n",
       "      <td>6</td>\n",
       "      <td>3277</td>\n",
       "    </tr>\n",
       "    <tr>\n",
       "      <th>3896</th>\n",
       "      <td>30</td>\n",
       "      <td>101</td>\n",
       "      <td>815</td>\n",
       "      <td>815</td>\n",
       "      <td>1</td>\n",
       "      <td>3896</td>\n",
       "    </tr>\n",
       "    <tr>\n",
       "      <th>1770</th>\n",
       "      <td>30</td>\n",
       "      <td>249</td>\n",
       "      <td>1992</td>\n",
       "      <td>1993</td>\n",
       "      <td>2</td>\n",
       "      <td>1770</td>\n",
       "    </tr>\n",
       "    <tr>\n",
       "      <th>705</th>\n",
       "      <td>52</td>\n",
       "      <td>0</td>\n",
       "      <td>0</td>\n",
       "      <td>2</td>\n",
       "      <td>3</td>\n",
       "      <td>705</td>\n",
       "    </tr>\n",
       "    <tr>\n",
       "      <th>2195</th>\n",
       "      <td>52</td>\n",
       "      <td>1</td>\n",
       "      <td>13</td>\n",
       "      <td>15</td>\n",
       "      <td>3</td>\n",
       "      <td>2195</td>\n",
       "    </tr>\n",
       "    <tr>\n",
       "      <th>1051</th>\n",
       "      <td>52</td>\n",
       "      <td>210</td>\n",
       "      <td>1680</td>\n",
       "      <td>1686</td>\n",
       "      <td>7</td>\n",
       "      <td>1051</td>\n",
       "    </tr>\n",
       "    <tr>\n",
       "      <th>2004</th>\n",
       "      <td>52</td>\n",
       "      <td>211</td>\n",
       "      <td>1689</td>\n",
       "      <td>1695</td>\n",
       "      <td>7</td>\n",
       "      <td>2004</td>\n",
       "    </tr>\n",
       "    <tr>\n",
       "      <th>1321</th>\n",
       "      <td>52</td>\n",
       "      <td>254</td>\n",
       "      <td>2032</td>\n",
       "      <td>2033</td>\n",
       "      <td>2</td>\n",
       "      <td>1321</td>\n",
       "    </tr>\n",
       "    <tr>\n",
       "      <th>784</th>\n",
       "      <td>75</td>\n",
       "      <td>87</td>\n",
       "      <td>696</td>\n",
       "      <td>702</td>\n",
       "      <td>7</td>\n",
       "      <td>784</td>\n",
       "    </tr>\n",
       "    <tr>\n",
       "      <th>18</th>\n",
       "      <td>75</td>\n",
       "      <td>92</td>\n",
       "      <td>739</td>\n",
       "      <td>743</td>\n",
       "      <td>5</td>\n",
       "      <td>18</td>\n",
       "    </tr>\n",
       "    <tr>\n",
       "      <th>1427</th>\n",
       "      <td>100</td>\n",
       "      <td>48</td>\n",
       "      <td>390</td>\n",
       "      <td>391</td>\n",
       "      <td>2</td>\n",
       "      <td>1427</td>\n",
       "    </tr>\n",
       "    <tr>\n",
       "      <th>2782</th>\n",
       "      <td>100</td>\n",
       "      <td>48</td>\n",
       "      <td>384</td>\n",
       "      <td>386</td>\n",
       "      <td>3</td>\n",
       "      <td>2782</td>\n",
       "    </tr>\n",
       "    <tr>\n",
       "      <th>212</th>\n",
       "      <td>100</td>\n",
       "      <td>250</td>\n",
       "      <td>2000</td>\n",
       "      <td>2006</td>\n",
       "      <td>7</td>\n",
       "      <td>212</td>\n",
       "    </tr>\n",
       "    <tr>\n",
       "      <th>1200</th>\n",
       "      <td>110</td>\n",
       "      <td>118</td>\n",
       "      <td>944</td>\n",
       "      <td>946</td>\n",
       "      <td>3</td>\n",
       "      <td>1200</td>\n",
       "    </tr>\n",
       "    <tr>\n",
       "      <th>3838</th>\n",
       "      <td>110</td>\n",
       "      <td>119</td>\n",
       "      <td>956</td>\n",
       "      <td>959</td>\n",
       "      <td>4</td>\n",
       "      <td>3838</td>\n",
       "    </tr>\n",
       "    <tr>\n",
       "      <th>3411</th>\n",
       "      <td>110</td>\n",
       "      <td>233</td>\n",
       "      <td>1864</td>\n",
       "      <td>1869</td>\n",
       "      <td>6</td>\n",
       "      <td>3411</td>\n",
       "    </tr>\n",
       "    <tr>\n",
       "      <th>746</th>\n",
       "      <td>120</td>\n",
       "      <td>259</td>\n",
       "      <td>2072</td>\n",
       "      <td>2072</td>\n",
       "      <td>1</td>\n",
       "      <td>746</td>\n",
       "    </tr>\n",
       "    <tr>\n",
       "      <th>550</th>\n",
       "      <td>245</td>\n",
       "      <td>251</td>\n",
       "      <td>2008</td>\n",
       "      <td>2008</td>\n",
       "      <td>1</td>\n",
       "      <td>550</td>\n",
       "    </tr>\n",
       "  </tbody>\n",
       "</table>\n",
       "</div>"
      ],
      "text/plain": [
       "      videoID  batch_nr_video  frame_start  frame_end  frames  batch_id\n",
       "2034        2             104          832        832       1      2034\n",
       "1729        2             178         1429       1431       3      1729\n",
       "2374        2             179         1432       1433       2      2374\n",
       "32          5             317         2536       2536       1        32\n",
       "1042        6             111          888        894       7      1042\n",
       "2771        7             167         1336       1338       3      2771\n",
       "131        11             233         1864       1867       4       131\n",
       "3234       16             248         1984       1988       5      3234\n",
       "3277       30             101          808        813       6      3277\n",
       "3896       30             101          815        815       1      3896\n",
       "1770       30             249         1992       1993       2      1770\n",
       "705        52               0            0          2       3       705\n",
       "2195       52               1           13         15       3      2195\n",
       "1051       52             210         1680       1686       7      1051\n",
       "2004       52             211         1689       1695       7      2004\n",
       "1321       52             254         2032       2033       2      1321\n",
       "784        75              87          696        702       7       784\n",
       "18         75              92          739        743       5        18\n",
       "1427      100              48          390        391       2      1427\n",
       "2782      100              48          384        386       3      2782\n",
       "212       100             250         2000       2006       7       212\n",
       "1200      110             118          944        946       3      1200\n",
       "3838      110             119          956        959       4      3838\n",
       "3411      110             233         1864       1869       6      3411\n",
       "746       120             259         2072       2072       1       746\n",
       "550       245             251         2008       2008       1       550"
      ]
     },
     "execution_count": 6,
     "metadata": {},
     "output_type": "execute_result"
    }
   ],
   "source": [
    "df[df.frames < batch_size].sort_values(['videoID', 'batch_nr_video'])"
   ]
  },
  {
   "cell_type": "code",
   "execution_count": 9,
   "id": "61f0a9fa-5895-4455-9bd9-b034ed62e363",
   "metadata": {},
   "outputs": [
    {
     "name": "stdout",
     "output_type": "stream",
     "text": [
      "48 56 64 64\n",
      "3270 (8, 256, 256, 3) (8, 3)\n",
      "56 64 64 64\n",
      "3271 (8, 256, 256, 3) (8, 3)\n"
     ]
    },
    {
     "name": "stderr",
     "output_type": "stream",
     "text": [
      "[h264 @ 0x563617e74300] reference picture missing during reorder\n",
      "[h264 @ 0x563617e74300] Missing reference picture, default is 2147483647\n"
     ]
    },
    {
     "name": "stdout",
     "output_type": "stream",
     "text": [
      "0 8 62 62\n",
      "3272 (8, 256, 256, 3) (8, 3)\n",
      "8 16 62 62\n",
      "3273 (8, 256, 256, 3) (8, 3)\n",
      "16 24 62 62\n",
      "3274 (8, 256, 256, 3) (8, 3)\n",
      "24 32 62 62\n",
      "3275 (8, 256, 256, 3) (8, 3)\n",
      "32 40 62 62\n",
      "3276 (8, 256, 256, 3) (8, 3)\n",
      "40 46 62 62\n",
      "3277 (6, 256, 256, 3) (6, 3)\n",
      "46 54 62 62\n",
      "3278 (8, 256, 256, 3) (8, 3)\n",
      "54 62 62 62\n",
      "3279 (8, 256, 256, 3) (8, 3)\n"
     ]
    },
    {
     "name": "stderr",
     "output_type": "stream",
     "text": [
      "[h264 @ 0x563617ec3ec0] reference picture missing during reorder\n",
      "[h264 @ 0x563617ec3ec0] Missing reference picture, default is 2147483647\n",
      "[h264 @ 0x56361a3bf340] reference picture missing during reorder\n",
      "[h264 @ 0x56361a3bf340] Missing reference picture, default is 2147483647\n",
      "[h264 @ 0x563617e7a740] reference picture missing during reorder\n",
      "[h264 @ 0x563617e7a740] Missing reference picture, default is 2147483647\n"
     ]
    },
    {
     "name": "stdout",
     "output_type": "stream",
     "text": [
      "0 8 64 64\n",
      "3280 (8, 256, 256, 3) (8, 3)\n",
      "8 16 64 64\n",
      "3281 (8, 256, 256, 3) (8, 3)\n",
      "16 24 64 64\n",
      "3282 (8, 256, 256, 3) (8, 3)\n",
      "24 32 64 64\n",
      "3283 (8, 256, 256, 3) (8, 3)\n",
      "32 40 64 64\n",
      "3284 (8, 256, 256, 3) (8, 3)\n"
     ]
    }
   ],
   "source": [
    "for i in np.arange(3270, 3285):\n",
    "    X, y = gen.__getitem__(i)\n",
    "    print(i, X.shape, y.shape)"
   ]
  },
  {
   "cell_type": "code",
   "execution_count": 9,
   "id": "a9cbb524-f3ca-4621-9d5c-737f958cccb3",
   "metadata": {},
   "outputs": [
    {
     "data": {
      "text/plain": [
       "((8, 256, 256, 3), (8, 3))"
      ]
     },
     "execution_count": 9,
     "metadata": {},
     "output_type": "execute_result"
    }
   ],
   "source": [
    "X.shape, y.shape"
   ]
  },
  {
   "cell_type": "code",
   "execution_count": null,
   "id": "12197a54-32aa-4925-a963-27e028c8bed8",
   "metadata": {},
   "outputs": [],
   "source": []
  },
  {
   "cell_type": "code",
   "execution_count": 10,
   "id": "eaa1e0a5-8db7-4813-9c63-40735a2b1d39",
   "metadata": {},
   "outputs": [
    {
     "data": {
      "text/plain": [
       "12.000457763671875"
      ]
     },
     "execution_count": 10,
     "metadata": {},
     "output_type": "execute_result"
    }
   ],
   "source": [
    "# Megabytes\n",
    "(sys.getsizeof(X) + sys.getsizeof(y)) / 1024 / 1024"
   ]
  },
  {
   "cell_type": "code",
   "execution_count": 214,
   "id": "18f523b5-6740-4215-b056-338e7bc5df11",
   "metadata": {},
   "outputs": [
    {
     "data": {
      "text/plain": [
       "8"
      ]
     },
     "execution_count": 214,
     "metadata": {},
     "output_type": "execute_result"
    }
   ],
   "source": [
    "batch_size"
   ]
  },
  {
   "cell_type": "code",
   "execution_count": 239,
   "id": "bf17da1e-965f-4402-8774-193c8b404685",
   "metadata": {},
   "outputs": [],
   "source": [
    "batch"
   ]
  },
  {
   "cell_type": "code",
   "execution_count": 251,
   "id": "efcffb63-46e6-4868-b90d-a7a080f488b5",
   "metadata": {},
   "outputs": [
    {
     "data": {
      "text/plain": [
       "((64, 256, 256, 3), (64, 3))"
      ]
     },
     "execution_count": 251,
     "metadata": {},
     "output_type": "execute_result"
    }
   ],
   "source": [
    "np.array(X_shuffled).shape, np.array(y_shuffled).shape"
   ]
  },
  {
   "cell_type": "code",
   "execution_count": 198,
   "id": "a2fe83ba-f736-4cd9-a38c-7e6b93851d2f",
   "metadata": {},
   "outputs": [
    {
     "name": "stdout",
     "output_type": "stream",
     "text": [
      "get frames 952 959\n"
     ]
    },
    {
     "name": "stderr",
     "output_type": "stream",
     "text": [
      "[h264 @ 0x5db527ee97c0] reference picture missing during reorder\n",
      "[h264 @ 0x5db527ee97c0] Missing reference picture, default is 2147483647\n"
     ]
    }
   ],
   "source": [
    "X, y = gen.__getitem__(5)"
   ]
  },
  {
   "cell_type": "code",
   "execution_count": 197,
   "id": "7e0a2ee0-fe94-4381-b77a-cb2f58b11715",
   "metadata": {},
   "outputs": [
    {
     "data": {
      "text/plain": [
       "((8, 256, 256, 3), (8, 3))"
      ]
     },
     "execution_count": 197,
     "metadata": {},
     "output_type": "execute_result"
    }
   ],
   "source": [
    "X.shape, y.shape"
   ]
  },
  {
   "cell_type": "code",
   "execution_count": null,
   "id": "8c0309ad-ca5e-44bc-ae8f-2d36571d67b9",
   "metadata": {},
   "outputs": [],
   "source": []
  },
  {
   "cell_type": "code",
   "execution_count": 191,
   "id": "66d35007-642d-4ba4-9b37-f8f28dcc192c",
   "metadata": {},
   "outputs": [
    {
     "name": "stdout",
     "output_type": "stream",
     "text": [
      "Pair 0:\n",
      "x shape: (256, 256, 3), y: [0.456771 0.544792 0.388123]\n",
      "Pair 1:\n",
      "x shape: (256, 256, 3), y: [0.456771 0.544792 0.388123]\n",
      "Pair 2:\n",
      "x shape: (256, 256, 3), y: [0.456771 0.544792 0.388123]\n",
      "Pair 3:\n",
      "x shape: (256, 256, 3), y: [0.456771 0.544792 0.388123]\n",
      "Pair 4:\n",
      "x shape: (256, 256, 3), y: [0.456771 0.544792 0.388123]\n",
      "Pair 5:\n",
      "x shape: (256, 256, 3), y: [0.456771 0.544792 0.388123]\n",
      "Pair 6:\n",
      "x shape: (256, 256, 3), y: [0.456771 0.544792 0.388123]\n",
      "Pair 7:\n",
      "x shape: (256, 256, 3), y: [0.456771 0.544792 0.388123]\n"
     ]
    }
   ],
   "source": []
  },
  {
   "cell_type": "code",
   "execution_count": 109,
   "id": "ccdbc055-090a-4ae8-a014-9bb258997e2b",
   "metadata": {},
   "outputs": [
    {
     "data": {
      "text/plain": [
       "1"
      ]
     },
     "execution_count": 109,
     "metadata": {},
     "output_type": "execute_result"
    }
   ],
   "source": [
    "16 // batch_size"
   ]
  },
  {
   "cell_type": "code",
   "execution_count": 97,
   "id": "ee2c2857-5ea1-48b2-a436-c850a2e45e4f",
   "metadata": {},
   "outputs": [
    {
     "name": "stdout",
     "output_type": "stream",
     "text": [
      "gehele deling: 0 modulo 0\n",
      "gehele deling: 0 modulo 1\n",
      "gehele deling: 0 modulo 2\n",
      "gehele deling: 0 modulo 3\n",
      "gehele deling: 0 modulo 4\n",
      "gehele deling: 0 modulo 5\n",
      "gehele deling: 0 modulo 6\n",
      "gehele deling: 0 modulo 7\n",
      "gehele deling: 0 modulo 8\n",
      "gehele deling: 0 modulo 9\n",
      "gehele deling: 0 modulo 10\n",
      "gehele deling: 0 modulo 11\n",
      "gehele deling: 0 modulo 12\n",
      "gehele deling: 0 modulo 13\n",
      "gehele deling: 0 modulo 14\n",
      "gehele deling: 0 modulo 15\n",
      "gehele deling: 1 modulo 0\n",
      "gehele deling: 1 modulo 1\n",
      "gehele deling: 1 modulo 2\n",
      "gehele deling: 1 modulo 3\n",
      "gehele deling: 1 modulo 4\n"
     ]
    }
   ],
   "source": [
    "for i in range(batch_size + 5):\n",
    "    print('gehele deling:', i // batch_size, 'modulo', i % batch_size)"
   ]
  },
  {
   "cell_type": "code",
   "execution_count": 96,
   "id": "6d116075-c468-478c-8922-03b6530c7183",
   "metadata": {},
   "outputs": [],
   "source": [
    "if 0 == None:\n",
    "    print('hi')"
   ]
  },
  {
   "cell_type": "code",
   "execution_count": null,
   "id": "1467f88c-7375-4ccd-a67f-180ed7f02cc1",
   "metadata": {},
   "outputs": [],
   "source": []
  },
  {
   "cell_type": "code",
   "execution_count": null,
   "id": "e69778ba-d2d9-42c3-a51b-dfb1f85b0aa4",
   "metadata": {},
   "outputs": [],
   "source": [
    "import numpy as np\n",
    "\n",
    "def add_rectangle_to_frame(frame, rel_rect_center_x, rel_rect_center_y, rect_size):\n",
    "    # Square, spatio-(temporal) variant\n",
    "    height = frame.shape[0]\n",
    "    width = frame.shape[1]\n",
    "    size = max(width, height)\n",
    "    offset_x = (size - width) // 2\n",
    "    offset_y = (size - height)// 2\n",
    "\n",
    "    print(offset_x, offset_y)\n",
    "    # rect_center_x = x position in pixels within the frame (rectangle, not square)\n",
    "    # Offset = the difference between height and width divided by 2\n",
    "\n",
    "    # Xmin/max and Ymin/max in rectangle position\n",
    "    rect_size_pixels = rect_size * size\n",
    "    xmin = int(rel_rect_center_x * size - offset_x - (rect_size_pixels / 2))\n",
    "    ymin = int(rel_rect_center_y * size - offset_y - (rect_size_pixels / 2))\n",
    "    xmax = int(xmin + rect_size_pixels)\n",
    "    ymax = int(ymin + rect_size_pixels)\n",
    "\n",
    "    xmin = max(5, xmin)\n",
    "    ymin = max(5, ymin)\n",
    "\n",
    "    wanted_frame = np.array(frame[ymin:ymax, xmin:xmax])    \n",
    "    frame[ymin-4:ymax+5, xmin-5:xmax+5] = [250,0,0] # y, x\n",
    "    frame[ymin:ymax, xmin:xmax] = wanted_frame\n",
    "\n",
    "    # Dot\n",
    "    dotx = int(rel_rect_center_x * size - offset_x)\n",
    "    doty = int(rel_rect_center_y * size - offset_y)\n",
    "    frame[doty-10:doty+10, dotx-10:dotx+10] = [0,0,255]\n",
    "    \n",
    "    return frame"
   ]
  },
  {
   "cell_type": "code",
   "execution_count": null,
   "id": "001bec35-e911-440a-8eca-83dee9e6033a",
   "metadata": {},
   "outputs": [],
   "source": []
  },
  {
   "cell_type": "code",
   "execution_count": null,
   "id": "f948f272-afc2-4725-80ea-8d5ec2d5def2",
   "metadata": {},
   "outputs": [],
   "source": []
  },
  {
   "cell_type": "code",
   "execution_count": null,
   "id": "dbd29fac-d0d0-4c75-9b8c-ddef42b640aa",
   "metadata": {},
   "outputs": [],
   "source": [
    "id = 2\n",
    "frameNr = 500"
   ]
  },
  {
   "cell_type": "code",
   "execution_count": null,
   "id": "95df7e90-1dbf-4daa-a2ef-55cdfe7f41fa",
   "metadata": {},
   "outputs": [],
   "source": [
    "full_path = root + repo.get_path(id)\n",
    "full_path"
   ]
  },
  {
   "cell_type": "code",
   "execution_count": null,
   "id": "29e35c08-dfa2-4a63-93f5-f4b486093fd2",
   "metadata": {},
   "outputs": [],
   "source": [
    "frame = get_squared_frames(full_path, frameNr, frameNr, (600,600))[0]\n",
    "frame.shape"
   ]
  },
  {
   "cell_type": "code",
   "execution_count": null,
   "id": "09dda653-9eb2-44e1-b7fd-2d821341f68e",
   "metadata": {},
   "outputs": [],
   "source": [
    "lbls = repo.get_rectangles_from_batch(id, frameNr, frameNr).loc[0]\n",
    "lbls"
   ]
  },
  {
   "cell_type": "code",
   "execution_count": null,
   "id": "0eee1f8b-82a7-4967-bf66-4d14410f7378",
   "metadata": {},
   "outputs": [],
   "source": [
    "frame = add_rectangle_to_frame(frame, lbls['rect_center_x'], lbls['rect_center_y'], lbls['rect_size'])"
   ]
  },
  {
   "cell_type": "code",
   "execution_count": null,
   "id": "0da080fb-6a16-40f0-b98f-36b199d26cad",
   "metadata": {},
   "outputs": [],
   "source": [
    "import cv2\n",
    "cv2.imshow('image',frame)\n",
    "cv2.waitKey(0)\n",
    "cv2.destroyAllWindows()"
   ]
  },
  {
   "cell_type": "code",
   "execution_count": null,
   "id": "a00d6400-c973-4591-ae93-1b8252634f13",
   "metadata": {},
   "outputs": [],
   "source": [
    "repo.execute_command?"
   ]
  },
  {
   "cell_type": "code",
   "execution_count": null,
   "id": "9f28c94f-1587-4858-9eb6-d8003d4f43d3",
   "metadata": {},
   "outputs": [],
   "source": []
  },
  {
   "cell_type": "code",
   "execution_count": null,
   "id": "4d462149-ee3d-4931-abfe-be0abc0f9d6c",
   "metadata": {},
   "outputs": [],
   "source": []
  },
  {
   "cell_type": "code",
   "execution_count": null,
   "id": "034adf16-aef8-4d2d-b203-9d7a22788f99",
   "metadata": {},
   "outputs": [],
   "source": []
  },
  {
   "cell_type": "code",
   "execution_count": null,
   "id": "e6509a75-9f05-4ad9-8e6f-52df06f83aed",
   "metadata": {},
   "outputs": [],
   "source": []
  },
  {
   "cell_type": "code",
   "execution_count": null,
   "id": "61a729d3-fd4a-434a-bcff-79ffa4b01ba9",
   "metadata": {},
   "outputs": [],
   "source": []
  },
  {
   "cell_type": "code",
   "execution_count": null,
   "id": "cde94f08-e221-42ba-8ae1-e88380ca594e",
   "metadata": {},
   "outputs": [],
   "source": []
  },
  {
   "cell_type": "code",
   "execution_count": null,
   "id": "200ce3cf-6d9e-47f2-b7fe-01e1e99f036a",
   "metadata": {},
   "outputs": [],
   "source": []
  },
  {
   "cell_type": "code",
   "execution_count": null,
   "id": "c0c3b182-d0aa-462c-ba84-d5b126302e55",
   "metadata": {},
   "outputs": [],
   "source": []
  },
  {
   "cell_type": "code",
   "execution_count": null,
   "id": "b49fbe0d-b412-476f-8e1f-45c48bd08f93",
   "metadata": {},
   "outputs": [],
   "source": [
    "qry = f\"\"\"\n",
    "SELECT * FROM FrameLabels WHERE rect_center_x IS NOT NULL AND (rect_center_x * rect_center_y * rect_size != 0.25)\n",
    "\"\"\""
   ]
  },
  {
   "cell_type": "code",
   "execution_count": null,
   "id": "d92f7751-d67a-49d9-b8c2-6dc6640423d1",
   "metadata": {},
   "outputs": [],
   "source": [
    "lbls = repo.fetch_qry(qry).sort_values(['videoID', 'frameNr'])\n",
    "lbls"
   ]
  },
  {
   "cell_type": "code",
   "execution_count": null,
   "id": "93ddfaad-b9d0-4abb-99ca-77a8967f8a8b",
   "metadata": {},
   "outputs": [],
   "source": [
    "# rect size delen door aspect ratio where not 0.5, 0.5, 1.0\n",
    "# rel x, of rel y aanpassen afhankelijk van wat het kleinste is. dus based on videoID"
   ]
  },
  {
   "cell_type": "code",
   "execution_count": null,
   "id": "5c623fd4-31f7-40dc-9bd5-2de47b86ddee",
   "metadata": {},
   "outputs": [],
   "source": []
  },
  {
   "cell_type": "code",
   "execution_count": null,
   "id": "9671168c-6c7a-4109-a7ec-43270c188bbb",
   "metadata": {},
   "outputs": [],
   "source": []
  },
  {
   "cell_type": "code",
   "execution_count": null,
   "id": "02d7239a-0114-4932-85e4-62d87e904f75",
   "metadata": {},
   "outputs": [],
   "source": [
    "for idx, lbl in lbls.iterrows():\n",
    "    id = lbl['videoID']\n",
    "    frameNr= lbl['frameNr']\n",
    "\n",
    "    #cmd = f\"UPDATE FrameLabels SET rect_center_x = {lbl['rect_center_x']}, rect_center_y = {lbl['rect_center_y']}, rect_size={lbl['rect_size']} WHERE videoID = {int(id)} AND frameNr = {int(frameNr)}\"\n",
    "    #repo.execute_command(cmd)"
   ]
  },
  {
   "cell_type": "code",
   "execution_count": null,
   "id": "5806e5f9-edfd-423d-b414-bbbd06a04843",
   "metadata": {},
   "outputs": [],
   "source": [
    "((0.8 * 1080) + 420) / 1920"
   ]
  },
  {
   "cell_type": "code",
   "execution_count": null,
   "id": "8e9c52a8-4579-4ab6-be54-76aba7fc4cf6",
   "metadata": {},
   "outputs": [],
   "source": [
    "lbls.groupby('rect_size').count()"
   ]
  },
  {
   "cell_type": "code",
   "execution_count": null,
   "id": "5e8a2b51-85cb-4253-8080-80efa7893cb2",
   "metadata": {},
   "outputs": [],
   "source": [
    "repo.get_ageID('junsen')"
   ]
  },
  {
   "cell_type": "code",
   "execution_count": null,
   "id": "1347fb0b-1c34-40b2-9f67-cab95576a1e3",
   "metadata": {},
   "outputs": [],
   "source": [
    "gen = DataGeneratorRectangles(batch_size=8, train=True, rootfolder=root, dim=(256,256))"
   ]
  },
  {
   "cell_type": "code",
   "execution_count": null,
   "id": "9a37b945-45f3-4778-8dc4-37e7e665207c",
   "metadata": {},
   "outputs": [],
   "source": [
    "gen.batch_order.sort_values(['videoID','batch_nr_video'])\n"
   ]
  },
  {
   "cell_type": "code",
   "execution_count": null,
   "id": "1d6ec92b-dba9-4431-a85f-95bce597365c",
   "metadata": {},
   "outputs": [],
   "source": [
    "gen.batch_order[(gen.batch_order['frames'] < 8)]\n"
   ]
  },
  {
   "cell_type": "code",
   "execution_count": null,
   "id": "a7b535cb-4a29-4187-9920-e8c02ea98f96",
   "metadata": {},
   "outputs": [],
   "source": [
    "gen.batch_order[(gen.batch_order['frames'] < 8) & (gen.batch_order['videoID'] == 52)]\n"
   ]
  },
  {
   "cell_type": "code",
   "execution_count": null,
   "id": "f1f4b041-4b7d-4711-b630-c92a97d82618",
   "metadata": {},
   "outputs": [],
   "source": []
  },
  {
   "cell_type": "code",
   "execution_count": null,
   "id": "8a72a3e2-e6aa-420f-ad39-01af8055280e",
   "metadata": {},
   "outputs": [],
   "source": [
    "repo.get_rectangles_from_batch(100, 380,400)"
   ]
  },
  {
   "cell_type": "code",
   "execution_count": null,
   "id": "f7b7b852-5f68-4e9b-9287-d3adf22f3b24",
   "metadata": {},
   "outputs": [],
   "source": [
    "X, y = gen.__getitem__(2630)"
   ]
  },
  {
   "cell_type": "code",
   "execution_count": null,
   "id": "304c86ac-9750-4fa3-9f22-07f85955bede",
   "metadata": {},
   "outputs": [],
   "source": [
    "X.shape"
   ]
  },
  {
   "cell_type": "code",
   "execution_count": null,
   "id": "3a982e8d-e662-4e04-8b17-11bb8df2ff08",
   "metadata": {},
   "outputs": [],
   "source": [
    "y.shape"
   ]
  },
  {
   "cell_type": "code",
   "execution_count": null,
   "id": "f70635e2-f874-4708-916f-61906706fc0a",
   "metadata": {},
   "outputs": [],
   "source": [
    "y"
   ]
  },
  {
   "cell_type": "code",
   "execution_count": null,
   "id": "c0350344-1968-4b25-8aff-2f443ffb84be",
   "metadata": {},
   "outputs": [],
   "source": [
    "repo.get_rectangles_from_batch(videoID=52, frame_start=14, frame_end=16)"
   ]
  },
  {
   "cell_type": "code",
   "execution_count": null,
   "id": "72197059-ff88-474d-b11a-6069b742c8fd",
   "metadata": {},
   "outputs": [],
   "source": [
    "for i in gen.batch_order[(gen.batch_order['frames'] < 8)].index.values:\n",
    "    #X, y = gen.__getitem__(i)\n",
    "    #print(X.shape, y.shape)\n",
    "    pass"
   ]
  },
  {
   "cell_type": "code",
   "execution_count": null,
   "id": "c4109a86-3daf-4b6c-b29a-95d9be110fd0",
   "metadata": {},
   "outputs": [],
   "source": []
  },
  {
   "cell_type": "code",
   "execution_count": null,
   "id": "a53c7389-28ff-493b-9771-6a1e6de48229",
   "metadata": {},
   "outputs": [],
   "source": [
    "model = pickle_load_or_create('../models/rectangles_portrait_landscaped_padded_history', lambda: None, True).model\n",
    "print(model)"
   ]
  },
  {
   "cell_type": "code",
   "execution_count": null,
   "id": "af74210b-e22e-4529-abaa-caf046d8bdbe",
   "metadata": {},
   "outputs": [],
   "source": [
    "### Predicting frames"
   ]
  },
  {
   "cell_type": "code",
   "execution_count": null,
   "id": "d8ba84b3-20b9-41d5-8bde-be2bb55e2729",
   "metadata": {},
   "outputs": [],
   "source": [
    "from utils_cv2 import get_squared_frames"
   ]
  },
  {
   "cell_type": "code",
   "execution_count": null,
   "id": "26007913-73cd-4653-92ae-290a6f751bc7",
   "metadata": {},
   "outputs": [],
   "source": [
    "vidid=149\n",
    "frame_start=111\n",
    "frame_end=111\n",
    "path = root + repo.get_path(videoID=vidid)\n",
    "path"
   ]
  },
  {
   "cell_type": "code",
   "execution_count": null,
   "id": "0cb9d58a-349a-49e7-b904-8fd46c7bf4b9",
   "metadata": {},
   "outputs": [],
   "source": [
    "X = get_squared_frames(path, frame_start, frame_end, dim=(256,256))\n",
    "X.shape"
   ]
  },
  {
   "cell_type": "code",
   "execution_count": null,
   "id": "915b861f-1e5b-4f82-a915-1495d51e04a8",
   "metadata": {},
   "outputs": [],
   "source": []
  },
  {
   "cell_type": "code",
   "execution_count": null,
   "id": "94a689e2-3ac6-4ecd-a01c-da1caf1496a3",
   "metadata": {},
   "outputs": [],
   "source": [
    "np.set_printoptions(suppress=True)\n",
    "np.round(model.predict(X), 2)"
   ]
  },
  {
   "cell_type": "code",
   "execution_count": null,
   "id": "a5077237-86c4-46a0-8ccf-72efd9d5c3ec",
   "metadata": {},
   "outputs": [],
   "source": []
  },
  {
   "cell_type": "code",
   "execution_count": null,
   "id": "4d2ccec9-5f1c-4586-b462-473c64c2203d",
   "metadata": {},
   "outputs": [],
   "source": [
    "repo.get_rectangles_from_batch(vidid, frame_start, frame_end)"
   ]
  },
  {
   "cell_type": "code",
   "execution_count": null,
   "id": "03648c98-00da-4c8e-ab26-dfb5dd3de627",
   "metadata": {},
   "outputs": [],
   "source": []
  },
  {
   "cell_type": "code",
   "execution_count": null,
   "id": "c05ca74c-fb0c-4235-a249-ce2cbecde768",
   "metadata": {},
   "outputs": [],
   "source": [
    "rectx, recty, size = model.predict(X[0:1])[0]"
   ]
  },
  {
   "cell_type": "code",
   "execution_count": null,
   "id": "23608103-2b96-4e11-a1f0-4e951cf5748c",
   "metadata": {},
   "outputs": [],
   "source": [
    "rectangled_prediction = add_rectangle_to_frame(X[0], rectx, recty, size)"
   ]
  },
  {
   "cell_type": "code",
   "execution_count": null,
   "id": "2520a9c2-2e5b-4a23-b951-03511de8e254",
   "metadata": {},
   "outputs": [],
   "source": [
    "cv2.imshow('image', rectangled_prediction)\n",
    "cv2.waitKey(0)\n",
    "cv2.destroyAllWindows()"
   ]
  },
  {
   "cell_type": "code",
   "execution_count": null,
   "id": "440df0f4-3833-4efa-8963-993627cda77e",
   "metadata": {},
   "outputs": [],
   "source": []
  },
  {
   "cell_type": "code",
   "execution_count": null,
   "id": "d4d0a9f5-b750-4053-88d7-588e6547d30a",
   "metadata": {},
   "outputs": [],
   "source": []
  },
  {
   "cell_type": "code",
   "execution_count": null,
   "id": "bb2a6209-72ee-4dfe-b15d-f47018e31810",
   "metadata": {},
   "outputs": [],
   "source": []
  },
  {
   "cell_type": "code",
   "execution_count": null,
   "id": "aa502b5e-9557-4ed7-a525-160750285768",
   "metadata": {},
   "outputs": [],
   "source": []
  },
  {
   "cell_type": "code",
   "execution_count": null,
   "id": "ba5affe7-2969-430b-9384-9db3a6b4d43c",
   "metadata": {},
   "outputs": [],
   "source": []
  },
  {
   "cell_type": "code",
   "execution_count": null,
   "id": "2808e1a1-d1be-404a-97d6-c285bb1dedd4",
   "metadata": {},
   "outputs": [],
   "source": []
  },
  {
   "cell_type": "code",
   "execution_count": null,
   "id": "0168f18e-c563-446f-8d7c-ac53b24efbad",
   "metadata": {},
   "outputs": [],
   "source": []
  },
  {
   "cell_type": "code",
   "execution_count": null,
   "id": "20a09500-43ca-4175-bc05-039d6adbc6ae",
   "metadata": {},
   "outputs": [],
   "source": []
  },
  {
   "cell_type": "code",
   "execution_count": null,
   "id": "0ba77f00-d132-4f7e-a0d2-6982939a9367",
   "metadata": {},
   "outputs": [],
   "source": []
  },
  {
   "cell_type": "code",
   "execution_count": null,
   "id": "4def2ee6-d62f-4234-84ec-b6e245631933",
   "metadata": {},
   "outputs": [],
   "source": []
  },
  {
   "cell_type": "code",
   "execution_count": null,
   "id": "e3b02c85-89ba-485c-a12c-006ba63151b2",
   "metadata": {},
   "outputs": [],
   "source": []
  },
  {
   "cell_type": "code",
   "execution_count": null,
   "id": "edb8794a-f075-40ba-9fdb-0d0a98164564",
   "metadata": {},
   "outputs": [],
   "source": []
  },
  {
   "cell_type": "code",
   "execution_count": null,
   "id": "1d91e205-a5a7-43a1-9594-ccdfc8373743",
   "metadata": {},
   "outputs": [],
   "source": []
  },
  {
   "cell_type": "code",
   "execution_count": null,
   "id": "b24e031a-6ce5-4402-a05d-5c9b93b6b8c0",
   "metadata": {},
   "outputs": [],
   "source": []
  },
  {
   "cell_type": "code",
   "execution_count": null,
   "id": "d21b1700-d4e3-479f-9c19-f1291dde990e",
   "metadata": {},
   "outputs": [],
   "source": []
  },
  {
   "cell_type": "code",
   "execution_count": null,
   "id": "df23f089-2e9c-4087-bb1e-89ed86a85b2a",
   "metadata": {},
   "outputs": [],
   "source": []
  },
  {
   "cell_type": "code",
   "execution_count": null,
   "id": "a9917ac6-df7e-4bba-a14d-6f4bb6052f52",
   "metadata": {},
   "outputs": [],
   "source": []
  },
  {
   "cell_type": "code",
   "execution_count": null,
   "id": "91ffb6fb-90ad-4aa7-ac8f-d2842932d67e",
   "metadata": {},
   "outputs": [],
   "source": []
  },
  {
   "cell_type": "code",
   "execution_count": null,
   "id": "ac3e8a32-8145-437d-b855-098775bbba65",
   "metadata": {},
   "outputs": [],
   "source": []
  },
  {
   "cell_type": "code",
   "execution_count": null,
   "id": "8ff1a939-d3e8-40cf-b3a8-66b569d9c32f",
   "metadata": {},
   "outputs": [],
   "source": []
  },
  {
   "cell_type": "code",
   "execution_count": null,
   "id": "c52dbb26-df8b-42cd-bb55-7e63fc0edf58",
   "metadata": {},
   "outputs": [],
   "source": []
  },
  {
   "cell_type": "code",
   "execution_count": null,
   "id": "c1978815-6bff-4e26-9c61-a671e04190b5",
   "metadata": {},
   "outputs": [],
   "source": []
  },
  {
   "cell_type": "code",
   "execution_count": null,
   "id": "e5cabeb6-5001-4d96-9e05-ccc465fe982e",
   "metadata": {},
   "outputs": [],
   "source": []
  },
  {
   "cell_type": "code",
   "execution_count": null,
   "id": "230509ed-f116-404e-a4a0-6f42fbd4216a",
   "metadata": {},
   "outputs": [],
   "source": []
  },
  {
   "cell_type": "code",
   "execution_count": null,
   "id": "12f0c932-c0b0-483f-9737-2bf80846f84a",
   "metadata": {},
   "outputs": [],
   "source": []
  },
  {
   "cell_type": "code",
   "execution_count": null,
   "id": "b1a889cb-4d53-426e-9437-bccd5712bd1b",
   "metadata": {},
   "outputs": [],
   "source": []
  }
 ],
 "metadata": {
  "kernelspec": {
   "display_name": "Python 3 (ipykernel)",
   "language": "python",
   "name": "python3"
  },
  "language_info": {
   "codemirror_mode": {
    "name": "ipython",
    "version": 3
   },
   "file_extension": ".py",
   "mimetype": "text/x-python",
   "name": "python",
   "nbconvert_exporter": "python",
   "pygments_lexer": "ipython3",
   "version": "3.10.12"
  }
 },
 "nbformat": 4,
 "nbformat_minor": 5
}
