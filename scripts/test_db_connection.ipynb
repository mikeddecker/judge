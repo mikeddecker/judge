{
 "cells": [
  {
   "cell_type": "code",
   "execution_count": 1,
   "id": "7566ca65-7f95-4de0-a20d-0a1eb17aef5a",
   "metadata": {},
   "outputs": [
    {
     "name": "stdout",
     "output_type": "stream",
     "text": [
      "Defaulting to user installation because normal site-packages is not writeable\n",
      "Requirement already satisfied: opencv-python in /home/miked/.local/lib/python3.10/site-packages (4.9.0.80)\n",
      "Requirement already satisfied: pandas in /home/miked/.local/lib/python3.10/site-packages (2.2.0)\n",
      "Requirement already satisfied: numpy>=1.19.3 in /home/miked/.local/lib/python3.10/site-packages (from opencv-python) (1.26.4)\n",
      "Requirement already satisfied: python-dateutil>=2.8.2 in /home/miked/.local/lib/python3.10/site-packages (from pandas) (2.8.2)\n",
      "Requirement already satisfied: pytz>=2020.1 in /usr/lib/python3/dist-packages (from pandas) (2022.1)\n",
      "Requirement already satisfied: tzdata>=2022.7 in /home/miked/.local/lib/python3.10/site-packages (from pandas) (2024.1)\n",
      "Requirement already satisfied: six>=1.5 in /usr/lib/python3/dist-packages (from python-dateutil>=2.8.2->pandas) (1.16.0)\n"
     ]
    }
   ],
   "source": [
    "from utils_misc import pickle_load_or_create, pickle_save\n",
    "from utils_cv2 import get_video_length, get_random_frame\n",
    "import numpy as np\n",
    "import pandas as pd\n",
    "import sys"
   ]
  },
  {
   "cell_type": "code",
   "execution_count": 2,
   "id": "0e5542a9-8d5a-42f9-8873-a6cf875df2dd",
   "metadata": {},
   "outputs": [
    {
     "data": {
      "text/plain": [
       "array([203, 205, 207], dtype=uint8)"
      ]
     },
     "execution_count": 2,
     "metadata": {},
     "output_type": "execute_result"
    }
   ],
   "source": [
    "nr, frame = get_random_frame('../videos/20240201_atelier_004.mp4')\n",
    "frame[1155][150]"
   ]
  },
  {
   "cell_type": "code",
   "execution_count": 3,
   "id": "e797b988-438b-404e-a8e7-d7465b739307",
   "metadata": {},
   "outputs": [
    {
     "name": "stdout",
     "output_type": "stream",
     "text": [
      "Defaulting to user installation because normal site-packages is not writeable\n",
      "Requirement already satisfied: sqlalchemy in /home/miked/.local/lib/python3.10/site-packages (2.0.29)\n",
      "Requirement already satisfied: PyMySQL in /home/miked/.local/lib/python3.10/site-packages (1.1.1)\n",
      "Requirement already satisfied: greenlet!=0.4.17 in /home/miked/.local/lib/python3.10/site-packages (from sqlalchemy) (3.0.3)\n",
      "Requirement already satisfied: typing-extensions>=4.6.0 in /home/miked/.local/lib/python3.10/site-packages (from sqlalchemy) (4.9.0)\n"
     ]
    }
   ],
   "source": [
    "from DataRepository import DataRepository"
   ]
  },
  {
   "cell_type": "code",
   "execution_count": 4,
   "id": "6eda1260-42f2-4504-9086-d08cd05c1392",
   "metadata": {},
   "outputs": [
    {
     "name": "stdout",
     "output_type": "stream",
     "text": [
      "connection established\n"
     ]
    }
   ],
   "source": [
    "repo = DataRepository()"
   ]
  },
  {
   "cell_type": "code",
   "execution_count": 5,
   "id": "7224f61f-d74e-4f72-9fe5-be0c561d0af2",
   "metadata": {},
   "outputs": [],
   "source": [
    "repo.update_rectangle(5, 3, 0.4, 0.8, 0.1)"
   ]
  },
  {
   "cell_type": "code",
   "execution_count": 6,
   "id": "c0f886ee-9ddd-4fbd-b91c-fcdb26596cd3",
   "metadata": {},
   "outputs": [
    {
     "data": {
      "text/html": [
       "<div>\n",
       "<style scoped>\n",
       "    .dataframe tbody tr th:only-of-type {\n",
       "        vertical-align: middle;\n",
       "    }\n",
       "\n",
       "    .dataframe tbody tr th {\n",
       "        vertical-align: top;\n",
       "    }\n",
       "\n",
       "    .dataframe thead th {\n",
       "        text-align: right;\n",
       "    }\n",
       "</style>\n",
       "<table border=\"1\" class=\"dataframe\">\n",
       "  <thead>\n",
       "    <tr style=\"text-align: right;\">\n",
       "      <th></th>\n",
       "      <th>videoID</th>\n",
       "      <th>frameNr</th>\n",
       "      <th>label</th>\n",
       "      <th>manual_insert</th>\n",
       "      <th>rect_center_x</th>\n",
       "      <th>rect_center_y</th>\n",
       "      <th>rect_size</th>\n",
       "    </tr>\n",
       "  </thead>\n",
       "  <tbody>\n",
       "  </tbody>\n",
       "</table>\n",
       "</div>"
      ],
      "text/plain": [
       "Empty DataFrame\n",
       "Columns: [videoID, frameNr, label, manual_insert, rect_center_x, rect_center_y, rect_size]\n",
       "Index: []"
      ]
     },
     "execution_count": 6,
     "metadata": {},
     "output_type": "execute_result"
    }
   ],
   "source": [
    "repo.query_framelabels(5)"
   ]
  },
  {
   "cell_type": "code",
   "execution_count": 7,
   "id": "5909ff19-9eda-46ed-b547-638c2ffc3932",
   "metadata": {},
   "outputs": [
    {
     "data": {
      "text/plain": [
       "array([[[200, 200, 200],\n",
       "        [200, 200, 200],\n",
       "        [200, 200, 200],\n",
       "        [200, 200, 200],\n",
       "        [200, 200, 200]],\n",
       "\n",
       "       [[200, 200, 200],\n",
       "        [200, 200, 200],\n",
       "        [200, 200, 200],\n",
       "        [200, 200, 200],\n",
       "        [200, 200, 200]]], dtype=uint8)"
      ]
     },
     "execution_count": 7,
     "metadata": {},
     "output_type": "execute_result"
    }
   ],
   "source": [
    "frame[700:702,500:505] = [200,200,200]\n",
    "frame[700:702,500:505]"
   ]
  },
  {
   "cell_type": "code",
   "execution_count": 8,
   "id": "dc13659a-0699-459b-bf68-4619247eeaf6",
   "metadata": {},
   "outputs": [
    {
     "data": {
      "text/plain": [
       "(1920, 1080, 3)"
      ]
     },
     "execution_count": 8,
     "metadata": {},
     "output_type": "execute_result"
    }
   ],
   "source": [
    "frame.shape"
   ]
  },
  {
   "cell_type": "code",
   "execution_count": null,
   "id": "1baa7d28-7c6d-4ad1-885f-4cb74ab84dc2",
   "metadata": {},
   "outputs": [],
   "source": []
  },
  {
   "cell_type": "code",
   "execution_count": 9,
   "id": "c3dd3b52-c9d8-4d04-a022-e42fa66448eb",
   "metadata": {},
   "outputs": [
    {
     "data": {
      "text/plain": [
       "\u001b[0;31mSignature:\u001b[0m \u001b[0mget_video_length\u001b[0m\u001b[0;34m(\u001b[0m\u001b[0mpath\u001b[0m\u001b[0;34m)\u001b[0m\u001b[0;34m\u001b[0m\u001b[0;34m\u001b[0m\u001b[0m\n",
       "\u001b[0;31mDocstring:\u001b[0m Returns the framelength of the video\n",
       "\u001b[0;31mFile:\u001b[0m      ~/code/judge/scripts/utils_cv2.py\n",
       "\u001b[0;31mType:\u001b[0m      function"
      ]
     },
     "metadata": {},
     "output_type": "display_data"
    }
   ],
   "source": [
    "get_video_length?"
   ]
  },
  {
   "cell_type": "code",
   "execution_count": null,
   "id": "c40ca5f0-a92c-41b5-a866-c856337a2d20",
   "metadata": {},
   "outputs": [],
   "source": []
  },
  {
   "cell_type": "code",
   "execution_count": 10,
   "id": "842dca24-c2a0-4303-88dd-98f5a9ccafc8",
   "metadata": {},
   "outputs": [
    {
     "name": "stdout",
     "output_type": "stream",
     "text": [
      "connection established\n"
     ]
    }
   ],
   "source": [
    "from DataRepository import DataRepository\n",
    "\n",
    "\n",
    "cls = DataRepository()\n"
   ]
  },
  {
   "cell_type": "code",
   "execution_count": 11,
   "id": "6d965d28-7982-45ce-9a7d-1d958eaad068",
   "metadata": {},
   "outputs": [
    {
     "name": "stdout",
     "output_type": "stream",
     "text": [
      "[1 2 3 4 5 6 7 8 9]\n",
      "doing video 1\n",
      "doing video 2\n",
      "doing video 3\n",
      "doing video 4\n",
      "doing video 5\n",
      "doing video 6\n",
      "doing video 7\n",
      "doing video 8\n",
      "doing video 9\n"
     ]
    }
   ],
   "source": [
    "cls.uninserted_borders_to_framelabels()"
   ]
  },
  {
   "cell_type": "code",
   "execution_count": null,
   "id": "44c525f6-846c-4f0d-a086-fa5300d59156",
   "metadata": {},
   "outputs": [],
   "source": []
  },
  {
   "cell_type": "code",
   "execution_count": null,
   "id": "52314ce7-2e86-4c71-bf4e-da2e29cb1a7b",
   "metadata": {},
   "outputs": [],
   "source": []
  },
  {
   "cell_type": "code",
   "execution_count": null,
   "id": "afc667a3-8597-4297-80d3-9956d2a40a71",
   "metadata": {},
   "outputs": [],
   "source": []
  },
  {
   "cell_type": "code",
   "execution_count": null,
   "id": "63918735-3ff2-43cd-9092-577662ea1f7b",
   "metadata": {},
   "outputs": [],
   "source": []
  },
  {
   "cell_type": "code",
   "execution_count": 3,
   "id": "766125c4-541f-465f-ac17-d8f7094ec061",
   "metadata": {},
   "outputs": [
    {
     "data": {
      "text/html": [
       "<div>\n",
       "<style scoped>\n",
       "    .dataframe tbody tr th:only-of-type {\n",
       "        vertical-align: middle;\n",
       "    }\n",
       "\n",
       "    .dataframe tbody tr th {\n",
       "        vertical-align: top;\n",
       "    }\n",
       "\n",
       "    .dataframe thead th {\n",
       "        text-align: right;\n",
       "    }\n",
       "</style>\n",
       "<table border=\"1\" class=\"dataframe\">\n",
       "  <thead>\n",
       "    <tr style=\"text-align: right;\">\n",
       "      <th></th>\n",
       "      <th>videoID</th>\n",
       "      <th>batches_in_video</th>\n",
       "      <th>random_order</th>\n",
       "      <th>total_batches</th>\n",
       "    </tr>\n",
       "  </thead>\n",
       "  <tbody>\n",
       "    <tr>\n",
       "      <th>0</th>\n",
       "      <td>4</td>\n",
       "      <td>19</td>\n",
       "      <td>1</td>\n",
       "      <td>19</td>\n",
       "    </tr>\n",
       "    <tr>\n",
       "      <th>1</th>\n",
       "      <td>3</td>\n",
       "      <td>23</td>\n",
       "      <td>2</td>\n",
       "      <td>42</td>\n",
       "    </tr>\n",
       "    <tr>\n",
       "      <th>2</th>\n",
       "      <td>2</td>\n",
       "      <td>38</td>\n",
       "      <td>3</td>\n",
       "      <td>80</td>\n",
       "    </tr>\n",
       "    <tr>\n",
       "      <th>3</th>\n",
       "      <td>1</td>\n",
       "      <td>24</td>\n",
       "      <td>4</td>\n",
       "      <td>104</td>\n",
       "    </tr>\n",
       "    <tr>\n",
       "      <th>4</th>\n",
       "      <td>6</td>\n",
       "      <td>16</td>\n",
       "      <td>5</td>\n",
       "      <td>120</td>\n",
       "    </tr>\n",
       "  </tbody>\n",
       "</table>\n",
       "</div>"
      ],
      "text/plain": [
       "   videoID  batches_in_video  random_order  total_batches\n",
       "0        4                19             1             19\n",
       "1        3                23             2             42\n",
       "2        2                38             3             80\n",
       "3        1                24             4            104\n",
       "4        6                16             5            120"
      ]
     },
     "execution_count": 3,
     "metadata": {},
     "output_type": "execute_result"
    }
   ],
   "source": [
    "cls.query_framelabels()\n",
    "\n",
    "\n",
    "\n",
    "cls.get_path(2)\n",
    "\n",
    "cls.get_randomized_borderlabels_and_batches_per_video(20)"
   ]
  },
  {
   "cell_type": "code",
   "execution_count": 4,
   "id": "9bde6b61-1274-4ada-81d3-8af3f9bfab31",
   "metadata": {},
   "outputs": [
    {
     "data": {
      "text/html": [
       "<div>\n",
       "<style scoped>\n",
       "    .dataframe tbody tr th:only-of-type {\n",
       "        vertical-align: middle;\n",
       "    }\n",
       "\n",
       "    .dataframe tbody tr th {\n",
       "        vertical-align: top;\n",
       "    }\n",
       "\n",
       "    .dataframe thead th {\n",
       "        text-align: right;\n",
       "    }\n",
       "</style>\n",
       "<table border=\"1\" class=\"dataframe\">\n",
       "  <thead>\n",
       "    <tr style=\"text-align: right;\">\n",
       "      <th></th>\n",
       "      <th>frameNr</th>\n",
       "      <th>label</th>\n",
       "    </tr>\n",
       "  </thead>\n",
       "  <tbody>\n",
       "    <tr>\n",
       "      <th>0</th>\n",
       "      <td>440</td>\n",
       "      <td>1</td>\n",
       "    </tr>\n",
       "    <tr>\n",
       "      <th>1</th>\n",
       "      <td>441</td>\n",
       "      <td>2</td>\n",
       "    </tr>\n",
       "    <tr>\n",
       "      <th>2</th>\n",
       "      <td>442</td>\n",
       "      <td>2</td>\n",
       "    </tr>\n",
       "    <tr>\n",
       "      <th>3</th>\n",
       "      <td>443</td>\n",
       "      <td>2</td>\n",
       "    </tr>\n",
       "  </tbody>\n",
       "</table>\n",
       "</div>"
      ],
      "text/plain": [
       "   frameNr  label\n",
       "0      440      1\n",
       "1      441      2\n",
       "2      442      2\n",
       "3      443      2"
      ]
     },
     "execution_count": 4,
     "metadata": {},
     "output_type": "execute_result"
    }
   ],
   "source": [
    "cls.get_borderlabels_batch(videoID=3, batch_nr=22, batch_size=20)"
   ]
  },
  {
   "cell_type": "code",
   "execution_count": null,
   "id": "909fe646-ddd0-461b-8645-7f84412d61ba",
   "metadata": {},
   "outputs": [],
   "source": []
  },
  {
   "cell_type": "code",
   "execution_count": 5,
   "id": "c74714f6-3b26-4677-b6e8-116874508ae6",
   "metadata": {},
   "outputs": [],
   "source": [
    "from utils_cv2 import get_frames, get_video_length"
   ]
  },
  {
   "cell_type": "code",
   "execution_count": 6,
   "id": "ab9b7640-6fd0-4593-a8bf-8ed16735b89c",
   "metadata": {},
   "outputs": [],
   "source": [
    "path = '../videos/20240201_atelier_003.mp4'"
   ]
  },
  {
   "cell_type": "code",
   "execution_count": 7,
   "id": "c3ca5039-b565-4980-a8f7-cde167d2057b",
   "metadata": {},
   "outputs": [
    {
     "data": {
      "text/plain": [
       "1489"
      ]
     },
     "execution_count": 7,
     "metadata": {},
     "output_type": "execute_result"
    }
   ],
   "source": [
    "get_video_length(path)"
   ]
  },
  {
   "cell_type": "code",
   "execution_count": 8,
   "id": "509a3f0c-7d0a-4d58-970d-b56b5d8bc48b",
   "metadata": {},
   "outputs": [
    {
     "data": {
      "text/plain": [
       "(51, 150, 150, 3)"
      ]
     },
     "execution_count": 8,
     "metadata": {},
     "output_type": "execute_result"
    }
   ],
   "source": [
    "frames = get_frames('../videos/20240201_atelier_003.mp4', 1450, 1500, (150,150), rgb=True)\n",
    "frames.shape"
   ]
  },
  {
   "cell_type": "code",
   "execution_count": 9,
   "id": "24cd9036-7f1d-4893-bd57-1a73a3ff1a4a",
   "metadata": {},
   "outputs": [
    {
     "data": {
      "text/plain": [
       "(array([[0., 0., 0.],\n",
       "        [0., 0., 0.],\n",
       "        [0., 0., 0.],\n",
       "        [0., 0., 0.],\n",
       "        [0., 0., 0.],\n",
       "        [0., 0., 0.],\n",
       "        [0., 0., 0.],\n",
       "        [0., 0., 0.],\n",
       "        [0., 0., 0.],\n",
       "        [0., 0., 0.],\n",
       "        [0., 0., 0.],\n",
       "        [0., 0., 0.],\n",
       "        [0., 0., 0.],\n",
       "        [0., 0., 0.],\n",
       "        [0., 0., 0.],\n",
       "        [0., 0., 0.],\n",
       "        [0., 0., 0.],\n",
       "        [0., 0., 0.],\n",
       "        [0., 0., 0.],\n",
       "        [0., 0., 0.],\n",
       "        [0., 0., 0.],\n",
       "        [0., 0., 0.],\n",
       "        [0., 0., 0.],\n",
       "        [0., 0., 0.],\n",
       "        [0., 0., 0.],\n",
       "        [0., 0., 0.],\n",
       "        [0., 0., 0.],\n",
       "        [0., 0., 0.],\n",
       "        [0., 0., 0.],\n",
       "        [0., 0., 0.],\n",
       "        [0., 0., 0.],\n",
       "        [0., 0., 0.],\n",
       "        [0., 0., 0.],\n",
       "        [0., 0., 0.],\n",
       "        [0., 0., 0.],\n",
       "        [0., 0., 0.],\n",
       "        [0., 0., 0.],\n",
       "        [0., 0., 0.],\n",
       "        [0., 0., 0.],\n",
       "        [0., 0., 0.],\n",
       "        [0., 0., 0.],\n",
       "        [0., 0., 0.],\n",
       "        [0., 0., 0.],\n",
       "        [0., 0., 0.],\n",
       "        [0., 0., 0.],\n",
       "        [0., 0., 0.],\n",
       "        [0., 0., 0.],\n",
       "        [0., 0., 0.],\n",
       "        [0., 0., 0.],\n",
       "        [0., 0., 0.],\n",
       "        [0., 0., 0.],\n",
       "        [0., 0., 0.],\n",
       "        [0., 0., 0.],\n",
       "        [0., 0., 0.],\n",
       "        [0., 0., 0.],\n",
       "        [0., 0., 0.],\n",
       "        [0., 0., 0.],\n",
       "        [0., 0., 0.],\n",
       "        [0., 0., 0.],\n",
       "        [0., 0., 0.],\n",
       "        [0., 0., 0.],\n",
       "        [0., 0., 0.],\n",
       "        [0., 0., 0.],\n",
       "        [0., 0., 0.],\n",
       "        [0., 0., 0.],\n",
       "        [0., 0., 0.],\n",
       "        [0., 0., 0.],\n",
       "        [0., 0., 0.],\n",
       "        [0., 0., 0.],\n",
       "        [0., 0., 0.],\n",
       "        [0., 0., 0.],\n",
       "        [0., 0., 0.],\n",
       "        [0., 0., 0.],\n",
       "        [0., 0., 0.],\n",
       "        [0., 0., 0.],\n",
       "        [0., 0., 0.],\n",
       "        [0., 0., 0.],\n",
       "        [0., 0., 0.],\n",
       "        [0., 0., 0.],\n",
       "        [0., 0., 0.],\n",
       "        [0., 0., 0.],\n",
       "        [0., 0., 0.],\n",
       "        [0., 0., 0.],\n",
       "        [0., 0., 0.],\n",
       "        [0., 0., 0.],\n",
       "        [0., 0., 0.],\n",
       "        [0., 0., 0.],\n",
       "        [0., 0., 0.],\n",
       "        [0., 0., 0.],\n",
       "        [0., 0., 0.],\n",
       "        [0., 0., 0.],\n",
       "        [0., 0., 0.],\n",
       "        [0., 0., 0.],\n",
       "        [0., 0., 0.],\n",
       "        [0., 0., 0.],\n",
       "        [0., 0., 0.],\n",
       "        [0., 0., 0.],\n",
       "        [0., 0., 0.],\n",
       "        [0., 0., 0.],\n",
       "        [0., 0., 0.],\n",
       "        [0., 0., 0.],\n",
       "        [0., 0., 0.],\n",
       "        [0., 0., 0.],\n",
       "        [0., 0., 0.],\n",
       "        [0., 0., 0.],\n",
       "        [0., 0., 0.],\n",
       "        [0., 0., 0.],\n",
       "        [0., 0., 0.],\n",
       "        [0., 0., 0.],\n",
       "        [0., 0., 0.],\n",
       "        [0., 0., 0.],\n",
       "        [0., 0., 0.],\n",
       "        [0., 0., 0.],\n",
       "        [0., 0., 0.],\n",
       "        [0., 0., 0.],\n",
       "        [0., 0., 0.],\n",
       "        [0., 0., 0.],\n",
       "        [0., 0., 0.],\n",
       "        [0., 0., 0.],\n",
       "        [0., 0., 0.],\n",
       "        [0., 0., 0.],\n",
       "        [0., 0., 0.],\n",
       "        [0., 0., 0.],\n",
       "        [0., 0., 0.],\n",
       "        [0., 0., 0.],\n",
       "        [0., 0., 0.],\n",
       "        [0., 0., 0.],\n",
       "        [0., 0., 0.],\n",
       "        [0., 0., 0.],\n",
       "        [0., 0., 0.],\n",
       "        [0., 0., 0.],\n",
       "        [0., 0., 0.],\n",
       "        [0., 0., 0.],\n",
       "        [0., 0., 0.],\n",
       "        [0., 0., 0.],\n",
       "        [0., 0., 0.],\n",
       "        [0., 0., 0.],\n",
       "        [0., 0., 0.],\n",
       "        [0., 0., 0.],\n",
       "        [0., 0., 0.],\n",
       "        [0., 0., 0.],\n",
       "        [0., 0., 0.],\n",
       "        [0., 0., 0.],\n",
       "        [0., 0., 0.],\n",
       "        [0., 0., 0.],\n",
       "        [0., 0., 0.],\n",
       "        [0., 0., 0.],\n",
       "        [0., 0., 0.],\n",
       "        [0., 0., 0.],\n",
       "        [0., 0., 0.]]),\n",
       " array([[0.32156863, 0.33333333, 0.33333333],\n",
       "        [0.32156863, 0.33333333, 0.33333333],\n",
       "        [0.3254902 , 0.3372549 , 0.3372549 ],\n",
       "        [0.32156863, 0.33333333, 0.33333333],\n",
       "        [0.32156863, 0.33333333, 0.33333333],\n",
       "        [0.32156863, 0.33333333, 0.33333333],\n",
       "        [0.31372549, 0.33333333, 0.33333333],\n",
       "        [0.31372549, 0.33333333, 0.33333333],\n",
       "        [0.32156863, 0.33333333, 0.33333333],\n",
       "        [0.3254902 , 0.3372549 , 0.3372549 ],\n",
       "        [0.3254902 , 0.3372549 , 0.3372549 ],\n",
       "        [0.3372549 , 0.34509804, 0.34509804],\n",
       "        [0.33333333, 0.34509804, 0.34509804],\n",
       "        [0.3372549 , 0.34901961, 0.34901961],\n",
       "        [0.3372549 , 0.34901961, 0.34901961],\n",
       "        [0.32941176, 0.34117647, 0.34117647],\n",
       "        [0.32156863, 0.33333333, 0.33333333],\n",
       "        [0.32156863, 0.33333333, 0.33333333],\n",
       "        [0.3254902 , 0.3372549 , 0.3372549 ],\n",
       "        [0.3254902 , 0.3372549 , 0.3372549 ],\n",
       "        [0.32941176, 0.34117647, 0.34117647],\n",
       "        [0.32941176, 0.34117647, 0.34117647],\n",
       "        [0.3372549 , 0.34901961, 0.34901961],\n",
       "        [0.34117647, 0.35294118, 0.35294118],\n",
       "        [0.35686275, 0.36862745, 0.36862745],\n",
       "        [0.36862745, 0.38039216, 0.38039216],\n",
       "        [0.40784314, 0.41568627, 0.41568627],\n",
       "        [0.39607843, 0.40784314, 0.40784314],\n",
       "        [0.4       , 0.40784314, 0.40784314],\n",
       "        [0.38431373, 0.39607843, 0.39607843],\n",
       "        [0.34509804, 0.35686275, 0.35686275],\n",
       "        [0.32941176, 0.34117647, 0.34117647],\n",
       "        [0.3254902 , 0.3372549 , 0.3372549 ],\n",
       "        [0.3254902 , 0.3372549 , 0.3372549 ],\n",
       "        [0.32156863, 0.33333333, 0.33333333],\n",
       "        [0.30980392, 0.32156863, 0.32156863],\n",
       "        [0.32156863, 0.33333333, 0.33333333],\n",
       "        [0.32156863, 0.33333333, 0.33333333],\n",
       "        [0.30196078, 0.31372549, 0.31372549],\n",
       "        [0.29411765, 0.30588235, 0.30588235],\n",
       "        [0.29411765, 0.30588235, 0.30588235],\n",
       "        [0.28627451, 0.29803922, 0.29803922],\n",
       "        [0.29411765, 0.30588235, 0.30588235],\n",
       "        [0.29411765, 0.30588235, 0.30588235],\n",
       "        [0.29803922, 0.30980392, 0.30980392],\n",
       "        [0.29803922, 0.30980392, 0.30980392],\n",
       "        [0.29019608, 0.30196078, 0.30196078],\n",
       "        [0.29411765, 0.30588235, 0.30588235],\n",
       "        [0.29411765, 0.30588235, 0.30588235],\n",
       "        [0.29411765, 0.30588235, 0.30588235],\n",
       "        [0.29411765, 0.30588235, 0.30588235],\n",
       "        [0.29803922, 0.30980392, 0.30980392],\n",
       "        [0.29803922, 0.31372549, 0.31372549],\n",
       "        [0.29411765, 0.30588235, 0.30588235],\n",
       "        [0.29803922, 0.30980392, 0.30980392],\n",
       "        [0.29411765, 0.30588235, 0.30588235],\n",
       "        [0.29803922, 0.30980392, 0.30980392],\n",
       "        [0.27843137, 0.29019608, 0.29019608],\n",
       "        [0.27058824, 0.28235294, 0.28235294],\n",
       "        [0.28235294, 0.29411765, 0.29411765],\n",
       "        [0.2745098 , 0.28627451, 0.28627451],\n",
       "        [0.26666667, 0.27843137, 0.27843137],\n",
       "        [0.27058824, 0.28235294, 0.28235294],\n",
       "        [0.2745098 , 0.28627451, 0.28627451],\n",
       "        [0.27843137, 0.29019608, 0.29019608],\n",
       "        [0.28235294, 0.29411765, 0.29411765],\n",
       "        [0.29411765, 0.30588235, 0.30588235],\n",
       "        [0.28627451, 0.29803922, 0.29803922],\n",
       "        [0.30196078, 0.31372549, 0.31372549],\n",
       "        [0.29411765, 0.30588235, 0.30588235],\n",
       "        [0.29411765, 0.30588235, 0.30588235],\n",
       "        [0.30196078, 0.31372549, 0.31372549],\n",
       "        [0.29411765, 0.30588235, 0.30588235],\n",
       "        [0.29411765, 0.30588235, 0.30588235],\n",
       "        [0.29411765, 0.30588235, 0.30588235],\n",
       "        [0.29411765, 0.30588235, 0.30588235],\n",
       "        [0.29411765, 0.30588235, 0.30588235],\n",
       "        [0.29411765, 0.30196078, 0.30980392],\n",
       "        [0.28627451, 0.29803922, 0.29803922],\n",
       "        [0.28235294, 0.29411765, 0.29411765],\n",
       "        [0.28235294, 0.29411765, 0.29411765],\n",
       "        [0.29019608, 0.30196078, 0.30196078],\n",
       "        [0.29411765, 0.30588235, 0.30588235],\n",
       "        [0.29411765, 0.30588235, 0.30588235],\n",
       "        [0.29803922, 0.30980392, 0.30980392],\n",
       "        [0.30196078, 0.31372549, 0.31372549],\n",
       "        [0.29803922, 0.30588235, 0.30588235],\n",
       "        [0.29803922, 0.30980392, 0.30980392],\n",
       "        [0.29411765, 0.30588235, 0.30588235],\n",
       "        [0.31372549, 0.3254902 , 0.3254902 ],\n",
       "        [0.31372549, 0.3254902 , 0.3254902 ],\n",
       "        [0.30980392, 0.32156863, 0.32156863],\n",
       "        [0.27058824, 0.28235294, 0.28235294],\n",
       "        [0.14509804, 0.15686275, 0.15686275],\n",
       "        [0.09803922, 0.11764706, 0.11764706],\n",
       "        [0.08627451, 0.10588235, 0.10588235],\n",
       "        [0.12941176, 0.14901961, 0.14901961],\n",
       "        [0.09411765, 0.11372549, 0.11372549],\n",
       "        [0.09803922, 0.09803922, 0.09803922],\n",
       "        [0.00392157, 0.00392157, 0.00392157],\n",
       "        [0.32156863, 0.33333333, 0.33333333],\n",
       "        [0.27843137, 0.29019608, 0.29019608],\n",
       "        [0.26666667, 0.27843137, 0.27843137],\n",
       "        [0.28235294, 0.29411765, 0.29411765],\n",
       "        [0.28235294, 0.29411765, 0.29411765],\n",
       "        [0.26666667, 0.27843137, 0.27843137],\n",
       "        [0.30196078, 0.30196078, 0.30196078],\n",
       "        [0.30980392, 0.30980392, 0.30980392],\n",
       "        [0.24705882, 0.25882353, 0.25882353],\n",
       "        [0.25098039, 0.2627451 , 0.2627451 ],\n",
       "        [0.25490196, 0.26666667, 0.26666667],\n",
       "        [0.24313725, 0.25490196, 0.25490196],\n",
       "        [0.24705882, 0.25882353, 0.25882353],\n",
       "        [0.25490196, 0.26666667, 0.26666667],\n",
       "        [0.26666667, 0.2745098 , 0.2745098 ],\n",
       "        [0.25882353, 0.27058824, 0.27058824],\n",
       "        [0.26666667, 0.27843137, 0.27843137],\n",
       "        [0.27843137, 0.29019608, 0.29019608],\n",
       "        [0.27843137, 0.29019608, 0.29019608],\n",
       "        [0.28235294, 0.28235294, 0.28235294],\n",
       "        [0.27843137, 0.27843137, 0.27843137],\n",
       "        [0.2745098 , 0.2745098 , 0.2745098 ],\n",
       "        [0.25882353, 0.27058824, 0.27058824],\n",
       "        [0.27058824, 0.28235294, 0.28235294],\n",
       "        [0.27843137, 0.29019608, 0.29019608],\n",
       "        [0.25882353, 0.27058824, 0.27058824],\n",
       "        [0.26666667, 0.26666667, 0.26666667],\n",
       "        [0.26666667, 0.26666667, 0.26666667],\n",
       "        [0.25098039, 0.24705882, 0.25490196],\n",
       "        [0.25490196, 0.25490196, 0.25490196],\n",
       "        [0.24313725, 0.24313725, 0.24313725],\n",
       "        [0.23921569, 0.23921569, 0.23921569],\n",
       "        [0.25098039, 0.25098039, 0.25098039],\n",
       "        [0.25098039, 0.24705882, 0.25490196],\n",
       "        [0.19215686, 0.2       , 0.20392157],\n",
       "        [0.23529412, 0.25098039, 0.25098039],\n",
       "        [0.25882353, 0.27058824, 0.27058824],\n",
       "        [0.27058824, 0.28235294, 0.28235294],\n",
       "        [0.26666667, 0.27843137, 0.27843137],\n",
       "        [0.27843137, 0.29019608, 0.29019608],\n",
       "        [0.2745098 , 0.28627451, 0.28627451],\n",
       "        [0.27843137, 0.29019608, 0.29019608],\n",
       "        [0.2745098 , 0.28627451, 0.28627451],\n",
       "        [0.2745098 , 0.28627451, 0.28627451],\n",
       "        [0.27843137, 0.29019608, 0.29019608],\n",
       "        [0.27843137, 0.29019608, 0.29019608],\n",
       "        [0.27843137, 0.29019608, 0.29019608],\n",
       "        [0.28235294, 0.29411765, 0.29411765],\n",
       "        [0.28235294, 0.28235294, 0.28235294],\n",
       "        [0.29411765, 0.29411765, 0.29411765]]))"
      ]
     },
     "execution_count": 9,
     "metadata": {},
     "output_type": "execute_result"
    }
   ],
   "source": [
    "frames[50][0], frames[22][0]"
   ]
  },
  {
   "cell_type": "code",
   "execution_count": null,
   "id": "f63909ef-a4df-41d8-812e-8c5389c06bb3",
   "metadata": {},
   "outputs": [],
   "source": []
  },
  {
   "cell_type": "code",
   "execution_count": 10,
   "id": "b8a423aa-9925-4724-8501-cd81b92ae0a8",
   "metadata": {},
   "outputs": [
    {
     "name": "stderr",
     "output_type": "stream",
     "text": [
      "2024-06-24 16:56:35.478732: I tensorflow/core/util/port.cc:113] oneDNN custom operations are on. You may see slightly different numerical results due to floating-point round-off errors from different computation orders. To turn them off, set the environment variable `TF_ENABLE_ONEDNN_OPTS=0`.\n",
      "2024-06-24 16:56:35.517491: I tensorflow/core/platform/cpu_feature_guard.cc:210] This TensorFlow binary is optimized to use available CPU instructions in performance-critical operations.\n",
      "To enable the following instructions: AVX2 AVX512F AVX512_VNNI FMA, in other operations, rebuild TensorFlow with the appropriate compiler flags.\n",
      "2024-06-24 16:56:36.237032: W tensorflow/compiler/tf2tensorrt/utils/py_utils.cc:38] TF-TRT Warning: Could not find TensorRT\n"
     ]
    },
    {
     "name": "stdout",
     "output_type": "stream",
     "text": [
      "connection established\n",
      "DataGeneratorSkillBorders init done\n",
      "on_epoch_end_called\n",
      "   videoID  batches_in_video  random_order  total_batches\n",
      "0        6                16             1             16\n",
      "1        1                24             2             40\n",
      "2        4                19             3             59\n",
      "3        2                38             4             97\n",
      "4        3                23             5            120\n"
     ]
    }
   ],
   "source": [
    "from DataGeneratorBordersDB import DataGeneratorSkillBorders\n",
    "\n",
    "gen = DataGeneratorSkillBorders(train=True, batch_size=20, dim=(128, 128), n_channels=3,\n",
    "                 n_classes=5, shuffle=True, time_length=16)"
   ]
  },
  {
   "cell_type": "code",
   "execution_count": 11,
   "id": "84424297-5369-4970-9aa3-1dac479ef303",
   "metadata": {},
   "outputs": [
    {
     "data": {
      "text/plain": [
       "<DataGeneratorBordersDB.DataGeneratorSkillBorders at 0x7d1628544e50>"
      ]
     },
     "execution_count": 11,
     "metadata": {},
     "output_type": "execute_result"
    }
   ],
   "source": [
    "gen"
   ]
  },
  {
   "cell_type": "code",
   "execution_count": 12,
   "id": "c1095f68-374d-427c-bf14-62f54706c78f",
   "metadata": {},
   "outputs": [
    {
     "data": {
      "text/html": [
       "<div>\n",
       "<style scoped>\n",
       "    .dataframe tbody tr th:only-of-type {\n",
       "        vertical-align: middle;\n",
       "    }\n",
       "\n",
       "    .dataframe tbody tr th {\n",
       "        vertical-align: top;\n",
       "    }\n",
       "\n",
       "    .dataframe thead th {\n",
       "        text-align: right;\n",
       "    }\n",
       "</style>\n",
       "<table border=\"1\" class=\"dataframe\">\n",
       "  <thead>\n",
       "    <tr style=\"text-align: right;\">\n",
       "      <th></th>\n",
       "      <th>videoID</th>\n",
       "      <th>batches_in_video</th>\n",
       "      <th>random_order</th>\n",
       "      <th>total_batches</th>\n",
       "    </tr>\n",
       "  </thead>\n",
       "  <tbody>\n",
       "    <tr>\n",
       "      <th>0</th>\n",
       "      <td>6</td>\n",
       "      <td>16</td>\n",
       "      <td>1</td>\n",
       "      <td>16</td>\n",
       "    </tr>\n",
       "    <tr>\n",
       "      <th>1</th>\n",
       "      <td>1</td>\n",
       "      <td>24</td>\n",
       "      <td>2</td>\n",
       "      <td>40</td>\n",
       "    </tr>\n",
       "    <tr>\n",
       "      <th>2</th>\n",
       "      <td>4</td>\n",
       "      <td>19</td>\n",
       "      <td>3</td>\n",
       "      <td>59</td>\n",
       "    </tr>\n",
       "    <tr>\n",
       "      <th>3</th>\n",
       "      <td>2</td>\n",
       "      <td>38</td>\n",
       "      <td>4</td>\n",
       "      <td>97</td>\n",
       "    </tr>\n",
       "    <tr>\n",
       "      <th>4</th>\n",
       "      <td>3</td>\n",
       "      <td>23</td>\n",
       "      <td>5</td>\n",
       "      <td>120</td>\n",
       "    </tr>\n",
       "  </tbody>\n",
       "</table>\n",
       "</div>"
      ],
      "text/plain": [
       "   videoID  batches_in_video  random_order  total_batches\n",
       "0        6                16             1             16\n",
       "1        1                24             2             40\n",
       "2        4                19             3             59\n",
       "3        2                38             4             97\n",
       "4        3                23             5            120"
      ]
     },
     "execution_count": 12,
     "metadata": {},
     "output_type": "execute_result"
    }
   ],
   "source": [
    "gen.batch_order"
   ]
  },
  {
   "cell_type": "code",
   "execution_count": 13,
   "id": "33e0546e-8d0f-4056-9385-83caf9f64848",
   "metadata": {},
   "outputs": [
    {
     "name": "stdout",
     "output_type": "stream",
     "text": [
      "14\n",
      " getitem, batch_nr 14 train is: True\n",
      "(1, 20, 128, 128, 3) (1, 20, 1)\n",
      "15\n",
      " getitem, batch_nr 15 train is: True\n",
      "fill_batch_size_dimension_called\n",
      "(1, 20, 128, 128, 3) (1, 20, 1)\n",
      "16\n",
      " getitem, batch_nr 16 train is: True\n",
      "(1, 20, 128, 128, 3) (1, 20, 1)\n",
      "17\n",
      " getitem, batch_nr 17 train is: True\n",
      "(1, 20, 128, 128, 3) (1, 20, 1)\n",
      "18\n",
      " getitem, batch_nr 18 train is: True\n",
      "(1, 20, 128, 128, 3) (1, 20, 1)\n",
      "19\n",
      " getitem, batch_nr 19 train is: True\n",
      "(1, 20, 128, 128, 3) (1, 20, 1)\n",
      "20\n",
      " getitem, batch_nr 20 train is: True\n",
      "(1, 20, 128, 128, 3) (1, 20, 1)\n",
      "21\n",
      " getitem, batch_nr 21 train is: True\n",
      "(1, 20, 128, 128, 3) (1, 20, 1)\n",
      "22\n",
      " getitem, batch_nr 22 train is: True\n",
      "(1, 20, 128, 128, 3) (1, 20, 1)\n",
      "23\n",
      " getitem, batch_nr 23 train is: True\n",
      "(1, 20, 128, 128, 3) (1, 20, 1)\n",
      "24\n",
      " getitem, batch_nr 24 train is: True\n",
      "(1, 20, 128, 128, 3) (1, 20, 1)\n",
      "25\n",
      " getitem, batch_nr 25 train is: True\n",
      "(1, 20, 128, 128, 3) (1, 20, 1)\n",
      "26\n",
      " getitem, batch_nr 26 train is: True\n",
      "(1, 20, 128, 128, 3) (1, 20, 1)\n",
      "27\n",
      " getitem, batch_nr 27 train is: True\n",
      "(1, 20, 128, 128, 3) (1, 20, 1)\n",
      "28\n",
      " getitem, batch_nr 28 train is: True\n",
      "(1, 20, 128, 128, 3) (1, 20, 1)\n",
      "29\n",
      " getitem, batch_nr 29 train is: True\n",
      "(1, 20, 128, 128, 3) (1, 20, 1)\n",
      "30\n",
      " getitem, batch_nr 30 train is: True\n",
      "(1, 20, 128, 128, 3) (1, 20, 1)\n",
      "31\n",
      " getitem, batch_nr 31 train is: True\n",
      "(1, 20, 128, 128, 3) (1, 20, 1)\n",
      "32\n",
      " getitem, batch_nr 32 train is: True\n",
      "(1, 20, 128, 128, 3) (1, 20, 1)\n",
      "33\n",
      " getitem, batch_nr 33 train is: True\n",
      "(1, 20, 128, 128, 3) (1, 20, 1)\n",
      "34\n",
      " getitem, batch_nr 34 train is: True\n",
      "(1, 20, 128, 128, 3) (1, 20, 1)\n",
      "35\n",
      " getitem, batch_nr 35 train is: True\n",
      "(1, 20, 128, 128, 3) (1, 20, 1)\n",
      "36\n",
      " getitem, batch_nr 36 train is: True\n",
      "(1, 20, 128, 128, 3) (1, 20, 1)\n",
      "37\n",
      " getitem, batch_nr 37 train is: True\n",
      "(1, 20, 128, 128, 3) (1, 20, 1)\n",
      "38\n",
      " getitem, batch_nr 38 train is: True\n",
      "(1, 20, 128, 128, 3) (1, 20, 1)\n",
      "39\n",
      " getitem, batch_nr 39 train is: True\n",
      "(1, 20, 128, 128, 3) (1, 20, 1)\n",
      "CPU times: user 41.7 s, sys: 451 ms, total: 42.1 s\n",
      "Wall time: 10.6 s\n"
     ]
    }
   ],
   "source": [
    "%%time\n",
    "for i in range(14,40):\n",
    "    print(i)\n",
    "    X, y = gen.__getitem__(i)\n",
    "    print(X.shape, y.shape)"
   ]
  },
  {
   "cell_type": "code",
   "execution_count": 14,
   "id": "248bbded-e574-4d62-b654-bae47c339e0f",
   "metadata": {},
   "outputs": [
    {
     "name": "stdout",
     "output_type": "stream",
     "text": [
      " getitem, batch_nr 18 train is: True\n"
     ]
    }
   ],
   "source": [
    "X, y = gen.__getitem__(18)"
   ]
  },
  {
   "cell_type": "code",
   "execution_count": 15,
   "id": "5b9d4e33-e4cc-434d-8d52-51c0b0a47263",
   "metadata": {},
   "outputs": [
    {
     "data": {
      "text/plain": [
       "(1, 20, 128, 128, 3)"
      ]
     },
     "execution_count": 15,
     "metadata": {},
     "output_type": "execute_result"
    }
   ],
   "source": [
    "X.shape"
   ]
  },
  {
   "cell_type": "code",
   "execution_count": 16,
   "id": "3d6d5c2a-320c-4c8f-8b1f-a1dfe71c13b1",
   "metadata": {},
   "outputs": [
    {
     "data": {
      "text/plain": [
       "(1, 20, 1)"
      ]
     },
     "execution_count": 16,
     "metadata": {},
     "output_type": "execute_result"
    }
   ],
   "source": [
    "y.shape"
   ]
  },
  {
   "cell_type": "code",
   "execution_count": 17,
   "id": "109e5ebd-e823-488a-81f1-4855ce68139c",
   "metadata": {},
   "outputs": [
    {
     "data": {
      "text/plain": [
       "array([[[3],\n",
       "        [3],\n",
       "        [3],\n",
       "        [3],\n",
       "        [3],\n",
       "        [3],\n",
       "        [3],\n",
       "        [3],\n",
       "        [3],\n",
       "        [3],\n",
       "        [3],\n",
       "        [3],\n",
       "        [3],\n",
       "        [3],\n",
       "        [3],\n",
       "        [3],\n",
       "        [0],\n",
       "        [0],\n",
       "        [0],\n",
       "        [0]]])"
      ]
     },
     "execution_count": 17,
     "metadata": {},
     "output_type": "execute_result"
    }
   ],
   "source": [
    "y"
   ]
  },
  {
   "cell_type": "code",
   "execution_count": 18,
   "id": "c84cec66-c55b-43d1-aaac-5e5165989a5a",
   "metadata": {},
   "outputs": [
    {
     "data": {
      "text/plain": [
       "149"
      ]
     },
     "execution_count": 18,
     "metadata": {},
     "output_type": "execute_result"
    }
   ],
   "source": [
    "cls.get_randomized_borderlabels_and_batches_per_video().iloc[-1]['total_batches']"
   ]
  },
  {
   "cell_type": "code",
   "execution_count": 19,
   "id": "7a485f67-1eb0-4c30-b5fa-1478ba7beb89",
   "metadata": {},
   "outputs": [
    {
     "data": {
      "text/html": [
       "<div>\n",
       "<style scoped>\n",
       "    .dataframe tbody tr th:only-of-type {\n",
       "        vertical-align: middle;\n",
       "    }\n",
       "\n",
       "    .dataframe tbody tr th {\n",
       "        vertical-align: top;\n",
       "    }\n",
       "\n",
       "    .dataframe thead th {\n",
       "        text-align: right;\n",
       "    }\n",
       "</style>\n",
       "<table border=\"1\" class=\"dataframe\">\n",
       "  <thead>\n",
       "    <tr style=\"text-align: right;\">\n",
       "      <th></th>\n",
       "      <th>videoID</th>\n",
       "      <th>batches_in_video</th>\n",
       "      <th>random_order</th>\n",
       "      <th>total_batches</th>\n",
       "    </tr>\n",
       "  </thead>\n",
       "  <tbody>\n",
       "    <tr>\n",
       "      <th>0</th>\n",
       "      <td>3</td>\n",
       "      <td>23</td>\n",
       "      <td>1</td>\n",
       "      <td>23</td>\n",
       "    </tr>\n",
       "    <tr>\n",
       "      <th>1</th>\n",
       "      <td>6</td>\n",
       "      <td>16</td>\n",
       "      <td>2</td>\n",
       "      <td>39</td>\n",
       "    </tr>\n",
       "    <tr>\n",
       "      <th>2</th>\n",
       "      <td>2</td>\n",
       "      <td>38</td>\n",
       "      <td>3</td>\n",
       "      <td>77</td>\n",
       "    </tr>\n",
       "    <tr>\n",
       "      <th>3</th>\n",
       "      <td>1</td>\n",
       "      <td>24</td>\n",
       "      <td>4</td>\n",
       "      <td>101</td>\n",
       "    </tr>\n",
       "    <tr>\n",
       "      <th>4</th>\n",
       "      <td>4</td>\n",
       "      <td>19</td>\n",
       "      <td>5</td>\n",
       "      <td>120</td>\n",
       "    </tr>\n",
       "  </tbody>\n",
       "</table>\n",
       "</div>"
      ],
      "text/plain": [
       "   videoID  batches_in_video  random_order  total_batches\n",
       "0        3                23             1             23\n",
       "1        6                16             2             39\n",
       "2        2                38             3             77\n",
       "3        1                24             4            101\n",
       "4        4                19             5            120"
      ]
     },
     "execution_count": 19,
     "metadata": {},
     "output_type": "execute_result"
    }
   ],
   "source": [
    "cls.get_randomized_borderlabels_and_batches_per_video(batch_size=20, training=True)"
   ]
  },
  {
   "cell_type": "code",
   "execution_count": 20,
   "id": "7da7e723-bc69-460d-a0ad-2a2ccbb74d20",
   "metadata": {},
   "outputs": [
    {
     "name": "stdout",
     "output_type": "stream",
     "text": [
      "len called len is: 120\n"
     ]
    },
    {
     "data": {
      "text/plain": [
       "120"
      ]
     },
     "execution_count": 20,
     "metadata": {},
     "output_type": "execute_result"
    }
   ],
   "source": [
    "len(gen)"
   ]
  },
  {
   "cell_type": "code",
   "execution_count": 21,
   "id": "65a0f950-9c9c-4344-bf46-e1f157482cfb",
   "metadata": {},
   "outputs": [
    {
     "name": "stdout",
     "output_type": "stream",
     "text": [
      "len called len is: 120\n"
     ]
    },
    {
     "data": {
      "text/plain": [
       "120"
      ]
     },
     "execution_count": 21,
     "metadata": {},
     "output_type": "execute_result"
    }
   ],
   "source": [
    "len(gen)"
   ]
  },
  {
   "cell_type": "code",
   "execution_count": null,
   "id": "0464a9f5-685a-4906-bbce-aa90ba397f30",
   "metadata": {},
   "outputs": [],
   "source": []
  },
  {
   "cell_type": "code",
   "execution_count": 22,
   "id": "351e7941-c2db-4b11-89d8-54045a4e756b",
   "metadata": {},
   "outputs": [
    {
     "data": {
      "text/html": [
       "<div>\n",
       "<style scoped>\n",
       "    .dataframe tbody tr th:only-of-type {\n",
       "        vertical-align: middle;\n",
       "    }\n",
       "\n",
       "    .dataframe tbody tr th {\n",
       "        vertical-align: top;\n",
       "    }\n",
       "\n",
       "    .dataframe thead th {\n",
       "        text-align: right;\n",
       "    }\n",
       "</style>\n",
       "<table border=\"1\" class=\"dataframe\">\n",
       "  <thead>\n",
       "    <tr style=\"text-align: right;\">\n",
       "      <th></th>\n",
       "      <th>frameNr</th>\n",
       "      <th>label</th>\n",
       "    </tr>\n",
       "  </thead>\n",
       "  <tbody>\n",
       "    <tr>\n",
       "      <th>0</th>\n",
       "      <td>460</td>\n",
       "      <td>0</td>\n",
       "    </tr>\n",
       "    <tr>\n",
       "      <th>1</th>\n",
       "      <td>461</td>\n",
       "      <td>0</td>\n",
       "    </tr>\n",
       "    <tr>\n",
       "      <th>2</th>\n",
       "      <td>462</td>\n",
       "      <td>0</td>\n",
       "    </tr>\n",
       "    <tr>\n",
       "      <th>3</th>\n",
       "      <td>463</td>\n",
       "      <td>0</td>\n",
       "    </tr>\n",
       "    <tr>\n",
       "      <th>4</th>\n",
       "      <td>464</td>\n",
       "      <td>0</td>\n",
       "    </tr>\n",
       "    <tr>\n",
       "      <th>5</th>\n",
       "      <td>465</td>\n",
       "      <td>1</td>\n",
       "    </tr>\n",
       "    <tr>\n",
       "      <th>6</th>\n",
       "      <td>466</td>\n",
       "      <td>2</td>\n",
       "    </tr>\n",
       "    <tr>\n",
       "      <th>7</th>\n",
       "      <td>467</td>\n",
       "      <td>2</td>\n",
       "    </tr>\n",
       "    <tr>\n",
       "      <th>8</th>\n",
       "      <td>468</td>\n",
       "      <td>2</td>\n",
       "    </tr>\n",
       "    <tr>\n",
       "      <th>9</th>\n",
       "      <td>469</td>\n",
       "      <td>2</td>\n",
       "    </tr>\n",
       "    <tr>\n",
       "      <th>10</th>\n",
       "      <td>470</td>\n",
       "      <td>2</td>\n",
       "    </tr>\n",
       "    <tr>\n",
       "      <th>11</th>\n",
       "      <td>471</td>\n",
       "      <td>2</td>\n",
       "    </tr>\n",
       "    <tr>\n",
       "      <th>12</th>\n",
       "      <td>472</td>\n",
       "      <td>0</td>\n",
       "    </tr>\n",
       "    <tr>\n",
       "      <th>13</th>\n",
       "      <td>473</td>\n",
       "      <td>0</td>\n",
       "    </tr>\n",
       "    <tr>\n",
       "      <th>14</th>\n",
       "      <td>474</td>\n",
       "      <td>0</td>\n",
       "    </tr>\n",
       "    <tr>\n",
       "      <th>15</th>\n",
       "      <td>475</td>\n",
       "      <td>0</td>\n",
       "    </tr>\n",
       "    <tr>\n",
       "      <th>16</th>\n",
       "      <td>476</td>\n",
       "      <td>0</td>\n",
       "    </tr>\n",
       "    <tr>\n",
       "      <th>17</th>\n",
       "      <td>477</td>\n",
       "      <td>0</td>\n",
       "    </tr>\n",
       "    <tr>\n",
       "      <th>18</th>\n",
       "      <td>478</td>\n",
       "      <td>0</td>\n",
       "    </tr>\n",
       "    <tr>\n",
       "      <th>19</th>\n",
       "      <td>479</td>\n",
       "      <td>0</td>\n",
       "    </tr>\n",
       "  </tbody>\n",
       "</table>\n",
       "</div>"
      ],
      "text/plain": [
       "    frameNr  label\n",
       "0       460      0\n",
       "1       461      0\n",
       "2       462      0\n",
       "3       463      0\n",
       "4       464      0\n",
       "5       465      1\n",
       "6       466      2\n",
       "7       467      2\n",
       "8       468      2\n",
       "9       469      2\n",
       "10      470      2\n",
       "11      471      2\n",
       "12      472      0\n",
       "13      473      0\n",
       "14      474      0\n",
       "15      475      0\n",
       "16      476      0\n",
       "17      477      0\n",
       "18      478      0\n",
       "19      479      0"
      ]
     },
     "execution_count": 22,
     "metadata": {},
     "output_type": "execute_result"
    }
   ],
   "source": [
    "cls.get_borderlabels_batch(videoID=1, batch_nr=23, batch_size=20)"
   ]
  },
  {
   "cell_type": "code",
   "execution_count": null,
   "id": "df02db5d-3d94-42bd-aa8d-52bab66276f8",
   "metadata": {},
   "outputs": [],
   "source": []
  },
  {
   "cell_type": "code",
   "execution_count": null,
   "id": "155aff87-2d5f-49ee-ab72-1afd47c9550a",
   "metadata": {},
   "outputs": [],
   "source": []
  },
  {
   "cell_type": "code",
   "execution_count": 23,
   "id": "c5f732e3-ba94-4623-990c-3a711b4af94d",
   "metadata": {},
   "outputs": [],
   "source": [
    "import numpy as np"
   ]
  },
  {
   "cell_type": "code",
   "execution_count": 24,
   "id": "80bb9d40-538a-4dab-a0d6-b05e6be59ab9",
   "metadata": {},
   "outputs": [],
   "source": [
    "y = np.where(y == 9, 3, y)\n",
    "y = np.where(y == 8, 4, y)"
   ]
  },
  {
   "cell_type": "code",
   "execution_count": 25,
   "id": "26e6dd73-d0b5-4ed1-9d7d-402493a0e084",
   "metadata": {},
   "outputs": [
    {
     "data": {
      "text/plain": [
       "array([[[3],\n",
       "        [3],\n",
       "        [3],\n",
       "        [3],\n",
       "        [3],\n",
       "        [3],\n",
       "        [3],\n",
       "        [3],\n",
       "        [3],\n",
       "        [3],\n",
       "        [3],\n",
       "        [3],\n",
       "        [3],\n",
       "        [3],\n",
       "        [3],\n",
       "        [3],\n",
       "        [0],\n",
       "        [0],\n",
       "        [0],\n",
       "        [0]]])"
      ]
     },
     "execution_count": 25,
     "metadata": {},
     "output_type": "execute_result"
    }
   ],
   "source": [
    "y"
   ]
  },
  {
   "cell_type": "code",
   "execution_count": 26,
   "id": "65c4e696-c4c4-4d04-89cf-4a17c2fd305c",
   "metadata": {},
   "outputs": [
    {
     "data": {
      "text/plain": [
       "array([ 0,  1,  2,  3,  4,  5,  6,  7,  8,  9, 10, 11, 12, 13, 14, 15, 16,\n",
       "       17, 18, 19])"
      ]
     },
     "execution_count": 26,
     "metadata": {},
     "output_type": "execute_result"
    }
   ],
   "source": [
    "np.arange(0,20)"
   ]
  },
  {
   "cell_type": "code",
   "execution_count": null,
   "id": "ae3a37b4-d59b-4266-b656-6248f068f8d5",
   "metadata": {},
   "outputs": [],
   "source": []
  },
  {
   "cell_type": "code",
   "execution_count": null,
   "id": "851bccfd-8225-4c3a-a21b-68401182570d",
   "metadata": {},
   "outputs": [],
   "source": []
  },
  {
   "cell_type": "code",
   "execution_count": null,
   "id": "7e53d1ed-c526-4726-b4c9-55ae7841cf4a",
   "metadata": {},
   "outputs": [],
   "source": []
  },
  {
   "cell_type": "code",
   "execution_count": 27,
   "id": "8cce0042-e795-4bed-8935-d95e1061c8f6",
   "metadata": {},
   "outputs": [],
   "source": [
    "# cls.add_border(8, 205, 215, 1)"
   ]
  },
  {
   "cell_type": "code",
   "execution_count": 28,
   "id": "9934bd3b-e49a-4da2-af79-ac7000f69d3a",
   "metadata": {},
   "outputs": [
    {
     "data": {
      "text/html": [
       "<div>\n",
       "<style scoped>\n",
       "    .dataframe tbody tr th:only-of-type {\n",
       "        vertical-align: middle;\n",
       "    }\n",
       "\n",
       "    .dataframe tbody tr th {\n",
       "        vertical-align: top;\n",
       "    }\n",
       "\n",
       "    .dataframe thead th {\n",
       "        text-align: right;\n",
       "    }\n",
       "</style>\n",
       "<table border=\"1\" class=\"dataframe\">\n",
       "  <thead>\n",
       "    <tr style=\"text-align: right;\">\n",
       "      <th></th>\n",
       "      <th>videoID</th>\n",
       "      <th>frame_start</th>\n",
       "      <th>frame_end</th>\n",
       "      <th>manual_insert</th>\n",
       "    </tr>\n",
       "  </thead>\n",
       "  <tbody>\n",
       "    <tr>\n",
       "      <th>0</th>\n",
       "      <td>8</td>\n",
       "      <td>120</td>\n",
       "      <td>130</td>\n",
       "      <td>1</td>\n",
       "    </tr>\n",
       "    <tr>\n",
       "      <th>1</th>\n",
       "      <td>8</td>\n",
       "      <td>140</td>\n",
       "      <td>150</td>\n",
       "      <td>1</td>\n",
       "    </tr>\n",
       "    <tr>\n",
       "      <th>2</th>\n",
       "      <td>8</td>\n",
       "      <td>200</td>\n",
       "      <td>205</td>\n",
       "      <td>1</td>\n",
       "    </tr>\n",
       "    <tr>\n",
       "      <th>3</th>\n",
       "      <td>8</td>\n",
       "      <td>205</td>\n",
       "      <td>215</td>\n",
       "      <td>1</td>\n",
       "    </tr>\n",
       "  </tbody>\n",
       "</table>\n",
       "</div>"
      ],
      "text/plain": [
       "   videoID  frame_start  frame_end  manual_insert\n",
       "0        8          120        130              1\n",
       "1        8          140        150              1\n",
       "2        8          200        205              1\n",
       "3        8          205        215              1"
      ]
     },
     "execution_count": 28,
     "metadata": {},
     "output_type": "execute_result"
    }
   ],
   "source": [
    "cls.get_borders(8)"
   ]
  },
  {
   "cell_type": "code",
   "execution_count": 29,
   "id": "d32da090-024c-4b77-a3d4-54ff90030f2e",
   "metadata": {},
   "outputs": [],
   "source": [
    "dfb = cls.get_borders(8)"
   ]
  },
  {
   "cell_type": "code",
   "execution_count": 30,
   "id": "d78bf150-f3b1-4464-bfb1-0b3a9d2993bc",
   "metadata": {},
   "outputs": [
    {
     "data": {
      "text/plain": [
       "False"
      ]
     },
     "execution_count": 30,
     "metadata": {},
     "output_type": "execute_result"
    }
   ],
   "source": [
    "cls.is_valid_border(8, 180, 190)"
   ]
  },
  {
   "cell_type": "code",
   "execution_count": 40,
   "id": "aed98f44-85f7-476f-9ed2-72b4233c28fa",
   "metadata": {},
   "outputs": [
    {
     "data": {
      "text/html": [
       "<div>\n",
       "<style scoped>\n",
       "    .dataframe tbody tr th:only-of-type {\n",
       "        vertical-align: middle;\n",
       "    }\n",
       "\n",
       "    .dataframe tbody tr th {\n",
       "        vertical-align: top;\n",
       "    }\n",
       "\n",
       "    .dataframe thead th {\n",
       "        text-align: right;\n",
       "    }\n",
       "</style>\n",
       "<table border=\"1\" class=\"dataframe\">\n",
       "  <thead>\n",
       "    <tr style=\"text-align: right;\">\n",
       "      <th></th>\n",
       "      <th>videoID</th>\n",
       "      <th>frame_start</th>\n",
       "      <th>frame_end</th>\n",
       "      <th>manual_insert</th>\n",
       "    </tr>\n",
       "  </thead>\n",
       "  <tbody>\n",
       "    <tr>\n",
       "      <th>0</th>\n",
       "      <td>8</td>\n",
       "      <td>140</td>\n",
       "      <td>150</td>\n",
       "      <td>1</td>\n",
       "    </tr>\n",
       "  </tbody>\n",
       "</table>\n",
       "</div>"
      ],
      "text/plain": [
       "   videoID  frame_start  frame_end  manual_insert\n",
       "0        8          140        150              1"
      ]
     },
     "execution_count": 40,
     "metadata": {},
     "output_type": "execute_result"
    }
   ],
   "source": [
    "cls.get_border_overlap(8, 133, 200)"
   ]
  },
  {
   "cell_type": "code",
   "execution_count": 31,
   "id": "c0594339-edf0-49ce-aa33-fa8cc8781ca5",
   "metadata": {},
   "outputs": [
    {
     "data": {
      "text/html": [
       "<div>\n",
       "<style scoped>\n",
       "    .dataframe tbody tr th:only-of-type {\n",
       "        vertical-align: middle;\n",
       "    }\n",
       "\n",
       "    .dataframe tbody tr th {\n",
       "        vertical-align: top;\n",
       "    }\n",
       "\n",
       "    .dataframe thead th {\n",
       "        text-align: right;\n",
       "    }\n",
       "</style>\n",
       "<table border=\"1\" class=\"dataframe\">\n",
       "  <thead>\n",
       "    <tr style=\"text-align: right;\">\n",
       "      <th></th>\n",
       "      <th>videoID</th>\n",
       "      <th>frame_start</th>\n",
       "      <th>frame_end</th>\n",
       "      <th>manual_insert</th>\n",
       "    </tr>\n",
       "  </thead>\n",
       "  <tbody>\n",
       "    <tr>\n",
       "      <th>0</th>\n",
       "      <td>8</td>\n",
       "      <td>200</td>\n",
       "      <td>205</td>\n",
       "      <td>1</td>\n",
       "    </tr>\n",
       "    <tr>\n",
       "      <th>1</th>\n",
       "      <td>8</td>\n",
       "      <td>205</td>\n",
       "      <td>215</td>\n",
       "      <td>1</td>\n",
       "    </tr>\n",
       "  </tbody>\n",
       "</table>\n",
       "</div>"
      ],
      "text/plain": [
       "   videoID  frame_start  frame_end  manual_insert\n",
       "0        8          200        205              1\n",
       "1        8          205        215              1"
      ]
     },
     "execution_count": 31,
     "metadata": {},
     "output_type": "execute_result"
    }
   ],
   "source": [
    "cls.get_border_overlap(8, 152, 540)"
   ]
  },
  {
   "cell_type": "code",
   "execution_count": 32,
   "id": "c56ab2ec-73ef-4fbd-a2e6-85741a2a3b94",
   "metadata": {},
   "outputs": [
    {
     "data": {
      "text/html": [
       "<div>\n",
       "<style scoped>\n",
       "    .dataframe tbody tr th:only-of-type {\n",
       "        vertical-align: middle;\n",
       "    }\n",
       "\n",
       "    .dataframe tbody tr th {\n",
       "        vertical-align: top;\n",
       "    }\n",
       "\n",
       "    .dataframe thead th {\n",
       "        text-align: right;\n",
       "    }\n",
       "</style>\n",
       "<table border=\"1\" class=\"dataframe\">\n",
       "  <thead>\n",
       "    <tr style=\"text-align: right;\">\n",
       "      <th></th>\n",
       "      <th>videoID</th>\n",
       "      <th>frame_start</th>\n",
       "      <th>frame_end</th>\n",
       "      <th>manual_insert</th>\n",
       "    </tr>\n",
       "  </thead>\n",
       "  <tbody>\n",
       "  </tbody>\n",
       "</table>\n",
       "</div>"
      ],
      "text/plain": [
       "Empty DataFrame\n",
       "Columns: [videoID, frame_start, frame_end, manual_insert]\n",
       "Index: []"
      ]
     },
     "execution_count": 32,
     "metadata": {},
     "output_type": "execute_result"
    }
   ],
   "source": [
    "cls.get_border_overlap(8, 180, 190)"
   ]
  },
  {
   "cell_type": "code",
   "execution_count": 33,
   "id": "cbda6091-0e54-43ff-aec6-7f69b921b9c8",
   "metadata": {},
   "outputs": [],
   "source": [
    "def get_overlap(dfb, start, end):\n",
    "    return dfb[((start <= dfb['frame_start']) & (end > dfb['frame_start']) | (end >= dfb['frame_end']) & (start < dfb['frame_end']))]"
   ]
  },
  {
   "cell_type": "code",
   "execution_count": 34,
   "id": "a80e2b4d-56fe-4bdc-a883-44bfb4c22a6a",
   "metadata": {},
   "outputs": [
    {
     "data": {
      "text/html": [
       "<div>\n",
       "<style scoped>\n",
       "    .dataframe tbody tr th:only-of-type {\n",
       "        vertical-align: middle;\n",
       "    }\n",
       "\n",
       "    .dataframe tbody tr th {\n",
       "        vertical-align: top;\n",
       "    }\n",
       "\n",
       "    .dataframe thead th {\n",
       "        text-align: right;\n",
       "    }\n",
       "</style>\n",
       "<table border=\"1\" class=\"dataframe\">\n",
       "  <thead>\n",
       "    <tr style=\"text-align: right;\">\n",
       "      <th></th>\n",
       "      <th>videoID</th>\n",
       "      <th>frame_start</th>\n",
       "      <th>frame_end</th>\n",
       "      <th>manual_insert</th>\n",
       "    </tr>\n",
       "  </thead>\n",
       "  <tbody>\n",
       "    <tr>\n",
       "      <th>1</th>\n",
       "      <td>8</td>\n",
       "      <td>140</td>\n",
       "      <td>150</td>\n",
       "      <td>1</td>\n",
       "    </tr>\n",
       "  </tbody>\n",
       "</table>\n",
       "</div>"
      ],
      "text/plain": [
       "   videoID  frame_start  frame_end  manual_insert\n",
       "1        8          140        150              1"
      ]
     },
     "execution_count": 34,
     "metadata": {},
     "output_type": "execute_result"
    }
   ],
   "source": [
    "get_overlap(dfb, 140, 150)"
   ]
  },
  {
   "cell_type": "code",
   "execution_count": 35,
   "id": "2c1fbf77-560b-44e7-a998-ee543c74ba3a",
   "metadata": {},
   "outputs": [
    {
     "data": {
      "text/html": [
       "<div>\n",
       "<style scoped>\n",
       "    .dataframe tbody tr th:only-of-type {\n",
       "        vertical-align: middle;\n",
       "    }\n",
       "\n",
       "    .dataframe tbody tr th {\n",
       "        vertical-align: top;\n",
       "    }\n",
       "\n",
       "    .dataframe thead th {\n",
       "        text-align: right;\n",
       "    }\n",
       "</style>\n",
       "<table border=\"1\" class=\"dataframe\">\n",
       "  <thead>\n",
       "    <tr style=\"text-align: right;\">\n",
       "      <th></th>\n",
       "      <th>videoID</th>\n",
       "      <th>frame_start</th>\n",
       "      <th>frame_end</th>\n",
       "      <th>manual_insert</th>\n",
       "    </tr>\n",
       "  </thead>\n",
       "  <tbody>\n",
       "    <tr>\n",
       "      <th>1</th>\n",
       "      <td>8</td>\n",
       "      <td>140</td>\n",
       "      <td>150</td>\n",
       "      <td>1</td>\n",
       "    </tr>\n",
       "  </tbody>\n",
       "</table>\n",
       "</div>"
      ],
      "text/plain": [
       "   videoID  frame_start  frame_end  manual_insert\n",
       "1        8          140        150              1"
      ]
     },
     "execution_count": 35,
     "metadata": {},
     "output_type": "execute_result"
    }
   ],
   "source": [
    "get_overlap(dfb, 140, 155)"
   ]
  },
  {
   "cell_type": "code",
   "execution_count": 36,
   "id": "ec9117c2-926f-47a4-ab6b-7525c1205e3f",
   "metadata": {},
   "outputs": [
    {
     "data": {
      "text/html": [
       "<div>\n",
       "<style scoped>\n",
       "    .dataframe tbody tr th:only-of-type {\n",
       "        vertical-align: middle;\n",
       "    }\n",
       "\n",
       "    .dataframe tbody tr th {\n",
       "        vertical-align: top;\n",
       "    }\n",
       "\n",
       "    .dataframe thead th {\n",
       "        text-align: right;\n",
       "    }\n",
       "</style>\n",
       "<table border=\"1\" class=\"dataframe\">\n",
       "  <thead>\n",
       "    <tr style=\"text-align: right;\">\n",
       "      <th></th>\n",
       "      <th>videoID</th>\n",
       "      <th>frame_start</th>\n",
       "      <th>frame_end</th>\n",
       "      <th>manual_insert</th>\n",
       "    </tr>\n",
       "  </thead>\n",
       "  <tbody>\n",
       "    <tr>\n",
       "      <th>1</th>\n",
       "      <td>8</td>\n",
       "      <td>140</td>\n",
       "      <td>150</td>\n",
       "      <td>1</td>\n",
       "    </tr>\n",
       "  </tbody>\n",
       "</table>\n",
       "</div>"
      ],
      "text/plain": [
       "   videoID  frame_start  frame_end  manual_insert\n",
       "1        8          140        150              1"
      ]
     },
     "execution_count": 36,
     "metadata": {},
     "output_type": "execute_result"
    }
   ],
   "source": [
    "get_overlap(dfb, 140, 145)"
   ]
  },
  {
   "cell_type": "code",
   "execution_count": 37,
   "id": "c130cc09-9b9e-4025-ae7d-5e1acddf545a",
   "metadata": {},
   "outputs": [
    {
     "data": {
      "text/html": [
       "<div>\n",
       "<style scoped>\n",
       "    .dataframe tbody tr th:only-of-type {\n",
       "        vertical-align: middle;\n",
       "    }\n",
       "\n",
       "    .dataframe tbody tr th {\n",
       "        vertical-align: top;\n",
       "    }\n",
       "\n",
       "    .dataframe thead th {\n",
       "        text-align: right;\n",
       "    }\n",
       "</style>\n",
       "<table border=\"1\" class=\"dataframe\">\n",
       "  <thead>\n",
       "    <tr style=\"text-align: right;\">\n",
       "      <th></th>\n",
       "      <th>videoID</th>\n",
       "      <th>frame_start</th>\n",
       "      <th>frame_end</th>\n",
       "      <th>manual_insert</th>\n",
       "    </tr>\n",
       "  </thead>\n",
       "  <tbody>\n",
       "    <tr>\n",
       "      <th>1</th>\n",
       "      <td>8</td>\n",
       "      <td>140</td>\n",
       "      <td>150</td>\n",
       "      <td>1</td>\n",
       "    </tr>\n",
       "  </tbody>\n",
       "</table>\n",
       "</div>"
      ],
      "text/plain": [
       "   videoID  frame_start  frame_end  manual_insert\n",
       "1        8          140        150              1"
      ]
     },
     "execution_count": 37,
     "metadata": {},
     "output_type": "execute_result"
    }
   ],
   "source": [
    "get_overlap(dfb, 135, 145)"
   ]
  },
  {
   "cell_type": "code",
   "execution_count": 38,
   "id": "b9c35d1f-a853-4427-9b61-5219c00bd815",
   "metadata": {},
   "outputs": [
    {
     "data": {
      "text/html": [
       "<div>\n",
       "<style scoped>\n",
       "    .dataframe tbody tr th:only-of-type {\n",
       "        vertical-align: middle;\n",
       "    }\n",
       "\n",
       "    .dataframe tbody tr th {\n",
       "        vertical-align: top;\n",
       "    }\n",
       "\n",
       "    .dataframe thead th {\n",
       "        text-align: right;\n",
       "    }\n",
       "</style>\n",
       "<table border=\"1\" class=\"dataframe\">\n",
       "  <thead>\n",
       "    <tr style=\"text-align: right;\">\n",
       "      <th></th>\n",
       "      <th>videoID</th>\n",
       "      <th>frame_start</th>\n",
       "      <th>frame_end</th>\n",
       "      <th>manual_insert</th>\n",
       "    </tr>\n",
       "  </thead>\n",
       "  <tbody>\n",
       "    <tr>\n",
       "      <th>1</th>\n",
       "      <td>8</td>\n",
       "      <td>140</td>\n",
       "      <td>150</td>\n",
       "      <td>1</td>\n",
       "    </tr>\n",
       "  </tbody>\n",
       "</table>\n",
       "</div>"
      ],
      "text/plain": [
       "   videoID  frame_start  frame_end  manual_insert\n",
       "1        8          140        150              1"
      ]
     },
     "execution_count": 38,
     "metadata": {},
     "output_type": "execute_result"
    }
   ],
   "source": [
    "get_overlap(dfb, 135, 155)"
   ]
  },
  {
   "cell_type": "code",
   "execution_count": 39,
   "id": "bc3c3134-8a1a-4b53-9d29-e929a5481a95",
   "metadata": {},
   "outputs": [
    {
     "data": {
      "text/html": [
       "<div>\n",
       "<style scoped>\n",
       "    .dataframe tbody tr th:only-of-type {\n",
       "        vertical-align: middle;\n",
       "    }\n",
       "\n",
       "    .dataframe tbody tr th {\n",
       "        vertical-align: top;\n",
       "    }\n",
       "\n",
       "    .dataframe thead th {\n",
       "        text-align: right;\n",
       "    }\n",
       "</style>\n",
       "<table border=\"1\" class=\"dataframe\">\n",
       "  <thead>\n",
       "    <tr style=\"text-align: right;\">\n",
       "      <th></th>\n",
       "      <th>videoID</th>\n",
       "      <th>frame_start</th>\n",
       "      <th>frame_end</th>\n",
       "      <th>manual_insert</th>\n",
       "    </tr>\n",
       "  </thead>\n",
       "  <tbody>\n",
       "  </tbody>\n",
       "</table>\n",
       "</div>"
      ],
      "text/plain": [
       "Empty DataFrame\n",
       "Columns: [videoID, frame_start, frame_end, manual_insert]\n",
       "Index: []"
      ]
     },
     "execution_count": 39,
     "metadata": {},
     "output_type": "execute_result"
    }
   ],
   "source": [
    "get_overlap(dfb, 150, 160)"
   ]
  },
  {
   "cell_type": "code",
   "execution_count": null,
   "id": "50b57756-b52e-4303-ba81-cd8063a34136",
   "metadata": {},
   "outputs": [],
   "source": []
  },
  {
   "cell_type": "code",
   "execution_count": null,
   "id": "f1f4b041-4b7d-4711-b630-c92a97d82618",
   "metadata": {},
   "outputs": [],
   "source": []
  }
 ],
 "metadata": {
  "kernelspec": {
   "display_name": "Python 3 (ipykernel)",
   "language": "python",
   "name": "python3"
  },
  "language_info": {
   "codemirror_mode": {
    "name": "ipython",
    "version": 3
   },
   "file_extension": ".py",
   "mimetype": "text/x-python",
   "name": "python",
   "nbconvert_exporter": "python",
   "pygments_lexer": "ipython3",
   "version": "3.10.12"
  }
 },
 "nbformat": 4,
 "nbformat_minor": 5
}
