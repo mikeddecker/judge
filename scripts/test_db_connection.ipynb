{
 "cells": [
  {
   "cell_type": "code",
   "execution_count": 1,
   "id": "7566ca65-7f95-4de0-a20d-0a1eb17aef5a",
   "metadata": {},
   "outputs": [],
   "source": [
    "from utils_misc import pickle_load_or_create, pickle_save"
   ]
  },
  {
   "cell_type": "code",
   "execution_count": null,
   "id": "c3dd3b52-c9d8-4d04-a022-e42fa66448eb",
   "metadata": {},
   "outputs": [],
   "source": []
  },
  {
   "cell_type": "code",
   "execution_count": null,
   "id": "c40ca5f0-a92c-41b5-a866-c856337a2d20",
   "metadata": {},
   "outputs": [],
   "source": []
  },
  {
   "cell_type": "code",
   "execution_count": 2,
   "id": "842dca24-c2a0-4303-88dd-98f5a9ccafc8",
   "metadata": {},
   "outputs": [
    {
     "name": "stdout",
     "output_type": "stream",
     "text": [
      "Defaulting to user installation because normal site-packages is not writeable\n",
      "Requirement already satisfied: sqlalchemy in /home/miked/.local/lib/python3.10/site-packages (2.0.29)\n",
      "Requirement already satisfied: PyMySQL in /home/miked/.local/lib/python3.10/site-packages (1.1.1)\n",
      "Requirement already satisfied: greenlet!=0.4.17 in /home/miked/.local/lib/python3.10/site-packages (from sqlalchemy) (3.0.3)\n",
      "Requirement already satisfied: typing-extensions>=4.6.0 in /home/miked/.local/lib/python3.10/site-packages (from sqlalchemy) (4.9.0)\n",
      "Defaulting to user installation because normal site-packages is not writeable\n",
      "Requirement already satisfied: opencv-python in /home/miked/.local/lib/python3.10/site-packages (4.9.0.80)\n",
      "Requirement already satisfied: pandas in /home/miked/.local/lib/python3.10/site-packages (2.2.0)\n",
      "Requirement already satisfied: numpy>=1.19.3 in /home/miked/.local/lib/python3.10/site-packages (from opencv-python) (1.26.4)\n",
      "Requirement already satisfied: python-dateutil>=2.8.2 in /home/miked/.local/lib/python3.10/site-packages (from pandas) (2.8.2)\n",
      "Requirement already satisfied: tzdata>=2022.7 in /home/miked/.local/lib/python3.10/site-packages (from pandas) (2024.1)\n",
      "Requirement already satisfied: pytz>=2020.1 in /usr/lib/python3/dist-packages (from pandas) (2022.1)\n",
      "Requirement already satisfied: six>=1.5 in /usr/lib/python3/dist-packages (from python-dateutil>=2.8.2->pandas) (1.16.0)\n",
      "connection established\n"
     ]
    }
   ],
   "source": [
    "from DataRepository import DataRepository\n",
    "\n",
    "\n",
    "cls = DataRepository()\n"
   ]
  },
  {
   "cell_type": "code",
   "execution_count": 3,
   "id": "766125c4-541f-465f-ac17-d8f7094ec061",
   "metadata": {},
   "outputs": [
    {
     "data": {
      "text/html": [
       "<div>\n",
       "<style scoped>\n",
       "    .dataframe tbody tr th:only-of-type {\n",
       "        vertical-align: middle;\n",
       "    }\n",
       "\n",
       "    .dataframe tbody tr th {\n",
       "        vertical-align: top;\n",
       "    }\n",
       "\n",
       "    .dataframe thead th {\n",
       "        text-align: right;\n",
       "    }\n",
       "</style>\n",
       "<table border=\"1\" class=\"dataframe\">\n",
       "  <thead>\n",
       "    <tr style=\"text-align: right;\">\n",
       "      <th></th>\n",
       "      <th>videoID</th>\n",
       "      <th>batches_in_video</th>\n",
       "      <th>random_order</th>\n",
       "      <th>total_batches</th>\n",
       "    </tr>\n",
       "  </thead>\n",
       "  <tbody>\n",
       "    <tr>\n",
       "      <th>0</th>\n",
       "      <td>2</td>\n",
       "      <td>38</td>\n",
       "      <td>1</td>\n",
       "      <td>38</td>\n",
       "    </tr>\n",
       "    <tr>\n",
       "      <th>1</th>\n",
       "      <td>4</td>\n",
       "      <td>19</td>\n",
       "      <td>2</td>\n",
       "      <td>57</td>\n",
       "    </tr>\n",
       "    <tr>\n",
       "      <th>2</th>\n",
       "      <td>5</td>\n",
       "      <td>20</td>\n",
       "      <td>3</td>\n",
       "      <td>77</td>\n",
       "    </tr>\n",
       "    <tr>\n",
       "      <th>3</th>\n",
       "      <td>1</td>\n",
       "      <td>24</td>\n",
       "      <td>4</td>\n",
       "      <td>101</td>\n",
       "    </tr>\n",
       "    <tr>\n",
       "      <th>4</th>\n",
       "      <td>6</td>\n",
       "      <td>16</td>\n",
       "      <td>5</td>\n",
       "      <td>117</td>\n",
       "    </tr>\n",
       "    <tr>\n",
       "      <th>5</th>\n",
       "      <td>3</td>\n",
       "      <td>23</td>\n",
       "      <td>6</td>\n",
       "      <td>140</td>\n",
       "    </tr>\n",
       "  </tbody>\n",
       "</table>\n",
       "</div>"
      ],
      "text/plain": [
       "   videoID  batches_in_video  random_order  total_batches\n",
       "0        2                38             1             38\n",
       "1        4                19             2             57\n",
       "2        5                20             3             77\n",
       "3        1                24             4            101\n",
       "4        6                16             5            117\n",
       "5        3                23             6            140"
      ]
     },
     "execution_count": 3,
     "metadata": {},
     "output_type": "execute_result"
    }
   ],
   "source": [
    "cls.query_framelabels()\n",
    "\n",
    "\n",
    "\n",
    "cls.get_path(2)\n",
    "\n",
    "cls.get_randomized_borderlabels_and_batches_per_video(20)"
   ]
  },
  {
   "cell_type": "code",
   "execution_count": 4,
   "id": "9bde6b61-1274-4ada-81d3-8af3f9bfab31",
   "metadata": {},
   "outputs": [
    {
     "data": {
      "text/html": [
       "<div>\n",
       "<style scoped>\n",
       "    .dataframe tbody tr th:only-of-type {\n",
       "        vertical-align: middle;\n",
       "    }\n",
       "\n",
       "    .dataframe tbody tr th {\n",
       "        vertical-align: top;\n",
       "    }\n",
       "\n",
       "    .dataframe thead th {\n",
       "        text-align: right;\n",
       "    }\n",
       "</style>\n",
       "<table border=\"1\" class=\"dataframe\">\n",
       "  <thead>\n",
       "    <tr style=\"text-align: right;\">\n",
       "      <th></th>\n",
       "      <th>frameNr</th>\n",
       "      <th>label</th>\n",
       "    </tr>\n",
       "  </thead>\n",
       "  <tbody>\n",
       "    <tr>\n",
       "      <th>0</th>\n",
       "      <td>440</td>\n",
       "      <td>1</td>\n",
       "    </tr>\n",
       "    <tr>\n",
       "      <th>1</th>\n",
       "      <td>441</td>\n",
       "      <td>2</td>\n",
       "    </tr>\n",
       "    <tr>\n",
       "      <th>2</th>\n",
       "      <td>442</td>\n",
       "      <td>2</td>\n",
       "    </tr>\n",
       "    <tr>\n",
       "      <th>3</th>\n",
       "      <td>443</td>\n",
       "      <td>2</td>\n",
       "    </tr>\n",
       "  </tbody>\n",
       "</table>\n",
       "</div>"
      ],
      "text/plain": [
       "   frameNr  label\n",
       "0      440      1\n",
       "1      441      2\n",
       "2      442      2\n",
       "3      443      2"
      ]
     },
     "execution_count": 4,
     "metadata": {},
     "output_type": "execute_result"
    }
   ],
   "source": [
    "cls.get_borderlabels_batch(videoID=3, batch_nr=22, batch_size=20)"
   ]
  },
  {
   "cell_type": "code",
   "execution_count": null,
   "id": "909fe646-ddd0-461b-8645-7f84412d61ba",
   "metadata": {},
   "outputs": [],
   "source": []
  },
  {
   "cell_type": "code",
   "execution_count": 5,
   "id": "c74714f6-3b26-4677-b6e8-116874508ae6",
   "metadata": {},
   "outputs": [],
   "source": [
    "from utils_cv2 import get_frames, get_video_length"
   ]
  },
  {
   "cell_type": "code",
   "execution_count": 6,
   "id": "ab9b7640-6fd0-4593-a8bf-8ed16735b89c",
   "metadata": {},
   "outputs": [],
   "source": [
    "path = '../videos/20240201_atelier_003.mp4'"
   ]
  },
  {
   "cell_type": "code",
   "execution_count": 7,
   "id": "c3ca5039-b565-4980-a8f7-cde167d2057b",
   "metadata": {},
   "outputs": [
    {
     "data": {
      "text/plain": [
       "1489"
      ]
     },
     "execution_count": 7,
     "metadata": {},
     "output_type": "execute_result"
    }
   ],
   "source": [
    "get_video_length(path)"
   ]
  },
  {
   "cell_type": "code",
   "execution_count": 8,
   "id": "509a3f0c-7d0a-4d58-970d-b56b5d8bc48b",
   "metadata": {},
   "outputs": [
    {
     "data": {
      "text/plain": [
       "(51, 150, 150, 3)"
      ]
     },
     "execution_count": 8,
     "metadata": {},
     "output_type": "execute_result"
    }
   ],
   "source": [
    "frames = get_frames('../videos/20240201_atelier_003.mp4', 1450, 1500, (150,150), rgb=True)\n",
    "frames.shape"
   ]
  },
  {
   "cell_type": "code",
   "execution_count": 9,
   "id": "24cd9036-7f1d-4893-bd57-1a73a3ff1a4a",
   "metadata": {},
   "outputs": [
    {
     "data": {
      "text/plain": [
       "(array([[0., 0., 0.],\n",
       "        [0., 0., 0.],\n",
       "        [0., 0., 0.],\n",
       "        [0., 0., 0.],\n",
       "        [0., 0., 0.],\n",
       "        [0., 0., 0.],\n",
       "        [0., 0., 0.],\n",
       "        [0., 0., 0.],\n",
       "        [0., 0., 0.],\n",
       "        [0., 0., 0.],\n",
       "        [0., 0., 0.],\n",
       "        [0., 0., 0.],\n",
       "        [0., 0., 0.],\n",
       "        [0., 0., 0.],\n",
       "        [0., 0., 0.],\n",
       "        [0., 0., 0.],\n",
       "        [0., 0., 0.],\n",
       "        [0., 0., 0.],\n",
       "        [0., 0., 0.],\n",
       "        [0., 0., 0.],\n",
       "        [0., 0., 0.],\n",
       "        [0., 0., 0.],\n",
       "        [0., 0., 0.],\n",
       "        [0., 0., 0.],\n",
       "        [0., 0., 0.],\n",
       "        [0., 0., 0.],\n",
       "        [0., 0., 0.],\n",
       "        [0., 0., 0.],\n",
       "        [0., 0., 0.],\n",
       "        [0., 0., 0.],\n",
       "        [0., 0., 0.],\n",
       "        [0., 0., 0.],\n",
       "        [0., 0., 0.],\n",
       "        [0., 0., 0.],\n",
       "        [0., 0., 0.],\n",
       "        [0., 0., 0.],\n",
       "        [0., 0., 0.],\n",
       "        [0., 0., 0.],\n",
       "        [0., 0., 0.],\n",
       "        [0., 0., 0.],\n",
       "        [0., 0., 0.],\n",
       "        [0., 0., 0.],\n",
       "        [0., 0., 0.],\n",
       "        [0., 0., 0.],\n",
       "        [0., 0., 0.],\n",
       "        [0., 0., 0.],\n",
       "        [0., 0., 0.],\n",
       "        [0., 0., 0.],\n",
       "        [0., 0., 0.],\n",
       "        [0., 0., 0.],\n",
       "        [0., 0., 0.],\n",
       "        [0., 0., 0.],\n",
       "        [0., 0., 0.],\n",
       "        [0., 0., 0.],\n",
       "        [0., 0., 0.],\n",
       "        [0., 0., 0.],\n",
       "        [0., 0., 0.],\n",
       "        [0., 0., 0.],\n",
       "        [0., 0., 0.],\n",
       "        [0., 0., 0.],\n",
       "        [0., 0., 0.],\n",
       "        [0., 0., 0.],\n",
       "        [0., 0., 0.],\n",
       "        [0., 0., 0.],\n",
       "        [0., 0., 0.],\n",
       "        [0., 0., 0.],\n",
       "        [0., 0., 0.],\n",
       "        [0., 0., 0.],\n",
       "        [0., 0., 0.],\n",
       "        [0., 0., 0.],\n",
       "        [0., 0., 0.],\n",
       "        [0., 0., 0.],\n",
       "        [0., 0., 0.],\n",
       "        [0., 0., 0.],\n",
       "        [0., 0., 0.],\n",
       "        [0., 0., 0.],\n",
       "        [0., 0., 0.],\n",
       "        [0., 0., 0.],\n",
       "        [0., 0., 0.],\n",
       "        [0., 0., 0.],\n",
       "        [0., 0., 0.],\n",
       "        [0., 0., 0.],\n",
       "        [0., 0., 0.],\n",
       "        [0., 0., 0.],\n",
       "        [0., 0., 0.],\n",
       "        [0., 0., 0.],\n",
       "        [0., 0., 0.],\n",
       "        [0., 0., 0.],\n",
       "        [0., 0., 0.],\n",
       "        [0., 0., 0.],\n",
       "        [0., 0., 0.],\n",
       "        [0., 0., 0.],\n",
       "        [0., 0., 0.],\n",
       "        [0., 0., 0.],\n",
       "        [0., 0., 0.],\n",
       "        [0., 0., 0.],\n",
       "        [0., 0., 0.],\n",
       "        [0., 0., 0.],\n",
       "        [0., 0., 0.],\n",
       "        [0., 0., 0.],\n",
       "        [0., 0., 0.],\n",
       "        [0., 0., 0.],\n",
       "        [0., 0., 0.],\n",
       "        [0., 0., 0.],\n",
       "        [0., 0., 0.],\n",
       "        [0., 0., 0.],\n",
       "        [0., 0., 0.],\n",
       "        [0., 0., 0.],\n",
       "        [0., 0., 0.],\n",
       "        [0., 0., 0.],\n",
       "        [0., 0., 0.],\n",
       "        [0., 0., 0.],\n",
       "        [0., 0., 0.],\n",
       "        [0., 0., 0.],\n",
       "        [0., 0., 0.],\n",
       "        [0., 0., 0.],\n",
       "        [0., 0., 0.],\n",
       "        [0., 0., 0.],\n",
       "        [0., 0., 0.],\n",
       "        [0., 0., 0.],\n",
       "        [0., 0., 0.],\n",
       "        [0., 0., 0.],\n",
       "        [0., 0., 0.],\n",
       "        [0., 0., 0.],\n",
       "        [0., 0., 0.],\n",
       "        [0., 0., 0.],\n",
       "        [0., 0., 0.],\n",
       "        [0., 0., 0.],\n",
       "        [0., 0., 0.],\n",
       "        [0., 0., 0.],\n",
       "        [0., 0., 0.],\n",
       "        [0., 0., 0.],\n",
       "        [0., 0., 0.],\n",
       "        [0., 0., 0.],\n",
       "        [0., 0., 0.],\n",
       "        [0., 0., 0.],\n",
       "        [0., 0., 0.],\n",
       "        [0., 0., 0.],\n",
       "        [0., 0., 0.],\n",
       "        [0., 0., 0.],\n",
       "        [0., 0., 0.],\n",
       "        [0., 0., 0.],\n",
       "        [0., 0., 0.],\n",
       "        [0., 0., 0.],\n",
       "        [0., 0., 0.],\n",
       "        [0., 0., 0.],\n",
       "        [0., 0., 0.],\n",
       "        [0., 0., 0.],\n",
       "        [0., 0., 0.],\n",
       "        [0., 0., 0.]]),\n",
       " array([[0.32156863, 0.33333333, 0.33333333],\n",
       "        [0.32156863, 0.33333333, 0.33333333],\n",
       "        [0.3254902 , 0.3372549 , 0.3372549 ],\n",
       "        [0.32156863, 0.33333333, 0.33333333],\n",
       "        [0.32156863, 0.33333333, 0.33333333],\n",
       "        [0.32156863, 0.33333333, 0.33333333],\n",
       "        [0.31372549, 0.33333333, 0.33333333],\n",
       "        [0.31372549, 0.33333333, 0.33333333],\n",
       "        [0.32156863, 0.33333333, 0.33333333],\n",
       "        [0.3254902 , 0.3372549 , 0.3372549 ],\n",
       "        [0.3254902 , 0.3372549 , 0.3372549 ],\n",
       "        [0.3372549 , 0.34509804, 0.34509804],\n",
       "        [0.33333333, 0.34509804, 0.34509804],\n",
       "        [0.3372549 , 0.34901961, 0.34901961],\n",
       "        [0.3372549 , 0.34901961, 0.34901961],\n",
       "        [0.32941176, 0.34117647, 0.34117647],\n",
       "        [0.32156863, 0.33333333, 0.33333333],\n",
       "        [0.32156863, 0.33333333, 0.33333333],\n",
       "        [0.3254902 , 0.3372549 , 0.3372549 ],\n",
       "        [0.3254902 , 0.3372549 , 0.3372549 ],\n",
       "        [0.32941176, 0.34117647, 0.34117647],\n",
       "        [0.32941176, 0.34117647, 0.34117647],\n",
       "        [0.3372549 , 0.34901961, 0.34901961],\n",
       "        [0.34117647, 0.35294118, 0.35294118],\n",
       "        [0.35686275, 0.36862745, 0.36862745],\n",
       "        [0.36862745, 0.38039216, 0.38039216],\n",
       "        [0.40784314, 0.41568627, 0.41568627],\n",
       "        [0.39607843, 0.40784314, 0.40784314],\n",
       "        [0.4       , 0.40784314, 0.40784314],\n",
       "        [0.38431373, 0.39607843, 0.39607843],\n",
       "        [0.34509804, 0.35686275, 0.35686275],\n",
       "        [0.32941176, 0.34117647, 0.34117647],\n",
       "        [0.3254902 , 0.3372549 , 0.3372549 ],\n",
       "        [0.3254902 , 0.3372549 , 0.3372549 ],\n",
       "        [0.32156863, 0.33333333, 0.33333333],\n",
       "        [0.30980392, 0.32156863, 0.32156863],\n",
       "        [0.32156863, 0.33333333, 0.33333333],\n",
       "        [0.32156863, 0.33333333, 0.33333333],\n",
       "        [0.30196078, 0.31372549, 0.31372549],\n",
       "        [0.29411765, 0.30588235, 0.30588235],\n",
       "        [0.29411765, 0.30588235, 0.30588235],\n",
       "        [0.28627451, 0.29803922, 0.29803922],\n",
       "        [0.29411765, 0.30588235, 0.30588235],\n",
       "        [0.29411765, 0.30588235, 0.30588235],\n",
       "        [0.29803922, 0.30980392, 0.30980392],\n",
       "        [0.29803922, 0.30980392, 0.30980392],\n",
       "        [0.29019608, 0.30196078, 0.30196078],\n",
       "        [0.29411765, 0.30588235, 0.30588235],\n",
       "        [0.29411765, 0.30588235, 0.30588235],\n",
       "        [0.29411765, 0.30588235, 0.30588235],\n",
       "        [0.29411765, 0.30588235, 0.30588235],\n",
       "        [0.29803922, 0.30980392, 0.30980392],\n",
       "        [0.29803922, 0.31372549, 0.31372549],\n",
       "        [0.29411765, 0.30588235, 0.30588235],\n",
       "        [0.29803922, 0.30980392, 0.30980392],\n",
       "        [0.29411765, 0.30588235, 0.30588235],\n",
       "        [0.29803922, 0.30980392, 0.30980392],\n",
       "        [0.27843137, 0.29019608, 0.29019608],\n",
       "        [0.27058824, 0.28235294, 0.28235294],\n",
       "        [0.28235294, 0.29411765, 0.29411765],\n",
       "        [0.2745098 , 0.28627451, 0.28627451],\n",
       "        [0.26666667, 0.27843137, 0.27843137],\n",
       "        [0.27058824, 0.28235294, 0.28235294],\n",
       "        [0.2745098 , 0.28627451, 0.28627451],\n",
       "        [0.27843137, 0.29019608, 0.29019608],\n",
       "        [0.28235294, 0.29411765, 0.29411765],\n",
       "        [0.29411765, 0.30588235, 0.30588235],\n",
       "        [0.28627451, 0.29803922, 0.29803922],\n",
       "        [0.30196078, 0.31372549, 0.31372549],\n",
       "        [0.29411765, 0.30588235, 0.30588235],\n",
       "        [0.29411765, 0.30588235, 0.30588235],\n",
       "        [0.30196078, 0.31372549, 0.31372549],\n",
       "        [0.29411765, 0.30588235, 0.30588235],\n",
       "        [0.29411765, 0.30588235, 0.30588235],\n",
       "        [0.29411765, 0.30588235, 0.30588235],\n",
       "        [0.29411765, 0.30588235, 0.30588235],\n",
       "        [0.29411765, 0.30588235, 0.30588235],\n",
       "        [0.29411765, 0.30196078, 0.30980392],\n",
       "        [0.28627451, 0.29803922, 0.29803922],\n",
       "        [0.28235294, 0.29411765, 0.29411765],\n",
       "        [0.28235294, 0.29411765, 0.29411765],\n",
       "        [0.29019608, 0.30196078, 0.30196078],\n",
       "        [0.29411765, 0.30588235, 0.30588235],\n",
       "        [0.29411765, 0.30588235, 0.30588235],\n",
       "        [0.29803922, 0.30980392, 0.30980392],\n",
       "        [0.30196078, 0.31372549, 0.31372549],\n",
       "        [0.29803922, 0.30588235, 0.30588235],\n",
       "        [0.29803922, 0.30980392, 0.30980392],\n",
       "        [0.29411765, 0.30588235, 0.30588235],\n",
       "        [0.31372549, 0.3254902 , 0.3254902 ],\n",
       "        [0.31372549, 0.3254902 , 0.3254902 ],\n",
       "        [0.30980392, 0.32156863, 0.32156863],\n",
       "        [0.27058824, 0.28235294, 0.28235294],\n",
       "        [0.14509804, 0.15686275, 0.15686275],\n",
       "        [0.09803922, 0.11764706, 0.11764706],\n",
       "        [0.08627451, 0.10588235, 0.10588235],\n",
       "        [0.12941176, 0.14901961, 0.14901961],\n",
       "        [0.09411765, 0.11372549, 0.11372549],\n",
       "        [0.09803922, 0.09803922, 0.09803922],\n",
       "        [0.00392157, 0.00392157, 0.00392157],\n",
       "        [0.32156863, 0.33333333, 0.33333333],\n",
       "        [0.27843137, 0.29019608, 0.29019608],\n",
       "        [0.26666667, 0.27843137, 0.27843137],\n",
       "        [0.28235294, 0.29411765, 0.29411765],\n",
       "        [0.28235294, 0.29411765, 0.29411765],\n",
       "        [0.26666667, 0.27843137, 0.27843137],\n",
       "        [0.30196078, 0.30196078, 0.30196078],\n",
       "        [0.30980392, 0.30980392, 0.30980392],\n",
       "        [0.24705882, 0.25882353, 0.25882353],\n",
       "        [0.25098039, 0.2627451 , 0.2627451 ],\n",
       "        [0.25490196, 0.26666667, 0.26666667],\n",
       "        [0.24313725, 0.25490196, 0.25490196],\n",
       "        [0.24705882, 0.25882353, 0.25882353],\n",
       "        [0.25490196, 0.26666667, 0.26666667],\n",
       "        [0.26666667, 0.2745098 , 0.2745098 ],\n",
       "        [0.25882353, 0.27058824, 0.27058824],\n",
       "        [0.26666667, 0.27843137, 0.27843137],\n",
       "        [0.27843137, 0.29019608, 0.29019608],\n",
       "        [0.27843137, 0.29019608, 0.29019608],\n",
       "        [0.28235294, 0.28235294, 0.28235294],\n",
       "        [0.27843137, 0.27843137, 0.27843137],\n",
       "        [0.2745098 , 0.2745098 , 0.2745098 ],\n",
       "        [0.25882353, 0.27058824, 0.27058824],\n",
       "        [0.27058824, 0.28235294, 0.28235294],\n",
       "        [0.27843137, 0.29019608, 0.29019608],\n",
       "        [0.25882353, 0.27058824, 0.27058824],\n",
       "        [0.26666667, 0.26666667, 0.26666667],\n",
       "        [0.26666667, 0.26666667, 0.26666667],\n",
       "        [0.25098039, 0.24705882, 0.25490196],\n",
       "        [0.25490196, 0.25490196, 0.25490196],\n",
       "        [0.24313725, 0.24313725, 0.24313725],\n",
       "        [0.23921569, 0.23921569, 0.23921569],\n",
       "        [0.25098039, 0.25098039, 0.25098039],\n",
       "        [0.25098039, 0.24705882, 0.25490196],\n",
       "        [0.19215686, 0.2       , 0.20392157],\n",
       "        [0.23529412, 0.25098039, 0.25098039],\n",
       "        [0.25882353, 0.27058824, 0.27058824],\n",
       "        [0.27058824, 0.28235294, 0.28235294],\n",
       "        [0.26666667, 0.27843137, 0.27843137],\n",
       "        [0.27843137, 0.29019608, 0.29019608],\n",
       "        [0.2745098 , 0.28627451, 0.28627451],\n",
       "        [0.27843137, 0.29019608, 0.29019608],\n",
       "        [0.2745098 , 0.28627451, 0.28627451],\n",
       "        [0.2745098 , 0.28627451, 0.28627451],\n",
       "        [0.27843137, 0.29019608, 0.29019608],\n",
       "        [0.27843137, 0.29019608, 0.29019608],\n",
       "        [0.27843137, 0.29019608, 0.29019608],\n",
       "        [0.28235294, 0.29411765, 0.29411765],\n",
       "        [0.28235294, 0.28235294, 0.28235294],\n",
       "        [0.29411765, 0.29411765, 0.29411765]]))"
      ]
     },
     "execution_count": 9,
     "metadata": {},
     "output_type": "execute_result"
    }
   ],
   "source": [
    "frames[50][0], frames[22][0]"
   ]
  },
  {
   "cell_type": "code",
   "execution_count": null,
   "id": "f63909ef-a4df-41d8-812e-8c5389c06bb3",
   "metadata": {},
   "outputs": [],
   "source": []
  },
  {
   "cell_type": "code",
   "execution_count": 10,
   "id": "b8a423aa-9925-4724-8501-cd81b92ae0a8",
   "metadata": {},
   "outputs": [
    {
     "name": "stderr",
     "output_type": "stream",
     "text": [
      "2024-06-24 12:43:40.405912: I tensorflow/core/util/port.cc:113] oneDNN custom operations are on. You may see slightly different numerical results due to floating-point round-off errors from different computation orders. To turn them off, set the environment variable `TF_ENABLE_ONEDNN_OPTS=0`.\n",
      "2024-06-24 12:43:40.452642: I tensorflow/core/platform/cpu_feature_guard.cc:210] This TensorFlow binary is optimized to use available CPU instructions in performance-critical operations.\n",
      "To enable the following instructions: AVX2 AVX512F AVX512_VNNI FMA, in other operations, rebuild TensorFlow with the appropriate compiler flags.\n",
      "2024-06-24 12:43:41.286627: W tensorflow/compiler/tf2tensorrt/utils/py_utils.cc:38] TF-TRT Warning: Could not find TensorRT\n"
     ]
    },
    {
     "name": "stdout",
     "output_type": "stream",
     "text": [
      "connection established\n",
      "DataGeneratorSkillBorders init done\n"
     ]
    }
   ],
   "source": [
    "from DataGeneratorBordersDB import DataGeneratorSkillBorders\n",
    "\n",
    "gen = DataGeneratorSkillBorders(train=True, batch_size=20, dim=(128, 128), n_channels=3,\n",
    "                 n_classes=5, shuffle=True, time_length=16)"
   ]
  },
  {
   "cell_type": "code",
   "execution_count": 11,
   "id": "84424297-5369-4970-9aa3-1dac479ef303",
   "metadata": {},
   "outputs": [
    {
     "data": {
      "text/plain": [
       "<DataGeneratorBordersDB.DataGeneratorSkillBorders at 0x76631414d9c0>"
      ]
     },
     "execution_count": 11,
     "metadata": {},
     "output_type": "execute_result"
    }
   ],
   "source": [
    "gen"
   ]
  },
  {
   "cell_type": "code",
   "execution_count": 12,
   "id": "c1095f68-374d-427c-bf14-62f54706c78f",
   "metadata": {},
   "outputs": [
    {
     "data": {
      "text/html": [
       "<div>\n",
       "<style scoped>\n",
       "    .dataframe tbody tr th:only-of-type {\n",
       "        vertical-align: middle;\n",
       "    }\n",
       "\n",
       "    .dataframe tbody tr th {\n",
       "        vertical-align: top;\n",
       "    }\n",
       "\n",
       "    .dataframe thead th {\n",
       "        text-align: right;\n",
       "    }\n",
       "</style>\n",
       "<table border=\"1\" class=\"dataframe\">\n",
       "  <thead>\n",
       "    <tr style=\"text-align: right;\">\n",
       "      <th></th>\n",
       "      <th>videoID</th>\n",
       "      <th>batches_in_video</th>\n",
       "      <th>random_order</th>\n",
       "      <th>total_batches</th>\n",
       "    </tr>\n",
       "  </thead>\n",
       "  <tbody>\n",
       "    <tr>\n",
       "      <th>0</th>\n",
       "      <td>6</td>\n",
       "      <td>16</td>\n",
       "      <td>1</td>\n",
       "      <td>16</td>\n",
       "    </tr>\n",
       "    <tr>\n",
       "      <th>1</th>\n",
       "      <td>3</td>\n",
       "      <td>23</td>\n",
       "      <td>2</td>\n",
       "      <td>39</td>\n",
       "    </tr>\n",
       "    <tr>\n",
       "      <th>2</th>\n",
       "      <td>1</td>\n",
       "      <td>24</td>\n",
       "      <td>3</td>\n",
       "      <td>63</td>\n",
       "    </tr>\n",
       "    <tr>\n",
       "      <th>3</th>\n",
       "      <td>2</td>\n",
       "      <td>38</td>\n",
       "      <td>4</td>\n",
       "      <td>101</td>\n",
       "    </tr>\n",
       "    <tr>\n",
       "      <th>4</th>\n",
       "      <td>4</td>\n",
       "      <td>19</td>\n",
       "      <td>5</td>\n",
       "      <td>120</td>\n",
       "    </tr>\n",
       "    <tr>\n",
       "      <th>5</th>\n",
       "      <td>5</td>\n",
       "      <td>20</td>\n",
       "      <td>6</td>\n",
       "      <td>140</td>\n",
       "    </tr>\n",
       "  </tbody>\n",
       "</table>\n",
       "</div>"
      ],
      "text/plain": [
       "   videoID  batches_in_video  random_order  total_batches\n",
       "0        6                16             1             16\n",
       "1        3                23             2             39\n",
       "2        1                24             3             63\n",
       "3        2                38             4            101\n",
       "4        4                19             5            120\n",
       "5        5                20             6            140"
      ]
     },
     "execution_count": 12,
     "metadata": {},
     "output_type": "execute_result"
    }
   ],
   "source": [
    "gen.batch_order"
   ]
  },
  {
   "cell_type": "code",
   "execution_count": 13,
   "id": "33e0546e-8d0f-4056-9385-83caf9f64848",
   "metadata": {},
   "outputs": [
    {
     "name": "stdout",
     "output_type": "stream",
     "text": [
      "14\n",
      " vidID 6 & vid_batch_nr 14\n",
      "(1, 20, 128, 128, 3) (1, 20, 1)\n",
      "15\n",
      " vidID 6 & vid_batch_nr 15\n",
      "(1, 20, 128, 128, 3) (1, 20, 1)\n",
      "16\n",
      " vidID 3 & vid_batch_nr 0\n",
      "(1, 20, 128, 128, 3) (1, 20, 1)\n",
      "17\n",
      " vidID 3 & vid_batch_nr 1\n",
      "(1, 20, 128, 128, 3) (1, 20, 1)\n",
      "18\n",
      " vidID 3 & vid_batch_nr 2\n",
      "(1, 20, 128, 128, 3) (1, 20, 1)\n",
      "19\n",
      " vidID 3 & vid_batch_nr 3\n",
      "(1, 20, 128, 128, 3) (1, 20, 1)\n",
      "20\n",
      " vidID 3 & vid_batch_nr 4\n",
      "(1, 20, 128, 128, 3) (1, 20, 1)\n",
      "21\n",
      " vidID 3 & vid_batch_nr 5\n",
      "(1, 20, 128, 128, 3) (1, 20, 1)\n",
      "22\n",
      " vidID 3 & vid_batch_nr 6\n",
      "(1, 20, 128, 128, 3) (1, 20, 1)\n",
      "23\n",
      " vidID 3 & vid_batch_nr 7\n",
      "(1, 20, 128, 128, 3) (1, 20, 1)\n",
      "24\n",
      " vidID 3 & vid_batch_nr 8\n",
      "(1, 20, 128, 128, 3) (1, 20, 1)\n",
      "25\n",
      " vidID 3 & vid_batch_nr 9\n",
      "(1, 20, 128, 128, 3) (1, 20, 1)\n",
      "26\n",
      " vidID 3 & vid_batch_nr 10\n",
      "(1, 20, 128, 128, 3) (1, 20, 1)\n",
      "27\n",
      " vidID 3 & vid_batch_nr 11\n",
      "(1, 20, 128, 128, 3) (1, 20, 1)\n",
      "28\n",
      " vidID 3 & vid_batch_nr 12\n",
      "(1, 20, 128, 128, 3) (1, 20, 1)\n",
      "29\n",
      " vidID 3 & vid_batch_nr 13\n",
      "(1, 20, 128, 128, 3) (1, 20, 1)\n",
      "30\n",
      " vidID 3 & vid_batch_nr 14\n",
      "(1, 20, 128, 128, 3) (1, 20, 1)\n",
      "31\n",
      " vidID 3 & vid_batch_nr 15\n",
      "(1, 20, 128, 128, 3) (1, 20, 1)\n",
      "32\n",
      " vidID 3 & vid_batch_nr 16\n",
      "(1, 20, 128, 128, 3) (1, 20, 1)\n",
      "33\n",
      " vidID 3 & vid_batch_nr 17\n",
      "(1, 20, 128, 128, 3) (1, 20, 1)\n",
      "34\n",
      " vidID 3 & vid_batch_nr 18\n",
      "(1, 20, 128, 128, 3) (1, 20, 1)\n",
      "35\n",
      " vidID 3 & vid_batch_nr 19\n",
      "(1, 20, 128, 128, 3) (1, 20, 1)\n",
      "36\n",
      " vidID 3 & vid_batch_nr 20\n",
      "(1, 20, 128, 128, 3) (1, 20, 1)\n",
      "37\n",
      " vidID 3 & vid_batch_nr 21\n",
      "(1, 20, 128, 128, 3) (1, 20, 1)\n",
      "38\n",
      " vidID 3 & vid_batch_nr 22\n",
      "(1, 20, 128, 128, 3) (1, 20, 1)\n",
      "39\n",
      " vidID 1 & vid_batch_nr 0\n",
      "(1, 20, 128, 128, 3) (1, 20, 1)\n",
      "CPU times: user 33 s, sys: 831 ms, total: 33.8 s\n",
      "Wall time: 10.1 s\n"
     ]
    }
   ],
   "source": [
    "%%time\n",
    "for i in range(14,40):\n",
    "    print(i)\n",
    "    X, y = gen.__getitem__(i)\n",
    "    print(X.shape, y.shape)"
   ]
  },
  {
   "cell_type": "code",
   "execution_count": 14,
   "id": "248bbded-e574-4d62-b654-bae47c339e0f",
   "metadata": {},
   "outputs": [
    {
     "name": "stdout",
     "output_type": "stream",
     "text": [
      " vidID 3 & vid_batch_nr 2\n"
     ]
    }
   ],
   "source": [
    "X, y = gen.__getitem__(18)"
   ]
  },
  {
   "cell_type": "code",
   "execution_count": 15,
   "id": "5b9d4e33-e4cc-434d-8d52-51c0b0a47263",
   "metadata": {},
   "outputs": [
    {
     "data": {
      "text/plain": [
       "(1, 20, 128, 128, 3)"
      ]
     },
     "execution_count": 15,
     "metadata": {},
     "output_type": "execute_result"
    }
   ],
   "source": [
    "X.shape"
   ]
  },
  {
   "cell_type": "code",
   "execution_count": 16,
   "id": "3d6d5c2a-320c-4c8f-8b1f-a1dfe71c13b1",
   "metadata": {},
   "outputs": [
    {
     "data": {
      "text/plain": [
       "(1, 20, 1)"
      ]
     },
     "execution_count": 16,
     "metadata": {},
     "output_type": "execute_result"
    }
   ],
   "source": [
    "y.shape"
   ]
  },
  {
   "cell_type": "code",
   "execution_count": 17,
   "id": "109e5ebd-e823-488a-81f1-4855ce68139c",
   "metadata": {},
   "outputs": [
    {
     "data": {
      "text/plain": [
       "array([[[3.],\n",
       "        [3.],\n",
       "        [3.],\n",
       "        [3.],\n",
       "        [3.],\n",
       "        [3.],\n",
       "        [3.],\n",
       "        [3.],\n",
       "        [3.],\n",
       "        [3.],\n",
       "        [3.],\n",
       "        [3.],\n",
       "        [3.],\n",
       "        [3.],\n",
       "        [3.],\n",
       "        [3.],\n",
       "        [3.],\n",
       "        [3.],\n",
       "        [3.],\n",
       "        [3.]]])"
      ]
     },
     "execution_count": 17,
     "metadata": {},
     "output_type": "execute_result"
    }
   ],
   "source": [
    "y"
   ]
  },
  {
   "cell_type": "code",
   "execution_count": 18,
   "id": "c84cec66-c55b-43d1-aaac-5e5165989a5a",
   "metadata": {},
   "outputs": [
    {
     "data": {
      "text/plain": [
       "174"
      ]
     },
     "execution_count": 18,
     "metadata": {},
     "output_type": "execute_result"
    }
   ],
   "source": [
    "cls.get_randomized_borderlabels_and_batches_per_video().iloc[-1]['total_batches']"
   ]
  },
  {
   "cell_type": "code",
   "execution_count": 19,
   "id": "7a485f67-1eb0-4c30-b5fa-1478ba7beb89",
   "metadata": {},
   "outputs": [
    {
     "data": {
      "text/html": [
       "<div>\n",
       "<style scoped>\n",
       "    .dataframe tbody tr th:only-of-type {\n",
       "        vertical-align: middle;\n",
       "    }\n",
       "\n",
       "    .dataframe tbody tr th {\n",
       "        vertical-align: top;\n",
       "    }\n",
       "\n",
       "    .dataframe thead th {\n",
       "        text-align: right;\n",
       "    }\n",
       "</style>\n",
       "<table border=\"1\" class=\"dataframe\">\n",
       "  <thead>\n",
       "    <tr style=\"text-align: right;\">\n",
       "      <th></th>\n",
       "      <th>videoID</th>\n",
       "      <th>batches_in_video</th>\n",
       "      <th>random_order</th>\n",
       "      <th>total_batches</th>\n",
       "    </tr>\n",
       "  </thead>\n",
       "  <tbody>\n",
       "    <tr>\n",
       "      <th>0</th>\n",
       "      <td>6</td>\n",
       "      <td>16</td>\n",
       "      <td>1</td>\n",
       "      <td>16</td>\n",
       "    </tr>\n",
       "    <tr>\n",
       "      <th>1</th>\n",
       "      <td>4</td>\n",
       "      <td>19</td>\n",
       "      <td>2</td>\n",
       "      <td>35</td>\n",
       "    </tr>\n",
       "    <tr>\n",
       "      <th>2</th>\n",
       "      <td>2</td>\n",
       "      <td>38</td>\n",
       "      <td>3</td>\n",
       "      <td>73</td>\n",
       "    </tr>\n",
       "    <tr>\n",
       "      <th>3</th>\n",
       "      <td>3</td>\n",
       "      <td>23</td>\n",
       "      <td>4</td>\n",
       "      <td>96</td>\n",
       "    </tr>\n",
       "    <tr>\n",
       "      <th>4</th>\n",
       "      <td>1</td>\n",
       "      <td>24</td>\n",
       "      <td>5</td>\n",
       "      <td>120</td>\n",
       "    </tr>\n",
       "    <tr>\n",
       "      <th>5</th>\n",
       "      <td>5</td>\n",
       "      <td>20</td>\n",
       "      <td>6</td>\n",
       "      <td>140</td>\n",
       "    </tr>\n",
       "  </tbody>\n",
       "</table>\n",
       "</div>"
      ],
      "text/plain": [
       "   videoID  batches_in_video  random_order  total_batches\n",
       "0        6                16             1             16\n",
       "1        4                19             2             35\n",
       "2        2                38             3             73\n",
       "3        3                23             4             96\n",
       "4        1                24             5            120\n",
       "5        5                20             6            140"
      ]
     },
     "execution_count": 19,
     "metadata": {},
     "output_type": "execute_result"
    }
   ],
   "source": [
    "cls.get_randomized_borderlabels_and_batches_per_video(batch_size=20, training=True)"
   ]
  },
  {
   "cell_type": "code",
   "execution_count": 20,
   "id": "7da7e723-bc69-460d-a0ad-2a2ccbb74d20",
   "metadata": {},
   "outputs": [
    {
     "name": "stdout",
     "output_type": "stream",
     "text": [
      "len called len is: 140\n"
     ]
    },
    {
     "data": {
      "text/plain": [
       "140"
      ]
     },
     "execution_count": 20,
     "metadata": {},
     "output_type": "execute_result"
    }
   ],
   "source": [
    "len(gen)"
   ]
  },
  {
   "cell_type": "code",
   "execution_count": 21,
   "id": "65a0f950-9c9c-4344-bf46-e1f157482cfb",
   "metadata": {},
   "outputs": [
    {
     "data": {
      "text/plain": [
       "140"
      ]
     },
     "execution_count": 21,
     "metadata": {},
     "output_type": "execute_result"
    }
   ],
   "source": [
    "len(gen)"
   ]
  },
  {
   "cell_type": "code",
   "execution_count": null,
   "id": "0464a9f5-685a-4906-bbce-aa90ba397f30",
   "metadata": {},
   "outputs": [],
   "source": []
  },
  {
   "cell_type": "code",
   "execution_count": 22,
   "id": "351e7941-c2db-4b11-89d8-54045a4e756b",
   "metadata": {},
   "outputs": [
    {
     "data": {
      "text/html": [
       "<div>\n",
       "<style scoped>\n",
       "    .dataframe tbody tr th:only-of-type {\n",
       "        vertical-align: middle;\n",
       "    }\n",
       "\n",
       "    .dataframe tbody tr th {\n",
       "        vertical-align: top;\n",
       "    }\n",
       "\n",
       "    .dataframe thead th {\n",
       "        text-align: right;\n",
       "    }\n",
       "</style>\n",
       "<table border=\"1\" class=\"dataframe\">\n",
       "  <thead>\n",
       "    <tr style=\"text-align: right;\">\n",
       "      <th></th>\n",
       "      <th>frameNr</th>\n",
       "      <th>label</th>\n",
       "    </tr>\n",
       "  </thead>\n",
       "  <tbody>\n",
       "    <tr>\n",
       "      <th>0</th>\n",
       "      <td>460</td>\n",
       "      <td>0</td>\n",
       "    </tr>\n",
       "    <tr>\n",
       "      <th>1</th>\n",
       "      <td>461</td>\n",
       "      <td>0</td>\n",
       "    </tr>\n",
       "    <tr>\n",
       "      <th>2</th>\n",
       "      <td>462</td>\n",
       "      <td>0</td>\n",
       "    </tr>\n",
       "    <tr>\n",
       "      <th>3</th>\n",
       "      <td>463</td>\n",
       "      <td>0</td>\n",
       "    </tr>\n",
       "    <tr>\n",
       "      <th>4</th>\n",
       "      <td>464</td>\n",
       "      <td>0</td>\n",
       "    </tr>\n",
       "    <tr>\n",
       "      <th>5</th>\n",
       "      <td>465</td>\n",
       "      <td>1</td>\n",
       "    </tr>\n",
       "    <tr>\n",
       "      <th>6</th>\n",
       "      <td>466</td>\n",
       "      <td>2</td>\n",
       "    </tr>\n",
       "    <tr>\n",
       "      <th>7</th>\n",
       "      <td>467</td>\n",
       "      <td>2</td>\n",
       "    </tr>\n",
       "    <tr>\n",
       "      <th>8</th>\n",
       "      <td>468</td>\n",
       "      <td>2</td>\n",
       "    </tr>\n",
       "    <tr>\n",
       "      <th>9</th>\n",
       "      <td>469</td>\n",
       "      <td>2</td>\n",
       "    </tr>\n",
       "    <tr>\n",
       "      <th>10</th>\n",
       "      <td>470</td>\n",
       "      <td>2</td>\n",
       "    </tr>\n",
       "    <tr>\n",
       "      <th>11</th>\n",
       "      <td>471</td>\n",
       "      <td>2</td>\n",
       "    </tr>\n",
       "    <tr>\n",
       "      <th>12</th>\n",
       "      <td>472</td>\n",
       "      <td>0</td>\n",
       "    </tr>\n",
       "    <tr>\n",
       "      <th>13</th>\n",
       "      <td>473</td>\n",
       "      <td>0</td>\n",
       "    </tr>\n",
       "    <tr>\n",
       "      <th>14</th>\n",
       "      <td>474</td>\n",
       "      <td>0</td>\n",
       "    </tr>\n",
       "    <tr>\n",
       "      <th>15</th>\n",
       "      <td>475</td>\n",
       "      <td>0</td>\n",
       "    </tr>\n",
       "    <tr>\n",
       "      <th>16</th>\n",
       "      <td>476</td>\n",
       "      <td>0</td>\n",
       "    </tr>\n",
       "    <tr>\n",
       "      <th>17</th>\n",
       "      <td>477</td>\n",
       "      <td>0</td>\n",
       "    </tr>\n",
       "    <tr>\n",
       "      <th>18</th>\n",
       "      <td>478</td>\n",
       "      <td>0</td>\n",
       "    </tr>\n",
       "    <tr>\n",
       "      <th>19</th>\n",
       "      <td>479</td>\n",
       "      <td>0</td>\n",
       "    </tr>\n",
       "  </tbody>\n",
       "</table>\n",
       "</div>"
      ],
      "text/plain": [
       "    frameNr  label\n",
       "0       460      0\n",
       "1       461      0\n",
       "2       462      0\n",
       "3       463      0\n",
       "4       464      0\n",
       "5       465      1\n",
       "6       466      2\n",
       "7       467      2\n",
       "8       468      2\n",
       "9       469      2\n",
       "10      470      2\n",
       "11      471      2\n",
       "12      472      0\n",
       "13      473      0\n",
       "14      474      0\n",
       "15      475      0\n",
       "16      476      0\n",
       "17      477      0\n",
       "18      478      0\n",
       "19      479      0"
      ]
     },
     "execution_count": 22,
     "metadata": {},
     "output_type": "execute_result"
    }
   ],
   "source": [
    "cls.get_borderlabels_batch(videoID=1, batch_nr=23, batch_size=20)"
   ]
  },
  {
   "cell_type": "code",
   "execution_count": null,
   "id": "df02db5d-3d94-42bd-aa8d-52bab66276f8",
   "metadata": {},
   "outputs": [],
   "source": []
  },
  {
   "cell_type": "code",
   "execution_count": null,
   "id": "155aff87-2d5f-49ee-ab72-1afd47c9550a",
   "metadata": {},
   "outputs": [],
   "source": []
  },
  {
   "cell_type": "code",
   "execution_count": 23,
   "id": "c5f732e3-ba94-4623-990c-3a711b4af94d",
   "metadata": {},
   "outputs": [],
   "source": [
    "import numpy as np"
   ]
  },
  {
   "cell_type": "code",
   "execution_count": 24,
   "id": "80bb9d40-538a-4dab-a0d6-b05e6be59ab9",
   "metadata": {},
   "outputs": [],
   "source": [
    "y = np.where(y == 9, 3, y)\n",
    "y = np.where(y == 8, 4, y)"
   ]
  },
  {
   "cell_type": "code",
   "execution_count": 25,
   "id": "26e6dd73-d0b5-4ed1-9d7d-402493a0e084",
   "metadata": {},
   "outputs": [
    {
     "data": {
      "text/plain": [
       "array([[[3.],\n",
       "        [3.],\n",
       "        [3.],\n",
       "        [3.],\n",
       "        [3.],\n",
       "        [3.],\n",
       "        [3.],\n",
       "        [3.],\n",
       "        [3.],\n",
       "        [3.],\n",
       "        [3.],\n",
       "        [3.],\n",
       "        [3.],\n",
       "        [3.],\n",
       "        [3.],\n",
       "        [3.],\n",
       "        [3.],\n",
       "        [3.],\n",
       "        [3.],\n",
       "        [3.]]])"
      ]
     },
     "execution_count": 25,
     "metadata": {},
     "output_type": "execute_result"
    }
   ],
   "source": [
    "y"
   ]
  },
  {
   "cell_type": "code",
   "execution_count": 26,
   "id": "65c4e696-c4c4-4d04-89cf-4a17c2fd305c",
   "metadata": {},
   "outputs": [
    {
     "data": {
      "text/plain": [
       "array([ 0,  1,  2,  3,  4,  5,  6,  7,  8,  9, 10, 11, 12, 13, 14, 15, 16,\n",
       "       17, 18, 19])"
      ]
     },
     "execution_count": 26,
     "metadata": {},
     "output_type": "execute_result"
    }
   ],
   "source": [
    "np.arange(0,20)"
   ]
  },
  {
   "cell_type": "code",
   "execution_count": null,
   "id": "ae3a37b4-d59b-4266-b656-6248f068f8d5",
   "metadata": {},
   "outputs": [],
   "source": []
  }
 ],
 "metadata": {
  "kernelspec": {
   "display_name": "Python 3 (ipykernel)",
   "language": "python",
   "name": "python3"
  },
  "language_info": {
   "codemirror_mode": {
    "name": "ipython",
    "version": 3
   },
   "file_extension": ".py",
   "mimetype": "text/x-python",
   "name": "python",
   "nbconvert_exporter": "python",
   "pygments_lexer": "ipython3",
   "version": "3.10.12"
  }
 },
 "nbformat": 4,
 "nbformat_minor": 5
}
