{
 "cells": [
  {
   "cell_type": "code",
   "execution_count": 10,
   "metadata": {},
   "outputs": [],
   "source": [
    "import os\n",
    "from dotenv import load_dotenv\n",
    "load_dotenv()"
   ]
  },
  {
   "cell_type": "code",
   "execution_count": 11,
   "metadata": {},
   "outputs": [
    {
     "data": {
      "text/plain": [
       "['config',\n",
       " '__pycache__',\n",
       " 'pages',\n",
       " 'streamlit.py',\n",
       " 'notebooktests.ipynb',\n",
       " 'old']"
      ]
     },
     "execution_count": 11,
     "metadata": {},
     "output_type": "execute_result"
    }
   ],
   "source": [
    "os.listdir()"
   ]
  },
  {
   "cell_type": "code",
   "execution_count": 12,
   "metadata": {},
   "outputs": [
    {
     "data": {
      "text/plain": [
       "True"
      ]
     },
     "execution_count": 12,
     "metadata": {},
     "output_type": "execute_result"
    }
   ],
   "source": []
  },
  {
   "cell_type": "code",
   "execution_count": 21,
   "metadata": {},
   "outputs": [
    {
     "data": {
      "text/plain": [
       "'/home/miked/Pictures/Screenshots'"
      ]
     },
     "execution_count": 21,
     "metadata": {},
     "output_type": "execute_result"
    }
   ],
   "source": [
    "main_dir = os.getenv(\"STORAGE_DIR\")\n",
    "main_dir"
   ]
  },
  {
   "cell_type": "code",
   "execution_count": 51,
   "metadata": {},
   "outputs": [],
   "source": [
    "folder_content = os.listdir(main_dir)\n",
    "make_full_path = lambda f : os.path.join(main_dir, f)\n",
    "\n",
    "folders = list(filter(lambda f : os.path.isdir(make_full_path(f)) , folder_content))\n",
    "files = list(filter(lambda f : os.path.isfile(make_full_path(f)), folder_content))\n"
   ]
  },
  {
   "cell_type": "code",
   "execution_count": 52,
   "metadata": {},
   "outputs": [
    {
     "data": {
      "text/plain": [
       "['check-for-delete', 'black']"
      ]
     },
     "execution_count": 52,
     "metadata": {},
     "output_type": "execute_result"
    }
   ],
   "source": [
    "folders"
   ]
  },
  {
   "cell_type": "code",
   "execution_count": 53,
   "metadata": {},
   "outputs": [
    {
     "data": {
      "text/plain": [
       "['Screenshot from 2024-10-17 08-19-48.png',\n",
       " 'Screenshot from 2024-10-13 14-03-48.png',\n",
       " 'Screenshot from 2024-10-16 16-15-33.png',\n",
       " 'Screenshot from 2024-10-20 11-43-58.png',\n",
       " '01-dockerlab-2-portainer.png',\n",
       " 'Screenshot from 2024-10-06 13-08-09.png',\n",
       " '01-dockerlab-images.png',\n",
       " 'Screenshot from 2024-10-21 12-04-43.png',\n",
       " 'Screenshot from 2024-10-11 10-46-17.png',\n",
       " 'Screenshot from 2024-10-22 15-15-28.png',\n",
       " 'Screenshot from 2024-10-03 18-30-44.png',\n",
       " 'Screenshot from 2024-10-01 16-30-04.png',\n",
       " 'Screenshot from 2024-10-26 18-18-00.png',\n",
       " 'Screenshot from 2024-10-11 10-18-19.png',\n",
       " 'Screenshot from 2024-10-13 14-47-20.png',\n",
       " '01-dockerlab-9-mocha-tests.png',\n",
       " 'Screenshot from 2024-10-20 15-30-32.png',\n",
       " 'Screenshot from 2024-10-04 10-07-51.png',\n",
       " 'Screenshot from 2024-10-10 14-58-38.png',\n",
       " 'Screenshot from 2024-10-17 08-25-13.png',\n",
       " 'Screenshot from 2024-10-10 17-06-23.png',\n",
       " 'Screenshot from 2024-10-16 16-00-39.png',\n",
       " 'Screenshot from 2024-10-23 18-13-41.png',\n",
       " 'Screenshot from 2024-10-13 09-35-49.png',\n",
       " 'Screenshot from 2024-10-15 08-53-49.png',\n",
       " '01-dockerlab-8-layers-copy-all.png',\n",
       " 'timetable.png',\n",
       " 'Screenshot from 2024-10-22 19-27-58.png',\n",
       " 'Screenshot from 2024-10-10 17-37-46.png',\n",
       " 'Screenshot from 2024-10-23 09-56-14.png',\n",
       " 'Screenshot from 2024-10-14 18-34-19.png',\n",
       " 'Screenshot from 2024-10-16 16-00-52.png',\n",
       " 'Screenshot from 2024-10-20 13-48-20.png',\n",
       " 'Screenshot from 2024-10-20 11-33-30.png',\n",
       " 'Screenshot from 2024-10-16 15-57-54.png',\n",
       " '01-dockerlab-10-dockerhub-image.png',\n",
       " 'Screenshot from 2024-10-14 18-30-39.png',\n",
       " 'Screenshot from 2024-10-04 10-04-22.png',\n",
       " '01-dockerlab-8-layers-first-install-then-copy-rest.png',\n",
       " 'Screenshot from 2024-10-10 17-36-38.png',\n",
       " 'Screenshot from 2024-09-30 13-11-20.png',\n",
       " 'Screenshot from 2024-10-21 10-49-23.png',\n",
       " 'Screenshot from 2024-10-21 16-27-26.png',\n",
       " 'Screenshot from 2024-10-11 10-40-10.png',\n",
       " 'Screenshot from 2024-10-15 09-06-32.png',\n",
       " 'Screenshot from 2024-10-10 11-14-40.png',\n",
       " 'Screenshot from 2024-10-20 12-51-51.png',\n",
       " 'Screenshot from 2024-10-20 13-33-00.png',\n",
       " 'Screenshot from 2024-10-20 11-03-04.png',\n",
       " 'Screenshot from 2024-10-25 11-44-02.png',\n",
       " 'Screenshot from 2024-10-13 16-10-23.png']"
      ]
     },
     "execution_count": 53,
     "metadata": {},
     "output_type": "execute_result"
    }
   ],
   "source": [
    "files"
   ]
  },
  {
   "cell_type": "code",
   "execution_count": null,
   "metadata": {},
   "outputs": [],
   "source": []
  },
  {
   "cell_type": "code",
   "execution_count": null,
   "metadata": {},
   "outputs": [
    {
     "ename": "SyntaxError",
     "evalue": "invalid syntax (1144588115.py, line 1)",
     "output_type": "error",
     "traceback": [
      "\u001b[0;36m  Cell \u001b[0;32mIn[1], line 1\u001b[0;36m\u001b[0m\n\u001b[0;31m    [f\"InstanceID_{i}.0\" for i in 1..5]\u001b[0m\n\u001b[0m                                    ^\u001b[0m\n\u001b[0;31mSyntaxError\u001b[0m\u001b[0;31m:\u001b[0m invalid syntax\n"
     ]
    }
   ],
   "source": [
    "[f\"InstanceID_{i}.0\" for i in 1..5]"
   ]
  },
  {
   "cell_type": "code",
   "execution_count": null,
   "metadata": {},
   "outputs": [],
   "source": []
  }
 ],
 "metadata": {
  "kernelspec": {
   "display_name": "venv",
   "language": "python",
   "name": "python3"
  },
  "language_info": {
   "codemirror_mode": {
    "name": "ipython",
    "version": 3
   },
   "file_extension": ".py",
   "mimetype": "text/x-python",
   "name": "python",
   "nbconvert_exporter": "python",
   "pygments_lexer": "ipython3",
   "version": "3.12.3"
  }
 },
 "nbformat": 4,
 "nbformat_minor": 2
}
