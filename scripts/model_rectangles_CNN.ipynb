{
 "cells": [
  {
   "attachments": {},
   "cell_type": "markdown",
   "id": "d9dec400-6309-4f2e-be85-82da865c874b",
   "metadata": {},
   "source": [
    "# keras CNN predict rectangle box"
   ]
  },
  {
   "cell_type": "code",
   "execution_count": null,
   "id": "866d8eb0-81e5-493a-aac8-c56f0b4aeea5",
   "metadata": {},
   "outputs": [],
   "source": [
    "# !pip3 install tensorflow"
   ]
  },
  {
   "cell_type": "code",
   "execution_count": null,
   "id": "ec73ef6e-5e7e-4e46-be92-312f781394ec",
   "metadata": {},
   "outputs": [],
   "source": [
    "import tensorflow as tf\n",
    "\n",
    "from tensorflow.keras import datasets, layers, models\n",
    "from keras.optimizers import Adam\n",
    "import numpy as np\n",
    "import pandas as pd\n",
    "import matplotlib.pyplot as plt\n",
    "import cv2\n",
    "import os\n",
    "import pickle\n",
    "from utils_misc import pickle_load_or_create\n",
    "\n",
    "# Suppres warnings from positioning like\n",
    "# [h264 @ 0x56bf4fb5da40] reference picture missing during reorder\n",
    "os.environ['OPENCV_LOG_LEVEL'] = 'OFF'\n",
    "os.environ['OPENCV_FFMPEG_LOGLEVEL'] = \"-8\""
   ]
  },
  {
   "cell_type": "code",
   "execution_count": null,
   "id": "15306c03-19e4-4695-9f30-2b3edadc7363",
   "metadata": {},
   "outputs": [],
   "source": [
    "models = [\n",
    "    'rectangles_poging_3'\n",
    "]\n",
    "model_name = models[0]"
   ]
  },
  {
   "cell_type": "code",
   "execution_count": null,
   "id": "b563d9b9-2c59-425d-9564-051e52403c0c",
   "metadata": {},
   "outputs": [],
   "source": [
    "root = '/media/miked/Elements/Judge/FINISHED-DB-READY/'"
   ]
  },
  {
   "cell_type": "code",
   "execution_count": null,
   "id": "d583182b-037f-43d8-9352-7b2981366acb",
   "metadata": {},
   "outputs": [],
   "source": [
    "model = pickle_load_or_create(f\"../models/{model_name}\", lambda: None, True)\n",
    "print(model)"
   ]
  },
  {
   "cell_type": "code",
   "execution_count": null,
   "id": "62270fb6-0959-4b25-b796-16742c062b21",
   "metadata": {},
   "outputs": [],
   "source": [
    "from DataGeneratorFrames import DataGeneratorRectangles"
   ]
  },
  {
   "cell_type": "code",
   "execution_count": null,
   "id": "81b6daf1-ef2e-43c1-95d8-2a960b07955a",
   "metadata": {},
   "outputs": [],
   "source": [
    "config = pickle_load_or_create(model_name, lambda:{\n",
    "    'convolution': (3,3),\n",
    "    'dim':256,\n",
    "    'rgb':True,\n",
    "    'unique_labels': 3,\n",
    "}, config=True)\n",
    "config"
   ]
  },
  {
   "cell_type": "code",
   "execution_count": null,
   "id": "8ca79375-37fd-4973-ae24-e4ac073a35b7",
   "metadata": {},
   "outputs": [],
   "source": [
    "from tensorflow.keras.models import Sequential\n",
    "from tensorflow.keras.layers import Conv2D, MaxPool2D, BatchNormalization, TimeDistributed, Dense, Flatten, Input\n",
    "from tensorflow.keras.optimizers import Adam\n",
    "\n",
    "if model is None:\n",
    "    model = Sequential()\n",
    "    model.add(Conv2D(filters=32, kernel_size=config['convolution'],\n",
    "                     input_shape=(config['dim'], config['dim'], 3 if config['rgb'] else 1),\n",
    "                     activation='sigmoid'))\n",
    "    model.add(BatchNormalization())\n",
    "    \n",
    "    model.add(Conv2D(filters=32, kernel_size=(3, 3), activation='sigmoid'))\n",
    "    model.add(MaxPool2D())\n",
    "    model.add(BatchNormalization())\n",
    "\n",
    "    model.add(Flatten())  # Flatten each frame\n",
    "    model.add(Dense(128, activation='sigmoid'))\n",
    "    model.add(Dense(config['unique_labels'], activation='sigmoid'))\n",
    "    \n",
    "    model.compile(optimizer=Adam(), \n",
    "                  loss='mean_squared_error', \n",
    "                  metrics=['mean_absolute_error'])\n",
    "else:\n",
    "    model = model.model"
   ]
  },
  {
   "cell_type": "code",
   "execution_count": null,
   "id": "7ced48a4-4077-4fc0-bf25-ebc558c8fc12",
   "metadata": {},
   "outputs": [],
   "source": [
    "model.summary()"
   ]
  },
  {
   "cell_type": "code",
   "execution_count": null,
   "id": "17ace776-ef47-4177-ba8a-74ebbd7ae68b",
   "metadata": {},
   "outputs": [],
   "source": []
  },
  {
   "cell_type": "code",
   "execution_count": null,
   "id": "8247597a-b479-4865-8ec8-46fed87d2859",
   "metadata": {},
   "outputs": [],
   "source": []
  },
  {
   "cell_type": "code",
   "execution_count": null,
   "id": "082d01b7-eeb3-4858-9418-8ac0ece0c7f5",
   "metadata": {},
   "outputs": [],
   "source": [
    "# Parameters\n",
    "params = {'dim': (config['dim'],config['dim']),\n",
    "          'n_classes': config['unique_labels'],\n",
    "          'n_channels': 3 if config['rgb'] else 1,\n",
    "          'shuffle': True,\n",
    "}\n",
    "\n",
    "training_generator = DataGeneratorRectangles(rootfolder=root, batch_size=8, train=True, **params)\n",
    "test_generator = DataGeneratorRectangles(rootfolder=root, batch_size=8, train=False, **params)"
   ]
  },
  {
   "cell_type": "code",
   "execution_count": null,
   "id": "95c4a3d8-147f-4586-9e46-d4afcf9888ec",
   "metadata": {},
   "outputs": [],
   "source": [
    "training_generator.batch_order"
   ]
  },
  {
   "cell_type": "code",
   "execution_count": null,
   "id": "22c27684-dffe-4e1e-b13b-e65c6e4dcfdf",
   "metadata": {},
   "outputs": [],
   "source": [
    "X, y = training_generator.__getitem__(25)"
   ]
  },
  {
   "cell_type": "code",
   "execution_count": null,
   "id": "8b63e884-ec87-47c9-ab73-b2d8513ee890",
   "metadata": {},
   "outputs": [],
   "source": [
    "X.shape"
   ]
  },
  {
   "cell_type": "code",
   "execution_count": null,
   "id": "0f683c31-77e9-471f-b857-4bb15857b735",
   "metadata": {},
   "outputs": [],
   "source": [
    "y.shape"
   ]
  },
  {
   "cell_type": "code",
   "execution_count": null,
   "id": "1ba2c862-5576-4999-a5a3-f20623910ef7",
   "metadata": {},
   "outputs": [],
   "source": [
    "from tensorflow.keras.callbacks import EarlyStopping, ReduceLROnPlateau\n",
    "\n",
    "early_stopping = EarlyStopping(monitor='val_loss', patience=10, restore_best_weights=True)\n",
    "reduce_lr = ReduceLROnPlateau(monitor='val_loss', factor=0.2, patience=5, min_lr=1e-6)"
   ]
  },
  {
   "cell_type": "code",
   "execution_count": null,
   "id": "e8e48c69-83b9-460f-9cba-b809b33d3d3c",
   "metadata": {},
   "outputs": [],
   "source": [
    "history = model.fit(training_generator, epochs=3,\n",
    "                    validation_data=test_generator, shuffle=False,\n",
    "                    callbacks=[early_stopping, reduce_lr])"
   ]
  },
  {
   "cell_type": "code",
   "execution_count": null,
   "id": "5ed6bf2c-67fc-4771-adac-b7417ef9a408",
   "metadata": {},
   "outputs": [],
   "source": [
    "pd.DataFrame(history.history)"
   ]
  },
  {
   "cell_type": "code",
   "execution_count": null,
   "id": "4d245812-bff8-4a35-a716-34652fa466c0",
   "metadata": {},
   "outputs": [],
   "source": []
  },
  {
   "cell_type": "code",
   "execution_count": null,
   "id": "d0ddc2ea-006d-4501-a865-8cb56fc42deb",
   "metadata": {},
   "outputs": [],
   "source": [
    "with open(f\"../models/{model_name}.pkl\", 'wb') as handle:\n",
    "    pickle.dump(history, handle)"
   ]
  },
  {
   "cell_type": "code",
   "execution_count": null,
   "id": "974c2c39-50de-43df-a00f-5a445c0b5dfd",
   "metadata": {},
   "outputs": [],
   "source": []
  },
  {
   "cell_type": "code",
   "execution_count": null,
   "id": "eb492dab-1b49-42e4-a133-83e2842292b9",
   "metadata": {},
   "outputs": [],
   "source": []
  },
  {
   "cell_type": "code",
   "execution_count": null,
   "id": "5875fc4d-8e20-4b12-b38a-e37409894867",
   "metadata": {},
   "outputs": [],
   "source": []
  },
  {
   "cell_type": "code",
   "execution_count": null,
   "id": "1c6cbd1b-3b49-48d1-8ed7-8248e19bcd9e",
   "metadata": {},
   "outputs": [],
   "source": []
  },
  {
   "cell_type": "code",
   "execution_count": null,
   "id": "52c51a6a-cc70-4154-ab2c-e48157f470c1",
   "metadata": {},
   "outputs": [],
   "source": []
  },
  {
   "cell_type": "code",
   "execution_count": null,
   "id": "5488afe5-ca6f-4834-a6fc-488ddebf23d4",
   "metadata": {},
   "outputs": [],
   "source": []
  },
  {
   "cell_type": "code",
   "execution_count": null,
   "id": "b2ddb8ee-4088-48e9-bf2c-0d9d8ba8679c",
   "metadata": {},
   "outputs": [],
   "source": []
  }
 ],
 "metadata": {
  "kernelspec": {
   "display_name": "Python 3 (ipykernel)",
   "language": "python",
   "name": "python3"
  },
  "language_info": {
   "codemirror_mode": {
    "name": "ipython",
    "version": 3
   },
   "file_extension": ".py",
   "mimetype": "text/x-python",
   "name": "python",
   "nbconvert_exporter": "python",
   "pygments_lexer": "ipython3",
   "version": "3.10.12"
  }
 },
 "nbformat": 4,
 "nbformat_minor": 5
}
